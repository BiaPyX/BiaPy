{
  "cells": [
    {
      "cell_type": "markdown",
      "metadata": {
        "id": "kcAryclxsQJ5"
      },
      "source": [
        "# **3D Classification pipeline**\n",
        "___  \n",
        "  \n",
        "In this notebook, we demonstrate the use of the [BiaPy](https://biapyx.github.io/) pipeline for **3D classification** of microscopy data.\n",
        "\n",
        "<figure>\n",
        "<center>\n",
        "<img src='https://github.com/BiaPyX/BiaPy-doc/blob/master/source/img/classification/MedMNIST_OrganMNIST3D_img_003_0.gif?raw=true' width='80px'/>\n",
        "<img src='https://github.com/BiaPyX/BiaPy-doc/blob/master/source/img/classification/MedMNIST_OrganMNIST3D_img_012_1.gif?raw=true' width='80px'/>\n",
        "<img src='https://github.com/BiaPyX/BiaPy-doc/blob/master/source/img/classification/MedMNIST_OrganMNIST3D_img_005_2.gif?raw=true' width='80px'/>\n",
        "<img src='https://github.com/BiaPyX/BiaPy-doc/blob/master/source/img/classification/MedMNIST_OrganMNIST3D_img_000_3.gif?raw=true' width='80px'/>\n",
        "<img src='https://github.com/BiaPyX/BiaPy-doc/blob/master/source/img/classification/MedMNIST_OrganMNIST3D_img_002_4.gif?raw=true' width='80px'/>\n",
        "<img src='https://github.com/BiaPyX/BiaPy-doc/blob/master/source/img/classification/MedMNIST_OrganMNIST3D_img_001_5.gif?raw=true' width='80px'/>\n",
        "<img src='https://github.com/BiaPyX/BiaPy-doc/blob/master/source/img/classification/MedMNIST_OrganMNIST3D_img_026_6.gif?raw=true' width='80px'/>\n",
        "<img src='https://github.com/BiaPyX/BiaPy-doc/blob/master/source/img/classification/MedMNIST_OrganMNIST3D_img_031_7.gif?raw=true' width='80px'/>\n",
        "<img src='https://github.com/BiaPyX/BiaPy-doc/blob/master/source/img/classification/MedMNIST_OrganMNIST3D_img_006_8.gif?raw=true' width='80px'/>\n",
        "<img src='https://github.com/BiaPyX/BiaPy-doc/blob/master/source/img/classification/MedMNIST_OrganMNIST3D_img_004_9.gif?raw=true' width='80px'/>\n",
        "<img src='https://github.com/BiaPyX/BiaPy-doc/blob/master/source/img/classification/MedMNIST_OrganMNIST3D_img_015_10.gif?raw=true' width='80px'/>\n",
        "<figcaption><b>Figure 1</b>: Example of a 3D classification problem. These examples belong to various classes and were sourced from  <a href=\"https://medmnist.com/\">MedMNIST v2</a>, specifically from the OrganMNIST3D dataset which is based on 3D computed tomography (CT) images from <a href=\"https://arxiv.org/abs/1901.04056\">Liver Tumor Segmentation Benchmark (LiTS)</a>.</figcaption></center>\n",
        "</figure>\n",
        "\n",
        "Without any coding, we'll guide you step-by-step through the process to:\n",
        "1. **Upload a set of training and test images** along with their corresponding instance label images.\n",
        "2. **Train a Deep Neural Network (DNN)** model using the training set.\n",
        "3. **Apply the model** to the test images.\n",
        "4. **Download the segmentation results** to your local machine.\n",
        "\n",
        "**Disclaimer:** The structure of the notebook is heavily inspired by the fantastic [ZeroCostDL4Mic notebooks](https://github.com/HenriquesLab/ZeroCostDL4Mic/wiki).\n",
        "\n",
        "**Contact:** This notebook was created by [Ignacio Arganda-Carreras](mailto:ignacio.arganda@ehu.eus), [Lenka Backová](mailto:lenka.backova@ehu.eus), [Daniel Franco-Barranco](mailto:daniel.franco@dipc.org) and [Ane Paniagua](mailto:anepaniagua@gmail.com). For suggestions, comments, or issues, please reach out to us via email or [create an issue in BiaPy's repository](https://github.com/BiaPyX/BiaPy/issues). Thank you!"
      ]
    },
    {
      "cell_type": "markdown",
      "metadata": {
        "id": "hG5ClE_HHQaE"
      },
      "source": [
        "## **Expected Inputs and Outputs**\n",
        "___\n",
        "\n",
        "### **Inputs**\n",
        "\n",
        "This notebook expects the following folders as input:\n",
        "\n",
        "1. **Training Raw Images**: Contains the raw 3D images used for training the model.\n",
        "2. **Test Raw Images**: Houses the raw 3D images for testing the model.\n",
        "3. **Output Folder**: A designated path where the classification results will be saved.\n",
        "\n",
        "### **Outputs**\n",
        "\n",
        "Upon successful execution, a new folder will be generated, housing the classification results. The results will be saved in a CSV file, which can be easily downloaded at the end of this notebook.\n",
        "\n",
        "<font color='red'><b>Note:</b></font> For testing purposes, you can utilize the **example datasets provided under 'Manage File(s) Source > Option 3'**.\n",
        "\n",
        "**Data structure**\n",
        "\n",
        "Input images are expected to be separated into different folders, which correspond to their classification label. Each image label is obtained from the directory name in which that image resides. That is why is so important to follow the directory tree as described below. If you have a .csv file with each image label, as is provided by <a class=\"reference external\" href=\"https://medmnist.com/\">MedMNIST v2</a>, you can use our script <a class=\"reference external\" href=\"https://github.com/BiaPyX/BiaPy/blob/master/biapy/utils/scripts/from_class_csv_to_folders.py\">from_class_csv_to_folders.py</a> to create the directory tree as below:\n",
        "```\n",
        "dataset/\n",
        "├── train\n",
        "│   ├── 0\n",
        "│   │   ├── train0_0.tif\n",
        "│   │   ├── train1013_0.tif\n",
        "│   │   ├── . . .\n",
        "│   │   └── train932_0.tif\n",
        "│   ├── 1\n",
        "│   │   ├── train104_1.tif\n",
        "│   │   ├── train1049_1.tif\n",
        "│   │   ├── . . .\n",
        "│   │   └── train964_1.tif\n",
        "| . . .\n",
        "│   └── 6\n",
        "│       ├── train1105_6.tif\n",
        "│       ├── train1148_6.tif\n",
        "│       ├── . . .\n",
        "│       └── train98_6.tif\n",
        "└── test\n",
        "    ├── 0\n",
        "    │   ├── test1008_0.tif\n",
        "    │   ├── test1084_0.tif\n",
        "    │   ├── . . .\n",
        "    │   └── test914_0.tif\n",
        "    ├── 1\n",
        "    │   ├── test10_1.tif\n",
        "    │   ├── test1034_1.tif\n",
        "    │   ├── . . .\n",
        "    │   └── test984_1.tif\n",
        "  . . .\n",
        "    └── 6\n",
        "        ├── test1021_6.tif\n",
        "        ├── test1069_6.tif\n",
        "        ├── . . .\n",
        "        └── test806_6.tif\n",
        "```\n",
        "\n",
        "Here each directory is a number but it can be any string. Notice that they will be considered the class names. Regarding the test, if you have no classes it doesn’t matter if the images are separated in several folders or are all in one folder. But, if `DATA.TEST.LOAD_GT` is enabled, each folder in test path (i.e. ```DATA.TEST.PATH```) will be considered as a class (as done for training and validation).\n",
        "\n",
        "**Input Format Support**\n",
        "\n",
        "This notebook is compatible with a range of input formats. You can use the following file extensions: `.tif`, `.npy` (every extension for 3D images supported by [scikit-image](https://scikit-image.org/docs/stable/api/skimage.io.html#skimage.io.imread)).\n",
        "\n"
      ]
    },
    {
      "cell_type": "markdown",
      "metadata": {
        "id": "xGSj0DrpUJoY"
      },
      "source": [
        "## **Prepare the environment**\n",
        "___\n",
        "\n",
        "Establish connection with Google services. You **must be logged in to Google** to continue.\n",
        "Since this is not Google's own code, you will probably see a message warning you of the dangers of running unfamiliar code. This is completely normal.\n"
      ]
    },
    {
      "cell_type": "markdown",
      "metadata": {
        "id": "4bj_sbDFTiZ7"
      },
      "source": [
        "## **Check for GPU Access**\n",
        "---\n",
        "\n",
        "By default, the session is configured to use Python 3 with GPU acceleration. However, it's a good practice to double-check these settings:\n",
        "\n",
        "1. Navigate to **Runtime** in the top menu and select **Change the Runtime type**.\n",
        "2. Ensure the following settings:\n",
        "   - **Runtime type:** Python 3 (This program is written in the Python 3 programming language.)\n",
        "   - **Accelerator:** GPU (Graphics Processing Unit)\n",
        "\n",
        "This will ensure that you're using Python 3 and taking advantage of GPU acceleration."
      ]
    },
    {
      "cell_type": "markdown",
      "metadata": {
        "id": "XZmI9c09OhSo"
      },
      "source": [
        "## **Manage File(s) Source**\n",
        "---\n",
        "\n",
        "The input folder can be provided using three different options:\n",
        "1. **Direct Upload**: Directly upload the desired folder.\n",
        "2. **Google Drive**: Use a folder stored in your Google Drive.\n",
        "3. **Sample Data**: Use a sample dataset provided by us.\n",
        "\n",
        "The steps you'll need to follow vary depending on your chosen option. These steps are detailed in the subsequent sections.\n"
      ]
    },
    {
      "cell_type": "markdown",
      "metadata": {
        "id": "GPksHcHLO0SU"
      },
      "source": [
        "### **Option 1: Upload Local Files to the Notebook**\n",
        "---\n",
        "\n",
        "You will be prompted to upload your files to Colab and they will be stored under `/content/input/`."
      ]
    },
    {
      "cell_type": "code",
      "execution_count": null,
      "metadata": {
        "cellView": "form",
        "id": "xGS5LCaHPWR8"
      },
      "outputs": [],
      "source": [
        "#@markdown ##Play the cell to upload local files (train raw images)\n",
        "from google.colab import files\n",
        "!mkdir -p /content/input/train\n",
        "%cd /content/input/train\n",
        "uploaded = files.upload()\n",
        "%cd /content"
      ]
    },
    {
      "cell_type": "code",
      "execution_count": null,
      "metadata": {
        "id": "UV7scwnqzvMn"
      },
      "outputs": [],
      "source": [
        "# @title  { display-mode: \"form\" }\n",
        "#@markdown ##Play the cell to upload local files (test raw images)\n",
        "\n",
        "from google.colab import files\n",
        "!mkdir -p /content/input/test\n",
        "%cd /content/input/test\n",
        "uploaded = files.upload()\n",
        "%cd /content"
      ]
    },
    {
      "cell_type": "markdown",
      "metadata": {
        "id": "nLXGd55gUYjK"
      },
      "source": [
        "### **Option 2: Mount Your Google Drive**\n",
        "---\n",
        "\n",
        "If you wish to use this notebook with data from your Google Drive, you'll first need to mount the drive to this notebook.\n",
        "\n",
        "Execute the cell below to initiate the Google Drive mounting process. A link will be displayed click on it. In the new browser window that opens, choose your drive and click 'Allow'. Copy the code that appears, return to this notebook, paste the code into the cell, and press 'Enter'. This action grants Colab access to your Google Drive data.\n",
        "\n",
        "After this process, you can access your data via the **Files** tab, located on the top left of this notebook."
      ]
    },
    {
      "cell_type": "code",
      "execution_count": null,
      "metadata": {
        "cellView": "form",
        "id": "h-yXrZLdUk3Z"
      },
      "outputs": [],
      "source": [
        "#@markdown ##Play the cell to connect your Google Drive to Colab\n",
        "\n",
        "#@markdown * Click on the URL.\n",
        "\n",
        "#@markdown * Sign in your Google Account.\n",
        "\n",
        "#@markdown * Copy the authorization code.\n",
        "\n",
        "#@markdown * Enter the authorization code.\n",
        "\n",
        "#@markdown * Click on \"Files\" site on the right. Refresh the site. Your Google Drive folder should now be available here as \"drive\".\n",
        "\n",
        "# mount user's Google Drive to Google Colab.\n",
        "from google.colab import drive\n",
        "drive.mount('/content/gdrive')"
      ]
    },
    {
      "cell_type": "markdown",
      "metadata": {
        "id": "u9FcxFB3H7az"
      },
      "source": [
        "### **Option 3: Download an Example Dataset**\n",
        "---\n",
        "Don't have data readily available but still want to test the notebook? No problem! Simply execute the following cell to download a sample dataset.\n",
        "\n",
        "Specifically, we'll use the [MedMNIST v2](https://medmnist.com/) dataset, concretely OrganMNIST3D dataset which is publicly available online."
      ]
    },
    {
      "cell_type": "code",
      "execution_count": 1,
      "metadata": {
        "cellView": "form",
        "colab": {
          "base_uri": "https://localhost:8080/"
        },
        "id": "pD3aoo-ZUtW4",
        "outputId": "c9006779-4b28-41fa-c1a1-294d95bec84f"
      },
      "outputs": [
        {
          "output_type": "stream",
          "name": "stdout",
          "text": [
            "Dataset downloaded and unzipped under /content/data\n"
          ]
        }
      ],
      "source": [
        "#@markdown ##Play to download an example dataset\n",
        "!pip install gdown==5.1.0 --quiet\n",
        "import gdown\n",
        "import os\n",
        "\n",
        "os.chdir('/content/')\n",
        "gdown.download(\"https://drive.google.com/uc?id=1pypWJ4Z9sRLPlVHbG6zpwmS6COkm3wUg\", \"DermaMNIST.zip\", quiet=True)\n",
        "\n",
        "!unzip -q DermaMNIST.zip\n",
        "!rm DermaMNIST.zip\n",
        "\n",
        "print('Dataset downloaded and unzipped under /content/data')\n"
      ]
    },
    {
      "cell_type": "markdown",
      "metadata": {
        "id": "FEv7FBXFQvjv"
      },
      "source": [
        "## **Paths for Input Images and Output Files**\n",
        "___\n",
        "\n",
        "Depending on the option you chose for managing file sources, you'll set your paths differently:\n",
        "\n",
        "- **Option 1 (Upload from Local Machine)**:\n",
        "  - Set `train_data_path` to `/content/input/train`\n",
        "  - Set `test_data_path` to `/content/input/test`\n",
        "  - Set `output_path` to `/content/out`\n",
        "  \n",
        "  \n",
        "- **Option 2 (Use Google Drive Data)**:\n",
        "  - Insert the paths to your input files and your desired output directory here, i.e., `/content/gdrive/MyDrive/...`.\n",
        "  \n",
        "- **Option 3 (Use Our Sample Data)**:\n",
        "  - Set `train_data_path` to `/content/data/train`\n",
        "  - Set `test_data_path` to `/content/data/test`\n",
        "  - Set `output_path` to `/content/out`\n",
        "  \n",
        "\n",
        "  **Note**: Ensure you download your results from the `/content/out` directory after the process!\n",
        "\n",
        "**Helpful Tip**: If you're unsure about the paths to your folders, look at the top left of this notebook for a small folder icon. Navigate through the directories until you locate your desired folder. Right-click on it and select \"Copy Path\" to copy the folder's path."
      ]
    },
    {
      "cell_type": "code",
      "execution_count": 2,
      "metadata": {
        "cellView": "form",
        "id": "vl4e0UIGYZcx"
      },
      "outputs": [],
      "source": [
        "#@markdown #####Path to train images\n",
        "train_data_path = '/content/data/train' #@param {type:\"string\"}\n",
        "#@markdown #####Path to validation images (necessary only if you do not want to extract validation from train, i.e. when **validation_from_train** variable below is **False**)\n",
        "val_data_path = '/content/data/validation' #@param {type:\"string\"}\n",
        "#@markdown #####Path to test images\n",
        "test_data_path = '/content/data/test' #@param {type:\"string\"}\n",
        "#@markdown #####Path to store the resulting images (it'll be created if not existing):\n",
        "output_path = '/content/output' #@param {type:\"string\"}"
      ]
    },
    {
      "cell_type": "markdown",
      "source": [
        "## **Dataset Visualization**\n",
        "---"
      ],
      "metadata": {
        "id": "Btutz_-kkL_q"
      }
    },
    {
      "cell_type": "code",
      "source": [
        "# @markdown ## Play to visualize some data samples\n",
        "# @markdown Select the *Set* (training or test) and the *Class* to visualize samples from, and use the *Image index* and *Z value* scrolls to navigate among volumes and slices.\n",
        "\n",
        "# @markdown **Note**: it might take a few seconds to refresh the images.\n",
        "%matplotlib inline\n",
        "import matplotlib\n",
        "import numpy as np\n",
        "from matplotlib import pyplot as plt\n",
        "from skimage.io import imread\n",
        "import os\n",
        "from ipywidgets import interact, IntSlider, Layout, Dropdown, VBox, Output\n",
        "\n",
        "# Initialize id directories\n",
        "classes = sorted(next(os.walk(train_data_path))[1])\n",
        "ids_train = {}\n",
        "ids_test = {}\n",
        "for c in classes:\n",
        "    train_class_path = os.path.join(train_data_path, c)\n",
        "    test_class_path = os.path.join(test_data_path, c)\n",
        "\n",
        "    ids_train[c] = [os.path.join(c, f) for f in sorted(next(os.walk(train_class_path))[2])]\n",
        "    ids_test[c] = [os.path.join(c, f) for f in sorted(next(os.walk(test_class_path))[2])]\n",
        "\n",
        "# Initialize global attributes\n",
        "instance_id = 0\n",
        "class_value = classes[0]\n",
        "input_path = train_data_path\n",
        "ids_input = ids_train\n",
        "input_img = imread(os.path.join(input_path, ids_input[class_value][0]))\n",
        "\n",
        "# Initialize widgets\n",
        "\n",
        "# Dropdown widget to choose training or test set\n",
        "train_test_dropdown = Dropdown(\n",
        "    options=['training-set', 'test-set'],\n",
        "    value='training-set',\n",
        "    description='Set:',\n",
        "    disabled=False,\n",
        ")\n",
        "\n",
        "# Dropdown widget to choose class\n",
        "class_dropdown = Dropdown(\n",
        "    options=classes,\n",
        "    value=classes[0],\n",
        "    description='Class:',\n",
        "    disabled=False,\n",
        ")\n",
        "\n",
        "# Slider widget to choose instance\n",
        "slider= IntSlider(\n",
        "    value=0,\n",
        "    min=1,\n",
        "    max=len(ids_input),\n",
        "    step=1,\n",
        "    description='Image index:',\n",
        "    disabled=False,\n",
        "    continuous_update=False,\n",
        "    orientation='horizontal',\n",
        "    readout=True,\n",
        "    layout=Layout(width='400px', margin = '0 0 0 10px')\n",
        ")\n",
        "\n",
        "slider.style.description_width = 'initial'\n",
        "slider.style.handle_color='blue'\n",
        "\n",
        "# Slider widget to choose Z value\n",
        "sliderZ= IntSlider(\n",
        "    value=0,\n",
        "    min=1,\n",
        "    max=len(input_img),\n",
        "    step=1,\n",
        "    description='Z value:',\n",
        "    disabled=False,\n",
        "    continuous_update=False,\n",
        "    orientation='horizontal',\n",
        "    readout=True,\n",
        "    layout=Layout(width='400px', margin = '0 0 0 10px')\n",
        ")\n",
        "\n",
        "sliderZ.style.description_width = 'initial'\n",
        "sliderZ.style.handle_color='blue'\n",
        "\n",
        "# Initialize Output instance to handle code output cell\n",
        "output = Output()\n",
        "\n",
        "# Function to update path (input_path) and image IDs (ids_input) depending on dropdown\n",
        "def update_paths(change):\n",
        "    global input_path, ids_input, classes\n",
        "    if change.new == 'test-set':\n",
        "        input_path = test_data_path\n",
        "        ids_input = ids_test\n",
        "    else:\n",
        "        input_path = train_data_path\n",
        "        ids_input = ids_train\n",
        "\n",
        "    # Reset class slider value when dropdown changes\n",
        "    class_dropdown.value = classes[0]\n",
        "    update_class({'new': classes[0]})\n",
        "\n",
        "# Function to update class value (class_value) depending on class slider value\n",
        "def update_class(change):\n",
        "    global class_value, ids_input\n",
        "    class_value = change['new']\n",
        "\n",
        "    slider.value = 1\n",
        "    slider.max = len(ids_input[class_value])\n",
        "    update_id({'new': 1})\n",
        "\n",
        "\n",
        "# Function to update image set (input_img) depending on slider value\n",
        "def update_id(change):\n",
        "    index = change['new']\n",
        "\n",
        "    global instance_id\n",
        "    instance_id = index - 1\n",
        "\n",
        "    global input_img, input_path, ids_input, class_value\n",
        "    input_img = imread(os.path.join(input_path, ids_input[class_value][instance_id]))\n",
        "\n",
        "    sliderZ.value = 1\n",
        "    sliderZ.max = len(input_img)\n",
        "    display_images({'new': 1})\n",
        "\n",
        "# Function to display images depending on sliderZ value\n",
        "def display_images(change):\n",
        "    with output:\n",
        "        output.clear_output(wait=True)\n",
        "        index = change['new']\n",
        "\n",
        "        global input_img, gt_img, instance_id\n",
        "\n",
        "        # # Print image path to ensure the image displayed is correct\n",
        "        # global ids_input, class_value\n",
        "        # print(\"Image path:\")\n",
        "        # print(os.path.join(input_path, ids_input[class_value][instance_id]))\n",
        "\n",
        "        # Display images\n",
        "        plt.figure(figsize=(6, 6))\n",
        "\n",
        "        plt.subplot(1, 2, 1)\n",
        "        plt.title(f\"Input image: {instance_id+1}, Z: {index}\")\n",
        "        plt.imshow(input_img[index-1], cmap='gray')\n",
        "        # plt.axis('off')\n",
        "\n",
        "        plt.show()\n",
        "\n",
        "\n",
        "# Create a VBox to hold the dropdown and slider\n",
        "controls = VBox([train_test_dropdown, class_dropdown, slider, sliderZ])\n",
        "display(controls, output)\n",
        "\n",
        "# Link widgets to functions\n",
        "train_test_dropdown.observe(update_paths, names='value')\n",
        "class_dropdown.observe(update_class, names='value')\n",
        "slider.observe(update_id, names='value')\n",
        "sliderZ.observe(display_images, names='value')\n",
        "\n",
        "# Initial display\n",
        "display_images({'new': slider.value})"
      ],
      "metadata": {
        "colab": {
          "base_uri": "https://localhost:8080/",
          "height": 414,
          "referenced_widgets": [
            "3a5994c429614a8abe2934265637ee9c",
            "fb1fbb63080a44638737073932c20d07",
            "94190fdd27ac477fae69819416384fa0",
            "27082774b0864bc08ac976f885f9e74e",
            "6a8e9a9b33bd4becbcca2f644558e8c5",
            "00760bff3a994d4d9495b7802d7aa03a",
            "1a5b48e9c63f40eeade43f339fabb8d4",
            "61db16d74e554529885f37c323436813",
            "0595c895fea74b5cb5283e64f46763d6",
            "ee75ed01f12f4f178558268f4a30b74d",
            "9c247ee8692b4347818ff9824eff2331",
            "71f9d9db332d4da493994dce392e4728",
            "c0f110ffb6754fa193aae289603f812a",
            "ab409b82592a4f84b4f26773581e024a",
            "f0b31f66551d4f668cbb903d1c249e80",
            "ef97a681c9284227b0169e20f27ed9e2"
          ]
        },
        "id": "KdlvA9M-VCH6",
        "outputId": "1010aad5-79a2-4868-8874-bfe6d578ba79",
        "cellView": "form"
      },
      "execution_count": 4,
      "outputs": [
        {
          "output_type": "display_data",
          "data": {
            "text/plain": [
              "VBox(children=(Dropdown(description='Set:', options=('training-set', 'test-set'), value='training-set'), Dropd…"
            ],
            "application/vnd.jupyter.widget-view+json": {
              "version_major": 2,
              "version_minor": 0,
              "model_id": "3a5994c429614a8abe2934265637ee9c"
            }
          },
          "metadata": {}
        },
        {
          "output_type": "display_data",
          "data": {
            "text/plain": [
              "Output()"
            ],
            "application/vnd.jupyter.widget-view+json": {
              "version_major": 2,
              "version_minor": 0,
              "model_id": "f0b31f66551d4f668cbb903d1c249e80"
            }
          },
          "metadata": {}
        }
      ]
    },
    {
      "cell_type": "markdown",
      "metadata": {
        "id": "UKLFbSmB9X8R"
      },
      "source": [
        "## **Install BiaPy**\n",
        "---\n",
        "This might take some minutes depending on the current installed libraries in Colab.\n"
      ]
    },
    {
      "cell_type": "code",
      "execution_count": 5,
      "metadata": {
        "colab": {
          "base_uri": "https://localhost:8080/"
        },
        "id": "p33UIUUWLm3V",
        "outputId": "2fd8d872-1c2f-4758-e077-77e7f0ab5aa1"
      },
      "outputs": [
        {
          "output_type": "stream",
          "name": "stdout",
          "text": [
            "\u001b[33mWARNING: Skipping torchtext as it is not installed.\u001b[0m\u001b[33m\n",
            "\u001b[0mCollecting biapy==3.5.1\n",
            "  Downloading biapy-3.5.1-py3-none-any.whl.metadata (23 kB)\n",
            "Requirement already satisfied: matplotlib>=3.7.1 in /usr/local/lib/python3.10/dist-packages (from biapy==3.5.1) (3.7.1)\n",
            "Collecting scikit-learn>=1.4.0 (from biapy==3.5.1)\n",
            "  Downloading scikit_learn-1.5.1-cp310-cp310-manylinux_2_17_x86_64.manylinux2014_x86_64.whl.metadata (12 kB)\n",
            "Requirement already satisfied: pydot>=1.4.2 in /usr/local/lib/python3.10/dist-packages (from biapy==3.5.1) (1.4.2)\n",
            "Collecting yacs>=0.1.8 (from biapy==3.5.1)\n",
            "  Downloading yacs-0.1.8-py3-none-any.whl.metadata (639 bytes)\n",
            "Requirement already satisfied: tqdm>=4.66.1 in /usr/local/lib/python3.10/dist-packages (from biapy==3.5.1) (4.66.5)\n",
            "Requirement already satisfied: scikit-image>=0.21.0 in /usr/local/lib/python3.10/dist-packages (from biapy==3.5.1) (0.23.2)\n",
            "Collecting edt>=2.3.2 (from biapy==3.5.1)\n",
            "  Downloading edt-2.4.1-cp310-cp310-manylinux_2_17_x86_64.manylinux2014_x86_64.whl.metadata (3.3 kB)\n",
            "Collecting fill-voids>=2.0.6 (from biapy==3.5.1)\n",
            "  Downloading fill_voids-2.0.7-cp310-cp310-manylinux_2_17_x86_64.manylinux2014_x86_64.whl.metadata (5.8 kB)\n",
            "Requirement already satisfied: opencv-python>=4.8.0.76 in /usr/local/lib/python3.10/dist-packages (from biapy==3.5.1) (4.10.0.84)\n",
            "Requirement already satisfied: pandas>=1.5.3 in /usr/local/lib/python3.10/dist-packages (from biapy==3.5.1) (2.1.4)\n",
            "Collecting torchinfo>=1.8.0 (from biapy==3.5.1)\n",
            "  Downloading torchinfo-1.8.0-py3-none-any.whl.metadata (21 kB)\n",
            "Collecting tensorboardX>=2.6.2.2 (from biapy==3.5.1)\n",
            "  Downloading tensorboardX-2.6.2.2-py2.py3-none-any.whl.metadata (5.8 kB)\n",
            "Requirement already satisfied: h5py>=3.9.0 in /usr/local/lib/python3.10/dist-packages (from biapy==3.5.1) (3.11.0)\n",
            "Collecting zarr>=2.16.1 (from biapy==3.5.1)\n",
            "  Downloading zarr-2.18.3-py3-none-any.whl.metadata (5.7 kB)\n",
            "Collecting bioimageio.core==0.6.7 (from biapy==3.5.1)\n",
            "  Downloading bioimageio.core-0.6.7-py3-none-any.whl.metadata (6.5 kB)\n",
            "Collecting imagecodecs>=2024.1.1 (from biapy==3.5.1)\n",
            "  Downloading imagecodecs-2024.6.1-cp310-cp310-manylinux_2_17_x86_64.manylinux2014_x86_64.whl.metadata (18 kB)\n",
            "Requirement already satisfied: numpy<2 in /usr/local/lib/python3.10/dist-packages (from biapy==3.5.1) (1.26.4)\n",
            "Requirement already satisfied: imgaug>=0.4.0 in /usr/local/lib/python3.10/dist-packages (from biapy==3.5.1) (0.4.0)\n",
            "Requirement already satisfied: pooch>=1.8.1 in /usr/local/lib/python3.10/dist-packages (from biapy==3.5.1) (1.8.2)\n",
            "Collecting bioimageio.spec==0.5.3.* (from bioimageio.core==0.6.7->biapy==3.5.1)\n",
            "  Downloading bioimageio.spec-0.5.3.2-py3-none-any.whl.metadata (24 kB)\n",
            "Collecting fire (from bioimageio.core==0.6.7->biapy==3.5.1)\n",
            "  Downloading fire-0.6.0.tar.gz (88 kB)\n",
            "\u001b[2K     \u001b[90m━━━━━━━━━━━━━━━━━━━━━━━━━━━━━━━━━━━━━━━━\u001b[0m \u001b[32m88.4/88.4 kB\u001b[0m \u001b[31m4.6 MB/s\u001b[0m eta \u001b[36m0:00:00\u001b[0m\n",
            "\u001b[?25h  Preparing metadata (setup.py) ... \u001b[?25l\u001b[?25hdone\n",
            "Requirement already satisfied: imageio>=2.5 in /usr/local/lib/python3.10/dist-packages (from bioimageio.core==0.6.7->biapy==3.5.1) (2.34.2)\n",
            "Collecting loguru (from bioimageio.core==0.6.7->biapy==3.5.1)\n",
            "  Downloading loguru-0.7.2-py3-none-any.whl.metadata (23 kB)\n",
            "Collecting pydantic-settings (from bioimageio.core==0.6.7->biapy==3.5.1)\n",
            "  Downloading pydantic_settings-2.4.0-py3-none-any.whl.metadata (3.5 kB)\n",
            "Requirement already satisfied: pydantic in /usr/local/lib/python3.10/dist-packages (from bioimageio.core==0.6.7->biapy==3.5.1) (2.8.2)\n",
            "Collecting python-dotenv (from bioimageio.core==0.6.7->biapy==3.5.1)\n",
            "  Downloading python_dotenv-1.0.1-py3-none-any.whl.metadata (23 kB)\n",
            "Requirement already satisfied: requests in /usr/local/lib/python3.10/dist-packages (from bioimageio.core==0.6.7->biapy==3.5.1) (2.32.3)\n",
            "Collecting ruyaml (from bioimageio.core==0.6.7->biapy==3.5.1)\n",
            "  Downloading ruyaml-0.91.0-py3-none-any.whl.metadata (12 kB)\n",
            "Requirement already satisfied: typing-extensions in /usr/local/lib/python3.10/dist-packages (from bioimageio.core==0.6.7->biapy==3.5.1) (4.12.2)\n",
            "Requirement already satisfied: xarray in /usr/local/lib/python3.10/dist-packages (from bioimageio.core==0.6.7->biapy==3.5.1) (2024.6.0)\n",
            "Requirement already satisfied: annotated-types<1,>=0.5.0 in /usr/local/lib/python3.10/dist-packages (from bioimageio.spec==0.5.3.*->bioimageio.core==0.6.7->biapy==3.5.1) (0.7.0)\n",
            "Collecting email-validator (from bioimageio.spec==0.5.3.*->bioimageio.core==0.6.7->biapy==3.5.1)\n",
            "  Downloading email_validator-2.2.0-py3-none-any.whl.metadata (25 kB)\n",
            "Requirement already satisfied: packaging>=17.0 in /usr/local/lib/python3.10/dist-packages (from bioimageio.spec==0.5.3.*->bioimageio.core==0.6.7->biapy==3.5.1) (24.1)\n",
            "Requirement already satisfied: python-dateutil in /usr/local/lib/python3.10/dist-packages (from bioimageio.spec==0.5.3.*->bioimageio.core==0.6.7->biapy==3.5.1) (2.8.2)\n",
            "Requirement already satisfied: rich in /usr/local/lib/python3.10/dist-packages (from bioimageio.spec==0.5.3.*->bioimageio.core==0.6.7->biapy==3.5.1) (13.8.0)\n",
            "Collecting fastremap (from fill-voids>=2.0.6->biapy==3.5.1)\n",
            "  Downloading fastremap-1.15.0-cp310-cp310-manylinux_2_17_x86_64.manylinux2014_x86_64.whl.metadata (9.6 kB)\n",
            "Requirement already satisfied: six in /usr/local/lib/python3.10/dist-packages (from imgaug>=0.4.0->biapy==3.5.1) (1.16.0)\n",
            "Requirement already satisfied: scipy in /usr/local/lib/python3.10/dist-packages (from imgaug>=0.4.0->biapy==3.5.1) (1.13.1)\n",
            "Requirement already satisfied: Pillow in /usr/local/lib/python3.10/dist-packages (from imgaug>=0.4.0->biapy==3.5.1) (9.4.0)\n",
            "Requirement already satisfied: Shapely in /usr/local/lib/python3.10/dist-packages (from imgaug>=0.4.0->biapy==3.5.1) (2.0.6)\n",
            "Requirement already satisfied: contourpy>=1.0.1 in /usr/local/lib/python3.10/dist-packages (from matplotlib>=3.7.1->biapy==3.5.1) (1.3.0)\n",
            "Requirement already satisfied: cycler>=0.10 in /usr/local/lib/python3.10/dist-packages (from matplotlib>=3.7.1->biapy==3.5.1) (0.12.1)\n",
            "Requirement already satisfied: fonttools>=4.22.0 in /usr/local/lib/python3.10/dist-packages (from matplotlib>=3.7.1->biapy==3.5.1) (4.53.1)\n",
            "Requirement already satisfied: kiwisolver>=1.0.1 in /usr/local/lib/python3.10/dist-packages (from matplotlib>=3.7.1->biapy==3.5.1) (1.4.5)\n",
            "Requirement already satisfied: pyparsing>=2.3.1 in /usr/local/lib/python3.10/dist-packages (from matplotlib>=3.7.1->biapy==3.5.1) (3.1.4)\n",
            "Requirement already satisfied: pytz>=2020.1 in /usr/local/lib/python3.10/dist-packages (from pandas>=1.5.3->biapy==3.5.1) (2024.1)\n",
            "Requirement already satisfied: tzdata>=2022.1 in /usr/local/lib/python3.10/dist-packages (from pandas>=1.5.3->biapy==3.5.1) (2024.1)\n",
            "Requirement already satisfied: platformdirs>=2.5.0 in /usr/local/lib/python3.10/dist-packages (from pooch>=1.8.1->biapy==3.5.1) (4.2.2)\n",
            "Requirement already satisfied: networkx>=2.8 in /usr/local/lib/python3.10/dist-packages (from scikit-image>=0.21.0->biapy==3.5.1) (3.3)\n",
            "Requirement already satisfied: tifffile>=2022.8.12 in /usr/local/lib/python3.10/dist-packages (from scikit-image>=0.21.0->biapy==3.5.1) (2024.8.28)\n",
            "Requirement already satisfied: lazy-loader>=0.4 in /usr/local/lib/python3.10/dist-packages (from scikit-image>=0.21.0->biapy==3.5.1) (0.4)\n",
            "Requirement already satisfied: joblib>=1.2.0 in /usr/local/lib/python3.10/dist-packages (from scikit-learn>=1.4.0->biapy==3.5.1) (1.4.2)\n",
            "Requirement already satisfied: threadpoolctl>=3.1.0 in /usr/local/lib/python3.10/dist-packages (from scikit-learn>=1.4.0->biapy==3.5.1) (3.5.0)\n",
            "Requirement already satisfied: protobuf>=3.20 in /usr/local/lib/python3.10/dist-packages (from tensorboardX>=2.6.2.2->biapy==3.5.1) (3.20.3)\n",
            "Requirement already satisfied: PyYAML in /usr/local/lib/python3.10/dist-packages (from yacs>=0.1.8->biapy==3.5.1) (6.0.2)\n",
            "Collecting asciitree (from zarr>=2.16.1->biapy==3.5.1)\n",
            "  Downloading asciitree-0.3.3.tar.gz (4.0 kB)\n",
            "  Preparing metadata (setup.py) ... \u001b[?25l\u001b[?25hdone\n",
            "Collecting numcodecs>=0.10.0 (from zarr>=2.16.1->biapy==3.5.1)\n",
            "  Downloading numcodecs-0.13.0-cp310-cp310-manylinux_2_17_x86_64.manylinux2014_x86_64.whl.metadata (2.9 kB)\n",
            "Collecting fasteners (from zarr>=2.16.1->biapy==3.5.1)\n",
            "  Downloading fasteners-0.19-py3-none-any.whl.metadata (4.9 kB)\n",
            "Requirement already satisfied: pydantic-core==2.20.1 in /usr/local/lib/python3.10/dist-packages (from pydantic->bioimageio.core==0.6.7->biapy==3.5.1) (2.20.1)\n",
            "Requirement already satisfied: charset-normalizer<4,>=2 in /usr/local/lib/python3.10/dist-packages (from requests->bioimageio.core==0.6.7->biapy==3.5.1) (3.3.2)\n",
            "Requirement already satisfied: idna<4,>=2.5 in /usr/local/lib/python3.10/dist-packages (from requests->bioimageio.core==0.6.7->biapy==3.5.1) (3.8)\n",
            "Requirement already satisfied: urllib3<3,>=1.21.1 in /usr/local/lib/python3.10/dist-packages (from requests->bioimageio.core==0.6.7->biapy==3.5.1) (2.0.7)\n",
            "Requirement already satisfied: certifi>=2017.4.17 in /usr/local/lib/python3.10/dist-packages (from requests->bioimageio.core==0.6.7->biapy==3.5.1) (2024.8.30)\n",
            "Requirement already satisfied: termcolor in /usr/local/lib/python3.10/dist-packages (from fire->bioimageio.core==0.6.7->biapy==3.5.1) (2.4.0)\n",
            "Requirement already satisfied: distro>=1.3.0 in /usr/lib/python3/dist-packages (from ruyaml->bioimageio.core==0.6.7->biapy==3.5.1) (1.7.0)\n",
            "Requirement already satisfied: setuptools>=39.0 in /usr/local/lib/python3.10/dist-packages (from ruyaml->bioimageio.core==0.6.7->biapy==3.5.1) (71.0.4)\n",
            "Collecting dnspython>=2.0.0 (from email-validator->bioimageio.spec==0.5.3.*->bioimageio.core==0.6.7->biapy==3.5.1)\n",
            "  Downloading dnspython-2.6.1-py3-none-any.whl.metadata (5.8 kB)\n",
            "Requirement already satisfied: markdown-it-py>=2.2.0 in /usr/local/lib/python3.10/dist-packages (from rich->bioimageio.spec==0.5.3.*->bioimageio.core==0.6.7->biapy==3.5.1) (3.0.0)\n",
            "Requirement already satisfied: pygments<3.0.0,>=2.13.0 in /usr/local/lib/python3.10/dist-packages (from rich->bioimageio.spec==0.5.3.*->bioimageio.core==0.6.7->biapy==3.5.1) (2.16.1)\n",
            "Requirement already satisfied: mdurl~=0.1 in /usr/local/lib/python3.10/dist-packages (from markdown-it-py>=2.2.0->rich->bioimageio.spec==0.5.3.*->bioimageio.core==0.6.7->biapy==3.5.1) (0.1.2)\n",
            "Downloading biapy-3.5.1-py3-none-any.whl (362 kB)\n",
            "\u001b[2K   \u001b[90m━━━━━━━━━━━━━━━━━━━━━━━━━━━━━━━━━━━━━━━━\u001b[0m \u001b[32m362.7/362.7 kB\u001b[0m \u001b[31m17.4 MB/s\u001b[0m eta \u001b[36m0:00:00\u001b[0m\n",
            "\u001b[?25hDownloading bioimageio.core-0.6.7-py3-none-any.whl (70 kB)\n",
            "\u001b[2K   \u001b[90m━━━━━━━━━━━━━━━━━━━━━━━━━━━━━━━━━━━━━━━━\u001b[0m \u001b[32m70.6/70.6 kB\u001b[0m \u001b[31m5.5 MB/s\u001b[0m eta \u001b[36m0:00:00\u001b[0m\n",
            "\u001b[?25hDownloading bioimageio.spec-0.5.3.2-py3-none-any.whl (179 kB)\n",
            "\u001b[2K   \u001b[90m━━━━━━━━━━━━━━━━━━━━━━━━━━━━━━━━━━━━━━━━\u001b[0m \u001b[32m179.2/179.2 kB\u001b[0m \u001b[31m15.7 MB/s\u001b[0m eta \u001b[36m0:00:00\u001b[0m\n",
            "\u001b[?25hDownloading edt-2.4.1-cp310-cp310-manylinux_2_17_x86_64.manylinux2014_x86_64.whl (3.0 MB)\n",
            "\u001b[2K   \u001b[90m━━━━━━━━━━━━━━━━━━━━━━━━━━━━━━━━━━━━━━━━\u001b[0m \u001b[32m3.0/3.0 MB\u001b[0m \u001b[31m73.2 MB/s\u001b[0m eta \u001b[36m0:00:00\u001b[0m\n",
            "\u001b[?25hDownloading fill_voids-2.0.7-cp310-cp310-manylinux_2_17_x86_64.manylinux2014_x86_64.whl (1.4 MB)\n",
            "\u001b[2K   \u001b[90m━━━━━━━━━━━━━━━━━━━━━━━━━━━━━━━━━━━━━━━━\u001b[0m \u001b[32m1.4/1.4 MB\u001b[0m \u001b[31m68.1 MB/s\u001b[0m eta \u001b[36m0:00:00\u001b[0m\n",
            "\u001b[?25hDownloading imagecodecs-2024.6.1-cp310-cp310-manylinux_2_17_x86_64.manylinux2014_x86_64.whl (39.5 MB)\n",
            "\u001b[2K   \u001b[90m━━━━━━━━━━━━━━━━━━━━━━━━━━━━━━━━━━━━━━━━\u001b[0m \u001b[32m39.5/39.5 MB\u001b[0m \u001b[31m16.1 MB/s\u001b[0m eta \u001b[36m0:00:00\u001b[0m\n",
            "\u001b[?25hDownloading scikit_learn-1.5.1-cp310-cp310-manylinux_2_17_x86_64.manylinux2014_x86_64.whl (13.4 MB)\n",
            "\u001b[2K   \u001b[90m━━━━━━━━━━━━━━━━━━━━━━━━━━━━━━━━━━━━━━━━\u001b[0m \u001b[32m13.4/13.4 MB\u001b[0m \u001b[31m73.8 MB/s\u001b[0m eta \u001b[36m0:00:00\u001b[0m\n",
            "\u001b[?25hDownloading tensorboardX-2.6.2.2-py2.py3-none-any.whl (101 kB)\n",
            "\u001b[2K   \u001b[90m━━━━━━━━━━━━━━━━━━━━━━━━━━━━━━━━━━━━━━━━\u001b[0m \u001b[32m101.7/101.7 kB\u001b[0m \u001b[31m7.8 MB/s\u001b[0m eta \u001b[36m0:00:00\u001b[0m\n",
            "\u001b[?25hDownloading torchinfo-1.8.0-py3-none-any.whl (23 kB)\n",
            "Downloading yacs-0.1.8-py3-none-any.whl (14 kB)\n",
            "Downloading zarr-2.18.3-py3-none-any.whl (210 kB)\n",
            "\u001b[2K   \u001b[90m━━━━━━━━━━━━━━━━━━━━━━━━━━━━━━━━━━━━━━━━\u001b[0m \u001b[32m210.7/210.7 kB\u001b[0m \u001b[31m15.6 MB/s\u001b[0m eta \u001b[36m0:00:00\u001b[0m\n",
            "\u001b[?25hDownloading numcodecs-0.13.0-cp310-cp310-manylinux_2_17_x86_64.manylinux2014_x86_64.whl (8.6 MB)\n",
            "\u001b[2K   \u001b[90m━━━━━━━━━━━━━━━━━━━━━━━━━━━━━━━━━━━━━━━━\u001b[0m \u001b[32m8.6/8.6 MB\u001b[0m \u001b[31m72.2 MB/s\u001b[0m eta \u001b[36m0:00:00\u001b[0m\n",
            "\u001b[?25hDownloading fasteners-0.19-py3-none-any.whl (18 kB)\n",
            "Downloading fastremap-1.15.0-cp310-cp310-manylinux_2_17_x86_64.manylinux2014_x86_64.whl (6.4 MB)\n",
            "\u001b[2K   \u001b[90m━━━━━━━━━━━━━━━━━━━━━━━━━━━━━━━━━━━━━━━━\u001b[0m \u001b[32m6.4/6.4 MB\u001b[0m \u001b[31m71.2 MB/s\u001b[0m eta \u001b[36m0:00:00\u001b[0m\n",
            "\u001b[?25hDownloading loguru-0.7.2-py3-none-any.whl (62 kB)\n",
            "\u001b[2K   \u001b[90m━━━━━━━━━━━━━━━━━━━━━━━━━━━━━━━━━━━━━━━━\u001b[0m \u001b[32m62.5/62.5 kB\u001b[0m \u001b[31m4.4 MB/s\u001b[0m eta \u001b[36m0:00:00\u001b[0m\n",
            "\u001b[?25hDownloading pydantic_settings-2.4.0-py3-none-any.whl (23 kB)\n",
            "Downloading python_dotenv-1.0.1-py3-none-any.whl (19 kB)\n",
            "Downloading ruyaml-0.91.0-py3-none-any.whl (108 kB)\n",
            "\u001b[2K   \u001b[90m━━━━━━━━━━━━━━━━━━━━━━━━━━━━━━━━━━━━━━━━\u001b[0m \u001b[32m108.9/108.9 kB\u001b[0m \u001b[31m9.4 MB/s\u001b[0m eta \u001b[36m0:00:00\u001b[0m\n",
            "\u001b[?25hDownloading email_validator-2.2.0-py3-none-any.whl (33 kB)\n",
            "Downloading dnspython-2.6.1-py3-none-any.whl (307 kB)\n",
            "\u001b[2K   \u001b[90m━━━━━━━━━━━━━━━━━━━━━━━━━━━━━━━━━━━━━━━━\u001b[0m \u001b[32m307.7/307.7 kB\u001b[0m \u001b[31m22.7 MB/s\u001b[0m eta \u001b[36m0:00:00\u001b[0m\n",
            "\u001b[?25hBuilding wheels for collected packages: asciitree, fire\n",
            "  Building wheel for asciitree (setup.py) ... \u001b[?25l\u001b[?25hdone\n",
            "  Created wheel for asciitree: filename=asciitree-0.3.3-py3-none-any.whl size=5033 sha256=ac53e62659f5256f99eb3754de5ae65d4b784a7bbef42c1132d38675f6e0087e\n",
            "  Stored in directory: /root/.cache/pip/wheels/7f/4e/be/1171b40f43b918087657ec57cf3b81fa1a2e027d8755baa184\n",
            "  Building wheel for fire (setup.py) ... \u001b[?25l\u001b[?25hdone\n",
            "  Created wheel for fire: filename=fire-0.6.0-py2.py3-none-any.whl size=117030 sha256=4676cb11ab8bdbb036db68ed2d9b4d124fc195d3f8356381056ca9c1540e2391\n",
            "  Stored in directory: /root/.cache/pip/wheels/d6/6d/5d/5b73fa0f46d01a793713f8859201361e9e581ced8c75e5c6a3\n",
            "Successfully built asciitree fire\n",
            "Installing collected packages: asciitree, yacs, torchinfo, tensorboardX, ruyaml, python-dotenv, numcodecs, loguru, imagecodecs, fire, fastremap, fasteners, edt, dnspython, zarr, scikit-learn, fill-voids, email-validator, pydantic-settings, bioimageio.spec, bioimageio.core, biapy\n",
            "  Attempting uninstall: scikit-learn\n",
            "    Found existing installation: scikit-learn 1.3.2\n",
            "    Uninstalling scikit-learn-1.3.2:\n",
            "      Successfully uninstalled scikit-learn-1.3.2\n",
            "Successfully installed asciitree-0.3.3 biapy-3.5.1 bioimageio.core-0.6.7 bioimageio.spec-0.5.3.2 dnspython-2.6.1 edt-2.4.1 email-validator-2.2.0 fasteners-0.19 fastremap-1.15.0 fill-voids-2.0.7 fire-0.6.0 imagecodecs-2024.6.1 loguru-0.7.2 numcodecs-0.13.0 pydantic-settings-2.4.0 python-dotenv-1.0.1 ruyaml-0.91.0 scikit-learn-1.5.1 tensorboardX-2.6.2.2 torchinfo-1.8.0 yacs-0.1.8 zarr-2.18.3\n",
            "Looking in indexes: https://download.pytorch.org/whl/cu118\n",
            "Requirement already satisfied: torch==2.4.0 in /usr/local/lib/python3.10/dist-packages (2.4.0+cu121)\n",
            "Requirement already satisfied: torchvision==0.19.0 in /usr/local/lib/python3.10/dist-packages (0.19.0+cu121)\n",
            "Requirement already satisfied: torchaudio==2.4.0 in /usr/local/lib/python3.10/dist-packages (2.4.0+cu121)\n",
            "Requirement already satisfied: filelock in /usr/local/lib/python3.10/dist-packages (from torch==2.4.0) (3.15.4)\n",
            "Requirement already satisfied: typing-extensions>=4.8.0 in /usr/local/lib/python3.10/dist-packages (from torch==2.4.0) (4.12.2)\n",
            "Requirement already satisfied: sympy in /usr/local/lib/python3.10/dist-packages (from torch==2.4.0) (1.13.2)\n",
            "Requirement already satisfied: networkx in /usr/local/lib/python3.10/dist-packages (from torch==2.4.0) (3.3)\n",
            "Requirement already satisfied: jinja2 in /usr/local/lib/python3.10/dist-packages (from torch==2.4.0) (3.1.4)\n",
            "Requirement already satisfied: fsspec in /usr/local/lib/python3.10/dist-packages (from torch==2.4.0) (2024.6.1)\n",
            "Requirement already satisfied: numpy in /usr/local/lib/python3.10/dist-packages (from torchvision==0.19.0) (1.26.4)\n",
            "Requirement already satisfied: pillow!=8.3.*,>=5.3.0 in /usr/local/lib/python3.10/dist-packages (from torchvision==0.19.0) (9.4.0)\n",
            "Requirement already satisfied: MarkupSafe>=2.0 in /usr/local/lib/python3.10/dist-packages (from jinja2->torch==2.4.0) (2.1.5)\n",
            "Requirement already satisfied: mpmath<1.4,>=1.1.0 in /usr/local/lib/python3.10/dist-packages (from sympy->torch==2.4.0) (1.3.0)\n",
            "Collecting timm>=0.9.12\n",
            "  Downloading timm-1.0.9-py3-none-any.whl.metadata (42 kB)\n",
            "\u001b[2K     \u001b[90m━━━━━━━━━━━━━━━━━━━━━━━━━━━━━━━━━━━━━━━━\u001b[0m \u001b[32m42.4/42.4 kB\u001b[0m \u001b[31m2.6 MB/s\u001b[0m eta \u001b[36m0:00:00\u001b[0m\n",
            "\u001b[?25hCollecting pytorch-msssim\n",
            "  Downloading pytorch_msssim-1.0.0-py3-none-any.whl.metadata (8.0 kB)\n",
            "Collecting torchmetrics[image]\n",
            "  Downloading torchmetrics-1.4.1-py3-none-any.whl.metadata (20 kB)\n",
            "Requirement already satisfied: torch in /usr/local/lib/python3.10/dist-packages (from timm>=0.9.12) (2.4.0+cu121)\n",
            "Requirement already satisfied: torchvision in /usr/local/lib/python3.10/dist-packages (from timm>=0.9.12) (0.19.0+cu121)\n",
            "Requirement already satisfied: pyyaml in /usr/local/lib/python3.10/dist-packages (from timm>=0.9.12) (6.0.2)\n",
            "Requirement already satisfied: huggingface_hub in /usr/local/lib/python3.10/dist-packages (from timm>=0.9.12) (0.24.6)\n",
            "Requirement already satisfied: safetensors in /usr/local/lib/python3.10/dist-packages (from timm>=0.9.12) (0.4.4)\n",
            "Requirement already satisfied: numpy>1.20.0 in /usr/local/lib/python3.10/dist-packages (from torchmetrics[image]) (1.26.4)\n",
            "Requirement already satisfied: packaging>17.1 in /usr/local/lib/python3.10/dist-packages (from torchmetrics[image]) (24.1)\n",
            "Collecting lightning-utilities>=0.8.0 (from torchmetrics[image])\n",
            "  Downloading lightning_utilities-0.11.7-py3-none-any.whl.metadata (5.2 kB)\n",
            "Requirement already satisfied: scipy>1.0.0 in /usr/local/lib/python3.10/dist-packages (from torchmetrics[image]) (1.13.1)\n",
            "Collecting torch-fidelity<=0.4.0 (from torchmetrics[image])\n",
            "  Downloading torch_fidelity-0.3.0-py3-none-any.whl.metadata (2.0 kB)\n",
            "Requirement already satisfied: setuptools in /usr/local/lib/python3.10/dist-packages (from lightning-utilities>=0.8.0->torchmetrics[image]) (71.0.4)\n",
            "Requirement already satisfied: typing-extensions in /usr/local/lib/python3.10/dist-packages (from lightning-utilities>=0.8.0->torchmetrics[image]) (4.12.2)\n",
            "Requirement already satisfied: filelock in /usr/local/lib/python3.10/dist-packages (from torch->timm>=0.9.12) (3.15.4)\n",
            "Requirement already satisfied: sympy in /usr/local/lib/python3.10/dist-packages (from torch->timm>=0.9.12) (1.13.2)\n",
            "Requirement already satisfied: networkx in /usr/local/lib/python3.10/dist-packages (from torch->timm>=0.9.12) (3.3)\n",
            "Requirement already satisfied: jinja2 in /usr/local/lib/python3.10/dist-packages (from torch->timm>=0.9.12) (3.1.4)\n",
            "Requirement already satisfied: fsspec in /usr/local/lib/python3.10/dist-packages (from torch->timm>=0.9.12) (2024.6.1)\n",
            "Requirement already satisfied: Pillow in /usr/local/lib/python3.10/dist-packages (from torch-fidelity<=0.4.0->torchmetrics[image]) (9.4.0)\n",
            "Requirement already satisfied: tqdm in /usr/local/lib/python3.10/dist-packages (from torch-fidelity<=0.4.0->torchmetrics[image]) (4.66.5)\n",
            "Requirement already satisfied: requests in /usr/local/lib/python3.10/dist-packages (from huggingface_hub->timm>=0.9.12) (2.32.3)\n",
            "Requirement already satisfied: MarkupSafe>=2.0 in /usr/local/lib/python3.10/dist-packages (from jinja2->torch->timm>=0.9.12) (2.1.5)\n",
            "Requirement already satisfied: charset-normalizer<4,>=2 in /usr/local/lib/python3.10/dist-packages (from requests->huggingface_hub->timm>=0.9.12) (3.3.2)\n",
            "Requirement already satisfied: idna<4,>=2.5 in /usr/local/lib/python3.10/dist-packages (from requests->huggingface_hub->timm>=0.9.12) (3.8)\n",
            "Requirement already satisfied: urllib3<3,>=1.21.1 in /usr/local/lib/python3.10/dist-packages (from requests->huggingface_hub->timm>=0.9.12) (2.0.7)\n",
            "Requirement already satisfied: certifi>=2017.4.17 in /usr/local/lib/python3.10/dist-packages (from requests->huggingface_hub->timm>=0.9.12) (2024.8.30)\n",
            "Requirement already satisfied: mpmath<1.4,>=1.1.0 in /usr/local/lib/python3.10/dist-packages (from sympy->torch->timm>=0.9.12) (1.3.0)\n",
            "Downloading timm-1.0.9-py3-none-any.whl (2.3 MB)\n",
            "\u001b[2K   \u001b[90m━━━━━━━━━━━━━━━━━━━━━━━━━━━━━━━━━━━━━━━━\u001b[0m \u001b[32m2.3/2.3 MB\u001b[0m \u001b[31m42.5 MB/s\u001b[0m eta \u001b[36m0:00:00\u001b[0m\n",
            "\u001b[?25hDownloading pytorch_msssim-1.0.0-py3-none-any.whl (7.7 kB)\n",
            "Downloading lightning_utilities-0.11.7-py3-none-any.whl (26 kB)\n",
            "Downloading torch_fidelity-0.3.0-py3-none-any.whl (37 kB)\n",
            "Downloading torchmetrics-1.4.1-py3-none-any.whl (866 kB)\n",
            "\u001b[2K   \u001b[90m━━━━━━━━━━━━━━━━━━━━━━━━━━━━━━━━━━━━━━━━\u001b[0m \u001b[32m866.2/866.2 kB\u001b[0m \u001b[31m43.8 MB/s\u001b[0m eta \u001b[36m0:00:00\u001b[0m\n",
            "\u001b[?25hInstalling collected packages: lightning-utilities, torchmetrics, pytorch-msssim, torch-fidelity, timm\n",
            "Successfully installed lightning-utilities-0.11.7 pytorch-msssim-1.0.0 timm-1.0.9 torch-fidelity-0.3.0 torchmetrics-1.4.1\n"
          ]
        }
      ],
      "source": [
        "# @title  { display-mode: \"form\" }\n",
        "#@markdown ##Play to install BiaPy and its dependences\n",
        "\n",
        "import os\n",
        "import sys\n",
        "import numpy as np\n",
        "from tqdm.notebook import tqdm\n",
        "from skimage.io import imread\n",
        "import ipywidgets as widgets\n",
        "from ipywidgets import Output\n",
        "\n",
        "# Uninstall some packages already installed in Colab for Pytorch 2.1.0\n",
        "!pip uninstall -y torchtext\n",
        "\n",
        "!pip install biapy==3.5.1\n",
        "\n",
        "# Then install Pytorch + CUDA 11.8\n",
        "!pip install torch==2.4.0 torchvision==0.19.0 torchaudio==2.4.0 --index-url https://download.pytorch.org/whl/cu118\n",
        "!pip install 'timm>=0.9.12' torchmetrics[image] pytorch-msssim\n",
        "\n",
        "from biapy import BiaPy\n",
        "\n",
        "changed_source = False"
      ]
    },
    {
      "cell_type": "markdown",
      "metadata": {
        "id": "9ZwoZC20rK42"
      },
      "source": [
        "## **Configure and train the DNN model**\n",
        "[BiaPy](https://biapy.readthedocs.io/en/latest/) contains a few deep learning models to perform 3D image classification.\n",
        "\n",
        "The selection of the model and the pipeline hyperparameters can be configured by editing the YAML configuration file or (easier) by running the next cells.\n",
        "\n"
      ]
    },
    {
      "cell_type": "code",
      "execution_count": 6,
      "metadata": {
        "cellView": "form",
        "id": "m1KgDHWn6bdo",
        "colab": {
          "base_uri": "https://localhost:8080/",
          "height": 92
        },
        "outputId": "75e407c3-5369-4a62-8e9d-224a6f981d48"
      },
      "outputs": [
        {
          "output_type": "display_data",
          "data": {
            "text/plain": [
              "<IPython.core.display.HTML object>"
            ],
            "text/html": [
              "<h1>No BMZ models compatible with BiaPy were found for this task.</h1><br>"
            ]
          },
          "metadata": {}
        }
      ],
      "source": [
        "# @markdown ###OPTIONAL: Check BioImage Model Zoo (BMZ) models compatible with BiaPy\n",
        "# @markdown Use this option to generate a full list of the available BiaPy-compatible models in the BMZ.\n",
        "\n",
        "# @markdown **Important:** To select one of the listed models (if any), you will have to run the next cell and select \"BioImage Model Zoo\" as the source of the model. Then, paste the corresponding model's DOI into the created field.\n",
        "# @markdown <div><img src=\"https://bioimage.io/static/img/bioimage-io-logo.svg\" width=\"600\"/></div>\n",
        "\n",
        "\n",
        "import json\n",
        "from pathlib import Path\n",
        "import pooch\n",
        "import yaml\n",
        "from IPython.display import HTML, display\n",
        "import logging\n",
        "\n",
        "# Change pooch verbosity\n",
        "logger = pooch.get_logger()\n",
        "logger.setLevel(\"WARNING\")\n",
        "\n",
        "# Check the models that BiaPy can consume\n",
        "COLLECTION_URL = \"https://raw.githubusercontent.com/bioimage-io/collection-bioimage-io/gh-pages/collection.json\"\n",
        "collection_path = Path(pooch.retrieve(COLLECTION_URL, known_hash=None))\n",
        "with collection_path.open() as f:\n",
        "    collection = json.load(f)\n",
        "\n",
        "model_urls = [entry[\"rdf_source\"] for entry in collection[\"collection\"] if entry[\"type\"] == \"model\"]\n",
        "\n",
        "model_rdfs = []\n",
        "for mu in model_urls:\n",
        "    with open(Path(pooch.retrieve(mu, known_hash=None))) as stream:\n",
        "        try:\n",
        "            model_rdfs.append(yaml.safe_load(stream))\n",
        "        except yaml.YAMLError as exc:\n",
        "            print(exc)\n",
        "\n",
        "# Check axes, preprocessing functions used and postprocessing.\n",
        "pytorch_models = []\n",
        "for rdf in model_rdfs:\n",
        "    if \"pytorch_state_dict\" in rdf[\"weights\"] and len(rdf['inputs']) == 1:\n",
        "        implemented = True\n",
        "\n",
        "        # Check problem type\n",
        "        if not 'classification' in rdf['tags']:\n",
        "            implemented = False\n",
        "\n",
        "        # Check axes (3D)\n",
        "        if rdf['inputs'][0]['axes'] != \"bczyx\":\n",
        "            implemented = False\n",
        "        if \"3d\" not in rdf['tags']:\n",
        "            implemented = False\n",
        "\n",
        "        # Check preprocessing\n",
        "        if implemented and 'preprocessing' in rdf['inputs'][0]:\n",
        "            for preprocs in rdf['inputs'][0]['preprocessing']:\n",
        "                if preprocs['name'] not in [\"zero_mean_unit_variance\", \"scale_range\"]:\n",
        "                    implemented = False\n",
        "                    break\n",
        "\n",
        "        # Check post-processing\n",
        "        if implemented and 'postprocessing' in rdf['weights']['pytorch_state_dict']['kwargs'] and \\\n",
        "            rdf['weights']['pytorch_state_dict']['kwargs']['postprocessing'] is not None:\n",
        "            implemented = False\n",
        "\n",
        "        if implemented:\n",
        "            pytorch_models.append(rdf)\n",
        "\n",
        "# Print the possible models\n",
        "html = \"<table>\"\n",
        "c = 0\n",
        "for model in pytorch_models:\n",
        "    if c == 0:\n",
        "        html += \"<tr>\"\n",
        "    html += \"<td><p style='color:#2196f3'>%s</p><p>%s (%s)</p><p>DOI: %s</p><img src='%s' height='130'></td>\"%(\n",
        "        model['name'],\n",
        "        model['config']['bioimageio']['nickname'],\n",
        "        model['config']['bioimageio']['nickname_icon'],\n",
        "        model['id'],\n",
        "        model['covers'][0]\n",
        "    )\n",
        "    c +=1\n",
        "    if c == 3:\n",
        "        html += \"</tr>\"\n",
        "        c=0\n",
        "html += \"</table>\"\n",
        "if len( pytorch_models ) == 0:\n",
        "    display(HTML('<h1>No BMZ models compatible with BiaPy were found for this task.</h1><br>'))\n",
        "else:\n",
        "    display(HTML('<h1>List of models that can be used in BiaPy:</h1><br>'))\n",
        "    display(HTML(html))\n"
      ]
    },
    {
      "cell_type": "code",
      "execution_count": null,
      "metadata": {
        "cellView": "form",
        "colab": {
          "base_uri": "https://localhost:8080/",
          "height": 49,
          "referenced_widgets": [
            "e9e69a81ebe44c338fc9a3d398f964c6",
            "2a0c1ce3e2474f579311737b92f04d11",
            "ebbfd264f9af4d1bb6609d0de8320169"
          ]
        },
        "id": "NjDOtMfUmsui",
        "outputId": "41294462-b19d-4e40-aa2a-f969ec3c4efc"
      },
      "outputs": [
        {
          "output_type": "display_data",
          "data": {
            "text/plain": [
              "ToggleButtons(description='Source:', options=('BiaPy', 'BioImage Model Zoo'), tooltips=('Models created during…"
            ],
            "application/vnd.jupyter.widget-view+json": {
              "version_major": 2,
              "version_minor": 0,
              "model_id": "e9e69a81ebe44c338fc9a3d398f964c6"
            }
          },
          "metadata": {}
        }
      ],
      "source": [
        "#@markdown ###Play to select the source to build the model (BiaPy or BioImage Model Zoo) { run: \"auto\", vertical-output: true, display-mode: \"form\" }\n",
        "\n",
        "#@markdown **BiaPy**: to use the models implemented in BiaPy.\n",
        "\n",
        "#@markdown **Bioimage Model Zoo (BMZ)**: to use models from the [BMZ repository](https://bioimage.io/#/). You can run the above cell to generate an updated list of the models that can be used with BiaPy. Copy the DOI from the model and paste it below.\n",
        "import ipywidgets as widgets\n",
        "from ipywidgets import Output\n",
        "\n",
        "changed_source = True\n",
        "exists_tv = False\n",
        "exists_bmz = False\n",
        "# create widgets\n",
        "source = widgets.ToggleButtons(\n",
        "    options=['BiaPy', 'BioImage Model Zoo'],\n",
        "    description='Source:',\n",
        "    disabled=False,\n",
        "    button_style='', # 'success', 'info', 'warning', 'danger' or ''\n",
        "    tooltips=['Models created during this workflow', 'BioImage Model Zoo model'],\n",
        "#     icons=['check'] * 3\n",
        ")\n",
        "\n",
        "bmz = widgets.Text(\n",
        "    # value='10.5281/zenodo.5764892',\n",
        "    placeholder='DOI of BMZ model',\n",
        "    description='DOI:',\n",
        "    disabled=False\n",
        ")\n",
        "\n",
        "# display the first widget\n",
        "display(source)\n",
        "\n",
        "# intialize the output - second widget\n",
        "out = Output()\n",
        "\n",
        "def changed(change):\n",
        "    '''\n",
        "    Monitor change in the first widget\n",
        "    '''\n",
        "    global out\n",
        "    global exists_bmz\n",
        "    if source.value == 'BiaPy':\n",
        "        bmz.layout.display = 'none'\n",
        "        out.clear_output() #clear output\n",
        "        out = Output() # redefine output\n",
        "    else:\n",
        "          bmz.layout.display = 'none'\n",
        "          bmz.layout.display = 'flex'\n",
        "          if not exists_bmz:\n",
        "            out.append_display_data(bmz)\n",
        "            display(out)\n",
        "          exists_bmz = True\n",
        "\n",
        "# monitor the source widget for changes\n",
        "source.observe(changed, 'value')"
      ]
    },
    {
      "cell_type": "markdown",
      "metadata": {
        "id": "cfUyeHEP4vY3"
      },
      "source": [
        "### **Select your parameters**\n",
        "---\n",
        "#### **Name of the model**\n",
        "* **`model_name`:** Use only my_model -style, not my-model (Use \"_\" not \"-\"). Do not use spaces in the name. Avoid using the name of an existing model (saved in the same folder) as it will be overwritten.\n",
        "\n",
        "#### **Data management**\n",
        "\n",
        "* **`validation_from_train`:** Select to extract validation data from the training samples. If is not selected the validation data path must be set in **val_data_path** variable above. **Default value: False**\n",
        "\n",
        "* **`percentage_validation`:**  Input the percentage of your training dataset you want to use to validate the network during the training. **Default value: 10**\n",
        "\n",
        "* **`test_ground_truth`:** Select to use test data folder order as the ground truth class to measure the performance of the model's result. **Default value: True**\n",
        "\n",
        "\n",
        "#### **Basic training parameters**\n",
        "* **`number_of_classes`:** Input number of classes present in the problem. It must be equal to the number of subfolders in training and validation (if not extracted from train) folders.\n",
        "\n",
        "* **`input_channels`:** Input the number of channels of your images (grayscale = 1, RGB = 3). **Default value: 1**\n",
        "\n",
        "* **`number_of_epochs`:** Input how many epochs (rounds) the network will be trained. **Default value: 10**\n",
        "\n",
        "* **`patience`:**  Input how many epochs you want to wait without the model improving its results in the validation set to stop training. **Default value: 10**\n",
        "\n",
        "#### **Advanced Parameters - experienced users only**\n",
        "* **`model_architecture`:**  Select the architecture of the DNN used as backbone of the pipeline. Options: ViT and Simple CNN. **Default value: Simple CNN**\n",
        "\n",
        "* **`batch_size:`** This parameter defines the number of patches seen in each training step. Reducing or increasing the **batch size** may slow or speed up your training, respectively, and can influence network performance. **Default value: 8**\n",
        "\n",
        "* **`patch_size`:** Input the size of the patches use to train your model (length in pixels in X and Y). The value should be smaller or equal to the dimensions of the image. **Default value: 28**\n",
        "\n",
        "* **`optimizer`:** Select the optimizer used to train your model. Options: ADAM, ADAMW, Stochastic Gradient Descent (SGD). ADAM usually converges faster, while ADAMW provides a balance between fast convergence and better handling of weight decay regularization. SGD is known for better generalization. **Default value: ADAMW**\n",
        "\n",
        "* **`initial_learning_rate`:** Input the initial value to be used as learning rate. If you select ADAM or ADAMW as optimizer, this value should be around 10e-4. **Default value: 0.0001**\n",
        "\n",
        "* **`learning_rate_scheduler`:** Select to adjust the learning rate between epochs. Options: \"None\", \"Reduce on plateau\", \"One cycle\", \"Warm-up cosine decay\". **Default value: One cycle**\n",
        "\n",
        "* **`aggressive_data_augmentation`:** Select to apply more aggressive data augmentation (CutBlur, CutNoise, GridMask, etc.) during training. Otherwise, simple flips and rotations will be applied. **Default value: False**\n",
        "\n",
        "* **`test_time_augmentation`:** Select to apply augmentation (flips and rotations) at test time. It usually provides more robust results but uses more time to produce each result. **Default value: False**"
      ]
    },
    {
      "cell_type": "code",
      "execution_count": 7,
      "metadata": {
        "cellView": "form",
        "id": "LFEMdNlFkAxs"
      },
      "outputs": [],
      "source": [
        "#@markdown ###Name of the model:\n",
        "model_name = \"my_3d_classification\" #@param {type:\"string\"}\n",
        "\n",
        "#@markdown ### Data management:\n",
        "validation_from_train = False #@param {type:\"boolean\"}\n",
        "percentage_validation =  20 #@param {type:\"number\"}\n",
        "test_ground_truth = True #@param {type:\"boolean\"}\n",
        "\n",
        "#@markdown ### Basic training parameters:\n",
        "number_of_classes = 11#@param {type:\"number\"}\n",
        "input_channels = 1 #@param {type:\"number\"}\n",
        "number_of_epochs =  10#@param {type:\"number\"}\n",
        "patience =  10#@param {type:\"number\"}\n",
        "\n",
        "#@markdown ### Advanced training parameters:\n",
        "\n",
        "model_architecture = \"Simple CNN\" #@param [\"ViT\", \"Simple CNN\"]\n",
        "\n",
        "batch_size =  8#@param {type:\"number\"}\n",
        "patch_size = 28 #@param {type:\"number\"}\n",
        "\n",
        "optimizer = \"ADAMW\" #@param [\"ADAMW\", \"SGD\",\"ADAM\"]\n",
        "initial_learning_rate = 0.0001 #@param {type:\"number\"}\n",
        "learning_rate_scheduler = \"One cycle\" #@param [\"None\", \"Reduce on plateau\",\"One cycle\", \"Warm-up cosine decay\"]\n",
        "aggressive_data_augmentation = False #@param {type:\"boolean\"}\n",
        "test_time_augmentation = False #@param {type:\"boolean\"}\n",
        "\n",
        "checkpoint_path = ''"
      ]
    },
    {
      "cell_type": "code",
      "execution_count": null,
      "metadata": {
        "cellView": "form",
        "id": "AuCIPc53WWCl"
      },
      "outputs": [],
      "source": [
        "#@markdown ##OPTIONAL: Play the cell to upload initial model weights\n",
        "#@markdown Use this option to start the training from a **pre-trained model** if you have one. Otherwise, skip this cell.\n",
        "\n",
        "#@markdown **Important**: remember the weights must correspond to the selected architecture, patch size and number of input channels. Otherwise, an error will be shown when training.\n",
        "from google.colab import files\n",
        "\n",
        "#s.chdir('/content/')\n",
        "\n",
        "uploaded = files.upload()\n",
        "\n",
        "if len( uploaded ) > 0:\n",
        "    checkpoint_path = '/content/' + list(uploaded.keys())[0]\n",
        "\n",
        "    # open previously configured file, if exists\n",
        "    job_name = model_name\n",
        "    yaml_file = \"/content/\"+str(job_name)+\".yaml\"\n",
        "\n",
        "    # edit previous configuration file if it exists to load the checkpoint model\n",
        "    if os.path.exists( yaml_file ):\n",
        "        import yaml\n",
        "        with open( yaml_file, 'r') as stream:\n",
        "            try:\n",
        "                biapy_config = yaml.safe_load(stream)\n",
        "            except yaml.YAMLError as exc:\n",
        "                print(exc)\n",
        "        biapy_config['PATHS'] = {}\n",
        "        biapy_config['PATHS']['CHECKPOINT_FILE'] = checkpoint_path\n",
        "        biapy_config['MODEL'] = {}\n",
        "        biapy_config['MODEL']['LOAD_CHECKPOINT'] = True\n",
        "\n",
        "        # save file\n",
        "        with open( yaml_file, 'w') as outfile:\n",
        "            yaml.dump(biapy_config, outfile, default_flow_style=False)\n",
        "\n",
        "    print( \"Pre-trained model loaded and ready to re-train.\")"
      ]
    },
    {
      "cell_type": "markdown",
      "metadata": {
        "id": "oDNWZYlu4zSG"
      },
      "source": [
        "### **Train the model**\n",
        "---"
      ]
    },
    {
      "cell_type": "code",
      "execution_count": 8,
      "metadata": {
        "cellView": "form",
        "colab": {
          "base_uri": "https://localhost:8080/",
          "height": 1000
        },
        "id": "CZKK9EoVmH-Y",
        "outputId": "ed4f58a9-7d93-44c9-e663-99a62904f642"
      },
      "outputs": [
        {
          "output_type": "stream",
          "name": "stdout",
          "text": [
            "Training configuration finished.\n",
            "Date: 2024-09-06 08:52:39\n",
            "Arguments: Namespace(config='/content/my_3d_classification.yaml', result_dir='/content/output', name='my_3d_classification', run_id=1, gpu=0, world_size=1, local_rank=-1, dist_on_itp=False, dist_url='env://', dist_backend='nccl')\n",
            "Job: my_3d_classification_1\n",
            "Python       : 3.10.12 (main, Jul 29 2024, 16:56:48) [GCC 11.4.0]\n",
            "PyTorch:  2.4.0+cu121\n",
            "Not using distributed mode\n",
            "[08:52:39.148243] Configuration details:\n",
            "[08:52:39.149177] AUGMENTOR:\n",
            "  AFFINE_MODE: reflect\n",
            "  AUG_NUM_SAMPLES: 10\n",
            "  AUG_SAMPLES: True\n",
            "  BRIGHTNESS: False\n",
            "  BRIGHTNESS_FACTOR: (-0.1, 0.1)\n",
            "  BRIGHTNESS_MODE: 3D\n",
            "  CBLUR_DOWN_RANGE: (2, 8)\n",
            "  CBLUR_INSIDE: True\n",
            "  CBLUR_SIZE: (0.2, 0.4)\n",
            "  CHANNEL_SHUFFLE: False\n",
            "  CMIX_SIZE: (0.2, 0.4)\n",
            "  CNOISE_NB_ITERATIONS: (1, 3)\n",
            "  CNOISE_SCALE: (0.05, 0.1)\n",
            "  CNOISE_SIZE: (0.2, 0.4)\n",
            "  CONTRAST: False\n",
            "  CONTRAST_FACTOR: (-0.1, 0.1)\n",
            "  CONTRAST_MODE: 3D\n",
            "  COUT_APPLY_TO_MASK: False\n",
            "  COUT_CVAL: 0.0\n",
            "  COUT_NB_ITERATIONS: (1, 3)\n",
            "  COUT_SIZE: (0.05, 0.3)\n",
            "  CUTBLUR: False\n",
            "  CUTMIX: False\n",
            "  CUTNOISE: False\n",
            "  CUTOUT: False\n",
            "  DA_PROB: 0.5\n",
            "  DRAW_GRID: True\n",
            "  DROPOUT: False\n",
            "  DROP_RANGE: (0, 0.2)\n",
            "  ELASTIC: False\n",
            "  ENABLE: True\n",
            "  E_ALPHA: (12, 16)\n",
            "  E_MODE: constant\n",
            "  E_SIGMA: 4\n",
            "  GAMMA_CONTRAST: False\n",
            "  GAUSSIAN_NOISE: False\n",
            "  GAUSSIAN_NOISE_MEAN: 0.0\n",
            "  GAUSSIAN_NOISE_USE_INPUT_IMG_MEAN_AND_VAR: False\n",
            "  GAUSSIAN_NOISE_VAR: 0.05\n",
            "  GC_GAMMA: (1.25, 1.75)\n",
            "  GRAYSCALE: False\n",
            "  GRIDMASK: False\n",
            "  GRID_D_RANGE: (0.4, 1)\n",
            "  GRID_INVERT: False\n",
            "  GRID_RATIO: 0.6\n",
            "  GRID_ROTATE: 1.0\n",
            "  G_BLUR: False\n",
            "  G_SIGMA: (1.0, 2.0)\n",
            "  HFLIP: True\n",
            "  MB_KERNEL: (3, 7)\n",
            "  MEDIAN_BLUR: False\n",
            "  MISALIGNMENT: False\n",
            "  MISSING_SECTIONS: False\n",
            "  MISSP_ITERATIONS: (10, 30)\n",
            "  MOTB_K_RANGE: (8, 12)\n",
            "  MOTION_BLUR: False\n",
            "  MS_DISPLACEMENT: 16\n",
            "  MS_ROTATE_RATIO: 0.5\n",
            "  PEPPER: False\n",
            "  PEPPER_AMOUNT: 0.05\n",
            "  POISSON_NOISE: False\n",
            "  RANDOM_ROT: True\n",
            "  RANDOM_ROT_RANGE: (-180, 180)\n",
            "  ROT90: False\n",
            "  SALT: False\n",
            "  SALT_AMOUNT: 0.05\n",
            "  SALT_AND_PEPPER: False\n",
            "  SALT_AND_PEPPER_AMOUNT: 0.05\n",
            "  SALT_AND_PEPPER_PROP: 0.5\n",
            "  SHEAR: False\n",
            "  SHEAR_RANGE: (-20, 20)\n",
            "  SHIFT: False\n",
            "  SHIFT_RANGE: (0.1, 0.2)\n",
            "  SHUFFLE_TRAIN_DATA_EACH_EPOCH: True\n",
            "  SHUFFLE_VAL_DATA_EACH_EPOCH: False\n",
            "  VFLIP: True\n",
            "  ZFLIP: True\n",
            "  ZOOM: False\n",
            "  ZOOM_IN_Z: False\n",
            "  ZOOM_RANGE: (0.8, 1.2)\n",
            "DATA:\n",
            "  CHECK_GENERATORS: False\n",
            "  EXTRACT_RANDOM_PATCH: False\n",
            "  FORCE_RGB: False\n",
            "  NORMALIZATION:\n",
            "    APPLICATION_MODE: image\n",
            "    CUSTOM_MEAN: -1.0\n",
            "    CUSTOM_STD: -1.0\n",
            "    PERC_CLIP: False\n",
            "    PERC_LOWER: -1.0\n",
            "    PERC_UPPER: -1.0\n",
            "    TYPE: div\n",
            "  PATCH_SIZE: (28, 28, 28, 1)\n",
            "  PREPROCESS:\n",
            "    CANNY:\n",
            "      ENABLE: False\n",
            "      HIGH_THRESHOLD: None\n",
            "      LOW_THRESHOLD: None\n",
            "    CLAHE:\n",
            "      CLIP_LIMIT: 0.01\n",
            "      ENABLE: False\n",
            "      KERNEL_SIZE: None\n",
            "    GAUSSIAN_BLUR:\n",
            "      CHANNEL_AXIS: None\n",
            "      ENABLE: False\n",
            "      MODE: nearest\n",
            "      SIGMA: 1\n",
            "    MATCH_HISTOGRAM:\n",
            "      ENABLE: False\n",
            "      REFERENCE_PATH: user_data/test/x\n",
            "    MEDIAN_BLUR:\n",
            "      ENABLE: False\n",
            "    RESIZE:\n",
            "      ANTI_ALIASING: False\n",
            "      CLIP: True\n",
            "      CVAL: 0.0\n",
            "      ENABLE: False\n",
            "      MODE: reflect\n",
            "      ORDER: 1\n",
            "      OUTPUT_SHAPE: (512, 512)\n",
            "      PRESERVE_RANGE: True\n",
            "    TEST: False\n",
            "    TRAIN: False\n",
            "    VAL: False\n",
            "    ZOOM:\n",
            "      ENABLE: False\n",
            "      ZOOM_FACTOR: [1, 1, 1, 1, 1]\n",
            "  PROBABILITY_MAP: False\n",
            "  REFLECT_TO_COMPLETE_SHAPE: False\n",
            "  TEST:\n",
            "    ARGMAX_TO_OUTPUT: True\n",
            "    BINARY_MASKS: /content/data/test/../bin_mask\n",
            "    CHECK_DATA: True\n",
            "    DETECTION_MASK_DIR: user_data/test/y_detection_masks\n",
            "    GT_PATH: user_data/test/y\n",
            "    INSTANCE_CHANNELS_DIR: /content/data/test_BC_thick\n",
            "    INSTANCE_CHANNELS_MASK_DIR: user_data/test/y_BC_thick\n",
            "    IN_MEMORY: True\n",
            "    LOAD_GT: True\n",
            "    MEDIAN_PADDING: False\n",
            "    OVERLAP: (0, 0, 0)\n",
            "    PADDING: (3, 3, 3)\n",
            "    PATH: /content/data/test\n",
            "    RESOLUTION: (1, 1, 1)\n",
            "    SSL_SOURCE_DIR: /content/data/test_ssl_source\n",
            "    USE_VAL_AS_TEST: False\n",
            "  TRAIN:\n",
            "    CHECK_DATA: True\n",
            "    DETECTION_MASK_DIR: user_data/train/y_detection_masks\n",
            "    GT_PATH: user_data/train/y\n",
            "    INPUT_IMG_AXES_ORDER: TZCYX\n",
            "    INPUT_MASK_AXES_ORDER: TZCYX\n",
            "    INPUT_ZARR_MULTIPLE_DATA: False\n",
            "    INPUT_ZARR_MULTIPLE_DATA_GT_PATH: \n",
            "    INPUT_ZARR_MULTIPLE_DATA_RAW_PATH: \n",
            "    INSTANCE_CHANNELS_DIR: /content/data/train_BC_thick\n",
            "    INSTANCE_CHANNELS_MASK_DIR: user_data/train/y_BC_thick\n",
            "    IN_MEMORY: True\n",
            "    MINIMUM_FOREGROUND_PER: -1.0\n",
            "    OVERLAP: (0, 0, 0)\n",
            "    PADDING: (0, 0, 0)\n",
            "    PATH: /content/data/train\n",
            "    REPLICATE: 0\n",
            "    RESOLUTION: (1, 1, 1)\n",
            "    SSL_SOURCE_DIR: /content/data/train_ssl_source\n",
            "  VAL:\n",
            "    CROSS_VAL: False\n",
            "    CROSS_VAL_FOLD: 1\n",
            "    CROSS_VAL_NFOLD: 5\n",
            "    DETECTION_MASK_DIR: user_data/val/y_detection_masks\n",
            "    DIST_EVAL: True\n",
            "    FROM_TRAIN: False\n",
            "    GT_PATH: user_data/val/y\n",
            "    INPUT_IMG_AXES_ORDER: TZCYX\n",
            "    INPUT_MASK_AXES_ORDER: TZCYX\n",
            "    INPUT_ZARR_MULTIPLE_DATA: False\n",
            "    INPUT_ZARR_MULTIPLE_DATA_GT_PATH: \n",
            "    INPUT_ZARR_MULTIPLE_DATA_RAW_PATH: \n",
            "    INSTANCE_CHANNELS_DIR: /content/data/validation_BC_thick\n",
            "    INSTANCE_CHANNELS_MASK_DIR: user_data/val/y_BC_thick\n",
            "    IN_MEMORY: True\n",
            "    OVERLAP: (0, 0, 0)\n",
            "    PADDING: (0, 0, 0)\n",
            "    PATH: /content/data/validation\n",
            "    RANDOM: True\n",
            "    RESOLUTION: (1, 1, 1)\n",
            "    SPLIT_TRAIN: 0.2\n",
            "    SSL_SOURCE_DIR: /content/data/validation_ssl_source\n",
            "  W_BACKGROUND: 0.06\n",
            "  W_FOREGROUND: 0.94\n",
            "LOG:\n",
            "  CHART_CREATION_FREQ: 5\n",
            "  LOG_DIR: /content/output/my_3d_classification/train_logs\n",
            "  LOG_FILE_PREFIX: my_3d_classification_1\n",
            "  TENSORBOARD_LOG_DIR: /content/output/my_3d_classification/results/my_3d_classification_1/tensorboard\n",
            "LOSS:\n",
            "  CLASS_REBALANCE: False\n",
            "  TYPE: CE\n",
            "  WEIGHTS: [0.66, 0.34]\n",
            "MODEL:\n",
            "  ACTIVATION: ELU\n",
            "  ARCHITECTURE: simple_cnn\n",
            "  BMZ:\n",
            "    SOURCE_MODEL_ID: \n",
            "  CONVNEXT_LAYERS: [2, 2, 2, 2, 2]\n",
            "  CONVNEXT_LAYER_SCALE: 1e-06\n",
            "  CONVNEXT_SD_PROB: 0.1\n",
            "  CONVNEXT_STEM_K_SIZE: 2\n",
            "  DROPOUT_VALUES: [0.0, 0.0, 0.0, 0.0, 0.0]\n",
            "  FEATURE_MAPS: [16, 32, 64, 128, 256]\n",
            "  ISOTROPY: [True, True, True, True, True]\n",
            "  KERNEL_SIZE: 3\n",
            "  LARGER_IO: False\n",
            "  LAST_ACTIVATION: sigmoid\n",
            "  LOAD_CHECKPOINT: False\n",
            "  LOAD_CHECKPOINT_EPOCH: best_on_val\n",
            "  LOAD_CHECKPOINT_ONLY_WEIGHTS: True\n",
            "  MAE_DEC_HIDDEN_SIZE: 512\n",
            "  MAE_DEC_MLP_DIMS: 2048\n",
            "  MAE_DEC_NUM_HEADS: 16\n",
            "  MAE_DEC_NUM_LAYERS: 8\n",
            "  MAE_MASK_RATIO: 0.5\n",
            "  MAE_MASK_TYPE: grid\n",
            "  NORMALIZATION: bn\n",
            "  N_CLASSES: 11\n",
            "  SAVE_CKPT_FREQ: -1\n",
            "  SOURCE: biapy\n",
            "  TORCHVISION_MODEL_NAME: \n",
            "  UNETR_DEC_ACTIVATION: relu\n",
            "  UNETR_DEC_KERNEL_SIZE: 3\n",
            "  UNETR_VIT_HIDD_MULT: 3\n",
            "  UNETR_VIT_NUM_FILTERS: 16\n",
            "  UNET_SR_UPSAMPLE_POSITION: pre\n",
            "  UPSAMPLE_LAYER: convtranspose\n",
            "  VIT_EMBED_DIM: 768\n",
            "  VIT_MLP_RATIO: 4.0\n",
            "  VIT_MODEL: custom\n",
            "  VIT_NORM_EPS: 1e-06\n",
            "  VIT_NUM_HEADS: 12\n",
            "  VIT_NUM_LAYERS: 12\n",
            "  VIT_TOKEN_SIZE: 16\n",
            "  Z_DOWN: [2, 2, 2, 2]\n",
            "PATHS:\n",
            "  CHARTS: /content/output/my_3d_classification/results/my_3d_classification_1/charts\n",
            "  CHECKPOINT: /content/output/my_3d_classification/checkpoints\n",
            "  CHECKPOINT_FILE: \n",
            "  DA_SAMPLES: /content/output/my_3d_classification/results/my_3d_classification_1/aug\n",
            "  GEN_CHECKS: /content/output/my_3d_classification/results/my_3d_classification_1/gen_check\n",
            "  GEN_MASK_CHECKS: /content/output/my_3d_classification/results/my_3d_classification_1/gen_mask_check\n",
            "  LWR_X_FILE: /content/output/my_3d_classification/checkpoints/lower_bound_X_perc.npy\n",
            "  LWR_Y_FILE: /content/output/my_3d_classification/checkpoints/lower_bound_Y_perc.npy\n",
            "  MAE_OUT_DIR: /content/output/my_3d_classification/results/my_3d_classification_1/MAE_checks\n",
            "  MEAN_INFO_FILE: /content/output/my_3d_classification/checkpoints/normalization_mean_value.npy\n",
            "  PROB_MAP_DIR: /content/output/my_3d_classification/prob_map\n",
            "  PROB_MAP_FILENAME: prob_map.npy\n",
            "  PROFILER: /content/output/my_3d_classification/results/my_3d_classification_1/profiler\n",
            "  RESULT_DIR:\n",
            "    AS_3D_STACK: /content/output/my_3d_classification/results/my_3d_classification_1/as_3d_stack\n",
            "    AS_3D_STACK_BIN: /content/output/my_3d_classification/results/my_3d_classification_1/as_3d_stack_binarized\n",
            "    AS_3D_STACK_POST_PROCESSING: /content/output/my_3d_classification/results/my_3d_classification_1/as_3d_stack_post_processing\n",
            "    DET_ASSOC_POINTS: /content/output/my_3d_classification/results/my_3d_classification_1/point_associations\n",
            "    DET_LOCAL_MAX_COORDS_CHECK: /content/output/my_3d_classification/results/my_3d_classification_1/per_image_local_max_check\n",
            "    FULL_IMAGE: /content/output/my_3d_classification/results/my_3d_classification_1/full_image\n",
            "    FULL_IMAGE_BIN: /content/output/my_3d_classification/results/my_3d_classification_1/full_image_binarized\n",
            "    FULL_IMAGE_INSTANCES: /content/output/my_3d_classification/results/my_3d_classification_1/full_image_instances\n",
            "    FULL_IMAGE_POST_PROCESSING: /content/output/my_3d_classification/results/my_3d_classification_1/full_image_post_processing\n",
            "    INST_ASSOC_POINTS: /content/output/my_3d_classification/results/my_3d_classification_1/instance_associations\n",
            "    PATH: /content/output/my_3d_classification/results/my_3d_classification_1\n",
            "    PER_IMAGE: /content/output/my_3d_classification/results/my_3d_classification_1/per_image\n",
            "    PER_IMAGE_BIN: /content/output/my_3d_classification/results/my_3d_classification_1/per_image_binarized\n",
            "    PER_IMAGE_INSTANCES: /content/output/my_3d_classification/results/my_3d_classification_1/per_image_instances\n",
            "    PER_IMAGE_POST_PROCESSING: /content/output/my_3d_classification/results/my_3d_classification_1/per_image_post_processing\n",
            "  STD_INFO_FILE: /content/output/my_3d_classification/checkpoints/normalization_std_value.npy\n",
            "  TEST_FULL_GT_H5: user_data/test/y/h5\n",
            "  TEST_INSTANCE_CHANNELS_CHECK: /content/output/my_3d_classification/results/my_3d_classification_1/test_BC_instance_channels\n",
            "  TRAIN_INSTANCE_CHANNELS_CHECK: /content/output/my_3d_classification/results/my_3d_classification_1/train_BC_instance_channels\n",
            "  UPR_X_FILE: /content/output/my_3d_classification/checkpoints/upper_bound_X_perc.npy\n",
            "  UPR_Y_FILE: /content/output/my_3d_classification/checkpoints/upper_bound_Y_perc.npy\n",
            "  VAL_INSTANCE_CHANNELS_CHECK: /content/output/my_3d_classification/results/my_3d_classification_1/val_BC_instance_channels\n",
            "  WATERSHED_DIR: /content/output/my_3d_classification/results/my_3d_classification_1/watershed\n",
            "PROBLEM:\n",
            "  DENOISING:\n",
            "    N2V_MANIPULATOR: uniform_withCP\n",
            "    N2V_NEIGHBORHOOD_RADIUS: 5\n",
            "    N2V_PERC_PIX: 0.198\n",
            "    N2V_STRUCTMASK: False\n",
            "  DETECTION:\n",
            "    CENTRAL_POINT_DILATION: [2]\n",
            "    CHECK_POINTS_CREATED: True\n",
            "    DATA_CHECK_MW: False\n",
            "  IMAGE_TO_IMAGE:\n",
            "    MULTIPLE_RAW_ONE_TARGET_LOADER: False\n",
            "  INSTANCE_SEG:\n",
            "    DATA_CHANNELS: BC\n",
            "    DATA_CHANNEL_WEIGHTS: (1, 1)\n",
            "    DATA_CHECK_MW: False\n",
            "    DATA_CONTOUR_MODE: thick\n",
            "    DATA_MW_TH_BINARY_MASK: 0.5\n",
            "    DATA_MW_TH_CONTOUR: 0.1\n",
            "    DATA_MW_TH_DISTANCE: 1.0\n",
            "    DATA_MW_TH_FOREGROUND: 0.3\n",
            "    DATA_MW_TH_POINTS: 0.5\n",
            "    DATA_MW_TH_TYPE: auto\n",
            "    DATA_REMOVE_BEFORE_MW: False\n",
            "    DATA_REMOVE_SMALL_OBJ_BEFORE: 10\n",
            "    DISTANCE_CHANNEL_MASK: True\n",
            "    ERODE_AND_DILATE_FOREGROUND: False\n",
            "    FORE_DILATION_RADIUS: 5\n",
            "    FORE_EROSION_RADIUS: 5\n",
            "    SEED_MORPH_RADIUS: []\n",
            "    SEED_MORPH_SEQUENCE: []\n",
            "    WATERSHED_BY_2D_SLICES: False\n",
            "  NDIM: 3D\n",
            "  SELF_SUPERVISED:\n",
            "    NOISE: 0.2\n",
            "    PRETEXT_TASK: crappify\n",
            "    RESIZING_FACTOR: 4\n",
            "  SEMANTIC_SEG:\n",
            "    IGNORE_CLASS_ID: 0\n",
            "  SUPER_RESOLUTION:\n",
            "    UPSCALING: (1, 1, 1)\n",
            "  TYPE: CLASSIFICATION\n",
            "SYSTEM:\n",
            "  DEVICE: cpu\n",
            "  NUM_CPUS: 2\n",
            "  NUM_GPUS: 0\n",
            "  NUM_WORKERS: 5\n",
            "  PIN_MEM: True\n",
            "  SEED: 0\n",
            "TEST:\n",
            "  ANALIZE_2D_IMGS_AS_3D_STACK: False\n",
            "  AUGMENTATION: False\n",
            "  AUGMENTATION_MODE: mean\n",
            "  BY_CHUNKS:\n",
            "    ENABLE: False\n",
            "    FLUSH_EACH: 100\n",
            "    FORMAT: H5\n",
            "    INPUT_IMG_AXES_ORDER: TZCYX\n",
            "    INPUT_MASK_AXES_ORDER: TZCYX\n",
            "    INPUT_ZARR_MULTIPLE_DATA: False\n",
            "    INPUT_ZARR_MULTIPLE_DATA_GT_PATH: \n",
            "    INPUT_ZARR_MULTIPLE_DATA_RAW_PATH: \n",
            "    SAVE_OUT_TIF: False\n",
            "    WORKFLOW_PROCESS:\n",
            "      ENABLE: True\n",
            "      TYPE: chunk_by_chunk\n",
            "  DET_BLOB_LOG_MAX_SIGMA: 10\n",
            "  DET_BLOB_LOG_MIN_SIGMA: 5\n",
            "  DET_BLOB_LOG_NUM_SIGMA: 2\n",
            "  DET_EXCLUDE_BORDER: False\n",
            "  DET_IGNORE_POINTS_OUTSIDE_BOX: []\n",
            "  DET_MIN_TH_TO_BE_PEAK: [0.2]\n",
            "  DET_PEAK_LOCAL_MAX_MIN_DISTANCE: 1\n",
            "  DET_POINT_CREATION_FUNCTION: peak_local_max\n",
            "  DET_TOLERANCE: [10]\n",
            "  ENABLE: True\n",
            "  FULL_IMG: False\n",
            "  MATCHING_STATS: True\n",
            "  MATCHING_STATS_THS: [0.3, 0.5, 0.75]\n",
            "  MATCHING_STATS_THS_COLORED_IMG: [0.3]\n",
            "  METRICS: ['accuracy']\n",
            "  POST_PROCESSING:\n",
            "    APPLY_MASK: False\n",
            "    CLEAR_BORDER: False\n",
            "    DET_WATERSHED: False\n",
            "    DET_WATERSHED_DONUTS_CLASSES: [-1]\n",
            "    DET_WATERSHED_DONUTS_NUCLEUS_DIAMETER: 30\n",
            "    DET_WATERSHED_DONUTS_PATCH: [13, 120, 120]\n",
            "    DET_WATERSHED_FIRST_DILATION: [[-1, -1]]\n",
            "    MEASURE_PROPERTIES:\n",
            "      ENABLE: False\n",
            "      REMOVE_BY_PROPERTIES:\n",
            "        ENABLE: False\n",
            "        PROPS: []\n",
            "        SIGN: []\n",
            "        VALUES: []\n",
            "    MEDIAN_FILTER: False\n",
            "    MEDIAN_FILTER_AXIS: []\n",
            "    MEDIAN_FILTER_SIZE: []\n",
            "    REMOVE_CLOSE_POINTS: False\n",
            "    REMOVE_CLOSE_POINTS_RADIUS: [-1.0]\n",
            "    REPARE_LARGE_BLOBS_SIZE: -1\n",
            "    VORONOI_ON_MASK: False\n",
            "    VORONOI_TH: 0.0\n",
            "  REDUCE_MEMORY: False\n",
            "  REUSE_PREDICTIONS: False\n",
            "  VERBOSE: True\n",
            "TRAIN:\n",
            "  ACCUM_ITER: 1\n",
            "  BATCH_SIZE: 8\n",
            "  CHECKPOINT_MONITOR: val_loss\n",
            "  ENABLE: True\n",
            "  EPOCHS: 10\n",
            "  LR: 0.0001\n",
            "  LR_SCHEDULER:\n",
            "    MIN_LR: -1.0\n",
            "    NAME: onecycle\n",
            "    REDUCEONPLATEAU_FACTOR: 0.5\n",
            "    REDUCEONPLATEAU_PATIENCE: -1\n",
            "    WARMUP_COSINE_DECAY_EPOCHS: -1\n",
            "  METRICS: ['accuracy', 'top-5-accuracy']\n",
            "  OPTIMIZER: ADAMW\n",
            "  OPT_BETAS: (0.9, 0.999)\n",
            "  PATIENCE: 10\n",
            "  VERBOSE: False\n",
            "  W_DECAY: 0.02\n",
            "[08:52:40.474910] *~~~~~~~~~~~~~~~~~~~~~~~~~~~~~~~~~~~~~~~~~~~~~~~~~~*\n",
            "[08:52:40.475040] Initializing Classification_Workflow\n",
            "[08:52:40.476609] *~~~~~~~~~~~~~~~~~~~~~~~~~~~~~~~~~~~~~~~~~~~~~~~~~~*\n",
            "\n",
            "[08:52:40.827789] ##########################\n",
            "#   LOAD TRAINING DATA   #\n",
            "##########################\n",
            "\n",
            "[08:52:40.827938] 0) Loading train images . . .\n",
            "[08:52:40.829599] ### LOAD ###\n",
            "[08:52:40.830429] Found 11 classes\n",
            "[08:52:40.830508] Analizing folder /content/data/train/0\n",
            "[08:52:40.831938] Found 115 samples\n",
            "[08:52:40.832013] Loading data from /content/data/train/0\n"
          ]
        },
        {
          "output_type": "stream",
          "name": "stderr",
          "text": [
            "100%|██████████| 115/115 [00:00<00:00, 403.90it/s]\n"
          ]
        },
        {
          "output_type": "stream",
          "name": "stdout",
          "text": [
            "[08:52:41.132603] *** Loaded data shape is (115, 28, 28, 28, 1)\n",
            "[08:52:41.132771] Analizing folder /content/data/train/1\n",
            "[08:52:41.134500] Found 115 samples\n",
            "[08:52:41.134579] Loading data from /content/data/train/1\n"
          ]
        },
        {
          "output_type": "stream",
          "name": "stderr",
          "text": [
            "100%|██████████| 115/115 [00:00<00:00, 414.62it/s]\n"
          ]
        },
        {
          "output_type": "stream",
          "name": "stdout",
          "text": [
            "[08:52:41.430226] *** Loaded data shape is (115, 28, 28, 28, 1)\n",
            "[08:52:41.430418] Analizing folder /content/data/train/10\n",
            "[08:52:41.432184] Found 115 samples\n",
            "[08:52:41.432261] Loading data from /content/data/train/10\n"
          ]
        },
        {
          "output_type": "stream",
          "name": "stderr",
          "text": [
            "100%|██████████| 115/115 [00:00<00:00, 428.54it/s]\n"
          ]
        },
        {
          "output_type": "stream",
          "name": "stdout",
          "text": [
            "[08:52:41.717170] *** Loaded data shape is (115, 28, 28, 28, 1)\n",
            "[08:52:41.718179] Analizing folder /content/data/train/2\n",
            "[08:52:41.719049] Found 115 samples\n",
            "[08:52:41.719115] Loading data from /content/data/train/2\n"
          ]
        },
        {
          "output_type": "stream",
          "name": "stderr",
          "text": [
            "100%|██████████| 115/115 [00:00<00:00, 437.51it/s]\n"
          ]
        },
        {
          "output_type": "stream",
          "name": "stdout",
          "text": [
            "[08:52:41.995469] *** Loaded data shape is (115, 28, 28, 28, 1)\n",
            "[08:52:41.996411] Analizing folder /content/data/train/3\n",
            "[08:52:41.997444] Found 91 samples\n",
            "[08:52:41.998163] Loading data from /content/data/train/3\n"
          ]
        },
        {
          "output_type": "stream",
          "name": "stderr",
          "text": [
            "100%|██████████| 91/91 [00:00<00:00, 364.45it/s]\n"
          ]
        },
        {
          "output_type": "stream",
          "name": "stdout",
          "text": [
            "[08:52:42.260942] *** Loaded data shape is (91, 28, 28, 28, 1)\n",
            "[08:52:42.261894] Analizing folder /content/data/train/4\n",
            "[08:52:42.262749] Found 93 samples\n",
            "[08:52:42.262819] Loading data from /content/data/train/4\n"
          ]
        },
        {
          "output_type": "stream",
          "name": "stderr",
          "text": [
            "100%|██████████| 93/93 [00:00<00:00, 409.45it/s]\n"
          ]
        },
        {
          "output_type": "stream",
          "name": "stdout",
          "text": [
            "[08:52:42.501863] *** Loaded data shape is (93, 28, 28, 28, 1)\n",
            "[08:52:42.501993] Analizing folder /content/data/train/5\n",
            "[08:52:42.503644] Found 94 samples\n",
            "[08:52:42.503725] Loading data from /content/data/train/5\n"
          ]
        },
        {
          "output_type": "stream",
          "name": "stderr",
          "text": [
            "100%|██████████| 94/94 [00:00<00:00, 408.80it/s]\n"
          ]
        },
        {
          "output_type": "stream",
          "name": "stdout",
          "text": [
            "[08:52:42.746421] *** Loaded data shape is (94, 28, 28, 28, 1)\n",
            "[08:52:42.746547] Analizing folder /content/data/train/6\n",
            "[08:52:42.748077] Found 40 samples\n",
            "[08:52:42.748150] Loading data from /content/data/train/6\n"
          ]
        },
        {
          "output_type": "stream",
          "name": "stderr",
          "text": [
            "100%|██████████| 40/40 [00:00<00:00, 426.81it/s]\n"
          ]
        },
        {
          "output_type": "stream",
          "name": "stdout",
          "text": [
            "[08:52:42.853009] *** Loaded data shape is (40, 28, 28, 28, 1)\n",
            "[08:52:42.853988] Analizing folder /content/data/train/7\n",
            "[08:52:42.854796] Found 39 samples\n",
            "[08:52:42.854861] Loading data from /content/data/train/7\n"
          ]
        },
        {
          "output_type": "stream",
          "name": "stderr",
          "text": [
            "100%|██████████| 39/39 [00:00<00:00, 446.64it/s]\n"
          ]
        },
        {
          "output_type": "stream",
          "name": "stdout",
          "text": [
            "[08:52:42.953677] *** Loaded data shape is (39, 28, 28, 28, 1)\n",
            "[08:52:42.953800] Analizing folder /content/data/train/8\n",
            "[08:52:42.956343] Found 39 samples\n",
            "[08:52:42.956422] Loading data from /content/data/train/8\n"
          ]
        },
        {
          "output_type": "stream",
          "name": "stderr",
          "text": [
            "100%|██████████| 39/39 [00:00<00:00, 413.80it/s]\n"
          ]
        },
        {
          "output_type": "stream",
          "name": "stdout",
          "text": [
            "[08:52:43.059452] *** Loaded data shape is (39, 28, 28, 28, 1)\n",
            "[08:52:43.059562] Analizing folder /content/data/train/9\n",
            "[08:52:43.062121] Found 115 samples\n",
            "[08:52:43.063044] Loading data from /content/data/train/9\n"
          ]
        },
        {
          "output_type": "stream",
          "name": "stderr",
          "text": [
            "100%|██████████| 115/115 [00:00<00:00, 373.79it/s]\n"
          ]
        },
        {
          "output_type": "stream",
          "name": "stdout",
          "text": [
            "[08:52:43.383387] *** Loaded data shape is (115, 28, 28, 28, 1)\n",
            "[08:52:43.390204] *** Loaded train data shape is: (971, 28, 28, 28, 1)\n",
            "[08:52:43.391406] 1) Loading validation images . . .\n",
            "[08:52:43.391493] ### LOAD ###\n",
            "[08:52:43.393513] Found 11 classes\n",
            "[08:52:43.393593] Analizing folder /content/data/validation/0\n",
            "[08:52:43.394931] Found 16 samples\n",
            "[08:52:43.394998] Loading data from /content/data/validation/0\n"
          ]
        },
        {
          "output_type": "stream",
          "name": "stderr",
          "text": [
            "100%|██████████| 16/16 [00:00<00:00, 310.15it/s]\n"
          ]
        },
        {
          "output_type": "stream",
          "name": "stdout",
          "text": [
            "[08:52:43.456140] *** Loaded data shape is (16, 28, 28, 28, 1)\n",
            "[08:52:43.457532] Analizing folder /content/data/validation/1\n",
            "[08:52:43.457661] Found 16 samples\n",
            "[08:52:43.457707] Loading data from /content/data/validation/1\n"
          ]
        },
        {
          "output_type": "stream",
          "name": "stderr",
          "text": [
            "100%|██████████| 16/16 [00:00<00:00, 259.68it/s]\n"
          ]
        },
        {
          "output_type": "stream",
          "name": "stdout",
          "text": [
            "[08:52:43.529263] *** Loaded data shape is (16, 28, 28, 28, 1)\n",
            "[08:52:43.529444] Analizing folder /content/data/validation/10\n",
            "[08:52:43.529593] Found 16 samples\n",
            "[08:52:43.529647] Loading data from /content/data/validation/10\n"
          ]
        },
        {
          "output_type": "stream",
          "name": "stderr",
          "text": [
            "100%|██████████| 16/16 [00:00<00:00, 261.95it/s]\n"
          ]
        },
        {
          "output_type": "stream",
          "name": "stdout",
          "text": [
            "[08:52:43.606286] *** Loaded data shape is (16, 28, 28, 28, 1)\n",
            "[08:52:43.607486] Analizing folder /content/data/validation/2\n",
            "[08:52:43.608524] Found 14 samples\n",
            "[08:52:43.609254] Loading data from /content/data/validation/2\n"
          ]
        },
        {
          "output_type": "stream",
          "name": "stderr",
          "text": [
            "100%|██████████| 14/14 [00:00<00:00, 289.32it/s]\n"
          ]
        },
        {
          "output_type": "stream",
          "name": "stdout",
          "text": [
            "[08:52:43.665617] *** Loaded data shape is (14, 28, 28, 28, 1)\n",
            "[08:52:43.666944] Analizing folder /content/data/validation/3\n",
            "[08:52:43.667907] Found 14 samples\n",
            "[08:52:43.668617] Loading data from /content/data/validation/3\n"
          ]
        },
        {
          "output_type": "stream",
          "name": "stderr",
          "text": [
            "100%|██████████| 14/14 [00:00<00:00, 230.66it/s]\n"
          ]
        },
        {
          "output_type": "stream",
          "name": "stdout",
          "text": [
            "[08:52:43.737460] *** Loaded data shape is (14, 28, 28, 28, 1)\n",
            "[08:52:43.738571] Analizing folder /content/data/validation/4\n",
            "[08:52:43.739414] Found 15 samples\n",
            "[08:52:43.740254] Loading data from /content/data/validation/4\n"
          ]
        },
        {
          "output_type": "stream",
          "name": "stderr",
          "text": [
            "100%|██████████| 15/15 [00:00<00:00, 268.76it/s]\n"
          ]
        },
        {
          "output_type": "stream",
          "name": "stdout",
          "text": [
            "[08:52:43.805014] *** Loaded data shape is (15, 28, 28, 28, 1)\n",
            "[08:52:43.806291] Analizing folder /content/data/validation/5\n",
            "[08:52:43.808117] Found 15 samples\n",
            "[08:52:43.808781] Loading data from /content/data/validation/5\n"
          ]
        },
        {
          "output_type": "stream",
          "name": "stderr",
          "text": [
            "100%|██████████| 15/15 [00:00<00:00, 274.24it/s]\n"
          ]
        },
        {
          "output_type": "stream",
          "name": "stdout",
          "text": [
            "[08:52:43.870596] *** Loaded data shape is (15, 28, 28, 28, 1)\n",
            "[08:52:43.871593] Analizing folder /content/data/validation/6\n",
            "[08:52:43.873109] Found 13 samples\n",
            "[08:52:43.873963] Loading data from /content/data/validation/6\n"
          ]
        },
        {
          "output_type": "stream",
          "name": "stderr",
          "text": [
            "100%|██████████| 13/13 [00:00<00:00, 271.45it/s]\n"
          ]
        },
        {
          "output_type": "stream",
          "name": "stdout",
          "text": [
            "[08:52:43.928882] *** Loaded data shape is (13, 28, 28, 28, 1)\n",
            "[08:52:43.930050] Analizing folder /content/data/validation/7\n",
            "[08:52:43.930888] Found 13 samples\n",
            "[08:52:43.931558] Loading data from /content/data/validation/7\n"
          ]
        },
        {
          "output_type": "stream",
          "name": "stderr",
          "text": [
            "100%|██████████| 13/13 [00:00<00:00, 278.23it/s]\n"
          ]
        },
        {
          "output_type": "stream",
          "name": "stdout",
          "text": [
            "[08:52:43.986188] *** Loaded data shape is (13, 28, 28, 28, 1)\n",
            "[08:52:43.987241] Analizing folder /content/data/validation/8\n",
            "[08:52:43.988017] Found 13 samples\n",
            "[08:52:43.988721] Loading data from /content/data/validation/8\n"
          ]
        },
        {
          "output_type": "stream",
          "name": "stderr",
          "text": [
            "100%|██████████| 13/13 [00:00<00:00, 256.51it/s]\n"
          ]
        },
        {
          "output_type": "stream",
          "name": "stdout",
          "text": [
            "[08:52:44.048010] *** Loaded data shape is (13, 28, 28, 28, 1)\n",
            "[08:52:44.049261] Analizing folder /content/data/validation/9\n",
            "[08:52:44.050353] Found 16 samples\n",
            "[08:52:44.051122] Loading data from /content/data/validation/9\n"
          ]
        },
        {
          "output_type": "stream",
          "name": "stderr",
          "text": [
            "100%|██████████| 16/16 [00:00<00:00, 246.53it/s]\n"
          ]
        },
        {
          "output_type": "stream",
          "name": "stdout",
          "text": [
            "[08:52:44.124412] *** Loaded data shape is (16, 28, 28, 28, 1)\n",
            "[08:52:44.129449] *** Loaded train data shape is: (161, 28, 28, 28, 1)\n",
            "[08:52:44.131528] ###############\n",
            "[08:52:44.132422] # Build model #\n",
            "[08:52:44.133126] ###############\n",
            "[08:52:45.596937] ##############################\n",
            "[08:52:45.597097] #  PREPARE TRAIN GENERATORS  #\n",
            "[08:52:45.597149] ##############################\n",
            "[08:52:45.597394] Initializing train data generator . . .\n",
            "[08:52:45.601180] Normalization config used for X: {'type': 'div', 'mask_norm': 'as_mask', 'application_mode': 'image', 'enable': True, 'orig_dtype': dtype('uint8'), 'div': 1}\n",
            "[08:52:45.603452] Initializing val data generator . . .\n",
            "[08:52:45.604545] Normalization config used for X: {'type': 'div', 'mask_norm': 'as_mask', 'application_mode': 'image', 'enable': True, 'orig_dtype': dtype('uint8'), 'div': 1}\n",
            "[08:52:45.605504] Creating generator samples . . .\n"
          ]
        },
        {
          "output_type": "stream",
          "name": "stderr",
          "text": [
            "  0%|          | 0/10 [00:00<?, ?it/s]\n",
            "  0%|          | 0/1 [00:00<?, ?it/s]\u001b[A\n",
            "                                     \u001b[A\n",
            "  0%|          | 0/1 [00:00<?, ?it/s]\u001b[A\n",
            "                                     \u001b[A\n",
            "  0%|          | 0/1 [00:00<?, ?it/s]\u001b[A\n",
            "                                     \u001b[A\n",
            "  0%|          | 0/1 [00:00<?, ?it/s]\u001b[A\n",
            "                                     \u001b[A\n",
            "  0%|          | 0/1 [00:00<?, ?it/s]\u001b[A\n",
            "                                     \u001b[A\n",
            "  0%|          | 0/1 [00:00<?, ?it/s]\u001b[A\n",
            " 30%|███       | 3/10 [00:00<00:00, 19.48it/s]\n",
            "  0%|          | 0/1 [00:00<?, ?it/s]\u001b[A\n",
            "                                     \u001b[A\n",
            "  0%|          | 0/1 [00:00<?, ?it/s]\u001b[A\n",
            "                                     \u001b[A\n",
            "  0%|          | 0/1 [00:00<?, ?it/s]\u001b[A\n",
            "                                     \u001b[A\n",
            "  0%|          | 0/1 [00:00<?, ?it/s]\u001b[A\n",
            "                                     \u001b[A\n",
            "  0%|          | 0/1 [00:00<?, ?it/s]\u001b[A\n",
            "                                     \u001b[A\n",
            "  0%|          | 0/1 [00:00<?, ?it/s]\u001b[A\n",
            " 60%|██████    | 6/10 [00:00<00:00, 21.45it/s]\n",
            "  0%|          | 0/1 [00:00<?, ?it/s]\u001b[A\n",
            "                                     \u001b[A\n",
            "  0%|          | 0/1 [00:00<?, ?it/s]\u001b[A\n",
            "                                     \u001b[A\n",
            "  0%|          | 0/1 [00:00<?, ?it/s]\u001b[A\n",
            "                                     \u001b[A\n",
            "  0%|          | 0/1 [00:00<?, ?it/s]\u001b[A\n",
            "                                     \u001b[A\n",
            "  0%|          | 0/1 [00:00<?, ?it/s]\u001b[A\n",
            "                                     \u001b[A\n",
            "  0%|          | 0/1 [00:00<?, ?it/s]\u001b[A\n",
            " 90%|█████████ | 9/10 [00:00<00:00, 23.15it/s]\n",
            "  0%|          | 0/1 [00:00<?, ?it/s]\u001b[A\n",
            "                                     \u001b[A\n",
            "  0%|          | 0/1 [00:00<?, ?it/s]\u001b[A\n",
            "100%|██████████| 10/10 [00:00<00:00, 21.76it/s]\n",
            "/usr/local/lib/python3.10/dist-packages/torch/utils/data/dataloader.py:557: UserWarning: This DataLoader will create 5 worker processes in total. Our suggested max number of worker in current system is 2, which is smaller than what this DataLoader is going to create. Please be aware that excessive worker creation might get DataLoader running slow or even freeze, lower the worker number to avoid potential slowness/freeze if necessary.\n",
            "  warnings.warn(_create_warning_msg(\n",
            "/usr/local/lib/python3.10/dist-packages/biapy/utils/misc.py:290: FutureWarning: `torch.cuda.amp.GradScaler(args...)` is deprecated. Please use `torch.amp.GradScaler('cuda', args...)` instead.\n",
            "  self._scaler = torch.cuda.amp.GradScaler()\n"
          ]
        },
        {
          "output_type": "stream",
          "name": "stdout",
          "text": [
            "[08:52:46.073487] ### END TR-SAMPLES ###\n",
            "[08:52:46.073591] Number of workers: 5\n",
            "[08:52:46.073651] Accumulate grad iterations: 1\n",
            "[08:52:46.073682] Effective batch size: 8\n",
            "[08:52:46.073732] Sampler_train = <torch.utils.data.distributed.DistributedSampler object at 0x78c874e140a0>\n",
            "[08:52:46.077100] #######################\n",
            "[08:52:46.077155] # Prepare logging tool #\n",
            "[08:52:46.077190] #######################\n",
            "[08:52:46.088796] AdamW (\n",
            "Parameter Group 0\n",
            "    amsgrad: False\n",
            "    betas: (0.9, 0.999)\n",
            "    capturable: False\n",
            "    differentiable: False\n",
            "    eps: 1e-08\n",
            "    foreach: None\n",
            "    fused: None\n",
            "    lr: 0.0001\n",
            "    maximize: False\n",
            "    weight_decay: 0.0\n",
            "\n",
            "Parameter Group 1\n",
            "    amsgrad: False\n",
            "    betas: (0.9, 0.999)\n",
            "    capturable: False\n",
            "    differentiable: False\n",
            "    eps: 1e-08\n",
            "    foreach: None\n",
            "    fused: None\n",
            "    lr: 0.0001\n",
            "    maximize: False\n",
            "    weight_decay: 0.02\n",
            ")\n",
            "[08:52:46.089280] #####################\n",
            "[08:52:46.089364] #  TRAIN THE MODEL  #\n",
            "[08:52:46.089399] #####################\n",
            "[08:52:46.089440] Start training in epoch 1 - Total: 10\n",
            "[08:52:46.089501] ~~~ Epoch 1/10 ~~~\n",
            "\n"
          ]
        },
        {
          "output_type": "stream",
          "name": "stderr",
          "text": [
            "/usr/local/lib/python3.10/dist-packages/biapy/engine/train_engine.py:58: FutureWarning: `torch.cuda.amp.autocast(args...)` is deprecated. Please use `torch.amp.autocast('cuda', args...)` instead.\n",
            "  with torch.cuda.amp.autocast(enabled=False):\n"
          ]
        },
        {
          "output_type": "stream",
          "name": "stdout",
          "text": [
            "[08:53:00.810718] Epoch: [1]  [  0/122]  eta: 0:29:54  loss: 2.3850 (2.3850)  Accuracy: 0.2500 (0.2500)  Top 5 accuracy: 0.2500 (0.2500)  lr: 0.000004  iter-time: 14.7056\n",
            "[08:53:01.671482] Epoch: [1]  [ 10/122]  eta: 0:02:38  loss: 2.4140 (2.4060)  Accuracy: 0.0000 (0.0682)  Top 5 accuracy: 0.3750 (0.4432)  lr: 0.000004  iter-time: 1.4149\n",
            "[08:53:02.568839] Epoch: [1]  [ 20/122]  eta: 0:01:19  loss: 2.4109 (2.3984)  Accuracy: 0.0000 (0.0952)  Top 5 accuracy: 0.5000 (0.4583)  lr: 0.000005  iter-time: 0.0877\n",
            "[08:53:03.446185] Epoch: [1]  [ 30/122]  eta: 0:00:51  loss: 2.3770 (2.3887)  Accuracy: 0.1250 (0.1331)  Top 5 accuracy: 0.5000 (0.4758)  lr: 0.000006  iter-time: 0.0885\n",
            "[08:53:04.315615] Epoch: [1]  [ 40/122]  eta: 0:00:36  loss: 2.3957 (2.3904)  Accuracy: 0.1250 (0.1341)  Top 5 accuracy: 0.5000 (0.4970)  lr: 0.000007  iter-time: 0.0871\n",
            "[08:53:05.108431] Epoch: [1]  [ 50/122]  eta: 0:00:26  loss: 2.3957 (2.3876)  Accuracy: 0.1250 (0.1373)  Top 5 accuracy: 0.6250 (0.5049)  lr: 0.000009  iter-time: 0.0829\n",
            "[08:53:05.900211] Epoch: [1]  [ 60/122]  eta: 0:00:20  loss: 2.3578 (2.3796)  Accuracy: 0.1250 (0.1434)  Top 5 accuracy: 0.6250 (0.5266)  lr: 0.000010  iter-time: 0.0790\n",
            "[08:53:06.698799] Epoch: [1]  [ 70/122]  eta: 0:00:15  loss: 2.3482 (2.3744)  Accuracy: 0.1250 (0.1479)  Top 5 accuracy: 0.6250 (0.5440)  lr: 0.000013  iter-time: 0.0793\n",
            "[08:53:07.485087] Epoch: [1]  [ 80/122]  eta: 0:00:11  loss: 2.3167 (2.3613)  Accuracy: 0.2500 (0.1667)  Top 5 accuracy: 0.7500 (0.5694)  lr: 0.000015  iter-time: 0.0791\n",
            "[08:53:08.281095] Epoch: [1]  [ 90/122]  eta: 0:00:07  loss: 2.2871 (2.3543)  Accuracy: 0.2500 (0.1758)  Top 5 accuracy: 0.7500 (0.5907)  lr: 0.000018  iter-time: 0.0790\n",
            "[08:53:09.073543] Epoch: [1]  [100/122]  eta: 0:00:04  loss: 2.2837 (2.3474)  Accuracy: 0.2500 (0.1844)  Top 5 accuracy: 0.7500 (0.6077)  lr: 0.000021  iter-time: 0.0793\n",
            "[08:53:09.866450] Epoch: [1]  [110/122]  eta: 0:00:02  loss: 2.2680 (2.3387)  Accuracy: 0.2500 (0.1937)  Top 5 accuracy: 0.7500 (0.6205)  lr: 0.000024  iter-time: 0.0791\n",
            "[08:53:10.649539] Epoch: [1]  [120/122]  eta: 0:00:00  loss: 2.2520 (2.3314)  Accuracy: 0.2500 (0.2014)  Top 5 accuracy: 0.7500 (0.6343)  lr: 0.000028  iter-time: 0.0787\n",
            "[08:53:15.868850] Epoch: [1]  [121/122]  eta: 0:00:00  loss: 2.2520 (2.3324)  Accuracy: 0.2500 (0.1998)  Top 5 accuracy: 0.7500 (0.6318)  lr: 0.000028  iter-time: 0.3356\n",
            "[08:53:15.996757] Epoch: [1] Total time: 0:00:29 (0.2451 s / it)\n",
            "[08:53:15.997896] [Train] averaged stats: loss: 2.2520 (2.3324)  Accuracy: 0.2500 (0.1998)  Top 5 accuracy: 0.7500 (0.6318)  lr: 0.000028\n"
          ]
        },
        {
          "output_type": "stream",
          "name": "stderr",
          "text": [
            "/usr/local/lib/python3.10/dist-packages/biapy/engine/train_engine.py:134: FutureWarning: `torch.cuda.amp.autocast(args...)` is deprecated. Please use `torch.amp.autocast('cuda', args...)` instead.\n",
            "  with torch.cuda.amp.autocast(enabled=False):\n"
          ]
        },
        {
          "output_type": "stream",
          "name": "stdout",
          "text": [
            "[08:53:16.291180] Epoch: [1]  [ 0/21]  eta: 0:00:06  loss: 1.6524 (1.6524)  Accuracy: 1.0000 (1.0000)  Top 5 accuracy: 1.0000 (1.0000)  iter-time: 0.2885\n",
            "[08:53:16.557675] Epoch: [1]  [10/21]  eta: 0:00:00  loss: 2.3475 (2.1463)  Accuracy: 0.1250 (0.3523)  Top 5 accuracy: 1.0000 (0.9773)  iter-time: 0.0503\n",
            "[08:53:17.589996] Epoch: [1]  [20/21]  eta: 0:00:00  loss: 2.3258 (2.1117)  Accuracy: 0.1250 (0.4405)  Top 5 accuracy: 1.0000 (0.8869)  iter-time: 0.0648\n",
            "[08:53:17.708796] Epoch: [1] Total time: 0:00:01 (0.0814 s / it)\n",
            "[08:53:17.708937] [Val] averaged stats: loss: 2.3258 (2.1117)  Accuracy: 0.1250 (0.4405)  Top 5 accuracy: 1.0000 (0.8869)\n",
            "[08:53:17.710885] Val loss improved from inf to 2.111732761065165, saving model to /content/output/my_3d_classification/checkpoints/my_3d_classification_1-checkpoint-best.pth\n",
            "[08:53:17.757494] [Val] best loss: 2.1117 best  Accuracy: 0.4405 Top 5 accuracy: 0.8869 \n",
            "[08:53:17.759674] [Time] 31.7s 31.7s/5.8m\n",
            "\n",
            "[08:53:17.760591] ~~~ Epoch 2/10 ~~~\n",
            "\n",
            "[08:53:18.273104] Epoch: [2]  [  0/122]  eta: 0:01:02  loss: 2.2805 (2.2805)  Accuracy: 0.2500 (0.2500)  Top 5 accuracy: 0.7500 (0.7500)  lr: 0.000028  iter-time: 0.5101\n",
            "[08:53:19.079902] Epoch: [2]  [ 10/122]  eta: 0:00:13  loss: 2.1469 (2.1620)  Accuracy: 0.3750 (0.3977)  Top 5 accuracy: 0.8750 (0.8523)  lr: 0.000032  iter-time: 0.1195\n",
            "[08:53:19.889573] Epoch: [2]  [ 20/122]  eta: 0:00:10  loss: 2.1562 (2.1683)  Accuracy: 0.3750 (0.3929)  Top 5 accuracy: 0.8750 (0.8631)  lr: 0.000036  iter-time: 0.0806\n",
            "[08:53:20.700808] Epoch: [2]  [ 30/122]  eta: 0:00:08  loss: 2.1562 (2.1543)  Accuracy: 0.3750 (0.4153)  Top 5 accuracy: 0.7500 (0.8347)  lr: 0.000040  iter-time: 0.0809\n",
            "[08:53:21.509999] Epoch: [2]  [ 40/122]  eta: 0:00:07  loss: 2.1376 (2.1510)  Accuracy: 0.3750 (0.4177)  Top 5 accuracy: 0.7500 (0.8445)  lr: 0.000044  iter-time: 0.0808\n",
            "[08:53:22.311256] Epoch: [2]  [ 50/122]  eta: 0:00:06  loss: 2.1596 (2.1567)  Accuracy: 0.3750 (0.4191)  Top 5 accuracy: 0.8750 (0.8529)  lr: 0.000048  iter-time: 0.0804\n",
            "[08:53:23.116106] Epoch: [2]  [ 60/122]  eta: 0:00:05  loss: 2.1274 (2.1505)  Accuracy: 0.5000 (0.4262)  Top 5 accuracy: 0.8750 (0.8484)  lr: 0.000052  iter-time: 0.0802\n",
            "[08:53:23.922876] Epoch: [2]  [ 70/122]  eta: 0:00:04  loss: 2.0641 (2.1405)  Accuracy: 0.5000 (0.4384)  Top 5 accuracy: 0.8750 (0.8574)  lr: 0.000056  iter-time: 0.0805\n",
            "[08:53:24.735072] Epoch: [2]  [ 80/122]  eta: 0:00:03  loss: 2.0494 (2.1275)  Accuracy: 0.5000 (0.4537)  Top 5 accuracy: 0.8750 (0.8596)  lr: 0.000060  iter-time: 0.0808\n",
            "[08:53:25.541749] Epoch: [2]  [ 90/122]  eta: 0:00:02  loss: 2.0087 (2.1150)  Accuracy: 0.6250 (0.4684)  Top 5 accuracy: 0.8750 (0.8681)  lr: 0.000064  iter-time: 0.0808\n",
            "[08:53:26.350287] Epoch: [2]  [100/122]  eta: 0:00:01  loss: 2.0523 (2.1136)  Accuracy: 0.5000 (0.4703)  Top 5 accuracy: 0.8750 (0.8651)  lr: 0.000068  iter-time: 0.0805\n",
            "[08:53:27.161001] Epoch: [2]  [110/122]  eta: 0:00:01  loss: 2.0269 (2.0995)  Accuracy: 0.6250 (0.4854)  Top 5 accuracy: 0.8750 (0.8671)  lr: 0.000072  iter-time: 0.0808\n",
            "[08:53:27.965552] Epoch: [2]  [120/122]  eta: 0:00:00  loss: 1.8964 (2.0851)  Accuracy: 0.6250 (0.4990)  Top 5 accuracy: 0.8750 (0.8750)  lr: 0.000076  iter-time: 0.0806\n",
            "[08:53:28.007140] Epoch: [2]  [121/122]  eta: 0:00:00  loss: 1.9260 (2.0885)  Accuracy: 0.6250 (0.4949)  Top 5 accuracy: 0.8750 (0.8733)  lr: 0.000076  iter-time: 0.0786\n",
            "[08:53:28.131332] Epoch: [2] Total time: 0:00:10 (0.0850 s / it)\n",
            "[08:53:28.132428] [Train] averaged stats: loss: 1.9260 (2.0885)  Accuracy: 0.6250 (0.4949)  Top 5 accuracy: 0.8750 (0.8733)  lr: 0.000076\n",
            "[08:53:28.408577] Epoch: [2]  [ 0/21]  eta: 0:00:05  loss: 1.6176 (1.6176)  Accuracy: 1.0000 (1.0000)  Top 5 accuracy: 1.0000 (1.0000)  iter-time: 0.2743\n",
            "[08:53:28.673424] Epoch: [2]  [10/21]  eta: 0:00:00  loss: 1.6194 (1.7317)  Accuracy: 1.0000 (0.9091)  Top 5 accuracy: 1.0000 (1.0000)  iter-time: 0.0487\n",
            "[08:53:28.896333] Epoch: [2]  [20/21]  eta: 0:00:00  loss: 1.6641 (1.7488)  Accuracy: 1.0000 (0.8571)  Top 5 accuracy: 1.0000 (0.9940)  iter-time: 0.0242\n",
            "[08:53:29.012832] Epoch: [2] Total time: 0:00:00 (0.0419 s / it)\n",
            "[08:53:29.012975] [Val] averaged stats: loss: 1.6641 (1.7488)  Accuracy: 1.0000 (0.8571)  Top 5 accuracy: 1.0000 (0.9940)\n",
            "[08:53:29.013617] Val loss improved from 2.111732761065165 to 1.748837947845459, saving model to /content/output/my_3d_classification/checkpoints/my_3d_classification_1-checkpoint-best.pth\n",
            "[08:53:29.078301] [Val] best loss: 1.7488 best  Accuracy: 0.8571 Top 5 accuracy: 0.9940 \n",
            "[08:53:29.080951] [Time] 11.3s 43.0s/2.4m\n",
            "\n",
            "[08:53:29.082357] ~~~ Epoch 3/10 ~~~\n",
            "\n",
            "[08:53:29.621529] Epoch: [3]  [  0/122]  eta: 0:01:05  loss: 2.0872 (2.0872)  Accuracy: 0.5000 (0.5000)  Top 5 accuracy: 0.7500 (0.7500)  lr: 0.000077  iter-time: 0.5329\n",
            "[08:53:30.538666] Epoch: [3]  [ 10/122]  eta: 0:00:14  loss: 1.8473 (1.9131)  Accuracy: 0.7500 (0.6705)  Top 5 accuracy: 1.0000 (0.9773)  lr: 0.000080  iter-time: 0.1316\n",
            "[08:53:31.456486] Epoch: [3]  [ 20/122]  eta: 0:00:11  loss: 1.8621 (1.9413)  Accuracy: 0.7500 (0.6310)  Top 5 accuracy: 1.0000 (0.9583)  lr: 0.000083  iter-time: 0.0915\n",
            "[08:53:32.376231] Epoch: [3]  [ 30/122]  eta: 0:00:09  loss: 1.9484 (1.9400)  Accuracy: 0.6250 (0.6452)  Top 5 accuracy: 0.8750 (0.9435)  lr: 0.000086  iter-time: 0.0916\n",
            "[08:53:33.281164] Epoch: [3]  [ 40/122]  eta: 0:00:08  loss: 1.9315 (1.9400)  Accuracy: 0.6250 (0.6402)  Top 5 accuracy: 1.0000 (0.9482)  lr: 0.000089  iter-time: 0.0910\n",
            "[08:53:34.169651] Epoch: [3]  [ 50/122]  eta: 0:00:07  loss: 1.9277 (1.9352)  Accuracy: 0.6250 (0.6471)  Top 5 accuracy: 1.0000 (0.9461)  lr: 0.000092  iter-time: 0.0894\n",
            "[08:53:35.090984] Epoch: [3]  [ 60/122]  eta: 0:00:06  loss: 1.9120 (1.9354)  Accuracy: 0.6250 (0.6434)  Top 5 accuracy: 1.0000 (0.9467)  lr: 0.000094  iter-time: 0.0903\n",
            "[08:53:36.044827] Epoch: [3]  [ 70/122]  eta: 0:00:05  loss: 1.8787 (1.9304)  Accuracy: 0.6250 (0.6514)  Top 5 accuracy: 1.0000 (0.9454)  lr: 0.000096  iter-time: 0.0935\n",
            "[08:53:37.041729] Epoch: [3]  [ 80/122]  eta: 0:00:04  loss: 1.8787 (1.9260)  Accuracy: 0.7500 (0.6512)  Top 5 accuracy: 1.0000 (0.9444)  lr: 0.000097  iter-time: 0.0970\n",
            "[08:53:37.945338] Epoch: [3]  [ 90/122]  eta: 0:00:03  loss: 1.8168 (1.9115)  Accuracy: 0.7500 (0.6676)  Top 5 accuracy: 1.0000 (0.9451)  lr: 0.000098  iter-time: 0.0945\n",
            "[08:53:38.817155] Epoch: [3]  [100/122]  eta: 0:00:02  loss: 1.8322 (1.9148)  Accuracy: 0.6250 (0.6597)  Top 5 accuracy: 1.0000 (0.9455)  lr: 0.000099  iter-time: 0.0885\n",
            "[08:53:39.645334] Epoch: [3]  [110/122]  eta: 0:00:01  loss: 1.9172 (1.9070)  Accuracy: 0.6250 (0.6678)  Top 5 accuracy: 1.0000 (0.9426)  lr: 0.000100  iter-time: 0.0845\n",
            "[08:53:40.456420] Epoch: [3]  [120/122]  eta: 0:00:00  loss: 1.7809 (1.8932)  Accuracy: 0.7500 (0.6829)  Top 5 accuracy: 1.0000 (0.9463)  lr: 0.000100  iter-time: 0.0815\n",
            "[08:53:40.498367] Epoch: [3]  [121/122]  eta: 0:00:00  loss: 1.7809 (1.8961)  Accuracy: 0.7500 (0.6800)  Top 5 accuracy: 1.0000 (0.9440)  lr: 0.000100  iter-time: 0.0788\n",
            "[08:53:40.586767] Epoch: [3] Total time: 0:00:11 (0.0943 s / it)\n",
            "[08:53:40.587935] [Train] averaged stats: loss: 1.7809 (1.8961)  Accuracy: 0.7500 (0.6800)  Top 5 accuracy: 1.0000 (0.9440)  lr: 0.000100\n",
            "[08:53:40.769532] Epoch: [3]  [ 0/21]  eta: 0:00:03  loss: 1.5559 (1.5559)  Accuracy: 1.0000 (1.0000)  Top 5 accuracy: 1.0000 (1.0000)  iter-time: 0.1785\n",
            "[08:53:41.015269] Epoch: [3]  [10/21]  eta: 0:00:00  loss: 1.5666 (1.6033)  Accuracy: 1.0000 (0.9773)  Top 5 accuracy: 1.0000 (1.0000)  iter-time: 0.0384\n",
            "[08:53:41.238653] Epoch: [3]  [20/21]  eta: 0:00:00  loss: 1.5966 (1.6615)  Accuracy: 1.0000 (0.8929)  Top 5 accuracy: 1.0000 (1.0000)  iter-time: 0.0233\n",
            "[08:53:41.313385] Epoch: [3] Total time: 0:00:00 (0.0344 s / it)\n",
            "[08:53:41.313670] [Val] averaged stats: loss: 1.5966 (1.6615)  Accuracy: 1.0000 (0.8929)  Top 5 accuracy: 1.0000 (1.0000)\n",
            "[08:53:41.316163] Val loss improved from 1.748837947845459 to 1.6615448111579532, saving model to /content/output/my_3d_classification/checkpoints/my_3d_classification_1-checkpoint-best.pth\n",
            "[08:53:41.356769] [Val] best loss: 1.6615 best  Accuracy: 0.8929 Top 5 accuracy: 1.0000 \n",
            "[08:53:41.359083] [Time] 12.3s 55.3s/2.6m\n",
            "\n",
            "[08:53:41.359156] ~~~ Epoch 4/10 ~~~\n",
            "\n",
            "[08:53:41.730776] Epoch: [4]  [  0/122]  eta: 0:00:45  loss: 1.7992 (1.7992)  Accuracy: 0.7500 (0.7500)  Top 5 accuracy: 0.8750 (0.8750)  lr: 0.000100  iter-time: 0.3697\n",
            "[08:53:42.561569] Epoch: [4]  [ 10/122]  eta: 0:00:12  loss: 1.7812 (1.7956)  Accuracy: 0.7500 (0.7386)  Top 5 accuracy: 1.0000 (0.9545)  lr: 0.000100  iter-time: 0.1090\n",
            "[08:53:43.369663] Epoch: [4]  [ 20/122]  eta: 0:00:09  loss: 1.7812 (1.8077)  Accuracy: 0.7500 (0.7381)  Top 5 accuracy: 1.0000 (0.9583)  lr: 0.000100  iter-time: 0.0818\n",
            "[08:53:44.176594] Epoch: [4]  [ 30/122]  eta: 0:00:08  loss: 1.8334 (1.8140)  Accuracy: 0.7500 (0.7500)  Top 5 accuracy: 0.8750 (0.9355)  lr: 0.000100  iter-time: 0.0806\n",
            "[08:53:44.987915] Epoch: [4]  [ 40/122]  eta: 0:00:07  loss: 1.7792 (1.8171)  Accuracy: 0.7500 (0.7530)  Top 5 accuracy: 0.8750 (0.9451)  lr: 0.000099  iter-time: 0.0807\n",
            "[08:53:45.799208] Epoch: [4]  [ 50/122]  eta: 0:00:06  loss: 1.7860 (1.8238)  Accuracy: 0.7500 (0.7475)  Top 5 accuracy: 1.0000 (0.9510)  lr: 0.000099  iter-time: 0.0810\n",
            "[08:53:46.607007] Epoch: [4]  [ 60/122]  eta: 0:00:05  loss: 1.8039 (1.8243)  Accuracy: 0.7500 (0.7439)  Top 5 accuracy: 1.0000 (0.9549)  lr: 0.000099  iter-time: 0.0808\n",
            "[08:53:47.451242] Epoch: [4]  [ 70/122]  eta: 0:00:04  loss: 1.7828 (1.8182)  Accuracy: 0.7500 (0.7535)  Top 5 accuracy: 1.0000 (0.9577)  lr: 0.000098  iter-time: 0.0824\n",
            "[08:53:48.345613] Epoch: [4]  [ 80/122]  eta: 0:00:03  loss: 1.7379 (1.8112)  Accuracy: 0.8750 (0.7593)  Top 5 accuracy: 1.0000 (0.9537)  lr: 0.000098  iter-time: 0.0868\n",
            "[08:53:49.211375] Epoch: [4]  [ 90/122]  eta: 0:00:02  loss: 1.7105 (1.8029)  Accuracy: 0.8750 (0.7706)  Top 5 accuracy: 0.8750 (0.9519)  lr: 0.000097  iter-time: 0.0879\n",
            "[08:53:50.082784] Epoch: [4]  [100/122]  eta: 0:00:01  loss: 1.7414 (1.8051)  Accuracy: 0.7500 (0.7698)  Top 5 accuracy: 1.0000 (0.9517)  lr: 0.000097  iter-time: 0.0867\n",
            "[08:53:50.989150] Epoch: [4]  [110/122]  eta: 0:00:01  loss: 1.7938 (1.8050)  Accuracy: 0.7500 (0.7658)  Top 5 accuracy: 0.8750 (0.9482)  lr: 0.000096  iter-time: 0.0887\n",
            "[08:53:51.810601] Epoch: [4]  [120/122]  eta: 0:00:00  loss: 1.7317 (1.7979)  Accuracy: 0.7500 (0.7727)  Top 5 accuracy: 1.0000 (0.9504)  lr: 0.000095  iter-time: 0.0863\n",
            "[08:53:51.852932] Epoch: [4]  [121/122]  eta: 0:00:00  loss: 1.7317 (1.8010)  Accuracy: 0.7500 (0.7719)  Top 5 accuracy: 1.0000 (0.9508)  lr: 0.000095  iter-time: 0.0842\n",
            "[08:53:51.996084] Epoch: [4] Total time: 0:00:10 (0.0872 s / it)\n",
            "[08:53:51.998183] [Train] averaged stats: loss: 1.7317 (1.8010)  Accuracy: 0.7500 (0.7719)  Top 5 accuracy: 1.0000 (0.9508)  lr: 0.000095\n",
            "[08:53:52.276954] Epoch: [4]  [ 0/21]  eta: 0:00:05  loss: 1.5440 (1.5440)  Accuracy: 1.0000 (1.0000)  Top 5 accuracy: 1.0000 (1.0000)  iter-time: 0.2735\n",
            "[08:53:52.528707] Epoch: [4]  [10/21]  eta: 0:00:00  loss: 1.5500 (1.5682)  Accuracy: 1.0000 (0.9886)  Top 5 accuracy: 1.0000 (0.9886)  iter-time: 0.0472\n",
            "[08:53:52.757415] Epoch: [4]  [20/21]  eta: 0:00:00  loss: 1.5790 (1.6112)  Accuracy: 1.0000 (0.9286)  Top 5 accuracy: 1.0000 (0.9940)  iter-time: 0.0237\n",
            "[08:53:52.834933] Epoch: [4] Total time: 0:00:00 (0.0397 s / it)\n",
            "[08:53:52.836162] [Val] averaged stats: loss: 1.5790 (1.6112)  Accuracy: 1.0000 (0.9286)  Top 5 accuracy: 1.0000 (0.9940)\n",
            "[08:53:52.837843] Val loss improved from 1.6615448111579532 to 1.6112048966544015, saving model to /content/output/my_3d_classification/checkpoints/my_3d_classification_1-checkpoint-best.pth\n",
            "[08:53:52.880159] [Val] best loss: 1.6112 best  Accuracy: 0.9286 Top 5 accuracy: 0.9940 \n",
            "[08:53:52.882765] [Time] 11.5s 1.1m/2.5m\n",
            "\n",
            "[08:53:52.882856] ~~~ Epoch 5/10 ~~~\n",
            "\n",
            "[08:53:53.234778] Epoch: [5]  [  0/122]  eta: 0:00:41  loss: 1.8689 (1.8689)  Accuracy: 0.6250 (0.6250)  Top 5 accuracy: 0.8750 (0.8750)  lr: 0.000095  iter-time: 0.3429\n",
            "[08:53:54.053268] Epoch: [5]  [ 10/122]  eta: 0:00:11  loss: 1.7486 (1.7566)  Accuracy: 0.7500 (0.7841)  Top 5 accuracy: 1.0000 (0.9773)  lr: 0.000094  iter-time: 0.1049\n",
            "[08:53:54.882198] Epoch: [5]  [ 20/122]  eta: 0:00:09  loss: 1.7084 (1.7504)  Accuracy: 0.7500 (0.8036)  Top 5 accuracy: 1.0000 (0.9762)  lr: 0.000093  iter-time: 0.0819\n",
            "[08:53:55.711598] Epoch: [5]  [ 30/122]  eta: 0:00:08  loss: 1.7657 (1.7619)  Accuracy: 0.7500 (0.7903)  Top 5 accuracy: 1.0000 (0.9597)  lr: 0.000092  iter-time: 0.0828\n",
            "[08:53:56.539178] Epoch: [5]  [ 40/122]  eta: 0:00:07  loss: 1.7546 (1.7573)  Accuracy: 0.7500 (0.7927)  Top 5 accuracy: 1.0000 (0.9634)  lr: 0.000091  iter-time: 0.0826\n",
            "[08:53:57.367683] Epoch: [5]  [ 50/122]  eta: 0:00:06  loss: 1.7323 (1.7567)  Accuracy: 0.8750 (0.7990)  Top 5 accuracy: 1.0000 (0.9559)  lr: 0.000090  iter-time: 0.0826\n",
            "[08:53:58.194960] Epoch: [5]  [ 60/122]  eta: 0:00:05  loss: 1.7478 (1.7643)  Accuracy: 0.8750 (0.7930)  Top 5 accuracy: 1.0000 (0.9549)  lr: 0.000089  iter-time: 0.0826\n",
            "[08:53:59.025127] Epoch: [5]  [ 70/122]  eta: 0:00:04  loss: 1.7799 (1.7669)  Accuracy: 0.7500 (0.7923)  Top 5 accuracy: 1.0000 (0.9577)  lr: 0.000088  iter-time: 0.0827\n",
            "[08:53:59.855590] Epoch: [5]  [ 80/122]  eta: 0:00:03  loss: 1.7386 (1.7608)  Accuracy: 0.8750 (0.7994)  Top 5 accuracy: 1.0000 (0.9568)  lr: 0.000087  iter-time: 0.0829\n",
            "[08:54:00.687659] Epoch: [5]  [ 90/122]  eta: 0:00:02  loss: 1.7032 (1.7554)  Accuracy: 0.8750 (0.8063)  Top 5 accuracy: 1.0000 (0.9547)  lr: 0.000085  iter-time: 0.0830\n",
            "[08:54:01.522426] Epoch: [5]  [100/122]  eta: 0:00:01  loss: 1.7321 (1.7612)  Accuracy: 0.7500 (0.7995)  Top 5 accuracy: 0.8750 (0.9505)  lr: 0.000084  iter-time: 0.0832\n",
            "[08:54:02.376166] Epoch: [5]  [110/122]  eta: 0:00:01  loss: 1.7741 (1.7629)  Accuracy: 0.7500 (0.7962)  Top 5 accuracy: 0.8750 (0.9516)  lr: 0.000083  iter-time: 0.0842\n",
            "[08:54:03.216125] Epoch: [5]  [120/122]  eta: 0:00:00  loss: 1.6891 (1.7572)  Accuracy: 0.8750 (0.8027)  Top 5 accuracy: 1.0000 (0.9525)  lr: 0.000081  iter-time: 0.0844\n",
            "[08:54:03.258675] Epoch: [5]  [121/122]  eta: 0:00:00  loss: 1.6891 (1.7614)  Accuracy: 0.8750 (0.7988)  Top 5 accuracy: 1.0000 (0.9529)  lr: 0.000081  iter-time: 0.0823\n",
            "[08:54:03.391132] Epoch: [5] Total time: 0:00:10 (0.0861 s / it)\n",
            "[08:54:03.391352] [Train] averaged stats: loss: 1.6891 (1.7614)  Accuracy: 0.8750 (0.7988)  Top 5 accuracy: 1.0000 (0.9529)  lr: 0.000081\n",
            "[08:54:03.664238] Epoch: [5]  [ 0/21]  eta: 0:00:05  loss: 1.5436 (1.5436)  Accuracy: 1.0000 (1.0000)  Top 5 accuracy: 1.0000 (1.0000)  iter-time: 0.2713\n",
            "[08:54:03.943450] Epoch: [5]  [10/21]  eta: 0:00:00  loss: 1.5476 (1.5616)  Accuracy: 1.0000 (0.9773)  Top 5 accuracy: 1.0000 (1.0000)  iter-time: 0.0495\n",
            "[08:54:04.175375] Epoch: [5]  [20/21]  eta: 0:00:00  loss: 1.5508 (1.6248)  Accuracy: 1.0000 (0.9048)  Top 5 accuracy: 1.0000 (0.9940)  iter-time: 0.0252\n",
            "[08:54:04.290689] Epoch: [5] Total time: 0:00:00 (0.0428 s / it)\n",
            "[08:54:04.290835] [Val] averaged stats: loss: 1.5508 (1.6248)  Accuracy: 1.0000 (0.9048)  Top 5 accuracy: 1.0000 (0.9940)\n",
            "[08:54:04.291577] [Val] best loss: 1.6112 best  Accuracy: 0.9286 Top 5 accuracy: 0.9940 \n",
            "[08:54:04.296512] Creating training plots . . .\n",
            "EarlyStopping counter: 1 out of 10\n",
            "[08:54:05.460409] [Time] 12.6s 1.3m/2.6m\n",
            "\n",
            "[08:54:05.460481] ~~~ Epoch 6/10 ~~~\n",
            "\n",
            "[08:54:06.061616] Epoch: [6]  [  0/122]  eta: 0:01:12  loss: 1.8147 (1.8147)  Accuracy: 0.7500 (0.7500)  Top 5 accuracy: 1.0000 (1.0000)  lr: 0.000081  iter-time: 0.5965\n",
            "[08:54:06.932695] Epoch: [6]  [ 10/122]  eta: 0:00:14  loss: 1.7502 (1.7294)  Accuracy: 0.8750 (0.8295)  Top 5 accuracy: 1.0000 (1.0000)  lr: 0.000079  iter-time: 0.1333\n",
            "[08:54:07.768875] Epoch: [6]  [ 20/122]  eta: 0:00:11  loss: 1.7324 (1.7277)  Accuracy: 0.8750 (0.8333)  Top 5 accuracy: 1.0000 (0.9881)  lr: 0.000078  iter-time: 0.0852\n",
            "[08:54:08.620384] Epoch: [6]  [ 30/122]  eta: 0:00:09  loss: 1.7944 (1.7462)  Accuracy: 0.7500 (0.8105)  Top 5 accuracy: 1.0000 (0.9758)  lr: 0.000076  iter-time: 0.0842\n",
            "[08:54:09.461703] Epoch: [6]  [ 40/122]  eta: 0:00:07  loss: 1.7742 (1.7387)  Accuracy: 0.7500 (0.8201)  Top 5 accuracy: 1.0000 (0.9726)  lr: 0.000075  iter-time: 0.0845\n",
            "[08:54:10.299729] Epoch: [6]  [ 50/122]  eta: 0:00:06  loss: 1.7356 (1.7442)  Accuracy: 0.7500 (0.8113)  Top 5 accuracy: 1.0000 (0.9730)  lr: 0.000073  iter-time: 0.0838\n",
            "[08:54:11.142795] Epoch: [6]  [ 60/122]  eta: 0:00:05  loss: 1.7488 (1.7390)  Accuracy: 0.7500 (0.8135)  Top 5 accuracy: 1.0000 (0.9672)  lr: 0.000072  iter-time: 0.0839\n",
            "[08:54:11.985979] Epoch: [6]  [ 70/122]  eta: 0:00:04  loss: 1.7266 (1.7367)  Accuracy: 0.8750 (0.8169)  Top 5 accuracy: 1.0000 (0.9648)  lr: 0.000070  iter-time: 0.0842\n",
            "[08:54:12.834558] Epoch: [6]  [ 80/122]  eta: 0:00:03  loss: 1.7037 (1.7324)  Accuracy: 0.8750 (0.8194)  Top 5 accuracy: 1.0000 (0.9614)  lr: 0.000068  iter-time: 0.0844\n",
            "[08:54:13.685298] Epoch: [6]  [ 90/122]  eta: 0:00:02  loss: 1.6685 (1.7245)  Accuracy: 0.8750 (0.8283)  Top 5 accuracy: 1.0000 (0.9615)  lr: 0.000066  iter-time: 0.0847\n",
            "[08:54:14.529206] Epoch: [6]  [100/122]  eta: 0:00:01  loss: 1.6816 (1.7293)  Accuracy: 0.8750 (0.8230)  Top 5 accuracy: 1.0000 (0.9616)  lr: 0.000065  iter-time: 0.0846\n",
            "[08:54:15.371947] Epoch: [6]  [110/122]  eta: 0:00:01  loss: 1.7612 (1.7309)  Accuracy: 0.7500 (0.8221)  Top 5 accuracy: 1.0000 (0.9617)  lr: 0.000063  iter-time: 0.0842\n",
            "[08:54:16.218585] Epoch: [6]  [120/122]  eta: 0:00:00  loss: 1.6693 (1.7250)  Accuracy: 0.8750 (0.8275)  Top 5 accuracy: 1.0000 (0.9628)  lr: 0.000061  iter-time: 0.0843\n",
            "[08:54:16.262641] Epoch: [6]  [121/122]  eta: 0:00:00  loss: 1.6693 (1.7265)  Accuracy: 0.8750 (0.8262)  Top 5 accuracy: 1.0000 (0.9631)  lr: 0.000061  iter-time: 0.0822\n",
            "[08:54:16.385431] Epoch: [6] Total time: 0:00:10 (0.0895 s / it)\n",
            "[08:54:16.385619] [Train] averaged stats: loss: 1.6693 (1.7265)  Accuracy: 0.8750 (0.8262)  Top 5 accuracy: 1.0000 (0.9631)  lr: 0.000061\n",
            "[08:54:16.651965] Epoch: [6]  [ 0/21]  eta: 0:00:05  loss: 1.5432 (1.5432)  Accuracy: 1.0000 (1.0000)  Top 5 accuracy: 1.0000 (1.0000)  iter-time: 0.2647\n",
            "[08:54:16.942402] Epoch: [6]  [10/21]  eta: 0:00:00  loss: 1.5467 (1.5559)  Accuracy: 1.0000 (0.9886)  Top 5 accuracy: 1.0000 (1.0000)  iter-time: 0.0501\n",
            "[08:54:17.185950] Epoch: [6]  [20/21]  eta: 0:00:00  loss: 1.5521 (1.5717)  Accuracy: 1.0000 (0.9821)  Top 5 accuracy: 1.0000 (1.0000)  iter-time: 0.0264\n",
            "[08:54:17.315699] Epoch: [6] Total time: 0:00:00 (0.0442 s / it)\n",
            "[08:54:17.315831] [Val] averaged stats: loss: 1.5521 (1.5717)  Accuracy: 1.0000 (0.9821)  Top 5 accuracy: 1.0000 (1.0000)\n",
            "[08:54:17.316612] Val loss improved from 1.6112048966544015 to 1.5717422564824421, saving model to /content/output/my_3d_classification/checkpoints/my_3d_classification_1-checkpoint-best.pth\n",
            "[08:54:17.378462] [Val] best loss: 1.5717 best  Accuracy: 0.9821 Top 5 accuracy: 1.0000 \n",
            "[08:54:17.381045] [Time] 11.9s 1.5m/2.5m\n",
            "\n",
            "[08:54:17.381948] ~~~ Epoch 7/10 ~~~\n",
            "\n",
            "[08:54:17.905722] Epoch: [7]  [  0/122]  eta: 0:01:03  loss: 1.6958 (1.6958)  Accuracy: 0.8750 (0.8750)  Top 5 accuracy: 1.0000 (1.0000)  lr: 0.000061  iter-time: 0.5180\n",
            "[08:54:18.845892] Epoch: [7]  [ 10/122]  eta: 0:00:14  loss: 1.6498 (1.6425)  Accuracy: 0.8750 (0.9318)  Top 5 accuracy: 1.0000 (0.9886)  lr: 0.000059  iter-time: 0.1324\n",
            "[08:54:19.783702] Epoch: [7]  [ 20/122]  eta: 0:00:11  loss: 1.6472 (1.6660)  Accuracy: 0.8750 (0.9107)  Top 5 accuracy: 1.0000 (0.9940)  lr: 0.000057  iter-time: 0.0937\n",
            "[08:54:20.694760] Epoch: [7]  [ 30/122]  eta: 0:00:09  loss: 1.6941 (1.6842)  Accuracy: 0.8750 (0.8831)  Top 5 accuracy: 1.0000 (0.9919)  lr: 0.000055  iter-time: 0.0922\n",
            "[08:54:21.642987] Epoch: [7]  [ 40/122]  eta: 0:00:08  loss: 1.6941 (1.7005)  Accuracy: 0.8750 (0.8628)  Top 5 accuracy: 1.0000 (0.9878)  lr: 0.000053  iter-time: 0.0928\n",
            "[08:54:22.524779] Epoch: [7]  [ 50/122]  eta: 0:00:07  loss: 1.7496 (1.7087)  Accuracy: 0.7500 (0.8505)  Top 5 accuracy: 1.0000 (0.9828)  lr: 0.000052  iter-time: 0.0914\n",
            "[08:54:23.385601] Epoch: [7]  [ 60/122]  eta: 0:00:06  loss: 1.7706 (1.7110)  Accuracy: 0.7500 (0.8484)  Top 5 accuracy: 1.0000 (0.9816)  lr: 0.000050  iter-time: 0.0870\n",
            "[08:54:24.238587] Epoch: [7]  [ 70/122]  eta: 0:00:05  loss: 1.7041 (1.7099)  Accuracy: 0.8750 (0.8504)  Top 5 accuracy: 1.0000 (0.9824)  lr: 0.000048  iter-time: 0.0855\n",
            "[08:54:25.089357] Epoch: [7]  [ 80/122]  eta: 0:00:03  loss: 1.7041 (1.7105)  Accuracy: 0.8750 (0.8503)  Top 5 accuracy: 1.0000 (0.9784)  lr: 0.000046  iter-time: 0.0851\n",
            "[08:54:25.948814] Epoch: [7]  [ 90/122]  eta: 0:00:03  loss: 1.6701 (1.7032)  Accuracy: 0.8750 (0.8558)  Top 5 accuracy: 1.0000 (0.9794)  lr: 0.000044  iter-time: 0.0854\n",
            "[08:54:26.803658] Epoch: [7]  [100/122]  eta: 0:00:02  loss: 1.6790 (1.7106)  Accuracy: 0.8750 (0.8490)  Top 5 accuracy: 1.0000 (0.9752)  lr: 0.000042  iter-time: 0.0856\n",
            "[08:54:27.667203] Epoch: [7]  [110/122]  eta: 0:00:01  loss: 1.7100 (1.7106)  Accuracy: 0.8750 (0.8457)  Top 5 accuracy: 1.0000 (0.9730)  lr: 0.000041  iter-time: 0.0857\n",
            "[08:54:28.516427] Epoch: [7]  [120/122]  eta: 0:00:00  loss: 1.6662 (1.7060)  Accuracy: 0.8750 (0.8492)  Top 5 accuracy: 1.0000 (0.9742)  lr: 0.000039  iter-time: 0.0855\n",
            "[08:54:28.559802] Epoch: [7]  [121/122]  eta: 0:00:00  loss: 1.6662 (1.7074)  Accuracy: 0.8750 (0.8477)  Top 5 accuracy: 1.0000 (0.9744)  lr: 0.000039  iter-time: 0.0834\n",
            "[08:54:28.650976] Epoch: [7] Total time: 0:00:11 (0.0924 s / it)\n",
            "[08:54:28.651162] [Train] averaged stats: loss: 1.6662 (1.7074)  Accuracy: 0.8750 (0.8477)  Top 5 accuracy: 1.0000 (0.9744)  lr: 0.000039\n",
            "[08:54:28.855057] Epoch: [7]  [ 0/21]  eta: 0:00:04  loss: 1.5431 (1.5431)  Accuracy: 1.0000 (1.0000)  Top 5 accuracy: 1.0000 (1.0000)  iter-time: 0.2005\n",
            "[08:54:29.113814] Epoch: [7]  [10/21]  eta: 0:00:00  loss: 1.5438 (1.5532)  Accuracy: 1.0000 (1.0000)  Top 5 accuracy: 1.0000 (1.0000)  iter-time: 0.0417\n",
            "[08:54:29.353850] Epoch: [7]  [20/21]  eta: 0:00:00  loss: 1.5463 (1.5828)  Accuracy: 1.0000 (0.9881)  Top 5 accuracy: 1.0000 (1.0000)  iter-time: 0.0249\n",
            "[08:54:29.438762] Epoch: [7] Total time: 0:00:00 (0.0374 s / it)\n",
            "[08:54:29.438897] [Val] averaged stats: loss: 1.5463 (1.5828)  Accuracy: 1.0000 (0.9881)  Top 5 accuracy: 1.0000 (1.0000)\n",
            "[08:54:29.441349] [Val] best loss: 1.5717 best  Accuracy: 0.9821 Top 5 accuracy: 1.0000 \n",
            "EarlyStopping counter: 1 out of 10\n",
            "[08:54:29.443809] [Time] 12.1s 1.7m/2.5m\n",
            "\n",
            "[08:54:29.444843] ~~~ Epoch 8/10 ~~~\n",
            "\n",
            "[08:54:29.852481] Epoch: [8]  [  0/122]  eta: 0:00:49  loss: 1.6633 (1.6633)  Accuracy: 0.8750 (0.8750)  Top 5 accuracy: 1.0000 (1.0000)  lr: 0.000039  iter-time: 0.4038\n",
            "[08:54:30.737606] Epoch: [8]  [ 10/122]  eta: 0:00:13  loss: 1.6538 (1.6398)  Accuracy: 0.8750 (0.9205)  Top 5 accuracy: 1.0000 (1.0000)  lr: 0.000037  iter-time: 0.1171\n",
            "[08:54:31.598345] Epoch: [8]  [ 20/122]  eta: 0:00:10  loss: 1.6538 (1.6440)  Accuracy: 0.8750 (0.9107)  Top 5 accuracy: 1.0000 (1.0000)  lr: 0.000035  iter-time: 0.0871\n",
            "[08:54:32.498204] Epoch: [8]  [ 30/122]  eta: 0:00:09  loss: 1.6929 (1.6693)  Accuracy: 0.8750 (0.8831)  Top 5 accuracy: 1.0000 (0.9839)  lr: 0.000033  iter-time: 0.0879\n",
            "[08:54:33.418229] Epoch: [8]  [ 40/122]  eta: 0:00:07  loss: 1.6929 (1.6742)  Accuracy: 0.8750 (0.8780)  Top 5 accuracy: 1.0000 (0.9787)  lr: 0.000032  iter-time: 0.0909\n",
            "[08:54:34.350736] Epoch: [8]  [ 50/122]  eta: 0:00:06  loss: 1.6505 (1.6762)  Accuracy: 0.8750 (0.8775)  Top 5 accuracy: 1.0000 (0.9828)  lr: 0.000030  iter-time: 0.0925\n",
            "[08:54:35.295697] Epoch: [8]  [ 60/122]  eta: 0:00:05  loss: 1.6929 (1.6793)  Accuracy: 0.8750 (0.8750)  Top 5 accuracy: 1.0000 (0.9836)  lr: 0.000028  iter-time: 0.0937\n",
            "[08:54:36.241968] Epoch: [8]  [ 70/122]  eta: 0:00:04  loss: 1.6652 (1.6792)  Accuracy: 0.8750 (0.8750)  Top 5 accuracy: 1.0000 (0.9859)  lr: 0.000027  iter-time: 0.0943\n",
            "[08:54:37.197809] Epoch: [8]  [ 80/122]  eta: 0:00:04  loss: 1.6612 (1.6812)  Accuracy: 0.8750 (0.8750)  Top 5 accuracy: 1.0000 (0.9799)  lr: 0.000025  iter-time: 0.0949\n",
            "[08:54:38.135058] Epoch: [8]  [ 90/122]  eta: 0:00:03  loss: 1.6504 (1.6785)  Accuracy: 0.8750 (0.8750)  Top 5 accuracy: 1.0000 (0.9794)  lr: 0.000023  iter-time: 0.0944\n",
            "[08:54:39.073846] Epoch: [8]  [100/122]  eta: 0:00:02  loss: 1.6634 (1.6836)  Accuracy: 0.8750 (0.8700)  Top 5 accuracy: 1.0000 (0.9777)  lr: 0.000022  iter-time: 0.0936\n",
            "[08:54:39.977184] Epoch: [8]  [110/122]  eta: 0:00:01  loss: 1.6805 (1.6821)  Accuracy: 0.8750 (0.8716)  Top 5 accuracy: 1.0000 (0.9775)  lr: 0.000020  iter-time: 0.0920\n",
            "[08:54:40.848297] Epoch: [8]  [120/122]  eta: 0:00:00  loss: 1.6278 (1.6768)  Accuracy: 0.8750 (0.8760)  Top 5 accuracy: 1.0000 (0.9793)  lr: 0.000019  iter-time: 0.0886\n",
            "[08:54:40.891588] Epoch: [8]  [121/122]  eta: 0:00:00  loss: 1.6278 (1.6779)  Accuracy: 0.8750 (0.8743)  Top 5 accuracy: 1.0000 (0.9795)  lr: 0.000019  iter-time: 0.0857\n",
            "[08:54:40.981415] Epoch: [8] Total time: 0:00:11 (0.0946 s / it)\n",
            "[08:54:40.981605] [Train] averaged stats: loss: 1.6278 (1.6779)  Accuracy: 0.8750 (0.8743)  Top 5 accuracy: 1.0000 (0.9795)  lr: 0.000019\n",
            "[08:54:41.206030] Epoch: [8]  [ 0/21]  eta: 0:00:04  loss: 1.5431 (1.5431)  Accuracy: 1.0000 (1.0000)  Top 5 accuracy: 1.0000 (1.0000)  iter-time: 0.2206\n",
            "[08:54:41.467112] Epoch: [8]  [10/21]  eta: 0:00:00  loss: 1.5437 (1.5517)  Accuracy: 1.0000 (1.0000)  Top 5 accuracy: 1.0000 (1.0000)  iter-time: 0.0435\n",
            "[08:54:41.706579] Epoch: [8]  [20/21]  eta: 0:00:00  loss: 1.5456 (1.5660)  Accuracy: 1.0000 (0.9821)  Top 5 accuracy: 1.0000 (1.0000)  iter-time: 0.0248\n",
            "[08:54:41.785965] Epoch: [8] Total time: 0:00:00 (0.0382 s / it)\n",
            "[08:54:41.786094] [Val] averaged stats: loss: 1.5456 (1.5660)  Accuracy: 1.0000 (0.9821)  Top 5 accuracy: 1.0000 (1.0000)\n",
            "[08:54:41.788917] Val loss improved from 1.5717422564824421 to 1.5660138470785958, saving model to /content/output/my_3d_classification/checkpoints/my_3d_classification_1-checkpoint-best.pth\n",
            "[08:54:41.828527] [Val] best loss: 1.5660 best  Accuracy: 0.9821 Top 5 accuracy: 1.0000 \n",
            "[08:54:41.830896] [Time] 12.4s 1.9m/2.5m\n",
            "\n",
            "[08:54:41.830978] ~~~ Epoch 9/10 ~~~\n",
            "\n",
            "[08:54:42.167971] Epoch: [9]  [  0/122]  eta: 0:00:40  loss: 1.6377 (1.6377)  Accuracy: 0.8750 (0.8750)  Top 5 accuracy: 1.0000 (1.0000)  lr: 0.000019  iter-time: 0.3337\n",
            "[08:54:43.059526] Epoch: [9]  [ 10/122]  eta: 0:00:12  loss: 1.6377 (1.6216)  Accuracy: 0.8750 (0.9205)  Top 5 accuracy: 1.0000 (1.0000)  lr: 0.000017  iter-time: 0.1112\n",
            "[08:54:43.937469] Epoch: [9]  [ 20/122]  eta: 0:00:10  loss: 1.6129 (1.6306)  Accuracy: 0.8750 (0.9226)  Top 5 accuracy: 1.0000 (1.0000)  lr: 0.000016  iter-time: 0.0883\n",
            "[08:54:44.821635] Epoch: [9]  [ 30/122]  eta: 0:00:08  loss: 1.6675 (1.6494)  Accuracy: 0.8750 (0.9032)  Top 5 accuracy: 1.0000 (0.9919)  lr: 0.000014  iter-time: 0.0880\n",
            "[08:54:45.703256] Epoch: [9]  [ 40/122]  eta: 0:00:07  loss: 1.6675 (1.6551)  Accuracy: 0.8750 (0.8963)  Top 5 accuracy: 1.0000 (0.9848)  lr: 0.000013  iter-time: 0.0882\n",
            "[08:54:46.583947] Epoch: [9]  [ 50/122]  eta: 0:00:06  loss: 1.6487 (1.6587)  Accuracy: 0.8750 (0.8922)  Top 5 accuracy: 1.0000 (0.9853)  lr: 0.000012  iter-time: 0.0880\n",
            "[08:54:47.463298] Epoch: [9]  [ 60/122]  eta: 0:00:05  loss: 1.6721 (1.6634)  Accuracy: 0.8750 (0.8873)  Top 5 accuracy: 1.0000 (0.9857)  lr: 0.000011  iter-time: 0.0879\n",
            "[08:54:48.343938] Epoch: [9]  [ 70/122]  eta: 0:00:04  loss: 1.6858 (1.6640)  Accuracy: 0.8750 (0.8873)  Top 5 accuracy: 1.0000 (0.9877)  lr: 0.000010  iter-time: 0.0879\n",
            "[08:54:49.223132] Epoch: [9]  [ 80/122]  eta: 0:00:03  loss: 1.6586 (1.6663)  Accuracy: 0.8750 (0.8858)  Top 5 accuracy: 1.0000 (0.9846)  lr: 0.000009  iter-time: 0.0878\n",
            "[08:54:50.135745] Epoch: [9]  [ 90/122]  eta: 0:00:02  loss: 1.6708 (1.6675)  Accuracy: 0.8750 (0.8860)  Top 5 accuracy: 1.0000 (0.9849)  lr: 0.000008  iter-time: 0.0894\n",
            "[08:54:51.070976] Epoch: [9]  [100/122]  eta: 0:00:02  loss: 1.6868 (1.6758)  Accuracy: 0.8750 (0.8775)  Top 5 accuracy: 1.0000 (0.9839)  lr: 0.000007  iter-time: 0.0922\n",
            "[08:54:51.998683] Epoch: [9]  [110/122]  eta: 0:00:01  loss: 1.6693 (1.6745)  Accuracy: 0.8750 (0.8795)  Top 5 accuracy: 1.0000 (0.9831)  lr: 0.000006  iter-time: 0.0928\n",
            "[08:54:52.896240] Epoch: [9]  [120/122]  eta: 0:00:00  loss: 1.5896 (1.6702)  Accuracy: 1.0000 (0.8843)  Top 5 accuracy: 1.0000 (0.9824)  lr: 0.000005  iter-time: 0.0910\n",
            "[08:54:52.943826] Epoch: [9]  [121/122]  eta: 0:00:00  loss: 1.6144 (1.6719)  Accuracy: 0.8750 (0.8825)  Top 5 accuracy: 1.0000 (0.9826)  lr: 0.000005  iter-time: 0.0889\n",
            "[08:54:53.060386] Epoch: [9] Total time: 0:00:11 (0.0920 s / it)\n",
            "[08:54:53.060610] [Train] averaged stats: loss: 1.6144 (1.6719)  Accuracy: 0.8750 (0.8825)  Top 5 accuracy: 1.0000 (0.9826)  lr: 0.000005\n",
            "[08:54:53.369624] Epoch: [9]  [ 0/21]  eta: 0:00:06  loss: 1.5431 (1.5431)  Accuracy: 1.0000 (1.0000)  Top 5 accuracy: 1.0000 (1.0000)  iter-time: 0.3072\n",
            "[08:54:53.626293] Epoch: [9]  [10/21]  eta: 0:00:00  loss: 1.5440 (1.5527)  Accuracy: 1.0000 (0.9886)  Top 5 accuracy: 1.0000 (1.0000)  iter-time: 0.0512\n",
            "[08:54:53.869437] Epoch: [9]  [20/21]  eta: 0:00:00  loss: 1.5454 (1.5640)  Accuracy: 1.0000 (0.9821)  Top 5 accuracy: 1.0000 (1.0000)  iter-time: 0.0249\n",
            "[08:54:53.948163] Epoch: [9] Total time: 0:00:00 (0.0422 s / it)\n",
            "[08:54:53.948420] [Val] averaged stats: loss: 1.5454 (1.5640)  Accuracy: 1.0000 (0.9821)  Top 5 accuracy: 1.0000 (1.0000)\n",
            "[08:54:53.949180] Val loss improved from 1.5660138470785958 to 1.5639952988851638, saving model to /content/output/my_3d_classification/checkpoints/my_3d_classification_1-checkpoint-best.pth\n",
            "[08:54:54.000930] [Val] best loss: 1.5640 best  Accuracy: 0.9821 Top 5 accuracy: 1.0000 \n",
            "[08:54:54.003501] [Time] 12.2s 2.1m/2.5m\n",
            "\n",
            "[08:54:54.004284] ~~~ Epoch 10/10 ~~~\n",
            "\n",
            "[08:54:54.357644] Epoch: [10]  [  0/122]  eta: 0:00:42  loss: 1.6700 (1.6700)  Accuracy: 1.0000 (1.0000)  Top 5 accuracy: 1.0000 (1.0000)  lr: 0.000005  iter-time: 0.3478\n",
            "[08:54:55.258734] Epoch: [10]  [ 10/122]  eta: 0:00:12  loss: 1.5782 (1.6040)  Accuracy: 1.0000 (0.9659)  Top 5 accuracy: 1.0000 (1.0000)  lr: 0.000004  iter-time: 0.1134\n",
            "[08:54:56.140957] Epoch: [10]  [ 20/122]  eta: 0:00:10  loss: 1.5782 (1.6354)  Accuracy: 1.0000 (0.9345)  Top 5 accuracy: 1.0000 (0.9940)  lr: 0.000003  iter-time: 0.0890\n",
            "[08:54:57.022184] Epoch: [10]  [ 30/122]  eta: 0:00:08  loss: 1.6780 (1.6503)  Accuracy: 0.8750 (0.9113)  Top 5 accuracy: 1.0000 (0.9919)  lr: 0.000003  iter-time: 0.0880\n",
            "[08:54:57.919245] Epoch: [10]  [ 40/122]  eta: 0:00:07  loss: 1.6738 (1.6597)  Accuracy: 0.8750 (0.8963)  Top 5 accuracy: 1.0000 (0.9817)  lr: 0.000002  iter-time: 0.0887\n",
            "[08:54:58.809428] Epoch: [10]  [ 50/122]  eta: 0:00:06  loss: 1.6606 (1.6591)  Accuracy: 0.8750 (0.8971)  Top 5 accuracy: 1.0000 (0.9853)  lr: 0.000002  iter-time: 0.0891\n",
            "[08:54:59.699486] Epoch: [10]  [ 60/122]  eta: 0:00:05  loss: 1.6512 (1.6621)  Accuracy: 0.8750 (0.8914)  Top 5 accuracy: 1.0000 (0.9857)  lr: 0.000001  iter-time: 0.0888\n",
            "[08:55:00.589811] Epoch: [10]  [ 70/122]  eta: 0:00:04  loss: 1.6620 (1.6616)  Accuracy: 0.8750 (0.8926)  Top 5 accuracy: 1.0000 (0.9877)  lr: 0.000001  iter-time: 0.0888\n",
            "[08:55:01.473106] Epoch: [10]  [ 80/122]  eta: 0:00:03  loss: 1.5789 (1.6575)  Accuracy: 0.8750 (0.8966)  Top 5 accuracy: 1.0000 (0.9846)  lr: 0.000001  iter-time: 0.0885\n",
            "[08:55:02.365632] Epoch: [10]  [ 90/122]  eta: 0:00:02  loss: 1.6221 (1.6549)  Accuracy: 0.8750 (0.8984)  Top 5 accuracy: 1.0000 (0.9835)  lr: 0.000000  iter-time: 0.0887\n",
            "[08:55:03.249950] Epoch: [10]  [100/122]  eta: 0:00:02  loss: 1.6657 (1.6638)  Accuracy: 0.8750 (0.8899)  Top 5 accuracy: 1.0000 (0.9814)  lr: 0.000000  iter-time: 0.0887\n",
            "[08:55:04.203605] Epoch: [10]  [110/122]  eta: 0:00:01  loss: 1.6741 (1.6607)  Accuracy: 0.8750 (0.8941)  Top 5 accuracy: 1.0000 (0.9809)  lr: 0.000000  iter-time: 0.0917\n",
            "[08:55:05.086701] Epoch: [10]  [120/122]  eta: 0:00:00  loss: 1.6147 (1.6582)  Accuracy: 1.0000 (0.8967)  Top 5 accuracy: 1.0000 (0.9824)  lr: 0.000000  iter-time: 0.0917\n",
            "[08:55:05.130923] Epoch: [10]  [121/122]  eta: 0:00:00  loss: 1.6298 (1.6586)  Accuracy: 1.0000 (0.8975)  Top 5 accuracy: 1.0000 (0.9826)  lr: 0.000000  iter-time: 0.0894\n",
            "[08:55:05.242734] Epoch: [10] Total time: 0:00:11 (0.0921 s / it)\n",
            "[08:55:05.242934] [Train] averaged stats: loss: 1.6298 (1.6586)  Accuracy: 1.0000 (0.8975)  Top 5 accuracy: 1.0000 (0.9826)  lr: 0.000000\n",
            "[08:55:05.509244] Epoch: [10]  [ 0/21]  eta: 0:00:05  loss: 1.5431 (1.5431)  Accuracy: 1.0000 (1.0000)  Top 5 accuracy: 1.0000 (1.0000)  iter-time: 0.2643\n",
            "[08:55:05.820022] Epoch: [10]  [10/21]  eta: 0:00:00  loss: 1.5437 (1.5499)  Accuracy: 1.0000 (1.0000)  Top 5 accuracy: 1.0000 (1.0000)  iter-time: 0.0517\n",
            "[08:55:06.066804] Epoch: [10]  [20/21]  eta: 0:00:00  loss: 1.5463 (1.5617)  Accuracy: 1.0000 (0.9881)  Top 5 accuracy: 1.0000 (1.0000)  iter-time: 0.0275\n",
            "[08:55:06.182370] Epoch: [10] Total time: 0:00:00 (0.0447 s / it)\n",
            "[08:55:06.182524] [Val] averaged stats: loss: 1.5463 (1.5617)  Accuracy: 1.0000 (0.9881)  Top 5 accuracy: 1.0000 (1.0000)\n",
            "[08:55:06.183196] Val loss improved from 1.5639952988851638 to 1.5616942530586606, saving model to /content/output/my_3d_classification/checkpoints/my_3d_classification_1-checkpoint-best.pth\n",
            "[08:55:06.243141] [Val] best loss: 1.5617 best  Accuracy: 0.9881 Top 5 accuracy: 1.0000 \n",
            "[08:55:06.246138] Creating training plots . . .\n",
            "[08:55:06.849446] [Time] 12.8s 2.3m/2.6m\n",
            "\n",
            "[08:55:06.849576] Training time: 0:02:20\n",
            "[08:55:06.849630] Train loss: 1.658557825401181\n",
            "[08:55:06.851516] Train Accuracy: 0.8975409836065574\n",
            "[08:55:06.851569] Train Top 5 accuracy: 0.9825819672131147\n",
            "[08:55:06.851620] Validation loss: 1.5616942530586606\n",
            "[08:55:06.853758] Validation Accuracy: 0.988095223903656\n",
            "[08:55:06.853814] Validation Top 5 accuracy: 1.0\n",
            "[08:55:06.853856] Finished Training\n",
            "[08:55:07.201899] Releasing memory . . .\n",
            "[08:55:07.202267] ######################\n",
            "#   LOAD TEST DATA   #\n",
            "######################\n",
            "\n",
            "[08:55:07.202418] 2) Loading test images . . .\n",
            "[08:55:07.202511] ### LOAD ###\n",
            "[08:55:07.205576] Found 11 classes\n",
            "[08:55:07.205675] Analizing folder /content/data/test/0\n",
            "[08:55:07.207075] Found 69 samples\n",
            "[08:55:07.207891] Loading data from /content/data/test/0\n"
          ]
        },
        {
          "output_type": "stream",
          "name": "stderr",
          "text": [
            "100%|██████████| 69/69 [00:00<00:00, 416.93it/s]\n"
          ]
        },
        {
          "output_type": "stream",
          "name": "stdout",
          "text": [
            "[08:55:07.385001] *** Loaded data shape is (69, 28, 28, 28, 1)\n",
            "[08:55:07.385125] Analizing folder /content/data/test/1\n",
            "[08:55:07.386758] Found 68 samples\n",
            "[08:55:07.387512] Loading data from /content/data/test/1\n"
          ]
        },
        {
          "output_type": "stream",
          "name": "stderr",
          "text": [
            "100%|██████████| 68/68 [00:00<00:00, 399.69it/s]\n"
          ]
        },
        {
          "output_type": "stream",
          "name": "stdout",
          "text": [
            "[08:55:07.568160] *** Loaded data shape is (68, 28, 28, 28, 1)\n",
            "[08:55:07.568289] Analizing folder /content/data/test/10\n",
            "[08:55:07.570101] Found 69 samples\n",
            "[08:55:07.570177] Loading data from /content/data/test/10\n"
          ]
        },
        {
          "output_type": "stream",
          "name": "stderr",
          "text": [
            "100%|██████████| 69/69 [00:00<00:00, 431.02it/s]\n"
          ]
        },
        {
          "output_type": "stream",
          "name": "stdout",
          "text": [
            "[08:55:07.742786] *** Loaded data shape is (69, 28, 28, 28, 1)\n",
            "[08:55:07.742907] Analizing folder /content/data/test/2\n",
            "[08:55:07.744514] Found 69 samples\n",
            "[08:55:07.744583] Loading data from /content/data/test/2\n"
          ]
        },
        {
          "output_type": "stream",
          "name": "stderr",
          "text": [
            "100%|██████████| 69/69 [00:00<00:00, 434.33it/s]\n"
          ]
        },
        {
          "output_type": "stream",
          "name": "stdout",
          "text": [
            "[08:55:07.917732] *** Loaded data shape is (69, 28, 28, 28, 1)\n",
            "[08:55:07.917851] Analizing folder /content/data/test/3\n",
            "[08:55:07.921378] Found 65 samples\n",
            "[08:55:07.921475] Loading data from /content/data/test/3\n"
          ]
        },
        {
          "output_type": "stream",
          "name": "stderr",
          "text": [
            "100%|██████████| 65/65 [00:00<00:00, 385.82it/s]\n"
          ]
        },
        {
          "output_type": "stream",
          "name": "stdout",
          "text": [
            "[08:55:08.103920] *** Loaded data shape is (65, 28, 28, 28, 1)\n",
            "[08:55:08.104349] Analizing folder /content/data/test/4\n",
            "[08:55:08.105799] Found 65 samples\n",
            "[08:55:08.105871] Loading data from /content/data/test/4\n"
          ]
        },
        {
          "output_type": "stream",
          "name": "stderr",
          "text": [
            "100%|██████████| 65/65 [00:00<00:00, 342.76it/s]\n"
          ]
        },
        {
          "output_type": "stream",
          "name": "stdout",
          "text": [
            "[08:55:08.309485] *** Loaded data shape is (65, 28, 28, 28, 1)\n",
            "[08:55:08.310770] Analizing folder /content/data/test/5\n",
            "[08:55:08.312369] Found 66 samples\n",
            "[08:55:08.312438] Loading data from /content/data/test/5\n"
          ]
        },
        {
          "output_type": "stream",
          "name": "stderr",
          "text": [
            "100%|██████████| 66/66 [00:00<00:00, 398.92it/s]\n"
          ]
        },
        {
          "output_type": "stream",
          "name": "stdout",
          "text": [
            "[08:55:08.490199] *** Loaded data shape is (66, 28, 28, 28, 1)\n",
            "[08:55:08.490375] Analizing folder /content/data/test/6\n",
            "[08:55:08.492027] Found 28 samples\n",
            "[08:55:08.492098] Loading data from /content/data/test/6\n"
          ]
        },
        {
          "output_type": "stream",
          "name": "stderr",
          "text": [
            "100%|██████████| 28/28 [00:00<00:00, 414.90it/s]\n"
          ]
        },
        {
          "output_type": "stream",
          "name": "stdout",
          "text": [
            "[08:55:08.568324] *** Loaded data shape is (28, 28, 28, 28, 1)\n",
            "[08:55:08.568481] Analizing folder /content/data/test/7\n",
            "[08:55:08.568701] Found 21 samples\n",
            "[08:55:08.568750] Loading data from /content/data/test/7\n"
          ]
        },
        {
          "output_type": "stream",
          "name": "stderr",
          "text": [
            "100%|██████████| 21/21 [00:00<00:00, 394.72it/s]\n"
          ]
        },
        {
          "output_type": "stream",
          "name": "stdout",
          "text": [
            "[08:55:08.635033] *** Loaded data shape is (21, 28, 28, 28, 1)\n",
            "[08:55:08.635152] Analizing folder /content/data/test/8\n",
            "[08:55:08.635294] Found 21 samples\n",
            "[08:55:08.635382] Loading data from /content/data/test/8\n"
          ]
        },
        {
          "output_type": "stream",
          "name": "stderr",
          "text": [
            "100%|██████████| 21/21 [00:00<00:00, 383.25it/s]\n"
          ]
        },
        {
          "output_type": "stream",
          "name": "stdout",
          "text": [
            "[08:55:08.703187] *** Loaded data shape is (21, 28, 28, 28, 1)\n",
            "[08:55:08.704182] Analizing folder /content/data/test/9\n",
            "[08:55:08.704998] Found 69 samples\n",
            "[08:55:08.705724] Loading data from /content/data/test/9\n"
          ]
        },
        {
          "output_type": "stream",
          "name": "stderr",
          "text": [
            "100%|██████████| 69/69 [00:00<00:00, 413.10it/s]\n",
            "/usr/local/lib/python3.10/dist-packages/biapy/utils/misc.py:230: FutureWarning: You are using `torch.load` with `weights_only=False` (the current default value), which uses the default pickle module implicitly. It is possible to construct malicious pickle data which will execute arbitrary code during unpickling (See https://github.com/pytorch/pytorch/blob/main/SECURITY.md#untrusted-models for more details). In a future release, the default value for `weights_only` will be flipped to `True`. This limits the functions that could be executed during unpickling. Arbitrary objects will no longer be allowed to be loaded via this mode unless they are explicitly allowlisted by the user via `torch.serialization.add_safe_globals`. We recommend you start setting `weights_only=True` for any use case where you don't have full control of the loaded file. Please open an issue on GitHub for any issues related to this experimental feature.\n",
            "  checkpoint = torch.load(resume, map_location=device)\n"
          ]
        },
        {
          "output_type": "stream",
          "name": "stdout",
          "text": [
            "[08:55:08.883712] *** Loaded data shape is (69, 28, 28, 28, 1)\n",
            "[08:55:08.889986] *** Loaded train data shape is: (610, 28, 28, 28, 1)\n",
            "[08:55:08.892119] ############################\n",
            "[08:55:08.892187] #  PREPARE TEST GENERATOR  #\n",
            "[08:55:08.893196] ############################\n",
            "[08:55:08.895079] Loading checkpoint from file /content/output/my_3d_classification/checkpoints/my_3d_classification_1-checkpoint-best.pth\n",
            "[08:55:08.931671] Model weights loaded!\n",
            "[08:55:08.933078] ###############\n",
            "[08:55:08.933156] #  INFERENCE  #\n",
            "[08:55:08.933196] ###############\n",
            "[08:55:08.933237] Making predictions on test data . . .\n"
          ]
        },
        {
          "output_type": "stream",
          "name": "stderr",
          "text": [
            "\r  0%|          | 0/610 [00:00<?, ?it/s]"
          ]
        },
        {
          "output_type": "stream",
          "name": "stdout",
          "text": [
            "[08:55:08.947225] Processing image: img_010.tif\n"
          ]
        },
        {
          "output_type": "stream",
          "name": "stderr",
          "text": [
            "\n",
            "  0%|          | 0/1 [00:00<?, ?it/s]\u001b[A/usr/local/lib/python3.10/dist-packages/biapy/engine/classification.py:359: FutureWarning: `torch.cuda.amp.autocast(args...)` is deprecated. Please use `torch.amp.autocast('cuda', args...)` instead.\n",
            "  with torch.cuda.amp.autocast():\n",
            "\n",
            "100%|██████████| 1/1 [00:00<00:00,  2.86it/s]\u001b[A\n",
            "  0%|          | 1/610 [00:00<03:48,  2.67it/s]"
          ]
        },
        {
          "output_type": "stream",
          "name": "stdout",
          "text": [
            "[08:55:09.322755] Processing image: img_021.tif\n"
          ]
        },
        {
          "output_type": "stream",
          "name": "stderr",
          "text": [
            "\n",
            "  0%|          | 0/1 [00:00<?, ?it/s]\u001b[A\n",
            "                                     \u001b[A"
          ]
        },
        {
          "output_type": "stream",
          "name": "stdout",
          "text": [
            "[08:55:09.346909] Processing image: img_044.tif\n"
          ]
        },
        {
          "output_type": "stream",
          "name": "stderr",
          "text": [
            "\n",
            "  0%|          | 0/1 [00:00<?, ?it/s]\u001b[A\n",
            "                                     \u001b[A"
          ]
        },
        {
          "output_type": "stream",
          "name": "stdout",
          "text": [
            "[08:55:09.370888] Processing image: img_048.tif\n"
          ]
        },
        {
          "output_type": "stream",
          "name": "stderr",
          "text": [
            "\n",
            "  0%|          | 0/1 [00:00<?, ?it/s]\u001b[A\n",
            "                                     \u001b[A"
          ]
        },
        {
          "output_type": "stream",
          "name": "stdout",
          "text": [
            "[08:55:09.392610] Processing image: img_055.tif\n"
          ]
        },
        {
          "output_type": "stream",
          "name": "stderr",
          "text": [
            "\n",
            "  0%|          | 0/1 [00:00<?, ?it/s]\u001b[A\n",
            "                                     \u001b[A"
          ]
        },
        {
          "output_type": "stream",
          "name": "stdout",
          "text": [
            "[08:55:09.416203] Processing image: img_078.tif\n"
          ]
        },
        {
          "output_type": "stream",
          "name": "stderr",
          "text": [
            "\n",
            "  0%|          | 0/1 [00:00<?, ?it/s]\u001b[A\n",
            "  1%|          | 6/610 [00:00<00:40, 14.89it/s]"
          ]
        },
        {
          "output_type": "stream",
          "name": "stdout",
          "text": [
            "[08:55:09.443117] Processing image: img_080.tif\n"
          ]
        },
        {
          "output_type": "stream",
          "name": "stderr",
          "text": [
            "\n",
            "  0%|          | 0/1 [00:00<?, ?it/s]\u001b[A\n",
            "                                     \u001b[A"
          ]
        },
        {
          "output_type": "stream",
          "name": "stdout",
          "text": [
            "[08:55:09.465387] Processing image: img_090.tif\n"
          ]
        },
        {
          "output_type": "stream",
          "name": "stderr",
          "text": [
            "\n",
            "  0%|          | 0/1 [00:00<?, ?it/s]\u001b[A\n",
            "                                     \u001b[A"
          ]
        },
        {
          "output_type": "stream",
          "name": "stdout",
          "text": [
            "[08:55:09.496865] Processing image: img_094.tif\n"
          ]
        },
        {
          "output_type": "stream",
          "name": "stderr",
          "text": [
            "\n",
            "  0%|          | 0/1 [00:00<?, ?it/s]\u001b[A\n",
            "                                     \u001b[A"
          ]
        },
        {
          "output_type": "stream",
          "name": "stdout",
          "text": [
            "[08:55:09.526807] Processing image: img_106.tif\n"
          ]
        },
        {
          "output_type": "stream",
          "name": "stderr",
          "text": [
            "\n",
            "  0%|          | 0/1 [00:00<?, ?it/s]\u001b[A\n",
            "  2%|▏         | 10/610 [00:00<00:28, 21.23it/s]"
          ]
        },
        {
          "output_type": "stream",
          "name": "stdout",
          "text": [
            "[08:55:09.552442] Processing image: img_107.tif\n"
          ]
        },
        {
          "output_type": "stream",
          "name": "stderr",
          "text": [
            "\n",
            "  0%|          | 0/1 [00:00<?, ?it/s]\u001b[A\n",
            "                                     \u001b[A"
          ]
        },
        {
          "output_type": "stream",
          "name": "stdout",
          "text": [
            "[08:55:09.577939] Processing image: img_123.tif\n"
          ]
        },
        {
          "output_type": "stream",
          "name": "stderr",
          "text": [
            "\n",
            "  0%|          | 0/1 [00:00<?, ?it/s]\u001b[A\n",
            "                                     \u001b[A"
          ]
        },
        {
          "output_type": "stream",
          "name": "stdout",
          "text": [
            "[08:55:09.601726] Processing image: img_129.tif\n"
          ]
        },
        {
          "output_type": "stream",
          "name": "stderr",
          "text": [
            "\n",
            "  0%|          | 0/1 [00:00<?, ?it/s]\u001b[A\n",
            "                                     \u001b[A"
          ]
        },
        {
          "output_type": "stream",
          "name": "stdout",
          "text": [
            "[08:55:09.629945] Processing image: img_163.tif\n"
          ]
        },
        {
          "output_type": "stream",
          "name": "stderr",
          "text": [
            "\n",
            "  0%|          | 0/1 [00:00<?, ?it/s]\u001b[A\n",
            "  2%|▏         | 14/610 [00:00<00:22, 26.30it/s]"
          ]
        },
        {
          "output_type": "stream",
          "name": "stdout",
          "text": [
            "[08:55:09.653987] Processing image: img_166.tif\n"
          ]
        },
        {
          "output_type": "stream",
          "name": "stderr",
          "text": [
            "\n",
            "  0%|          | 0/1 [00:00<?, ?it/s]\u001b[A\n",
            "                                     \u001b[A"
          ]
        },
        {
          "output_type": "stream",
          "name": "stdout",
          "text": [
            "[08:55:09.676257] Processing image: img_193.tif\n"
          ]
        },
        {
          "output_type": "stream",
          "name": "stderr",
          "text": [
            "\n",
            "  0%|          | 0/1 [00:00<?, ?it/s]\u001b[A\n",
            "                                     \u001b[A"
          ]
        },
        {
          "output_type": "stream",
          "name": "stdout",
          "text": [
            "[08:55:09.699199] Processing image: img_209.tif\n"
          ]
        },
        {
          "output_type": "stream",
          "name": "stderr",
          "text": [
            "\n",
            "  0%|          | 0/1 [00:00<?, ?it/s]\u001b[A\n",
            "                                     \u001b[A"
          ]
        },
        {
          "output_type": "stream",
          "name": "stdout",
          "text": [
            "[08:55:09.722248] Processing image: img_216.tif\n"
          ]
        },
        {
          "output_type": "stream",
          "name": "stderr",
          "text": [
            "\n",
            "  0%|          | 0/1 [00:00<?, ?it/s]\u001b[A\n",
            "                                     \u001b[A"
          ]
        },
        {
          "output_type": "stream",
          "name": "stdout",
          "text": [
            "[08:55:09.749938] Processing image: img_226.tif\n"
          ]
        },
        {
          "output_type": "stream",
          "name": "stderr",
          "text": [
            "\n",
            "  0%|          | 0/1 [00:00<?, ?it/s]\u001b[A\n",
            "  3%|▎         | 19/610 [00:00<00:19, 31.01it/s]"
          ]
        },
        {
          "output_type": "stream",
          "name": "stdout",
          "text": [
            "[08:55:09.784003] Processing image: img_242.tif\n"
          ]
        },
        {
          "output_type": "stream",
          "name": "stderr",
          "text": [
            "\n",
            "  0%|          | 0/1 [00:00<?, ?it/s]\u001b[A\n",
            "                                     \u001b[A"
          ]
        },
        {
          "output_type": "stream",
          "name": "stdout",
          "text": [
            "[08:55:09.813161] Processing image: img_243.tif\n"
          ]
        },
        {
          "output_type": "stream",
          "name": "stderr",
          "text": [
            "\n",
            "  0%|          | 0/1 [00:00<?, ?it/s]\u001b[A\n",
            "                                     \u001b[A"
          ]
        },
        {
          "output_type": "stream",
          "name": "stdout",
          "text": [
            "[08:55:09.837888] Processing image: img_261.tif\n"
          ]
        },
        {
          "output_type": "stream",
          "name": "stderr",
          "text": [
            "\n",
            "  0%|          | 0/1 [00:00<?, ?it/s]\u001b[A\n",
            "                                     \u001b[A"
          ]
        },
        {
          "output_type": "stream",
          "name": "stdout",
          "text": [
            "[08:55:09.867977] Processing image: img_275.tif\n"
          ]
        },
        {
          "output_type": "stream",
          "name": "stderr",
          "text": [
            "\n",
            "  0%|          | 0/1 [00:00<?, ?it/s]\u001b[A\n",
            "  4%|▍         | 23/610 [00:00<00:18, 32.20it/s]"
          ]
        },
        {
          "output_type": "stream",
          "name": "stdout",
          "text": [
            "[08:55:09.895456] Processing image: img_281.tif\n"
          ]
        },
        {
          "output_type": "stream",
          "name": "stderr",
          "text": [
            "\n",
            "  0%|          | 0/1 [00:00<?, ?it/s]\u001b[A\n",
            "                                     \u001b[A"
          ]
        },
        {
          "output_type": "stream",
          "name": "stdout",
          "text": [
            "[08:55:09.924986] Processing image: img_285.tif\n"
          ]
        },
        {
          "output_type": "stream",
          "name": "stderr",
          "text": [
            "\n",
            "  0%|          | 0/1 [00:00<?, ?it/s]\u001b[A\n",
            "                                     \u001b[A"
          ]
        },
        {
          "output_type": "stream",
          "name": "stdout",
          "text": [
            "[08:55:09.950828] Processing image: img_289.tif\n"
          ]
        },
        {
          "output_type": "stream",
          "name": "stderr",
          "text": [
            "\n",
            "  0%|          | 0/1 [00:00<?, ?it/s]\u001b[A\n",
            "                                     \u001b[A"
          ]
        },
        {
          "output_type": "stream",
          "name": "stdout",
          "text": [
            "[08:55:09.978035] Processing image: img_300.tif\n"
          ]
        },
        {
          "output_type": "stream",
          "name": "stderr",
          "text": [
            "\n",
            "  0%|          | 0/1 [00:00<?, ?it/s]\u001b[A\n",
            "  4%|▍         | 27/610 [00:01<00:17, 33.08it/s]"
          ]
        },
        {
          "output_type": "stream",
          "name": "stdout",
          "text": [
            "[08:55:10.005808] Processing image: img_306.tif\n"
          ]
        },
        {
          "output_type": "stream",
          "name": "stderr",
          "text": [
            "\n",
            "  0%|          | 0/1 [00:00<?, ?it/s]\u001b[A\n",
            "                                     \u001b[A"
          ]
        },
        {
          "output_type": "stream",
          "name": "stdout",
          "text": [
            "[08:55:10.029481] Processing image: img_313.tif\n"
          ]
        },
        {
          "output_type": "stream",
          "name": "stderr",
          "text": [
            "\n",
            "  0%|          | 0/1 [00:00<?, ?it/s]\u001b[A\n",
            "                                     \u001b[A"
          ]
        },
        {
          "output_type": "stream",
          "name": "stdout",
          "text": [
            "[08:55:10.055650] Processing image: img_334.tif\n"
          ]
        },
        {
          "output_type": "stream",
          "name": "stderr",
          "text": [
            "\n",
            "  0%|          | 0/1 [00:00<?, ?it/s]\u001b[A\n",
            "                                     \u001b[A"
          ]
        },
        {
          "output_type": "stream",
          "name": "stdout",
          "text": [
            "[08:55:10.081443] Processing image: img_350.tif\n"
          ]
        },
        {
          "output_type": "stream",
          "name": "stderr",
          "text": [
            "\n",
            "  0%|          | 0/1 [00:00<?, ?it/s]\u001b[A\n",
            "  5%|▌         | 31/610 [00:01<00:16, 34.60it/s]"
          ]
        },
        {
          "output_type": "stream",
          "name": "stdout",
          "text": [
            "[08:55:10.110396] Processing image: img_366.tif\n"
          ]
        },
        {
          "output_type": "stream",
          "name": "stderr",
          "text": [
            "\n",
            "  0%|          | 0/1 [00:00<?, ?it/s]\u001b[A\n",
            "                                     \u001b[A"
          ]
        },
        {
          "output_type": "stream",
          "name": "stdout",
          "text": [
            "[08:55:10.136521] Processing image: img_367.tif\n"
          ]
        },
        {
          "output_type": "stream",
          "name": "stderr",
          "text": [
            "\n",
            "  0%|          | 0/1 [00:00<?, ?it/s]\u001b[A\n",
            "                                     \u001b[A"
          ]
        },
        {
          "output_type": "stream",
          "name": "stdout",
          "text": [
            "[08:55:10.173810] Processing image: img_368.tif\n"
          ]
        },
        {
          "output_type": "stream",
          "name": "stderr",
          "text": [
            "\n",
            "  0%|          | 0/1 [00:00<?, ?it/s]\u001b[A\n",
            "                                     \u001b[A"
          ]
        },
        {
          "output_type": "stream",
          "name": "stdout",
          "text": [
            "[08:55:10.209578] Processing image: img_372.tif\n"
          ]
        },
        {
          "output_type": "stream",
          "name": "stderr",
          "text": [
            "\n",
            "  0%|          | 0/1 [00:00<?, ?it/s]\u001b[A\n",
            "  6%|▌         | 35/610 [00:01<00:17, 32.87it/s]"
          ]
        },
        {
          "output_type": "stream",
          "name": "stdout",
          "text": [
            "[08:55:10.248342] Processing image: img_411.tif\n"
          ]
        },
        {
          "output_type": "stream",
          "name": "stderr",
          "text": [
            "\n",
            "  0%|          | 0/1 [00:00<?, ?it/s]\u001b[A\n",
            "                                     \u001b[A"
          ]
        },
        {
          "output_type": "stream",
          "name": "stdout",
          "text": [
            "[08:55:10.276658] Processing image: img_424.tif\n"
          ]
        },
        {
          "output_type": "stream",
          "name": "stderr",
          "text": [
            "\n",
            "  0%|          | 0/1 [00:00<?, ?it/s]\u001b[A\n",
            "                                     \u001b[A"
          ]
        },
        {
          "output_type": "stream",
          "name": "stdout",
          "text": [
            "[08:55:10.306807] Processing image: img_430.tif\n"
          ]
        },
        {
          "output_type": "stream",
          "name": "stderr",
          "text": [
            "\n",
            "  0%|          | 0/1 [00:00<?, ?it/s]\u001b[A\n",
            "                                     \u001b[A"
          ]
        },
        {
          "output_type": "stream",
          "name": "stdout",
          "text": [
            "[08:55:10.331876] Processing image: img_431.tif\n"
          ]
        },
        {
          "output_type": "stream",
          "name": "stderr",
          "text": [
            "\n",
            "  0%|          | 0/1 [00:00<?, ?it/s]\u001b[A\n",
            "  6%|▋         | 39/610 [00:01<00:17, 32.95it/s]"
          ]
        },
        {
          "output_type": "stream",
          "name": "stdout",
          "text": [
            "[08:55:10.366833] Processing image: img_432.tif\n"
          ]
        },
        {
          "output_type": "stream",
          "name": "stderr",
          "text": [
            "\n",
            "  0%|          | 0/1 [00:00<?, ?it/s]\u001b[A\n",
            "                                     \u001b[A"
          ]
        },
        {
          "output_type": "stream",
          "name": "stdout",
          "text": [
            "[08:55:10.393727] Processing image: img_433.tif\n"
          ]
        },
        {
          "output_type": "stream",
          "name": "stderr",
          "text": [
            "\n",
            "  0%|          | 0/1 [00:00<?, ?it/s]\u001b[A\n",
            "                                     \u001b[A"
          ]
        },
        {
          "output_type": "stream",
          "name": "stdout",
          "text": [
            "[08:55:10.419366] Processing image: img_436.tif\n"
          ]
        },
        {
          "output_type": "stream",
          "name": "stderr",
          "text": [
            "\n",
            "  0%|          | 0/1 [00:00<?, ?it/s]\u001b[A\n",
            "                                     \u001b[A"
          ]
        },
        {
          "output_type": "stream",
          "name": "stdout",
          "text": [
            "[08:55:10.452247] Processing image: img_441.tif\n"
          ]
        },
        {
          "output_type": "stream",
          "name": "stderr",
          "text": [
            "\n",
            "  0%|          | 0/1 [00:00<?, ?it/s]\u001b[A\n",
            "  7%|▋         | 43/610 [00:01<00:16, 33.78it/s]"
          ]
        },
        {
          "output_type": "stream",
          "name": "stdout",
          "text": [
            "[08:55:10.478619] Processing image: img_451.tif\n"
          ]
        },
        {
          "output_type": "stream",
          "name": "stderr",
          "text": [
            "\n",
            "  0%|          | 0/1 [00:00<?, ?it/s]\u001b[A\n",
            "                                     \u001b[A"
          ]
        },
        {
          "output_type": "stream",
          "name": "stdout",
          "text": [
            "[08:55:10.505660] Processing image: img_454.tif\n"
          ]
        },
        {
          "output_type": "stream",
          "name": "stderr",
          "text": [
            "\n",
            "  0%|          | 0/1 [00:00<?, ?it/s]\u001b[A\n",
            "                                     \u001b[A"
          ]
        },
        {
          "output_type": "stream",
          "name": "stdout",
          "text": [
            "[08:55:10.539003] Processing image: img_470.tif\n"
          ]
        },
        {
          "output_type": "stream",
          "name": "stderr",
          "text": [
            "\n",
            "  0%|          | 0/1 [00:00<?, ?it/s]\u001b[A\n",
            "                                     \u001b[A"
          ]
        },
        {
          "output_type": "stream",
          "name": "stdout",
          "text": [
            "[08:55:10.570864] Processing image: img_475.tif\n"
          ]
        },
        {
          "output_type": "stream",
          "name": "stderr",
          "text": [
            "\n",
            "  0%|          | 0/1 [00:00<?, ?it/s]\u001b[A\n",
            "  8%|▊         | 47/610 [00:01<00:17, 32.83it/s]"
          ]
        },
        {
          "output_type": "stream",
          "name": "stdout",
          "text": [
            "[08:55:10.611142] Processing image: img_482.tif\n"
          ]
        },
        {
          "output_type": "stream",
          "name": "stderr",
          "text": [
            "\n",
            "  0%|          | 0/1 [00:00<?, ?it/s]\u001b[A\n",
            "                                     \u001b[A"
          ]
        },
        {
          "output_type": "stream",
          "name": "stdout",
          "text": [
            "[08:55:10.645241] Processing image: img_484.tif\n"
          ]
        },
        {
          "output_type": "stream",
          "name": "stderr",
          "text": [
            "\n",
            "  0%|          | 0/1 [00:00<?, ?it/s]\u001b[A\n",
            "                                     \u001b[A"
          ]
        },
        {
          "output_type": "stream",
          "name": "stdout",
          "text": [
            "[08:55:10.682813] Processing image: img_491.tif\n"
          ]
        },
        {
          "output_type": "stream",
          "name": "stderr",
          "text": [
            "\n",
            "  0%|          | 0/1 [00:00<?, ?it/s]\u001b[A\n",
            "                                     \u001b[A"
          ]
        },
        {
          "output_type": "stream",
          "name": "stdout",
          "text": [
            "[08:55:10.716309] Processing image: img_493.tif\n"
          ]
        },
        {
          "output_type": "stream",
          "name": "stderr",
          "text": [
            "\n",
            "  0%|          | 0/1 [00:00<?, ?it/s]\u001b[A\n",
            "  8%|▊         | 51/610 [00:01<00:17, 31.27it/s]"
          ]
        },
        {
          "output_type": "stream",
          "name": "stdout",
          "text": [
            "[08:55:10.749969] Processing image: img_507.tif\n"
          ]
        },
        {
          "output_type": "stream",
          "name": "stderr",
          "text": [
            "\n",
            "  0%|          | 0/1 [00:00<?, ?it/s]\u001b[A\n",
            "                                     \u001b[A"
          ]
        },
        {
          "output_type": "stream",
          "name": "stdout",
          "text": [
            "[08:55:10.779098] Processing image: img_512.tif\n"
          ]
        },
        {
          "output_type": "stream",
          "name": "stderr",
          "text": [
            "\n",
            "  0%|          | 0/1 [00:00<?, ?it/s]\u001b[A\n",
            "                                     \u001b[A"
          ]
        },
        {
          "output_type": "stream",
          "name": "stdout",
          "text": [
            "[08:55:10.813841] Processing image: img_514.tif\n"
          ]
        },
        {
          "output_type": "stream",
          "name": "stderr",
          "text": [
            "\n",
            "  0%|          | 0/1 [00:00<?, ?it/s]\u001b[A\n",
            "                                     \u001b[A"
          ]
        },
        {
          "output_type": "stream",
          "name": "stdout",
          "text": [
            "[08:55:10.855322] Processing image: img_515.tif\n"
          ]
        },
        {
          "output_type": "stream",
          "name": "stderr",
          "text": [
            "\n",
            "  0%|          | 0/1 [00:00<?, ?it/s]\u001b[A\n",
            "  9%|▉         | 55/610 [00:01<00:18, 30.30it/s]"
          ]
        },
        {
          "output_type": "stream",
          "name": "stdout",
          "text": [
            "[08:55:10.898396] Processing image: img_516.tif\n"
          ]
        },
        {
          "output_type": "stream",
          "name": "stderr",
          "text": [
            "\n",
            "  0%|          | 0/1 [00:00<?, ?it/s]\u001b[A\n",
            "                                     \u001b[A"
          ]
        },
        {
          "output_type": "stream",
          "name": "stdout",
          "text": [
            "[08:55:10.931747] Processing image: img_519.tif\n"
          ]
        },
        {
          "output_type": "stream",
          "name": "stderr",
          "text": [
            "\n",
            "  0%|          | 0/1 [00:00<?, ?it/s]\u001b[A\n",
            "                                     \u001b[A"
          ]
        },
        {
          "output_type": "stream",
          "name": "stdout",
          "text": [
            "[08:55:10.972950] Processing image: img_526.tif\n"
          ]
        },
        {
          "output_type": "stream",
          "name": "stderr",
          "text": [
            "\n",
            "  0%|          | 0/1 [00:00<?, ?it/s]\u001b[A\n",
            "                                     \u001b[A"
          ]
        },
        {
          "output_type": "stream",
          "name": "stdout",
          "text": [
            "[08:55:11.012898] Processing image: img_531.tif\n"
          ]
        },
        {
          "output_type": "stream",
          "name": "stderr",
          "text": [
            "\n",
            "  0%|          | 0/1 [00:00<?, ?it/s]\u001b[A\n",
            " 10%|▉         | 59/610 [00:02<00:19, 28.88it/s]"
          ]
        },
        {
          "output_type": "stream",
          "name": "stdout",
          "text": [
            "[08:55:11.047259] Processing image: img_536.tif\n"
          ]
        },
        {
          "output_type": "stream",
          "name": "stderr",
          "text": [
            "\n",
            "  0%|          | 0/1 [00:00<?, ?it/s]\u001b[A\n",
            "                                     \u001b[A"
          ]
        },
        {
          "output_type": "stream",
          "name": "stdout",
          "text": [
            "[08:55:11.073057] Processing image: img_559.tif\n"
          ]
        },
        {
          "output_type": "stream",
          "name": "stderr",
          "text": [
            "\n",
            "  0%|          | 0/1 [00:00<?, ?it/s]\u001b[A\n",
            "                                     \u001b[A"
          ]
        },
        {
          "output_type": "stream",
          "name": "stdout",
          "text": [
            "[08:55:11.100402] Processing image: img_560.tif\n"
          ]
        },
        {
          "output_type": "stream",
          "name": "stderr",
          "text": [
            "\n",
            "  0%|          | 0/1 [00:00<?, ?it/s]\u001b[A\n",
            "                                     \u001b[A"
          ]
        },
        {
          "output_type": "stream",
          "name": "stdout",
          "text": [
            "[08:55:11.132384] Processing image: img_562.tif\n"
          ]
        },
        {
          "output_type": "stream",
          "name": "stderr",
          "text": [
            "\n",
            "  0%|          | 0/1 [00:00<?, ?it/s]\u001b[A\n",
            " 10%|█         | 63/610 [00:02<00:18, 29.81it/s]"
          ]
        },
        {
          "output_type": "stream",
          "name": "stdout",
          "text": [
            "[08:55:11.173629] Processing image: img_572.tif\n"
          ]
        },
        {
          "output_type": "stream",
          "name": "stderr",
          "text": [
            "\n",
            "  0%|          | 0/1 [00:00<?, ?it/s]\u001b[A\n",
            "                                     \u001b[A"
          ]
        },
        {
          "output_type": "stream",
          "name": "stdout",
          "text": [
            "[08:55:11.215005] Processing image: img_575.tif\n"
          ]
        },
        {
          "output_type": "stream",
          "name": "stderr",
          "text": [
            "\n",
            "  0%|          | 0/1 [00:00<?, ?it/s]\u001b[A\n",
            "                                     \u001b[A"
          ]
        },
        {
          "output_type": "stream",
          "name": "stdout",
          "text": [
            "[08:55:11.250508] Processing image: img_580.tif\n"
          ]
        },
        {
          "output_type": "stream",
          "name": "stderr",
          "text": [
            "\n",
            "  0%|          | 0/1 [00:00<?, ?it/s]\u001b[A\n",
            "                                     \u001b[A"
          ]
        },
        {
          "output_type": "stream",
          "name": "stdout",
          "text": [
            "[08:55:11.281407] Processing image: img_591.tif\n"
          ]
        },
        {
          "output_type": "stream",
          "name": "stderr",
          "text": [
            "\n",
            "  0%|          | 0/1 [00:00<?, ?it/s]\u001b[A\n",
            " 11%|█         | 67/610 [00:02<00:18, 29.33it/s]"
          ]
        },
        {
          "output_type": "stream",
          "name": "stdout",
          "text": [
            "[08:55:11.309500] Processing image: img_594.tif\n"
          ]
        },
        {
          "output_type": "stream",
          "name": "stderr",
          "text": [
            "\n",
            "  0%|          | 0/1 [00:00<?, ?it/s]\u001b[A\n",
            "                                     \u001b[A"
          ]
        },
        {
          "output_type": "stream",
          "name": "stdout",
          "text": [
            "[08:55:11.334119] Processing image: img_598.tif\n"
          ]
        },
        {
          "output_type": "stream",
          "name": "stderr",
          "text": [
            "\n",
            "  0%|          | 0/1 [00:00<?, ?it/s]\u001b[A\n",
            "                                     \u001b[A"
          ]
        },
        {
          "output_type": "stream",
          "name": "stdout",
          "text": [
            "[08:55:11.361105] Processing image: img_016.tif\n"
          ]
        },
        {
          "output_type": "stream",
          "name": "stderr",
          "text": [
            "\n",
            "  0%|          | 0/1 [00:00<?, ?it/s]\u001b[A\n",
            "                                     \u001b[A"
          ]
        },
        {
          "output_type": "stream",
          "name": "stdout",
          "text": [
            "[08:55:11.385824] Processing image: img_018.tif\n"
          ]
        },
        {
          "output_type": "stream",
          "name": "stderr",
          "text": [
            "\n",
            "  0%|          | 0/1 [00:00<?, ?it/s]\u001b[A\n",
            " 12%|█▏        | 71/610 [00:02<00:17, 31.32it/s]"
          ]
        },
        {
          "output_type": "stream",
          "name": "stdout",
          "text": [
            "[08:55:11.421670] Processing image: img_026.tif\n"
          ]
        },
        {
          "output_type": "stream",
          "name": "stderr",
          "text": [
            "\n",
            "  0%|          | 0/1 [00:00<?, ?it/s]\u001b[A\n",
            "                                     \u001b[A"
          ]
        },
        {
          "output_type": "stream",
          "name": "stdout",
          "text": [
            "[08:55:11.463548] Processing image: img_032.tif\n"
          ]
        },
        {
          "output_type": "stream",
          "name": "stderr",
          "text": [
            "\n",
            "  0%|          | 0/1 [00:00<?, ?it/s]\u001b[A\n",
            "                                     \u001b[A"
          ]
        },
        {
          "output_type": "stream",
          "name": "stdout",
          "text": [
            "[08:55:11.493343] Processing image: img_034.tif\n"
          ]
        },
        {
          "output_type": "stream",
          "name": "stderr",
          "text": [
            "\n",
            "  0%|          | 0/1 [00:00<?, ?it/s]\u001b[A\n",
            "                                     \u001b[A"
          ]
        },
        {
          "output_type": "stream",
          "name": "stdout",
          "text": [
            "[08:55:11.522199] Processing image: img_040.tif\n"
          ]
        },
        {
          "output_type": "stream",
          "name": "stderr",
          "text": [
            "\n",
            "  0%|          | 0/1 [00:00<?, ?it/s]\u001b[A\n",
            " 12%|█▏        | 75/610 [00:02<00:17, 30.56it/s]"
          ]
        },
        {
          "output_type": "stream",
          "name": "stdout",
          "text": [
            "[08:55:11.556134] Processing image: img_041.tif\n"
          ]
        },
        {
          "output_type": "stream",
          "name": "stderr",
          "text": [
            "\n",
            "  0%|          | 0/1 [00:00<?, ?it/s]\u001b[A\n",
            "                                     \u001b[A"
          ]
        },
        {
          "output_type": "stream",
          "name": "stdout",
          "text": [
            "[08:55:11.593185] Processing image: img_058.tif\n"
          ]
        },
        {
          "output_type": "stream",
          "name": "stderr",
          "text": [
            "\n",
            "  0%|          | 0/1 [00:00<?, ?it/s]\u001b[A\n",
            "                                     \u001b[A"
          ]
        },
        {
          "output_type": "stream",
          "name": "stdout",
          "text": [
            "[08:55:11.634891] Processing image: img_060.tif\n"
          ]
        },
        {
          "output_type": "stream",
          "name": "stderr",
          "text": [
            "\n",
            "  0%|          | 0/1 [00:00<?, ?it/s]\u001b[A\n",
            "                                     \u001b[A"
          ]
        },
        {
          "output_type": "stream",
          "name": "stdout",
          "text": [
            "[08:55:11.676982] Processing image: img_065.tif\n"
          ]
        },
        {
          "output_type": "stream",
          "name": "stderr",
          "text": [
            "\n",
            "  0%|          | 0/1 [00:00<?, ?it/s]\u001b[A\n",
            " 13%|█▎        | 79/610 [00:02<00:18, 28.68it/s]"
          ]
        },
        {
          "output_type": "stream",
          "name": "stdout",
          "text": [
            "[08:55:11.714747] Processing image: img_067.tif\n"
          ]
        },
        {
          "output_type": "stream",
          "name": "stderr",
          "text": [
            "\n",
            "  0%|          | 0/1 [00:00<?, ?it/s]\u001b[A\n",
            "                                     \u001b[A"
          ]
        },
        {
          "output_type": "stream",
          "name": "stdout",
          "text": [
            "[08:55:11.742077] Processing image: img_084.tif\n"
          ]
        },
        {
          "output_type": "stream",
          "name": "stderr",
          "text": [
            "\n",
            "  0%|          | 0/1 [00:00<?, ?it/s]\u001b[A\n",
            "                                     \u001b[A"
          ]
        },
        {
          "output_type": "stream",
          "name": "stdout",
          "text": [
            "[08:55:11.773724] Processing image: img_092.tif\n"
          ]
        },
        {
          "output_type": "stream",
          "name": "stderr",
          "text": [
            "\n",
            "  0%|          | 0/1 [00:00<?, ?it/s]\u001b[A\n",
            "                                     \u001b[A"
          ]
        },
        {
          "output_type": "stream",
          "name": "stdout",
          "text": [
            "[08:55:11.810388] Processing image: img_105.tif\n"
          ]
        },
        {
          "output_type": "stream",
          "name": "stderr",
          "text": [
            "\n",
            "  0%|          | 0/1 [00:00<?, ?it/s]\u001b[A\n",
            " 14%|█▎        | 83/610 [00:02<00:17, 29.47it/s]"
          ]
        },
        {
          "output_type": "stream",
          "name": "stdout",
          "text": [
            "[08:55:11.844603] Processing image: img_126.tif\n"
          ]
        },
        {
          "output_type": "stream",
          "name": "stderr",
          "text": [
            "\n",
            "  0%|          | 0/1 [00:00<?, ?it/s]\u001b[A\n",
            "                                     \u001b[A"
          ]
        },
        {
          "output_type": "stream",
          "name": "stdout",
          "text": [
            "[08:55:11.873411] Processing image: img_127.tif\n"
          ]
        },
        {
          "output_type": "stream",
          "name": "stderr",
          "text": [
            "\n",
            "  0%|          | 0/1 [00:00<?, ?it/s]\u001b[A\n",
            "                                     \u001b[A"
          ]
        },
        {
          "output_type": "stream",
          "name": "stdout",
          "text": [
            "[08:55:11.897308] Processing image: img_133.tif\n"
          ]
        },
        {
          "output_type": "stream",
          "name": "stderr",
          "text": [
            "\n",
            "  0%|          | 0/1 [00:00<?, ?it/s]\u001b[A\n",
            "                                     \u001b[A"
          ]
        },
        {
          "output_type": "stream",
          "name": "stdout",
          "text": [
            "[08:55:11.924459] Processing image: img_135.tif\n"
          ]
        },
        {
          "output_type": "stream",
          "name": "stderr",
          "text": [
            "\n",
            "  0%|          | 0/1 [00:00<?, ?it/s]\u001b[A\n",
            " 14%|█▍        | 87/610 [00:02<00:16, 31.39it/s]"
          ]
        },
        {
          "output_type": "stream",
          "name": "stdout",
          "text": [
            "[08:55:11.949419] Processing image: img_137.tif\n"
          ]
        },
        {
          "output_type": "stream",
          "name": "stderr",
          "text": [
            "\n",
            "  0%|          | 0/1 [00:00<?, ?it/s]\u001b[A\n",
            "                                     \u001b[A"
          ]
        },
        {
          "output_type": "stream",
          "name": "stdout",
          "text": [
            "[08:55:11.976207] Processing image: img_139.tif\n"
          ]
        },
        {
          "output_type": "stream",
          "name": "stderr",
          "text": [
            "\n",
            "  0%|          | 0/1 [00:00<?, ?it/s]\u001b[A\n",
            "                                     \u001b[A"
          ]
        },
        {
          "output_type": "stream",
          "name": "stdout",
          "text": [
            "[08:55:12.003981] Processing image: img_141.tif\n"
          ]
        },
        {
          "output_type": "stream",
          "name": "stderr",
          "text": [
            "\n",
            "  0%|          | 0/1 [00:00<?, ?it/s]\u001b[A\n",
            "                                     \u001b[A"
          ]
        },
        {
          "output_type": "stream",
          "name": "stdout",
          "text": [
            "[08:55:12.032063] Processing image: img_145.tif\n"
          ]
        },
        {
          "output_type": "stream",
          "name": "stderr",
          "text": [
            "\n",
            "  0%|          | 0/1 [00:00<?, ?it/s]\u001b[A\n",
            " 15%|█▍        | 91/610 [00:03<00:15, 32.80it/s]"
          ]
        },
        {
          "output_type": "stream",
          "name": "stdout",
          "text": [
            "[08:55:12.061016] Processing image: img_152.tif\n"
          ]
        },
        {
          "output_type": "stream",
          "name": "stderr",
          "text": [
            "\n",
            "  0%|          | 0/1 [00:00<?, ?it/s]\u001b[A\n",
            "                                     \u001b[A"
          ]
        },
        {
          "output_type": "stream",
          "name": "stdout",
          "text": [
            "[08:55:12.093746] Processing image: img_155.tif\n"
          ]
        },
        {
          "output_type": "stream",
          "name": "stderr",
          "text": [
            "\n",
            "  0%|          | 0/1 [00:00<?, ?it/s]\u001b[A\n",
            "                                     \u001b[A"
          ]
        },
        {
          "output_type": "stream",
          "name": "stdout",
          "text": [
            "[08:55:12.131113] Processing image: img_164.tif\n"
          ]
        },
        {
          "output_type": "stream",
          "name": "stderr",
          "text": [
            "\n",
            "  0%|          | 0/1 [00:00<?, ?it/s]\u001b[A\n",
            "                                     \u001b[A"
          ]
        },
        {
          "output_type": "stream",
          "name": "stdout",
          "text": [
            "[08:55:12.169162] Processing image: img_174.tif\n"
          ]
        },
        {
          "output_type": "stream",
          "name": "stderr",
          "text": [
            "\n",
            "  0%|          | 0/1 [00:00<?, ?it/s]\u001b[A\n",
            " 16%|█▌        | 95/610 [00:03<00:16, 31.73it/s]"
          ]
        },
        {
          "output_type": "stream",
          "name": "stdout",
          "text": [
            "[08:55:12.204679] Processing image: img_178.tif\n"
          ]
        },
        {
          "output_type": "stream",
          "name": "stderr",
          "text": [
            "\n",
            "  0%|          | 0/1 [00:00<?, ?it/s]\u001b[A\n",
            "                                     \u001b[A"
          ]
        },
        {
          "output_type": "stream",
          "name": "stdout",
          "text": [
            "[08:55:12.233619] Processing image: img_188.tif\n"
          ]
        },
        {
          "output_type": "stream",
          "name": "stderr",
          "text": [
            "\n",
            "  0%|          | 0/1 [00:00<?, ?it/s]\u001b[A\n",
            "                                     \u001b[A"
          ]
        },
        {
          "output_type": "stream",
          "name": "stdout",
          "text": [
            "[08:55:12.259876] Processing image: img_231.tif\n"
          ]
        },
        {
          "output_type": "stream",
          "name": "stderr",
          "text": [
            "\n",
            "  0%|          | 0/1 [00:00<?, ?it/s]\u001b[A\n",
            "                                     \u001b[A"
          ]
        },
        {
          "output_type": "stream",
          "name": "stdout",
          "text": [
            "[08:55:12.291104] Processing image: img_240.tif\n"
          ]
        },
        {
          "output_type": "stream",
          "name": "stderr",
          "text": [
            "\n",
            "  0%|          | 0/1 [00:00<?, ?it/s]\u001b[A\n",
            " 16%|█▌        | 99/610 [00:03<00:16, 31.72it/s]"
          ]
        },
        {
          "output_type": "stream",
          "name": "stdout",
          "text": [
            "[08:55:12.331123] Processing image: img_246.tif\n"
          ]
        },
        {
          "output_type": "stream",
          "name": "stderr",
          "text": [
            "\n",
            "  0%|          | 0/1 [00:00<?, ?it/s]\u001b[A\n",
            "                                     \u001b[A"
          ]
        },
        {
          "output_type": "stream",
          "name": "stdout",
          "text": [
            "[08:55:12.363753] Processing image: img_263.tif\n"
          ]
        },
        {
          "output_type": "stream",
          "name": "stderr",
          "text": [
            "\n",
            "  0%|          | 0/1 [00:00<?, ?it/s]\u001b[A\n",
            "                                     \u001b[A"
          ]
        },
        {
          "output_type": "stream",
          "name": "stdout",
          "text": [
            "[08:55:12.399572] Processing image: img_273.tif\n"
          ]
        },
        {
          "output_type": "stream",
          "name": "stderr",
          "text": [
            "\n",
            "  0%|          | 0/1 [00:00<?, ?it/s]\u001b[A\n",
            "                                     \u001b[A"
          ]
        },
        {
          "output_type": "stream",
          "name": "stdout",
          "text": [
            "[08:55:12.430863] Processing image: img_282.tif\n"
          ]
        },
        {
          "output_type": "stream",
          "name": "stderr",
          "text": [
            "\n",
            "  0%|          | 0/1 [00:00<?, ?it/s]\u001b[A\n",
            " 17%|█▋        | 103/610 [00:03<00:16, 30.43it/s]"
          ]
        },
        {
          "output_type": "stream",
          "name": "stdout",
          "text": [
            "[08:55:12.466018] Processing image: img_291.tif\n"
          ]
        },
        {
          "output_type": "stream",
          "name": "stderr",
          "text": [
            "\n",
            "  0%|          | 0/1 [00:00<?, ?it/s]\u001b[A\n",
            "                                     \u001b[A"
          ]
        },
        {
          "output_type": "stream",
          "name": "stdout",
          "text": [
            "[08:55:12.506129] Processing image: img_299.tif\n"
          ]
        },
        {
          "output_type": "stream",
          "name": "stderr",
          "text": [
            "\n",
            "  0%|          | 0/1 [00:00<?, ?it/s]\u001b[A\n",
            "                                     \u001b[A"
          ]
        },
        {
          "output_type": "stream",
          "name": "stdout",
          "text": [
            "[08:55:12.545170] Processing image: img_304.tif\n"
          ]
        },
        {
          "output_type": "stream",
          "name": "stderr",
          "text": [
            "\n",
            "  0%|          | 0/1 [00:00<?, ?it/s]\u001b[A\n",
            "                                     \u001b[A"
          ]
        },
        {
          "output_type": "stream",
          "name": "stdout",
          "text": [
            "[08:55:12.576041] Processing image: img_305.tif\n"
          ]
        },
        {
          "output_type": "stream",
          "name": "stderr",
          "text": [
            "\n",
            "  0%|          | 0/1 [00:00<?, ?it/s]\u001b[A\n",
            " 18%|█▊        | 107/610 [00:03<00:16, 29.83it/s]"
          ]
        },
        {
          "output_type": "stream",
          "name": "stdout",
          "text": [
            "[08:55:12.611401] Processing image: img_324.tif\n"
          ]
        },
        {
          "output_type": "stream",
          "name": "stderr",
          "text": [
            "\n",
            "  0%|          | 0/1 [00:00<?, ?it/s]\u001b[A\n",
            "                                     \u001b[A"
          ]
        },
        {
          "output_type": "stream",
          "name": "stdout",
          "text": [
            "[08:55:12.638698] Processing image: img_326.tif\n"
          ]
        },
        {
          "output_type": "stream",
          "name": "stderr",
          "text": [
            "\n",
            "  0%|          | 0/1 [00:00<?, ?it/s]\u001b[A\n",
            "                                     \u001b[A"
          ]
        },
        {
          "output_type": "stream",
          "name": "stdout",
          "text": [
            "[08:55:12.664665] Processing image: img_335.tif\n"
          ]
        },
        {
          "output_type": "stream",
          "name": "stderr",
          "text": [
            "\n",
            "  0%|          | 0/1 [00:00<?, ?it/s]\u001b[A\n",
            "                                     \u001b[A"
          ]
        },
        {
          "output_type": "stream",
          "name": "stdout",
          "text": [
            "[08:55:12.690403] Processing image: img_346.tif\n"
          ]
        },
        {
          "output_type": "stream",
          "name": "stderr",
          "text": [
            "\n",
            "  0%|          | 0/1 [00:00<?, ?it/s]\u001b[A\n",
            " 18%|█▊        | 111/610 [00:03<00:15, 31.31it/s]"
          ]
        },
        {
          "output_type": "stream",
          "name": "stdout",
          "text": [
            "[08:55:12.717708] Processing image: img_349.tif\n"
          ]
        },
        {
          "output_type": "stream",
          "name": "stderr",
          "text": [
            "\n",
            "  0%|          | 0/1 [00:00<?, ?it/s]\u001b[A\n",
            "                                     \u001b[A"
          ]
        },
        {
          "output_type": "stream",
          "name": "stdout",
          "text": [
            "[08:55:12.746475] Processing image: img_376.tif\n"
          ]
        },
        {
          "output_type": "stream",
          "name": "stderr",
          "text": [
            "\n",
            "  0%|          | 0/1 [00:00<?, ?it/s]\u001b[A\n",
            "                                     \u001b[A"
          ]
        },
        {
          "output_type": "stream",
          "name": "stdout",
          "text": [
            "[08:55:12.779172] Processing image: img_384.tif\n"
          ]
        },
        {
          "output_type": "stream",
          "name": "stderr",
          "text": [
            "\n",
            "  0%|          | 0/1 [00:00<?, ?it/s]\u001b[A\n",
            "                                     \u001b[A"
          ]
        },
        {
          "output_type": "stream",
          "name": "stdout",
          "text": [
            "[08:55:12.805588] Processing image: img_403.tif\n"
          ]
        },
        {
          "output_type": "stream",
          "name": "stderr",
          "text": [
            "\n",
            "  0%|          | 0/1 [00:00<?, ?it/s]\u001b[A\n",
            " 19%|█▉        | 115/610 [00:03<00:15, 32.26it/s]"
          ]
        },
        {
          "output_type": "stream",
          "name": "stdout",
          "text": [
            "[08:55:12.832452] Processing image: img_407.tif\n"
          ]
        },
        {
          "output_type": "stream",
          "name": "stderr",
          "text": [
            "\n",
            "  0%|          | 0/1 [00:00<?, ?it/s]\u001b[A\n",
            "                                     \u001b[A"
          ]
        },
        {
          "output_type": "stream",
          "name": "stdout",
          "text": [
            "[08:55:12.870799] Processing image: img_421.tif\n"
          ]
        },
        {
          "output_type": "stream",
          "name": "stderr",
          "text": [
            "\n",
            "  0%|          | 0/1 [00:00<?, ?it/s]\u001b[A\n",
            "                                     \u001b[A"
          ]
        },
        {
          "output_type": "stream",
          "name": "stdout",
          "text": [
            "[08:55:12.901544] Processing image: img_422.tif\n"
          ]
        },
        {
          "output_type": "stream",
          "name": "stderr",
          "text": [
            "\n",
            "  0%|          | 0/1 [00:00<?, ?it/s]\u001b[A\n",
            "                                     \u001b[A"
          ]
        },
        {
          "output_type": "stream",
          "name": "stdout",
          "text": [
            "[08:55:12.932583] Processing image: img_429.tif\n"
          ]
        },
        {
          "output_type": "stream",
          "name": "stderr",
          "text": [
            "\n",
            "  0%|          | 0/1 [00:00<?, ?it/s]\u001b[A\n",
            " 20%|█▉        | 119/610 [00:04<00:15, 31.87it/s]"
          ]
        },
        {
          "output_type": "stream",
          "name": "stdout",
          "text": [
            "[08:55:12.964809] Processing image: img_439.tif\n"
          ]
        },
        {
          "output_type": "stream",
          "name": "stderr",
          "text": [
            "\n",
            "  0%|          | 0/1 [00:00<?, ?it/s]\u001b[A\n",
            "                                     \u001b[A"
          ]
        },
        {
          "output_type": "stream",
          "name": "stdout",
          "text": [
            "[08:55:12.991995] Processing image: img_452.tif\n"
          ]
        },
        {
          "output_type": "stream",
          "name": "stderr",
          "text": [
            "\n",
            "  0%|          | 0/1 [00:00<?, ?it/s]\u001b[A\n",
            "                                     \u001b[A"
          ]
        },
        {
          "output_type": "stream",
          "name": "stdout",
          "text": [
            "[08:55:13.032920] Processing image: img_472.tif\n"
          ]
        },
        {
          "output_type": "stream",
          "name": "stderr",
          "text": [
            "\n",
            "  0%|          | 0/1 [00:00<?, ?it/s]\u001b[A\n",
            "                                     \u001b[A"
          ]
        },
        {
          "output_type": "stream",
          "name": "stdout",
          "text": [
            "[08:55:13.081615] Processing image: img_473.tif\n"
          ]
        },
        {
          "output_type": "stream",
          "name": "stderr",
          "text": [
            "\n",
            "  0%|          | 0/1 [00:00<?, ?it/s]\u001b[A\n",
            " 20%|██        | 123/610 [00:04<00:18, 25.96it/s]"
          ]
        },
        {
          "output_type": "stream",
          "name": "stdout",
          "text": [
            "[08:55:13.183764] Processing image: img_492.tif\n"
          ]
        },
        {
          "output_type": "stream",
          "name": "stderr",
          "text": [
            "\n",
            "  0%|          | 0/1 [00:00<?, ?it/s]\u001b[A\n",
            "                                     \u001b[A"
          ]
        },
        {
          "output_type": "stream",
          "name": "stdout",
          "text": [
            "[08:55:13.217434] Processing image: img_494.tif\n"
          ]
        },
        {
          "output_type": "stream",
          "name": "stderr",
          "text": [
            "\n",
            "  0%|          | 0/1 [00:00<?, ?it/s]\u001b[A\n",
            "                                     \u001b[A"
          ]
        },
        {
          "output_type": "stream",
          "name": "stdout",
          "text": [
            "[08:55:13.249899] Processing image: img_500.tif\n"
          ]
        },
        {
          "output_type": "stream",
          "name": "stderr",
          "text": [
            "\n",
            "  0%|          | 0/1 [00:00<?, ?it/s]\u001b[A\n",
            "                                     \u001b[A"
          ]
        },
        {
          "output_type": "stream",
          "name": "stdout",
          "text": [
            "[08:55:13.282667] Processing image: img_503.tif\n"
          ]
        },
        {
          "output_type": "stream",
          "name": "stderr",
          "text": [
            "\n",
            "  0%|          | 0/1 [00:00<?, ?it/s]\u001b[A\n",
            " 21%|██        | 127/610 [00:04<00:17, 27.24it/s]"
          ]
        },
        {
          "output_type": "stream",
          "name": "stdout",
          "text": [
            "[08:55:13.320156] Processing image: img_513.tif\n"
          ]
        },
        {
          "output_type": "stream",
          "name": "stderr",
          "text": [
            "\n",
            "  0%|          | 0/1 [00:00<?, ?it/s]\u001b[A\n",
            "                                     \u001b[A"
          ]
        },
        {
          "output_type": "stream",
          "name": "stdout",
          "text": [
            "[08:55:13.343582] Processing image: img_527.tif\n"
          ]
        },
        {
          "output_type": "stream",
          "name": "stderr",
          "text": [
            "\n",
            "  0%|          | 0/1 [00:00<?, ?it/s]\u001b[A\n",
            "                                     \u001b[A"
          ]
        },
        {
          "output_type": "stream",
          "name": "stdout",
          "text": [
            "[08:55:13.377583] Processing image: img_540.tif\n"
          ]
        },
        {
          "output_type": "stream",
          "name": "stderr",
          "text": [
            "\n",
            "  0%|          | 0/1 [00:00<?, ?it/s]\u001b[A\n",
            "                                     \u001b[A"
          ]
        },
        {
          "output_type": "stream",
          "name": "stdout",
          "text": [
            "[08:55:13.408225] Processing image: img_567.tif\n"
          ]
        },
        {
          "output_type": "stream",
          "name": "stderr",
          "text": [
            "\n",
            "  0%|          | 0/1 [00:00<?, ?it/s]\u001b[A\n",
            " 21%|██▏       | 131/610 [00:04<00:16, 28.45it/s]"
          ]
        },
        {
          "output_type": "stream",
          "name": "stdout",
          "text": [
            "[08:55:13.437768] Processing image: img_570.tif\n"
          ]
        },
        {
          "output_type": "stream",
          "name": "stderr",
          "text": [
            "\n",
            "  0%|          | 0/1 [00:00<?, ?it/s]\u001b[A\n",
            "                                     \u001b[A"
          ]
        },
        {
          "output_type": "stream",
          "name": "stdout",
          "text": [
            "[08:55:13.463209] Processing image: img_579.tif\n"
          ]
        },
        {
          "output_type": "stream",
          "name": "stderr",
          "text": [
            "\n",
            "  0%|          | 0/1 [00:00<?, ?it/s]\u001b[A\n",
            "                                     \u001b[A"
          ]
        },
        {
          "output_type": "stream",
          "name": "stdout",
          "text": [
            "[08:55:13.502039] Processing image: img_584.tif\n"
          ]
        },
        {
          "output_type": "stream",
          "name": "stderr",
          "text": [
            "\n",
            "  0%|          | 0/1 [00:00<?, ?it/s]\u001b[A\n",
            "                                     \u001b[A"
          ]
        },
        {
          "output_type": "stream",
          "name": "stdout",
          "text": [
            "[08:55:13.539505] Processing image: img_586.tif\n"
          ]
        },
        {
          "output_type": "stream",
          "name": "stderr",
          "text": [
            "\n",
            "  0%|          | 0/1 [00:00<?, ?it/s]\u001b[A\n",
            " 22%|██▏       | 135/610 [00:04<00:16, 28.67it/s]"
          ]
        },
        {
          "output_type": "stream",
          "name": "stdout",
          "text": [
            "[08:55:13.589695] Processing image: img_595.tif\n"
          ]
        },
        {
          "output_type": "stream",
          "name": "stderr",
          "text": [
            "\n",
            "  0%|          | 0/1 [00:00<?, ?it/s]\u001b[A\n",
            "                                     \u001b[A"
          ]
        },
        {
          "output_type": "stream",
          "name": "stdout",
          "text": [
            "[08:55:13.630722] Processing image: img_604.tif\n"
          ]
        },
        {
          "output_type": "stream",
          "name": "stderr",
          "text": [
            "\n",
            "  0%|          | 0/1 [00:00<?, ?it/s]\u001b[A\n",
            "                                     \u001b[A"
          ]
        },
        {
          "output_type": "stream",
          "name": "stdout",
          "text": [
            "[08:55:13.678718] Processing image: img_000.tif\n"
          ]
        },
        {
          "output_type": "stream",
          "name": "stderr",
          "text": [
            "\n",
            "  0%|          | 0/1 [00:00<?, ?it/s]\u001b[A\n",
            " 23%|██▎       | 138/610 [00:04<00:17, 26.52it/s]"
          ]
        },
        {
          "output_type": "stream",
          "name": "stdout",
          "text": [
            "[08:55:13.719926] Processing image: img_017.tif\n"
          ]
        },
        {
          "output_type": "stream",
          "name": "stderr",
          "text": [
            "\n",
            "  0%|          | 0/1 [00:00<?, ?it/s]\u001b[A\n",
            "                                     \u001b[A"
          ]
        },
        {
          "output_type": "stream",
          "name": "stdout",
          "text": [
            "[08:55:13.755893] Processing image: img_019.tif\n"
          ]
        },
        {
          "output_type": "stream",
          "name": "stderr",
          "text": [
            "\n",
            "  0%|          | 0/1 [00:00<?, ?it/s]\u001b[A\n",
            "                                     \u001b[A"
          ]
        },
        {
          "output_type": "stream",
          "name": "stdout",
          "text": [
            "[08:55:13.794722] Processing image: img_030.tif\n"
          ]
        },
        {
          "output_type": "stream",
          "name": "stderr",
          "text": [
            "\n",
            "  0%|          | 0/1 [00:00<?, ?it/s]\u001b[A\n",
            " 23%|██▎       | 141/610 [00:04<00:17, 26.98it/s]"
          ]
        },
        {
          "output_type": "stream",
          "name": "stdout",
          "text": [
            "[08:55:13.823520] Processing image: img_054.tif\n"
          ]
        },
        {
          "output_type": "stream",
          "name": "stderr",
          "text": [
            "\n",
            "  0%|          | 0/1 [00:00<?, ?it/s]\u001b[A\n",
            "                                     \u001b[A"
          ]
        },
        {
          "output_type": "stream",
          "name": "stdout",
          "text": [
            "[08:55:13.852500] Processing image: img_056.tif\n"
          ]
        },
        {
          "output_type": "stream",
          "name": "stderr",
          "text": [
            "\n",
            "  0%|          | 0/1 [00:00<?, ?it/s]\u001b[A\n",
            "                                     \u001b[A"
          ]
        },
        {
          "output_type": "stream",
          "name": "stdout",
          "text": [
            "[08:55:13.878350] Processing image: img_071.tif\n"
          ]
        },
        {
          "output_type": "stream",
          "name": "stderr",
          "text": [
            "\n",
            "  0%|          | 0/1 [00:00<?, ?it/s]\u001b[A\n",
            "                                     \u001b[A"
          ]
        },
        {
          "output_type": "stream",
          "name": "stdout",
          "text": [
            "[08:55:13.908981] Processing image: img_088.tif\n"
          ]
        },
        {
          "output_type": "stream",
          "name": "stderr",
          "text": [
            "\n",
            "  0%|          | 0/1 [00:00<?, ?it/s]\u001b[A\n",
            " 24%|██▍       | 145/610 [00:04<00:15, 29.30it/s]"
          ]
        },
        {
          "output_type": "stream",
          "name": "stdout",
          "text": [
            "[08:55:13.934393] Processing image: img_100.tif\n"
          ]
        },
        {
          "output_type": "stream",
          "name": "stderr",
          "text": [
            "\n",
            "  0%|          | 0/1 [00:00<?, ?it/s]\u001b[A\n",
            "                                     \u001b[A"
          ]
        },
        {
          "output_type": "stream",
          "name": "stdout",
          "text": [
            "[08:55:13.977942] Processing image: img_113.tif\n"
          ]
        },
        {
          "output_type": "stream",
          "name": "stderr",
          "text": [
            "\n",
            "  0%|          | 0/1 [00:00<?, ?it/s]\u001b[A\n",
            "                                     \u001b[A"
          ]
        },
        {
          "output_type": "stream",
          "name": "stdout",
          "text": [
            "[08:55:14.042047] Processing image: img_114.tif\n"
          ]
        },
        {
          "output_type": "stream",
          "name": "stderr",
          "text": [
            "\n",
            "  0%|          | 0/1 [00:00<?, ?it/s]\u001b[A\n",
            " 24%|██▍       | 148/610 [00:05<00:17, 26.61it/s]"
          ]
        },
        {
          "output_type": "stream",
          "name": "stdout",
          "text": [
            "[08:55:14.099969] Processing image: img_116.tif\n"
          ]
        },
        {
          "output_type": "stream",
          "name": "stderr",
          "text": [
            "\n",
            "  0%|          | 0/1 [00:00<?, ?it/s]\u001b[A\n",
            "                                     \u001b[A"
          ]
        },
        {
          "output_type": "stream",
          "name": "stdout",
          "text": [
            "[08:55:14.139814] Processing image: img_117.tif\n"
          ]
        },
        {
          "output_type": "stream",
          "name": "stderr",
          "text": [
            "\n",
            "  0%|          | 0/1 [00:00<?, ?it/s]\u001b[A\n",
            "                                     \u001b[A"
          ]
        },
        {
          "output_type": "stream",
          "name": "stdout",
          "text": [
            "[08:55:14.172274] Processing image: img_128.tif\n"
          ]
        },
        {
          "output_type": "stream",
          "name": "stderr",
          "text": [
            "\n",
            "  0%|          | 0/1 [00:00<?, ?it/s]\u001b[A\n",
            " 25%|██▍       | 151/610 [00:05<00:17, 25.52it/s]"
          ]
        },
        {
          "output_type": "stream",
          "name": "stdout",
          "text": [
            "[08:55:14.208251] Processing image: img_142.tif\n"
          ]
        },
        {
          "output_type": "stream",
          "name": "stderr",
          "text": [
            "\n",
            "  0%|          | 0/1 [00:00<?, ?it/s]\u001b[A\n",
            "                                     \u001b[A"
          ]
        },
        {
          "output_type": "stream",
          "name": "stdout",
          "text": [
            "[08:55:14.238556] Processing image: img_156.tif\n"
          ]
        },
        {
          "output_type": "stream",
          "name": "stderr",
          "text": [
            "\n",
            "  0%|          | 0/1 [00:00<?, ?it/s]\u001b[A\n",
            "                                     \u001b[A"
          ]
        },
        {
          "output_type": "stream",
          "name": "stdout",
          "text": [
            "[08:55:14.265445] Processing image: img_159.tif\n"
          ]
        },
        {
          "output_type": "stream",
          "name": "stderr",
          "text": [
            "\n",
            "  0%|          | 0/1 [00:00<?, ?it/s]\u001b[A\n",
            "                                     \u001b[A"
          ]
        },
        {
          "output_type": "stream",
          "name": "stdout",
          "text": [
            "[08:55:14.295620] Processing image: img_177.tif\n"
          ]
        },
        {
          "output_type": "stream",
          "name": "stderr",
          "text": [
            "\n",
            "  0%|          | 0/1 [00:00<?, ?it/s]\u001b[A\n",
            " 25%|██▌       | 155/610 [00:05<00:16, 27.81it/s]"
          ]
        },
        {
          "output_type": "stream",
          "name": "stdout",
          "text": [
            "[08:55:14.326402] Processing image: img_180.tif\n"
          ]
        },
        {
          "output_type": "stream",
          "name": "stderr",
          "text": [
            "\n",
            "  0%|          | 0/1 [00:00<?, ?it/s]\u001b[A\n",
            "                                     \u001b[A"
          ]
        },
        {
          "output_type": "stream",
          "name": "stdout",
          "text": [
            "[08:55:14.365374] Processing image: img_192.tif\n"
          ]
        },
        {
          "output_type": "stream",
          "name": "stderr",
          "text": [
            "\n",
            "  0%|          | 0/1 [00:00<?, ?it/s]\u001b[A\n",
            "                                     \u001b[A"
          ]
        },
        {
          "output_type": "stream",
          "name": "stdout",
          "text": [
            "[08:55:14.398110] Processing image: img_210.tif\n"
          ]
        },
        {
          "output_type": "stream",
          "name": "stderr",
          "text": [
            "\n",
            "  0%|          | 0/1 [00:00<?, ?it/s]\u001b[A\n",
            " 26%|██▌       | 158/610 [00:05<00:16, 28.09it/s]"
          ]
        },
        {
          "output_type": "stream",
          "name": "stdout",
          "text": [
            "[08:55:14.434223] Processing image: img_219.tif\n"
          ]
        },
        {
          "output_type": "stream",
          "name": "stderr",
          "text": [
            "\n",
            "  0%|          | 0/1 [00:00<?, ?it/s]\u001b[A\n",
            "                                     \u001b[A"
          ]
        },
        {
          "output_type": "stream",
          "name": "stdout",
          "text": [
            "[08:55:14.488447] Processing image: img_220.tif\n"
          ]
        },
        {
          "output_type": "stream",
          "name": "stderr",
          "text": [
            "\n",
            "  0%|          | 0/1 [00:00<?, ?it/s]\u001b[A\n",
            "                                     \u001b[A"
          ]
        },
        {
          "output_type": "stream",
          "name": "stdout",
          "text": [
            "[08:55:14.520017] Processing image: img_222.tif\n"
          ]
        },
        {
          "output_type": "stream",
          "name": "stderr",
          "text": [
            "\n",
            "  0%|          | 0/1 [00:00<?, ?it/s]\u001b[A\n",
            " 26%|██▋       | 161/610 [00:05<00:16, 27.26it/s]"
          ]
        },
        {
          "output_type": "stream",
          "name": "stdout",
          "text": [
            "[08:55:14.548723] Processing image: img_235.tif\n"
          ]
        },
        {
          "output_type": "stream",
          "name": "stderr",
          "text": [
            "\n",
            "  0%|          | 0/1 [00:00<?, ?it/s]\u001b[A\n",
            "                                     \u001b[A"
          ]
        },
        {
          "output_type": "stream",
          "name": "stdout",
          "text": [
            "[08:55:14.605710] Processing image: img_250.tif\n"
          ]
        },
        {
          "output_type": "stream",
          "name": "stderr",
          "text": [
            "\n",
            "  0%|          | 0/1 [00:00<?, ?it/s]\u001b[A\n",
            "                                     \u001b[A"
          ]
        },
        {
          "output_type": "stream",
          "name": "stdout",
          "text": [
            "[08:55:14.658819] Processing image: img_257.tif\n"
          ]
        },
        {
          "output_type": "stream",
          "name": "stderr",
          "text": [
            "\n",
            "  0%|          | 0/1 [00:00<?, ?it/s]\u001b[A\n",
            " 27%|██▋       | 164/610 [00:05<00:18, 24.35it/s]"
          ]
        },
        {
          "output_type": "stream",
          "name": "stdout",
          "text": [
            "[08:55:14.712679] Processing image: img_259.tif\n"
          ]
        },
        {
          "output_type": "stream",
          "name": "stderr",
          "text": [
            "\n",
            "  0%|          | 0/1 [00:00<?, ?it/s]\u001b[A\n",
            "                                     \u001b[A"
          ]
        },
        {
          "output_type": "stream",
          "name": "stdout",
          "text": [
            "[08:55:14.753745] Processing image: img_267.tif\n"
          ]
        },
        {
          "output_type": "stream",
          "name": "stderr",
          "text": [
            "\n",
            "  0%|          | 0/1 [00:00<?, ?it/s]\u001b[A\n",
            "                                     \u001b[A"
          ]
        },
        {
          "output_type": "stream",
          "name": "stdout",
          "text": [
            "[08:55:14.811923] Processing image: img_274.tif\n"
          ]
        },
        {
          "output_type": "stream",
          "name": "stderr",
          "text": [
            "\n",
            "  0%|          | 0/1 [00:00<?, ?it/s]\u001b[A\n",
            " 27%|██▋       | 167/610 [00:05<00:19, 23.14it/s]"
          ]
        },
        {
          "output_type": "stream",
          "name": "stdout",
          "text": [
            "[08:55:14.876958] Processing image: img_292.tif\n"
          ]
        },
        {
          "output_type": "stream",
          "name": "stderr",
          "text": [
            "\n",
            "  0%|          | 0/1 [00:00<?, ?it/s]\u001b[A\n",
            "                                     \u001b[A"
          ]
        },
        {
          "output_type": "stream",
          "name": "stdout",
          "text": [
            "[08:55:14.940366] Processing image: img_298.tif\n"
          ]
        },
        {
          "output_type": "stream",
          "name": "stderr",
          "text": [
            "\n",
            "  0%|          | 0/1 [00:00<?, ?it/s]\u001b[A\n",
            "                                     \u001b[A"
          ]
        },
        {
          "output_type": "stream",
          "name": "stdout",
          "text": [
            "[08:55:14.992281] Processing image: img_310.tif\n"
          ]
        },
        {
          "output_type": "stream",
          "name": "stderr",
          "text": [
            "\n",
            "  0%|          | 0/1 [00:00<?, ?it/s]\u001b[A\n",
            " 28%|██▊       | 170/610 [00:06<00:21, 20.01it/s]"
          ]
        },
        {
          "output_type": "stream",
          "name": "stdout",
          "text": [
            "[08:55:15.055931] Processing image: img_311.tif\n"
          ]
        },
        {
          "output_type": "stream",
          "name": "stderr",
          "text": [
            "\n",
            "  0%|          | 0/1 [00:00<?, ?it/s]\u001b[A\n",
            "                                     \u001b[A"
          ]
        },
        {
          "output_type": "stream",
          "name": "stdout",
          "text": [
            "[08:55:15.084168] Processing image: img_318.tif\n"
          ]
        },
        {
          "output_type": "stream",
          "name": "stderr",
          "text": [
            "\n",
            "  0%|          | 0/1 [00:00<?, ?it/s]\u001b[A\n",
            "                                     \u001b[A"
          ]
        },
        {
          "output_type": "stream",
          "name": "stdout",
          "text": [
            "[08:55:15.109368] Processing image: img_323.tif\n"
          ]
        },
        {
          "output_type": "stream",
          "name": "stderr",
          "text": [
            "\n",
            "  0%|          | 0/1 [00:00<?, ?it/s]\u001b[A\n",
            "                                     \u001b[A"
          ]
        },
        {
          "output_type": "stream",
          "name": "stdout",
          "text": [
            "[08:55:15.146641] Processing image: img_342.tif\n"
          ]
        },
        {
          "output_type": "stream",
          "name": "stderr",
          "text": [
            "\n",
            "  0%|          | 0/1 [00:00<?, ?it/s]\u001b[A\n",
            " 29%|██▊       | 174/610 [00:06<00:19, 22.53it/s]"
          ]
        },
        {
          "output_type": "stream",
          "name": "stdout",
          "text": [
            "[08:55:15.209832] Processing image: img_344.tif\n"
          ]
        },
        {
          "output_type": "stream",
          "name": "stderr",
          "text": [
            "\n",
            "  0%|          | 0/1 [00:00<?, ?it/s]\u001b[A\n",
            "                                     \u001b[A"
          ]
        },
        {
          "output_type": "stream",
          "name": "stdout",
          "text": [
            "[08:55:15.263184] Processing image: img_351.tif\n"
          ]
        },
        {
          "output_type": "stream",
          "name": "stderr",
          "text": [
            "\n",
            "  0%|          | 0/1 [00:00<?, ?it/s]\u001b[A\n",
            "                                     \u001b[A"
          ]
        },
        {
          "output_type": "stream",
          "name": "stdout",
          "text": [
            "[08:55:15.301846] Processing image: img_356.tif\n"
          ]
        },
        {
          "output_type": "stream",
          "name": "stderr",
          "text": [
            "\n",
            "  0%|          | 0/1 [00:00<?, ?it/s]\u001b[A\n",
            " 29%|██▉       | 177/610 [00:06<00:20, 21.38it/s]"
          ]
        },
        {
          "output_type": "stream",
          "name": "stdout",
          "text": [
            "[08:55:15.387885] Processing image: img_358.tif\n"
          ]
        },
        {
          "output_type": "stream",
          "name": "stderr",
          "text": [
            "\n",
            "  0%|          | 0/1 [00:00<?, ?it/s]\u001b[A\n",
            "                                     \u001b[A"
          ]
        },
        {
          "output_type": "stream",
          "name": "stdout",
          "text": [
            "[08:55:15.452794] Processing image: img_363.tif\n"
          ]
        },
        {
          "output_type": "stream",
          "name": "stderr",
          "text": [
            "\n",
            "  0%|          | 0/1 [00:00<?, ?it/s]\u001b[A\n",
            "                                     \u001b[A"
          ]
        },
        {
          "output_type": "stream",
          "name": "stdout",
          "text": [
            "[08:55:15.518932] Processing image: img_371.tif\n"
          ]
        },
        {
          "output_type": "stream",
          "name": "stderr",
          "text": [
            "\n",
            "  0%|          | 0/1 [00:00<?, ?it/s]\u001b[A\n",
            " 30%|██▉       | 180/610 [00:06<00:23, 18.50it/s]"
          ]
        },
        {
          "output_type": "stream",
          "name": "stdout",
          "text": [
            "[08:55:15.582700] Processing image: img_378.tif\n"
          ]
        },
        {
          "output_type": "stream",
          "name": "stderr",
          "text": [
            "\n",
            "  0%|          | 0/1 [00:00<?, ?it/s]\u001b[A\n",
            "                                     \u001b[A"
          ]
        },
        {
          "output_type": "stream",
          "name": "stdout",
          "text": [
            "[08:55:15.645071] Processing image: img_386.tif\n"
          ]
        },
        {
          "output_type": "stream",
          "name": "stderr",
          "text": [
            "\n",
            "  0%|          | 0/1 [00:00<?, ?it/s]\u001b[A\n",
            " 30%|██▉       | 182/610 [00:06<00:24, 17.75it/s]"
          ]
        },
        {
          "output_type": "stream",
          "name": "stdout",
          "text": [
            "[08:55:15.691941] Processing image: img_391.tif\n"
          ]
        },
        {
          "output_type": "stream",
          "name": "stderr",
          "text": [
            "\n",
            "  0%|          | 0/1 [00:00<?, ?it/s]\u001b[A\n",
            "                                     \u001b[A"
          ]
        },
        {
          "output_type": "stream",
          "name": "stdout",
          "text": [
            "[08:55:15.717165] Processing image: img_394.tif\n"
          ]
        },
        {
          "output_type": "stream",
          "name": "stderr",
          "text": [
            "\n",
            "  0%|          | 0/1 [00:00<?, ?it/s]\u001b[A\n",
            "                                     \u001b[A"
          ]
        },
        {
          "output_type": "stream",
          "name": "stdout",
          "text": [
            "[08:55:15.753676] Processing image: img_398.tif\n"
          ]
        },
        {
          "output_type": "stream",
          "name": "stderr",
          "text": [
            "\n",
            "  0%|          | 0/1 [00:00<?, ?it/s]\u001b[A\n",
            "                                     \u001b[A"
          ]
        },
        {
          "output_type": "stream",
          "name": "stdout",
          "text": [
            "[08:55:15.789109] Processing image: img_412.tif\n"
          ]
        },
        {
          "output_type": "stream",
          "name": "stderr",
          "text": [
            "\n",
            "  0%|          | 0/1 [00:00<?, ?it/s]\u001b[A\n",
            " 30%|███       | 186/610 [00:06<00:20, 20.97it/s]"
          ]
        },
        {
          "output_type": "stream",
          "name": "stdout",
          "text": [
            "[08:55:15.828307] Processing image: img_413.tif\n"
          ]
        },
        {
          "output_type": "stream",
          "name": "stderr",
          "text": [
            "\n",
            "  0%|          | 0/1 [00:00<?, ?it/s]\u001b[A\n",
            "                                     \u001b[A"
          ]
        },
        {
          "output_type": "stream",
          "name": "stdout",
          "text": [
            "[08:55:15.869743] Processing image: img_418.tif\n"
          ]
        },
        {
          "output_type": "stream",
          "name": "stderr",
          "text": [
            "\n",
            "  0%|          | 0/1 [00:00<?, ?it/s]\u001b[A\n",
            "                                     \u001b[A"
          ]
        },
        {
          "output_type": "stream",
          "name": "stdout",
          "text": [
            "[08:55:15.907764] Processing image: img_419.tif\n"
          ]
        },
        {
          "output_type": "stream",
          "name": "stderr",
          "text": [
            "\n",
            "  0%|          | 0/1 [00:00<?, ?it/s]\u001b[A\n",
            " 31%|███       | 189/610 [00:06<00:19, 22.02it/s]"
          ]
        },
        {
          "output_type": "stream",
          "name": "stdout",
          "text": [
            "[08:55:15.951743] Processing image: img_458.tif\n"
          ]
        },
        {
          "output_type": "stream",
          "name": "stderr",
          "text": [
            "\n",
            "  0%|          | 0/1 [00:00<?, ?it/s]\u001b[A\n",
            "                                     \u001b[A"
          ]
        },
        {
          "output_type": "stream",
          "name": "stdout",
          "text": [
            "[08:55:15.992901] Processing image: img_474.tif\n"
          ]
        },
        {
          "output_type": "stream",
          "name": "stderr",
          "text": [
            "\n",
            "  0%|          | 0/1 [00:00<?, ?it/s]\u001b[A\n",
            "                                     \u001b[A"
          ]
        },
        {
          "output_type": "stream",
          "name": "stdout",
          "text": [
            "[08:55:16.039653] Processing image: img_476.tif\n"
          ]
        },
        {
          "output_type": "stream",
          "name": "stderr",
          "text": [
            "\n",
            "  0%|          | 0/1 [00:00<?, ?it/s]\u001b[A\n",
            " 31%|███▏      | 192/610 [00:07<00:18, 22.04it/s]"
          ]
        },
        {
          "output_type": "stream",
          "name": "stdout",
          "text": [
            "[08:55:16.100001] Processing image: img_477.tif\n"
          ]
        },
        {
          "output_type": "stream",
          "name": "stderr",
          "text": [
            "\n",
            "  0%|          | 0/1 [00:00<?, ?it/s]\u001b[A\n",
            "                                     \u001b[A"
          ]
        },
        {
          "output_type": "stream",
          "name": "stdout",
          "text": [
            "[08:55:16.165950] Processing image: img_479.tif\n"
          ]
        },
        {
          "output_type": "stream",
          "name": "stderr",
          "text": [
            "\n",
            "  0%|          | 0/1 [00:00<?, ?it/s]\u001b[A\n",
            "                                     \u001b[A"
          ]
        },
        {
          "output_type": "stream",
          "name": "stdout",
          "text": [
            "[08:55:16.232116] Processing image: img_488.tif\n"
          ]
        },
        {
          "output_type": "stream",
          "name": "stderr",
          "text": [
            "\n",
            "  0%|          | 0/1 [00:00<?, ?it/s]\u001b[A\n",
            " 32%|███▏      | 195/610 [00:07<00:21, 19.74it/s]"
          ]
        },
        {
          "output_type": "stream",
          "name": "stdout",
          "text": [
            "[08:55:16.280203] Processing image: img_497.tif\n"
          ]
        },
        {
          "output_type": "stream",
          "name": "stderr",
          "text": [
            "\n",
            "  0%|          | 0/1 [00:00<?, ?it/s]\u001b[A\n",
            "                                     \u001b[A"
          ]
        },
        {
          "output_type": "stream",
          "name": "stdout",
          "text": [
            "[08:55:16.318965] Processing image: img_506.tif\n"
          ]
        },
        {
          "output_type": "stream",
          "name": "stderr",
          "text": [
            "\n",
            "  0%|          | 0/1 [00:00<?, ?it/s]\u001b[A\n",
            "                                     \u001b[A"
          ]
        },
        {
          "output_type": "stream",
          "name": "stdout",
          "text": [
            "[08:55:16.344718] Processing image: img_528.tif\n"
          ]
        },
        {
          "output_type": "stream",
          "name": "stderr",
          "text": [
            "\n",
            "  0%|          | 0/1 [00:00<?, ?it/s]\u001b[A\n",
            " 32%|███▏      | 198/610 [00:07<00:19, 21.61it/s]"
          ]
        },
        {
          "output_type": "stream",
          "name": "stdout",
          "text": [
            "[08:55:16.387150] Processing image: img_541.tif\n"
          ]
        },
        {
          "output_type": "stream",
          "name": "stderr",
          "text": [
            "\n",
            "  0%|          | 0/1 [00:00<?, ?it/s]\u001b[A\n",
            "                                     \u001b[A"
          ]
        },
        {
          "output_type": "stream",
          "name": "stdout",
          "text": [
            "[08:55:16.427975] Processing image: img_547.tif\n"
          ]
        },
        {
          "output_type": "stream",
          "name": "stderr",
          "text": [
            "\n",
            "  0%|          | 0/1 [00:00<?, ?it/s]\u001b[A\n",
            "                                     \u001b[A"
          ]
        },
        {
          "output_type": "stream",
          "name": "stdout",
          "text": [
            "[08:55:16.469921] Processing image: img_549.tif\n"
          ]
        },
        {
          "output_type": "stream",
          "name": "stderr",
          "text": [
            "\n",
            "  0%|          | 0/1 [00:00<?, ?it/s]\u001b[A\n",
            " 33%|███▎      | 201/610 [00:07<00:18, 22.09it/s]"
          ]
        },
        {
          "output_type": "stream",
          "name": "stdout",
          "text": [
            "[08:55:16.506633] Processing image: img_552.tif\n"
          ]
        },
        {
          "output_type": "stream",
          "name": "stderr",
          "text": [
            "\n",
            "  0%|          | 0/1 [00:00<?, ?it/s]\u001b[A\n",
            "                                     \u001b[A"
          ]
        },
        {
          "output_type": "stream",
          "name": "stdout",
          "text": [
            "[08:55:16.539804] Processing image: img_557.tif\n"
          ]
        },
        {
          "output_type": "stream",
          "name": "stderr",
          "text": [
            "\n",
            "  0%|          | 0/1 [00:00<?, ?it/s]\u001b[A\n",
            "                                     \u001b[A"
          ]
        },
        {
          "output_type": "stream",
          "name": "stdout",
          "text": [
            "[08:55:16.571389] Processing image: img_573.tif\n"
          ]
        },
        {
          "output_type": "stream",
          "name": "stderr",
          "text": [
            "\n",
            "  0%|          | 0/1 [00:00<?, ?it/s]\u001b[A\n",
            "                                     \u001b[A"
          ]
        },
        {
          "output_type": "stream",
          "name": "stdout",
          "text": [
            "[08:55:16.597097] Processing image: img_596.tif\n"
          ]
        },
        {
          "output_type": "stream",
          "name": "stderr",
          "text": [
            "\n",
            "  0%|          | 0/1 [00:00<?, ?it/s]\u001b[A\n",
            " 34%|███▎      | 205/610 [00:07<00:16, 25.27it/s]"
          ]
        },
        {
          "output_type": "stream",
          "name": "stdout",
          "text": [
            "[08:55:16.623821] Processing image: img_606.tif\n"
          ]
        },
        {
          "output_type": "stream",
          "name": "stderr",
          "text": [
            "\n",
            "  0%|          | 0/1 [00:00<?, ?it/s]\u001b[A\n",
            "                                     \u001b[A"
          ]
        },
        {
          "output_type": "stream",
          "name": "stdout",
          "text": [
            "[08:55:16.648438] Processing image: img_001.tif\n"
          ]
        },
        {
          "output_type": "stream",
          "name": "stderr",
          "text": [
            "\n",
            "  0%|          | 0/1 [00:00<?, ?it/s]\u001b[A\n",
            "                                     \u001b[A"
          ]
        },
        {
          "output_type": "stream",
          "name": "stdout",
          "text": [
            "[08:55:16.688939] Processing image: img_007.tif\n"
          ]
        },
        {
          "output_type": "stream",
          "name": "stderr",
          "text": [
            "\n",
            "  0%|          | 0/1 [00:00<?, ?it/s]\u001b[A\n",
            " 34%|███▍      | 208/610 [00:07<00:16, 24.95it/s]"
          ]
        },
        {
          "output_type": "stream",
          "name": "stdout",
          "text": [
            "[08:55:16.761009] Processing image: img_011.tif\n"
          ]
        },
        {
          "output_type": "stream",
          "name": "stderr",
          "text": [
            "\n",
            "  0%|          | 0/1 [00:00<?, ?it/s]\u001b[A\n",
            "                                     \u001b[A"
          ]
        },
        {
          "output_type": "stream",
          "name": "stdout",
          "text": [
            "[08:55:16.831536] Processing image: img_057.tif\n"
          ]
        },
        {
          "output_type": "stream",
          "name": "stderr",
          "text": [
            "\n",
            "  0%|          | 0/1 [00:00<?, ?it/s]\u001b[A\n",
            "                                     \u001b[A"
          ]
        },
        {
          "output_type": "stream",
          "name": "stdout",
          "text": [
            "[08:55:16.890040] Processing image: img_069.tif\n"
          ]
        },
        {
          "output_type": "stream",
          "name": "stderr",
          "text": [
            "\n",
            "  0%|          | 0/1 [00:00<?, ?it/s]\u001b[A\n",
            " 35%|███▍      | 211/610 [00:07<00:18, 21.66it/s]"
          ]
        },
        {
          "output_type": "stream",
          "name": "stdout",
          "text": [
            "[08:55:16.952977] Processing image: img_073.tif\n"
          ]
        },
        {
          "output_type": "stream",
          "name": "stderr",
          "text": [
            "\n",
            "  0%|          | 0/1 [00:00<?, ?it/s]\u001b[A\n",
            "                                     \u001b[A"
          ]
        },
        {
          "output_type": "stream",
          "name": "stdout",
          "text": [
            "[08:55:17.005102] Processing image: img_085.tif\n"
          ]
        },
        {
          "output_type": "stream",
          "name": "stderr",
          "text": [
            "\n",
            "  0%|          | 0/1 [00:00<?, ?it/s]\u001b[A\n",
            "                                     \u001b[A"
          ]
        },
        {
          "output_type": "stream",
          "name": "stdout",
          "text": [
            "[08:55:17.073655] Processing image: img_086.tif\n"
          ]
        },
        {
          "output_type": "stream",
          "name": "stderr",
          "text": [
            "\n",
            "  0%|          | 0/1 [00:00<?, ?it/s]\u001b[A\n",
            " 35%|███▌      | 214/610 [00:08<00:21, 18.55it/s]"
          ]
        },
        {
          "output_type": "stream",
          "name": "stdout",
          "text": [
            "[08:55:17.200229] Processing image: img_089.tif\n"
          ]
        },
        {
          "output_type": "stream",
          "name": "stderr",
          "text": [
            "\n",
            "  0%|          | 0/1 [00:00<?, ?it/s]\u001b[A\n",
            "                                     \u001b[A"
          ]
        },
        {
          "output_type": "stream",
          "name": "stdout",
          "text": [
            "[08:55:17.291012] Processing image: img_095.tif\n"
          ]
        },
        {
          "output_type": "stream",
          "name": "stderr",
          "text": [
            "\n",
            "  0%|          | 0/1 [00:00<?, ?it/s]\u001b[A\n",
            "                                     \u001b[A"
          ]
        },
        {
          "output_type": "stream",
          "name": "stdout",
          "text": [
            "[08:55:17.349964] Processing image: img_096.tif\n"
          ]
        },
        {
          "output_type": "stream",
          "name": "stderr",
          "text": [
            "\n",
            "  0%|          | 0/1 [00:00<?, ?it/s]\u001b[A\n",
            " 36%|███▌      | 217/610 [00:08<00:23, 16.40it/s]"
          ]
        },
        {
          "output_type": "stream",
          "name": "stdout",
          "text": [
            "[08:55:17.410765] Processing image: img_099.tif\n"
          ]
        },
        {
          "output_type": "stream",
          "name": "stderr",
          "text": [
            "\n",
            "  0%|          | 0/1 [00:00<?, ?it/s]\u001b[A\n",
            "                                     \u001b[A"
          ]
        },
        {
          "output_type": "stream",
          "name": "stdout",
          "text": [
            "[08:55:17.470363] Processing image: img_110.tif\n"
          ]
        },
        {
          "output_type": "stream",
          "name": "stderr",
          "text": [
            "\n",
            "  0%|          | 0/1 [00:00<?, ?it/s]\u001b[A\n",
            " 36%|███▌      | 219/610 [00:08<00:23, 16.42it/s]"
          ]
        },
        {
          "output_type": "stream",
          "name": "stdout",
          "text": [
            "[08:55:17.531086] Processing image: img_119.tif\n"
          ]
        },
        {
          "output_type": "stream",
          "name": "stderr",
          "text": [
            "\n",
            "  0%|          | 0/1 [00:00<?, ?it/s]\u001b[A\n",
            "                                     \u001b[A"
          ]
        },
        {
          "output_type": "stream",
          "name": "stdout",
          "text": [
            "[08:55:17.586215] Processing image: img_144.tif\n"
          ]
        },
        {
          "output_type": "stream",
          "name": "stderr",
          "text": [
            "\n",
            "  0%|          | 0/1 [00:00<?, ?it/s]\u001b[A\n",
            " 36%|███▌      | 221/610 [00:08<00:23, 16.23it/s]"
          ]
        },
        {
          "output_type": "stream",
          "name": "stdout",
          "text": [
            "[08:55:17.643526] Processing image: img_147.tif\n"
          ]
        },
        {
          "output_type": "stream",
          "name": "stderr",
          "text": [
            "\n",
            "  0%|          | 0/1 [00:00<?, ?it/s]\u001b[A\n",
            "                                     \u001b[A"
          ]
        },
        {
          "output_type": "stream",
          "name": "stdout",
          "text": [
            "[08:55:17.699533] Processing image: img_154.tif\n"
          ]
        },
        {
          "output_type": "stream",
          "name": "stderr",
          "text": [
            "\n",
            "  0%|          | 0/1 [00:00<?, ?it/s]\u001b[A\n",
            "                                     \u001b[A"
          ]
        },
        {
          "output_type": "stream",
          "name": "stdout",
          "text": [
            "[08:55:17.747616] Processing image: img_161.tif\n"
          ]
        },
        {
          "output_type": "stream",
          "name": "stderr",
          "text": [
            "\n",
            "  0%|          | 0/1 [00:00<?, ?it/s]\u001b[A\n",
            " 37%|███▋      | 224/610 [00:08<00:23, 16.36it/s]"
          ]
        },
        {
          "output_type": "stream",
          "name": "stdout",
          "text": [
            "[08:55:17.824408] Processing image: img_168.tif\n"
          ]
        },
        {
          "output_type": "stream",
          "name": "stderr",
          "text": [
            "\n",
            "  0%|          | 0/1 [00:00<?, ?it/s]\u001b[A\n",
            "                                     \u001b[A"
          ]
        },
        {
          "output_type": "stream",
          "name": "stdout",
          "text": [
            "[08:55:17.872485] Processing image: img_170.tif\n"
          ]
        },
        {
          "output_type": "stream",
          "name": "stderr",
          "text": [
            "\n",
            "  0%|          | 0/1 [00:00<?, ?it/s]\u001b[A\n",
            "                                     \u001b[A"
          ]
        },
        {
          "output_type": "stream",
          "name": "stdout",
          "text": [
            "[08:55:17.925012] Processing image: img_172.tif\n"
          ]
        },
        {
          "output_type": "stream",
          "name": "stderr",
          "text": [
            "\n",
            "  0%|          | 0/1 [00:00<?, ?it/s]\u001b[A\n",
            " 37%|███▋      | 227/610 [00:09<00:21, 17.45it/s]"
          ]
        },
        {
          "output_type": "stream",
          "name": "stdout",
          "text": [
            "[08:55:17.980442] Processing image: img_173.tif\n"
          ]
        },
        {
          "output_type": "stream",
          "name": "stderr",
          "text": [
            "\n",
            "  0%|          | 0/1 [00:00<?, ?it/s]\u001b[A\n",
            "                                     \u001b[A"
          ]
        },
        {
          "output_type": "stream",
          "name": "stdout",
          "text": [
            "[08:55:18.028147] Processing image: img_204.tif\n"
          ]
        },
        {
          "output_type": "stream",
          "name": "stderr",
          "text": [
            "\n",
            "  0%|          | 0/1 [00:00<?, ?it/s]\u001b[A\n",
            "                                     \u001b[A"
          ]
        },
        {
          "output_type": "stream",
          "name": "stdout",
          "text": [
            "[08:55:18.077950] Processing image: img_206.tif\n"
          ]
        },
        {
          "output_type": "stream",
          "name": "stderr",
          "text": [
            "\n",
            "  0%|          | 0/1 [00:00<?, ?it/s]\u001b[A\n",
            " 38%|███▊      | 230/610 [00:09<00:20, 18.37it/s]"
          ]
        },
        {
          "output_type": "stream",
          "name": "stdout",
          "text": [
            "[08:55:18.130687] Processing image: img_223.tif\n"
          ]
        },
        {
          "output_type": "stream",
          "name": "stderr",
          "text": [
            "\n",
            "  0%|          | 0/1 [00:00<?, ?it/s]\u001b[A\n",
            "                                     \u001b[A"
          ]
        },
        {
          "output_type": "stream",
          "name": "stdout",
          "text": [
            "[08:55:18.181986] Processing image: img_225.tif\n"
          ]
        },
        {
          "output_type": "stream",
          "name": "stderr",
          "text": [
            "\n",
            "  0%|          | 0/1 [00:00<?, ?it/s]\u001b[A\n",
            " 38%|███▊      | 232/610 [00:09<00:20, 18.32it/s]"
          ]
        },
        {
          "output_type": "stream",
          "name": "stdout",
          "text": [
            "[08:55:18.238295] Processing image: img_228.tif\n"
          ]
        },
        {
          "output_type": "stream",
          "name": "stderr",
          "text": [
            "\n",
            "  0%|          | 0/1 [00:00<?, ?it/s]\u001b[A\n",
            "                                     \u001b[A"
          ]
        },
        {
          "output_type": "stream",
          "name": "stdout",
          "text": [
            "[08:55:18.303390] Processing image: img_234.tif\n"
          ]
        },
        {
          "output_type": "stream",
          "name": "stderr",
          "text": [
            "\n",
            "  0%|          | 0/1 [00:00<?, ?it/s]\u001b[A\n",
            " 38%|███▊      | 234/610 [00:09<00:22, 16.98it/s]"
          ]
        },
        {
          "output_type": "stream",
          "name": "stdout",
          "text": [
            "[08:55:18.391165] Processing image: img_236.tif\n"
          ]
        },
        {
          "output_type": "stream",
          "name": "stderr",
          "text": [
            "\n",
            "  0%|          | 0/1 [00:00<?, ?it/s]\u001b[A\n",
            "                                     \u001b[A"
          ]
        },
        {
          "output_type": "stream",
          "name": "stdout",
          "text": [
            "[08:55:18.447471] Processing image: img_237.tif\n"
          ]
        },
        {
          "output_type": "stream",
          "name": "stderr",
          "text": [
            "\n",
            "  0%|          | 0/1 [00:00<?, ?it/s]\u001b[A\n",
            " 39%|███▊      | 236/610 [00:09<00:22, 16.63it/s]"
          ]
        },
        {
          "output_type": "stream",
          "name": "stdout",
          "text": [
            "[08:55:18.511904] Processing image: img_251.tif\n"
          ]
        },
        {
          "output_type": "stream",
          "name": "stderr",
          "text": [
            "\n",
            "  0%|          | 0/1 [00:00<?, ?it/s]\u001b[A\n",
            "                                     \u001b[A"
          ]
        },
        {
          "output_type": "stream",
          "name": "stdout",
          "text": [
            "[08:55:18.569602] Processing image: img_255.tif\n"
          ]
        },
        {
          "output_type": "stream",
          "name": "stderr",
          "text": [
            "\n",
            "  0%|          | 0/1 [00:00<?, ?it/s]\u001b[A\n",
            " 39%|███▉      | 238/610 [00:09<00:22, 16.47it/s]"
          ]
        },
        {
          "output_type": "stream",
          "name": "stdout",
          "text": [
            "[08:55:18.696720] Processing image: img_272.tif\n"
          ]
        },
        {
          "output_type": "stream",
          "name": "stderr",
          "text": [
            "\n",
            "  0%|          | 0/1 [00:00<?, ?it/s]\u001b[A\n",
            "                                     \u001b[A"
          ]
        },
        {
          "output_type": "stream",
          "name": "stdout",
          "text": [
            "[08:55:18.835646] Processing image: img_283.tif\n"
          ]
        },
        {
          "output_type": "stream",
          "name": "stderr",
          "text": [
            "\n",
            "  0%|          | 0/1 [00:00<?, ?it/s]\u001b[A\n",
            " 39%|███▉      | 240/610 [00:09<00:33, 11.18it/s]"
          ]
        },
        {
          "output_type": "stream",
          "name": "stdout",
          "text": [
            "[08:55:18.992037] Processing image: img_284.tif\n"
          ]
        },
        {
          "output_type": "stream",
          "name": "stderr",
          "text": [
            "\n",
            "  0%|          | 0/1 [00:00<?, ?it/s]\u001b[A\n",
            "                                     \u001b[A"
          ]
        },
        {
          "output_type": "stream",
          "name": "stdout",
          "text": [
            "[08:55:19.097705] Processing image: img_301.tif\n"
          ]
        },
        {
          "output_type": "stream",
          "name": "stderr",
          "text": [
            "\n",
            "  0%|          | 0/1 [00:00<?, ?it/s]\u001b[A\n",
            " 40%|███▉      | 242/610 [00:10<00:36, 10.00it/s]"
          ]
        },
        {
          "output_type": "stream",
          "name": "stdout",
          "text": [
            "[08:55:19.253713] Processing image: img_316.tif\n"
          ]
        },
        {
          "output_type": "stream",
          "name": "stderr",
          "text": [
            "\n",
            "  0%|          | 0/1 [00:00<?, ?it/s]\u001b[A\n",
            "                                     \u001b[A"
          ]
        },
        {
          "output_type": "stream",
          "name": "stdout",
          "text": [
            "[08:55:19.367685] Processing image: img_321.tif\n"
          ]
        },
        {
          "output_type": "stream",
          "name": "stderr",
          "text": [
            "\n",
            "  0%|          | 0/1 [00:00<?, ?it/s]\u001b[A\n",
            " 40%|████      | 244/610 [00:10<00:38,  9.52it/s]"
          ]
        },
        {
          "output_type": "stream",
          "name": "stdout",
          "text": [
            "[08:55:19.480039] Processing image: img_322.tif\n"
          ]
        },
        {
          "output_type": "stream",
          "name": "stderr",
          "text": [
            "\n",
            "  0%|          | 0/1 [00:00<?, ?it/s]\u001b[A\n",
            "                                     \u001b[A"
          ]
        },
        {
          "output_type": "stream",
          "name": "stdout",
          "text": [
            "[08:55:19.599663] Processing image: img_329.tif\n"
          ]
        },
        {
          "output_type": "stream",
          "name": "stderr",
          "text": [
            "\n",
            "  0%|          | 0/1 [00:00<?, ?it/s]\u001b[A\n",
            " 40%|████      | 246/610 [00:10<00:39,  9.18it/s]"
          ]
        },
        {
          "output_type": "stream",
          "name": "stdout",
          "text": [
            "[08:55:19.684665] Processing image: img_332.tif\n"
          ]
        },
        {
          "output_type": "stream",
          "name": "stderr",
          "text": [
            "\n",
            "  0%|          | 0/1 [00:00<?, ?it/s]\u001b[A\n",
            "                                     \u001b[A"
          ]
        },
        {
          "output_type": "stream",
          "name": "stdout",
          "text": [
            "[08:55:19.789449] Processing image: img_341.tif\n"
          ]
        },
        {
          "output_type": "stream",
          "name": "stderr",
          "text": [
            "\n",
            "  0%|          | 0/1 [00:00<?, ?it/s]\u001b[A\n",
            " 41%|████      | 248/610 [00:10<00:38,  9.52it/s]"
          ]
        },
        {
          "output_type": "stream",
          "name": "stdout",
          "text": [
            "[08:55:19.891292] Processing image: img_343.tif\n"
          ]
        },
        {
          "output_type": "stream",
          "name": "stderr",
          "text": [
            "\n",
            "  0%|          | 0/1 [00:00<?, ?it/s]\u001b[A\n",
            "                                     \u001b[A"
          ]
        },
        {
          "output_type": "stream",
          "name": "stdout",
          "text": [
            "[08:55:19.991136] Processing image: img_353.tif\n"
          ]
        },
        {
          "output_type": "stream",
          "name": "stderr",
          "text": [
            "\n",
            "  0%|          | 0/1 [00:00<?, ?it/s]\u001b[A\n",
            " 41%|████      | 250/610 [00:11<00:37,  9.60it/s]"
          ]
        },
        {
          "output_type": "stream",
          "name": "stdout",
          "text": [
            "[08:55:20.096254] Processing image: img_355.tif\n"
          ]
        },
        {
          "output_type": "stream",
          "name": "stderr",
          "text": [
            "\n",
            "  0%|          | 0/1 [00:00<?, ?it/s]\u001b[A\n",
            "                                     \u001b[A"
          ]
        },
        {
          "output_type": "stream",
          "name": "stdout",
          "text": [
            "[08:55:20.198852] Processing image: img_365.tif\n"
          ]
        },
        {
          "output_type": "stream",
          "name": "stderr",
          "text": [
            "\n",
            "  0%|          | 0/1 [00:00<?, ?it/s]\u001b[A\n",
            " 41%|████▏     | 252/610 [00:11<00:35,  9.98it/s]"
          ]
        },
        {
          "output_type": "stream",
          "name": "stdout",
          "text": [
            "[08:55:20.253833] Processing image: img_373.tif\n"
          ]
        },
        {
          "output_type": "stream",
          "name": "stderr",
          "text": [
            "\n",
            "  0%|          | 0/1 [00:00<?, ?it/s]\u001b[A\n",
            "                                     \u001b[A"
          ]
        },
        {
          "output_type": "stream",
          "name": "stdout",
          "text": [
            "[08:55:20.375484] Processing image: img_379.tif\n"
          ]
        },
        {
          "output_type": "stream",
          "name": "stderr",
          "text": [
            "\n",
            "  0%|          | 0/1 [00:00<?, ?it/s]\u001b[A\n",
            " 42%|████▏     | 254/610 [00:11<00:35,  9.96it/s]"
          ]
        },
        {
          "output_type": "stream",
          "name": "stdout",
          "text": [
            "[08:55:20.484367] Processing image: img_382.tif\n"
          ]
        },
        {
          "output_type": "stream",
          "name": "stderr",
          "text": [
            "\n",
            "  0%|          | 0/1 [00:00<?, ?it/s]\u001b[A\n",
            "                                     \u001b[A"
          ]
        },
        {
          "output_type": "stream",
          "name": "stdout",
          "text": [
            "[08:55:20.562289] Processing image: img_387.tif\n"
          ]
        },
        {
          "output_type": "stream",
          "name": "stderr",
          "text": [
            "\n",
            "  0%|          | 0/1 [00:00<?, ?it/s]\u001b[A\n",
            " 42%|████▏     | 256/610 [00:11<00:33, 10.56it/s]"
          ]
        },
        {
          "output_type": "stream",
          "name": "stdout",
          "text": [
            "[08:55:20.613275] Processing image: img_390.tif\n"
          ]
        },
        {
          "output_type": "stream",
          "name": "stderr",
          "text": [
            "\n",
            "  0%|          | 0/1 [00:00<?, ?it/s]\u001b[A\n",
            "                                     \u001b[A"
          ]
        },
        {
          "output_type": "stream",
          "name": "stdout",
          "text": [
            "[08:55:20.664665] Processing image: img_401.tif\n"
          ]
        },
        {
          "output_type": "stream",
          "name": "stderr",
          "text": [
            "\n",
            "  0%|          | 0/1 [00:00<?, ?it/s]\u001b[A\n",
            " 42%|████▏     | 258/610 [00:11<00:28, 12.20it/s]"
          ]
        },
        {
          "output_type": "stream",
          "name": "stdout",
          "text": [
            "[08:55:20.724843] Processing image: img_408.tif\n"
          ]
        },
        {
          "output_type": "stream",
          "name": "stderr",
          "text": [
            "\n",
            "  0%|          | 0/1 [00:00<?, ?it/s]\u001b[A\n",
            "                                     \u001b[A"
          ]
        },
        {
          "output_type": "stream",
          "name": "stdout",
          "text": [
            "[08:55:20.773698] Processing image: img_410.tif\n"
          ]
        },
        {
          "output_type": "stream",
          "name": "stderr",
          "text": [
            "\n",
            "  0%|          | 0/1 [00:00<?, ?it/s]\u001b[A\n",
            " 43%|████▎     | 260/610 [00:11<00:25, 13.68it/s]"
          ]
        },
        {
          "output_type": "stream",
          "name": "stdout",
          "text": [
            "[08:55:20.825983] Processing image: img_420.tif\n"
          ]
        },
        {
          "output_type": "stream",
          "name": "stderr",
          "text": [
            "\n",
            "  0%|          | 0/1 [00:00<?, ?it/s]\u001b[A\n",
            "                                     \u001b[A"
          ]
        },
        {
          "output_type": "stream",
          "name": "stdout",
          "text": [
            "[08:55:20.872453] Processing image: img_425.tif\n"
          ]
        },
        {
          "output_type": "stream",
          "name": "stderr",
          "text": [
            "\n",
            "  0%|          | 0/1 [00:00<?, ?it/s]\u001b[A\n",
            " 43%|████▎     | 262/610 [00:11<00:23, 15.10it/s]"
          ]
        },
        {
          "output_type": "stream",
          "name": "stdout",
          "text": [
            "[08:55:20.931934] Processing image: img_434.tif\n"
          ]
        },
        {
          "output_type": "stream",
          "name": "stderr",
          "text": [
            "\n",
            "  0%|          | 0/1 [00:00<?, ?it/s]\u001b[A\n",
            "                                     \u001b[A"
          ]
        },
        {
          "output_type": "stream",
          "name": "stdout",
          "text": [
            "[08:55:20.989775] Processing image: img_467.tif\n"
          ]
        },
        {
          "output_type": "stream",
          "name": "stderr",
          "text": [
            "\n",
            "  0%|          | 0/1 [00:00<?, ?it/s]\u001b[A\n",
            " 43%|████▎     | 264/610 [00:12<00:23, 14.95it/s]"
          ]
        },
        {
          "output_type": "stream",
          "name": "stdout",
          "text": [
            "[08:55:21.055523] Processing image: img_468.tif\n"
          ]
        },
        {
          "output_type": "stream",
          "name": "stderr",
          "text": [
            "\n",
            "  0%|          | 0/1 [00:00<?, ?it/s]\u001b[A\n",
            "                                     \u001b[A"
          ]
        },
        {
          "output_type": "stream",
          "name": "stdout",
          "text": [
            "[08:55:21.095830] Processing image: img_486.tif\n"
          ]
        },
        {
          "output_type": "stream",
          "name": "stderr",
          "text": [
            "\n",
            "  0%|          | 0/1 [00:00<?, ?it/s]\u001b[A\n",
            "                                     \u001b[A"
          ]
        },
        {
          "output_type": "stream",
          "name": "stdout",
          "text": [
            "[08:55:21.117227] Processing image: img_505.tif\n"
          ]
        },
        {
          "output_type": "stream",
          "name": "stderr",
          "text": [
            "\n",
            "  0%|          | 0/1 [00:00<?, ?it/s]\u001b[A\n",
            "                                     \u001b[A"
          ]
        },
        {
          "output_type": "stream",
          "name": "stdout",
          "text": [
            "[08:55:21.139162] Processing image: img_517.tif\n"
          ]
        },
        {
          "output_type": "stream",
          "name": "stderr",
          "text": [
            "\n",
            "  0%|          | 0/1 [00:00<?, ?it/s]\u001b[A\n",
            " 44%|████▍     | 268/610 [00:12<00:16, 20.45it/s]"
          ]
        },
        {
          "output_type": "stream",
          "name": "stdout",
          "text": [
            "[08:55:21.171136] Processing image: img_533.tif\n"
          ]
        },
        {
          "output_type": "stream",
          "name": "stderr",
          "text": [
            "\n",
            "  0%|          | 0/1 [00:00<?, ?it/s]\u001b[A\n",
            "                                     \u001b[A"
          ]
        },
        {
          "output_type": "stream",
          "name": "stdout",
          "text": [
            "[08:55:21.201915] Processing image: img_535.tif\n"
          ]
        },
        {
          "output_type": "stream",
          "name": "stderr",
          "text": [
            "\n",
            "  0%|          | 0/1 [00:00<?, ?it/s]\u001b[A\n",
            "                                     \u001b[A"
          ]
        },
        {
          "output_type": "stream",
          "name": "stdout",
          "text": [
            "[08:55:21.250888] Processing image: img_537.tif\n"
          ]
        },
        {
          "output_type": "stream",
          "name": "stderr",
          "text": [
            "\n",
            "  0%|          | 0/1 [00:00<?, ?it/s]\u001b[A\n",
            " 44%|████▍     | 271/610 [00:12<00:15, 21.98it/s]"
          ]
        },
        {
          "output_type": "stream",
          "name": "stdout",
          "text": [
            "[08:55:21.282404] Processing image: img_546.tif\n"
          ]
        },
        {
          "output_type": "stream",
          "name": "stderr",
          "text": [
            "\n",
            "  0%|          | 0/1 [00:00<?, ?it/s]\u001b[A\n",
            "                                     \u001b[A"
          ]
        },
        {
          "output_type": "stream",
          "name": "stdout",
          "text": [
            "[08:55:21.307275] Processing image: img_548.tif\n"
          ]
        },
        {
          "output_type": "stream",
          "name": "stderr",
          "text": [
            "\n",
            "  0%|          | 0/1 [00:00<?, ?it/s]\u001b[A\n",
            "                                     \u001b[A"
          ]
        },
        {
          "output_type": "stream",
          "name": "stdout",
          "text": [
            "[08:55:21.333182] Processing image: img_555.tif\n"
          ]
        },
        {
          "output_type": "stream",
          "name": "stderr",
          "text": [
            "\n",
            "  0%|          | 0/1 [00:00<?, ?it/s]\u001b[A\n",
            "                                     \u001b[A"
          ]
        },
        {
          "output_type": "stream",
          "name": "stdout",
          "text": [
            "[08:55:21.361285] Processing image: img_565.tif\n"
          ]
        },
        {
          "output_type": "stream",
          "name": "stderr",
          "text": [
            "\n",
            "  0%|          | 0/1 [00:00<?, ?it/s]\u001b[A\n",
            " 45%|████▌     | 275/610 [00:12<00:12, 26.07it/s]"
          ]
        },
        {
          "output_type": "stream",
          "name": "stdout",
          "text": [
            "[08:55:21.399515] Processing image: img_002.tif\n"
          ]
        },
        {
          "output_type": "stream",
          "name": "stderr",
          "text": [
            "\n",
            "  0%|          | 0/1 [00:00<?, ?it/s]\u001b[A\n",
            "                                     \u001b[A"
          ]
        },
        {
          "output_type": "stream",
          "name": "stdout",
          "text": [
            "[08:55:21.435826] Processing image: img_009.tif\n"
          ]
        },
        {
          "output_type": "stream",
          "name": "stderr",
          "text": [
            "\n",
            "  0%|          | 0/1 [00:00<?, ?it/s]\u001b[A\n",
            "                                     \u001b[A"
          ]
        },
        {
          "output_type": "stream",
          "name": "stdout",
          "text": [
            "[08:55:21.486381] Processing image: img_012.tif\n"
          ]
        },
        {
          "output_type": "stream",
          "name": "stderr",
          "text": [
            "\n",
            "  0%|          | 0/1 [00:00<?, ?it/s]\u001b[A\n",
            " 46%|████▌     | 278/610 [00:12<00:13, 24.55it/s]"
          ]
        },
        {
          "output_type": "stream",
          "name": "stdout",
          "text": [
            "[08:55:21.531160] Processing image: img_033.tif\n"
          ]
        },
        {
          "output_type": "stream",
          "name": "stderr",
          "text": [
            "\n",
            "  0%|          | 0/1 [00:00<?, ?it/s]\u001b[A\n",
            "                                     \u001b[A"
          ]
        },
        {
          "output_type": "stream",
          "name": "stdout",
          "text": [
            "[08:55:21.563735] Processing image: img_035.tif\n"
          ]
        },
        {
          "output_type": "stream",
          "name": "stderr",
          "text": [
            "\n",
            "  0%|          | 0/1 [00:00<?, ?it/s]\u001b[A\n",
            "                                     \u001b[A"
          ]
        },
        {
          "output_type": "stream",
          "name": "stdout",
          "text": [
            "[08:55:21.597763] Processing image: img_038.tif\n"
          ]
        },
        {
          "output_type": "stream",
          "name": "stderr",
          "text": [
            "\n",
            "  0%|          | 0/1 [00:00<?, ?it/s]\u001b[A\n",
            " 46%|████▌     | 281/610 [00:12<00:12, 25.69it/s]"
          ]
        },
        {
          "output_type": "stream",
          "name": "stdout",
          "text": [
            "[08:55:21.631822] Processing image: img_043.tif\n"
          ]
        },
        {
          "output_type": "stream",
          "name": "stderr",
          "text": [
            "\n",
            "  0%|          | 0/1 [00:00<?, ?it/s]\u001b[A\n",
            "                                     \u001b[A"
          ]
        },
        {
          "output_type": "stream",
          "name": "stdout",
          "text": [
            "[08:55:21.673597] Processing image: img_046.tif\n"
          ]
        },
        {
          "output_type": "stream",
          "name": "stderr",
          "text": [
            "\n",
            "  0%|          | 0/1 [00:00<?, ?it/s]\u001b[A\n",
            "                                     \u001b[A"
          ]
        },
        {
          "output_type": "stream",
          "name": "stdout",
          "text": [
            "[08:55:21.699266] Processing image: img_047.tif\n"
          ]
        },
        {
          "output_type": "stream",
          "name": "stderr",
          "text": [
            "\n",
            "  0%|          | 0/1 [00:00<?, ?it/s]\u001b[A\n",
            "                                     \u001b[A"
          ]
        },
        {
          "output_type": "stream",
          "name": "stdout",
          "text": [
            "[08:55:21.727771] Processing image: img_053.tif\n"
          ]
        },
        {
          "output_type": "stream",
          "name": "stderr",
          "text": [
            "\n",
            "  0%|          | 0/1 [00:00<?, ?it/s]\u001b[A\n",
            " 47%|████▋     | 285/610 [00:12<00:12, 26.55it/s]"
          ]
        },
        {
          "output_type": "stream",
          "name": "stdout",
          "text": [
            "[08:55:21.775123] Processing image: img_061.tif\n"
          ]
        },
        {
          "output_type": "stream",
          "name": "stderr",
          "text": [
            "\n",
            "  0%|          | 0/1 [00:00<?, ?it/s]\u001b[A\n",
            "                                     \u001b[A"
          ]
        },
        {
          "output_type": "stream",
          "name": "stdout",
          "text": [
            "[08:55:21.801973] Processing image: img_087.tif\n"
          ]
        },
        {
          "output_type": "stream",
          "name": "stderr",
          "text": [
            "\n",
            "  0%|          | 0/1 [00:00<?, ?it/s]\u001b[A\n",
            "                                     \u001b[A"
          ]
        },
        {
          "output_type": "stream",
          "name": "stdout",
          "text": [
            "[08:55:21.834484] Processing image: img_098.tif\n"
          ]
        },
        {
          "output_type": "stream",
          "name": "stderr",
          "text": [
            "\n",
            "  0%|          | 0/1 [00:00<?, ?it/s]\u001b[A\n",
            "                                     \u001b[A"
          ]
        },
        {
          "output_type": "stream",
          "name": "stdout",
          "text": [
            "[08:55:21.865732] Processing image: img_112.tif\n"
          ]
        },
        {
          "output_type": "stream",
          "name": "stderr",
          "text": [
            "\n",
            "  0%|          | 0/1 [00:00<?, ?it/s]\u001b[A\n",
            " 47%|████▋     | 289/610 [00:12<00:11, 27.91it/s]"
          ]
        },
        {
          "output_type": "stream",
          "name": "stdout",
          "text": [
            "[08:55:21.911032] Processing image: img_118.tif\n"
          ]
        },
        {
          "output_type": "stream",
          "name": "stderr",
          "text": [
            "\n",
            "  0%|          | 0/1 [00:00<?, ?it/s]\u001b[A\n",
            "                                     \u001b[A"
          ]
        },
        {
          "output_type": "stream",
          "name": "stdout",
          "text": [
            "[08:55:21.960012] Processing image: img_122.tif\n"
          ]
        },
        {
          "output_type": "stream",
          "name": "stderr",
          "text": [
            "\n",
            "  0%|          | 0/1 [00:00<?, ?it/s]\u001b[A\n",
            "                                     \u001b[A"
          ]
        },
        {
          "output_type": "stream",
          "name": "stdout",
          "text": [
            "[08:55:22.002263] Processing image: img_131.tif\n"
          ]
        },
        {
          "output_type": "stream",
          "name": "stderr",
          "text": [
            "\n",
            "  0%|          | 0/1 [00:00<?, ?it/s]\u001b[A\n",
            " 48%|████▊     | 292/610 [00:13<00:12, 25.35it/s]"
          ]
        },
        {
          "output_type": "stream",
          "name": "stdout",
          "text": [
            "[08:55:22.063705] Processing image: img_138.tif\n"
          ]
        },
        {
          "output_type": "stream",
          "name": "stderr",
          "text": [
            "\n",
            "  0%|          | 0/1 [00:00<?, ?it/s]\u001b[A\n",
            "                                     \u001b[A"
          ]
        },
        {
          "output_type": "stream",
          "name": "stdout",
          "text": [
            "[08:55:22.116226] Processing image: img_143.tif\n"
          ]
        },
        {
          "output_type": "stream",
          "name": "stderr",
          "text": [
            "\n",
            "  0%|          | 0/1 [00:00<?, ?it/s]\u001b[A\n",
            "                                     \u001b[A"
          ]
        },
        {
          "output_type": "stream",
          "name": "stdout",
          "text": [
            "[08:55:22.172018] Processing image: img_153.tif\n"
          ]
        },
        {
          "output_type": "stream",
          "name": "stderr",
          "text": [
            "\n",
            "  0%|          | 0/1 [00:00<?, ?it/s]\u001b[A\n",
            " 48%|████▊     | 295/610 [00:13<00:13, 23.19it/s]"
          ]
        },
        {
          "output_type": "stream",
          "name": "stdout",
          "text": [
            "[08:55:22.220269] Processing image: img_179.tif\n"
          ]
        },
        {
          "output_type": "stream",
          "name": "stderr",
          "text": [
            "\n",
            "  0%|          | 0/1 [00:00<?, ?it/s]\u001b[A\n",
            "                                     \u001b[A"
          ]
        },
        {
          "output_type": "stream",
          "name": "stdout",
          "text": [
            "[08:55:22.272434] Processing image: img_183.tif\n"
          ]
        },
        {
          "output_type": "stream",
          "name": "stderr",
          "text": [
            "\n",
            "  0%|          | 0/1 [00:00<?, ?it/s]\u001b[A\n",
            "                                     \u001b[A"
          ]
        },
        {
          "output_type": "stream",
          "name": "stdout",
          "text": [
            "[08:55:22.308254] Processing image: img_184.tif\n"
          ]
        },
        {
          "output_type": "stream",
          "name": "stderr",
          "text": [
            "\n",
            "  0%|          | 0/1 [00:00<?, ?it/s]\u001b[A\n",
            " 49%|████▉     | 298/610 [00:13<00:13, 23.02it/s]"
          ]
        },
        {
          "output_type": "stream",
          "name": "stdout",
          "text": [
            "[08:55:22.342059] Processing image: img_190.tif\n"
          ]
        },
        {
          "output_type": "stream",
          "name": "stderr",
          "text": [
            "\n",
            "  0%|          | 0/1 [00:00<?, ?it/s]\u001b[A\n",
            "                                     \u001b[A"
          ]
        },
        {
          "output_type": "stream",
          "name": "stdout",
          "text": [
            "[08:55:22.376593] Processing image: img_195.tif\n"
          ]
        },
        {
          "output_type": "stream",
          "name": "stderr",
          "text": [
            "\n",
            "  0%|          | 0/1 [00:00<?, ?it/s]\u001b[A\n",
            "                                     \u001b[A"
          ]
        },
        {
          "output_type": "stream",
          "name": "stdout",
          "text": [
            "[08:55:22.409113] Processing image: img_196.tif\n"
          ]
        },
        {
          "output_type": "stream",
          "name": "stderr",
          "text": [
            "\n",
            "  0%|          | 0/1 [00:00<?, ?it/s]\u001b[A\n",
            "                                     \u001b[A"
          ]
        },
        {
          "output_type": "stream",
          "name": "stdout",
          "text": [
            "[08:55:22.441033] Processing image: img_201.tif\n"
          ]
        },
        {
          "output_type": "stream",
          "name": "stderr",
          "text": [
            "\n",
            "  0%|          | 0/1 [00:00<?, ?it/s]\u001b[A\n",
            " 50%|████▉     | 302/610 [00:13<00:12, 25.23it/s]"
          ]
        },
        {
          "output_type": "stream",
          "name": "stdout",
          "text": [
            "[08:55:22.475924] Processing image: img_205.tif\n"
          ]
        },
        {
          "output_type": "stream",
          "name": "stderr",
          "text": [
            "\n",
            "  0%|          | 0/1 [00:00<?, ?it/s]\u001b[A\n",
            "                                     \u001b[A"
          ]
        },
        {
          "output_type": "stream",
          "name": "stdout",
          "text": [
            "[08:55:22.509067] Processing image: img_212.tif\n"
          ]
        },
        {
          "output_type": "stream",
          "name": "stderr",
          "text": [
            "\n",
            "  0%|          | 0/1 [00:00<?, ?it/s]\u001b[A\n",
            "                                     \u001b[A"
          ]
        },
        {
          "output_type": "stream",
          "name": "stdout",
          "text": [
            "[08:55:22.539814] Processing image: img_217.tif\n"
          ]
        },
        {
          "output_type": "stream",
          "name": "stderr",
          "text": [
            "\n",
            "  0%|          | 0/1 [00:00<?, ?it/s]\u001b[A\n",
            "                                     \u001b[A"
          ]
        },
        {
          "output_type": "stream",
          "name": "stdout",
          "text": [
            "[08:55:22.572308] Processing image: img_233.tif\n"
          ]
        },
        {
          "output_type": "stream",
          "name": "stderr",
          "text": [
            "\n",
            "  0%|          | 0/1 [00:00<?, ?it/s]\u001b[A\n",
            " 50%|█████     | 306/610 [00:13<00:11, 26.75it/s]"
          ]
        },
        {
          "output_type": "stream",
          "name": "stdout",
          "text": [
            "[08:55:22.608106] Processing image: img_254.tif\n"
          ]
        },
        {
          "output_type": "stream",
          "name": "stderr",
          "text": [
            "\n",
            "  0%|          | 0/1 [00:00<?, ?it/s]\u001b[A\n",
            "                                     \u001b[A"
          ]
        },
        {
          "output_type": "stream",
          "name": "stdout",
          "text": [
            "[08:55:22.634916] Processing image: img_256.tif\n"
          ]
        },
        {
          "output_type": "stream",
          "name": "stderr",
          "text": [
            "\n",
            "  0%|          | 0/1 [00:00<?, ?it/s]\u001b[A\n",
            "                                     \u001b[A"
          ]
        },
        {
          "output_type": "stream",
          "name": "stdout",
          "text": [
            "[08:55:22.669888] Processing image: img_265.tif\n"
          ]
        },
        {
          "output_type": "stream",
          "name": "stderr",
          "text": [
            "\n",
            "  0%|          | 0/1 [00:00<?, ?it/s]\u001b[A\n",
            "                                     \u001b[A"
          ]
        },
        {
          "output_type": "stream",
          "name": "stdout",
          "text": [
            "[08:55:22.698099] Processing image: img_277.tif\n"
          ]
        },
        {
          "output_type": "stream",
          "name": "stderr",
          "text": [
            "\n",
            "  0%|          | 0/1 [00:00<?, ?it/s]\u001b[A\n",
            " 51%|█████     | 310/610 [00:13<00:10, 28.42it/s]"
          ]
        },
        {
          "output_type": "stream",
          "name": "stdout",
          "text": [
            "[08:55:22.724042] Processing image: img_290.tif\n"
          ]
        },
        {
          "output_type": "stream",
          "name": "stderr",
          "text": [
            "\n",
            "  0%|          | 0/1 [00:00<?, ?it/s]\u001b[A\n",
            "                                     \u001b[A"
          ]
        },
        {
          "output_type": "stream",
          "name": "stdout",
          "text": [
            "[08:55:22.752051] Processing image: img_293.tif\n"
          ]
        },
        {
          "output_type": "stream",
          "name": "stderr",
          "text": [
            "\n",
            "  0%|          | 0/1 [00:00<?, ?it/s]\u001b[A\n",
            "                                     \u001b[A"
          ]
        },
        {
          "output_type": "stream",
          "name": "stdout",
          "text": [
            "[08:55:22.783157] Processing image: img_308.tif\n"
          ]
        },
        {
          "output_type": "stream",
          "name": "stderr",
          "text": [
            "\n",
            "  0%|          | 0/1 [00:00<?, ?it/s]\u001b[A\n",
            "                                     \u001b[A"
          ]
        },
        {
          "output_type": "stream",
          "name": "stdout",
          "text": [
            "[08:55:22.813029] Processing image: img_314.tif\n"
          ]
        },
        {
          "output_type": "stream",
          "name": "stderr",
          "text": [
            "\n",
            "  0%|          | 0/1 [00:00<?, ?it/s]\u001b[A\n",
            " 51%|█████▏    | 314/610 [00:13<00:09, 30.20it/s]"
          ]
        },
        {
          "output_type": "stream",
          "name": "stdout",
          "text": [
            "[08:55:22.843665] Processing image: img_317.tif\n"
          ]
        },
        {
          "output_type": "stream",
          "name": "stderr",
          "text": [
            "\n",
            "  0%|          | 0/1 [00:00<?, ?it/s]\u001b[A\n",
            "                                     \u001b[A"
          ]
        },
        {
          "output_type": "stream",
          "name": "stdout",
          "text": [
            "[08:55:22.874558] Processing image: img_328.tif\n"
          ]
        },
        {
          "output_type": "stream",
          "name": "stderr",
          "text": [
            "\n",
            "  0%|          | 0/1 [00:00<?, ?it/s]\u001b[A\n",
            "                                     \u001b[A"
          ]
        },
        {
          "output_type": "stream",
          "name": "stdout",
          "text": [
            "[08:55:22.905057] Processing image: img_337.tif\n"
          ]
        },
        {
          "output_type": "stream",
          "name": "stderr",
          "text": [
            "\n",
            "  0%|          | 0/1 [00:00<?, ?it/s]\u001b[A\n",
            "                                     \u001b[A"
          ]
        },
        {
          "output_type": "stream",
          "name": "stdout",
          "text": [
            "[08:55:22.934899] Processing image: img_348.tif\n"
          ]
        },
        {
          "output_type": "stream",
          "name": "stderr",
          "text": [
            "\n",
            "  0%|          | 0/1 [00:00<?, ?it/s]\u001b[A\n",
            " 52%|█████▏    | 318/610 [00:14<00:09, 30.96it/s]"
          ]
        },
        {
          "output_type": "stream",
          "name": "stdout",
          "text": [
            "[08:55:22.964253] Processing image: img_360.tif\n"
          ]
        },
        {
          "output_type": "stream",
          "name": "stderr",
          "text": [
            "\n",
            "  0%|          | 0/1 [00:00<?, ?it/s]\u001b[A\n",
            "                                     \u001b[A"
          ]
        },
        {
          "output_type": "stream",
          "name": "stdout",
          "text": [
            "[08:55:22.994141] Processing image: img_383.tif\n"
          ]
        },
        {
          "output_type": "stream",
          "name": "stderr",
          "text": [
            "\n",
            "  0%|          | 0/1 [00:00<?, ?it/s]\u001b[A\n",
            "                                     \u001b[A"
          ]
        },
        {
          "output_type": "stream",
          "name": "stdout",
          "text": [
            "[08:55:23.019474] Processing image: img_393.tif\n"
          ]
        },
        {
          "output_type": "stream",
          "name": "stderr",
          "text": [
            "\n",
            "  0%|          | 0/1 [00:00<?, ?it/s]\u001b[A\n",
            "                                     \u001b[A"
          ]
        },
        {
          "output_type": "stream",
          "name": "stdout",
          "text": [
            "[08:55:23.044899] Processing image: img_443.tif\n"
          ]
        },
        {
          "output_type": "stream",
          "name": "stderr",
          "text": [
            "\n",
            "  0%|          | 0/1 [00:00<?, ?it/s]\u001b[A\n",
            " 53%|█████▎    | 322/610 [00:14<00:08, 32.18it/s]"
          ]
        },
        {
          "output_type": "stream",
          "name": "stdout",
          "text": [
            "[08:55:23.076681] Processing image: img_449.tif\n"
          ]
        },
        {
          "output_type": "stream",
          "name": "stderr",
          "text": [
            "\n",
            "  0%|          | 0/1 [00:00<?, ?it/s]\u001b[A\n",
            "                                     \u001b[A"
          ]
        },
        {
          "output_type": "stream",
          "name": "stdout",
          "text": [
            "[08:55:23.104512] Processing image: img_469.tif\n"
          ]
        },
        {
          "output_type": "stream",
          "name": "stderr",
          "text": [
            "\n",
            "  0%|          | 0/1 [00:00<?, ?it/s]\u001b[A\n",
            "                                     \u001b[A"
          ]
        },
        {
          "output_type": "stream",
          "name": "stdout",
          "text": [
            "[08:55:23.136256] Processing image: img_498.tif\n"
          ]
        },
        {
          "output_type": "stream",
          "name": "stderr",
          "text": [
            "\n",
            "  0%|          | 0/1 [00:00<?, ?it/s]\u001b[A\n",
            "                                     \u001b[A"
          ]
        },
        {
          "output_type": "stream",
          "name": "stdout",
          "text": [
            "[08:55:23.172636] Processing image: img_502.tif\n"
          ]
        },
        {
          "output_type": "stream",
          "name": "stderr",
          "text": [
            "\n",
            "  0%|          | 0/1 [00:00<?, ?it/s]\u001b[A\n",
            " 53%|█████▎    | 326/610 [00:14<00:08, 32.28it/s]"
          ]
        },
        {
          "output_type": "stream",
          "name": "stdout",
          "text": [
            "[08:55:23.196715] Processing image: img_522.tif\n"
          ]
        },
        {
          "output_type": "stream",
          "name": "stderr",
          "text": [
            "\n",
            "  0%|          | 0/1 [00:00<?, ?it/s]\u001b[A\n",
            "                                     \u001b[A"
          ]
        },
        {
          "output_type": "stream",
          "name": "stdout",
          "text": [
            "[08:55:23.231516] Processing image: img_523.tif\n"
          ]
        },
        {
          "output_type": "stream",
          "name": "stderr",
          "text": [
            "\n",
            "  0%|          | 0/1 [00:00<?, ?it/s]\u001b[A\n",
            "                                     \u001b[A"
          ]
        },
        {
          "output_type": "stream",
          "name": "stdout",
          "text": [
            "[08:55:23.259569] Processing image: img_524.tif\n"
          ]
        },
        {
          "output_type": "stream",
          "name": "stderr",
          "text": [
            "\n",
            "  0%|          | 0/1 [00:00<?, ?it/s]\u001b[A\n",
            "                                     \u001b[A"
          ]
        },
        {
          "output_type": "stream",
          "name": "stdout",
          "text": [
            "[08:55:23.287585] Processing image: img_525.tif\n"
          ]
        },
        {
          "output_type": "stream",
          "name": "stderr",
          "text": [
            "\n",
            "  0%|          | 0/1 [00:00<?, ?it/s]\u001b[A\n",
            " 54%|█████▍    | 330/610 [00:14<00:08, 32.82it/s]"
          ]
        },
        {
          "output_type": "stream",
          "name": "stdout",
          "text": [
            "[08:55:23.316266] Processing image: img_534.tif\n"
          ]
        },
        {
          "output_type": "stream",
          "name": "stderr",
          "text": [
            "\n",
            "  0%|          | 0/1 [00:00<?, ?it/s]\u001b[A\n",
            "                                     \u001b[A"
          ]
        },
        {
          "output_type": "stream",
          "name": "stdout",
          "text": [
            "[08:55:23.349159] Processing image: img_550.tif\n"
          ]
        },
        {
          "output_type": "stream",
          "name": "stderr",
          "text": [
            "\n",
            "  0%|          | 0/1 [00:00<?, ?it/s]\u001b[A\n",
            "                                     \u001b[A"
          ]
        },
        {
          "output_type": "stream",
          "name": "stdout",
          "text": [
            "[08:55:23.373247] Processing image: img_568.tif\n"
          ]
        },
        {
          "output_type": "stream",
          "name": "stderr",
          "text": [
            "\n",
            "  0%|          | 0/1 [00:00<?, ?it/s]\u001b[A\n",
            "                                     \u001b[A"
          ]
        },
        {
          "output_type": "stream",
          "name": "stdout",
          "text": [
            "[08:55:23.403646] Processing image: img_569.tif\n"
          ]
        },
        {
          "output_type": "stream",
          "name": "stderr",
          "text": [
            "\n",
            "  0%|          | 0/1 [00:00<?, ?it/s]\u001b[A\n",
            " 55%|█████▍    | 334/610 [00:14<00:08, 33.23it/s]"
          ]
        },
        {
          "output_type": "stream",
          "name": "stdout",
          "text": [
            "[08:55:23.434569] Processing image: img_581.tif\n"
          ]
        },
        {
          "output_type": "stream",
          "name": "stderr",
          "text": [
            "\n",
            "  0%|          | 0/1 [00:00<?, ?it/s]\u001b[A\n",
            "                                     \u001b[A"
          ]
        },
        {
          "output_type": "stream",
          "name": "stdout",
          "text": [
            "[08:55:23.463035] Processing image: img_583.tif\n"
          ]
        },
        {
          "output_type": "stream",
          "name": "stderr",
          "text": [
            "\n",
            "  0%|          | 0/1 [00:00<?, ?it/s]\u001b[A\n",
            "                                     \u001b[A"
          ]
        },
        {
          "output_type": "stream",
          "name": "stdout",
          "text": [
            "[08:55:23.486860] Processing image: img_593.tif\n"
          ]
        },
        {
          "output_type": "stream",
          "name": "stderr",
          "text": [
            "\n",
            "  0%|          | 0/1 [00:00<?, ?it/s]\u001b[A\n",
            "                                     \u001b[A"
          ]
        },
        {
          "output_type": "stream",
          "name": "stdout",
          "text": [
            "[08:55:23.514716] Processing image: img_601.tif\n"
          ]
        },
        {
          "output_type": "stream",
          "name": "stderr",
          "text": [
            "\n",
            "  0%|          | 0/1 [00:00<?, ?it/s]\u001b[A\n",
            " 55%|█████▌    | 338/610 [00:14<00:08, 33.89it/s]"
          ]
        },
        {
          "output_type": "stream",
          "name": "stdout",
          "text": [
            "[08:55:23.543256] Processing image: img_607.tif\n"
          ]
        },
        {
          "output_type": "stream",
          "name": "stderr",
          "text": [
            "\n",
            "  0%|          | 0/1 [00:00<?, ?it/s]\u001b[A\n",
            "                                     \u001b[A"
          ]
        },
        {
          "output_type": "stream",
          "name": "stdout",
          "text": [
            "[08:55:23.570366] Processing image: img_609.tif\n"
          ]
        },
        {
          "output_type": "stream",
          "name": "stderr",
          "text": [
            "\n",
            "  0%|          | 0/1 [00:00<?, ?it/s]\u001b[A\n",
            "                                     \u001b[A"
          ]
        },
        {
          "output_type": "stream",
          "name": "stdout",
          "text": [
            "[08:55:23.598966] Processing image: img_003.tif\n"
          ]
        },
        {
          "output_type": "stream",
          "name": "stderr",
          "text": [
            "\n",
            "  0%|          | 0/1 [00:00<?, ?it/s]\u001b[A\n",
            "                                     \u001b[A"
          ]
        },
        {
          "output_type": "stream",
          "name": "stdout",
          "text": [
            "[08:55:23.623694] Processing image: img_008.tif\n"
          ]
        },
        {
          "output_type": "stream",
          "name": "stderr",
          "text": [
            "\n",
            "  0%|          | 0/1 [00:00<?, ?it/s]\u001b[A\n",
            " 56%|█████▌    | 342/610 [00:14<00:07, 34.66it/s]"
          ]
        },
        {
          "output_type": "stream",
          "name": "stdout",
          "text": [
            "[08:55:23.658424] Processing image: img_031.tif\n"
          ]
        },
        {
          "output_type": "stream",
          "name": "stderr",
          "text": [
            "\n",
            "  0%|          | 0/1 [00:00<?, ?it/s]\u001b[A\n",
            "                                     \u001b[A"
          ]
        },
        {
          "output_type": "stream",
          "name": "stdout",
          "text": [
            "[08:55:23.691704] Processing image: img_042.tif\n"
          ]
        },
        {
          "output_type": "stream",
          "name": "stderr",
          "text": [
            "\n",
            "  0%|          | 0/1 [00:00<?, ?it/s]\u001b[A\n",
            "                                     \u001b[A"
          ]
        },
        {
          "output_type": "stream",
          "name": "stdout",
          "text": [
            "[08:55:23.720755] Processing image: img_045.tif\n"
          ]
        },
        {
          "output_type": "stream",
          "name": "stderr",
          "text": [
            "\n",
            "  0%|          | 0/1 [00:00<?, ?it/s]\u001b[A\n",
            "                                     \u001b[A"
          ]
        },
        {
          "output_type": "stream",
          "name": "stdout",
          "text": [
            "[08:55:23.751235] Processing image: img_049.tif\n"
          ]
        },
        {
          "output_type": "stream",
          "name": "stderr",
          "text": [
            "\n",
            "  0%|          | 0/1 [00:00<?, ?it/s]\u001b[A\n",
            " 57%|█████▋    | 346/610 [00:14<00:07, 33.63it/s]"
          ]
        },
        {
          "output_type": "stream",
          "name": "stdout",
          "text": [
            "[08:55:23.782851] Processing image: img_050.tif\n"
          ]
        },
        {
          "output_type": "stream",
          "name": "stderr",
          "text": [
            "\n",
            "  0%|          | 0/1 [00:00<?, ?it/s]\u001b[A\n",
            "                                     \u001b[A"
          ]
        },
        {
          "output_type": "stream",
          "name": "stdout",
          "text": [
            "[08:55:23.816268] Processing image: img_062.tif\n"
          ]
        },
        {
          "output_type": "stream",
          "name": "stderr",
          "text": [
            "\n",
            "  0%|          | 0/1 [00:00<?, ?it/s]\u001b[A\n",
            "                                     \u001b[A"
          ]
        },
        {
          "output_type": "stream",
          "name": "stdout",
          "text": [
            "[08:55:23.846104] Processing image: img_070.tif\n"
          ]
        },
        {
          "output_type": "stream",
          "name": "stderr",
          "text": [
            "\n",
            "  0%|          | 0/1 [00:00<?, ?it/s]\u001b[A\n",
            "                                     \u001b[A"
          ]
        },
        {
          "output_type": "stream",
          "name": "stdout",
          "text": [
            "[08:55:23.872023] Processing image: img_081.tif\n"
          ]
        },
        {
          "output_type": "stream",
          "name": "stderr",
          "text": [
            "\n",
            "  0%|          | 0/1 [00:00<?, ?it/s]\u001b[A\n",
            " 57%|█████▋    | 350/610 [00:14<00:07, 33.52it/s]"
          ]
        },
        {
          "output_type": "stream",
          "name": "stdout",
          "text": [
            "[08:55:23.905548] Processing image: img_082.tif\n"
          ]
        },
        {
          "output_type": "stream",
          "name": "stderr",
          "text": [
            "\n",
            "  0%|          | 0/1 [00:00<?, ?it/s]\u001b[A\n",
            "                                     \u001b[A"
          ]
        },
        {
          "output_type": "stream",
          "name": "stdout",
          "text": [
            "[08:55:23.934136] Processing image: img_093.tif\n"
          ]
        },
        {
          "output_type": "stream",
          "name": "stderr",
          "text": [
            "\n",
            "  0%|          | 0/1 [00:00<?, ?it/s]\u001b[A\n",
            "                                     \u001b[A"
          ]
        },
        {
          "output_type": "stream",
          "name": "stdout",
          "text": [
            "[08:55:23.961807] Processing image: img_108.tif\n"
          ]
        },
        {
          "output_type": "stream",
          "name": "stderr",
          "text": [
            "\n",
            "  0%|          | 0/1 [00:00<?, ?it/s]\u001b[A\n",
            "                                     \u001b[A"
          ]
        },
        {
          "output_type": "stream",
          "name": "stdout",
          "text": [
            "[08:55:23.986923] Processing image: img_115.tif\n"
          ]
        },
        {
          "output_type": "stream",
          "name": "stderr",
          "text": [
            "\n",
            "  0%|          | 0/1 [00:00<?, ?it/s]\u001b[A\n",
            " 58%|█████▊    | 354/610 [00:15<00:07, 33.50it/s]"
          ]
        },
        {
          "output_type": "stream",
          "name": "stdout",
          "text": [
            "[08:55:24.022203] Processing image: img_134.tif\n"
          ]
        },
        {
          "output_type": "stream",
          "name": "stderr",
          "text": [
            "\n",
            "  0%|          | 0/1 [00:00<?, ?it/s]\u001b[A\n",
            "                                     \u001b[A"
          ]
        },
        {
          "output_type": "stream",
          "name": "stdout",
          "text": [
            "[08:55:24.051991] Processing image: img_160.tif\n"
          ]
        },
        {
          "output_type": "stream",
          "name": "stderr",
          "text": [
            "\n",
            "  0%|          | 0/1 [00:00<?, ?it/s]\u001b[A\n",
            "                                     \u001b[A"
          ]
        },
        {
          "output_type": "stream",
          "name": "stdout",
          "text": [
            "[08:55:24.080754] Processing image: img_165.tif\n"
          ]
        },
        {
          "output_type": "stream",
          "name": "stderr",
          "text": [
            "\n",
            "  0%|          | 0/1 [00:00<?, ?it/s]\u001b[A\n",
            "                                     \u001b[A"
          ]
        },
        {
          "output_type": "stream",
          "name": "stdout",
          "text": [
            "[08:55:24.104596] Processing image: img_167.tif\n"
          ]
        },
        {
          "output_type": "stream",
          "name": "stderr",
          "text": [
            "\n",
            "  0%|          | 0/1 [00:00<?, ?it/s]\u001b[A\n",
            " 59%|█████▊    | 358/610 [00:15<00:07, 33.89it/s]"
          ]
        },
        {
          "output_type": "stream",
          "name": "stdout",
          "text": [
            "[08:55:24.134823] Processing image: img_171.tif\n"
          ]
        },
        {
          "output_type": "stream",
          "name": "stderr",
          "text": [
            "\n",
            "  0%|          | 0/1 [00:00<?, ?it/s]\u001b[A\n",
            "                                     \u001b[A"
          ]
        },
        {
          "output_type": "stream",
          "name": "stdout",
          "text": [
            "[08:55:24.172247] Processing image: img_176.tif\n"
          ]
        },
        {
          "output_type": "stream",
          "name": "stderr",
          "text": [
            "\n",
            "  0%|          | 0/1 [00:00<?, ?it/s]\u001b[A\n",
            "                                     \u001b[A"
          ]
        },
        {
          "output_type": "stream",
          "name": "stdout",
          "text": [
            "[08:55:24.194814] Processing image: img_187.tif\n"
          ]
        },
        {
          "output_type": "stream",
          "name": "stderr",
          "text": [
            "\n",
            "  0%|          | 0/1 [00:00<?, ?it/s]\u001b[A\n",
            "                                     \u001b[A"
          ]
        },
        {
          "output_type": "stream",
          "name": "stdout",
          "text": [
            "[08:55:24.224662] Processing image: img_189.tif\n"
          ]
        },
        {
          "output_type": "stream",
          "name": "stderr",
          "text": [
            "\n",
            "  0%|          | 0/1 [00:00<?, ?it/s]\u001b[A\n",
            " 59%|█████▉    | 362/610 [00:15<00:07, 34.13it/s]"
          ]
        },
        {
          "output_type": "stream",
          "name": "stdout",
          "text": [
            "[08:55:24.254907] Processing image: img_191.tif\n"
          ]
        },
        {
          "output_type": "stream",
          "name": "stderr",
          "text": [
            "\n",
            "  0%|          | 0/1 [00:00<?, ?it/s]\u001b[A\n",
            "                                     \u001b[A"
          ]
        },
        {
          "output_type": "stream",
          "name": "stdout",
          "text": [
            "[08:55:24.280816] Processing image: img_194.tif\n"
          ]
        },
        {
          "output_type": "stream",
          "name": "stderr",
          "text": [
            "\n",
            "  0%|          | 0/1 [00:00<?, ?it/s]\u001b[A\n",
            "                                     \u001b[A"
          ]
        },
        {
          "output_type": "stream",
          "name": "stdout",
          "text": [
            "[08:55:24.307704] Processing image: img_197.tif\n"
          ]
        },
        {
          "output_type": "stream",
          "name": "stderr",
          "text": [
            "\n",
            "  0%|          | 0/1 [00:00<?, ?it/s]\u001b[A\n",
            "                                     \u001b[A"
          ]
        },
        {
          "output_type": "stream",
          "name": "stdout",
          "text": [
            "[08:55:24.330790] Processing image: img_200.tif\n"
          ]
        },
        {
          "output_type": "stream",
          "name": "stderr",
          "text": [
            "\n",
            "  0%|          | 0/1 [00:00<?, ?it/s]\u001b[A\n",
            " 60%|██████    | 366/610 [00:15<00:06, 35.11it/s]"
          ]
        },
        {
          "output_type": "stream",
          "name": "stdout",
          "text": [
            "[08:55:24.358198] Processing image: img_221.tif\n"
          ]
        },
        {
          "output_type": "stream",
          "name": "stderr",
          "text": [
            "\n",
            "  0%|          | 0/1 [00:00<?, ?it/s]\u001b[A\n",
            "                                     \u001b[A"
          ]
        },
        {
          "output_type": "stream",
          "name": "stdout",
          "text": [
            "[08:55:24.380771] Processing image: img_238.tif\n"
          ]
        },
        {
          "output_type": "stream",
          "name": "stderr",
          "text": [
            "\n",
            "  0%|          | 0/1 [00:00<?, ?it/s]\u001b[A\n",
            "                                     \u001b[A"
          ]
        },
        {
          "output_type": "stream",
          "name": "stdout",
          "text": [
            "[08:55:24.405949] Processing image: img_241.tif\n"
          ]
        },
        {
          "output_type": "stream",
          "name": "stderr",
          "text": [
            "\n",
            "  0%|          | 0/1 [00:00<?, ?it/s]\u001b[A\n",
            "                                     \u001b[A"
          ]
        },
        {
          "output_type": "stream",
          "name": "stdout",
          "text": [
            "[08:55:24.428779] Processing image: img_244.tif\n"
          ]
        },
        {
          "output_type": "stream",
          "name": "stderr",
          "text": [
            "\n",
            "  0%|          | 0/1 [00:00<?, ?it/s]\u001b[A\n",
            "                                     \u001b[A"
          ]
        },
        {
          "output_type": "stream",
          "name": "stdout",
          "text": [
            "[08:55:24.457616] Processing image: img_245.tif\n"
          ]
        },
        {
          "output_type": "stream",
          "name": "stderr",
          "text": [
            "\n",
            "  0%|          | 0/1 [00:00<?, ?it/s]\u001b[A\n",
            " 61%|██████    | 371/610 [00:15<00:06, 36.47it/s]"
          ]
        },
        {
          "output_type": "stream",
          "name": "stdout",
          "text": [
            "[08:55:24.484342] Processing image: img_248.tif\n"
          ]
        },
        {
          "output_type": "stream",
          "name": "stderr",
          "text": [
            "\n",
            "  0%|          | 0/1 [00:00<?, ?it/s]\u001b[A\n",
            "                                     \u001b[A"
          ]
        },
        {
          "output_type": "stream",
          "name": "stdout",
          "text": [
            "[08:55:24.514674] Processing image: img_252.tif\n"
          ]
        },
        {
          "output_type": "stream",
          "name": "stderr",
          "text": [
            "\n",
            "  0%|          | 0/1 [00:00<?, ?it/s]\u001b[A\n",
            "                                     \u001b[A"
          ]
        },
        {
          "output_type": "stream",
          "name": "stdout",
          "text": [
            "[08:55:24.538961] Processing image: img_270.tif\n"
          ]
        },
        {
          "output_type": "stream",
          "name": "stderr",
          "text": [
            "\n",
            "  0%|          | 0/1 [00:00<?, ?it/s]\u001b[A\n",
            "                                     \u001b[A"
          ]
        },
        {
          "output_type": "stream",
          "name": "stdout",
          "text": [
            "[08:55:24.564412] Processing image: img_333.tif\n"
          ]
        },
        {
          "output_type": "stream",
          "name": "stderr",
          "text": [
            "\n",
            "  0%|          | 0/1 [00:00<?, ?it/s]\u001b[A\n",
            " 61%|██████▏   | 375/610 [00:15<00:06, 36.39it/s]"
          ]
        },
        {
          "output_type": "stream",
          "name": "stdout",
          "text": [
            "[08:55:24.599226] Processing image: img_340.tif\n"
          ]
        },
        {
          "output_type": "stream",
          "name": "stderr",
          "text": [
            "\n",
            "  0%|          | 0/1 [00:00<?, ?it/s]\u001b[A\n",
            "                                     \u001b[A"
          ]
        },
        {
          "output_type": "stream",
          "name": "stdout",
          "text": [
            "[08:55:24.622942] Processing image: img_345.tif\n"
          ]
        },
        {
          "output_type": "stream",
          "name": "stderr",
          "text": [
            "\n",
            "  0%|          | 0/1 [00:00<?, ?it/s]\u001b[A\n",
            "                                     \u001b[A"
          ]
        },
        {
          "output_type": "stream",
          "name": "stdout",
          "text": [
            "[08:55:24.654049] Processing image: img_347.tif\n"
          ]
        },
        {
          "output_type": "stream",
          "name": "stderr",
          "text": [
            "\n",
            "  0%|          | 0/1 [00:00<?, ?it/s]\u001b[A\n",
            "                                     \u001b[A"
          ]
        },
        {
          "output_type": "stream",
          "name": "stdout",
          "text": [
            "[08:55:24.678915] Processing image: img_354.tif\n"
          ]
        },
        {
          "output_type": "stream",
          "name": "stderr",
          "text": [
            "\n",
            "  0%|          | 0/1 [00:00<?, ?it/s]\u001b[A\n",
            " 62%|██████▏   | 379/610 [00:15<00:06, 36.05it/s]"
          ]
        },
        {
          "output_type": "stream",
          "name": "stdout",
          "text": [
            "[08:55:24.709618] Processing image: img_359.tif\n"
          ]
        },
        {
          "output_type": "stream",
          "name": "stderr",
          "text": [
            "\n",
            "  0%|          | 0/1 [00:00<?, ?it/s]\u001b[A\n",
            "                                     \u001b[A"
          ]
        },
        {
          "output_type": "stream",
          "name": "stdout",
          "text": [
            "[08:55:24.741575] Processing image: img_362.tif\n"
          ]
        },
        {
          "output_type": "stream",
          "name": "stderr",
          "text": [
            "\n",
            "  0%|          | 0/1 [00:00<?, ?it/s]\u001b[A\n",
            "                                     \u001b[A"
          ]
        },
        {
          "output_type": "stream",
          "name": "stdout",
          "text": [
            "[08:55:24.769107] Processing image: img_377.tif\n"
          ]
        },
        {
          "output_type": "stream",
          "name": "stderr",
          "text": [
            "\n",
            "  0%|          | 0/1 [00:00<?, ?it/s]\u001b[A\n",
            "                                     \u001b[A"
          ]
        },
        {
          "output_type": "stream",
          "name": "stdout",
          "text": [
            "[08:55:24.791536] Processing image: img_396.tif\n"
          ]
        },
        {
          "output_type": "stream",
          "name": "stderr",
          "text": [
            "\n",
            "  0%|          | 0/1 [00:00<?, ?it/s]\u001b[A\n",
            " 63%|██████▎   | 383/610 [00:15<00:06, 35.85it/s]"
          ]
        },
        {
          "output_type": "stream",
          "name": "stdout",
          "text": [
            "[08:55:24.826181] Processing image: img_399.tif\n"
          ]
        },
        {
          "output_type": "stream",
          "name": "stderr",
          "text": [
            "\n",
            "  0%|          | 0/1 [00:00<?, ?it/s]\u001b[A\n",
            "                                     \u001b[A"
          ]
        },
        {
          "output_type": "stream",
          "name": "stdout",
          "text": [
            "[08:55:24.852942] Processing image: img_402.tif\n"
          ]
        },
        {
          "output_type": "stream",
          "name": "stderr",
          "text": [
            "\n",
            "  0%|          | 0/1 [00:00<?, ?it/s]\u001b[A\n",
            "                                     \u001b[A"
          ]
        },
        {
          "output_type": "stream",
          "name": "stdout",
          "text": [
            "[08:55:24.882982] Processing image: img_406.tif\n"
          ]
        },
        {
          "output_type": "stream",
          "name": "stderr",
          "text": [
            "\n",
            "  0%|          | 0/1 [00:00<?, ?it/s]\u001b[A\n",
            "                                     \u001b[A"
          ]
        },
        {
          "output_type": "stream",
          "name": "stdout",
          "text": [
            "[08:55:24.913057] Processing image: img_409.tif\n"
          ]
        },
        {
          "output_type": "stream",
          "name": "stderr",
          "text": [
            "\n",
            "  0%|          | 0/1 [00:00<?, ?it/s]\u001b[A\n",
            " 63%|██████▎   | 387/610 [00:15<00:06, 34.94it/s]"
          ]
        },
        {
          "output_type": "stream",
          "name": "stdout",
          "text": [
            "[08:55:24.943028] Processing image: img_416.tif\n"
          ]
        },
        {
          "output_type": "stream",
          "name": "stderr",
          "text": [
            "\n",
            "  0%|          | 0/1 [00:00<?, ?it/s]\u001b[A\n",
            "                                     \u001b[A"
          ]
        },
        {
          "output_type": "stream",
          "name": "stdout",
          "text": [
            "[08:55:24.975886] Processing image: img_417.tif\n"
          ]
        },
        {
          "output_type": "stream",
          "name": "stderr",
          "text": [
            "\n",
            "  0%|          | 0/1 [00:00<?, ?it/s]\u001b[A\n",
            "                                     \u001b[A"
          ]
        },
        {
          "output_type": "stream",
          "name": "stdout",
          "text": [
            "[08:55:25.005109] Processing image: img_428.tif\n"
          ]
        },
        {
          "output_type": "stream",
          "name": "stderr",
          "text": [
            "\n",
            "  0%|          | 0/1 [00:00<?, ?it/s]\u001b[A\n",
            "                                     \u001b[A"
          ]
        },
        {
          "output_type": "stream",
          "name": "stdout",
          "text": [
            "[08:55:25.038450] Processing image: img_438.tif\n"
          ]
        },
        {
          "output_type": "stream",
          "name": "stderr",
          "text": [
            "\n",
            "  0%|          | 0/1 [00:00<?, ?it/s]\u001b[A\n",
            " 64%|██████▍   | 391/610 [00:16<00:06, 34.08it/s]"
          ]
        },
        {
          "output_type": "stream",
          "name": "stdout",
          "text": [
            "[08:55:25.068007] Processing image: img_440.tif\n"
          ]
        },
        {
          "output_type": "stream",
          "name": "stderr",
          "text": [
            "\n",
            "  0%|          | 0/1 [00:00<?, ?it/s]\u001b[A\n",
            "                                     \u001b[A"
          ]
        },
        {
          "output_type": "stream",
          "name": "stdout",
          "text": [
            "[08:55:25.092407] Processing image: img_444.tif\n"
          ]
        },
        {
          "output_type": "stream",
          "name": "stderr",
          "text": [
            "\n",
            "  0%|          | 0/1 [00:00<?, ?it/s]\u001b[A\n",
            "                                     \u001b[A"
          ]
        },
        {
          "output_type": "stream",
          "name": "stdout",
          "text": [
            "[08:55:25.119272] Processing image: img_447.tif\n"
          ]
        },
        {
          "output_type": "stream",
          "name": "stderr",
          "text": [
            "\n",
            "  0%|          | 0/1 [00:00<?, ?it/s]\u001b[A\n",
            "                                     \u001b[A"
          ]
        },
        {
          "output_type": "stream",
          "name": "stdout",
          "text": [
            "[08:55:25.150071] Processing image: img_450.tif\n"
          ]
        },
        {
          "output_type": "stream",
          "name": "stderr",
          "text": [
            "\n",
            "  0%|          | 0/1 [00:00<?, ?it/s]\u001b[A\n",
            " 65%|██████▍   | 395/610 [00:16<00:06, 34.32it/s]"
          ]
        },
        {
          "output_type": "stream",
          "name": "stdout",
          "text": [
            "[08:55:25.187616] Processing image: img_456.tif\n"
          ]
        },
        {
          "output_type": "stream",
          "name": "stderr",
          "text": [
            "\n",
            "  0%|          | 0/1 [00:00<?, ?it/s]\u001b[A\n",
            "                                     \u001b[A"
          ]
        },
        {
          "output_type": "stream",
          "name": "stdout",
          "text": [
            "[08:55:25.216188] Processing image: img_466.tif\n"
          ]
        },
        {
          "output_type": "stream",
          "name": "stderr",
          "text": [
            "\n",
            "  0%|          | 0/1 [00:00<?, ?it/s]\u001b[A\n",
            "                                     \u001b[A"
          ]
        },
        {
          "output_type": "stream",
          "name": "stdout",
          "text": [
            "[08:55:25.241434] Processing image: img_496.tif\n"
          ]
        },
        {
          "output_type": "stream",
          "name": "stderr",
          "text": [
            "\n",
            "  0%|          | 0/1 [00:00<?, ?it/s]\u001b[A\n",
            "                                     \u001b[A"
          ]
        },
        {
          "output_type": "stream",
          "name": "stdout",
          "text": [
            "[08:55:25.279978] Processing image: img_504.tif\n"
          ]
        },
        {
          "output_type": "stream",
          "name": "stderr",
          "text": [
            "\n",
            "  0%|          | 0/1 [00:00<?, ?it/s]\u001b[A\n",
            " 65%|██████▌   | 399/610 [00:16<00:06, 33.44it/s]"
          ]
        },
        {
          "output_type": "stream",
          "name": "stdout",
          "text": [
            "[08:55:25.313615] Processing image: img_508.tif\n"
          ]
        },
        {
          "output_type": "stream",
          "name": "stderr",
          "text": [
            "\n",
            "  0%|          | 0/1 [00:00<?, ?it/s]\u001b[A\n",
            "                                     \u001b[A"
          ]
        },
        {
          "output_type": "stream",
          "name": "stdout",
          "text": [
            "[08:55:25.342368] Processing image: img_511.tif\n"
          ]
        },
        {
          "output_type": "stream",
          "name": "stderr",
          "text": [
            "\n",
            "  0%|          | 0/1 [00:00<?, ?it/s]\u001b[A\n",
            "                                     \u001b[A"
          ]
        },
        {
          "output_type": "stream",
          "name": "stdout",
          "text": [
            "[08:55:25.367847] Processing image: img_532.tif\n"
          ]
        },
        {
          "output_type": "stream",
          "name": "stderr",
          "text": [
            "\n",
            "  0%|          | 0/1 [00:00<?, ?it/s]\u001b[A\n",
            "                                     \u001b[A"
          ]
        },
        {
          "output_type": "stream",
          "name": "stdout",
          "text": [
            "[08:55:25.401555] Processing image: img_543.tif\n"
          ]
        },
        {
          "output_type": "stream",
          "name": "stderr",
          "text": [
            "\n",
            "  0%|          | 0/1 [00:00<?, ?it/s]\u001b[A\n",
            " 66%|██████▌   | 403/610 [00:16<00:06, 33.35it/s]"
          ]
        },
        {
          "output_type": "stream",
          "name": "stdout",
          "text": [
            "[08:55:25.434714] Processing image: img_578.tif\n"
          ]
        },
        {
          "output_type": "stream",
          "name": "stderr",
          "text": [
            "\n",
            "  0%|          | 0/1 [00:00<?, ?it/s]\u001b[A\n",
            "                                     \u001b[A"
          ]
        },
        {
          "output_type": "stream",
          "name": "stdout",
          "text": [
            "[08:55:25.463107] Processing image: img_608.tif\n"
          ]
        },
        {
          "output_type": "stream",
          "name": "stderr",
          "text": [
            "\n",
            "  0%|          | 0/1 [00:00<?, ?it/s]\u001b[A\n",
            "                                     \u001b[A"
          ]
        },
        {
          "output_type": "stream",
          "name": "stdout",
          "text": [
            "[08:55:25.499660] Processing image: img_006.tif\n"
          ]
        },
        {
          "output_type": "stream",
          "name": "stderr",
          "text": [
            "\n",
            "  0%|          | 0/1 [00:00<?, ?it/s]\u001b[A\n",
            "                                     \u001b[A"
          ]
        },
        {
          "output_type": "stream",
          "name": "stdout",
          "text": [
            "[08:55:25.531914] Processing image: img_014.tif\n"
          ]
        },
        {
          "output_type": "stream",
          "name": "stderr",
          "text": [
            "\n",
            "  0%|          | 0/1 [00:00<?, ?it/s]\u001b[A\n",
            " 67%|██████▋   | 407/610 [00:16<00:06, 32.20it/s]"
          ]
        },
        {
          "output_type": "stream",
          "name": "stdout",
          "text": [
            "[08:55:25.568632] Processing image: img_015.tif\n"
          ]
        },
        {
          "output_type": "stream",
          "name": "stderr",
          "text": [
            "\n",
            "  0%|          | 0/1 [00:00<?, ?it/s]\u001b[A\n",
            "                                     \u001b[A"
          ]
        },
        {
          "output_type": "stream",
          "name": "stdout",
          "text": [
            "[08:55:25.600190] Processing image: img_023.tif\n"
          ]
        },
        {
          "output_type": "stream",
          "name": "stderr",
          "text": [
            "\n",
            "  0%|          | 0/1 [00:00<?, ?it/s]\u001b[A\n",
            "                                     \u001b[A"
          ]
        },
        {
          "output_type": "stream",
          "name": "stdout",
          "text": [
            "[08:55:25.638180] Processing image: img_027.tif\n"
          ]
        },
        {
          "output_type": "stream",
          "name": "stderr",
          "text": [
            "\n",
            "  0%|          | 0/1 [00:00<?, ?it/s]\u001b[A\n",
            "                                     \u001b[A"
          ]
        },
        {
          "output_type": "stream",
          "name": "stdout",
          "text": [
            "[08:55:25.670867] Processing image: img_029.tif\n"
          ]
        },
        {
          "output_type": "stream",
          "name": "stderr",
          "text": [
            "\n",
            "  0%|          | 0/1 [00:00<?, ?it/s]\u001b[A\n",
            " 67%|██████▋   | 411/610 [00:16<00:06, 30.93it/s]"
          ]
        },
        {
          "output_type": "stream",
          "name": "stdout",
          "text": [
            "[08:55:25.709587] Processing image: img_039.tif\n"
          ]
        },
        {
          "output_type": "stream",
          "name": "stderr",
          "text": [
            "\n",
            "  0%|          | 0/1 [00:00<?, ?it/s]\u001b[A\n",
            "                                     \u001b[A"
          ]
        },
        {
          "output_type": "stream",
          "name": "stdout",
          "text": [
            "[08:55:25.743416] Processing image: img_051.tif\n"
          ]
        },
        {
          "output_type": "stream",
          "name": "stderr",
          "text": [
            "\n",
            "  0%|          | 0/1 [00:00<?, ?it/s]\u001b[A\n",
            "                                     \u001b[A"
          ]
        },
        {
          "output_type": "stream",
          "name": "stdout",
          "text": [
            "[08:55:25.781271] Processing image: img_074.tif\n"
          ]
        },
        {
          "output_type": "stream",
          "name": "stderr",
          "text": [
            "\n",
            "  0%|          | 0/1 [00:00<?, ?it/s]\u001b[A\n",
            "                                     \u001b[A"
          ]
        },
        {
          "output_type": "stream",
          "name": "stdout",
          "text": [
            "[08:55:25.818934] Processing image: img_076.tif\n"
          ]
        },
        {
          "output_type": "stream",
          "name": "stderr",
          "text": [
            "\n",
            "  0%|          | 0/1 [00:00<?, ?it/s]\u001b[A\n",
            " 68%|██████▊   | 415/610 [00:16<00:06, 29.40it/s]"
          ]
        },
        {
          "output_type": "stream",
          "name": "stdout",
          "text": [
            "[08:55:25.861184] Processing image: img_091.tif\n"
          ]
        },
        {
          "output_type": "stream",
          "name": "stderr",
          "text": [
            "\n",
            "  0%|          | 0/1 [00:00<?, ?it/s]\u001b[A\n",
            "                                     \u001b[A"
          ]
        },
        {
          "output_type": "stream",
          "name": "stdout",
          "text": [
            "[08:55:25.898628] Processing image: img_097.tif\n"
          ]
        },
        {
          "output_type": "stream",
          "name": "stderr",
          "text": [
            "\n",
            "  0%|          | 0/1 [00:00<?, ?it/s]\u001b[A\n",
            "                                     \u001b[A"
          ]
        },
        {
          "output_type": "stream",
          "name": "stdout",
          "text": [
            "[08:55:25.932058] Processing image: img_102.tif\n"
          ]
        },
        {
          "output_type": "stream",
          "name": "stderr",
          "text": [
            "\n",
            "  0%|          | 0/1 [00:00<?, ?it/s]\u001b[A\n",
            " 69%|██████▊   | 418/610 [00:17<00:06, 29.18it/s]"
          ]
        },
        {
          "output_type": "stream",
          "name": "stdout",
          "text": [
            "[08:55:25.969475] Processing image: img_103.tif\n"
          ]
        },
        {
          "output_type": "stream",
          "name": "stderr",
          "text": [
            "\n",
            "  0%|          | 0/1 [00:00<?, ?it/s]\u001b[A\n",
            "                                     \u001b[A"
          ]
        },
        {
          "output_type": "stream",
          "name": "stdout",
          "text": [
            "[08:55:26.003155] Processing image: img_104.tif\n"
          ]
        },
        {
          "output_type": "stream",
          "name": "stderr",
          "text": [
            "\n",
            "  0%|          | 0/1 [00:00<?, ?it/s]\u001b[A\n",
            "                                     \u001b[A"
          ]
        },
        {
          "output_type": "stream",
          "name": "stdout",
          "text": [
            "[08:55:26.038424] Processing image: img_120.tif\n"
          ]
        },
        {
          "output_type": "stream",
          "name": "stderr",
          "text": [
            "\n",
            "  0%|          | 0/1 [00:00<?, ?it/s]\u001b[A\n",
            " 69%|██████▉   | 421/610 [00:17<00:06, 28.78it/s]"
          ]
        },
        {
          "output_type": "stream",
          "name": "stdout",
          "text": [
            "[08:55:26.077809] Processing image: img_121.tif\n"
          ]
        },
        {
          "output_type": "stream",
          "name": "stderr",
          "text": [
            "\n",
            "  0%|          | 0/1 [00:00<?, ?it/s]\u001b[A\n",
            "                                     \u001b[A"
          ]
        },
        {
          "output_type": "stream",
          "name": "stdout",
          "text": [
            "[08:55:26.114767] Processing image: img_148.tif\n"
          ]
        },
        {
          "output_type": "stream",
          "name": "stderr",
          "text": [
            "\n",
            "  0%|          | 0/1 [00:00<?, ?it/s]\u001b[A\n",
            "                                     \u001b[A"
          ]
        },
        {
          "output_type": "stream",
          "name": "stdout",
          "text": [
            "[08:55:26.146626] Processing image: img_150.tif\n"
          ]
        },
        {
          "output_type": "stream",
          "name": "stderr",
          "text": [
            "\n",
            "  0%|          | 0/1 [00:00<?, ?it/s]\u001b[A\n",
            " 70%|██████▉   | 424/610 [00:17<00:06, 28.67it/s]"
          ]
        },
        {
          "output_type": "stream",
          "name": "stdout",
          "text": [
            "[08:55:26.185065] Processing image: img_157.tif\n"
          ]
        },
        {
          "output_type": "stream",
          "name": "stderr",
          "text": [
            "\n",
            "  0%|          | 0/1 [00:00<?, ?it/s]\u001b[A\n",
            "                                     \u001b[A"
          ]
        },
        {
          "output_type": "stream",
          "name": "stdout",
          "text": [
            "[08:55:26.218131] Processing image: img_162.tif\n"
          ]
        },
        {
          "output_type": "stream",
          "name": "stderr",
          "text": [
            "\n",
            "  0%|          | 0/1 [00:00<?, ?it/s]\u001b[A\n",
            "                                     \u001b[A"
          ]
        },
        {
          "output_type": "stream",
          "name": "stdout",
          "text": [
            "[08:55:26.256366] Processing image: img_169.tif\n"
          ]
        },
        {
          "output_type": "stream",
          "name": "stderr",
          "text": [
            "\n",
            "  0%|          | 0/1 [00:00<?, ?it/s]\u001b[A\n",
            " 70%|███████   | 427/610 [00:17<00:06, 27.75it/s]"
          ]
        },
        {
          "output_type": "stream",
          "name": "stdout",
          "text": [
            "[08:55:26.300824] Processing image: img_181.tif\n"
          ]
        },
        {
          "output_type": "stream",
          "name": "stderr",
          "text": [
            "\n",
            "  0%|          | 0/1 [00:00<?, ?it/s]\u001b[A\n",
            "                                     \u001b[A"
          ]
        },
        {
          "output_type": "stream",
          "name": "stdout",
          "text": [
            "[08:55:26.334541] Processing image: img_198.tif\n"
          ]
        },
        {
          "output_type": "stream",
          "name": "stderr",
          "text": [
            "\n",
            "  0%|          | 0/1 [00:00<?, ?it/s]\u001b[A\n",
            "                                     \u001b[A"
          ]
        },
        {
          "output_type": "stream",
          "name": "stdout",
          "text": [
            "[08:55:26.371070] Processing image: img_199.tif\n"
          ]
        },
        {
          "output_type": "stream",
          "name": "stderr",
          "text": [
            "\n",
            "  0%|          | 0/1 [00:00<?, ?it/s]\u001b[A\n",
            " 70%|███████   | 430/610 [00:17<00:06, 27.47it/s]"
          ]
        },
        {
          "output_type": "stream",
          "name": "stdout",
          "text": [
            "[08:55:26.409442] Processing image: img_208.tif\n"
          ]
        },
        {
          "output_type": "stream",
          "name": "stderr",
          "text": [
            "\n",
            "  0%|          | 0/1 [00:00<?, ?it/s]\u001b[A\n",
            "                                     \u001b[A"
          ]
        },
        {
          "output_type": "stream",
          "name": "stdout",
          "text": [
            "[08:55:26.447450] Processing image: img_214.tif\n"
          ]
        },
        {
          "output_type": "stream",
          "name": "stderr",
          "text": [
            "\n",
            "  0%|          | 0/1 [00:00<?, ?it/s]\u001b[A\n",
            "                                     \u001b[A"
          ]
        },
        {
          "output_type": "stream",
          "name": "stdout",
          "text": [
            "[08:55:26.479927] Processing image: img_227.tif\n"
          ]
        },
        {
          "output_type": "stream",
          "name": "stderr",
          "text": [
            "\n",
            "  0%|          | 0/1 [00:00<?, ?it/s]\u001b[A\n",
            " 71%|███████   | 433/610 [00:17<00:06, 27.89it/s]"
          ]
        },
        {
          "output_type": "stream",
          "name": "stdout",
          "text": [
            "[08:55:26.513162] Processing image: img_230.tif\n"
          ]
        },
        {
          "output_type": "stream",
          "name": "stderr",
          "text": [
            "\n",
            "  0%|          | 0/1 [00:00<?, ?it/s]\u001b[A\n",
            "                                     \u001b[A"
          ]
        },
        {
          "output_type": "stream",
          "name": "stdout",
          "text": [
            "[08:55:26.546201] Processing image: img_232.tif\n"
          ]
        },
        {
          "output_type": "stream",
          "name": "stderr",
          "text": [
            "\n",
            "  0%|          | 0/1 [00:00<?, ?it/s]\u001b[A\n",
            "                                     \u001b[A"
          ]
        },
        {
          "output_type": "stream",
          "name": "stdout",
          "text": [
            "[08:55:26.575441] Processing image: img_249.tif\n"
          ]
        },
        {
          "output_type": "stream",
          "name": "stderr",
          "text": [
            "\n",
            "  0%|          | 0/1 [00:00<?, ?it/s]\u001b[A\n",
            "                                     \u001b[A"
          ]
        },
        {
          "output_type": "stream",
          "name": "stdout",
          "text": [
            "[08:55:26.603808] Processing image: img_258.tif\n"
          ]
        },
        {
          "output_type": "stream",
          "name": "stderr",
          "text": [
            "\n",
            "  0%|          | 0/1 [00:00<?, ?it/s]\u001b[A\n",
            " 72%|███████▏  | 437/610 [00:17<00:05, 29.11it/s]"
          ]
        },
        {
          "output_type": "stream",
          "name": "stdout",
          "text": [
            "[08:55:26.638558] Processing image: img_262.tif\n"
          ]
        },
        {
          "output_type": "stream",
          "name": "stderr",
          "text": [
            "\n",
            "  0%|          | 0/1 [00:00<?, ?it/s]\u001b[A\n",
            "                                     \u001b[A"
          ]
        },
        {
          "output_type": "stream",
          "name": "stdout",
          "text": [
            "[08:55:26.673063] Processing image: img_278.tif\n"
          ]
        },
        {
          "output_type": "stream",
          "name": "stderr",
          "text": [
            "\n",
            "  0%|          | 0/1 [00:00<?, ?it/s]\u001b[A\n",
            "                                     \u001b[A"
          ]
        },
        {
          "output_type": "stream",
          "name": "stdout",
          "text": [
            "[08:55:26.704414] Processing image: img_279.tif\n"
          ]
        },
        {
          "output_type": "stream",
          "name": "stderr",
          "text": [
            "\n",
            "  0%|          | 0/1 [00:00<?, ?it/s]\u001b[A\n",
            " 72%|███████▏  | 440/610 [00:17<00:05, 29.30it/s]"
          ]
        },
        {
          "output_type": "stream",
          "name": "stdout",
          "text": [
            "[08:55:26.744305] Processing image: img_280.tif\n"
          ]
        },
        {
          "output_type": "stream",
          "name": "stderr",
          "text": [
            "\n",
            "  0%|          | 0/1 [00:00<?, ?it/s]\u001b[A\n",
            "                                     \u001b[A"
          ]
        },
        {
          "output_type": "stream",
          "name": "stdout",
          "text": [
            "[08:55:26.775148] Processing image: img_287.tif\n"
          ]
        },
        {
          "output_type": "stream",
          "name": "stderr",
          "text": [
            "\n",
            "  0%|          | 0/1 [00:00<?, ?it/s]\u001b[A\n",
            "                                     \u001b[A"
          ]
        },
        {
          "output_type": "stream",
          "name": "stdout",
          "text": [
            "[08:55:26.803580] Processing image: img_297.tif\n"
          ]
        },
        {
          "output_type": "stream",
          "name": "stderr",
          "text": [
            "\n",
            "  0%|          | 0/1 [00:00<?, ?it/s]\u001b[A\n",
            "                                     \u001b[A"
          ]
        },
        {
          "output_type": "stream",
          "name": "stdout",
          "text": [
            "[08:55:26.831544] Processing image: img_307.tif\n"
          ]
        },
        {
          "output_type": "stream",
          "name": "stderr",
          "text": [
            "\n",
            "  0%|          | 0/1 [00:00<?, ?it/s]\u001b[A\n",
            " 73%|███████▎  | 444/610 [00:17<00:05, 30.35it/s]"
          ]
        },
        {
          "output_type": "stream",
          "name": "stdout",
          "text": [
            "[08:55:26.858786] Processing image: img_309.tif\n"
          ]
        },
        {
          "output_type": "stream",
          "name": "stderr",
          "text": [
            "\n",
            "  0%|          | 0/1 [00:00<?, ?it/s]\u001b[A\n",
            "                                     \u001b[A"
          ]
        },
        {
          "output_type": "stream",
          "name": "stdout",
          "text": [
            "[08:55:26.890010] Processing image: img_319.tif\n"
          ]
        },
        {
          "output_type": "stream",
          "name": "stderr",
          "text": [
            "\n",
            "  0%|          | 0/1 [00:00<?, ?it/s]\u001b[A\n",
            "                                     \u001b[A"
          ]
        },
        {
          "output_type": "stream",
          "name": "stdout",
          "text": [
            "[08:55:26.923106] Processing image: img_336.tif\n"
          ]
        },
        {
          "output_type": "stream",
          "name": "stderr",
          "text": [
            "\n",
            "  0%|          | 0/1 [00:00<?, ?it/s]\u001b[A\n",
            "                                     \u001b[A"
          ]
        },
        {
          "output_type": "stream",
          "name": "stdout",
          "text": [
            "[08:55:26.956679] Processing image: img_364.tif\n"
          ]
        },
        {
          "output_type": "stream",
          "name": "stderr",
          "text": [
            "\n",
            "  0%|          | 0/1 [00:00<?, ?it/s]\u001b[A\n",
            " 73%|███████▎  | 448/610 [00:18<00:05, 30.49it/s]"
          ]
        },
        {
          "output_type": "stream",
          "name": "stdout",
          "text": [
            "[08:55:26.989834] Processing image: img_374.tif\n"
          ]
        },
        {
          "output_type": "stream",
          "name": "stderr",
          "text": [
            "\n",
            "  0%|          | 0/1 [00:00<?, ?it/s]\u001b[A\n",
            "                                     \u001b[A"
          ]
        },
        {
          "output_type": "stream",
          "name": "stdout",
          "text": [
            "[08:55:27.022902] Processing image: img_381.tif\n"
          ]
        },
        {
          "output_type": "stream",
          "name": "stderr",
          "text": [
            "\n",
            "  0%|          | 0/1 [00:00<?, ?it/s]\u001b[A\n",
            "                                     \u001b[A"
          ]
        },
        {
          "output_type": "stream",
          "name": "stdout",
          "text": [
            "[08:55:27.056451] Processing image: img_388.tif\n"
          ]
        },
        {
          "output_type": "stream",
          "name": "stderr",
          "text": [
            "\n",
            "  0%|          | 0/1 [00:00<?, ?it/s]\u001b[A\n",
            "                                     \u001b[A"
          ]
        },
        {
          "output_type": "stream",
          "name": "stdout",
          "text": [
            "[08:55:27.088652] Processing image: img_389.tif\n"
          ]
        },
        {
          "output_type": "stream",
          "name": "stderr",
          "text": [
            "\n",
            "  0%|          | 0/1 [00:00<?, ?it/s]\u001b[A\n",
            " 74%|███████▍  | 452/610 [00:18<00:05, 30.67it/s]"
          ]
        },
        {
          "output_type": "stream",
          "name": "stdout",
          "text": [
            "[08:55:27.116963] Processing image: img_400.tif\n"
          ]
        },
        {
          "output_type": "stream",
          "name": "stderr",
          "text": [
            "\n",
            "  0%|          | 0/1 [00:00<?, ?it/s]\u001b[A\n",
            "                                     \u001b[A"
          ]
        },
        {
          "output_type": "stream",
          "name": "stdout",
          "text": [
            "[08:55:27.140130] Processing image: img_415.tif\n"
          ]
        },
        {
          "output_type": "stream",
          "name": "stderr",
          "text": [
            "\n",
            "  0%|          | 0/1 [00:00<?, ?it/s]\u001b[A\n",
            "                                     \u001b[A"
          ]
        },
        {
          "output_type": "stream",
          "name": "stdout",
          "text": [
            "[08:55:27.173934] Processing image: img_442.tif\n"
          ]
        },
        {
          "output_type": "stream",
          "name": "stderr",
          "text": [
            "\n",
            "  0%|          | 0/1 [00:00<?, ?it/s]\u001b[A\n",
            "                                     \u001b[A"
          ]
        },
        {
          "output_type": "stream",
          "name": "stdout",
          "text": [
            "[08:55:27.213266] Processing image: img_448.tif\n"
          ]
        },
        {
          "output_type": "stream",
          "name": "stderr",
          "text": [
            "\n",
            "  0%|          | 0/1 [00:00<?, ?it/s]\u001b[A\n",
            " 75%|███████▍  | 456/610 [00:18<00:05, 30.51it/s]"
          ]
        },
        {
          "output_type": "stream",
          "name": "stdout",
          "text": [
            "[08:55:27.254168] Processing image: img_457.tif\n"
          ]
        },
        {
          "output_type": "stream",
          "name": "stderr",
          "text": [
            "\n",
            "  0%|          | 0/1 [00:00<?, ?it/s]\u001b[A\n",
            "                                     \u001b[A"
          ]
        },
        {
          "output_type": "stream",
          "name": "stdout",
          "text": [
            "[08:55:27.295348] Processing image: img_459.tif\n"
          ]
        },
        {
          "output_type": "stream",
          "name": "stderr",
          "text": [
            "\n",
            "  0%|          | 0/1 [00:00<?, ?it/s]\u001b[A\n",
            "                                     \u001b[A"
          ]
        },
        {
          "output_type": "stream",
          "name": "stdout",
          "text": [
            "[08:55:27.334010] Processing image: img_461.tif\n"
          ]
        },
        {
          "output_type": "stream",
          "name": "stderr",
          "text": [
            "\n",
            "  0%|          | 0/1 [00:00<?, ?it/s]\u001b[A\n",
            "                                     \u001b[A"
          ]
        },
        {
          "output_type": "stream",
          "name": "stdout",
          "text": [
            "[08:55:27.376279] Processing image: img_462.tif\n"
          ]
        },
        {
          "output_type": "stream",
          "name": "stderr",
          "text": [
            "\n",
            "  0%|          | 0/1 [00:00<?, ?it/s]\u001b[A\n",
            " 75%|███████▌  | 460/610 [00:18<00:05, 28.21it/s]"
          ]
        },
        {
          "output_type": "stream",
          "name": "stdout",
          "text": [
            "[08:55:27.423107] Processing image: img_463.tif\n"
          ]
        },
        {
          "output_type": "stream",
          "name": "stderr",
          "text": [
            "\n",
            "  0%|          | 0/1 [00:00<?, ?it/s]\u001b[A\n",
            "                                     \u001b[A"
          ]
        },
        {
          "output_type": "stream",
          "name": "stdout",
          "text": [
            "[08:55:27.464602] Processing image: img_465.tif\n"
          ]
        },
        {
          "output_type": "stream",
          "name": "stderr",
          "text": [
            "\n",
            "  0%|          | 0/1 [00:00<?, ?it/s]\u001b[A\n",
            "                                     \u001b[A"
          ]
        },
        {
          "output_type": "stream",
          "name": "stdout",
          "text": [
            "[08:55:27.499569] Processing image: img_471.tif\n"
          ]
        },
        {
          "output_type": "stream",
          "name": "stderr",
          "text": [
            "\n",
            "  0%|          | 0/1 [00:00<?, ?it/s]\u001b[A\n",
            " 76%|███████▌  | 463/610 [00:18<00:05, 27.45it/s]"
          ]
        },
        {
          "output_type": "stream",
          "name": "stdout",
          "text": [
            "[08:55:27.539603] Processing image: img_478.tif\n"
          ]
        },
        {
          "output_type": "stream",
          "name": "stderr",
          "text": [
            "\n",
            "  0%|          | 0/1 [00:00<?, ?it/s]\u001b[A\n",
            "                                     \u001b[A"
          ]
        },
        {
          "output_type": "stream",
          "name": "stdout",
          "text": [
            "[08:55:27.585857] Processing image: img_480.tif\n"
          ]
        },
        {
          "output_type": "stream",
          "name": "stderr",
          "text": [
            "\n",
            "  0%|          | 0/1 [00:00<?, ?it/s]\u001b[A\n",
            "                                     \u001b[A"
          ]
        },
        {
          "output_type": "stream",
          "name": "stdout",
          "text": [
            "[08:55:27.627443] Processing image: img_490.tif\n"
          ]
        },
        {
          "output_type": "stream",
          "name": "stderr",
          "text": [
            "\n",
            "  0%|          | 0/1 [00:00<?, ?it/s]\u001b[A\n",
            " 76%|███████▋  | 466/610 [00:18<00:05, 26.10it/s]"
          ]
        },
        {
          "output_type": "stream",
          "name": "stdout",
          "text": [
            "[08:55:27.673074] Processing image: img_542.tif\n"
          ]
        },
        {
          "output_type": "stream",
          "name": "stderr",
          "text": [
            "\n",
            "  0%|          | 0/1 [00:00<?, ?it/s]\u001b[A\n",
            "                                     \u001b[A"
          ]
        },
        {
          "output_type": "stream",
          "name": "stdout",
          "text": [
            "[08:55:27.715298] Processing image: img_554.tif\n"
          ]
        },
        {
          "output_type": "stream",
          "name": "stderr",
          "text": [
            "\n",
            "  0%|          | 0/1 [00:00<?, ?it/s]\u001b[A\n",
            "                                     \u001b[A"
          ]
        },
        {
          "output_type": "stream",
          "name": "stdout",
          "text": [
            "[08:55:27.753934] Processing image: img_556.tif\n"
          ]
        },
        {
          "output_type": "stream",
          "name": "stderr",
          "text": [
            "\n",
            "  0%|          | 0/1 [00:00<?, ?it/s]\u001b[A\n",
            " 77%|███████▋  | 469/610 [00:18<00:05, 25.37it/s]"
          ]
        },
        {
          "output_type": "stream",
          "name": "stdout",
          "text": [
            "[08:55:27.800718] Processing image: img_597.tif\n"
          ]
        },
        {
          "output_type": "stream",
          "name": "stderr",
          "text": [
            "\n",
            "  0%|          | 0/1 [00:00<?, ?it/s]\u001b[A\n",
            "                                     \u001b[A"
          ]
        },
        {
          "output_type": "stream",
          "name": "stdout",
          "text": [
            "[08:55:27.832594] Processing image: img_602.tif\n"
          ]
        },
        {
          "output_type": "stream",
          "name": "stderr",
          "text": [
            "\n",
            "  0%|          | 0/1 [00:00<?, ?it/s]\u001b[A\n",
            "                                     \u001b[A"
          ]
        },
        {
          "output_type": "stream",
          "name": "stdout",
          "text": [
            "[08:55:27.861713] Processing image: img_101.tif\n"
          ]
        },
        {
          "output_type": "stream",
          "name": "stderr",
          "text": [
            "\n",
            "  0%|          | 0/1 [00:00<?, ?it/s]\u001b[A\n",
            "                                     \u001b[A"
          ]
        },
        {
          "output_type": "stream",
          "name": "stdout",
          "text": [
            "[08:55:27.891970] Processing image: img_130.tif\n"
          ]
        },
        {
          "output_type": "stream",
          "name": "stderr",
          "text": [
            "\n",
            "  0%|          | 0/1 [00:00<?, ?it/s]\u001b[A\n",
            " 78%|███████▊  | 473/610 [00:18<00:05, 26.61it/s]"
          ]
        },
        {
          "output_type": "stream",
          "name": "stdout",
          "text": [
            "[08:55:27.929684] Processing image: img_175.tif\n"
          ]
        },
        {
          "output_type": "stream",
          "name": "stderr",
          "text": [
            "\n",
            "  0%|          | 0/1 [00:00<?, ?it/s]\u001b[A\n",
            "                                     \u001b[A"
          ]
        },
        {
          "output_type": "stream",
          "name": "stdout",
          "text": [
            "[08:55:27.961800] Processing image: img_186.tif\n"
          ]
        },
        {
          "output_type": "stream",
          "name": "stderr",
          "text": [
            "\n",
            "  0%|          | 0/1 [00:00<?, ?it/s]\u001b[A\n",
            "                                     \u001b[A"
          ]
        },
        {
          "output_type": "stream",
          "name": "stdout",
          "text": [
            "[08:55:27.993895] Processing image: img_202.tif\n"
          ]
        },
        {
          "output_type": "stream",
          "name": "stderr",
          "text": [
            "\n",
            "  0%|          | 0/1 [00:00<?, ?it/s]\u001b[A\n",
            "                                     \u001b[A"
          ]
        },
        {
          "output_type": "stream",
          "name": "stdout",
          "text": [
            "[08:55:28.025144] Processing image: img_218.tif\n"
          ]
        },
        {
          "output_type": "stream",
          "name": "stderr",
          "text": [
            "\n",
            "  0%|          | 0/1 [00:00<?, ?it/s]\u001b[A\n",
            " 78%|███████▊  | 477/610 [00:19<00:04, 27.83it/s]"
          ]
        },
        {
          "output_type": "stream",
          "name": "stdout",
          "text": [
            "[08:55:28.064825] Processing image: img_229.tif\n"
          ]
        },
        {
          "output_type": "stream",
          "name": "stderr",
          "text": [
            "\n",
            "  0%|          | 0/1 [00:00<?, ?it/s]\u001b[A\n",
            "                                     \u001b[A"
          ]
        },
        {
          "output_type": "stream",
          "name": "stdout",
          "text": [
            "[08:55:28.098395] Processing image: img_239.tif\n"
          ]
        },
        {
          "output_type": "stream",
          "name": "stderr",
          "text": [
            "\n",
            "  0%|          | 0/1 [00:00<?, ?it/s]\u001b[A\n",
            "                                     \u001b[A"
          ]
        },
        {
          "output_type": "stream",
          "name": "stdout",
          "text": [
            "[08:55:28.124321] Processing image: img_264.tif\n"
          ]
        },
        {
          "output_type": "stream",
          "name": "stderr",
          "text": [
            "\n",
            "  0%|          | 0/1 [00:00<?, ?it/s]\u001b[A\n",
            "                                     \u001b[A"
          ]
        },
        {
          "output_type": "stream",
          "name": "stdout",
          "text": [
            "[08:55:28.162394] Processing image: img_266.tif\n"
          ]
        },
        {
          "output_type": "stream",
          "name": "stderr",
          "text": [
            "\n",
            "  0%|          | 0/1 [00:00<?, ?it/s]\u001b[A\n",
            " 79%|███████▉  | 481/610 [00:19<00:04, 28.37it/s]"
          ]
        },
        {
          "output_type": "stream",
          "name": "stdout",
          "text": [
            "[08:55:28.196624] Processing image: img_288.tif\n"
          ]
        },
        {
          "output_type": "stream",
          "name": "stderr",
          "text": [
            "\n",
            "  0%|          | 0/1 [00:00<?, ?it/s]\u001b[A\n",
            "                                     \u001b[A"
          ]
        },
        {
          "output_type": "stream",
          "name": "stdout",
          "text": [
            "[08:55:28.228058] Processing image: img_312.tif\n"
          ]
        },
        {
          "output_type": "stream",
          "name": "stderr",
          "text": [
            "\n",
            "  0%|          | 0/1 [00:00<?, ?it/s]\u001b[A\n",
            "                                     \u001b[A"
          ]
        },
        {
          "output_type": "stream",
          "name": "stdout",
          "text": [
            "[08:55:28.257799] Processing image: img_320.tif\n"
          ]
        },
        {
          "output_type": "stream",
          "name": "stderr",
          "text": [
            "\n",
            "  0%|          | 0/1 [00:00<?, ?it/s]\u001b[A\n",
            "                                     \u001b[A"
          ]
        },
        {
          "output_type": "stream",
          "name": "stdout",
          "text": [
            "[08:55:28.284115] Processing image: img_338.tif\n"
          ]
        },
        {
          "output_type": "stream",
          "name": "stderr",
          "text": [
            "\n",
            "  0%|          | 0/1 [00:00<?, ?it/s]\u001b[A\n",
            " 80%|███████▉  | 485/610 [00:19<00:04, 29.62it/s]"
          ]
        },
        {
          "output_type": "stream",
          "name": "stdout",
          "text": [
            "[08:55:28.318639] Processing image: img_339.tif\n"
          ]
        },
        {
          "output_type": "stream",
          "name": "stderr",
          "text": [
            "\n",
            "  0%|          | 0/1 [00:00<?, ?it/s]\u001b[A\n",
            "                                     \u001b[A"
          ]
        },
        {
          "output_type": "stream",
          "name": "stdout",
          "text": [
            "[08:55:28.344203] Processing image: img_375.tif\n"
          ]
        },
        {
          "output_type": "stream",
          "name": "stderr",
          "text": [
            "\n",
            "  0%|          | 0/1 [00:00<?, ?it/s]\u001b[A\n",
            "                                     \u001b[A"
          ]
        },
        {
          "output_type": "stream",
          "name": "stdout",
          "text": [
            "[08:55:28.375779] Processing image: img_385.tif\n"
          ]
        },
        {
          "output_type": "stream",
          "name": "stderr",
          "text": [
            "\n",
            "  0%|          | 0/1 [00:00<?, ?it/s]\u001b[A\n",
            "                                     \u001b[A"
          ]
        },
        {
          "output_type": "stream",
          "name": "stdout",
          "text": [
            "[08:55:28.404611] Processing image: img_392.tif\n"
          ]
        },
        {
          "output_type": "stream",
          "name": "stderr",
          "text": [
            "\n",
            "  0%|          | 0/1 [00:00<?, ?it/s]\u001b[A\n",
            " 80%|████████  | 489/610 [00:19<00:03, 31.03it/s]"
          ]
        },
        {
          "output_type": "stream",
          "name": "stdout",
          "text": [
            "[08:55:28.435014] Processing image: img_426.tif\n"
          ]
        },
        {
          "output_type": "stream",
          "name": "stderr",
          "text": [
            "\n",
            "  0%|          | 0/1 [00:00<?, ?it/s]\u001b[A\n",
            "                                     \u001b[A"
          ]
        },
        {
          "output_type": "stream",
          "name": "stdout",
          "text": [
            "[08:55:28.466423] Processing image: img_445.tif\n"
          ]
        },
        {
          "output_type": "stream",
          "name": "stderr",
          "text": [
            "\n",
            "  0%|          | 0/1 [00:00<?, ?it/s]\u001b[A\n",
            "                                     \u001b[A"
          ]
        },
        {
          "output_type": "stream",
          "name": "stdout",
          "text": [
            "[08:55:28.491863] Processing image: img_460.tif\n"
          ]
        },
        {
          "output_type": "stream",
          "name": "stderr",
          "text": [
            "\n",
            "  0%|          | 0/1 [00:00<?, ?it/s]\u001b[A\n",
            "                                     \u001b[A"
          ]
        },
        {
          "output_type": "stream",
          "name": "stdout",
          "text": [
            "[08:55:28.522808] Processing image: img_501.tif\n"
          ]
        },
        {
          "output_type": "stream",
          "name": "stderr",
          "text": [
            "\n",
            "  0%|          | 0/1 [00:00<?, ?it/s]\u001b[A\n",
            " 81%|████████  | 493/610 [00:19<00:03, 31.67it/s]"
          ]
        },
        {
          "output_type": "stream",
          "name": "stdout",
          "text": [
            "[08:55:28.555782] Processing image: img_520.tif\n"
          ]
        },
        {
          "output_type": "stream",
          "name": "stderr",
          "text": [
            "\n",
            "  0%|          | 0/1 [00:00<?, ?it/s]\u001b[A\n",
            "                                     \u001b[A"
          ]
        },
        {
          "output_type": "stream",
          "name": "stdout",
          "text": [
            "[08:55:28.589394] Processing image: img_530.tif\n"
          ]
        },
        {
          "output_type": "stream",
          "name": "stderr",
          "text": [
            "\n",
            "  0%|          | 0/1 [00:00<?, ?it/s]\u001b[A\n",
            "                                     \u001b[A"
          ]
        },
        {
          "output_type": "stream",
          "name": "stdout",
          "text": [
            "[08:55:28.624022] Processing image: img_551.tif\n"
          ]
        },
        {
          "output_type": "stream",
          "name": "stderr",
          "text": [
            "\n",
            "  0%|          | 0/1 [00:00<?, ?it/s]\u001b[A\n",
            "                                     \u001b[A"
          ]
        },
        {
          "output_type": "stream",
          "name": "stdout",
          "text": [
            "[08:55:28.661563] Processing image: img_571.tif\n"
          ]
        },
        {
          "output_type": "stream",
          "name": "stderr",
          "text": [
            "\n",
            "  0%|          | 0/1 [00:00<?, ?it/s]\u001b[A\n",
            " 81%|████████▏ | 497/610 [00:19<00:03, 30.44it/s]"
          ]
        },
        {
          "output_type": "stream",
          "name": "stdout",
          "text": [
            "[08:55:28.699900] Processing image: img_582.tif\n"
          ]
        },
        {
          "output_type": "stream",
          "name": "stderr",
          "text": [
            "\n",
            "  0%|          | 0/1 [00:00<?, ?it/s]\u001b[A\n",
            "                                     \u001b[A"
          ]
        },
        {
          "output_type": "stream",
          "name": "stdout",
          "text": [
            "[08:55:28.736061] Processing image: img_599.tif\n"
          ]
        },
        {
          "output_type": "stream",
          "name": "stderr",
          "text": [
            "\n",
            "  0%|          | 0/1 [00:00<?, ?it/s]\u001b[A\n",
            "                                     \u001b[A"
          ]
        },
        {
          "output_type": "stream",
          "name": "stdout",
          "text": [
            "[08:55:28.777418] Processing image: img_005.tif\n"
          ]
        },
        {
          "output_type": "stream",
          "name": "stderr",
          "text": [
            "\n",
            "  0%|          | 0/1 [00:00<?, ?it/s]\u001b[A\n",
            "                                     \u001b[A"
          ]
        },
        {
          "output_type": "stream",
          "name": "stdout",
          "text": [
            "[08:55:28.822282] Processing image: img_028.tif\n"
          ]
        },
        {
          "output_type": "stream",
          "name": "stderr",
          "text": [
            "\n",
            "  0%|          | 0/1 [00:00<?, ?it/s]\u001b[A\n",
            " 82%|████████▏ | 501/610 [00:19<00:03, 27.88it/s]"
          ]
        },
        {
          "output_type": "stream",
          "name": "stdout",
          "text": [
            "[08:55:28.875093] Processing image: img_037.tif\n"
          ]
        },
        {
          "output_type": "stream",
          "name": "stderr",
          "text": [
            "\n",
            "  0%|          | 0/1 [00:00<?, ?it/s]\u001b[A\n",
            "                                     \u001b[A"
          ]
        },
        {
          "output_type": "stream",
          "name": "stdout",
          "text": [
            "[08:55:28.914468] Processing image: img_068.tif\n"
          ]
        },
        {
          "output_type": "stream",
          "name": "stderr",
          "text": [
            "\n",
            "  0%|          | 0/1 [00:00<?, ?it/s]\u001b[A\n",
            "                                     \u001b[A"
          ]
        },
        {
          "output_type": "stream",
          "name": "stdout",
          "text": [
            "[08:55:28.943637] Processing image: img_109.tif\n"
          ]
        },
        {
          "output_type": "stream",
          "name": "stderr",
          "text": [
            "\n",
            "  0%|          | 0/1 [00:00<?, ?it/s]\u001b[A\n",
            " 83%|████████▎ | 504/610 [00:20<00:03, 28.17it/s]"
          ]
        },
        {
          "output_type": "stream",
          "name": "stdout",
          "text": [
            "[08:55:28.971645] Processing image: img_136.tif\n"
          ]
        },
        {
          "output_type": "stream",
          "name": "stderr",
          "text": [
            "\n",
            "  0%|          | 0/1 [00:00<?, ?it/s]\u001b[A\n",
            "                                     \u001b[A"
          ]
        },
        {
          "output_type": "stream",
          "name": "stdout",
          "text": [
            "[08:55:28.997471] Processing image: img_149.tif\n"
          ]
        },
        {
          "output_type": "stream",
          "name": "stderr",
          "text": [
            "\n",
            "  0%|          | 0/1 [00:00<?, ?it/s]\u001b[A\n",
            "                                     \u001b[A"
          ]
        },
        {
          "output_type": "stream",
          "name": "stdout",
          "text": [
            "[08:55:29.023326] Processing image: img_247.tif\n"
          ]
        },
        {
          "output_type": "stream",
          "name": "stderr",
          "text": [
            "\n",
            "  0%|          | 0/1 [00:00<?, ?it/s]\u001b[A\n",
            "                                     \u001b[A"
          ]
        },
        {
          "output_type": "stream",
          "name": "stdout",
          "text": [
            "[08:55:29.054227] Processing image: img_271.tif\n"
          ]
        },
        {
          "output_type": "stream",
          "name": "stderr",
          "text": [
            "\n",
            "  0%|          | 0/1 [00:00<?, ?it/s]\u001b[A\n",
            " 83%|████████▎ | 508/610 [00:20<00:03, 29.84it/s]"
          ]
        },
        {
          "output_type": "stream",
          "name": "stdout",
          "text": [
            "[08:55:29.092355] Processing image: img_295.tif\n"
          ]
        },
        {
          "output_type": "stream",
          "name": "stderr",
          "text": [
            "\n",
            "  0%|          | 0/1 [00:00<?, ?it/s]\u001b[A\n",
            "                                     \u001b[A"
          ]
        },
        {
          "output_type": "stream",
          "name": "stdout",
          "text": [
            "[08:55:29.124988] Processing image: img_315.tif\n"
          ]
        },
        {
          "output_type": "stream",
          "name": "stderr",
          "text": [
            "\n",
            "  0%|          | 0/1 [00:00<?, ?it/s]\u001b[A\n",
            "                                     \u001b[A"
          ]
        },
        {
          "output_type": "stream",
          "name": "stdout",
          "text": [
            "[08:55:29.153292] Processing image: img_370.tif\n"
          ]
        },
        {
          "output_type": "stream",
          "name": "stderr",
          "text": [
            "\n",
            "  0%|          | 0/1 [00:00<?, ?it/s]\u001b[A\n",
            "                                     \u001b[A"
          ]
        },
        {
          "output_type": "stream",
          "name": "stdout",
          "text": [
            "[08:55:29.188113] Processing image: img_446.tif\n"
          ]
        },
        {
          "output_type": "stream",
          "name": "stderr",
          "text": [
            "\n",
            "  0%|          | 0/1 [00:00<?, ?it/s]\u001b[A\n",
            " 84%|████████▍ | 512/610 [00:20<00:03, 29.75it/s]"
          ]
        },
        {
          "output_type": "stream",
          "name": "stdout",
          "text": [
            "[08:55:29.226074] Processing image: img_453.tif\n"
          ]
        },
        {
          "output_type": "stream",
          "name": "stderr",
          "text": [
            "\n",
            "  0%|          | 0/1 [00:00<?, ?it/s]\u001b[A\n",
            "                                     \u001b[A"
          ]
        },
        {
          "output_type": "stream",
          "name": "stdout",
          "text": [
            "[08:55:29.260866] Processing image: img_483.tif\n"
          ]
        },
        {
          "output_type": "stream",
          "name": "stderr",
          "text": [
            "\n",
            "  0%|          | 0/1 [00:00<?, ?it/s]\u001b[A\n",
            "                                     \u001b[A"
          ]
        },
        {
          "output_type": "stream",
          "name": "stdout",
          "text": [
            "[08:55:29.294303] Processing image: img_510.tif\n"
          ]
        },
        {
          "output_type": "stream",
          "name": "stderr",
          "text": [
            "\n",
            "  0%|          | 0/1 [00:00<?, ?it/s]\u001b[A\n",
            "                                     \u001b[A"
          ]
        },
        {
          "output_type": "stream",
          "name": "stdout",
          "text": [
            "[08:55:29.331097] Processing image: img_529.tif\n"
          ]
        },
        {
          "output_type": "stream",
          "name": "stderr",
          "text": [
            "\n",
            "  0%|          | 0/1 [00:00<?, ?it/s]\u001b[A\n",
            " 85%|████████▍ | 516/610 [00:20<00:03, 29.47it/s]"
          ]
        },
        {
          "output_type": "stream",
          "name": "stdout",
          "text": [
            "[08:55:29.362822] Processing image: img_561.tif\n"
          ]
        },
        {
          "output_type": "stream",
          "name": "stderr",
          "text": [
            "\n",
            "  0%|          | 0/1 [00:00<?, ?it/s]\u001b[A\n",
            "                                     \u001b[A"
          ]
        },
        {
          "output_type": "stream",
          "name": "stdout",
          "text": [
            "[08:55:29.400623] Processing image: img_566.tif\n"
          ]
        },
        {
          "output_type": "stream",
          "name": "stderr",
          "text": [
            "\n",
            "  0%|          | 0/1 [00:00<?, ?it/s]\u001b[A\n",
            "                                     \u001b[A"
          ]
        },
        {
          "output_type": "stream",
          "name": "stdout",
          "text": [
            "[08:55:29.437862] Processing image: img_592.tif\n"
          ]
        },
        {
          "output_type": "stream",
          "name": "stderr",
          "text": [
            "\n",
            "  0%|          | 0/1 [00:00<?, ?it/s]\u001b[A\n",
            " 85%|████████▌ | 519/610 [00:20<00:03, 28.97it/s]"
          ]
        },
        {
          "output_type": "stream",
          "name": "stdout",
          "text": [
            "[08:55:29.473235] Processing image: img_605.tif\n"
          ]
        },
        {
          "output_type": "stream",
          "name": "stderr",
          "text": [
            "\n",
            "  0%|          | 0/1 [00:00<?, ?it/s]\u001b[A\n",
            "                                     \u001b[A"
          ]
        },
        {
          "output_type": "stream",
          "name": "stdout",
          "text": [
            "[08:55:29.499925] Processing image: img_013.tif\n"
          ]
        },
        {
          "output_type": "stream",
          "name": "stderr",
          "text": [
            "\n",
            "  0%|          | 0/1 [00:00<?, ?it/s]\u001b[A\n",
            "                                     \u001b[A"
          ]
        },
        {
          "output_type": "stream",
          "name": "stdout",
          "text": [
            "[08:55:29.531193] Processing image: img_024.tif\n"
          ]
        },
        {
          "output_type": "stream",
          "name": "stderr",
          "text": [
            "\n",
            "  0%|          | 0/1 [00:00<?, ?it/s]\u001b[A\n",
            "                                     \u001b[A"
          ]
        },
        {
          "output_type": "stream",
          "name": "stdout",
          "text": [
            "[08:55:29.556781] Processing image: img_036.tif\n"
          ]
        },
        {
          "output_type": "stream",
          "name": "stderr",
          "text": [
            "\n",
            "  0%|          | 0/1 [00:00<?, ?it/s]\u001b[A\n",
            " 86%|████████▌ | 523/610 [00:20<00:02, 30.74it/s]"
          ]
        },
        {
          "output_type": "stream",
          "name": "stdout",
          "text": [
            "[08:55:29.589286] Processing image: img_064.tif\n"
          ]
        },
        {
          "output_type": "stream",
          "name": "stderr",
          "text": [
            "\n",
            "  0%|          | 0/1 [00:00<?, ?it/s]\u001b[A\n",
            "                                     \u001b[A"
          ]
        },
        {
          "output_type": "stream",
          "name": "stdout",
          "text": [
            "[08:55:29.620495] Processing image: img_066.tif\n"
          ]
        },
        {
          "output_type": "stream",
          "name": "stderr",
          "text": [
            "\n",
            "  0%|          | 0/1 [00:00<?, ?it/s]\u001b[A\n",
            "                                     \u001b[A"
          ]
        },
        {
          "output_type": "stream",
          "name": "stdout",
          "text": [
            "[08:55:29.643870] Processing image: img_075.tif\n"
          ]
        },
        {
          "output_type": "stream",
          "name": "stderr",
          "text": [
            "\n",
            "  0%|          | 0/1 [00:00<?, ?it/s]\u001b[A\n",
            "                                     \u001b[A"
          ]
        },
        {
          "output_type": "stream",
          "name": "stdout",
          "text": [
            "[08:55:29.670869] Processing image: img_079.tif\n"
          ]
        },
        {
          "output_type": "stream",
          "name": "stderr",
          "text": [
            "\n",
            "  0%|          | 0/1 [00:00<?, ?it/s]\u001b[A\n",
            " 86%|████████▋ | 527/610 [00:20<00:02, 31.66it/s]"
          ]
        },
        {
          "output_type": "stream",
          "name": "stdout",
          "text": [
            "[08:55:29.700951] Processing image: img_111.tif\n"
          ]
        },
        {
          "output_type": "stream",
          "name": "stderr",
          "text": [
            "\n",
            "  0%|          | 0/1 [00:00<?, ?it/s]\u001b[A\n",
            "                                     \u001b[A"
          ]
        },
        {
          "output_type": "stream",
          "name": "stdout",
          "text": [
            "[08:55:29.741058] Processing image: img_140.tif\n"
          ]
        },
        {
          "output_type": "stream",
          "name": "stderr",
          "text": [
            "\n",
            "  0%|          | 0/1 [00:00<?, ?it/s]\u001b[A\n",
            "                                     \u001b[A"
          ]
        },
        {
          "output_type": "stream",
          "name": "stdout",
          "text": [
            "[08:55:29.789767] Processing image: img_158.tif\n"
          ]
        },
        {
          "output_type": "stream",
          "name": "stderr",
          "text": [
            "\n",
            "  0%|          | 0/1 [00:00<?, ?it/s]\u001b[A\n",
            "                                     \u001b[A"
          ]
        },
        {
          "output_type": "stream",
          "name": "stdout",
          "text": [
            "[08:55:29.818274] Processing image: img_182.tif\n"
          ]
        },
        {
          "output_type": "stream",
          "name": "stderr",
          "text": [
            "\n",
            "  0%|          | 0/1 [00:00<?, ?it/s]\u001b[A\n",
            " 87%|████████▋ | 531/610 [00:20<00:02, 30.25it/s]"
          ]
        },
        {
          "output_type": "stream",
          "name": "stdout",
          "text": [
            "[08:55:29.848117] Processing image: img_260.tif\n"
          ]
        },
        {
          "output_type": "stream",
          "name": "stderr",
          "text": [
            "\n",
            "  0%|          | 0/1 [00:00<?, ?it/s]\u001b[A\n",
            "                                     \u001b[A"
          ]
        },
        {
          "output_type": "stream",
          "name": "stdout",
          "text": [
            "[08:55:29.874606] Processing image: img_276.tif\n"
          ]
        },
        {
          "output_type": "stream",
          "name": "stderr",
          "text": [
            "\n",
            "  0%|          | 0/1 [00:00<?, ?it/s]\u001b[A\n",
            "                                     \u001b[A"
          ]
        },
        {
          "output_type": "stream",
          "name": "stdout",
          "text": [
            "[08:55:29.908195] Processing image: img_286.tif\n"
          ]
        },
        {
          "output_type": "stream",
          "name": "stderr",
          "text": [
            "\n",
            "  0%|          | 0/1 [00:00<?, ?it/s]\u001b[A\n",
            "                                     \u001b[A"
          ]
        },
        {
          "output_type": "stream",
          "name": "stdout",
          "text": [
            "[08:55:29.936634] Processing image: img_331.tif\n"
          ]
        },
        {
          "output_type": "stream",
          "name": "stderr",
          "text": [
            "\n",
            "  0%|          | 0/1 [00:00<?, ?it/s]\u001b[A\n",
            " 88%|████████▊ | 535/610 [00:21<00:02, 31.56it/s]"
          ]
        },
        {
          "output_type": "stream",
          "name": "stdout",
          "text": [
            "[08:55:29.963839] Processing image: img_352.tif\n"
          ]
        },
        {
          "output_type": "stream",
          "name": "stderr",
          "text": [
            "\n",
            "  0%|          | 0/1 [00:00<?, ?it/s]\u001b[A\n",
            "                                     \u001b[A"
          ]
        },
        {
          "output_type": "stream",
          "name": "stdout",
          "text": [
            "[08:55:29.992825] Processing image: img_404.tif\n"
          ]
        },
        {
          "output_type": "stream",
          "name": "stderr",
          "text": [
            "\n",
            "  0%|          | 0/1 [00:00<?, ?it/s]\u001b[A\n",
            "                                     \u001b[A"
          ]
        },
        {
          "output_type": "stream",
          "name": "stdout",
          "text": [
            "[08:55:30.018592] Processing image: img_481.tif\n"
          ]
        },
        {
          "output_type": "stream",
          "name": "stderr",
          "text": [
            "\n",
            "  0%|          | 0/1 [00:00<?, ?it/s]\u001b[A\n",
            "                                     \u001b[A"
          ]
        },
        {
          "output_type": "stream",
          "name": "stdout",
          "text": [
            "[08:55:30.051192] Processing image: img_588.tif\n"
          ]
        },
        {
          "output_type": "stream",
          "name": "stderr",
          "text": [
            "\n",
            "  0%|          | 0/1 [00:00<?, ?it/s]\u001b[A\n",
            " 88%|████████▊ | 539/610 [00:21<00:02, 31.97it/s]"
          ]
        },
        {
          "output_type": "stream",
          "name": "stdout",
          "text": [
            "[08:55:30.083508] Processing image: img_590.tif\n"
          ]
        },
        {
          "output_type": "stream",
          "name": "stderr",
          "text": [
            "\n",
            "  0%|          | 0/1 [00:00<?, ?it/s]\u001b[A\n",
            "                                     \u001b[A"
          ]
        },
        {
          "output_type": "stream",
          "name": "stdout",
          "text": [
            "[08:55:30.115490] Processing image: img_600.tif\n"
          ]
        },
        {
          "output_type": "stream",
          "name": "stderr",
          "text": [
            "\n",
            "  0%|          | 0/1 [00:00<?, ?it/s]\u001b[A\n",
            "                                     \u001b[A"
          ]
        },
        {
          "output_type": "stream",
          "name": "stdout",
          "text": [
            "[08:55:30.142725] Processing image: img_004.tif\n"
          ]
        },
        {
          "output_type": "stream",
          "name": "stderr",
          "text": [
            "\n",
            "  0%|          | 0/1 [00:00<?, ?it/s]\u001b[A\n",
            "                                     \u001b[A"
          ]
        },
        {
          "output_type": "stream",
          "name": "stdout",
          "text": [
            "[08:55:30.168952] Processing image: img_020.tif\n"
          ]
        },
        {
          "output_type": "stream",
          "name": "stderr",
          "text": [
            "\n",
            "  0%|          | 0/1 [00:00<?, ?it/s]\u001b[A\n",
            " 89%|████████▉ | 543/610 [00:21<00:02, 32.87it/s]"
          ]
        },
        {
          "output_type": "stream",
          "name": "stdout",
          "text": [
            "[08:55:30.196635] Processing image: img_022.tif\n"
          ]
        },
        {
          "output_type": "stream",
          "name": "stderr",
          "text": [
            "\n",
            "  0%|          | 0/1 [00:00<?, ?it/s]\u001b[A\n",
            "                                     \u001b[A"
          ]
        },
        {
          "output_type": "stream",
          "name": "stdout",
          "text": [
            "[08:55:30.217997] Processing image: img_025.tif\n"
          ]
        },
        {
          "output_type": "stream",
          "name": "stderr",
          "text": [
            "\n",
            "  0%|          | 0/1 [00:00<?, ?it/s]\u001b[A\n",
            "                                     \u001b[A"
          ]
        },
        {
          "output_type": "stream",
          "name": "stdout",
          "text": [
            "[08:55:30.255046] Processing image: img_052.tif\n"
          ]
        },
        {
          "output_type": "stream",
          "name": "stderr",
          "text": [
            "\n",
            "  0%|          | 0/1 [00:00<?, ?it/s]\u001b[A\n",
            "                                     \u001b[A"
          ]
        },
        {
          "output_type": "stream",
          "name": "stdout",
          "text": [
            "[08:55:30.282493] Processing image: img_059.tif\n"
          ]
        },
        {
          "output_type": "stream",
          "name": "stderr",
          "text": [
            "\n",
            "  0%|          | 0/1 [00:00<?, ?it/s]\u001b[A\n",
            " 90%|████████▉ | 547/610 [00:21<00:01, 33.78it/s]"
          ]
        },
        {
          "output_type": "stream",
          "name": "stdout",
          "text": [
            "[08:55:30.308597] Processing image: img_063.tif\n"
          ]
        },
        {
          "output_type": "stream",
          "name": "stderr",
          "text": [
            "\n",
            "  0%|          | 0/1 [00:00<?, ?it/s]\u001b[A\n",
            "                                     \u001b[A"
          ]
        },
        {
          "output_type": "stream",
          "name": "stdout",
          "text": [
            "[08:55:30.338957] Processing image: img_072.tif\n"
          ]
        },
        {
          "output_type": "stream",
          "name": "stderr",
          "text": [
            "\n",
            "  0%|          | 0/1 [00:00<?, ?it/s]\u001b[A\n",
            "                                     \u001b[A"
          ]
        },
        {
          "output_type": "stream",
          "name": "stdout",
          "text": [
            "[08:55:30.366702] Processing image: img_077.tif\n"
          ]
        },
        {
          "output_type": "stream",
          "name": "stderr",
          "text": [
            "\n",
            "  0%|          | 0/1 [00:00<?, ?it/s]\u001b[A\n",
            "                                     \u001b[A"
          ]
        },
        {
          "output_type": "stream",
          "name": "stdout",
          "text": [
            "[08:55:30.395701] Processing image: img_083.tif\n"
          ]
        },
        {
          "output_type": "stream",
          "name": "stderr",
          "text": [
            "\n",
            "  0%|          | 0/1 [00:00<?, ?it/s]\u001b[A\n",
            " 90%|█████████ | 551/610 [00:21<00:01, 33.72it/s]"
          ]
        },
        {
          "output_type": "stream",
          "name": "stdout",
          "text": [
            "[08:55:30.426900] Processing image: img_124.tif\n"
          ]
        },
        {
          "output_type": "stream",
          "name": "stderr",
          "text": [
            "\n",
            "  0%|          | 0/1 [00:00<?, ?it/s]\u001b[A\n",
            "                                     \u001b[A"
          ]
        },
        {
          "output_type": "stream",
          "name": "stdout",
          "text": [
            "[08:55:30.456812] Processing image: img_125.tif\n"
          ]
        },
        {
          "output_type": "stream",
          "name": "stderr",
          "text": [
            "\n",
            "  0%|          | 0/1 [00:00<?, ?it/s]\u001b[A\n",
            "                                     \u001b[A"
          ]
        },
        {
          "output_type": "stream",
          "name": "stdout",
          "text": [
            "[08:55:30.483272] Processing image: img_132.tif\n"
          ]
        },
        {
          "output_type": "stream",
          "name": "stderr",
          "text": [
            "\n",
            "  0%|          | 0/1 [00:00<?, ?it/s]\u001b[A\n",
            "                                     \u001b[A"
          ]
        },
        {
          "output_type": "stream",
          "name": "stdout",
          "text": [
            "[08:55:30.508588] Processing image: img_146.tif\n"
          ]
        },
        {
          "output_type": "stream",
          "name": "stderr",
          "text": [
            "\n",
            "  0%|          | 0/1 [00:00<?, ?it/s]\u001b[A\n",
            " 91%|█████████ | 555/610 [00:21<00:01, 34.30it/s]"
          ]
        },
        {
          "output_type": "stream",
          "name": "stdout",
          "text": [
            "[08:55:30.537560] Processing image: img_151.tif\n"
          ]
        },
        {
          "output_type": "stream",
          "name": "stderr",
          "text": [
            "\n",
            "  0%|          | 0/1 [00:00<?, ?it/s]\u001b[A\n",
            "                                     \u001b[A"
          ]
        },
        {
          "output_type": "stream",
          "name": "stdout",
          "text": [
            "[08:55:30.570997] Processing image: img_185.tif\n"
          ]
        },
        {
          "output_type": "stream",
          "name": "stderr",
          "text": [
            "\n",
            "  0%|          | 0/1 [00:00<?, ?it/s]\u001b[A\n",
            "                                     \u001b[A"
          ]
        },
        {
          "output_type": "stream",
          "name": "stdout",
          "text": [
            "[08:55:30.603201] Processing image: img_203.tif\n"
          ]
        },
        {
          "output_type": "stream",
          "name": "stderr",
          "text": [
            "\n",
            "  0%|          | 0/1 [00:00<?, ?it/s]\u001b[A\n",
            "                                     \u001b[A"
          ]
        },
        {
          "output_type": "stream",
          "name": "stdout",
          "text": [
            "[08:55:30.632149] Processing image: img_207.tif\n"
          ]
        },
        {
          "output_type": "stream",
          "name": "stderr",
          "text": [
            "\n",
            "  0%|          | 0/1 [00:00<?, ?it/s]\u001b[A\n",
            " 92%|█████████▏| 559/610 [00:21<00:01, 34.09it/s]"
          ]
        },
        {
          "output_type": "stream",
          "name": "stdout",
          "text": [
            "[08:55:30.665374] Processing image: img_211.tif\n"
          ]
        },
        {
          "output_type": "stream",
          "name": "stderr",
          "text": [
            "\n",
            "  0%|          | 0/1 [00:00<?, ?it/s]\u001b[A\n",
            "                                     \u001b[A"
          ]
        },
        {
          "output_type": "stream",
          "name": "stdout",
          "text": [
            "[08:55:30.700405] Processing image: img_213.tif\n"
          ]
        },
        {
          "output_type": "stream",
          "name": "stderr",
          "text": [
            "\n",
            "  0%|          | 0/1 [00:00<?, ?it/s]\u001b[A\n",
            "                                     \u001b[A"
          ]
        },
        {
          "output_type": "stream",
          "name": "stdout",
          "text": [
            "[08:55:30.736965] Processing image: img_215.tif\n"
          ]
        },
        {
          "output_type": "stream",
          "name": "stderr",
          "text": [
            "\n",
            "  0%|          | 0/1 [00:00<?, ?it/s]\u001b[A\n",
            "                                     \u001b[A"
          ]
        },
        {
          "output_type": "stream",
          "name": "stdout",
          "text": [
            "[08:55:30.767783] Processing image: img_224.tif\n"
          ]
        },
        {
          "output_type": "stream",
          "name": "stderr",
          "text": [
            "\n",
            "  0%|          | 0/1 [00:00<?, ?it/s]\u001b[A\n",
            " 92%|█████████▏| 563/610 [00:21<00:01, 32.45it/s]"
          ]
        },
        {
          "output_type": "stream",
          "name": "stdout",
          "text": [
            "[08:55:30.793434] Processing image: img_253.tif\n"
          ]
        },
        {
          "output_type": "stream",
          "name": "stderr",
          "text": [
            "\n",
            "  0%|          | 0/1 [00:00<?, ?it/s]\u001b[A\n",
            "                                     \u001b[A"
          ]
        },
        {
          "output_type": "stream",
          "name": "stdout",
          "text": [
            "[08:55:30.824593] Processing image: img_268.tif\n"
          ]
        },
        {
          "output_type": "stream",
          "name": "stderr",
          "text": [
            "\n",
            "  0%|          | 0/1 [00:00<?, ?it/s]\u001b[A\n",
            "                                     \u001b[A"
          ]
        },
        {
          "output_type": "stream",
          "name": "stdout",
          "text": [
            "[08:55:30.856277] Processing image: img_269.tif\n"
          ]
        },
        {
          "output_type": "stream",
          "name": "stderr",
          "text": [
            "\n",
            "  0%|          | 0/1 [00:00<?, ?it/s]\u001b[A\n",
            "                                     \u001b[A"
          ]
        },
        {
          "output_type": "stream",
          "name": "stdout",
          "text": [
            "[08:55:30.885977] Processing image: img_294.tif\n"
          ]
        },
        {
          "output_type": "stream",
          "name": "stderr",
          "text": [
            "\n",
            "  0%|          | 0/1 [00:00<?, ?it/s]\u001b[A\n",
            " 93%|█████████▎| 567/610 [00:21<00:01, 32.44it/s]"
          ]
        },
        {
          "output_type": "stream",
          "name": "stdout",
          "text": [
            "[08:55:30.918873] Processing image: img_296.tif\n"
          ]
        },
        {
          "output_type": "stream",
          "name": "stderr",
          "text": [
            "\n",
            "  0%|          | 0/1 [00:00<?, ?it/s]\u001b[A\n",
            "                                     \u001b[A"
          ]
        },
        {
          "output_type": "stream",
          "name": "stdout",
          "text": [
            "[08:55:30.944188] Processing image: img_302.tif\n"
          ]
        },
        {
          "output_type": "stream",
          "name": "stderr",
          "text": [
            "\n",
            "  0%|          | 0/1 [00:00<?, ?it/s]\u001b[A\n",
            "                                     \u001b[A"
          ]
        },
        {
          "output_type": "stream",
          "name": "stdout",
          "text": [
            "[08:55:30.977573] Processing image: img_303.tif\n"
          ]
        },
        {
          "output_type": "stream",
          "name": "stderr",
          "text": [
            "\n",
            "  0%|          | 0/1 [00:00<?, ?it/s]\u001b[A\n",
            "                                     \u001b[A"
          ]
        },
        {
          "output_type": "stream",
          "name": "stdout",
          "text": [
            "[08:55:31.005555] Processing image: img_325.tif\n"
          ]
        },
        {
          "output_type": "stream",
          "name": "stderr",
          "text": [
            "\n",
            "  0%|          | 0/1 [00:00<?, ?it/s]\u001b[A\n",
            " 94%|█████████▎| 571/610 [00:22<00:01, 33.08it/s]"
          ]
        },
        {
          "output_type": "stream",
          "name": "stdout",
          "text": [
            "[08:55:31.034951] Processing image: img_327.tif\n"
          ]
        },
        {
          "output_type": "stream",
          "name": "stderr",
          "text": [
            "\n",
            "  0%|          | 0/1 [00:00<?, ?it/s]\u001b[A\n",
            "                                     \u001b[A"
          ]
        },
        {
          "output_type": "stream",
          "name": "stdout",
          "text": [
            "[08:55:31.071551] Processing image: img_330.tif\n"
          ]
        },
        {
          "output_type": "stream",
          "name": "stderr",
          "text": [
            "\n",
            "  0%|          | 0/1 [00:00<?, ?it/s]\u001b[A\n",
            "                                     \u001b[A"
          ]
        },
        {
          "output_type": "stream",
          "name": "stdout",
          "text": [
            "[08:55:31.097905] Processing image: img_357.tif\n"
          ]
        },
        {
          "output_type": "stream",
          "name": "stderr",
          "text": [
            "\n",
            "  0%|          | 0/1 [00:00<?, ?it/s]\u001b[A\n",
            "                                     \u001b[A"
          ]
        },
        {
          "output_type": "stream",
          "name": "stdout",
          "text": [
            "[08:55:31.124621] Processing image: img_361.tif\n"
          ]
        },
        {
          "output_type": "stream",
          "name": "stderr",
          "text": [
            "\n",
            "  0%|          | 0/1 [00:00<?, ?it/s]\u001b[A\n",
            " 94%|█████████▍| 575/610 [00:22<00:01, 33.17it/s]"
          ]
        },
        {
          "output_type": "stream",
          "name": "stdout",
          "text": [
            "[08:55:31.155828] Processing image: img_369.tif\n"
          ]
        },
        {
          "output_type": "stream",
          "name": "stderr",
          "text": [
            "\n",
            "  0%|          | 0/1 [00:00<?, ?it/s]\u001b[A\n",
            "                                     \u001b[A"
          ]
        },
        {
          "output_type": "stream",
          "name": "stdout",
          "text": [
            "[08:55:31.180340] Processing image: img_380.tif\n"
          ]
        },
        {
          "output_type": "stream",
          "name": "stderr",
          "text": [
            "\n",
            "  0%|          | 0/1 [00:00<?, ?it/s]\u001b[A\n",
            "                                     \u001b[A"
          ]
        },
        {
          "output_type": "stream",
          "name": "stdout",
          "text": [
            "[08:55:31.212746] Processing image: img_395.tif\n"
          ]
        },
        {
          "output_type": "stream",
          "name": "stderr",
          "text": [
            "\n",
            "  0%|          | 0/1 [00:00<?, ?it/s]\u001b[A\n",
            "                                     \u001b[A"
          ]
        },
        {
          "output_type": "stream",
          "name": "stdout",
          "text": [
            "[08:55:31.242642] Processing image: img_397.tif\n"
          ]
        },
        {
          "output_type": "stream",
          "name": "stderr",
          "text": [
            "\n",
            "  0%|          | 0/1 [00:00<?, ?it/s]\u001b[A\n",
            " 95%|█████████▍| 579/610 [00:22<00:00, 32.95it/s]"
          ]
        },
        {
          "output_type": "stream",
          "name": "stdout",
          "text": [
            "[08:55:31.278670] Processing image: img_405.tif\n"
          ]
        },
        {
          "output_type": "stream",
          "name": "stderr",
          "text": [
            "\n",
            "  0%|          | 0/1 [00:00<?, ?it/s]\u001b[A\n",
            "                                     \u001b[A"
          ]
        },
        {
          "output_type": "stream",
          "name": "stdout",
          "text": [
            "[08:55:31.316428] Processing image: img_414.tif\n"
          ]
        },
        {
          "output_type": "stream",
          "name": "stderr",
          "text": [
            "\n",
            "  0%|          | 0/1 [00:00<?, ?it/s]\u001b[A\n",
            "                                     \u001b[A"
          ]
        },
        {
          "output_type": "stream",
          "name": "stdout",
          "text": [
            "[08:55:31.351288] Processing image: img_423.tif\n"
          ]
        },
        {
          "output_type": "stream",
          "name": "stderr",
          "text": [
            "\n",
            "  0%|          | 0/1 [00:00<?, ?it/s]\u001b[A\n",
            "                                     \u001b[A"
          ]
        },
        {
          "output_type": "stream",
          "name": "stdout",
          "text": [
            "[08:55:31.378986] Processing image: img_427.tif\n"
          ]
        },
        {
          "output_type": "stream",
          "name": "stderr",
          "text": [
            "\n",
            "  0%|          | 0/1 [00:00<?, ?it/s]\u001b[A\n",
            " 96%|█████████▌| 583/610 [00:22<00:00, 31.72it/s]"
          ]
        },
        {
          "output_type": "stream",
          "name": "stdout",
          "text": [
            "[08:55:31.411152] Processing image: img_435.tif\n"
          ]
        },
        {
          "output_type": "stream",
          "name": "stderr",
          "text": [
            "\n",
            "  0%|          | 0/1 [00:00<?, ?it/s]\u001b[A\n",
            "                                     \u001b[A"
          ]
        },
        {
          "output_type": "stream",
          "name": "stdout",
          "text": [
            "[08:55:31.437876] Processing image: img_437.tif\n"
          ]
        },
        {
          "output_type": "stream",
          "name": "stderr",
          "text": [
            "\n",
            "  0%|          | 0/1 [00:00<?, ?it/s]\u001b[A\n",
            "                                     \u001b[A"
          ]
        },
        {
          "output_type": "stream",
          "name": "stdout",
          "text": [
            "[08:55:31.465143] Processing image: img_455.tif\n"
          ]
        },
        {
          "output_type": "stream",
          "name": "stderr",
          "text": [
            "\n",
            "  0%|          | 0/1 [00:00<?, ?it/s]\u001b[A\n",
            "                                     \u001b[A"
          ]
        },
        {
          "output_type": "stream",
          "name": "stdout",
          "text": [
            "[08:55:31.492818] Processing image: img_464.tif\n"
          ]
        },
        {
          "output_type": "stream",
          "name": "stderr",
          "text": [
            "\n",
            "  0%|          | 0/1 [00:00<?, ?it/s]\u001b[A\n",
            " 96%|█████████▌| 587/610 [00:22<00:00, 32.90it/s]"
          ]
        },
        {
          "output_type": "stream",
          "name": "stdout",
          "text": [
            "[08:55:31.522825] Processing image: img_485.tif\n"
          ]
        },
        {
          "output_type": "stream",
          "name": "stderr",
          "text": [
            "\n",
            "  0%|          | 0/1 [00:00<?, ?it/s]\u001b[A\n",
            "                                     \u001b[A"
          ]
        },
        {
          "output_type": "stream",
          "name": "stdout",
          "text": [
            "[08:55:31.549362] Processing image: img_487.tif\n"
          ]
        },
        {
          "output_type": "stream",
          "name": "stderr",
          "text": [
            "\n",
            "  0%|          | 0/1 [00:00<?, ?it/s]\u001b[A\n",
            "                                     \u001b[A"
          ]
        },
        {
          "output_type": "stream",
          "name": "stdout",
          "text": [
            "[08:55:31.576806] Processing image: img_489.tif\n"
          ]
        },
        {
          "output_type": "stream",
          "name": "stderr",
          "text": [
            "\n",
            "  0%|          | 0/1 [00:00<?, ?it/s]\u001b[A\n",
            "                                     \u001b[A"
          ]
        },
        {
          "output_type": "stream",
          "name": "stdout",
          "text": [
            "[08:55:31.601439] Processing image: img_495.tif\n"
          ]
        },
        {
          "output_type": "stream",
          "name": "stderr",
          "text": [
            "\n",
            "  0%|          | 0/1 [00:00<?, ?it/s]\u001b[A\n",
            " 97%|█████████▋| 591/610 [00:22<00:00, 34.07it/s]"
          ]
        },
        {
          "output_type": "stream",
          "name": "stdout",
          "text": [
            "[08:55:31.631786] Processing image: img_499.tif\n"
          ]
        },
        {
          "output_type": "stream",
          "name": "stderr",
          "text": [
            "\n",
            "  0%|          | 0/1 [00:00<?, ?it/s]\u001b[A\n",
            "                                     \u001b[A"
          ]
        },
        {
          "output_type": "stream",
          "name": "stdout",
          "text": [
            "[08:55:31.660266] Processing image: img_509.tif\n"
          ]
        },
        {
          "output_type": "stream",
          "name": "stderr",
          "text": [
            "\n",
            "  0%|          | 0/1 [00:00<?, ?it/s]\u001b[A\n",
            "                                     \u001b[A"
          ]
        },
        {
          "output_type": "stream",
          "name": "stdout",
          "text": [
            "[08:55:31.689827] Processing image: img_518.tif\n"
          ]
        },
        {
          "output_type": "stream",
          "name": "stderr",
          "text": [
            "\n",
            "  0%|          | 0/1 [00:00<?, ?it/s]\u001b[A\n",
            "                                     \u001b[A"
          ]
        },
        {
          "output_type": "stream",
          "name": "stdout",
          "text": [
            "[08:55:31.720417] Processing image: img_521.tif\n"
          ]
        },
        {
          "output_type": "stream",
          "name": "stderr",
          "text": [
            "\n",
            "  0%|          | 0/1 [00:00<?, ?it/s]\u001b[A\n",
            " 98%|█████████▊| 595/610 [00:22<00:00, 34.38it/s]"
          ]
        },
        {
          "output_type": "stream",
          "name": "stdout",
          "text": [
            "[08:55:31.752141] Processing image: img_538.tif\n"
          ]
        },
        {
          "output_type": "stream",
          "name": "stderr",
          "text": [
            "\n",
            "  0%|          | 0/1 [00:00<?, ?it/s]\u001b[A\n",
            "                                     \u001b[A"
          ]
        },
        {
          "output_type": "stream",
          "name": "stdout",
          "text": [
            "[08:55:31.782486] Processing image: img_539.tif\n"
          ]
        },
        {
          "output_type": "stream",
          "name": "stderr",
          "text": [
            "\n",
            "  0%|          | 0/1 [00:00<?, ?it/s]\u001b[A\n",
            "                                     \u001b[A"
          ]
        },
        {
          "output_type": "stream",
          "name": "stdout",
          "text": [
            "[08:55:31.819725] Processing image: img_544.tif\n"
          ]
        },
        {
          "output_type": "stream",
          "name": "stderr",
          "text": [
            "\n",
            "  0%|          | 0/1 [00:00<?, ?it/s]\u001b[A\n",
            "                                     \u001b[A"
          ]
        },
        {
          "output_type": "stream",
          "name": "stdout",
          "text": [
            "[08:55:31.864064] Processing image: img_545.tif\n"
          ]
        },
        {
          "output_type": "stream",
          "name": "stderr",
          "text": [
            "\n",
            "  0%|          | 0/1 [00:00<?, ?it/s]\u001b[A\n",
            " 98%|█████████▊| 599/610 [00:22<00:00, 31.82it/s]"
          ]
        },
        {
          "output_type": "stream",
          "name": "stdout",
          "text": [
            "[08:55:31.892471] Processing image: img_553.tif\n"
          ]
        },
        {
          "output_type": "stream",
          "name": "stderr",
          "text": [
            "\n",
            "  0%|          | 0/1 [00:00<?, ?it/s]\u001b[A\n",
            "                                     \u001b[A"
          ]
        },
        {
          "output_type": "stream",
          "name": "stdout",
          "text": [
            "[08:55:31.927004] Processing image: img_558.tif\n"
          ]
        },
        {
          "output_type": "stream",
          "name": "stderr",
          "text": [
            "\n",
            "  0%|          | 0/1 [00:00<?, ?it/s]\u001b[A\n",
            "                                     \u001b[A"
          ]
        },
        {
          "output_type": "stream",
          "name": "stdout",
          "text": [
            "[08:55:31.956275] Processing image: img_563.tif\n"
          ]
        },
        {
          "output_type": "stream",
          "name": "stderr",
          "text": [
            "\n",
            "  0%|          | 0/1 [00:00<?, ?it/s]\u001b[A\n",
            "                                     \u001b[A"
          ]
        },
        {
          "output_type": "stream",
          "name": "stdout",
          "text": [
            "[08:55:31.985728] Processing image: img_564.tif\n"
          ]
        },
        {
          "output_type": "stream",
          "name": "stderr",
          "text": [
            "\n",
            "  0%|          | 0/1 [00:00<?, ?it/s]\u001b[A\n",
            " 99%|█████████▉| 603/610 [00:23<00:00, 32.23it/s]"
          ]
        },
        {
          "output_type": "stream",
          "name": "stdout",
          "text": [
            "[08:55:32.013854] Processing image: img_574.tif\n"
          ]
        },
        {
          "output_type": "stream",
          "name": "stderr",
          "text": [
            "\n",
            "  0%|          | 0/1 [00:00<?, ?it/s]\u001b[A\n",
            "                                     \u001b[A"
          ]
        },
        {
          "output_type": "stream",
          "name": "stdout",
          "text": [
            "[08:55:32.044258] Processing image: img_576.tif\n"
          ]
        },
        {
          "output_type": "stream",
          "name": "stderr",
          "text": [
            "\n",
            "  0%|          | 0/1 [00:00<?, ?it/s]\u001b[A\n",
            "                                     \u001b[A"
          ]
        },
        {
          "output_type": "stream",
          "name": "stdout",
          "text": [
            "[08:55:32.071186] Processing image: img_577.tif\n"
          ]
        },
        {
          "output_type": "stream",
          "name": "stderr",
          "text": [
            "\n",
            "  0%|          | 0/1 [00:00<?, ?it/s]\u001b[A\n",
            "                                     \u001b[A"
          ]
        },
        {
          "output_type": "stream",
          "name": "stdout",
          "text": [
            "[08:55:32.094933] Processing image: img_585.tif\n"
          ]
        },
        {
          "output_type": "stream",
          "name": "stderr",
          "text": [
            "\n",
            "  0%|          | 0/1 [00:00<?, ?it/s]\u001b[A\n",
            "100%|█████████▉| 607/610 [00:23<00:00, 33.42it/s]"
          ]
        },
        {
          "output_type": "stream",
          "name": "stdout",
          "text": [
            "[08:55:32.121588] Processing image: img_587.tif\n"
          ]
        },
        {
          "output_type": "stream",
          "name": "stderr",
          "text": [
            "\n",
            "  0%|          | 0/1 [00:00<?, ?it/s]\u001b[A\n",
            "                                     \u001b[A"
          ]
        },
        {
          "output_type": "stream",
          "name": "stdout",
          "text": [
            "[08:55:32.146845] Processing image: img_589.tif\n"
          ]
        },
        {
          "output_type": "stream",
          "name": "stderr",
          "text": [
            "\n",
            "  0%|          | 0/1 [00:00<?, ?it/s]\u001b[A\n",
            "                                     \u001b[A"
          ]
        },
        {
          "output_type": "stream",
          "name": "stdout",
          "text": [
            "[08:55:32.171934] Processing image: img_603.tif\n"
          ]
        },
        {
          "output_type": "stream",
          "name": "stderr",
          "text": [
            "\n",
            "  0%|          | 0/1 [00:00<?, ?it/s]\u001b[A\n",
            "100%|██████████| 610/610 [00:23<00:00, 26.23it/s]\n"
          ]
        },
        {
          "output_type": "stream",
          "name": "stdout",
          "text": [
            "[08:55:32.192372] Releasing memory . . .\n",
            "[08:55:32.218937] #############\n",
            "[08:55:32.220079] #  RESULTS  #\n",
            "[08:55:32.221527] #############\n",
            "[08:55:32.222532] Epoch number: 10\n",
            "[08:55:32.223558] Train time (s): 0:02:20\n",
            "[08:55:32.224507] Train loss: 1.658557825401181\n",
            "[08:55:32.225524] Train Accuracy: 0.8975409836065574\n",
            "[08:55:32.225629] Train Top 5 accuracy: 0.9825819672131147\n",
            "[08:55:32.225669] Validation loss: 1.5616942530586606\n",
            "[08:55:32.225711] Validation Accuracy: 0.988095223903656\n",
            "[08:55:32.225746] Validation Top 5 accuracy: 1.0\n",
            "[08:55:32.225788] Test Accuracy: 0.8770491803278688\n",
            "[08:55:32.225822] Confusion matrix: \n",
            "[08:55:32.225852] [[68  0  0  0  1  0  0  0  0  0  0]\n",
            " [ 1 58  1  7  5  1  1  0  1  0  0]\n",
            " [ 0  0 65  0  1  1  3  0  0  0  0]\n",
            " [ 0  8  1 56  0  2  1  1  0  2  3]\n",
            " [ 0  0  0  2 52  4  2  0  0  0  0]\n",
            " [ 0  0  0  2  1 51  1  0  0  0  2]\n",
            " [ 0  2  2  0  2  3 57  0  0  0  0]\n",
            " [ 0  0  0  1  3  3  1 26  0  0  0]\n",
            " [ 0  0  0  0  0  0  0  0 20  0  0]\n",
            " [ 0  0  0  0  0  0  0  0  0 18  0]\n",
            " [ 0  0  0  1  0  0  0  1  0  1 64]]\n",
            "[08:55:32.252847] \n",
            "                 precision    recall  f1-score   support\n",
            "\n",
            " Category 0 (0)       0.99      0.99      0.99        69\n",
            " Category 1 (1)       0.77      0.85      0.81        68\n",
            "Category 2 (10)       0.93      0.94      0.94        69\n",
            " Category 3 (2)       0.76      0.81      0.78        69\n",
            " Category 4 (3)       0.87      0.80      0.83        65\n",
            " Category 5 (4)       0.89      0.78      0.84        65\n",
            " Category 6 (5)       0.86      0.86      0.86        66\n",
            " Category 7 (6)       0.76      0.93      0.84        28\n",
            " Category 8 (7)       1.00      0.95      0.98        21\n",
            " Category 9 (8)       1.00      0.86      0.92        21\n",
            "Category 10 (9)       0.96      0.93      0.94        69\n",
            "\n",
            "       accuracy                           0.88       610\n",
            "      macro avg       0.89      0.88      0.88       610\n",
            "   weighted avg       0.88      0.88      0.88       610\n",
            "\n",
            "[08:55:32.254074] FINISHED JOB my_3d_classification_1 !!\n"
          ]
        },
        {
          "output_type": "display_data",
          "data": {
            "text/plain": [
              "<Figure size 640x480 with 0 Axes>"
            ]
          },
          "metadata": {}
        }
      ],
      "source": [
        "#@markdown ##Play to train the model\n",
        "import os\n",
        "import errno\n",
        "\n",
        "os.chdir('/content/')\n",
        "\n",
        "job_name = model_name\n",
        "yaml_file = \"/content/\"+str(job_name)+\".yaml\"\n",
        "\n",
        "# remove previous configuration file if it exists with the same name\n",
        "if os.path.exists( yaml_file ):\n",
        "    os.remove( yaml_file )\n",
        "\n",
        "# remove template file it is exists\n",
        "template_file = '3d_classification.yaml'\n",
        "if os.path.exists( template_file ):\n",
        "    os.remove( template_file )\n",
        "\n",
        "# Download template file\n",
        "!wget https://raw.githubusercontent.com/BiaPyX/BiaPy/master/templates/classification/3d_classification.yaml &> /dev/null\n",
        "\n",
        "# Check folders before modifying the .yaml file\n",
        "if not os.path.exists(train_data_path):\n",
        "    raise FileNotFoundError(errno.ENOENT, os.strerror(errno.ENOENT), train_data_path)\n",
        "ids = sorted(next(os.walk(train_data_path))[1])\n",
        "if len(ids) == 0:\n",
        "    raise ValueError(\"No folders found in dir {}\".format(train_data_path))\n",
        "\n",
        "if not os.path.exists(val_data_path):\n",
        "    raise FileNotFoundError(errno.ENOENT, os.strerror(errno.ENOENT), val_data_path)\n",
        "ids = sorted(next(os.walk(val_data_path))[1])\n",
        "if len(ids) == 0:\n",
        "    raise ValueError(\"No folders found in dir {}\".format(val_data_path))\n",
        "\n",
        "if not os.path.exists(test_data_path):\n",
        "    raise FileNotFoundError(errno.ENOENT, os.strerror(errno.ENOENT), test_data_path)\n",
        "ids = sorted(next(os.walk(test_data_path))[1])\n",
        "if len(ids) == 0:\n",
        "    raise ValueError(\"No folders found in dir {}\".format(test_data_path))\n",
        "\n",
        "\n",
        "# open template configuration file\n",
        "import yaml\n",
        "with open( template_file, 'r') as stream:\n",
        "    try:\n",
        "        biapy_config = yaml.safe_load(stream)\n",
        "    except yaml.YAMLError as exc:\n",
        "        print(exc)\n",
        "\n",
        "# update paths to data\n",
        "biapy_config['DATA']['TRAIN']['PATH'] = train_data_path\n",
        "biapy_config['DATA']['VAL']['PATH'] = val_data_path\n",
        "biapy_config['DATA']['TEST']['PATH'] = test_data_path\n",
        "biapy_config['DATA']['TEST']['LOAD_GT'] = test_ground_truth\n",
        "\n",
        "# update data patch size\n",
        "biapy_config['DATA']['PATCH_SIZE'] = '('+str(patch_size)+', '+ str(patch_size)+', '+ str(patch_size)+', ' + str(input_channels)+')'\n",
        "# adjust test padding accordingly\n",
        "padding = patch_size // 8\n",
        "biapy_config['DATA']['TEST']['PADDING'] = '('+str(padding)+', '+ str(padding)+', '+str(padding)+')'\n",
        "\n",
        "# update training parameters\n",
        "biapy_config['DATA']['VAL']['FROM_TRAIN'] = validation_from_train\n",
        "biapy_config['DATA']['VAL']['SPLIT_TRAIN'] = percentage_validation/100.0\n",
        "biapy_config['TRAIN']['EPOCHS'] = number_of_epochs\n",
        "biapy_config['TRAIN']['PATIENCE'] = patience\n",
        "biapy_config['TRAIN']['BATCH_SIZE'] = batch_size\n",
        "biapy_config['TRAIN']['OPTIMIZER'] = optimizer\n",
        "biapy_config['TRAIN']['LR'] = initial_learning_rate\n",
        "\n",
        "\n",
        "# change source to build model - biapy, torchvision or bmz\n",
        "if changed_source:\n",
        "    if source.value == \"BiaPy\":\n",
        "        biapy_config['MODEL']['SOURCE'] = \"biapy\"\n",
        "    elif source.value == 'BioImage Model Zoo':\n",
        "        biapy_config['MODEL']['SOURCE'] = \"bmz\"\n",
        "        biapy_config['MODEL']['BMZ'] = {}\n",
        "        biapy_config['MODEL']['BMZ']['SOURCE_MODEL_DOI'] = bmz.value\n",
        "else:\n",
        "    biapy_config['MODEL']['SOURCE'] = \"biapy\"\n",
        "\n",
        "\n",
        "# Transcribe model architecture\n",
        "# Available models: \"simple_cnn\", \"EfficientNetB0\"\n",
        "architecture = \"simple_cnn\"\n",
        "if model_architecture == \"Simple CNN\":\n",
        "    architecture = 'simple_cnn'\n",
        "else:\n",
        "    architecture = 'ViT'\n",
        "\n",
        "biapy_config['MODEL']['N_CLASSES'] = number_of_classes\n",
        "biapy_config['MODEL']['ARCHITECTURE'] = architecture\n",
        "\n",
        "# Data augmentation\n",
        "if aggressive_data_augmentation == True:\n",
        "    biapy_config['AUGMENTOR']['DROPOUT'] = True\n",
        "    biapy_config['AUGMENTOR']['GRIDMASK'] = True\n",
        "    biapy_config['AUGMENTOR']['CUTBLUR'] = True\n",
        "    biapy_config['AUGMENTOR']['CUTNOISE'] = True\n",
        "    biapy_config['AUGMENTOR']['MOTION_BLUR'] = True\n",
        "    #biapy_config['AUGMENTOR']['ELASTIC'] = True\n",
        "    #biapy_config['AUGMENTOR']['CUTOUT'] = True\n",
        "    #biapy_config['AUGMENTOR']['BRIGHTNESS'] = True\n",
        "    #biapy_config['AUGMENTOR']['CONTRAST'] = True\n",
        "\n",
        "# learning rate scheduler\n",
        "if learning_rate_scheduler == 'One cycle':\n",
        "    biapy_config['TRAIN']['LR_SCHEDULER'] = {}\n",
        "    biapy_config['TRAIN']['LR_SCHEDULER']['NAME'] = 'onecycle'\n",
        "elif learning_rate_scheduler == 'Warm-up cosine decay':\n",
        "    biapy_config['TRAIN']['LR_SCHEDULER'] = {}\n",
        "    biapy_config['TRAIN']['LR_SCHEDULER']['NAME'] = 'warmupcosine'\n",
        "    biapy_config['TRAIN']['LR_SCHEDULER']['MIN_LR'] = 0.0\n",
        "    biapy_config['TRAIN']['LR_SCHEDULER']['WARMUP_COSINE_DECAY_EPOCHS'] = 0\n",
        "elif learning_rate_scheduler == 'Reduce on plateau':\n",
        "    biapy_config['TRAIN']['LR_SCHEDULER'] = {}\n",
        "    biapy_config['TRAIN']['LR_SCHEDULER']['NAME'] = 'reduceonplateau'\n",
        "    biapy_config['TRAIN']['LR_SCHEDULER']['REDUCEONPLATEAU_FACTOR'] = 0.5\n",
        "    biapy_config['TRAIN']['LR_SCHEDULER']['REDUCEONPLATEAU_PATIENCE'] = 5\n",
        "    biapy_config['TRAIN']['LR_SCHEDULER']['MIN_LR'] = 0.00001\n",
        "\n",
        "# update test parameters\n",
        "biapy_config['TEST']['AUGMENTATION'] = test_time_augmentation\n",
        "biapy_config['DATA']['TEST']['LOAD_GT'] = test_ground_truth\n",
        "biapy_config['TEST']['ENABLE'] = True\n",
        "\n",
        "# model weights\n",
        "if checkpoint_path != '':\n",
        "    biapy_config['PATHS'] = {}\n",
        "    biapy_config['PATHS']['CHECKPOINT_FILE'] = checkpoint_path\n",
        "    biapy_config['MODEL'] = {}\n",
        "    biapy_config['MODEL']['LOAD_CHECKPOINT'] = True\n",
        "\n",
        "\n",
        "# save file\n",
        "with open( yaml_file, 'w') as outfile:\n",
        "    yaml.dump(biapy_config, outfile, default_flow_style=False)\n",
        "\n",
        "print( \"Training configuration finished.\")\n",
        "\n",
        "# Run the code\n",
        "biapy = BiaPy(f'/content/{job_name}.yaml', result_dir=output_path, name=job_name, run_id=1, gpu=0)\n",
        "biapy.run_job()"
      ]
    },
    {
      "cell_type": "markdown",
      "metadata": {
        "id": "k4i0N2vOWUes"
      },
      "source": [
        "## **Inspection of the loss function and the Accuracy**\n",
        "---\n",
        "\n",
        "Before proceeding with interpretations, it's pivotal to gauge the training evolution by juxtaposing the training loss against the validation loss. The validation loss casts light on the model's efficacy over a reserved subset of data unseen during training. A deeper understanding can be garnered from [this review](https://www.ncbi.nlm.nih.gov/pmc/articles/PMC6381354/) by Nichols *et al.*\n",
        "\n",
        "- **Training Loss**: This captures the discrepancy between the model's predictions and the actual ground-truth after each epoch.\n",
        "\n",
        "- **Validation Loss**: This signifies the error between the model's estimates on validation images and their actual counterparts.\n",
        "\n",
        "As training unfurls, these metrics are expected to wane, eventually plateauing at an optimal, minimal value. Contrasting the trajectories of these losses can yield vital information about the model's adaptability.\n",
        "\n",
        "- **Decreasing Training and Validation Losses**: This trend is indicative of potential model improvements with further training. Elevating the `number_of_epochs` is advised in such scenarios. Notably, even if the loss curves seem to stabilize towards the tail end, it might be a mere visual effect due to y-axis scaling. The model is considered convergent once the curves genuinely flatten, marking the end of required training.\n",
        "\n",
        "- **Divergent Losses**: An upward tick in validation loss while training loss gravitates towards zero hints at overfitting. It suggests that the model is intricately memorizing training patterns at the cost of broader applicability. A more substantial training dataset can alleviate this.\n",
        "\n",
        "\n",
        "The **Accuracy** metric evaluates the model's performance across all classes by contrasting the target class against the predicted output. **A value gravitating towards 1 denotes peak performance.**"
      ]
    },
    {
      "cell_type": "code",
      "execution_count": 9,
      "metadata": {
        "cellView": "form",
        "colab": {
          "base_uri": "https://localhost:8080/",
          "height": 573
        },
        "id": "ur21krhZVwX2",
        "outputId": "dc7e922f-6aaa-4217-8648-817c3c79cbc3"
      },
      "outputs": [
        {
          "output_type": "display_data",
          "data": {
            "text/plain": [
              "<Figure size 2000x1000 with 2 Axes>"
            ],
            "image/png": "[encoded data removed]"
          },
          "metadata": {}
        }
      ],
      "source": [
        "#@markdown ##Play the cell to show a plot of training error vs. epoch number and accuracy vs epoch number\n",
        "import matplotlib.pyplot as plt\n",
        "\n",
        "loss_plot = imread( output_path + '/'+job_name+'/results/'+job_name+'_1/charts/'+job_name+'_1_loss.png' )\n",
        "\n",
        "iou_plot = imread( output_path + '/'+job_name+'/results/'+job_name+'_1/charts/'+job_name+'_1_Accuracy.png' )\n",
        "\n",
        "fig = plt.figure( figsize = (20,10))\n",
        "ax1 = plt.subplot( 1, 2, 1 )\n",
        "_ = plt.imshow( loss_plot )\n",
        "_ = plt.axis('off')\n",
        "ax1.set_title( 'Training error vs epoch number', fontdict = {'fontsize':22})\n",
        "\n",
        "ax2 = plt.subplot( 1, 2, 2 )\n",
        "_ = plt.imshow( iou_plot )\n",
        "_ = plt.axis('off')\n",
        "_= ax2.set_title( 'Accuracy vs epoch number', fontdict = {'fontsize':22})"
      ]
    },
    {
      "cell_type": "code",
      "execution_count": 10,
      "metadata": {
        "cellView": "form",
        "id": "mlQnAH6uAawl",
        "colab": {
          "base_uri": "https://localhost:8080/"
        },
        "outputId": "ae568e2d-b9de-4213-ca7d-0f023e351ab8"
      },
      "outputs": [
        {
          "output_type": "stream",
          "name": "stdout",
          "text": [
            "[08:55:33.008086] Output paths:\n",
            "[08:55:33.008242]     Predicted test classes are in /content/output/my_3d_classification/results/my_3d_classification_1/predictions.csv\n"
          ]
        }
      ],
      "source": [
        "#@markdown ###Play to display the path to the output CSV file\n",
        "\n",
        "final_results = os.path.join(output_path, job_name, 'results', job_name+\"_1\")\n",
        "\n",
        "class_results = os.path.join(final_results, \"predictions.csv\")\n",
        "\n",
        "print(\"Output paths:\")\n",
        "print(\"    Predicted test classes are in {}\".format(class_results))"
      ]
    },
    {
      "cell_type": "markdown",
      "source": [],
      "metadata": {
        "id": "8VdFEAokrhde"
      }
    },
    {
      "cell_type": "markdown",
      "source": [
        "## **Visualize classification results (from the test set)**\n",
        "----"
      ],
      "metadata": {
        "id": "ptymgXJPrbf8"
      }
    },
    {
      "cell_type": "code",
      "execution_count": 11,
      "metadata": {
        "cellView": "form",
        "colab": {
          "base_uri": "https://localhost:8080/",
          "height": 207
        },
        "id": "UeL1cOzwIJA7",
        "outputId": "76f91dff-fe4e-4988-f216-31ee0d9140da"
      },
      "outputs": [
        {
          "output_type": "display_data",
          "data": {
            "text/plain": [
              "<Figure size 1800x18000 with 10 Axes>"
            ],
            "image/png": "[encoded data removed]"
          },
          "metadata": {}
        }
      ],
      "source": [
        "#@markdown ##Play to load some predictions from the test set\n",
        "\n",
        "\n",
        "import pandas as pd\n",
        "import matplotlib.pyplot as plt\n",
        "import os\n",
        "\n",
        "# Read CSV file with predictions\n",
        "predictions_df = pd.read_csv('/content/output/'+str(job_name)+'/results/'+str(job_name)+'_1/predictions.csv')\n",
        "\n",
        "# List the folders (classes) in order\n",
        "labels = sorted([folder for folder in os.listdir(test_data_path) if os.path.isdir(os.path.join(test_data_path, folder))])\n",
        "\n",
        "# Function to find the original class of the image\n",
        "def find_original_class(filename, labels):\n",
        "    for index, label in enumerate(labels):\n",
        "        if filename in os.listdir(os.path.join(test_data_path, label)):\n",
        "            return index\n",
        "    return None\n",
        "\n",
        "# Function for displaying images and forecasts\n",
        "def display_predictions(predictions_df, labels, num_image):\n",
        "    random_samples = predictions_df.sample(n=num_image)\n",
        "\n",
        "    fig = plt.figure(figsize=(18, 18 * num_image))\n",
        "\n",
        "    for index, (idx, row) in enumerate(random_samples.iterrows()):\n",
        "        original_class = find_original_class(row['filename'], labels)\n",
        "        image_path = os.path.join(test_data_path, labels[original_class], row['filename'])\n",
        "        image = plt.imread(image_path)\n",
        "\n",
        "        ax = plt.subplot(1, num_image, index + 1)\n",
        "        if image.shape[-1] == 1 or image.ndim == 2:\n",
        "            ax.imshow(image, cmap='gray')\n",
        "        else:\n",
        "            ax.imshow(image)\n",
        "        if original_class == None:\n",
        "          ax.set_title(f\"Predicted label: {labels[row['class']]}\")\n",
        "        else:\n",
        "          ax.set_title(f\"Predicted label: {labels[row['class']]}\\nOriginal label: {labels[original_class]}\")\n",
        "        ax.axis('off')\n",
        "\n",
        "    plt.tight_layout()\n",
        "    plt.show()\n",
        "\n",
        "display_predictions(predictions_df, labels, 10)"
      ]
    },
    {
      "cell_type": "markdown",
      "metadata": {
        "id": "zdCIYo4ohcAw"
      },
      "source": [
        "## **Download classification results**\n",
        "---"
      ]
    },
    {
      "cell_type": "code",
      "execution_count": null,
      "metadata": {
        "cellView": "form",
        "colab": {
          "base_uri": "https://localhost:8080/",
          "height": 16
        },
        "id": "gnRa9DOUP0FM",
        "outputId": "2f28af0d-7df5-4cdf-afc4-932e9007d223"
      },
      "outputs": [
        {
          "data": {
            "application/javascript": "\n    async function download(id, filename, size) {\n      if (!google.colab.kernel.accessAllowed) {\n        return;\n      }\n      const div = document.createElement('div');\n      const label = document.createElement('label');\n      label.textContent = `Downloading \"${filename}\": `;\n      div.appendChild(label);\n      const progress = document.createElement('progress');\n      progress.max = size;\n      div.appendChild(progress);\n      document.body.appendChild(div);\n\n      const buffers = [];\n      let downloaded = 0;\n\n      const channel = await google.colab.kernel.comms.open(id);\n      // Send a message to notify the kernel that we're ready.\n      channel.send({})\n\n      for await (const message of channel.messages) {\n        // Send a message to notify the kernel that we're ready.\n        channel.send({})\n        if (message.buffers) {\n          for (const buffer of message.buffers) {\n            buffers.push(buffer);\n            downloaded += buffer.byteLength;\n            progress.value = downloaded;\n          }\n        }\n      }\n      const blob = new Blob(buffers, {type: 'application/binary'});\n      const a = document.createElement('a');\n      a.href = window.URL.createObjectURL(blob);\n      a.download = filename;\n      div.appendChild(a);\n      a.click();\n      div.remove();\n    }\n  ",
            "text/plain": [
              "<IPython.core.display.Javascript object>"
            ]
          },
          "metadata": {},
          "output_type": "display_data"
        },
        {
          "data": {
            "application/javascript": "download(\"download_5196bd93-aa67-4647-88a2-90002271c5bb\", \"predictions.csv\", 8631)",
            "text/plain": [
              "<IPython.core.display.Javascript object>"
            ]
          },
          "metadata": {},
          "output_type": "display_data"
        }
      ],
      "source": [
        "#@markdown ###Play to download the CSV file with all classification results in test.\n",
        "\n",
        "from google.colab import files\n",
        "\n",
        "files.download(class_results)\n"
      ]
    },
    {
      "cell_type": "markdown",
      "metadata": {
        "id": "Kwt72WYddVgl"
      },
      "source": [
        "## **Download train model (weights and configuration file)**\n",
        "---\n",
        "If you want to **reuse the train model in the future**, you can download both the model weights and its configuration file (.YAML) by running the following cells."
      ]
    },
    {
      "cell_type": "code",
      "execution_count": null,
      "metadata": {
        "cellView": "form",
        "colab": {
          "base_uri": "https://localhost:8080/",
          "height": 16
        },
        "id": "XoFclBfEduZC",
        "outputId": "38458927-132d-402f-8ad5-3f7cd8ce9dc5"
      },
      "outputs": [
        {
          "data": {
            "application/javascript": "\n    async function download(id, filename, size) {\n      if (!google.colab.kernel.accessAllowed) {\n        return;\n      }\n      const div = document.createElement('div');\n      const label = document.createElement('label');\n      label.textContent = `Downloading \"${filename}\": `;\n      div.appendChild(label);\n      const progress = document.createElement('progress');\n      progress.max = size;\n      div.appendChild(progress);\n      document.body.appendChild(div);\n\n      const buffers = [];\n      let downloaded = 0;\n\n      const channel = await google.colab.kernel.comms.open(id);\n      // Send a message to notify the kernel that we're ready.\n      channel.send({})\n\n      for await (const message of channel.messages) {\n        // Send a message to notify the kernel that we're ready.\n        channel.send({})\n        if (message.buffers) {\n          for (const buffer of message.buffers) {\n            buffers.push(buffer);\n            downloaded += buffer.byteLength;\n            progress.value = downloaded;\n          }\n        }\n      }\n      const blob = new Blob(buffers, {type: 'application/binary'});\n      const a = document.createElement('a');\n      a.href = window.URL.createObjectURL(blob);\n      a.download = filename;\n      div.appendChild(a);\n      a.click();\n      div.remove();\n    }\n  ",
            "text/plain": [
              "<IPython.core.display.Javascript object>"
            ]
          },
          "metadata": {},
          "output_type": "display_data"
        },
        {
          "data": {
            "application/javascript": "download(\"download_0c074a81-14e8-46e4-9f39-673ab1da39c0\", \"my_3d_classification_1-checkpoint-best.pth\", 12980096)",
            "text/plain": [
              "<IPython.core.display.Javascript object>"
            ]
          },
          "metadata": {},
          "output_type": "display_data"
        }
      ],
      "source": [
        "from google.colab import files\n",
        "\n",
        "#@markdown ###Play to download the model weights\n",
        "\n",
        "checkpoints_path = os.path.join(output_path, job_name, 'checkpoints')\n",
        "\n",
        "weights_filename = str( job_name ) + '_1-checkpoint-best.pth'\n",
        "\n",
        "files.download( os.path.join( checkpoints_path, weights_filename))"
      ]
    },
    {
      "cell_type": "code",
      "execution_count": null,
      "metadata": {
        "cellView": "form",
        "colab": {
          "base_uri": "https://localhost:8080/",
          "height": 16
        },
        "id": "raDdSsz1dujE",
        "outputId": "250c4d96-dc74-4034-e7c8-d02c8ffc4ef1"
      },
      "outputs": [
        {
          "data": {
            "application/javascript": "\n    async function download(id, filename, size) {\n      if (!google.colab.kernel.accessAllowed) {\n        return;\n      }\n      const div = document.createElement('div');\n      const label = document.createElement('label');\n      label.textContent = `Downloading \"${filename}\": `;\n      div.appendChild(label);\n      const progress = document.createElement('progress');\n      progress.max = size;\n      div.appendChild(progress);\n      document.body.appendChild(div);\n\n      const buffers = [];\n      let downloaded = 0;\n\n      const channel = await google.colab.kernel.comms.open(id);\n      // Send a message to notify the kernel that we're ready.\n      channel.send({})\n\n      for await (const message of channel.messages) {\n        // Send a message to notify the kernel that we're ready.\n        channel.send({})\n        if (message.buffers) {\n          for (const buffer of message.buffers) {\n            buffers.push(buffer);\n            downloaded += buffer.byteLength;\n            progress.value = downloaded;\n          }\n        }\n      }\n      const blob = new Blob(buffers, {type: 'application/binary'});\n      const a = document.createElement('a');\n      a.href = window.URL.createObjectURL(blob);\n      a.download = filename;\n      div.appendChild(a);\n      a.click();\n      div.remove();\n    }\n  ",
            "text/plain": [
              "<IPython.core.display.Javascript object>"
            ]
          },
          "metadata": {},
          "output_type": "display_data"
        },
        {
          "data": {
            "application/javascript": "download(\"download_0ebe35c5-975f-4cb7-bc5b-eae929ddbd4a\", \"my_3d_classification.yaml\", 642)",
            "text/plain": [
              "<IPython.core.display.Javascript object>"
            ]
          },
          "metadata": {},
          "output_type": "display_data"
        }
      ],
      "source": [
        "#@markdown ###Play to download the model configuration file (.YAML)\n",
        "\n",
        "config_path = os.path.join(output_path, job_name, 'config_files')\n",
        "\n",
        "files.download( os.path.join( config_path, yaml_file))"
      ]
    },
    {
      "cell_type": "markdown",
      "metadata": {
        "id": "0FESBnhkmsuk"
      },
      "source": [
        "## **Export your model to BioImage Model Zoo format:**\n",
        "---\n",
        "If you want to export the model into the [BioImage Model Zoo](https://bioimage.io/#/) format, fill the metadata and run the following cell. After the cell is run a `trained_model_name.bmz.zip` file will be downloaded."
      ]
    },
    {
      "cell_type": "code",
      "execution_count": null,
      "metadata": {
        "cellView": "form",
        "id": "0j310dmomsuk"
      },
      "outputs": [],
      "source": [
        "\n",
        "#@markdown ##Construct model's metadata to export it to the BioImage Model Zoo format. Choose just one option:\n",
        "\n",
        "#@markdown **Option 1: Reuse previous BioImage Model Zoo model configuration**\n",
        "\n",
        "#@markdown With this option, if you were using a model from BioImage Model Zoo you can select this option to reuse its configuration instead of provide all fields manually. If that's not the case and you try to use this option an error will be thrown.\n",
        "reuse_previous_BMZ_model_config = False #@param {type:\"boolean\"}\n",
        "\n",
        "#@markdown ---\n",
        "\n",
        "#@markdown **Option 2: Manual export fields**\n",
        "\n",
        "#@markdown With this option you need to introduce manually the metadata of the model.\n",
        "\n",
        "# ------------- User input ------------\n",
        "# information about the model\n",
        "trained_model_name    = \"\" #@param {type:\"string\"}\n",
        "trained_model_authors =  \"[First Author, Second Author, Third Author]\" #@param {type:\"string\"}\n",
        "trained_model_authors_affiliation =  \"[First Author Affiliation, Second Author Affiliation, Third Author Affiliation]\" #@param {type:\"string\"}\n",
        "trained_model_description = \"\" #@param {type:\"string\"}\n",
        "trained_model_license = 'CC-BY-4.0'#@param {type:\"string\"}\n",
        "trained_model_references = [\"Ronneberger et al. arXiv in 2015\", \"Franco-Barranco, Daniel, et al. ISBI in 2023\"] #@param {type:\"string\"}\n",
        "trained_model_references_DOI = [\"10.1007/978-3-319-24574-4_28\",\"10.1109/ISBI53787.2023.10230593\"] #@param {type:\"string\"}\n",
        "trained_model_tags = \"modality: electron-microscopy, content: mitochondria\" #@param {type:\"string\"}\n",
        "trained_model_documentation = \"/content/README.md\" #@param {type:\"string\"}\n"
      ]
    },
    {
      "cell_type": "code",
      "execution_count": null,
      "metadata": {
        "cellView": "form",
        "id": "cDOCUwndmsul"
      },
      "outputs": [],
      "source": [
        "#@markdown ###Play to download a zip file with your [BioImage Model Zoo](https://bioimage.io/#/) exported model\n",
        "# update BMZ export parameters\n",
        "\n",
        "final_results = os.path.join(output_path, job_name, 'results', job_name+\"_1\")\n",
        "bmz_results = os.path.join(final_results, \"bmz_model\")\n",
        "\n",
        "if not reuse_previous_BMZ_model_config:\n",
        "    from google.colab import files\n",
        "\n",
        "    # create the author spec input\n",
        "    auth_names = trained_model_authors[1:-1].split(\",\")\n",
        "    auth_affs = trained_model_authors_affiliation[1:-1].split(\",\")\n",
        "    assert len(auth_names) == len(auth_affs)\n",
        "    authors = [{\"name\": auth_name, \"affiliation\": auth_aff} for auth_name, auth_aff in zip(auth_names, auth_affs)]\n",
        "\n",
        "    # create the citation input spec\n",
        "    assert len(trained_model_references_DOI) == len(trained_model_references)\n",
        "    citations = [{'text': text, 'doi': doi} for text, doi in zip(trained_model_references, trained_model_references_DOI)]\n",
        "\n",
        "    tags = [{t.split(\":\")[0]: t.split(\":\")[1]} for t in trained_model_tags.split(\",\")]\n",
        "\n",
        "    with open(trained_model_documentation, \"w\") as f:\n",
        "        f.write(\"### **Description**\\n\")\n",
        "        f.write(f\"{trained_model_description}\\n\\n\")\n",
        "        f.write(\"This model was created using the [BiaPy library](https://biapyx.github.io/).\\n\")\n",
        "\n",
        "    bmz_cfg = {}\n",
        "    # Description of the model\n",
        "    bmz_cfg['description'] = trained_model_description\n",
        "    # Authors of the model. Need to be a list of dicts, e.g. authors=[{\"name\": \"Gizmo\"}]\n",
        "    bmz_cfg['authors'] = authors\n",
        "    # License of the model. E.g. \"CC-BY-4.0\"\n",
        "    bmz_cfg['license'] = trained_model_license\n",
        "    # List of dictionaries of citations associated, e.g. [{\"text\": \"Gizmo et al.\", \"doi\": \"doi:10.1002/xyzacab123\"}]\n",
        "    bmz_cfg['tags'] = tags\n",
        "    # Tags to make models more findable on the website, e.g. tags=[{'modality': 'electron-microscopy', 'content': 'mitochondria'}]\n",
        "    bmz_cfg['cite'] = citations\n",
        "    # Path to a file with a documentation of the model in markdown, e.g. \"my-model/doc.md\"\n",
        "    bmz_cfg['doc'] = trained_model_documentation\n",
        "\n",
        "    biapy.export_model_to_bmz(bmz_results, bmz_cfg)\n",
        "else:\n",
        "    biapy.export_model_to_bmz(bmz_results, reuse_original_bmz_config=True)\n",
        "\n",
        "bmz_zip_path = f\"/content/{trained_model_name}.bmz.zip\"\n",
        "if os.path.isdir(bmz_results):\n",
        "    !zip -r $bmz_zip_path $bmz_results\n",
        "else:\n",
        "    print(\"The model was not exported to this format\")\n",
        "\n",
        "files.download(bmz_zip_path)"
      ]
    },
    {
      "cell_type": "markdown",
      "source": [
        "## **How to use the trained model with new data**\n",
        "---\n",
        "To directly infer new data to the trained model, you can use [this notebook](https://github.com/BiaPyX/BiaPy/blob/master/notebooks/BiaPy_Inference.ipynb). It will be necessary to upload the downloaded YAML configuration file and model weights to that notebook."
      ],
      "metadata": {
        "id": "PFVjWbF8GZ2z"
      }
    },
    {
      "cell_type": "markdown",
      "metadata": {
        "id": "vjSgLwe0x-P0"
      },
      "source": [
        "## **Acknowledgments**\n",
        "---\n",
        "We extend our gratitude to the [ZeroCostDL4Mic notebooks](https://github.com/HenriquesLab/ZeroCostDL4Mic/wiki) for their invaluable inspiration. Notably, we have adopted some of their descriptions concerning metrics and parameters."
      ]
    }
  ],
  "metadata": {
    "colab": {
      "provenance": [],
      "toc_visible": true,
      "gpuType": "T4"
    },
    "kernelspec": {
      "display_name": "Python 3",
      "name": "python3"
    },
    "widgets": {
      "application/vnd.jupyter.widget-state+json": {
        "e9e69a81ebe44c338fc9a3d398f964c6": {
          "model_module": "@jupyter-widgets/controls",
          "model_name": "ToggleButtonsModel",
          "model_module_version": "1.5.0",
          "state": {
            "_dom_classes": [],
            "_model_module": "@jupyter-widgets/controls",
            "_model_module_version": "1.5.0",
            "_model_name": "ToggleButtonsModel",
            "_options_labels": [
              "BiaPy",
              "BioImage Model Zoo"
            ],
            "_view_count": null,
            "_view_module": "@jupyter-widgets/controls",
            "_view_module_version": "1.5.0",
            "_view_name": "ToggleButtonsView",
            "button_style": "",
            "description": "Source:",
            "description_tooltip": null,
            "disabled": false,
            "icons": [],
            "index": 0,
            "layout": "IPY_MODEL_2a0c1ce3e2474f579311737b92f04d11",
            "style": "IPY_MODEL_ebbfd264f9af4d1bb6609d0de8320169",
            "tooltips": [
              "Models created during this workflow",
              "BioImage Model Zoo model"
            ]
          }
        },
        "2a0c1ce3e2474f579311737b92f04d11": {
          "model_module": "@jupyter-widgets/base",
          "model_name": "LayoutModel",
          "model_module_version": "1.2.0",
          "state": {
            "_model_module": "@jupyter-widgets/base",
            "_model_module_version": "1.2.0",
            "_model_name": "LayoutModel",
            "_view_count": null,
            "_view_module": "@jupyter-widgets/base",
            "_view_module_version": "1.2.0",
            "_view_name": "LayoutView",
            "align_content": null,
            "align_items": null,
            "align_self": null,
            "border": null,
            "bottom": null,
            "display": null,
            "flex": null,
            "flex_flow": null,
            "grid_area": null,
            "grid_auto_columns": null,
            "grid_auto_flow": null,
            "grid_auto_rows": null,
            "grid_column": null,
            "grid_gap": null,
            "grid_row": null,
            "grid_template_areas": null,
            "grid_template_columns": null,
            "grid_template_rows": null,
            "height": null,
            "justify_content": null,
            "justify_items": null,
            "left": null,
            "margin": null,
            "max_height": null,
            "max_width": null,
            "min_height": null,
            "min_width": null,
            "object_fit": null,
            "object_position": null,
            "order": null,
            "overflow": null,
            "overflow_x": null,
            "overflow_y": null,
            "padding": null,
            "right": null,
            "top": null,
            "visibility": null,
            "width": null
          }
        },
        "ebbfd264f9af4d1bb6609d0de8320169": {
          "model_module": "@jupyter-widgets/controls",
          "model_name": "ToggleButtonsStyleModel",
          "model_module_version": "1.5.0",
          "state": {
            "_model_module": "@jupyter-widgets/controls",
            "_model_module_version": "1.5.0",
            "_model_name": "ToggleButtonsStyleModel",
            "_view_count": null,
            "_view_module": "@jupyter-widgets/base",
            "_view_module_version": "1.2.0",
            "_view_name": "StyleView",
            "button_width": "",
            "description_width": "",
            "font_weight": ""
          }
        },
        "3a5994c429614a8abe2934265637ee9c": {
          "model_module": "@jupyter-widgets/controls",
          "model_name": "VBoxModel",
          "model_module_version": "1.5.0",
          "state": {
            "_dom_classes": [],
            "_model_module": "@jupyter-widgets/controls",
            "_model_module_version": "1.5.0",
            "_model_name": "VBoxModel",
            "_view_count": null,
            "_view_module": "@jupyter-widgets/controls",
            "_view_module_version": "1.5.0",
            "_view_name": "VBoxView",
            "box_style": "",
            "children": [
              "IPY_MODEL_fb1fbb63080a44638737073932c20d07",
              "IPY_MODEL_94190fdd27ac477fae69819416384fa0",
              "IPY_MODEL_27082774b0864bc08ac976f885f9e74e",
              "IPY_MODEL_6a8e9a9b33bd4becbcca2f644558e8c5"
            ],
            "layout": "IPY_MODEL_00760bff3a994d4d9495b7802d7aa03a"
          }
        },
        "fb1fbb63080a44638737073932c20d07": {
          "model_module": "@jupyter-widgets/controls",
          "model_name": "DropdownModel",
          "model_module_version": "1.5.0",
          "state": {
            "_dom_classes": [],
            "_model_module": "@jupyter-widgets/controls",
            "_model_module_version": "1.5.0",
            "_model_name": "DropdownModel",
            "_options_labels": [
              "training-set",
              "test-set"
            ],
            "_view_count": null,
            "_view_module": "@jupyter-widgets/controls",
            "_view_module_version": "1.5.0",
            "_view_name": "DropdownView",
            "description": "Set:",
            "description_tooltip": null,
            "disabled": false,
            "index": 0,
            "layout": "IPY_MODEL_1a5b48e9c63f40eeade43f339fabb8d4",
            "style": "IPY_MODEL_61db16d74e554529885f37c323436813"
          }
        },
        "94190fdd27ac477fae69819416384fa0": {
          "model_module": "@jupyter-widgets/controls",
          "model_name": "DropdownModel",
          "model_module_version": "1.5.0",
          "state": {
            "_dom_classes": [],
            "_model_module": "@jupyter-widgets/controls",
            "_model_module_version": "1.5.0",
            "_model_name": "DropdownModel",
            "_options_labels": [
              "0",
              "1",
              "10",
              "2",
              "3",
              "4",
              "5",
              "6",
              "7",
              "8",
              "9"
            ],
            "_view_count": null,
            "_view_module": "@jupyter-widgets/controls",
            "_view_module_version": "1.5.0",
            "_view_name": "DropdownView",
            "description": "Class:",
            "description_tooltip": null,
            "disabled": false,
            "index": 5,
            "layout": "IPY_MODEL_0595c895fea74b5cb5283e64f46763d6",
            "style": "IPY_MODEL_ee75ed01f12f4f178558268f4a30b74d"
          }
        },
        "27082774b0864bc08ac976f885f9e74e": {
          "model_module": "@jupyter-widgets/controls",
          "model_name": "IntSliderModel",
          "model_module_version": "1.5.0",
          "state": {
            "_dom_classes": [],
            "_model_module": "@jupyter-widgets/controls",
            "_model_module_version": "1.5.0",
            "_model_name": "IntSliderModel",
            "_view_count": null,
            "_view_module": "@jupyter-widgets/controls",
            "_view_module_version": "1.5.0",
            "_view_name": "IntSliderView",
            "continuous_update": false,
            "description": "Image index:",
            "description_tooltip": null,
            "disabled": false,
            "layout": "IPY_MODEL_9c247ee8692b4347818ff9824eff2331",
            "max": 93,
            "min": 1,
            "orientation": "horizontal",
            "readout": true,
            "readout_format": "d",
            "step": 1,
            "style": "IPY_MODEL_71f9d9db332d4da493994dce392e4728",
            "value": 46
          }
        },
        "6a8e9a9b33bd4becbcca2f644558e8c5": {
          "model_module": "@jupyter-widgets/controls",
          "model_name": "IntSliderModel",
          "model_module_version": "1.5.0",
          "state": {
            "_dom_classes": [],
            "_model_module": "@jupyter-widgets/controls",
            "_model_module_version": "1.5.0",
            "_model_name": "IntSliderModel",
            "_view_count": null,
            "_view_module": "@jupyter-widgets/controls",
            "_view_module_version": "1.5.0",
            "_view_name": "IntSliderView",
            "continuous_update": false,
            "description": "Z value:",
            "description_tooltip": null,
            "disabled": false,
            "layout": "IPY_MODEL_c0f110ffb6754fa193aae289603f812a",
            "max": 28,
            "min": 1,
            "orientation": "horizontal",
            "readout": true,
            "readout_format": "d",
            "step": 1,
            "style": "IPY_MODEL_ab409b82592a4f84b4f26773581e024a",
            "value": 1
          }
        },
        "00760bff3a994d4d9495b7802d7aa03a": {
          "model_module": "@jupyter-widgets/base",
          "model_name": "LayoutModel",
          "model_module_version": "1.2.0",
          "state": {
            "_model_module": "@jupyter-widgets/base",
            "_model_module_version": "1.2.0",
            "_model_name": "LayoutModel",
            "_view_count": null,
            "_view_module": "@jupyter-widgets/base",
            "_view_module_version": "1.2.0",
            "_view_name": "LayoutView",
            "align_content": null,
            "align_items": null,
            "align_self": null,
            "border": null,
            "bottom": null,
            "display": null,
            "flex": null,
            "flex_flow": null,
            "grid_area": null,
            "grid_auto_columns": null,
            "grid_auto_flow": null,
            "grid_auto_rows": null,
            "grid_column": null,
            "grid_gap": null,
            "grid_row": null,
            "grid_template_areas": null,
            "grid_template_columns": null,
            "grid_template_rows": null,
            "height": null,
            "justify_content": null,
            "justify_items": null,
            "left": null,
            "margin": null,
            "max_height": null,
            "max_width": null,
            "min_height": null,
            "min_width": null,
            "object_fit": null,
            "object_position": null,
            "order": null,
            "overflow": null,
            "overflow_x": null,
            "overflow_y": null,
            "padding": null,
            "right": null,
            "top": null,
            "visibility": null,
            "width": null
          }
        },
        "1a5b48e9c63f40eeade43f339fabb8d4": {
          "model_module": "@jupyter-widgets/base",
          "model_name": "LayoutModel",
          "model_module_version": "1.2.0",
          "state": {
            "_model_module": "@jupyter-widgets/base",
            "_model_module_version": "1.2.0",
            "_model_name": "LayoutModel",
            "_view_count": null,
            "_view_module": "@jupyter-widgets/base",
            "_view_module_version": "1.2.0",
            "_view_name": "LayoutView",
            "align_content": null,
            "align_items": null,
            "align_self": null,
            "border": null,
            "bottom": null,
            "display": null,
            "flex": null,
            "flex_flow": null,
            "grid_area": null,
            "grid_auto_columns": null,
            "grid_auto_flow": null,
            "grid_auto_rows": null,
            "grid_column": null,
            "grid_gap": null,
            "grid_row": null,
            "grid_template_areas": null,
            "grid_template_columns": null,
            "grid_template_rows": null,
            "height": null,
            "justify_content": null,
            "justify_items": null,
            "left": null,
            "margin": null,
            "max_height": null,
            "max_width": null,
            "min_height": null,
            "min_width": null,
            "object_fit": null,
            "object_position": null,
            "order": null,
            "overflow": null,
            "overflow_x": null,
            "overflow_y": null,
            "padding": null,
            "right": null,
            "top": null,
            "visibility": null,
            "width": null
          }
        },
        "61db16d74e554529885f37c323436813": {
          "model_module": "@jupyter-widgets/controls",
          "model_name": "DescriptionStyleModel",
          "model_module_version": "1.5.0",
          "state": {
            "_model_module": "@jupyter-widgets/controls",
            "_model_module_version": "1.5.0",
            "_model_name": "DescriptionStyleModel",
            "_view_count": null,
            "_view_module": "@jupyter-widgets/base",
            "_view_module_version": "1.2.0",
            "_view_name": "StyleView",
            "description_width": ""
          }
        },
        "0595c895fea74b5cb5283e64f46763d6": {
          "model_module": "@jupyter-widgets/base",
          "model_name": "LayoutModel",
          "model_module_version": "1.2.0",
          "state": {
            "_model_module": "@jupyter-widgets/base",
            "_model_module_version": "1.2.0",
            "_model_name": "LayoutModel",
            "_view_count": null,
            "_view_module": "@jupyter-widgets/base",
            "_view_module_version": "1.2.0",
            "_view_name": "LayoutView",
            "align_content": null,
            "align_items": null,
            "align_self": null,
            "border": null,
            "bottom": null,
            "display": null,
            "flex": null,
            "flex_flow": null,
            "grid_area": null,
            "grid_auto_columns": null,
            "grid_auto_flow": null,
            "grid_auto_rows": null,
            "grid_column": null,
            "grid_gap": null,
            "grid_row": null,
            "grid_template_areas": null,
            "grid_template_columns": null,
            "grid_template_rows": null,
            "height": null,
            "justify_content": null,
            "justify_items": null,
            "left": null,
            "margin": null,
            "max_height": null,
            "max_width": null,
            "min_height": null,
            "min_width": null,
            "object_fit": null,
            "object_position": null,
            "order": null,
            "overflow": null,
            "overflow_x": null,
            "overflow_y": null,
            "padding": null,
            "right": null,
            "top": null,
            "visibility": null,
            "width": null
          }
        },
        "ee75ed01f12f4f178558268f4a30b74d": {
          "model_module": "@jupyter-widgets/controls",
          "model_name": "DescriptionStyleModel",
          "model_module_version": "1.5.0",
          "state": {
            "_model_module": "@jupyter-widgets/controls",
            "_model_module_version": "1.5.0",
            "_model_name": "DescriptionStyleModel",
            "_view_count": null,
            "_view_module": "@jupyter-widgets/base",
            "_view_module_version": "1.2.0",
            "_view_name": "StyleView",
            "description_width": ""
          }
        },
        "9c247ee8692b4347818ff9824eff2331": {
          "model_module": "@jupyter-widgets/base",
          "model_name": "LayoutModel",
          "model_module_version": "1.2.0",
          "state": {
            "_model_module": "@jupyter-widgets/base",
            "_model_module_version": "1.2.0",
            "_model_name": "LayoutModel",
            "_view_count": null,
            "_view_module": "@jupyter-widgets/base",
            "_view_module_version": "1.2.0",
            "_view_name": "LayoutView",
            "align_content": null,
            "align_items": null,
            "align_self": null,
            "border": null,
            "bottom": null,
            "display": null,
            "flex": null,
            "flex_flow": null,
            "grid_area": null,
            "grid_auto_columns": null,
            "grid_auto_flow": null,
            "grid_auto_rows": null,
            "grid_column": null,
            "grid_gap": null,
            "grid_row": null,
            "grid_template_areas": null,
            "grid_template_columns": null,
            "grid_template_rows": null,
            "height": null,
            "justify_content": null,
            "justify_items": null,
            "left": null,
            "margin": "0 0 0 10px",
            "max_height": null,
            "max_width": null,
            "min_height": null,
            "min_width": null,
            "object_fit": null,
            "object_position": null,
            "order": null,
            "overflow": null,
            "overflow_x": null,
            "overflow_y": null,
            "padding": null,
            "right": null,
            "top": null,
            "visibility": null,
            "width": "400px"
          }
        },
        "71f9d9db332d4da493994dce392e4728": {
          "model_module": "@jupyter-widgets/controls",
          "model_name": "SliderStyleModel",
          "model_module_version": "1.5.0",
          "state": {
            "_model_module": "@jupyter-widgets/controls",
            "_model_module_version": "1.5.0",
            "_model_name": "SliderStyleModel",
            "_view_count": null,
            "_view_module": "@jupyter-widgets/base",
            "_view_module_version": "1.2.0",
            "_view_name": "StyleView",
            "description_width": "initial",
            "handle_color": "blue"
          }
        },
        "c0f110ffb6754fa193aae289603f812a": {
          "model_module": "@jupyter-widgets/base",
          "model_name": "LayoutModel",
          "model_module_version": "1.2.0",
          "state": {
            "_model_module": "@jupyter-widgets/base",
            "_model_module_version": "1.2.0",
            "_model_name": "LayoutModel",
            "_view_count": null,
            "_view_module": "@jupyter-widgets/base",
            "_view_module_version": "1.2.0",
            "_view_name": "LayoutView",
            "align_content": null,
            "align_items": null,
            "align_self": null,
            "border": null,
            "bottom": null,
            "display": null,
            "flex": null,
            "flex_flow": null,
            "grid_area": null,
            "grid_auto_columns": null,
            "grid_auto_flow": null,
            "grid_auto_rows": null,
            "grid_column": null,
            "grid_gap": null,
            "grid_row": null,
            "grid_template_areas": null,
            "grid_template_columns": null,
            "grid_template_rows": null,
            "height": null,
            "justify_content": null,
            "justify_items": null,
            "left": null,
            "margin": "0 0 0 10px",
            "max_height": null,
            "max_width": null,
            "min_height": null,
            "min_width": null,
            "object_fit": null,
            "object_position": null,
            "order": null,
            "overflow": null,
            "overflow_x": null,
            "overflow_y": null,
            "padding": null,
            "right": null,
            "top": null,
            "visibility": null,
            "width": "400px"
          }
        },
        "ab409b82592a4f84b4f26773581e024a": {
          "model_module": "@jupyter-widgets/controls",
          "model_name": "SliderStyleModel",
          "model_module_version": "1.5.0",
          "state": {
            "_model_module": "@jupyter-widgets/controls",
            "_model_module_version": "1.5.0",
            "_model_name": "SliderStyleModel",
            "_view_count": null,
            "_view_module": "@jupyter-widgets/base",
            "_view_module_version": "1.2.0",
            "_view_name": "StyleView",
            "description_width": "initial",
            "handle_color": "blue"
          }
        },
        "f0b31f66551d4f668cbb903d1c249e80": {
          "model_module": "@jupyter-widgets/output",
          "model_name": "OutputModel",
          "model_module_version": "1.0.0",
          "state": {
            "_dom_classes": [],
            "_model_module": "@jupyter-widgets/output",
            "_model_module_version": "1.0.0",
            "_model_name": "OutputModel",
            "_view_count": null,
            "_view_module": "@jupyter-widgets/output",
            "_view_module_version": "1.0.0",
            "_view_name": "OutputView",
            "layout": "IPY_MODEL_ef97a681c9284227b0169e20f27ed9e2",
            "msg_id": "",
            "outputs": [
              {
                "output_type": "display_data",
                "data": {
                  "text/plain": "<Figure size 600x600 with 1 Axes>",
                  "image/png": "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\n"
                },
                "metadata": {}
              }
            ]
          }
        },
        "ef97a681c9284227b0169e20f27ed9e2": {
          "model_module": "@jupyter-widgets/base",
          "model_name": "LayoutModel",
          "model_module_version": "1.2.0",
          "state": {
            "_model_module": "@jupyter-widgets/base",
            "_model_module_version": "1.2.0",
            "_model_name": "LayoutModel",
            "_view_count": null,
            "_view_module": "@jupyter-widgets/base",
            "_view_module_version": "1.2.0",
            "_view_name": "LayoutView",
            "align_content": null,
            "align_items": null,
            "align_self": null,
            "border": null,
            "bottom": null,
            "display": null,
            "flex": null,
            "flex_flow": null,
            "grid_area": null,
            "grid_auto_columns": null,
            "grid_auto_flow": null,
            "grid_auto_rows": null,
            "grid_column": null,
            "grid_gap": null,
            "grid_row": null,
            "grid_template_areas": null,
            "grid_template_columns": null,
            "grid_template_rows": null,
            "height": null,
            "justify_content": null,
            "justify_items": null,
            "left": null,
            "margin": null,
            "max_height": null,
            "max_width": null,
            "min_height": null,
            "min_width": null,
            "object_fit": null,
            "object_position": null,
            "order": null,
            "overflow": null,
            "overflow_x": null,
            "overflow_y": null,
            "padding": null,
            "right": null,
            "top": null,
            "visibility": null,
            "width": null
          }
        }
      }
    },
    "accelerator": "GPU"
  },
  "nbformat": 4,
  "nbformat_minor": 0
}