{
  "cells": [
    {
      "cell_type": "markdown",
      "metadata": {
        "id": "kcAryclxsQJ5"
      },
      "source": [
        "# **3D Object Detection pipeline**\n",
        "___  \n",
        "  \n",
        "In this notebook, we demonstrate the use of the [BiaPy](https://biapyx.github.io/) pipeline for **3D object detection** of microscopy data.\n",
        "\n",
        "<figure>\n",
        "<center>\n",
        "<img src='https://raw.githubusercontent.com/BiaPyX/BiaPy-doc/master/source/img/detection_image_input.png' width='300px'/>\n",
        "<img src='https://github.com/BiaPyX/BiaPy-doc/blob/master/source/img/detection_csv_input.svg?raw=true' width='300px'/>\n",
        "<figcaption><b>Figure 1</b>: Example of a 3D object detection problem. From left to right: 3D brainbow image and its corresponding CSV file with the coordinates of the center of each cell. </figcaption></center>\n",
        "</figure>\n",
        "\n",
        "Without any coding, we'll guide you step-by-step through the process to:\n",
        "1. **Upload a set of training and test images** along with their corresponding instance label images.\n",
        "2. **Train a Deep Neural Network (DNN)** model using the training set.\n",
        "3. **Apply the model** to the test images.\n",
        "4. **Download the segmentation results** to your local machine.\n",
        "\n",
        "**Disclaimer:** The structure of the notebook is heavily inspired by the fantastic [ZeroCostDL4Mic notebooks](https://github.com/HenriquesLab/ZeroCostDL4Mic/wiki).\n",
        "\n",
        "**Contact:** This notebook was created by [Ignacio Arganda-Carreras](mailto:ignacio.arganda@ehu.eus), [Lenka Backov\u00e1](mailto:lenka.backova@ehu.eus), [Daniel Franco-Barranco](mailto:daniel.franco@dipc.org) and [Ane Paniagua](mailto:anepaniagua@gmail.com). For suggestions, comments, or issues, please reach out to us via email or [create an issue in BiaPy's repository](https://github.com/BiaPyX/BiaPy/issues). Thank you!\n"
      ]
    },
    {
      "cell_type": "markdown",
      "metadata": {
        "id": "hG5ClE_HHQaE"
      },
      "source": [
        "## **Expected Inputs and Outputs**\n",
        "___\n",
        "\n",
        "### **Inputs**\n",
        "\n",
        "This notebook requires the following five input folders:\n",
        "\n",
        "- **Training Raw Images**: Consisting of the unprocessed 3D images intended for training.\n",
        "- **Training CSV Files**: Providing the coordinates for the center of each cell for model training. The number and size of these files should align with the training raw images.\n",
        "- **Test Raw Images**: Houses the 3D images on which the model will be tested.\n",
        "- **Test CSV Files**: Contains the coordinates of the centers of the cells for testing. Ensure that their number and sizes correspond to the test raw images.\n",
        "- **Output Folder**: A designated directory where segmentation results will be saved.\n",
        "\n",
        "### **Outputs**\n",
        "\n",
        "On successful execution, an output folder will emerge, containing a **CSV file** and a **TIFF image** for every test image. The CSV files list the coordinates of each cell's center, while the result images depict these central points as deduced by our pipeline.\n",
        "\n",
        "<font color='red'><b>Note:</b></font> For testing purposes, you can utilize the **example datasets provided under 'Manage File(s) Source > Option 3'**.\n",
        "\n",
        "**Data structure**\n",
        "\n",
        "To ensure the proper operation of the library the data directory tree should be something like this:\n",
        "\n",
        "```\n",
        "dataset/\n",
        "\u251c\u2500\u2500 train\n",
        "\u2502   \u251c\u2500\u2500 raw\n",
        "\u2502   \u2502   \u251c\u2500\u2500 training-0001.tif\n",
        "\u2502   \u2502   \u251c\u2500\u2500 training-0002.tif\n",
        "\u2502   \u2502   \u251c\u2500\u2500 . . .\n",
        "\u2502   \u2502   \u2514\u2500\u2500 training-9999.tif\n",
        "\u2502   \u2514\u2500\u2500 label\n",
        "\u2502       \u251c\u2500\u2500 training_groundtruth-0001.csv\n",
        "\u2502       \u251c\u2500\u2500 training_groundtruth-0002.csv\n",
        "\u2502       \u251c\u2500\u2500 . . .\n",
        "\u2502       \u2514\u2500\u2500 training_groundtruth-9999.csv\n",
        "\u2514\u2500\u2500 test\n",
        "    \u251c\u2500\u2500 raw\n",
        "    \u2502   \u251c\u2500\u2500 testing-0001.tif\n",
        "    \u2502   \u251c\u2500\u2500 testing-0002.tif\n",
        "    \u2502   \u251c\u2500\u2500 . . .\n",
        "    \u2502   \u2514\u2500\u2500 testing-9999.tif\n",
        "    \u2514\u2500\u2500 label\n",
        "        \u251c\u2500\u2500 testing_groundtruth-0001.csv\n",
        "        \u251c\u2500\u2500 testing_groundtruth-0002.csv\n",
        "        \u251c\u2500\u2500 . . .\n",
        "        \u2514\u2500\u2500 testing_groundtruth-9999.csv\n",
        "```\n",
        "\n",
        "**\u26a0\ufe0f Warning:** Ensure that images and their corresponding CSV files are sorted in the same way. A common approach is to fill with zeros the image number added to the filenames (as in the example).\n",
        "\n",
        "**Input Format Support**\n",
        "\n",
        "This notebook is compatible with a range of input formats. You can use the following file extensions: `.tif`, `.npy` (every extension for 3D images supported by [scikit-image](https://scikit-image.org/docs/stable/api/skimage.io.html#skimage.io.imread)).\n"
      ]
    },
    {
      "cell_type": "markdown",
      "metadata": {
        "id": "xGSj0DrpUJoY"
      },
      "source": [
        "## **Prepare the environment**\n",
        "___\n",
        "\n",
        "Establish connection with Google services. You **must be logged in to Google** to continue.\n",
        "Since this is not Google's own code, you will probably see a message warning you of the dangers of running unfamiliar code. This is completely normal.\n"
      ]
    },
    {
      "cell_type": "markdown",
      "metadata": {
        "id": "4bj_sbDFTiZ7"
      },
      "source": [
        "## **Check for GPU Access**\n",
        "---\n",
        "\n",
        "By default, the session is configured to use Python 3 with GPU acceleration. However, it's a good practice to double-check these settings:\n",
        "\n",
        "1. Navigate to **Runtime** in the top menu and select **Change the Runtime type**.\n",
        "2. Ensure the following settings:\n",
        "   - **Runtime type:** Python 3 (This program is written in the Python 3 programming language.)\n",
        "   - **Accelerator:** GPU (Graphics Processing Unit)\n",
        "\n",
        "This will ensure that you're using Python 3 and taking advantage of GPU acceleration."
      ]
    },
    {
      "cell_type": "markdown",
      "metadata": {
        "id": "jLYsqrDALpVN"
      },
      "source": [
        "## **Install BiaPy**\n",
        "---\n",
        "This might take some minutes depending on the current installed libraries in Colab.\n"
      ]
    },
    {
      "cell_type": "code",
      "execution_count": 1,
      "metadata": {
        "colab": {
          "base_uri": "https://localhost:8080/"
        },
        "id": "p33UIUUWLm3V",
        "outputId": "876ed77a-9c15-4605-cfaf-5e0ca1f33983",
        "cellView": "form"
      },
      "outputs": [
        {
          "output_type": "stream",
          "name": "stdout",
          "text": [
            "Collecting biapy==3.6.1\n",
            "  Downloading biapy-3.6.1-py3-none-any.whl.metadata (24 kB)\n",
            "Requirement already satisfied: matplotlib>=3.7.1 in /usr/local/lib/python3.11/dist-packages (from biapy==3.6.1) (3.10.0)\n",
            "Requirement already satisfied: scikit-learn>=1.4.0 in /usr/local/lib/python3.11/dist-packages (from biapy==3.6.1) (1.6.1)\n",
            "Requirement already satisfied: pydot>=1.4.2 in /usr/local/lib/python3.11/dist-packages (from biapy==3.6.1) (3.0.4)\n",
            "Collecting yacs>=0.1.8 (from biapy==3.6.1)\n",
            "  Downloading yacs-0.1.8-py3-none-any.whl.metadata (639 bytes)\n",
            "Requirement already satisfied: tqdm>=4.66.1 in /usr/local/lib/python3.11/dist-packages (from biapy==3.6.1) (4.67.1)\n",
            "Requirement already satisfied: scikit-image>=0.21.0 in /usr/local/lib/python3.11/dist-packages (from biapy==3.6.1) (0.25.2)\n",
            "Collecting edt>=2.3.2 (from biapy==3.6.1)\n",
            "  Downloading edt-3.0.0-cp311-cp311-manylinux_2_17_x86_64.manylinux2014_x86_64.whl.metadata (24 kB)\n",
            "Requirement already satisfied: numpy>2 in /usr/local/lib/python3.11/dist-packages (from biapy==3.6.1) (2.0.2)\n",
            "Collecting fill-voids>=2.0.6 (from biapy==3.6.1)\n",
            "  Downloading fill_voids-2.1.0-cp311-cp311-manylinux_2_17_x86_64.manylinux2014_x86_64.whl.metadata (6.0 kB)\n",
            "Requirement already satisfied: opencv-python>=4.8.0.76 in /usr/local/lib/python3.11/dist-packages (from biapy==3.6.1) (4.11.0.86)\n",
            "Requirement already satisfied: pandas>=1.5.3 in /usr/local/lib/python3.11/dist-packages (from biapy==3.6.1) (2.2.2)\n",
            "Collecting torchinfo>=1.8.0 (from biapy==3.6.1)\n",
            "  Downloading torchinfo-1.8.0-py3-none-any.whl.metadata (21 kB)\n",
            "Collecting tensorboardX>=2.6.2.2 (from biapy==3.6.1)\n",
            "  Downloading tensorboardx-2.6.4-py3-none-any.whl.metadata (6.2 kB)\n",
            "Requirement already satisfied: h5py>=3.9.0 in /usr/local/lib/python3.11/dist-packages (from biapy==3.6.1) (3.14.0)\n",
            "Collecting zarr<3.0,>=2.16.1 (from biapy==3.6.1)\n",
            "  Downloading zarr-2.18.7-py3-none-any.whl.metadata (5.8 kB)\n",
            "Collecting bioimageio.core==0.8.0 (from biapy==3.6.1)\n",
            "  Downloading bioimageio_core-0.8.0-py3-none-any.whl.metadata (23 kB)\n",
            "Collecting imagecodecs>=2024.1.1 (from biapy==3.6.1)\n",
            "  Downloading imagecodecs-2025.3.30-cp311-cp311-manylinux_2_17_x86_64.manylinux2014_x86_64.whl.metadata (20 kB)\n",
            "Requirement already satisfied: pooch>=1.8.1 in /usr/local/lib/python3.11/dist-packages (from biapy==3.6.1) (1.8.2)\n",
            "Collecting diplib>=3.5.1 (from biapy==3.6.1)\n",
            "  Downloading diplib-3.5.2-cp311-cp311-manylinux_2_17_x86_64.manylinux2014_x86_64.whl.metadata (6.0 kB)\n",
            "Collecting xarray==2025.1.* (from biapy==3.6.1)\n",
            "  Downloading xarray-2025.1.2-py3-none-any.whl.metadata (11 kB)\n",
            "Collecting bioimageio.spec==0.5.4.1 (from bioimageio.core==0.8.0->biapy==3.6.1)\n",
            "  Downloading bioimageio.spec-0.5.4.1-py3-none-any.whl.metadata (11 kB)\n",
            "Requirement already satisfied: imageio>=2.10 in /usr/local/lib/python3.11/dist-packages (from bioimageio.core==0.8.0->biapy==3.6.1) (2.37.0)\n",
            "Collecting loguru (from bioimageio.core==0.8.0->biapy==3.6.1)\n",
            "  Downloading loguru-0.7.3-py3-none-any.whl.metadata (22 kB)\n",
            "Collecting pydantic-settings<3,>=2.5 (from bioimageio.core==0.8.0->biapy==3.6.1)\n",
            "  Downloading pydantic_settings-2.10.1-py3-none-any.whl.metadata (3.4 kB)\n",
            "Requirement already satisfied: pydantic<3,>=2.7.0 in /usr/local/lib/python3.11/dist-packages (from bioimageio.core==0.8.0->biapy==3.6.1) (2.11.7)\n",
            "Requirement already satisfied: requests in /usr/local/lib/python3.11/dist-packages (from bioimageio.core==0.8.0->biapy==3.6.1) (2.32.3)\n",
            "Collecting ruyaml (from bioimageio.core==0.8.0->biapy==3.6.1)\n",
            "  Downloading ruyaml-0.91.0-py3-none-any.whl.metadata (12 kB)\n",
            "Requirement already satisfied: typing-extensions in /usr/local/lib/python3.11/dist-packages (from bioimageio.core==0.8.0->biapy==3.6.1) (4.14.1)\n",
            "Requirement already satisfied: packaging>=23.2 in /usr/local/lib/python3.11/dist-packages (from xarray==2025.1.*->biapy==3.6.1) (24.2)\n",
            "Requirement already satisfied: annotated-types<1,>=0.5.0 in /usr/local/lib/python3.11/dist-packages (from bioimageio.spec==0.5.4.1->bioimageio.core==0.8.0->biapy==3.6.1) (0.7.0)\n",
            "Collecting email-validator (from bioimageio.spec==0.5.4.1->bioimageio.core==0.8.0->biapy==3.6.1)\n",
            "  Downloading email_validator-2.2.0-py3-none-any.whl.metadata (25 kB)\n",
            "Requirement already satisfied: markdown in /usr/local/lib/python3.11/dist-packages (from bioimageio.spec==0.5.4.1->bioimageio.core==0.8.0->biapy==3.6.1) (3.8.2)\n",
            "Collecting pydantic<3,>=2.7.0 (from bioimageio.core==0.8.0->biapy==3.6.1)\n",
            "  Downloading pydantic-2.9.2-py3-none-any.whl.metadata (149 kB)\n",
            "\u001b[2K     \u001b[90m\u2501\u2501\u2501\u2501\u2501\u2501\u2501\u2501\u2501\u2501\u2501\u2501\u2501\u2501\u2501\u2501\u2501\u2501\u2501\u2501\u2501\u2501\u2501\u2501\u2501\u2501\u2501\u2501\u2501\u2501\u2501\u2501\u2501\u2501\u2501\u2501\u2501\u2501\u2501\u001b[0m \u001b[32m149.4/149.4 kB\u001b[0m \u001b[31m6.0 MB/s\u001b[0m eta \u001b[36m0:00:00\u001b[0m\n",
            "\u001b[?25hRequirement already satisfied: python-dateutil in /usr/local/lib/python3.11/dist-packages (from bioimageio.spec==0.5.4.1->bioimageio.core==0.8.0->biapy==3.6.1) (2.9.0.post0)\n",
            "Requirement already satisfied: rich in /usr/local/lib/python3.11/dist-packages (from bioimageio.spec==0.5.4.1->bioimageio.core==0.8.0->biapy==3.6.1) (13.9.4)\n",
            "Requirement already satisfied: tifffile>=2020.7.4 in /usr/local/lib/python3.11/dist-packages (from bioimageio.spec==0.5.4.1->bioimageio.core==0.8.0->biapy==3.6.1) (2025.6.11)\n",
            "Requirement already satisfied: zipp in /usr/local/lib/python3.11/dist-packages (from bioimageio.spec==0.5.4.1->bioimageio.core==0.8.0->biapy==3.6.1) (3.23.0)\n",
            "Collecting fastremap (from fill-voids>=2.0.6->biapy==3.6.1)\n",
            "  Downloading fastremap-1.17.1-cp311-cp311-manylinux_2_17_x86_64.manylinux2014_x86_64.whl.metadata (10 kB)\n",
            "Requirement already satisfied: contourpy>=1.0.1 in /usr/local/lib/python3.11/dist-packages (from matplotlib>=3.7.1->biapy==3.6.1) (1.3.2)\n",
            "Requirement already satisfied: cycler>=0.10 in /usr/local/lib/python3.11/dist-packages (from matplotlib>=3.7.1->biapy==3.6.1) (0.12.1)\n",
            "Requirement already satisfied: fonttools>=4.22.0 in /usr/local/lib/python3.11/dist-packages (from matplotlib>=3.7.1->biapy==3.6.1) (4.58.5)\n",
            "Requirement already satisfied: kiwisolver>=1.3.1 in /usr/local/lib/python3.11/dist-packages (from matplotlib>=3.7.1->biapy==3.6.1) (1.4.8)\n",
            "Requirement already satisfied: pillow>=8 in /usr/local/lib/python3.11/dist-packages (from matplotlib>=3.7.1->biapy==3.6.1) (11.2.1)\n",
            "Requirement already satisfied: pyparsing>=2.3.1 in /usr/local/lib/python3.11/dist-packages (from matplotlib>=3.7.1->biapy==3.6.1) (3.2.3)\n",
            "Requirement already satisfied: pytz>=2020.1 in /usr/local/lib/python3.11/dist-packages (from pandas>=1.5.3->biapy==3.6.1) (2025.2)\n",
            "Requirement already satisfied: tzdata>=2022.7 in /usr/local/lib/python3.11/dist-packages (from pandas>=1.5.3->biapy==3.6.1) (2025.2)\n",
            "Requirement already satisfied: platformdirs>=2.5.0 in /usr/local/lib/python3.11/dist-packages (from pooch>=1.8.1->biapy==3.6.1) (4.3.8)\n",
            "Requirement already satisfied: scipy>=1.11.4 in /usr/local/lib/python3.11/dist-packages (from scikit-image>=0.21.0->biapy==3.6.1) (1.15.3)\n",
            "Requirement already satisfied: networkx>=3.0 in /usr/local/lib/python3.11/dist-packages (from scikit-image>=0.21.0->biapy==3.6.1) (3.5)\n",
            "Requirement already satisfied: lazy-loader>=0.4 in /usr/local/lib/python3.11/dist-packages (from scikit-image>=0.21.0->biapy==3.6.1) (0.4)\n",
            "Requirement already satisfied: joblib>=1.2.0 in /usr/local/lib/python3.11/dist-packages (from scikit-learn>=1.4.0->biapy==3.6.1) (1.5.1)\n",
            "Requirement already satisfied: threadpoolctl>=3.1.0 in /usr/local/lib/python3.11/dist-packages (from scikit-learn>=1.4.0->biapy==3.6.1) (3.6.0)\n",
            "Requirement already satisfied: protobuf>=3.20 in /usr/local/lib/python3.11/dist-packages (from tensorboardX>=2.6.2.2->biapy==3.6.1) (5.29.5)\n",
            "Requirement already satisfied: PyYAML in /usr/local/lib/python3.11/dist-packages (from yacs>=0.1.8->biapy==3.6.1) (6.0.2)\n",
            "Collecting asciitree (from zarr<3.0,>=2.16.1->biapy==3.6.1)\n",
            "  Downloading asciitree-0.3.3.tar.gz (4.0 kB)\n",
            "  Preparing metadata (setup.py) ... \u001b[?25l\u001b[?25hdone\n",
            "Collecting fasteners (from zarr<3.0,>=2.16.1->biapy==3.6.1)\n",
            "  Downloading fasteners-0.19-py3-none-any.whl.metadata (4.9 kB)\n",
            "Collecting numcodecs!=0.14.0,!=0.14.1,<0.16,>=0.10.0 (from zarr<3.0,>=2.16.1->biapy==3.6.1)\n",
            "  Downloading numcodecs-0.15.1-cp311-cp311-manylinux_2_17_x86_64.manylinux2014_x86_64.whl.metadata (2.9 kB)\n",
            "Collecting deprecated (from numcodecs!=0.14.0,!=0.14.1,<0.16,>=0.10.0->zarr<3.0,>=2.16.1->biapy==3.6.1)\n",
            "  Downloading Deprecated-1.2.18-py2.py3-none-any.whl.metadata (5.7 kB)\n",
            "Collecting pydantic-core==2.23.4 (from pydantic<3,>=2.7.0->bioimageio.core==0.8.0->biapy==3.6.1)\n",
            "  Downloading pydantic_core-2.23.4-cp311-cp311-manylinux_2_17_x86_64.manylinux2014_x86_64.whl.metadata (6.6 kB)\n",
            "Collecting python-dotenv>=0.21.0 (from pydantic-settings<3,>=2.5->bioimageio.core==0.8.0->biapy==3.6.1)\n",
            "  Downloading python_dotenv-1.1.1-py3-none-any.whl.metadata (24 kB)\n",
            "Requirement already satisfied: typing-inspection>=0.4.0 in /usr/local/lib/python3.11/dist-packages (from pydantic-settings<3,>=2.5->bioimageio.core==0.8.0->biapy==3.6.1) (0.4.1)\n",
            "Requirement already satisfied: six>=1.5 in /usr/local/lib/python3.11/dist-packages (from python-dateutil->bioimageio.spec==0.5.4.1->bioimageio.core==0.8.0->biapy==3.6.1) (1.17.0)\n",
            "Requirement already satisfied: charset-normalizer<4,>=2 in /usr/local/lib/python3.11/dist-packages (from requests->bioimageio.core==0.8.0->biapy==3.6.1) (3.4.2)\n",
            "Requirement already satisfied: idna<4,>=2.5 in /usr/local/lib/python3.11/dist-packages (from requests->bioimageio.core==0.8.0->biapy==3.6.1) (3.10)\n",
            "Requirement already satisfied: urllib3<3,>=1.21.1 in /usr/local/lib/python3.11/dist-packages (from requests->bioimageio.core==0.8.0->biapy==3.6.1) (2.4.0)\n",
            "Requirement already satisfied: certifi>=2017.4.17 in /usr/local/lib/python3.11/dist-packages (from requests->bioimageio.core==0.8.0->biapy==3.6.1) (2025.7.9)\n",
            "Requirement already satisfied: distro>=1.3.0 in /usr/local/lib/python3.11/dist-packages (from ruyaml->bioimageio.core==0.8.0->biapy==3.6.1) (1.9.0)\n",
            "Requirement already satisfied: setuptools>=39.0 in /usr/local/lib/python3.11/dist-packages (from ruyaml->bioimageio.core==0.8.0->biapy==3.6.1) (75.2.0)\n",
            "Requirement already satisfied: wrapt<2,>=1.10 in /usr/local/lib/python3.11/dist-packages (from deprecated->numcodecs!=0.14.0,!=0.14.1,<0.16,>=0.10.0->zarr<3.0,>=2.16.1->biapy==3.6.1) (1.17.2)\n",
            "Collecting dnspython>=2.0.0 (from email-validator->bioimageio.spec==0.5.4.1->bioimageio.core==0.8.0->biapy==3.6.1)\n",
            "  Downloading dnspython-2.7.0-py3-none-any.whl.metadata (5.8 kB)\n",
            "Requirement already satisfied: markdown-it-py>=2.2.0 in /usr/local/lib/python3.11/dist-packages (from rich->bioimageio.spec==0.5.4.1->bioimageio.core==0.8.0->biapy==3.6.1) (3.0.0)\n",
            "Requirement already satisfied: pygments<3.0.0,>=2.13.0 in /usr/local/lib/python3.11/dist-packages (from rich->bioimageio.spec==0.5.4.1->bioimageio.core==0.8.0->biapy==3.6.1) (2.19.2)\n",
            "Requirement already satisfied: mdurl~=0.1 in /usr/local/lib/python3.11/dist-packages (from markdown-it-py>=2.2.0->rich->bioimageio.spec==0.5.4.1->bioimageio.core==0.8.0->biapy==3.6.1) (0.1.2)\n",
            "Downloading biapy-3.6.1-py3-none-any.whl (434 kB)\n",
            "\u001b[2K   \u001b[90m\u2501\u2501\u2501\u2501\u2501\u2501\u2501\u2501\u2501\u2501\u2501\u2501\u2501\u2501\u2501\u2501\u2501\u2501\u2501\u2501\u2501\u2501\u2501\u2501\u2501\u2501\u2501\u2501\u2501\u2501\u2501\u2501\u2501\u2501\u2501\u2501\u2501\u2501\u2501\u2501\u001b[0m \u001b[32m434.6/434.6 kB\u001b[0m \u001b[31m19.3 MB/s\u001b[0m eta \u001b[36m0:00:00\u001b[0m\n",
            "\u001b[?25hDownloading bioimageio_core-0.8.0-py3-none-any.whl (174 kB)\n",
            "\u001b[2K   \u001b[90m\u2501\u2501\u2501\u2501\u2501\u2501\u2501\u2501\u2501\u2501\u2501\u2501\u2501\u2501\u2501\u2501\u2501\u2501\u2501\u2501\u2501\u2501\u2501\u2501\u2501\u2501\u2501\u2501\u2501\u2501\u2501\u2501\u2501\u2501\u2501\u2501\u2501\u2501\u2501\u2501\u001b[0m \u001b[32m174.7/174.7 kB\u001b[0m \u001b[31m7.8 MB/s\u001b[0m eta \u001b[36m0:00:00\u001b[0m\n",
            "\u001b[?25hDownloading xarray-2025.1.2-py3-none-any.whl (1.2 MB)\n",
            "\u001b[2K   \u001b[90m\u2501\u2501\u2501\u2501\u2501\u2501\u2501\u2501\u2501\u2501\u2501\u2501\u2501\u2501\u2501\u2501\u2501\u2501\u2501\u2501\u2501\u2501\u2501\u2501\u2501\u2501\u2501\u2501\u2501\u2501\u2501\u2501\u2501\u2501\u2501\u2501\u2501\u2501\u2501\u2501\u001b[0m \u001b[32m1.2/1.2 MB\u001b[0m \u001b[31m26.1 MB/s\u001b[0m eta \u001b[36m0:00:00\u001b[0m\n",
            "\u001b[?25hDownloading bioimageio.spec-0.5.4.1-py3-none-any.whl (210 kB)\n",
            "\u001b[2K   \u001b[90m\u2501\u2501\u2501\u2501\u2501\u2501\u2501\u2501\u2501\u2501\u2501\u2501\u2501\u2501\u2501\u2501\u2501\u2501\u2501\u2501\u2501\u2501\u2501\u2501\u2501\u2501\u2501\u2501\u2501\u2501\u2501\u2501\u2501\u2501\u2501\u2501\u2501\u2501\u2501\u2501\u001b[0m \u001b[32m210.3/210.3 kB\u001b[0m \u001b[31m5.5 MB/s\u001b[0m eta \u001b[36m0:00:00\u001b[0m\n",
            "\u001b[?25hDownloading diplib-3.5.2-cp311-cp311-manylinux_2_17_x86_64.manylinux2014_x86_64.whl (8.4 MB)\n",
            "\u001b[2K   \u001b[90m\u2501\u2501\u2501\u2501\u2501\u2501\u2501\u2501\u2501\u2501\u2501\u2501\u2501\u2501\u2501\u2501\u2501\u2501\u2501\u2501\u2501\u2501\u2501\u2501\u2501\u2501\u2501\u2501\u2501\u2501\u2501\u2501\u2501\u2501\u2501\u2501\u2501\u2501\u2501\u2501\u001b[0m \u001b[32m8.4/8.4 MB\u001b[0m \u001b[31m29.2 MB/s\u001b[0m eta \u001b[36m0:00:00\u001b[0m\n",
            "\u001b[?25hDownloading edt-3.0.0-cp311-cp311-manylinux_2_17_x86_64.manylinux2014_x86_64.whl (3.1 MB)\n",
            "\u001b[2K   \u001b[90m\u2501\u2501\u2501\u2501\u2501\u2501\u2501\u2501\u2501\u2501\u2501\u2501\u2501\u2501\u2501\u2501\u2501\u2501\u2501\u2501\u2501\u2501\u2501\u2501\u2501\u2501\u2501\u2501\u2501\u2501\u2501\u2501\u2501\u2501\u2501\u2501\u2501\u2501\u2501\u2501\u001b[0m \u001b[32m3.1/3.1 MB\u001b[0m \u001b[31m36.4 MB/s\u001b[0m eta \u001b[36m0:00:00\u001b[0m\n",
            "\u001b[?25hDownloading fill_voids-2.1.0-cp311-cp311-manylinux_2_17_x86_64.manylinux2014_x86_64.whl (1.5 MB)\n",
            "\u001b[2K   \u001b[90m\u2501\u2501\u2501\u2501\u2501\u2501\u2501\u2501\u2501\u2501\u2501\u2501\u2501\u2501\u2501\u2501\u2501\u2501\u2501\u2501\u2501\u2501\u2501\u2501\u2501\u2501\u2501\u2501\u2501\u2501\u2501\u2501\u2501\u2501\u2501\u2501\u2501\u2501\u2501\u2501\u001b[0m \u001b[32m1.5/1.5 MB\u001b[0m \u001b[31m47.7 MB/s\u001b[0m eta \u001b[36m0:00:00\u001b[0m\n",
            "\u001b[?25hDownloading imagecodecs-2025.3.30-cp311-cp311-manylinux_2_17_x86_64.manylinux2014_x86_64.whl (45.6 MB)\n",
            "\u001b[2K   \u001b[90m\u2501\u2501\u2501\u2501\u2501\u2501\u2501\u2501\u2501\u2501\u2501\u2501\u2501\u2501\u2501\u2501\u2501\u2501\u2501\u2501\u2501\u2501\u2501\u2501\u2501\u2501\u2501\u2501\u2501\u2501\u2501\u2501\u2501\u2501\u2501\u2501\u2501\u2501\u2501\u2501\u001b[0m \u001b[32m45.6/45.6 MB\u001b[0m \u001b[31m18.8 MB/s\u001b[0m eta \u001b[36m0:00:00\u001b[0m\n",
            "\u001b[?25hDownloading tensorboardx-2.6.4-py3-none-any.whl (87 kB)\n",
            "\u001b[2K   \u001b[90m\u2501\u2501\u2501\u2501\u2501\u2501\u2501\u2501\u2501\u2501\u2501\u2501\u2501\u2501\u2501\u2501\u2501\u2501\u2501\u2501\u2501\u2501\u2501\u2501\u2501\u2501\u2501\u2501\u2501\u2501\u2501\u2501\u2501\u2501\u2501\u2501\u2501\u2501\u2501\u2501\u001b[0m \u001b[32m87.2/87.2 kB\u001b[0m \u001b[31m4.8 MB/s\u001b[0m eta \u001b[36m0:00:00\u001b[0m\n",
            "\u001b[?25hDownloading torchinfo-1.8.0-py3-none-any.whl (23 kB)\n",
            "Downloading yacs-0.1.8-py3-none-any.whl (14 kB)\n",
            "Downloading zarr-2.18.7-py3-none-any.whl (211 kB)\n",
            "\u001b[2K   \u001b[90m\u2501\u2501\u2501\u2501\u2501\u2501\u2501\u2501\u2501\u2501\u2501\u2501\u2501\u2501\u2501\u2501\u2501\u2501\u2501\u2501\u2501\u2501\u2501\u2501\u2501\u2501\u2501\u2501\u2501\u2501\u2501\u2501\u2501\u2501\u2501\u2501\u2501\u2501\u2501\u2501\u001b[0m \u001b[32m211.3/211.3 kB\u001b[0m \u001b[31m16.7 MB/s\u001b[0m eta \u001b[36m0:00:00\u001b[0m\n",
            "\u001b[?25hDownloading numcodecs-0.15.1-cp311-cp311-manylinux_2_17_x86_64.manylinux2014_x86_64.whl (8.9 MB)\n",
            "\u001b[2K   \u001b[90m\u2501\u2501\u2501\u2501\u2501\u2501\u2501\u2501\u2501\u2501\u2501\u2501\u2501\u2501\u2501\u2501\u2501\u2501\u2501\u2501\u2501\u2501\u2501\u2501\u2501\u2501\u2501\u2501\u2501\u2501\u2501\u2501\u2501\u2501\u2501\u2501\u2501\u2501\u2501\u2501\u001b[0m \u001b[32m8.9/8.9 MB\u001b[0m \u001b[31m37.3 MB/s\u001b[0m eta \u001b[36m0:00:00\u001b[0m\n",
            "\u001b[?25hDownloading pydantic-2.9.2-py3-none-any.whl (434 kB)\n",
            "\u001b[2K   \u001b[90m\u2501\u2501\u2501\u2501\u2501\u2501\u2501\u2501\u2501\u2501\u2501\u2501\u2501\u2501\u2501\u2501\u2501\u2501\u2501\u2501\u2501\u2501\u2501\u2501\u2501\u2501\u2501\u2501\u2501\u2501\u2501\u2501\u2501\u2501\u2501\u2501\u2501\u2501\u2501\u2501\u001b[0m \u001b[32m434.9/434.9 kB\u001b[0m \u001b[31m25.1 MB/s\u001b[0m eta \u001b[36m0:00:00\u001b[0m\n",
            "\u001b[?25hDownloading pydantic_core-2.23.4-cp311-cp311-manylinux_2_17_x86_64.manylinux2014_x86_64.whl (2.1 MB)\n",
            "\u001b[2K   \u001b[90m\u2501\u2501\u2501\u2501\u2501\u2501\u2501\u2501\u2501\u2501\u2501\u2501\u2501\u2501\u2501\u2501\u2501\u2501\u2501\u2501\u2501\u2501\u2501\u2501\u2501\u2501\u2501\u2501\u2501\u2501\u2501\u2501\u2501\u2501\u2501\u2501\u2501\u2501\u2501\u2501\u001b[0m \u001b[32m2.1/2.1 MB\u001b[0m \u001b[31m59.8 MB/s\u001b[0m eta \u001b[36m0:00:00\u001b[0m\n",
            "\u001b[?25hDownloading pydantic_settings-2.10.1-py3-none-any.whl (45 kB)\n",
            "\u001b[2K   \u001b[90m\u2501\u2501\u2501\u2501\u2501\u2501\u2501\u2501\u2501\u2501\u2501\u2501\u2501\u2501\u2501\u2501\u2501\u2501\u2501\u2501\u2501\u2501\u2501\u2501\u2501\u2501\u2501\u2501\u2501\u2501\u2501\u2501\u2501\u2501\u2501\u2501\u2501\u2501\u2501\u2501\u001b[0m \u001b[32m45.2/45.2 kB\u001b[0m \u001b[31m3.5 MB/s\u001b[0m eta \u001b[36m0:00:00\u001b[0m\n",
            "\u001b[?25hDownloading fasteners-0.19-py3-none-any.whl (18 kB)\n",
            "Downloading fastremap-1.17.1-cp311-cp311-manylinux_2_17_x86_64.manylinux2014_x86_64.whl (7.3 MB)\n",
            "\u001b[2K   \u001b[90m\u2501\u2501\u2501\u2501\u2501\u2501\u2501\u2501\u2501\u2501\u2501\u2501\u2501\u2501\u2501\u2501\u2501\u2501\u2501\u2501\u2501\u2501\u2501\u2501\u2501\u2501\u2501\u2501\u2501\u2501\u2501\u2501\u2501\u2501\u2501\u2501\u2501\u2501\u2501\u2501\u001b[0m \u001b[32m7.3/7.3 MB\u001b[0m \u001b[31m44.4 MB/s\u001b[0m eta \u001b[36m0:00:00\u001b[0m\n",
            "\u001b[?25hDownloading loguru-0.7.3-py3-none-any.whl (61 kB)\n",
            "\u001b[2K   \u001b[90m\u2501\u2501\u2501\u2501\u2501\u2501\u2501\u2501\u2501\u2501\u2501\u2501\u2501\u2501\u2501\u2501\u2501\u2501\u2501\u2501\u2501\u2501\u2501\u2501\u2501\u2501\u2501\u2501\u2501\u2501\u2501\u2501\u2501\u2501\u2501\u2501\u2501\u2501\u2501\u2501\u001b[0m \u001b[32m61.6/61.6 kB\u001b[0m \u001b[31m4.3 MB/s\u001b[0m eta \u001b[36m0:00:00\u001b[0m\n",
            "\u001b[?25hDownloading ruyaml-0.91.0-py3-none-any.whl (108 kB)\n",
            "\u001b[2K   \u001b[90m\u2501\u2501\u2501\u2501\u2501\u2501\u2501\u2501\u2501\u2501\u2501\u2501\u2501\u2501\u2501\u2501\u2501\u2501\u2501\u2501\u2501\u2501\u2501\u2501\u2501\u2501\u2501\u2501\u2501\u2501\u2501\u2501\u2501\u2501\u2501\u2501\u2501\u2501\u2501\u2501\u001b[0m \u001b[32m108.9/108.9 kB\u001b[0m \u001b[31m7.9 MB/s\u001b[0m eta \u001b[36m0:00:00\u001b[0m\n",
            "\u001b[?25hDownloading python_dotenv-1.1.1-py3-none-any.whl (20 kB)\n",
            "Downloading Deprecated-1.2.18-py2.py3-none-any.whl (10.0 kB)\n",
            "Downloading email_validator-2.2.0-py3-none-any.whl (33 kB)\n",
            "Downloading dnspython-2.7.0-py3-none-any.whl (313 kB)\n",
            "\u001b[2K   \u001b[90m\u2501\u2501\u2501\u2501\u2501\u2501\u2501\u2501\u2501\u2501\u2501\u2501\u2501\u2501\u2501\u2501\u2501\u2501\u2501\u2501\u2501\u2501\u2501\u2501\u2501\u2501\u2501\u2501\u2501\u2501\u2501\u2501\u2501\u2501\u2501\u2501\u2501\u2501\u2501\u2501\u001b[0m \u001b[32m313.6/313.6 kB\u001b[0m \u001b[31m24.8 MB/s\u001b[0m eta \u001b[36m0:00:00\u001b[0m\n",
            "\u001b[?25hBuilding wheels for collected packages: asciitree\n",
            "  Building wheel for asciitree (setup.py) ... \u001b[?25l\u001b[?25hdone\n",
            "  Created wheel for asciitree: filename=asciitree-0.3.3-py3-none-any.whl size=5031 sha256=8bc99dacac6e16f723c9d35e37c543ee4dca9238839f16d12db63ffa8df639f7\n",
            "  Stored in directory: /root/.cache/pip/wheels/71/c1/da/23077eb3b87d24d6f3852ed1ed1a1ac2d3c885ad6ebd2b4a07\n",
            "Successfully built asciitree\n",
            "Installing collected packages: asciitree, yacs, torchinfo, tensorboardX, ruyaml, python-dotenv, pydantic-core, loguru, imagecodecs, fastremap, fasteners, edt, dnspython, diplib, deprecated, pydantic, numcodecs, fill-voids, email-validator, zarr, xarray, pydantic-settings, bioimageio.spec, bioimageio.core, biapy\n",
            "  Attempting uninstall: pydantic-core\n",
            "    Found existing installation: pydantic_core 2.33.2\n",
            "    Uninstalling pydantic_core-2.33.2:\n",
            "      Successfully uninstalled pydantic_core-2.33.2\n",
            "  Attempting uninstall: pydantic\n",
            "    Found existing installation: pydantic 2.11.7\n",
            "    Uninstalling pydantic-2.11.7:\n",
            "      Successfully uninstalled pydantic-2.11.7\n",
            "  Attempting uninstall: xarray\n",
            "    Found existing installation: xarray 2025.3.1\n",
            "    Uninstalling xarray-2025.3.1:\n",
            "      Successfully uninstalled xarray-2025.3.1\n",
            "Successfully installed asciitree-0.3.3 biapy-3.6.1 bioimageio.core-0.8.0 bioimageio.spec-0.5.4.1 deprecated-1.2.18 diplib-3.5.2 dnspython-2.7.0 edt-3.0.0 email-validator-2.2.0 fasteners-0.19 fastremap-1.17.1 fill-voids-2.1.0 imagecodecs-2025.3.30 loguru-0.7.3 numcodecs-0.15.1 pydantic-2.9.2 pydantic-core-2.23.4 pydantic-settings-2.10.1 python-dotenv-1.1.1 ruyaml-0.91.0 tensorboardX-2.6.4 torchinfo-1.8.0 xarray-2025.1.2 yacs-0.1.8 zarr-2.18.7\n",
            "Looking in indexes: https://download.pytorch.org/whl/cu118\n",
            "Collecting torch==2.4.0\n",
            "  Downloading https://download.pytorch.org/whl/cu118/torch-2.4.0%2Bcu118-cp311-cp311-linux_x86_64.whl (857.8 MB)\n",
            "\u001b[2K     \u001b[90m\u2501\u2501\u2501\u2501\u2501\u2501\u2501\u2501\u2501\u2501\u2501\u2501\u2501\u2501\u2501\u2501\u2501\u2501\u2501\u2501\u2501\u2501\u2501\u2501\u2501\u2501\u2501\u2501\u2501\u2501\u2501\u2501\u2501\u2501\u2501\u2501\u2501\u2501\u2501\u001b[0m \u001b[32m857.8/857.8 MB\u001b[0m \u001b[31m1.6 MB/s\u001b[0m eta \u001b[36m0:00:00\u001b[0m\n",
            "\u001b[?25hCollecting torchvision==0.19.0\n",
            "  Downloading https://download.pytorch.org/whl/cu118/torchvision-0.19.0%2Bcu118-cp311-cp311-linux_x86_64.whl (6.3 MB)\n",
            "\u001b[2K     \u001b[90m\u2501\u2501\u2501\u2501\u2501\u2501\u2501\u2501\u2501\u2501\u2501\u2501\u2501\u2501\u2501\u2501\u2501\u2501\u2501\u2501\u2501\u2501\u2501\u2501\u2501\u2501\u2501\u2501\u2501\u2501\u2501\u2501\u2501\u2501\u2501\u2501\u2501\u2501\u2501\u2501\u001b[0m \u001b[32m6.3/6.3 MB\u001b[0m \u001b[31m64.6 MB/s\u001b[0m eta \u001b[36m0:00:00\u001b[0m\n",
            "\u001b[?25hCollecting torchaudio==2.4.0\n",
            "  Downloading https://download.pytorch.org/whl/cu118/torchaudio-2.4.0%2Bcu118-cp311-cp311-linux_x86_64.whl (3.3 MB)\n",
            "\u001b[2K     \u001b[90m\u2501\u2501\u2501\u2501\u2501\u2501\u2501\u2501\u2501\u2501\u2501\u2501\u2501\u2501\u2501\u2501\u2501\u2501\u2501\u2501\u2501\u2501\u2501\u2501\u2501\u2501\u2501\u2501\u2501\u2501\u2501\u2501\u2501\u2501\u2501\u2501\u2501\u2501\u2501\u2501\u001b[0m \u001b[32m3.3/3.3 MB\u001b[0m \u001b[31m27.2 MB/s\u001b[0m eta \u001b[36m0:00:00\u001b[0m\n",
            "\u001b[?25hRequirement already satisfied: filelock in /usr/local/lib/python3.11/dist-packages (from torch==2.4.0) (3.18.0)\n",
            "Requirement already satisfied: typing-extensions>=4.8.0 in /usr/local/lib/python3.11/dist-packages (from torch==2.4.0) (4.14.1)\n",
            "Requirement already satisfied: sympy in /usr/local/lib/python3.11/dist-packages (from torch==2.4.0) (1.13.1)\n",
            "Requirement already satisfied: networkx in /usr/local/lib/python3.11/dist-packages (from torch==2.4.0) (3.5)\n",
            "Requirement already satisfied: jinja2 in /usr/local/lib/python3.11/dist-packages (from torch==2.4.0) (3.1.6)\n",
            "Requirement already satisfied: fsspec in /usr/local/lib/python3.11/dist-packages (from torch==2.4.0) (2025.3.2)\n",
            "Collecting nvidia-cuda-nvrtc-cu11==11.8.89 (from torch==2.4.0)\n",
            "  Downloading https://download.pytorch.org/whl/cu118/nvidia_cuda_nvrtc_cu11-11.8.89-py3-none-manylinux1_x86_64.whl (23.2 MB)\n",
            "\u001b[2K     \u001b[90m\u2501\u2501\u2501\u2501\u2501\u2501\u2501\u2501\u2501\u2501\u2501\u2501\u2501\u2501\u2501\u2501\u2501\u2501\u2501\u2501\u2501\u2501\u2501\u2501\u2501\u2501\u2501\u2501\u2501\u2501\u2501\u2501\u2501\u2501\u2501\u2501\u2501\u2501\u2501\u2501\u001b[0m \u001b[32m23.2/23.2 MB\u001b[0m \u001b[31m58.4 MB/s\u001b[0m eta \u001b[36m0:00:00\u001b[0m\n",
            "\u001b[?25hCollecting nvidia-cuda-runtime-cu11==11.8.89 (from torch==2.4.0)\n",
            "  Downloading https://download.pytorch.org/whl/cu118/nvidia_cuda_runtime_cu11-11.8.89-py3-none-manylinux1_x86_64.whl (875 kB)\n",
            "\u001b[2K     \u001b[90m\u2501\u2501\u2501\u2501\u2501\u2501\u2501\u2501\u2501\u2501\u2501\u2501\u2501\u2501\u2501\u2501\u2501\u2501\u2501\u2501\u2501\u2501\u2501\u2501\u2501\u2501\u2501\u2501\u2501\u2501\u2501\u2501\u2501\u2501\u2501\u2501\u2501\u2501\u001b[0m \u001b[32m875.6/875.6 kB\u001b[0m \u001b[31m42.4 MB/s\u001b[0m eta \u001b[36m0:00:00\u001b[0m\n",
            "\u001b[?25hCollecting nvidia-cuda-cupti-cu11==11.8.87 (from torch==2.4.0)\n",
            "  Downloading https://download.pytorch.org/whl/cu118/nvidia_cuda_cupti_cu11-11.8.87-py3-none-manylinux1_x86_64.whl (13.1 MB)\n",
            "\u001b[2K     \u001b[90m\u2501\u2501\u2501\u2501\u2501\u2501\u2501\u2501\u2501\u2501\u2501\u2501\u2501\u2501\u2501\u2501\u2501\u2501\u2501\u2501\u2501\u2501\u2501\u2501\u2501\u2501\u2501\u2501\u2501\u2501\u2501\u2501\u2501\u2501\u2501\u2501\u2501\u2501\u2501\u2501\u001b[0m \u001b[32m13.1/13.1 MB\u001b[0m \u001b[31m63.1 MB/s\u001b[0m eta \u001b[36m0:00:00\u001b[0m\n",
            "\u001b[?25hCollecting nvidia-cudnn-cu11==9.1.0.70 (from torch==2.4.0)\n",
            "  Downloading https://download.pytorch.org/whl/cu118/nvidia_cudnn_cu11-9.1.0.70-py3-none-manylinux2014_x86_64.whl (663.9 MB)\n",
            "\u001b[2K     \u001b[90m\u2501\u2501\u2501\u2501\u2501\u2501\u2501\u2501\u2501\u2501\u2501\u2501\u2501\u2501\u2501\u2501\u2501\u2501\u2501\u2501\u2501\u2501\u2501\u2501\u2501\u2501\u2501\u2501\u2501\u2501\u2501\u2501\u2501\u2501\u2501\u2501\u2501\u2501\u2501\u001b[0m \u001b[32m663.9/663.9 MB\u001b[0m \u001b[31m1.3 MB/s\u001b[0m eta \u001b[36m0:00:00\u001b[0m\n",
            "\u001b[?25hCollecting nvidia-cublas-cu11==11.11.3.6 (from torch==2.4.0)\n",
            "  Downloading https://download.pytorch.org/whl/cu118/nvidia_cublas_cu11-11.11.3.6-py3-none-manylinux1_x86_64.whl (417.9 MB)\n",
            "\u001b[2K     \u001b[90m\u2501\u2501\u2501\u2501\u2501\u2501\u2501\u2501\u2501\u2501\u2501\u2501\u2501\u2501\u2501\u2501\u2501\u2501\u2501\u2501\u2501\u2501\u2501\u2501\u2501\u2501\u2501\u2501\u2501\u2501\u2501\u2501\u2501\u2501\u2501\u2501\u2501\u2501\u2501\u001b[0m \u001b[32m417.9/417.9 MB\u001b[0m \u001b[31m5.1 MB/s\u001b[0m eta \u001b[36m0:00:00\u001b[0m\n",
            "\u001b[?25hCollecting nvidia-cufft-cu11==10.9.0.58 (from torch==2.4.0)\n",
            "  Downloading https://download.pytorch.org/whl/cu118/nvidia_cufft_cu11-10.9.0.58-py3-none-manylinux1_x86_64.whl (168.4 MB)\n",
            "\u001b[2K     \u001b[90m\u2501\u2501\u2501\u2501\u2501\u2501\u2501\u2501\u2501\u2501\u2501\u2501\u2501\u2501\u2501\u2501\u2501\u2501\u2501\u2501\u2501\u2501\u2501\u2501\u2501\u2501\u2501\u2501\u2501\u2501\u2501\u2501\u2501\u2501\u2501\u2501\u2501\u2501\u2501\u001b[0m \u001b[32m168.4/168.4 MB\u001b[0m \u001b[31m6.1 MB/s\u001b[0m eta \u001b[36m0:00:00\u001b[0m\n",
            "\u001b[?25hCollecting nvidia-curand-cu11==10.3.0.86 (from torch==2.4.0)\n",
            "  Downloading https://download.pytorch.org/whl/cu118/nvidia_curand_cu11-10.3.0.86-py3-none-manylinux1_x86_64.whl (58.1 MB)\n",
            "\u001b[2K     \u001b[90m\u2501\u2501\u2501\u2501\u2501\u2501\u2501\u2501\u2501\u2501\u2501\u2501\u2501\u2501\u2501\u2501\u2501\u2501\u2501\u2501\u2501\u2501\u2501\u2501\u2501\u2501\u2501\u2501\u2501\u2501\u2501\u2501\u2501\u2501\u2501\u2501\u2501\u2501\u2501\u2501\u001b[0m \u001b[32m58.1/58.1 MB\u001b[0m \u001b[31m12.9 MB/s\u001b[0m eta \u001b[36m0:00:00\u001b[0m\n",
            "\u001b[?25hCollecting nvidia-cusolver-cu11==11.4.1.48 (from torch==2.4.0)\n",
            "  Downloading https://download.pytorch.org/whl/cu118/nvidia_cusolver_cu11-11.4.1.48-py3-none-manylinux1_x86_64.whl (128.2 MB)\n",
            "\u001b[2K     \u001b[90m\u2501\u2501\u2501\u2501\u2501\u2501\u2501\u2501\u2501\u2501\u2501\u2501\u2501\u2501\u2501\u2501\u2501\u2501\u2501\u2501\u2501\u2501\u2501\u2501\u2501\u2501\u2501\u2501\u2501\u2501\u2501\u2501\u2501\u2501\u2501\u2501\u2501\u2501\u2501\u001b[0m \u001b[32m128.2/128.2 MB\u001b[0m \u001b[31m7.8 MB/s\u001b[0m eta \u001b[36m0:00:00\u001b[0m\n",
            "\u001b[?25hCollecting nvidia-cusparse-cu11==11.7.5.86 (from torch==2.4.0)\n",
            "  Downloading https://download.pytorch.org/whl/cu118/nvidia_cusparse_cu11-11.7.5.86-py3-none-manylinux1_x86_64.whl (204.1 MB)\n",
            "\u001b[2K     \u001b[90m\u2501\u2501\u2501\u2501\u2501\u2501\u2501\u2501\u2501\u2501\u2501\u2501\u2501\u2501\u2501\u2501\u2501\u2501\u2501\u2501\u2501\u2501\u2501\u2501\u2501\u2501\u2501\u2501\u2501\u2501\u2501\u2501\u2501\u2501\u2501\u2501\u2501\u2501\u2501\u001b[0m \u001b[32m204.1/204.1 MB\u001b[0m \u001b[31m5.9 MB/s\u001b[0m eta \u001b[36m0:00:00\u001b[0m\n",
            "\u001b[?25hCollecting nvidia-nccl-cu11==2.20.5 (from torch==2.4.0)\n",
            "  Downloading https://download.pytorch.org/whl/cu118/nvidia_nccl_cu11-2.20.5-py3-none-manylinux2014_x86_64.whl (142.9 MB)\n",
            "\u001b[2K     \u001b[90m\u2501\u2501\u2501\u2501\u2501\u2501\u2501\u2501\u2501\u2501\u2501\u2501\u2501\u2501\u2501\u2501\u2501\u2501\u2501\u2501\u2501\u2501\u2501\u2501\u2501\u2501\u2501\u2501\u2501\u2501\u2501\u2501\u2501\u2501\u2501\u2501\u2501\u2501\u2501\u001b[0m \u001b[32m142.9/142.9 MB\u001b[0m \u001b[31m8.0 MB/s\u001b[0m eta \u001b[36m0:00:00\u001b[0m\n",
            "\u001b[?25hCollecting nvidia-nvtx-cu11==11.8.86 (from torch==2.4.0)\n",
            "  Downloading https://download.pytorch.org/whl/cu118/nvidia_nvtx_cu11-11.8.86-py3-none-manylinux1_x86_64.whl (99 kB)\n",
            "\u001b[2K     \u001b[90m\u2501\u2501\u2501\u2501\u2501\u2501\u2501\u2501\u2501\u2501\u2501\u2501\u2501\u2501\u2501\u2501\u2501\u2501\u2501\u2501\u2501\u2501\u2501\u2501\u2501\u2501\u2501\u2501\u2501\u2501\u2501\u2501\u2501\u2501\u2501\u2501\u2501\u2501\u2501\u2501\u001b[0m \u001b[32m99.1/99.1 kB\u001b[0m \u001b[31m7.8 MB/s\u001b[0m eta \u001b[36m0:00:00\u001b[0m\n",
            "\u001b[?25hCollecting triton==3.0.0 (from torch==2.4.0)\n",
            "  Downloading https://download.pytorch.org/whl/triton-3.0.0-1-cp311-cp311-manylinux2014_x86_64.manylinux_2_17_x86_64.whl (209.4 MB)\n",
            "\u001b[2K     \u001b[90m\u2501\u2501\u2501\u2501\u2501\u2501\u2501\u2501\u2501\u2501\u2501\u2501\u2501\u2501\u2501\u2501\u2501\u2501\u2501\u2501\u2501\u2501\u2501\u2501\u2501\u2501\u2501\u2501\u2501\u2501\u2501\u2501\u2501\u2501\u2501\u2501\u2501\u2501\u2501\u001b[0m \u001b[32m209.4/209.4 MB\u001b[0m \u001b[31m6.1 MB/s\u001b[0m eta \u001b[36m0:00:00\u001b[0m\n",
            "\u001b[?25hRequirement already satisfied: numpy in /usr/local/lib/python3.11/dist-packages (from torchvision==0.19.0) (2.0.2)\n",
            "Requirement already satisfied: pillow!=8.3.*,>=5.3.0 in /usr/local/lib/python3.11/dist-packages (from torchvision==0.19.0) (11.2.1)\n",
            "Requirement already satisfied: MarkupSafe>=2.0 in /usr/local/lib/python3.11/dist-packages (from jinja2->torch==2.4.0) (3.0.2)\n",
            "Requirement already satisfied: mpmath<1.4,>=1.1.0 in /usr/local/lib/python3.11/dist-packages (from sympy->torch==2.4.0) (1.3.0)\n",
            "Installing collected packages: triton, nvidia-nvtx-cu11, nvidia-nccl-cu11, nvidia-cusparse-cu11, nvidia-curand-cu11, nvidia-cufft-cu11, nvidia-cuda-runtime-cu11, nvidia-cuda-nvrtc-cu11, nvidia-cuda-cupti-cu11, nvidia-cublas-cu11, nvidia-cusolver-cu11, nvidia-cudnn-cu11, torch, torchvision, torchaudio\n",
            "  Attempting uninstall: triton\n",
            "    Found existing installation: triton 3.2.0\n",
            "    Uninstalling triton-3.2.0:\n",
            "      Successfully uninstalled triton-3.2.0\n",
            "  Attempting uninstall: torch\n",
            "    Found existing installation: torch 2.6.0+cu124\n",
            "    Uninstalling torch-2.6.0+cu124:\n",
            "      Successfully uninstalled torch-2.6.0+cu124\n",
            "  Attempting uninstall: torchvision\n",
            "    Found existing installation: torchvision 0.21.0+cu124\n",
            "    Uninstalling torchvision-0.21.0+cu124:\n",
            "      Successfully uninstalled torchvision-0.21.0+cu124\n",
            "  Attempting uninstall: torchaudio\n",
            "    Found existing installation: torchaudio 2.6.0+cu124\n",
            "    Uninstalling torchaudio-2.6.0+cu124:\n",
            "      Successfully uninstalled torchaudio-2.6.0+cu124\n",
            "Successfully installed nvidia-cublas-cu11-11.11.3.6 nvidia-cuda-cupti-cu11-11.8.87 nvidia-cuda-nvrtc-cu11-11.8.89 nvidia-cuda-runtime-cu11-11.8.89 nvidia-cudnn-cu11-9.1.0.70 nvidia-cufft-cu11-10.9.0.58 nvidia-curand-cu11-10.3.0.86 nvidia-cusolver-cu11-11.4.1.48 nvidia-cusparse-cu11-11.7.5.86 nvidia-nccl-cu11-2.20.5 nvidia-nvtx-cu11-11.8.86 torch-2.4.0+cu118 torchaudio-2.4.0+cu118 torchvision-0.19.0+cu118 triton-3.0.0\n",
            "Collecting timm==1.0.14\n",
            "  Downloading timm-1.0.14-py3-none-any.whl.metadata (50 kB)\n",
            "\u001b[2K     \u001b[90m\u2501\u2501\u2501\u2501\u2501\u2501\u2501\u2501\u2501\u2501\u2501\u2501\u2501\u2501\u2501\u2501\u2501\u2501\u2501\u2501\u2501\u2501\u2501\u2501\u2501\u2501\u2501\u2501\u2501\u2501\u2501\u2501\u2501\u2501\u2501\u2501\u2501\u2501\u2501\u2501\u001b[0m \u001b[32m50.8/50.8 kB\u001b[0m \u001b[31m2.3 MB/s\u001b[0m eta \u001b[36m0:00:00\u001b[0m\n",
            "\u001b[?25hCollecting pytorch-msssim\n",
            "  Downloading pytorch_msssim-1.0.0-py3-none-any.whl.metadata (8.0 kB)\n",
            "Collecting torchmetrics==1.4.* (from torchmetrics[image]==1.4.*)\n",
            "  Downloading torchmetrics-1.4.3-py3-none-any.whl.metadata (19 kB)\n",
            "Requirement already satisfied: torch in /usr/local/lib/python3.11/dist-packages (from timm==1.0.14) (2.4.0+cu118)\n",
            "Requirement already satisfied: torchvision in /usr/local/lib/python3.11/dist-packages (from timm==1.0.14) (0.19.0+cu118)\n",
            "Requirement already satisfied: pyyaml in /usr/local/lib/python3.11/dist-packages (from timm==1.0.14) (6.0.2)\n",
            "Requirement already satisfied: huggingface_hub in /usr/local/lib/python3.11/dist-packages (from timm==1.0.14) (0.33.2)\n",
            "Requirement already satisfied: safetensors in /usr/local/lib/python3.11/dist-packages (from timm==1.0.14) (0.5.3)\n",
            "Requirement already satisfied: numpy>1.20.0 in /usr/local/lib/python3.11/dist-packages (from torchmetrics==1.4.*->torchmetrics[image]==1.4.*) (2.0.2)\n",
            "Requirement already satisfied: packaging>17.1 in /usr/local/lib/python3.11/dist-packages (from torchmetrics==1.4.*->torchmetrics[image]==1.4.*) (24.2)\n",
            "Collecting lightning-utilities>=0.8.0 (from torchmetrics==1.4.*->torchmetrics[image]==1.4.*)\n",
            "  Downloading lightning_utilities-0.14.3-py3-none-any.whl.metadata (5.6 kB)\n",
            "Collecting torch-fidelity<=0.4.0 (from torchmetrics[image]==1.4.*)\n",
            "  Downloading torch_fidelity-0.3.0-py3-none-any.whl.metadata (2.0 kB)\n",
            "Requirement already satisfied: scipy>1.0.0 in /usr/local/lib/python3.11/dist-packages (from torchmetrics[image]==1.4.*) (1.15.3)\n",
            "Requirement already satisfied: setuptools in /usr/local/lib/python3.11/dist-packages (from lightning-utilities>=0.8.0->torchmetrics==1.4.*->torchmetrics[image]==1.4.*) (75.2.0)\n",
            "Requirement already satisfied: typing_extensions in /usr/local/lib/python3.11/dist-packages (from lightning-utilities>=0.8.0->torchmetrics==1.4.*->torchmetrics[image]==1.4.*) (4.14.1)\n",
            "Requirement already satisfied: filelock in /usr/local/lib/python3.11/dist-packages (from torch->timm==1.0.14) (3.18.0)\n",
            "Requirement already satisfied: sympy in /usr/local/lib/python3.11/dist-packages (from torch->timm==1.0.14) (1.13.1)\n",
            "Requirement already satisfied: networkx in /usr/local/lib/python3.11/dist-packages (from torch->timm==1.0.14) (3.5)\n",
            "Requirement already satisfied: jinja2 in /usr/local/lib/python3.11/dist-packages (from torch->timm==1.0.14) (3.1.6)\n",
            "Requirement already satisfied: fsspec in /usr/local/lib/python3.11/dist-packages (from torch->timm==1.0.14) (2025.3.2)\n",
            "Requirement already satisfied: nvidia-cuda-nvrtc-cu11==11.8.89 in /usr/local/lib/python3.11/dist-packages (from torch->timm==1.0.14) (11.8.89)\n",
            "Requirement already satisfied: nvidia-cuda-runtime-cu11==11.8.89 in /usr/local/lib/python3.11/dist-packages (from torch->timm==1.0.14) (11.8.89)\n",
            "Requirement already satisfied: nvidia-cuda-cupti-cu11==11.8.87 in /usr/local/lib/python3.11/dist-packages (from torch->timm==1.0.14) (11.8.87)\n",
            "Requirement already satisfied: nvidia-cudnn-cu11==9.1.0.70 in /usr/local/lib/python3.11/dist-packages (from torch->timm==1.0.14) (9.1.0.70)\n",
            "Requirement already satisfied: nvidia-cublas-cu11==11.11.3.6 in /usr/local/lib/python3.11/dist-packages (from torch->timm==1.0.14) (11.11.3.6)\n",
            "Requirement already satisfied: nvidia-cufft-cu11==10.9.0.58 in /usr/local/lib/python3.11/dist-packages (from torch->timm==1.0.14) (10.9.0.58)\n",
            "Requirement already satisfied: nvidia-curand-cu11==10.3.0.86 in /usr/local/lib/python3.11/dist-packages (from torch->timm==1.0.14) (10.3.0.86)\n",
            "Requirement already satisfied: nvidia-cusolver-cu11==11.4.1.48 in /usr/local/lib/python3.11/dist-packages (from torch->timm==1.0.14) (11.4.1.48)\n",
            "Requirement already satisfied: nvidia-cusparse-cu11==11.7.5.86 in /usr/local/lib/python3.11/dist-packages (from torch->timm==1.0.14) (11.7.5.86)\n",
            "Requirement already satisfied: nvidia-nccl-cu11==2.20.5 in /usr/local/lib/python3.11/dist-packages (from torch->timm==1.0.14) (2.20.5)\n",
            "Requirement already satisfied: nvidia-nvtx-cu11==11.8.86 in /usr/local/lib/python3.11/dist-packages (from torch->timm==1.0.14) (11.8.86)\n",
            "Requirement already satisfied: triton==3.0.0 in /usr/local/lib/python3.11/dist-packages (from torch->timm==1.0.14) (3.0.0)\n",
            "Requirement already satisfied: Pillow in /usr/local/lib/python3.11/dist-packages (from torch-fidelity<=0.4.0->torchmetrics[image]==1.4.*) (11.2.1)\n",
            "Requirement already satisfied: tqdm in /usr/local/lib/python3.11/dist-packages (from torch-fidelity<=0.4.0->torchmetrics[image]==1.4.*) (4.67.1)\n",
            "Requirement already satisfied: requests in /usr/local/lib/python3.11/dist-packages (from huggingface_hub->timm==1.0.14) (2.32.3)\n",
            "Requirement already satisfied: hf-xet<2.0.0,>=1.1.2 in /usr/local/lib/python3.11/dist-packages (from huggingface_hub->timm==1.0.14) (1.1.5)\n",
            "Requirement already satisfied: MarkupSafe>=2.0 in /usr/local/lib/python3.11/dist-packages (from jinja2->torch->timm==1.0.14) (3.0.2)\n",
            "Requirement already satisfied: charset-normalizer<4,>=2 in /usr/local/lib/python3.11/dist-packages (from requests->huggingface_hub->timm==1.0.14) (3.4.2)\n",
            "Requirement already satisfied: idna<4,>=2.5 in /usr/local/lib/python3.11/dist-packages (from requests->huggingface_hub->timm==1.0.14) (3.10)\n",
            "Requirement already satisfied: urllib3<3,>=1.21.1 in /usr/local/lib/python3.11/dist-packages (from requests->huggingface_hub->timm==1.0.14) (2.4.0)\n",
            "Requirement already satisfied: certifi>=2017.4.17 in /usr/local/lib/python3.11/dist-packages (from requests->huggingface_hub->timm==1.0.14) (2025.7.9)\n",
            "Requirement already satisfied: mpmath<1.4,>=1.1.0 in /usr/local/lib/python3.11/dist-packages (from sympy->torch->timm==1.0.14) (1.3.0)\n",
            "Downloading timm-1.0.14-py3-none-any.whl (2.4 MB)\n",
            "\u001b[2K   \u001b[90m\u2501\u2501\u2501\u2501\u2501\u2501\u2501\u2501\u2501\u2501\u2501\u2501\u2501\u2501\u2501\u2501\u2501\u2501\u2501\u2501\u2501\u2501\u2501\u2501\u2501\u2501\u2501\u2501\u2501\u2501\u2501\u2501\u2501\u2501\u2501\u2501\u2501\u2501\u2501\u2501\u001b[0m \u001b[32m2.4/2.4 MB\u001b[0m \u001b[31m39.7 MB/s\u001b[0m eta \u001b[36m0:00:00\u001b[0m\n",
            "\u001b[?25hDownloading torchmetrics-1.4.3-py3-none-any.whl (869 kB)\n",
            "\u001b[2K   \u001b[90m\u2501\u2501\u2501\u2501\u2501\u2501\u2501\u2501\u2501\u2501\u2501\u2501\u2501\u2501\u2501\u2501\u2501\u2501\u2501\u2501\u2501\u2501\u2501\u2501\u2501\u2501\u2501\u2501\u2501\u2501\u2501\u2501\u2501\u2501\u2501\u2501\u2501\u2501\u2501\u2501\u001b[0m \u001b[32m869.5/869.5 kB\u001b[0m \u001b[31m57.7 MB/s\u001b[0m eta \u001b[36m0:00:00\u001b[0m\n",
            "\u001b[?25hDownloading pytorch_msssim-1.0.0-py3-none-any.whl (7.7 kB)\n",
            "Downloading lightning_utilities-0.14.3-py3-none-any.whl (28 kB)\n",
            "Downloading torch_fidelity-0.3.0-py3-none-any.whl (37 kB)\n",
            "Installing collected packages: lightning-utilities, torchmetrics, pytorch-msssim, torch-fidelity, timm\n",
            "  Attempting uninstall: timm\n",
            "    Found existing installation: timm 1.0.17\n",
            "    Uninstalling timm-1.0.17:\n",
            "      Successfully uninstalled timm-1.0.17\n",
            "Successfully installed lightning-utilities-0.14.3 pytorch-msssim-1.0.0 timm-1.0.14 torch-fidelity-0.3.0 torchmetrics-1.4.3\n"
          ]
        }
      ],
      "source": [
        "#@markdown ##Play to install BiaPy and its dependences\n",
        "# Install latest release of BiaPy\n",
        "!pip install biapy==3.6.1\n",
        "\n",
        "# Then install Pytorch + CUDA 11.8\n",
        "!pip install torch==2.4.0 torchvision==0.19.0 torchaudio==2.4.0 --index-url https://download.pytorch.org/whl/cu118\n",
        "\n",
        "# Finally install some packages that rely on the Pytorch installation\n",
        "!pip install timm==1.0.14 pytorch-msssim torchmetrics[image]==1.4.*\n",
        "\n",
        "\n",
        "import os\n",
        "import sys\n",
        "import numpy as np\n",
        "from tqdm.notebook import tqdm\n",
        "from skimage.io import imread\n",
        "import ipywidgets as widgets\n",
        "from ipywidgets import Output\n",
        "from biapy import BiaPy\n",
        "\n",
        "changed_source = False"
      ]
    },
    {
      "cell_type": "markdown",
      "metadata": {
        "id": "XZmI9c09OhSo"
      },
      "source": [
        "## **Manage File(s) Source**\n",
        "---\n",
        "\n",
        "The input folder can be provided using three different options:\n",
        "1. **Direct Upload**: Directly upload the desired folder.\n",
        "2. **Google Drive**: Use a folder stored in your Google Drive.\n",
        "3. **Sample Data**: Use a sample dataset provided by us.\n",
        "\n",
        "The steps you'll need to follow vary depending on your chosen option. These steps are detailed in the subsequent sections."
      ]
    },
    {
      "cell_type": "markdown",
      "metadata": {
        "id": "GPksHcHLO0SU"
      },
      "source": [
        "### **Option 1: Upload Local Files to the Notebook**\n",
        "---\n",
        "You will be prompted to upload your files to Colab and they will be stored under `/content/input/`."
      ]
    },
    {
      "cell_type": "code",
      "execution_count": null,
      "metadata": {
        "cellView": "form",
        "id": "xGS5LCaHPWR8"
      },
      "outputs": [],
      "source": [
        "#@markdown ##Play the cell to upload local files (train raw images)\n",
        "from google.colab import files\n",
        "!mkdir -p /content/input/train/raw\n",
        "%cd /content/input/train/raw\n",
        "uploaded = files.upload()\n",
        "%cd /content"
      ]
    },
    {
      "cell_type": "code",
      "execution_count": null,
      "metadata": {
        "cellView": "form",
        "id": "qyvRptgjXMMN"
      },
      "outputs": [],
      "source": [
        "#@markdown ##Play the cell to upload csv files (instance coordinates)\n",
        "\n",
        "from google.colab import files\n",
        "!mkdir -p /content/input/train/label\n",
        "%cd /content/input/train/label\n",
        "uploaded = files.upload()\n",
        "%cd /content"
      ]
    },
    {
      "cell_type": "code",
      "execution_count": null,
      "metadata": {
        "cellView": "form",
        "id": "PafWC0U3XYjd"
      },
      "outputs": [],
      "source": [
        "#@markdown ##Play the cell to upload local files (test raw images)\n",
        "\n",
        "from google.colab import files\n",
        "!mkdir -p /content/input/test/raw\n",
        "%cd /content/input/test/raw\n",
        "uploaded = files.upload()\n",
        "%cd /content"
      ]
    },
    {
      "cell_type": "code",
      "execution_count": null,
      "metadata": {
        "cellView": "form",
        "id": "Tl1qtfeJXYp1"
      },
      "outputs": [],
      "source": [
        "#@markdown ##Play the cell to upload csv files (instance coordinates)\n",
        "\n",
        "from google.colab import files\n",
        "!mkdir -p /content/input/test/label\n",
        "%cd /content/input/test/label\n",
        "uploaded = files.upload()\n",
        "%cd /content"
      ]
    },
    {
      "cell_type": "markdown",
      "metadata": {
        "id": "nLXGd55gUYjK"
      },
      "source": [
        "### **Option 2: Mount Your Google Drive**\n",
        "---\n",
        "\n",
        "If you wish to use this notebook with data from your Google Drive, you'll first need to mount the drive to this notebook.\n",
        "\n",
        "Execute the cell below to initiate the Google Drive mounting process. A link will be displayed click on it. In the new browser window that opens, choose your drive and click 'Allow'. Copy the code that appears, return to this notebook, paste the code into the cell, and press 'Enter'. This action grants Colab access to your Google Drive data.\n",
        "\n",
        "After this process, you can access your data via the **Files** tab, located on the top left of this notebook."
      ]
    },
    {
      "cell_type": "code",
      "execution_count": null,
      "metadata": {
        "cellView": "form",
        "id": "h-yXrZLdUk3Z"
      },
      "outputs": [],
      "source": [
        "#@markdown ##Play the cell to connect your Google Drive to Colab\n",
        "\n",
        "#@markdown * Click on the URL.\n",
        "\n",
        "#@markdown * Sign in your Google Account.\n",
        "\n",
        "#@markdown * Copy the authorization code.\n",
        "\n",
        "#@markdown * Enter the authorization code.\n",
        "\n",
        "#@markdown * Click on \"Files\" site on the right. Refresh the site. Your Google Drive folder should now be available here as \"drive\".\n",
        "\n",
        "# mount user's Google Drive to Google Colab.\n",
        "from google.colab import drive\n",
        "drive.mount('/content/gdrive')"
      ]
    },
    {
      "cell_type": "markdown",
      "metadata": {
        "id": "u9FcxFB3H7az"
      },
      "source": [
        "### **Option 3: Download an Example Dataset**\n",
        "---\n",
        "Don't have data readily available but still want to test the notebook? No problem! Simply execute the following cell to download a sample dataset.\n",
        "\n",
        "Specifically, we'll use the  [NucMM-Z](https://arxiv.org/abs/2107.05840) which is publicly available online. While this dataset is tailored for instance segmentation, we'll generate a CSV file detailing the center of each instance, making it compatible with our workflow."
      ]
    },
    {
      "cell_type": "code",
      "execution_count": null,
      "metadata": {
        "cellView": "form",
        "colab": {
          "base_uri": "https://localhost:8080/"
        },
        "id": "pD3aoo-ZUtW4",
        "outputId": "da1c28d3-6b1e-4be7-8baf-9e3cbcfd2e62"
      },
      "outputs": [
        {
          "output_type": "stream",
          "name": "stdout",
          "text": [
            "Dataset downloaded and unzipped under /content/data\n"
          ]
        }
      ],
      "source": [
        "#@markdown ##Play to download an example dataset\n",
        "!pip install gdown==5.1.0 --quiet\n",
        "import gdown\n",
        "import os\n",
        "\n",
        "os.chdir('/content/')\n",
        "gdown.download(\"https://drive.google.com/uc?id=19P4AcvBPJXeW7QRj92Jh1keunGa5fi8d\", \"NucMM-Z_training.zip\", quiet=True)\n",
        "!unzip -q NucMM-Z_training.zip\n",
        "!rm NucMM-Z_training.zip\n",
        "\n",
        "print( 'Dataset downloaded and unzipped under /content/data')\n"
      ]
    },
    {
      "cell_type": "markdown",
      "metadata": {
        "id": "FEv7FBXFQvjv"
      },
      "source": [
        "## **Paths for Input Images and Output Files**\n",
        "___\n",
        "\n",
        "Depending on the option you chose for managing file sources, you'll set your paths differently:\n",
        "\n",
        "- **Option 1 (Upload from Local Machine)**:\n",
        "  - Set `train_data_path` to `/content/input/train/raw`\n",
        "  - Set `train_csv_path` to `/content/input/train/label`\n",
        "  - Set `test_data_path` to `/content/input/test/raw`\n",
        "  - Set `test_csv_path` to `/content/input/test/label`\n",
        "  - Set `output_path` to `/content/out`\n",
        "  \n",
        "- **Option 2 (Use Google Drive Data)**:\n",
        "  - Insert the paths to your input files and your desired output directory here, i.e., `/content/gdrive/MyDrive/...`.\n",
        "  \n",
        "- **Option 3 (Use Our Sample Data)**:\n",
        "  - Set `train_data_path` to `/content/data/train/raw`\n",
        "  - Set `train_csv_path` to `/content/data/train/label`\n",
        "  - Set `test_data_path` to `/content/data/test/raw`\n",
        "  - Set `test_csv_path` to `/content/data/test/label`\n",
        "  - Set `output_path` to `/content/out`\n",
        "\n",
        "  **Note**: Ensure you download your results from the `/content/out` directory after the process!\n",
        "\n",
        "**Helpful Tip**: If you're unsure about the paths to your folders, look at the top left of this notebook for a small folder icon. Navigate through the directories until you locate your desired folder. Right-click on it and select \"Copy Path\" to copy the folder's path."
      ]
    },
    {
      "cell_type": "code",
      "execution_count": null,
      "metadata": {
        "cellView": "form",
        "id": "vl4e0UIGYZcx",
        "colab": {
          "base_uri": "https://localhost:8080/"
        },
        "outputId": "3324b376-e806-4983-9b84-c709b784bbb3"
      },
      "outputs": [
        {
          "output_type": "stream",
          "name": "stdout",
          "text": [
            "Number of training raw images: 27\n",
            "Number of training CSV files: 27\n",
            "Number of test raw images: 27\n",
            "Number of test CSV files: 27\n"
          ]
        }
      ],
      "source": [
        "#@markdown #####Path to train images\n",
        "train_data_path = '/content/data/train/raw' #@param {type:\"string\"}\n",
        "#@markdown #####Path to train CSV files\n",
        "train_csv_path = '/content/data/train/label' #@param {type:\"string\"}\n",
        "#@markdown #####Path to test images\n",
        "test_data_path = '/content/data/test/raw' #@param {type:\"string\"}\n",
        "#@markdown #####Path to test CSV files\n",
        "test_csv_path = '/content/data/test/label' #@param {type:\"string\"}\n",
        "#@markdown #####Path to store the resulting images (it'll be created if not existing):\n",
        "output_path = '/content/output' #@param {type:\"string\"}\n",
        "\n",
        "import os\n",
        "from pathlib import Path\n",
        "\n",
        "def count_image_files(directory):\n",
        "    if not directory or not os.path.exists(directory):\n",
        "        return 0\n",
        "    file_extensions = {'.csv', '.jpg', '.jpeg', '.png', '.tif', '.npy', '.tiff', '.h5', '.hd5', '.zarr'}\n",
        "    count = 0\n",
        "    for root, dirs, files in os.walk(directory):\n",
        "        for file in files:\n",
        "            if Path(file).suffix.lower() in file_extensions:\n",
        "                count += 1\n",
        "    return count\n",
        "\n",
        "num_train_images = count_image_files(train_data_path)\n",
        "num_train_labels = count_image_files(train_csv_path)\n",
        "\n",
        "num_test_images = count_image_files(test_data_path)\n",
        "num_test_labels = count_image_files(test_csv_path)\n",
        "\n",
        "print(f\"Number of training raw images: {num_train_images}\")\n",
        "print(f\"Number of training CSV files: {num_train_labels}\")\n",
        "print(f\"Number of test raw images: {num_test_images}\")\n",
        "if test_csv_path != \"\":\n",
        "    print(f\"Number of test CSV files: {num_test_labels}\")\n",
        "\n",
        "if num_train_images != num_train_labels:\n",
        "    print(\"Error: The number of training raw images does not match the number of training CSV files.\")\n",
        "if test_csv_path != \"\" and num_test_images != num_test_labels:\n",
        "    print(\"Error: The number of test raw images does not match the number of test CSV files.\")"
      ]
    },
    {
      "cell_type": "markdown",
      "source": [
        "## **Dataset Visualization**\n",
        "---"
      ],
      "metadata": {
        "id": "9l_FeRXLh4rD"
      }
    },
    {
      "cell_type": "code",
      "source": [
        "# @markdown ## Play to visualize some data samples\n",
        "# @markdown Select the *Set* (training or test) to visualize samples from, and use the *Image index* and *Z value* scrolls to navigate among volumes and slices.\n",
        "# @markdown Detection points will be displayed as red Xs on top of the input image.\n",
        "\n",
        "# @markdown **Note**: it might take a few seconds to refresh the images.\n",
        "%matplotlib inline\n",
        "import matplotlib\n",
        "import numpy as np\n",
        "from matplotlib import pyplot as plt\n",
        "import pandas as pd\n",
        "from skimage.io import imread\n",
        "import os\n",
        "from ipywidgets import interact, IntSlider, Layout, Dropdown, VBox, Output\n",
        "\n",
        "# Initialize global attributes\n",
        "instance_id = 0\n",
        "\n",
        "input_path = train_data_path\n",
        "ids_input = sorted(next(os.walk(input_path))[2])\n",
        "input_img = imread(os.path.join(input_path, ids_input[0]))\n",
        "\n",
        "gt_path = train_csv_path\n",
        "ids_gt = sorted(next(os.walk(gt_path))[2])\n",
        "gt_csv = pd.read_csv(os.path.join(gt_path, ids_gt[0]))\n",
        "\n",
        "\n",
        "# Initialize widgets\n",
        "\n",
        "# Dropdown widget to choose training or test set\n",
        "dropdown = Dropdown(\n",
        "    options=['training-set', 'test-set'],\n",
        "    value='training-set',\n",
        "    description='Set:',\n",
        "    disabled=False,\n",
        ")\n",
        "\n",
        "# Slider widget to choose instance\n",
        "slider= IntSlider(\n",
        "    value=0,\n",
        "    min=1,\n",
        "    max=len(ids_input),\n",
        "    step=1,\n",
        "    description='Image index:',\n",
        "    disabled=False,\n",
        "    continuous_update=False,\n",
        "    orientation='horizontal',\n",
        "    readout=True,\n",
        "    layout=Layout(width='500px', margin = '0 0 0 10px')\n",
        ")\n",
        "\n",
        "slider.style.description_width = 'initial'\n",
        "slider.style.handle_color='blue'\n",
        "\n",
        "# Slider widget to choose Z value\n",
        "sliderZ= IntSlider(\n",
        "    value=0,\n",
        "    min=1,\n",
        "    max=len(input_img),\n",
        "    step=1,\n",
        "    description='Z value:',\n",
        "    disabled=False,\n",
        "    continuous_update=False,\n",
        "    orientation='horizontal',\n",
        "    readout=True,\n",
        "    layout=Layout(width='500px', margin = '0 0 0 10px')\n",
        ")\n",
        "\n",
        "sliderZ.style.description_width = 'initial'\n",
        "sliderZ.style.handle_color='blue'\n",
        "\n",
        "# Initialize Output instance to handle code output cell\n",
        "output = Output()\n",
        "\n",
        "# Function to update paths (input_path, gt_path) and image IDs (ids_input, ids_gt) depending on dropdown\n",
        "def update_paths(change):\n",
        "    global input_path, gt_path\n",
        "    global ids_input, ids_gt\n",
        "    global test_detection_masks, train_detection_masks\n",
        "\n",
        "    # Update image IDs based on the new paths\n",
        "    ids_input = sorted(next(os.walk(input_path))[2])\n",
        "\n",
        "    if change.new == 'test-set':\n",
        "        input_path = test_data_path\n",
        "        gt_path = test_csv_path\n",
        "    else:\n",
        "        input_path = train_data_path\n",
        "        gt_path = train_csv_path\n",
        "\n",
        "    ids_input = sorted(next(os.walk(input_path))[2])\n",
        "    try:\n",
        "        ids_gt = sorted(next(os.walk(gt_path))[2])\n",
        "    except StopIteration:\n",
        "        ids_gt = []\n",
        "\n",
        "    # Reset instance slider value to 1 when dropdown changes\n",
        "    slider.value = 1\n",
        "    slider.max = len(ids_input)\n",
        "    update_id({'new': 1})\n",
        "\n",
        "# Function to update image and label set (input_img, gt_csv) depending on instance slider value\n",
        "def update_id(change):\n",
        "    index = change['new']\n",
        "\n",
        "    global instance_id\n",
        "    instance_id = index-1\n",
        "\n",
        "    global input_path, ids_input, input_img\n",
        "\n",
        "    input_img = imread(os.path.join(input_path, ids_input[instance_id]))\n",
        "\n",
        "    global gt_path, ids_gt, gt_csv\n",
        "\n",
        "    if ids_gt != []: # If StopIteration exception was not thrown\n",
        "        gt_csv = pd.read_csv(os.path.join(gt_path, ids_gt[instance_id]))\n",
        "    else:\n",
        "        gt_csv = None\n",
        "\n",
        "    sliderZ.value = 1\n",
        "    sliderZ.max = len(input_img)\n",
        "    display_images({'new': 1})\n",
        "\n",
        "# Function to display images depending on sliderZ value\n",
        "def display_images(change):\n",
        "    with output:\n",
        "        output.clear_output(wait=True)\n",
        "\n",
        "        index = change['new'] # New Z value\n",
        "\n",
        "        global input_img, gt_csv, instance_id\n",
        "\n",
        "        # # Print paths to ensure the images displayed are correct\n",
        "        # global input_path, ids_input, gt_path, ids_input, instance_id\n",
        "        # print(os.path.join(input_path, ids_input[instance_id]))\n",
        "        # print(os.path.join(gt_path, ids_gt[instance_id]))\n",
        "\n",
        "        # Display images\n",
        "        fig, axs = plt.subplots(1, 2, figsize=(12, 6))\n",
        "\n",
        "        axs[0].imshow(input_img[index-1], cmap='gray')\n",
        "        axs[0].set_title(f\"Input image: {instance_id+1}, z: {index}\")\n",
        "\n",
        "        if gt_csv is not None: # If StopIteration exception was not thrown\n",
        "            df = gt_csv[gt_csv['axis-0'] == index-1]\n",
        "            y = df['axis-1']\n",
        "            x = df['axis-2']\n",
        "\n",
        "            axs[1].imshow(np.squeeze(input_img[index-1]), cmap= 'gray')\n",
        "            axs[1].scatter(x, y, color = 'red', marker= \"x\", s=200)\n",
        "            axs[1].set_title(\"Label\")\n",
        "        else:\n",
        "            print(\"No labels for this set.\")\n",
        "\n",
        "        plt.show()\n",
        "\n",
        "\n",
        "# Create an VBox to hold the dropdown and slider\n",
        "controls = VBox([dropdown, slider, sliderZ])\n",
        "display(controls, output)\n",
        "\n",
        "# Link widgets to functions\n",
        "dropdown.observe(update_paths, names='value')\n",
        "slider.observe(update_id, names='value')\n",
        "sliderZ.observe(display_images, names='value')\n",
        "\n",
        "# Initial display\n",
        "display_images({'new': slider.value})"
      ],
      "metadata": {
        "colab": {
          "base_uri": "https://localhost:8080/",
          "height": 593,
          "referenced_widgets": [
            "274dd0f917774d07aa1cb06a4b44a01d",
            "bd605191cf534467abacb16771264268",
            "e90332eed8df4c139184c431d41ff54e",
            "687a73964c644923b34e6b7e6ec315b8",
            "2ccb3eeaebd9488da052f5da9367e29c",
            "887f7e03306f4973aef85273b7fa124d",
            "85d79babe2054e00982d104360c392f3",
            "1501a93e0a214914ad1f28018af638ef",
            "d87201a8867d4764a46da5784a315a19",
            "e2873c14b9014e96a1207ca6933aedba",
            "f83e43e06b944ea4a5cf14a6a98cbaa9",
            "11b5eb27ba3643a9a9487045e1a146b7",
            "bffee5cb98d8464fb90e592458a88251"
          ]
        },
        "cellView": "form",
        "id": "y_veJYRNpcZB",
        "outputId": "cad9eb15-a57a-4cc8-e474-fc71f8b9b05e"
      },
      "execution_count": null,
      "outputs": [
        {
          "output_type": "display_data",
          "data": {
            "text/plain": [
              "VBox(children=(Dropdown(description='Set:', options=('training-set', 'test-set'), value='training-set'), IntSl\u2026"
            ],
            "application/vnd.jupyter.widget-view+json": {
              "version_major": 2,
              "version_minor": 0,
              "model_id": "274dd0f917774d07aa1cb06a4b44a01d"
            }
          },
          "metadata": {}
        },
        {
          "output_type": "display_data",
          "data": {
            "text/plain": [
              "Output()"
            ],
            "application/vnd.jupyter.widget-view+json": {
              "version_major": 2,
              "version_minor": 0,
              "model_id": "11b5eb27ba3643a9a9487045e1a146b7"
            }
          },
          "metadata": {}
        }
      ]
    },
    {
      "cell_type": "markdown",
      "metadata": {
        "id": "9ZwoZC20rK42"
      },
      "source": [
        "## **Configure and Train the DNN Model**\n",
        "---\n",
        "\n",
        "Within this workflow, [BiaPy](https://biapyx.github.io/) aims to localize objects in the input image by pinpointing individual central points at their center of mass, as described by [Zhou et. al](https://arxiv.org/abs/1904.07850). To achieve this, we generate a mask utilizing the points listed in the CSV to train the network. The **central_point_dilation** variable determines the size of these central points. In case of 3D images, only in the middle slice of the object is considered to be the central point.\n"
      ]
    },
    {
      "cell_type": "code",
      "execution_count": 2,
      "metadata": {
        "cellView": "form",
        "id": "daGtIo-V_Ydt",
        "colab": {
          "base_uri": "https://localhost:8080/",
          "height": 91
        },
        "outputId": "b4f0f43a-a40a-471f-e2ea-ad5d5cb638e6"
      },
      "outputs": [
        {
          "output_type": "display_data",
          "data": {
            "text/plain": [
              "<IPython.core.display.HTML object>"
            ],
            "text/html": [
              "<h1>No BMZ models compatible with BiaPy were found for this task.</h1><br>"
            ]
          },
          "metadata": {}
        }
      ],
      "source": [
        "# @markdown ###OPTIONAL: Check BioImage Model Zoo (BMZ) models compatible with BiaPy\n",
        "# @markdown Use this option to generate a full list of the available BiaPy-compatible models in the BMZ.\n",
        "\n",
        "# @markdown **Important:** To select one of the listed models (if any), you will have to run the next cell and select \"BioImage Model Zoo\" as the source of the model. Then, paste the corresponding model's nickname into the created field.\n",
        "# @markdown <div><img src=\"https://bioimage.io/static/img/bioimage-io-logo.svg\" width=\"600\"/></div>\n",
        "\n",
        "import json\n",
        "from pathlib import Path\n",
        "import pooch\n",
        "import yaml\n",
        "from IPython.display import HTML, display\n",
        "import logging\n",
        "from biapy.models import check_bmz_model_compatibility\n",
        "from packaging.version import Version\n",
        "from typing import Optional, Dict, Tuple, List, Literal\n",
        "\n",
        "# Change pooch verbosity\n",
        "logger = pooch.get_logger()\n",
        "logger.setLevel(\"WARNING\")\n",
        "\n",
        "# Extracted from BiaPy-GUI.\n",
        "# Adapted from BiaPy commit: e5d3bc13fe343160cede4684bdb90bcdf098e4a7 (3.6.1)\n",
        "def check_model_restrictions(\n",
        "    model_rdf,\n",
        "    workflow_specs,\n",
        "):\n",
        "    \"\"\"\n",
        "    Checks model restrictions to be applied into the current configuration.\n",
        "\n",
        "    Parameters\n",
        "    ----------\n",
        "    model_rdf : dict\n",
        "        BMZ model RDF that contains all the information of the model.\n",
        "\n",
        "    workflow_specs : dict\n",
        "        Specifications of the workflow. If not provided all possible models will be considered.\n",
        "\n",
        "    Returns\n",
        "    -------\n",
        "    option_list: dict\n",
        "        Variables and values to change in current configuration. These changes\n",
        "        are imposed by the selected model.\n",
        "    \"\"\"\n",
        "    specific_workflow = workflow_specs[\"workflow_type\"]\n",
        "\n",
        "    # Version of the model\n",
        "    model_version = Version(model_rdf[\"format_version\"])\n",
        "    opts = {}\n",
        "\n",
        "    # 1) Change PATCH_SIZE with the one stored in the model description. This differs from the code of BiaPy where\n",
        "    # get_test_inputs() is simply used as there a ModelDescr is build out of the RDF. Here we try to do it manually\n",
        "    # to avoid fetching files using the network as it may be slow.\n",
        "    input_image_shape = []\n",
        "    if \"shape\" in model_rdf[\"inputs\"][0]:\n",
        "        input_image_shape = model_rdf[\"inputs\"][0][\"shape\"]\n",
        "        # \"CebraNET Cellular Membranes in Volume SEM\" ('format_version': '0.4.10')\n",
        "        #   have: {'min': [1, 1, 64, 64, 64], 'step': [0, 0, 16, 16, 16]}\n",
        "        if isinstance(input_image_shape, dict) and \"min\" in input_image_shape:\n",
        "            input_image_shape = input_image_shape[\"min\"]\n",
        "    else:\n",
        "        # Check axes and dimension\n",
        "        input_image_shape = []\n",
        "        for axis in model_rdf[\"inputs\"][0][\"axes\"]:\n",
        "            if 'type' in axis:\n",
        "                if axis['type'] == \"batch\":\n",
        "                    input_image_shape += [1,]\n",
        "                elif axis['type'] == \"channel\":\n",
        "                    input_image_shape += [1,]\n",
        "                elif 'id' in axis and 'size' in axis:\n",
        "                    if isinstance(axis['size'], int):\n",
        "                        input_image_shape += [axis['size'],]\n",
        "                    elif 'min' in axis['size']:\n",
        "                        input_image_shape += [axis['size']['min'],]\n",
        "            elif 'id' in axis:\n",
        "                if axis['id'] == \"channel\":\n",
        "                    input_image_shape += [1,]\n",
        "                else:\n",
        "                    if isinstance(axis['size'], int):\n",
        "                        input_image_shape += [axis['size'],]\n",
        "                    elif 'min' in axis['size']:\n",
        "                        input_image_shape += [axis['size']['min'],]\n",
        "    if len(input_image_shape) == 0:\n",
        "        raise ValueError(\"Couldn't load input info from BMZ model's RDF: {}\".format(model_rdf[\"inputs\"][0]))\n",
        "    opts[\"DATA.PATCH_SIZE\"] = tuple(input_image_shape[2:]) + (input_image_shape[1],)\n",
        "\n",
        "    # Capture model kwargs\n",
        "    if \"kwargs\" in model_rdf[\"weights\"][\"pytorch_state_dict\"]:\n",
        "        model_kwargs = model_rdf[\"weights\"][\"pytorch_state_dict\"][\"kwargs\"]\n",
        "    elif (\n",
        "        \"architecture\" in model_rdf[\"weights\"][\"pytorch_state_dict\"]\n",
        "        and \"kwargs\" in model_rdf[\"weights\"][\"pytorch_state_dict\"][\"architecture\"]\n",
        "    ):\n",
        "        model_kwargs = model_rdf[\"weights\"][\"pytorch_state_dict\"][\"architecture\"][\"kwargs\"]\n",
        "    else:\n",
        "        raise ValueError(f\"Couldn't extract kwargs from model description.\")\n",
        "\n",
        "    # 2) Workflow specific restrictions\n",
        "    # Classes in semantic segmentation\n",
        "    if specific_workflow in [\"SEMANTIC_SEG\"]:\n",
        "        # Check number of classes\n",
        "        classes = -1\n",
        "        if \"n_classes\" in model_kwargs:  # BiaPy\n",
        "            classes = model_kwargs[\"n_classes\"]\n",
        "        elif \"out_channels\" in model_kwargs:\n",
        "            classes = model_kwargs[\"out_channels\"]\n",
        "        elif \"output_channels\" in model_kwargs:\n",
        "            classes = model_kwargs[\"output_channels\"]\n",
        "        elif \"classes\" in model_kwargs:\n",
        "            classes = model_kwargs[\"classes\"]\n",
        "        if isinstance(classes, list):\n",
        "            classes = classes[-1]\n",
        "\n",
        "        if not isinstance(classes, int):\n",
        "            raise ValueError(f\"Classes not extracted correctly. Obtained {classes}\")\n",
        "        if classes == -1:\n",
        "            print(model_kwargs)\n",
        "            raise ValueError(\"Classes not found for semantic segmentation dir.\")\n",
        "\n",
        "        opts[\"MODEL.N_CLASSES\"] = max(2, classes)\n",
        "    elif specific_workflow in [\"INSTANCE_SEG\"]:\n",
        "        # Assumed it's BC. This needs a more elaborated process. Still deciding this:\n",
        "        # https://github.com/bioimage-io/spec-bioimage-io/issues/621\n",
        "\n",
        "        # Defaults\n",
        "        channels = 2\n",
        "        channel_code = \"BC\"\n",
        "\n",
        "        if \"out_channels\" in model_kwargs:\n",
        "            channels = model_kwargs[\"out_channels\"]\n",
        "        elif \"output_channels\" in model_kwargs:\n",
        "            channels = model_kwargs[\"output_channels\"]\n",
        "\n",
        "        if isinstance(channels, list):\n",
        "            channels = channels[-1]\n",
        "        if channels == 1:\n",
        "            channel_code = \"C\"\n",
        "        elif channels == 2:\n",
        "            channel_code = \"BC\"\n",
        "        elif channels == 3:\n",
        "            channel_code = \"BCM\"\n",
        "        elif channels == 8:\n",
        "            channel_code = \"A\"\n",
        "\n",
        "        opts[\"PROBLEM.INSTANCE_SEG.DATA_CHANNELS\"] = channel_code\n",
        "        opts[\"PROBLEM.INSTANCE_SEG.DATA_CHANNEL_WEIGHTS\"] = [\n",
        "            1,\n",
        "        ] * channels\n",
        "        if channel_code in  [\"A\", \"BC\"]:\n",
        "            opts[\"LOSS.CLASS_REBALANCE\"] = True\n",
        "\n",
        "    if \"preprocessing\" not in model_rdf[\"inputs\"][0]:\n",
        "        return opts\n",
        "\n",
        "    preproc_info = model_rdf[\"inputs\"][0][\"preprocessing\"]\n",
        "    if len(preproc_info) == 0:\n",
        "        return opts\n",
        "    preproc_info = preproc_info[0]\n",
        "\n",
        "    # 3) Change preprocessing to the one stablished by BMZ by translate BMZ keywords into BiaPy's\n",
        "    # 'zero_mean_unit_variance' and 'fixed_zero_mean_unit_variance' norms of BMZ can be translated to our 'custom' norm\n",
        "    # providing mean and std\n",
        "    key_to_find = \"id\" if model_version > Version(\"0.5.0\") else \"name\"\n",
        "    if key_to_find in preproc_info:\n",
        "        if preproc_info[key_to_find] in [\"fixed_zero_mean_unit_variance\", \"zero_mean_unit_variance\"]:\n",
        "            if (\n",
        "                \"kwargs\" in preproc_info\n",
        "                and \"mean\" in preproc_info[\"kwargs\"]\n",
        "            ):\n",
        "                mean = preproc_info[\"kwargs\"][\"mean\"]\n",
        "                std = preproc_info[\"kwargs\"][\"std\"]\n",
        "            elif \"mean\" in preproc_info:\n",
        "                mean = preproc_info[\"mean\"]\n",
        "                std = preproc_info[\"std\"]\n",
        "            else:\n",
        "                mean, std = -1., -1.\n",
        "\n",
        "            opts[\"DATA.NORMALIZATION.TYPE\"] = \"custom\"\n",
        "            opts[\"DATA.NORMALIZATION.CUSTOM_MEAN\"] = mean\n",
        "            opts[\"DATA.NORMALIZATION.CUSTOM_STD\"] = std\n",
        "\n",
        "        # 'scale_linear' norm of BMZ is close to our 'div' norm (TODO: we need to control the \"gain\" arg)\n",
        "        elif preproc_info[key_to_find] == \"scale_linear\":\n",
        "            opts[\"DATA.NORMALIZATION.TYPE\"] = \"div\"\n",
        "\n",
        "        # 'scale_range' norm of BMZ is as our PERC_CLIP + 'scale_range' norm\n",
        "        elif preproc_info[key_to_find] == \"scale_range\":\n",
        "            opts[\"DATA.NORMALIZATION.TYPE\"] = \"scale_range\"\n",
        "            if (\n",
        "                float(preproc_info[\"kwargs\"][\"min_percentile\"]) != 0\n",
        "                or float(preproc_info[\"kwargs\"][\"max_percentile\"]) != 100\n",
        "            ):\n",
        "                opts[\"DATA.NORMALIZATION.PERC_CLIP\"] = True\n",
        "                opts[\"DATA.NORMALIZATION.PERC_LOWER\"] = float(preproc_info[\"kwargs\"][\"min_percentile\"])\n",
        "                opts[\"DATA.NORMALIZATION.PERC_UPPER\"] = float(preproc_info[\"kwargs\"][\"max_percentile\"])\n",
        "\n",
        "    return opts\n",
        "\n",
        "# Check the models that BiaPy can consume\n",
        "COLLECTION_URL = \"https://uk1s3.embassy.ebi.ac.uk/public-datasets/bioimage.io/collection.json\"\n",
        "collection_path = Path(pooch.retrieve(COLLECTION_URL, known_hash=None))\n",
        "with collection_path.open() as f:\n",
        "    collection = json.load(f)\n",
        "\n",
        "model_urls = [entry[\"rdf_source\"] for entry in collection[\"collection\"] if entry[\"type\"] == \"model\"]\n",
        "\n",
        "model_rdfs = []\n",
        "for mu in model_urls:\n",
        "    with open(Path(pooch.retrieve(mu, known_hash=None)), 'rt', encoding='utf8') as stream:\n",
        "        try:\n",
        "            model_rdfs.append(yaml.safe_load(stream))\n",
        "        except yaml.YAMLError as exc:\n",
        "            print(exc)\n",
        "\n",
        "# Check axes, preprocessing functions used and postprocessing.\n",
        "pytorch_models = []\n",
        "imposed_vars = []\n",
        "\n",
        "workflow_specs = {\n",
        "    \"workflow_type\": \"DETECTION\",\n",
        "    \"ndim\": \"3D\",\n",
        "    \"nclasses\": \"all\",\n",
        "}\n",
        "for model_rdf in model_rdfs:\n",
        "    try:\n",
        "        (\n",
        "            preproc_info,\n",
        "            error,\n",
        "            error_message\n",
        "        ) = check_bmz_model_compatibility(model_rdf, workflow_specs=workflow_specs)\n",
        "    except:\n",
        "        error = True\n",
        "\n",
        "    if not error:\n",
        "        model_imposed_vars = check_model_restrictions(model_rdf, workflow_specs=workflow_specs)\n",
        "        imposed_vars.append(model_imposed_vars)\n",
        "        pytorch_models.append(model_rdf)\n",
        "\n",
        "# Print the possible models\n",
        "html = \"<table style='width:100%''>\"\n",
        "c = 0\n",
        "for i, model in enumerate(pytorch_models):\n",
        "\n",
        "    if 'nickname' in model['config']['bioimageio']:\n",
        "        nickname = model['config']['bioimageio']['nickname']\n",
        "        nickname_icon = model['config']['bioimageio']['nickname_icon']\n",
        "    elif 'id' in model['config']['bioimageio']:\n",
        "        nickname = model['config']['bioimageio']['id']\n",
        "        nickname_icon = model['config']['bioimageio']['id_emoji']\n",
        "    else:\n",
        "        doi = \"/\".join(model['id'].split(\"/\")[:2])\n",
        "        nickname = doi\n",
        "        nickname_icon = doi\n",
        "    cover_url = \"https://uk1s3.embassy.ebi.ac.uk/public-datasets/bioimage.io/\"+nickname+\"/\"+str(model[\"version\"])+\"/files/\"+model['covers'][0]\n",
        "    restrictions = \"\"\n",
        "    for key, val in imposed_vars[i].items():\n",
        "        if key == 'MODEL.N_CLASSES':\n",
        "            restrictions += \"<p>number_of_classes: {}</p>\".format(val)\n",
        "        elif key == \"PROBLEM.INSTANCE_SEG.DATA_CHANNELS\":\n",
        "            problem_channels = 'Binary mask + Contours'\n",
        "            if val == \"BC\":\n",
        "                problem_channels = \"Binary mask + Contours\"\n",
        "            elif val == 'BP':\n",
        "                problem_channels = \"Binary mask + Central points\"\n",
        "            elif val == 'BD':\n",
        "                problem_channels = \"Binary mask + Distance map\"\n",
        "            elif val == 'BCM':\n",
        "                problem_channels = \"Binary mask + Contours + Foreground mask\"\n",
        "            elif val == 'BCD':\n",
        "                problem_channels = \"Binary mask + Contours + Distance map\"\n",
        "            elif val == 'BCDv2':\n",
        "                problem_channels = \"Binary mask + Contours + Distance map with background\"\n",
        "            elif val == 'Dv2':\n",
        "                problem_channels = \"Distance map with background\"\n",
        "            restrictions += \"<p>problem_representation: {}</p>\".format(problem_channels)\n",
        "    if c == 0:\n",
        "        html += \"<tr>\"\n",
        "    html += \"<td style='width:33%'>\"\n",
        "    html += \"<p style='color:#2196f3'>%s</p><p>Nickname: %s (%s)</p>%s<img src='%s' height='200'></td>\"%(\n",
        "        model['name'],\n",
        "        nickname,\n",
        "        nickname_icon,\n",
        "        restrictions,\n",
        "        cover_url,\n",
        "    )\n",
        "    c +=1\n",
        "    if c == 3:\n",
        "        html += \"</tr>\"\n",
        "        c=0\n",
        "html += \"</table>\"\n",
        "if len( pytorch_models ) == 0:\n",
        "    display(HTML('<h1>No BMZ models compatible with BiaPy were found for this task.</h1><br>'))\n",
        "else:\n",
        "    display(HTML('<h1>List of models that can be used in BiaPy:</h1><br>'))\n",
        "    display(HTML(html))\n"
      ]
    },
    {
      "cell_type": "code",
      "execution_count": null,
      "metadata": {
        "cellView": "form",
        "id": "uBZagA5Iqxoc",
        "colab": {
          "base_uri": "https://localhost:8080/",
          "height": 50,
          "referenced_widgets": [
            "72001304761447d3a652b41fc4559891",
            "07ecd1c549504bb3afdf7fe55f24b0bd",
            "f1b8a0c438424c04851329c207467da7"
          ]
        },
        "outputId": "77927ae2-2ce2-44a7-bbdb-8df9808acbc1"
      },
      "outputs": [
        {
          "output_type": "display_data",
          "data": {
            "text/plain": [
              "ToggleButtons(description='Source:', options=('BiaPy', 'BioImage Model Zoo'), tooltips=('Models created during\u2026"
            ],
            "application/vnd.jupyter.widget-view+json": {
              "version_major": 2,
              "version_minor": 0,
              "model_id": "72001304761447d3a652b41fc4559891"
            }
          },
          "metadata": {}
        }
      ],
      "source": [
        "#@markdown ###Play to select the source to build the model (BiaPy or BioImage Model Zoo) { run: \"auto\", vertical-output: true, display-mode: \"form\" }\n",
        "\n",
        "#@markdown **BiaPy**: to use the models implemented in BiaPy.\n",
        "\n",
        "#@markdown **Bioimage Model Zoo (BMZ)**: to use models from the [BMZ repository](https://bioimage.io/#/). You can run the above cell to generate an updated list of the models that can be used with BiaPy. Copy the nickname from the model and paste it below.\n",
        "import ipywidgets as widgets\n",
        "from ipywidgets import Output\n",
        "\n",
        "changed_source = True\n",
        "exists_bmz = False\n",
        "# create widgets\n",
        "source = widgets.ToggleButtons(\n",
        "    options=['BiaPy', 'BioImage Model Zoo'],\n",
        "    description='Source:',\n",
        "    disabled=False,\n",
        "    button_style='', # 'success', 'info', 'warning', 'danger' or ''\n",
        "    tooltips=['Models created during this workflow', 'BioImage Model Zoo model'],\n",
        "#     icons=['check'] * 3\n",
        ")\n",
        "\n",
        "bmz = widgets.Text(\n",
        "    # value='10.5281/zenodo.5764892',\n",
        "    placeholder='Nickname of BMZ model',\n",
        "    description='ID:',\n",
        "    disabled=False\n",
        ")\n",
        "\n",
        "# display the first widget\n",
        "display(source)\n",
        "\n",
        "# intialize the output - second widget\n",
        "out = Output()\n",
        "\n",
        "def changed(change):\n",
        "    '''\n",
        "    Monitor change in the first widget\n",
        "    '''\n",
        "    global out\n",
        "    global exists_bmz\n",
        "    if source.value == 'BiaPy':\n",
        "        bmz.layout.display = 'none'\n",
        "        out.clear_output() #clear output\n",
        "        out = Output() # redefine output\n",
        "    else:\n",
        "        bmz.layout.display = 'none'\n",
        "        bmz.layout.display = 'flex'\n",
        "        if not exists_bmz:\n",
        "          out.append_display_data(bmz)\n",
        "          display(out)\n",
        "        exists_bmz = True\n",
        "\n",
        "# monitor the source widget for changes\n",
        "source.observe(changed, 'value')"
      ]
    },
    {
      "cell_type": "markdown",
      "metadata": {
        "id": "4gNxwa6KaWYn"
      },
      "source": [
        "### **Select your parameters**\n",
        "---\n",
        "#### **Name of the model**\n",
        "* **`model_name`:** Use only my_model -style, not my-model (Use \"_\" not \"-\"). Do not use spaces in the name. Avoid using the name of an existing model (saved in the same folder) as it will be overwritten.\n",
        "\n",
        "#### **Data management**\n",
        "* **`percentage_validation`:**  Input the percentage of your training dataset you want to use to validate the network during the training. **Default value: 10**\n",
        "\n",
        "* **`test_ground_truth`:** Select to use test data ground truth to measure the performance of the model's result. If selected, **test_data_gt_path** variable path set above will be used. **Default value: True**\n",
        "\n",
        "#### **Basic training parameters**\n",
        "* **`input_channels`:** Input the number of channels of your images (grayscale = 1, RGB = 3). **Default value: 1**\n",
        "\n",
        "* **`number_of_epochs`:** Input how many epochs (rounds) the network will be trained. **Default value: 150**\n",
        "\n",
        "* **`patience`:**  Input how many epochs you want to wait without the model improving its results in the validation set to stop training. **Default value: 20**\n",
        "\n",
        "#### **Advanced Parameters - experienced users only**\n",
        "* **`model_architecture`:**  Select the architecture of the DNN used as backbone of the pipeline. Options: U-Net, Residual U-Net, Attention U-Net (see [Franco-Barranco et al., 2021](https://link.springer.com/article/10.1007/s12021-021-09556-1)), SEUNet, MultiResUNet, ResUNet++, UNETR-Mini, UNETR-Small, UNETR-Base and U-NeXt V1. **Default value: Residual U-Net**\n",
        "\n",
        "* **`batch_size:`** This parameter defines the number of patches seen in each training step. Reducing or increasing the **batch size** may slow or speed up your training, respectively, and can influence network performance. **Default value: 8**\n",
        "\n",
        "* **`patch_size_xy`:** Input the XY size of the patches use to train your model (length in pixels in X and Y). The value should be smaller or equal to the dimensions of the image. **Default value: 64**\n",
        "\n",
        "* **`patch_size_z`:** Input the Z size of the patches use to train your model (length in pixels in Z). The value should be smaller or equal to the dimensions of the image. **Default value: 64**\n",
        "\n",
        "* **`anisotropic_data`:** Select if your image data is anisotropic (lower resolution in Z with respect to XY). The model downsampling step size will be set accordingly. **Default value: False**\n",
        "\n",
        "* **`optimizer`:** Select the optimizer used to train your model. Options: ADAM, ADAMW, Stochastic Gradient Descent (SGD). ADAM usually converges faster, while ADAMW provides a balance between fast convergence and better handling of weight decay regularization. SGD is known for better generalization. **Default value: ADAMW**\n",
        "\n",
        "* **`initial_learning_rate`:** Input the initial value to be used as learning rate. If you select ADAM as optimizer, this value should be around 10e-4. **Default value: 0.0001**\n",
        "\n",
        "* **`learning_rate_scheduler`:** Select to adjust the learning rate between epochs. Options: \"None\", \"Reduce on plateau\", \"One cycle\", \"Warm-up cosine decay\". **Default value: arm-up cosine decay**\n",
        "\n",
        "* **`test_time_augmentation`:** Select to apply augmentation (flips and rotations) at test time. It usually provides more robust results but uses more time to produce each result. **Default value: False**\n",
        "\n",
        "* **`min_value_to_be_peak`:** Minimun probability value to consider a point as a peak. The lowest this value is, the more points will be detected. This value needs to between 0 and 1. **Default value: 0.2**\n",
        "\n",
        "* **`resolution_xy`:** Data resolution in physical units for y and x axis. **Default value: 0.51**\n",
        "\n",
        "* **`resolution_z`:** Data resolution in physical units for z axis. **Default value: 0.48**\n",
        "\n",
        "#### **Advanced Parameters of Detection - experienced users only**\n",
        "\n",
        "* **`central_point_dilation`:** Size of the disk that will be used to dilate the central point created from the CSV file to train the network. Set it to 0 to not dilate and only create a 3x3 square. Normally it is set to 3 but here we set it to 0 because the nuclei of this dataset are very small. **Default value: 0**\n",
        "\n",
        "* **`tolerance`:** Maximum distance of a predicted point from a ground truth point to be considered as a true positive. **Default value: 3**\n",
        "\n",
        "* **`remove_close_points`:** Merge close detections into single ones. **Default value: True**\n",
        "\n",
        "* **`remove_close_points_radius`:** Distance between two detections to be considered the same (if `remove_close_points` is set to True). **Default value: 3**\n",
        "\n"
      ]
    },
    {
      "cell_type": "code",
      "execution_count": null,
      "metadata": {
        "id": "RLdMygZVT5aH",
        "cellView": "form"
      },
      "outputs": [],
      "source": [
        "#@markdown ###Name of the model:\n",
        "model_name = \"my_3d_detection\" #@param {type:\"string\"}\n",
        "\n",
        "#@markdown ### Data management:\n",
        "test_ground_truth = True #@param {type:\"boolean\"}\n",
        "percentage_validation =  10 #@param {type:\"number\"}\n",
        "\n",
        "#@markdown ### Basic training parameters:\n",
        "input_channels = 1 #@param {type:\"number\"}\n",
        "number_of_epochs =  150#@param {type:\"number\"}\n",
        "patience =  20#@param {type:\"number\"}\n",
        "\n",
        "#@markdown ### Advanced training parameters:\n",
        "\n",
        "model_architecture = \"Residual U-Net\" #@param [\"U-Net\", \"Residual U-Net\", \"Attention U-Net\", 'MultiResUNet', 'ResUNet++', 'SEUNet', \"UNETR-Mini\",\"UNETR-Small\", \"UNETR-Base\", \"U-NeXt V1\"]\n",
        "\n",
        "batch_size =  8#@param {type:\"number\"}\n",
        "patch_size_xy = 64 #@param {type:\"number\"}\n",
        "patch_size_z = 64 #@param {type:\"number\"}\n",
        "resolution_xy = 0.51 #@param {type:\"number\"}\n",
        "resolution_z = 0.48 #@param {type:\"number\"}\n",
        "\n",
        "anisotropic_data = False #@param {type:\"boolean\"}\n",
        "\n",
        "optimizer = \"ADAMW\" #@param [\"ADAM\", \"SGD\",\"ADAMW\"]\n",
        "initial_learning_rate = 0.001 #@param {type:\"number\"}\n",
        "learning_rate_scheduler = \"Warm-up cosine decay\" #@param [\"None\", \"Reduce on plateau\",\"One cycle\", \"Warm-up cosine decay\"]\n",
        "\n",
        "test_time_augmentation = False #@param {type:\"boolean\"}\n",
        "\n",
        "#@markdown ### Advanced Parameters of Detection:\n",
        "central_point_dilation = 0 #@param {type:\"number\"}\n",
        "min_value_to_be_peak = 0.2 #@param {type:\"number\"}\n",
        "tolerance = 3 #@param {type:\"number\"}\n",
        "remove_close_points = True #@param {type:\"boolean\"}\n",
        "remove_close_points_radius= 3 #@param {type:\"number\"}\n",
        "\n",
        "checkpoint_path = ''"
      ]
    },
    {
      "cell_type": "code",
      "execution_count": null,
      "metadata": {
        "cellView": "form",
        "id": "iZ_TuIVZXGGM"
      },
      "outputs": [],
      "source": [
        "#@markdown ##OPTIONAL: Play the cell to upload initial model weights\n",
        "#@markdown Use this option to start the training from a **pre-trained model** if you have one. Otherwise, skip this cell.\n",
        "\n",
        "#@markdown **Important**: remember the weights must correspond to the selected architecture, patch size and number of input channels. Otherwise, an error will be shown when training.\n",
        "from google.colab import files\n",
        "\n",
        "#s.chdir('/content/')\n",
        "\n",
        "uploaded = files.upload()\n",
        "\n",
        "checkpoint_path = '/content/' + list(uploaded.keys())[0]\n",
        "\n",
        "# open previously configured file, if exists\n",
        "job_name = model_name\n",
        "yaml_file = \"/content/\"+str(job_name)+\".yaml\"\n",
        "\n",
        "# edit previous configuration file if it exists to load the checkpoint model\n",
        "if os.path.exists( yaml_file ):\n",
        "    import yaml\n",
        "    with open( yaml_file, 'r') as stream:\n",
        "        try:\n",
        "            biapy_config = yaml.safe_load(stream)\n",
        "        except yaml.YAMLError as exc:\n",
        "            print(exc)\n",
        "    biapy_config['PATHS'] = {}\n",
        "    biapy_config['PATHS']['CHECKPOINT_FILE'] = checkpoint_path\n",
        "    biapy_config['MODEL'] = {}\n",
        "    biapy_config['MODEL']['LOAD_CHECKPOINT'] = True\n",
        "\n",
        "    # save file\n",
        "    with open( yaml_file, 'w') as outfile:\n",
        "        yaml.dump(biapy_config, outfile, default_flow_style=False)\n",
        "\n",
        "print( \"Pre-trained model loaded and ready to re-train.\")"
      ]
    },
    {
      "cell_type": "markdown",
      "metadata": {
        "id": "S8kLFc8_ajHD"
      },
      "source": [
        "### **Train the model**\n",
        "---"
      ]
    },
    {
      "cell_type": "code",
      "execution_count": null,
      "metadata": {
        "cellView": "form",
        "colab": {
          "base_uri": "https://localhost:8080/",
          "height": 1000
        },
        "id": "CZKK9EoVmH-Y",
        "outputId": "a352c7fa-c964-4f0a-ecd2-15e231be6fa0"
      },
      "outputs": [
        {
          "output_type": "stream",
          "name": "stdout",
          "text": [
            "Training configuration finished.\n",
            "Date: 2024-09-04 06:16:48\n",
            "Arguments: Namespace(config='/content/my_3d_detection.yaml', result_dir='/content/output', name='my_3d_detection', run_id=1, gpu=0, world_size=1, local_rank=-1, dist_on_itp=False, dist_url='env://', dist_backend='nccl')\n",
            "Job: my_3d_detection_1\n",
            "Python       : 3.10.12 (main, Jul 29 2024, 16:56:48) [GCC 11.4.0]\n",
            "PyTorch:  2.4.0+cu121\n",
            "Not using distributed mode\n",
            "[06:16:48.452194] Configuration details:\n",
            "[06:16:48.452911] AUGMENTOR:\n",
            "  AFFINE_MODE: reflect\n",
            "  AUG_NUM_SAMPLES: 10\n",
            "  AUG_SAMPLES: True\n",
            "  BRIGHTNESS: False\n",
            "  BRIGHTNESS_FACTOR: (-0.1, 0.1)\n",
            "  BRIGHTNESS_MODE: 3D\n",
            "  CBLUR_DOWN_RANGE: (2, 8)\n",
            "  CBLUR_INSIDE: True\n",
            "  CBLUR_SIZE: (0.2, 0.4)\n",
            "  CHANNEL_SHUFFLE: False\n",
            "  CMIX_SIZE: (0.2, 0.4)\n",
            "  CNOISE_NB_ITERATIONS: (1, 3)\n",
            "  CNOISE_SCALE: (0.05, 0.1)\n",
            "  CNOISE_SIZE: (0.2, 0.4)\n",
            "  CONTRAST: False\n",
            "  CONTRAST_FACTOR: (-0.1, 0.1)\n",
            "  CONTRAST_MODE: 3D\n",
            "  COUT_APPLY_TO_MASK: False\n",
            "  COUT_CVAL: 0.0\n",
            "  COUT_NB_ITERATIONS: (1, 3)\n",
            "  COUT_SIZE: (0.05, 0.3)\n",
            "  CUTBLUR: False\n",
            "  CUTMIX: False\n",
            "  CUTNOISE: False\n",
            "  CUTOUT: False\n",
            "  DA_PROB: 0.5\n",
            "  DRAW_GRID: True\n",
            "  DROPOUT: False\n",
            "  DROP_RANGE: (0, 0.2)\n",
            "  ELASTIC: False\n",
            "  ENABLE: True\n",
            "  E_ALPHA: (12, 16)\n",
            "  E_MODE: constant\n",
            "  E_SIGMA: 4\n",
            "  GAMMA_CONTRAST: False\n",
            "  GAUSSIAN_NOISE: False\n",
            "  GAUSSIAN_NOISE_MEAN: 0.0\n",
            "  GAUSSIAN_NOISE_USE_INPUT_IMG_MEAN_AND_VAR: False\n",
            "  GAUSSIAN_NOISE_VAR: 0.05\n",
            "  GC_GAMMA: (1.25, 1.75)\n",
            "  GRAYSCALE: False\n",
            "  GRIDMASK: False\n",
            "  GRID_D_RANGE: (0.4, 1)\n",
            "  GRID_INVERT: False\n",
            "  GRID_RATIO: 0.6\n",
            "  GRID_ROTATE: 1.0\n",
            "  G_BLUR: False\n",
            "  G_SIGMA: (1.0, 2.0)\n",
            "  HFLIP: True\n",
            "  MB_KERNEL: (3, 7)\n",
            "  MEDIAN_BLUR: False\n",
            "  MISALIGNMENT: False\n",
            "  MISSING_SECTIONS: False\n",
            "  MISSP_ITERATIONS: (10, 30)\n",
            "  MOTB_K_RANGE: (8, 12)\n",
            "  MOTION_BLUR: False\n",
            "  MS_DISPLACEMENT: 16\n",
            "  MS_ROTATE_RATIO: 0.5\n",
            "  PEPPER: False\n",
            "  PEPPER_AMOUNT: 0.05\n",
            "  POISSON_NOISE: False\n",
            "  RANDOM_ROT: False\n",
            "  RANDOM_ROT_RANGE: (-180, 180)\n",
            "  ROT90: False\n",
            "  SALT: False\n",
            "  SALT_AMOUNT: 0.05\n",
            "  SALT_AND_PEPPER: False\n",
            "  SALT_AND_PEPPER_AMOUNT: 0.05\n",
            "  SALT_AND_PEPPER_PROP: 0.5\n",
            "  SHEAR: False\n",
            "  SHEAR_RANGE: (-20, 20)\n",
            "  SHIFT: False\n",
            "  SHIFT_RANGE: (0.1, 0.2)\n",
            "  SHUFFLE_TRAIN_DATA_EACH_EPOCH: True\n",
            "  SHUFFLE_VAL_DATA_EACH_EPOCH: False\n",
            "  VFLIP: True\n",
            "  ZFLIP: True\n",
            "  ZOOM: False\n",
            "  ZOOM_IN_Z: False\n",
            "  ZOOM_RANGE: (0.8, 1.2)\n",
            "DATA:\n",
            "  CHECK_GENERATORS: False\n",
            "  EXTRACT_RANDOM_PATCH: False\n",
            "  FORCE_RGB: False\n",
            "  NORMALIZATION:\n",
            "    APPLICATION_MODE: image\n",
            "    CUSTOM_MEAN: -1.0\n",
            "    CUSTOM_STD: -1.0\n",
            "    PERC_CLIP: False\n",
            "    PERC_LOWER: -1.0\n",
            "    PERC_UPPER: -1.0\n",
            "    TYPE: div\n",
            "  PATCH_SIZE: (64, 64, 64, 1)\n",
            "  PREPROCESS:\n",
            "    CANNY:\n",
            "      ENABLE: False\n",
            "      HIGH_THRESHOLD: None\n",
            "      LOW_THRESHOLD: None\n",
            "    CLAHE:\n",
            "      CLIP_LIMIT: 0.01\n",
            "      ENABLE: False\n",
            "      KERNEL_SIZE: None\n",
            "    GAUSSIAN_BLUR:\n",
            "      CHANNEL_AXIS: None\n",
            "      ENABLE: False\n",
            "      MODE: nearest\n",
            "      SIGMA: 1\n",
            "    MATCH_HISTOGRAM:\n",
            "      ENABLE: False\n",
            "      REFERENCE_PATH: user_data/test/x\n",
            "    MEDIAN_BLUR:\n",
            "      ENABLE: False\n",
            "    RESIZE:\n",
            "      ANTI_ALIASING: False\n",
            "      CLIP: True\n",
            "      CVAL: 0.0\n",
            "      ENABLE: False\n",
            "      MODE: reflect\n",
            "      ORDER: 1\n",
            "      OUTPUT_SHAPE: (512, 512)\n",
            "      PRESERVE_RANGE: True\n",
            "    TEST: False\n",
            "    TRAIN: False\n",
            "    VAL: False\n",
            "    ZOOM:\n",
            "      ENABLE: False\n",
            "      ZOOM_FACTOR: [1, 1, 1, 1, 1]\n",
            "  PROBABILITY_MAP: False\n",
            "  REFLECT_TO_COMPLETE_SHAPE: False\n",
            "  TEST:\n",
            "    ARGMAX_TO_OUTPUT: True\n",
            "    BINARY_MASKS: /content/data/test/x/../bin_mask\n",
            "    CHECK_DATA: True\n",
            "    DETECTION_MASK_DIR: /content/data/test/y_detection_masks\n",
            "    GT_PATH: /content/data/test/y\n",
            "    INSTANCE_CHANNELS_DIR: /content/data/test/x_BC_thick\n",
            "    INSTANCE_CHANNELS_MASK_DIR: /content/data/test/y_BC_thick\n",
            "    IN_MEMORY: True\n",
            "    LOAD_GT: True\n",
            "    MEDIAN_PADDING: False\n",
            "    OVERLAP: (0, 0, 0)\n",
            "    PADDING: (8, 8, 8)\n",
            "    PATH: /content/data/test/x\n",
            "    RESOLUTION: (0.48, 0.51, 0.51)\n",
            "    SSL_SOURCE_DIR: /content/data/test/x_ssl_source\n",
            "    USE_VAL_AS_TEST: False\n",
            "  TRAIN:\n",
            "    CHECK_DATA: True\n",
            "    DETECTION_MASK_DIR: /content/data/train/y_detection_masks\n",
            "    GT_PATH: /content/data/train/y\n",
            "    INPUT_IMG_AXES_ORDER: TZCYX\n",
            "    INPUT_MASK_AXES_ORDER: TZCYX\n",
            "    INPUT_ZARR_MULTIPLE_DATA: False\n",
            "    INPUT_ZARR_MULTIPLE_DATA_GT_PATH: \n",
            "    INPUT_ZARR_MULTIPLE_DATA_RAW_PATH: \n",
            "    INSTANCE_CHANNELS_DIR: /content/data/train/x_BC_thick\n",
            "    INSTANCE_CHANNELS_MASK_DIR: /content/data/train/y_BC_thick\n",
            "    IN_MEMORY: True\n",
            "    MINIMUM_FOREGROUND_PER: 3.814697265625e-06\n",
            "    OVERLAP: (0, 0, 0)\n",
            "    PADDING: (0, 0, 0)\n",
            "    PATH: /content/data/train/x\n",
            "    REPLICATE: 0\n",
            "    RESOLUTION: (1, 1, 1)\n",
            "    SSL_SOURCE_DIR: /content/data/train/x_ssl_source\n",
            "  VAL:\n",
            "    CROSS_VAL: False\n",
            "    CROSS_VAL_FOLD: 1\n",
            "    CROSS_VAL_NFOLD: 5\n",
            "    DETECTION_MASK_DIR: user_data/val/y_detection_masks\n",
            "    DIST_EVAL: True\n",
            "    FROM_TRAIN: True\n",
            "    GT_PATH: user_data/val/y\n",
            "    INPUT_IMG_AXES_ORDER: TZCYX\n",
            "    INPUT_MASK_AXES_ORDER: TZCYX\n",
            "    INPUT_ZARR_MULTIPLE_DATA: False\n",
            "    INPUT_ZARR_MULTIPLE_DATA_GT_PATH: \n",
            "    INPUT_ZARR_MULTIPLE_DATA_RAW_PATH: \n",
            "    INSTANCE_CHANNELS_DIR: user_data/val/x_BC_thick\n",
            "    INSTANCE_CHANNELS_MASK_DIR: user_data/val/y_BC_thick\n",
            "    IN_MEMORY: True\n",
            "    OVERLAP: (0, 0, 0)\n",
            "    PADDING: (0, 0, 0)\n",
            "    PATH: user_data/val/x\n",
            "    RANDOM: True\n",
            "    RESOLUTION: (1, 1, 1)\n",
            "    SPLIT_TRAIN: 0.1\n",
            "    SSL_SOURCE_DIR: user_data/val/x_ssl_source\n",
            "  W_BACKGROUND: 0.06\n",
            "  W_FOREGROUND: 0.94\n",
            "LOG:\n",
            "  CHART_CREATION_FREQ: 5\n",
            "  LOG_DIR: /content/output/my_3d_detection/train_logs\n",
            "  LOG_FILE_PREFIX: my_3d_detection_1\n",
            "  TENSORBOARD_LOG_DIR: /content/output/my_3d_detection/results/my_3d_detection_1/tensorboard\n",
            "LOSS:\n",
            "  CLASS_REBALANCE: True\n",
            "  TYPE: CE\n",
            "  WEIGHTS: [0.66, 0.34]\n",
            "MODEL:\n",
            "  ACTIVATION: ELU\n",
            "  ARCHITECTURE: resunet\n",
            "  BMZ:\n",
            "    SOURCE_MODEL_ID: \n",
            "  CONVNEXT_LAYERS: [2, 2, 2, 2, 2]\n",
            "  CONVNEXT_LAYER_SCALE: 1e-06\n",
            "  CONVNEXT_SD_PROB: 0.1\n",
            "  CONVNEXT_STEM_K_SIZE: 2\n",
            "  DROPOUT_VALUES: [0.0, 0.0, 0.0, 0.0]\n",
            "  FEATURE_MAPS: [18, 36, 48, 64]\n",
            "  ISOTROPY: [True, True, True, True]\n",
            "  KERNEL_SIZE: 3\n",
            "  LARGER_IO: False\n",
            "  LAST_ACTIVATION: sigmoid\n",
            "  LOAD_CHECKPOINT: False\n",
            "  LOAD_CHECKPOINT_EPOCH: best_on_val\n",
            "  LOAD_CHECKPOINT_ONLY_WEIGHTS: True\n",
            "  MAE_DEC_HIDDEN_SIZE: 512\n",
            "  MAE_DEC_MLP_DIMS: 2048\n",
            "  MAE_DEC_NUM_HEADS: 16\n",
            "  MAE_DEC_NUM_LAYERS: 8\n",
            "  MAE_MASK_RATIO: 0.5\n",
            "  MAE_MASK_TYPE: grid\n",
            "  NORMALIZATION: bn\n",
            "  N_CLASSES: 2\n",
            "  SAVE_CKPT_FREQ: -1\n",
            "  SOURCE: biapy\n",
            "  TORCHVISION_MODEL_NAME: \n",
            "  UNETR_DEC_ACTIVATION: relu\n",
            "  UNETR_DEC_KERNEL_SIZE: 3\n",
            "  UNETR_VIT_HIDD_MULT: 3\n",
            "  UNETR_VIT_NUM_FILTERS: 16\n",
            "  UNET_SR_UPSAMPLE_POSITION: pre\n",
            "  UPSAMPLE_LAYER: convtranspose\n",
            "  VIT_EMBED_DIM: 768\n",
            "  VIT_MLP_RATIO: 4.0\n",
            "  VIT_MODEL: custom\n",
            "  VIT_NORM_EPS: 1e-06\n",
            "  VIT_NUM_HEADS: 12\n",
            "  VIT_NUM_LAYERS: 12\n",
            "  VIT_TOKEN_SIZE: 16\n",
            "  Z_DOWN: [2, 2, 2]\n",
            "PATHS:\n",
            "  CHARTS: /content/output/my_3d_detection/results/my_3d_detection_1/charts\n",
            "  CHECKPOINT: /content/output/my_3d_detection/checkpoints\n",
            "  CHECKPOINT_FILE: \n",
            "  DA_SAMPLES: /content/output/my_3d_detection/results/my_3d_detection_1/aug\n",
            "  GEN_CHECKS: /content/output/my_3d_detection/results/my_3d_detection_1/gen_check\n",
            "  GEN_MASK_CHECKS: /content/output/my_3d_detection/results/my_3d_detection_1/gen_mask_check\n",
            "  LWR_X_FILE: /content/output/my_3d_detection/checkpoints/lower_bound_X_perc.npy\n",
            "  LWR_Y_FILE: /content/output/my_3d_detection/checkpoints/lower_bound_Y_perc.npy\n",
            "  MAE_OUT_DIR: /content/output/my_3d_detection/results/my_3d_detection_1/MAE_checks\n",
            "  MEAN_INFO_FILE: /content/output/my_3d_detection/checkpoints/normalization_mean_value.npy\n",
            "  PROB_MAP_DIR: /content/output/my_3d_detection/prob_map\n",
            "  PROB_MAP_FILENAME: prob_map.npy\n",
            "  PROFILER: /content/output/my_3d_detection/results/my_3d_detection_1/profiler\n",
            "  RESULT_DIR:\n",
            "    AS_3D_STACK: /content/output/my_3d_detection/results/my_3d_detection_1/as_3d_stack\n",
            "    AS_3D_STACK_BIN: /content/output/my_3d_detection/results/my_3d_detection_1/as_3d_stack_binarized\n",
            "    AS_3D_STACK_POST_PROCESSING: /content/output/my_3d_detection/results/my_3d_detection_1/as_3d_stack_post_processing\n",
            "    DET_ASSOC_POINTS: /content/output/my_3d_detection/results/my_3d_detection_1/point_associations\n",
            "    DET_LOCAL_MAX_COORDS_CHECK: /content/output/my_3d_detection/results/my_3d_detection_1/per_image_local_max_check\n",
            "    FULL_IMAGE: /content/output/my_3d_detection/results/my_3d_detection_1/full_image\n",
            "    FULL_IMAGE_BIN: /content/output/my_3d_detection/results/my_3d_detection_1/full_image_binarized\n",
            "    FULL_IMAGE_INSTANCES: /content/output/my_3d_detection/results/my_3d_detection_1/full_image_instances\n",
            "    FULL_IMAGE_POST_PROCESSING: /content/output/my_3d_detection/results/my_3d_detection_1/full_image_post_processing\n",
            "    INST_ASSOC_POINTS: /content/output/my_3d_detection/results/my_3d_detection_1/instance_associations\n",
            "    PATH: /content/output/my_3d_detection/results/my_3d_detection_1\n",
            "    PER_IMAGE: /content/output/my_3d_detection/results/my_3d_detection_1/per_image\n",
            "    PER_IMAGE_BIN: /content/output/my_3d_detection/results/my_3d_detection_1/per_image_binarized\n",
            "    PER_IMAGE_INSTANCES: /content/output/my_3d_detection/results/my_3d_detection_1/per_image_instances\n",
            "    PER_IMAGE_POST_PROCESSING: /content/output/my_3d_detection/results/my_3d_detection_1/per_image_post_processing\n",
            "  STD_INFO_FILE: /content/output/my_3d_detection/checkpoints/normalization_std_value.npy\n",
            "  TEST_FULL_GT_H5: /content/data/test/y/h5\n",
            "  TEST_INSTANCE_CHANNELS_CHECK: /content/output/my_3d_detection/results/my_3d_detection_1/test_BC_instance_channels\n",
            "  TRAIN_INSTANCE_CHANNELS_CHECK: /content/output/my_3d_detection/results/my_3d_detection_1/train_BC_instance_channels\n",
            "  UPR_X_FILE: /content/output/my_3d_detection/checkpoints/upper_bound_X_perc.npy\n",
            "  UPR_Y_FILE: /content/output/my_3d_detection/checkpoints/upper_bound_Y_perc.npy\n",
            "  VAL_INSTANCE_CHANNELS_CHECK: /content/output/my_3d_detection/results/my_3d_detection_1/val_BC_instance_channels\n",
            "  WATERSHED_DIR: /content/output/my_3d_detection/results/my_3d_detection_1/watershed\n",
            "PROBLEM:\n",
            "  DENOISING:\n",
            "    N2V_MANIPULATOR: uniform_withCP\n",
            "    N2V_NEIGHBORHOOD_RADIUS: 5\n",
            "    N2V_PERC_PIX: 0.198\n",
            "    N2V_STRUCTMASK: False\n",
            "  DETECTION:\n",
            "    CENTRAL_POINT_DILATION: [0, 0, 0]\n",
            "    CHECK_POINTS_CREATED: True\n",
            "    DATA_CHECK_MW: False\n",
            "  IMAGE_TO_IMAGE:\n",
            "    MULTIPLE_RAW_ONE_TARGET_LOADER: False\n",
            "  INSTANCE_SEG:\n",
            "    DATA_CHANNELS: BC\n",
            "    DATA_CHANNEL_WEIGHTS: (1, 1)\n",
            "    DATA_CHECK_MW: False\n",
            "    DATA_CONTOUR_MODE: thick\n",
            "    DATA_MW_TH_BINARY_MASK: 0.5\n",
            "    DATA_MW_TH_CONTOUR: 0.1\n",
            "    DATA_MW_TH_DISTANCE: 1.0\n",
            "    DATA_MW_TH_FOREGROUND: 0.3\n",
            "    DATA_MW_TH_POINTS: 0.5\n",
            "    DATA_MW_TH_TYPE: auto\n",
            "    DATA_REMOVE_BEFORE_MW: False\n",
            "    DATA_REMOVE_SMALL_OBJ_BEFORE: 10\n",
            "    DISTANCE_CHANNEL_MASK: True\n",
            "    ERODE_AND_DILATE_FOREGROUND: False\n",
            "    FORE_DILATION_RADIUS: 5\n",
            "    FORE_EROSION_RADIUS: 5\n",
            "    SEED_MORPH_RADIUS: []\n",
            "    SEED_MORPH_SEQUENCE: []\n",
            "    WATERSHED_BY_2D_SLICES: False\n",
            "  NDIM: 3D\n",
            "  SELF_SUPERVISED:\n",
            "    NOISE: 0.2\n",
            "    PRETEXT_TASK: crappify\n",
            "    RESIZING_FACTOR: 4\n",
            "  SEMANTIC_SEG:\n",
            "    IGNORE_CLASS_ID: 0\n",
            "  SUPER_RESOLUTION:\n",
            "    UPSCALING: (1, 1, 1)\n",
            "  TYPE: DETECTION\n",
            "SYSTEM:\n",
            "  DEVICE: cpu\n",
            "  NUM_CPUS: 2\n",
            "  NUM_GPUS: 0\n",
            "  NUM_WORKERS: 5\n",
            "  PIN_MEM: True\n",
            "  SEED: 0\n",
            "TEST:\n",
            "  ANALIZE_2D_IMGS_AS_3D_STACK: False\n",
            "  AUGMENTATION: False\n",
            "  AUGMENTATION_MODE: mean\n",
            "  BY_CHUNKS:\n",
            "    ENABLE: False\n",
            "    FLUSH_EACH: 100\n",
            "    FORMAT: H5\n",
            "    INPUT_IMG_AXES_ORDER: TZCYX\n",
            "    INPUT_MASK_AXES_ORDER: TZCYX\n",
            "    INPUT_ZARR_MULTIPLE_DATA: False\n",
            "    INPUT_ZARR_MULTIPLE_DATA_GT_PATH: \n",
            "    INPUT_ZARR_MULTIPLE_DATA_RAW_PATH: \n",
            "    SAVE_OUT_TIF: False\n",
            "    WORKFLOW_PROCESS:\n",
            "      ENABLE: True\n",
            "      TYPE: chunk_by_chunk\n",
            "  DET_BLOB_LOG_MAX_SIGMA: 10\n",
            "  DET_BLOB_LOG_MIN_SIGMA: 5\n",
            "  DET_BLOB_LOG_NUM_SIGMA: 2\n",
            "  DET_EXCLUDE_BORDER: False\n",
            "  DET_IGNORE_POINTS_OUTSIDE_BOX: []\n",
            "  DET_MIN_TH_TO_BE_PEAK: [0.2]\n",
            "  DET_PEAK_LOCAL_MAX_MIN_DISTANCE: 1\n",
            "  DET_POINT_CREATION_FUNCTION: peak_local_max\n",
            "  DET_TOLERANCE: [3]\n",
            "  ENABLE: True\n",
            "  FULL_IMG: False\n",
            "  MATCHING_STATS: True\n",
            "  MATCHING_STATS_THS: [0.3, 0.5, 0.75]\n",
            "  MATCHING_STATS_THS_COLORED_IMG: [0.3]\n",
            "  METRICS: ['iou']\n",
            "  POST_PROCESSING:\n",
            "    APPLY_MASK: False\n",
            "    CLEAR_BORDER: False\n",
            "    DET_WATERSHED: False\n",
            "    DET_WATERSHED_DONUTS_CLASSES: [-1]\n",
            "    DET_WATERSHED_DONUTS_NUCLEUS_DIAMETER: 30\n",
            "    DET_WATERSHED_DONUTS_PATCH: [13, 120, 120]\n",
            "    DET_WATERSHED_FIRST_DILATION: [[-1, -1]]\n",
            "    MEASURE_PROPERTIES:\n",
            "      ENABLE: False\n",
            "      REMOVE_BY_PROPERTIES:\n",
            "        ENABLE: False\n",
            "        PROPS: []\n",
            "        SIGN: []\n",
            "        VALUES: []\n",
            "    MEDIAN_FILTER: False\n",
            "    MEDIAN_FILTER_AXIS: []\n",
            "    MEDIAN_FILTER_SIZE: []\n",
            "    REMOVE_CLOSE_POINTS: True\n",
            "    REMOVE_CLOSE_POINTS_RADIUS: [3]\n",
            "    REPARE_LARGE_BLOBS_SIZE: -1\n",
            "    VORONOI_ON_MASK: False\n",
            "    VORONOI_TH: 0.0\n",
            "  REDUCE_MEMORY: True\n",
            "  REUSE_PREDICTIONS: False\n",
            "  VERBOSE: True\n",
            "TRAIN:\n",
            "  ACCUM_ITER: 1\n",
            "  BATCH_SIZE: 8\n",
            "  CHECKPOINT_MONITOR: val_loss\n",
            "  ENABLE: True\n",
            "  EPOCHS: 150\n",
            "  LR: 0.001\n",
            "  LR_SCHEDULER:\n",
            "    MIN_LR: 0.0\n",
            "    NAME: warmupcosine\n",
            "    REDUCEONPLATEAU_FACTOR: 0.5\n",
            "    REDUCEONPLATEAU_PATIENCE: -1\n",
            "    WARMUP_COSINE_DECAY_EPOCHS: 0\n",
            "  METRICS: ['iou']\n",
            "  OPTIMIZER: ADAMW\n",
            "  OPT_BETAS: (0.9, 0.999)\n",
            "  PATIENCE: 20\n",
            "  VERBOSE: False\n",
            "  W_DECAY: 0.02\n",
            "[06:16:49.765279] *~~~~~~~~~~~~~~~~~~~~~~~~~~~~~~~~~~~~~~~~~~~~~~~~~~*\n",
            "[06:16:49.765412] Initializing Detection_Workflow\n",
            "[06:16:49.765466] *~~~~~~~~~~~~~~~~~~~~~~~~~~~~~~~~~~~~~~~~~~~~~~~~~~*\n",
            "\n",
            "[06:16:50.018315] ############################\n",
            "[06:16:50.018457] #  PREPARE DETECTION DATA  #\n",
            "[06:16:50.020039] ############################\n",
            "[06:16:50.021269] You select to create detection masks from given .csv files but no file is detected in /content/data/test/y_detection_masks. So let's prepare the data. Notice that, if you do not modify 'DATA.TEST.DETECTION_MASK_DIR' path, this process will be done just once!\n",
            "[06:16:50.022267] Creating test detection masks . . .\n",
            "[06:16:50.023130] Attempting to create mask from CSV file: /content/data/test/y/mask_000.csv\n",
            "[06:16:50.024003] WARNING: The image seems to have different name than its CSV file. Using the CSV file that's in the same spot (within the CSV files list) where the image is in its own list of images. Check if it is correct!\n",
            "[06:16:50.024084] Its respective image seems to be: /content/data/test/x/vol_000.tif\n",
            "[06:16:50.033110] Creating all points . . .\n"
          ]
        },
        {
          "output_type": "stream",
          "name": "stderr",
          "text": []
        },
        {
          "output_type": "stream",
          "name": "stdout",
          "text": [
            "[06:16:50.045039] Check points created to see if some of them are very close that create a large label\n"
          ]
        },
        {
          "output_type": "stream",
          "name": "stderr",
          "text": []
        },
        {
          "output_type": "stream",
          "name": "stdout",
          "text": [
            "[06:16:50.066282] Saving (1, 64, 64, 64, 1) data as .tif in folder: /content/data/test/y_detection_masks\n"
          ]
        },
        {
          "output_type": "stream",
          "name": "stderr",
          "text": []
        },
        {
          "output_type": "stream",
          "name": "stdout",
          "text": [
            "[06:16:50.078500] Attempting to create mask from CSV file: /content/data/test/y/mask_001.csv\n",
            "[06:16:50.078580] WARNING: The image seems to have different name than its CSV file. Using the CSV file that's in the same spot (within the CSV files list) where the image is in its own list of images. Check if it is correct!\n",
            "[06:16:50.078621] Its respective image seems to be: /content/data/test/x/vol_001.tif\n",
            "[06:16:50.088367] Creating all points . . .\n"
          ]
        },
        {
          "output_type": "stream",
          "name": "stderr",
          "text": []
        },
        {
          "output_type": "stream",
          "name": "stdout",
          "text": [
            "[06:16:50.120328] Check points created to see if some of them are very close that create a large label\n"
          ]
        },
        {
          "output_type": "stream",
          "name": "stderr",
          "text": []
        },
        {
          "output_type": "stream",
          "name": "stdout",
          "text": [
            "[06:16:50.142229] Saving (1, 64, 64, 64, 1) data as .tif in folder: /content/data/test/y_detection_masks\n"
          ]
        },
        {
          "output_type": "stream",
          "name": "stderr",
          "text": []
        },
        {
          "output_type": "stream",
          "name": "stdout",
          "text": [
            "[06:16:50.152353] Attempting to create mask from CSV file: /content/data/test/y/mask_002.csv\n",
            "[06:16:50.152432] WARNING: The image seems to have different name than its CSV file. Using the CSV file that's in the same spot (within the CSV files list) where the image is in its own list of images. Check if it is correct!\n",
            "[06:16:50.152473] Its respective image seems to be: /content/data/test/x/vol_002.tif\n",
            "[06:16:50.161162] Creating all points . . .\n"
          ]
        },
        {
          "output_type": "stream",
          "name": "stderr",
          "text": []
        },
        {
          "output_type": "stream",
          "name": "stdout",
          "text": [
            "[06:16:50.167792] Check points created to see if some of them are very close that create a large label\n"
          ]
        },
        {
          "output_type": "stream",
          "name": "stderr",
          "text": []
        },
        {
          "output_type": "stream",
          "name": "stdout",
          "text": [
            "[06:16:50.192906] Saving (1, 64, 64, 64, 1) data as .tif in folder: /content/data/test/y_detection_masks\n"
          ]
        },
        {
          "output_type": "stream",
          "name": "stderr",
          "text": []
        },
        {
          "output_type": "stream",
          "name": "stdout",
          "text": [
            "[06:16:50.204872] Attempting to create mask from CSV file: /content/data/test/y/mask_003.csv\n",
            "[06:16:50.204982] WARNING: The image seems to have different name than its CSV file. Using the CSV file that's in the same spot (within the CSV files list) where the image is in its own list of images. Check if it is correct!\n",
            "[06:16:50.205032] Its respective image seems to be: /content/data/test/x/vol_003.tif\n",
            "[06:16:50.213578] Creating all points . . .\n"
          ]
        },
        {
          "output_type": "stream",
          "name": "stderr",
          "text": []
        },
        {
          "output_type": "stream",
          "name": "stdout",
          "text": [
            "[06:16:50.238599] Check points created to see if some of them are very close that create a large label\n"
          ]
        },
        {
          "output_type": "stream",
          "name": "stderr",
          "text": []
        },
        {
          "output_type": "stream",
          "name": "stdout",
          "text": [
            "[06:16:50.258072] Saving (1, 64, 64, 64, 1) data as .tif in folder: /content/data/test/y_detection_masks\n"
          ]
        },
        {
          "output_type": "stream",
          "name": "stderr",
          "text": []
        },
        {
          "output_type": "stream",
          "name": "stdout",
          "text": [
            "[06:16:50.270789] Attempting to create mask from CSV file: /content/data/test/y/mask_004.csv\n",
            "[06:16:50.270867] WARNING: The image seems to have different name than its CSV file. Using the CSV file that's in the same spot (within the CSV files list) where the image is in its own list of images. Check if it is correct!\n",
            "[06:16:50.270908] Its respective image seems to be: /content/data/test/x/vol_004.tif\n",
            "[06:16:50.286359] Creating all points . . .\n"
          ]
        },
        {
          "output_type": "stream",
          "name": "stderr",
          "text": []
        },
        {
          "output_type": "stream",
          "name": "stdout",
          "text": [
            "[06:16:50.301728] Check points created to see if some of them are very close that create a large label\n"
          ]
        },
        {
          "output_type": "stream",
          "name": "stderr",
          "text": []
        },
        {
          "output_type": "stream",
          "name": "stdout",
          "text": [
            "[06:16:50.322005] Saving (1, 64, 64, 64, 1) data as .tif in folder: /content/data/test/y_detection_masks\n"
          ]
        },
        {
          "output_type": "stream",
          "name": "stderr",
          "text": []
        },
        {
          "output_type": "stream",
          "name": "stdout",
          "text": [
            "[06:16:50.332920] Attempting to create mask from CSV file: /content/data/test/y/mask_005.csv\n",
            "[06:16:50.333020] WARNING: The image seems to have different name than its CSV file. Using the CSV file that's in the same spot (within the CSV files list) where the image is in its own list of images. Check if it is correct!\n",
            "[06:16:50.333064] Its respective image seems to be: /content/data/test/x/vol_005.tif\n",
            "[06:16:50.344704] Creating all points . . .\n"
          ]
        },
        {
          "output_type": "stream",
          "name": "stderr",
          "text": []
        },
        {
          "output_type": "stream",
          "name": "stdout",
          "text": [
            "[06:16:50.356523] Check points created to see if some of them are very close that create a large label\n"
          ]
        },
        {
          "output_type": "stream",
          "name": "stderr",
          "text": []
        },
        {
          "output_type": "stream",
          "name": "stdout",
          "text": [
            "[06:16:50.380001] Saving (1, 64, 64, 64, 1) data as .tif in folder: /content/data/test/y_detection_masks\n"
          ]
        },
        {
          "output_type": "stream",
          "name": "stderr",
          "text": []
        },
        {
          "output_type": "stream",
          "name": "stdout",
          "text": [
            "[06:16:50.397460] Attempting to create mask from CSV file: /content/data/test/y/mask_006.csv\n",
            "[06:16:50.398602] WARNING: The image seems to have different name than its CSV file. Using the CSV file that's in the same spot (within the CSV files list) where the image is in its own list of images. Check if it is correct!\n",
            "[06:16:50.398657] Its respective image seems to be: /content/data/test/x/vol_006.tif\n",
            "[06:16:50.411068] Creating all points . . .\n"
          ]
        },
        {
          "output_type": "stream",
          "name": "stderr",
          "text": []
        },
        {
          "output_type": "stream",
          "name": "stdout",
          "text": [
            "[06:16:50.423911] Check points created to see if some of them are very close that create a large label\n"
          ]
        },
        {
          "output_type": "stream",
          "name": "stderr",
          "text": []
        },
        {
          "output_type": "stream",
          "name": "stdout",
          "text": [
            "[06:16:50.442280] Saving (1, 64, 64, 64, 1) data as .tif in folder: /content/data/test/y_detection_masks\n"
          ]
        },
        {
          "output_type": "stream",
          "name": "stderr",
          "text": []
        },
        {
          "output_type": "stream",
          "name": "stdout",
          "text": [
            "[06:16:50.453424] Attempting to create mask from CSV file: /content/data/test/y/mask_007.csv\n",
            "[06:16:50.453511] WARNING: The image seems to have different name than its CSV file. Using the CSV file that's in the same spot (within the CSV files list) where the image is in its own list of images. Check if it is correct!\n",
            "[06:16:50.453568] Its respective image seems to be: /content/data/test/x/vol_007.tif\n",
            "[06:16:50.464140] Creating all points . . .\n"
          ]
        },
        {
          "output_type": "stream",
          "name": "stderr",
          "text": []
        },
        {
          "output_type": "stream",
          "name": "stdout",
          "text": [
            "[06:16:50.478917] Check points created to see if some of them are very close that create a large label\n"
          ]
        },
        {
          "output_type": "stream",
          "name": "stderr",
          "text": []
        },
        {
          "output_type": "stream",
          "name": "stdout",
          "text": [
            "[06:16:50.502169] Saving (1, 64, 64, 64, 1) data as .tif in folder: /content/data/test/y_detection_masks\n"
          ]
        },
        {
          "output_type": "stream",
          "name": "stderr",
          "text": []
        },
        {
          "output_type": "stream",
          "name": "stdout",
          "text": [
            "[06:16:50.513140] Attempting to create mask from CSV file: /content/data/test/y/mask_008.csv\n",
            "[06:16:50.513226] WARNING: The image seems to have different name than its CSV file. Using the CSV file that's in the same spot (within the CSV files list) where the image is in its own list of images. Check if it is correct!\n",
            "[06:16:50.513273] Its respective image seems to be: /content/data/test/x/vol_008.tif\n",
            "[06:16:50.524157] Creating all points . . .\n"
          ]
        },
        {
          "output_type": "stream",
          "name": "stderr",
          "text": []
        },
        {
          "output_type": "stream",
          "name": "stdout",
          "text": [
            "[06:16:50.550800] Check points created to see if some of them are very close that create a large label\n"
          ]
        },
        {
          "output_type": "stream",
          "name": "stderr",
          "text": []
        },
        {
          "output_type": "stream",
          "name": "stdout",
          "text": [
            "[06:16:50.573441] Saving (1, 64, 64, 64, 1) data as .tif in folder: /content/data/test/y_detection_masks\n"
          ]
        },
        {
          "output_type": "stream",
          "name": "stderr",
          "text": []
        },
        {
          "output_type": "stream",
          "name": "stdout",
          "text": [
            "[06:16:50.591129] Attempting to create mask from CSV file: /content/data/test/y/mask_009.csv\n",
            "[06:16:50.594003] WARNING: The image seems to have different name than its CSV file. Using the CSV file that's in the same spot (within the CSV files list) where the image is in its own list of images. Check if it is correct!\n",
            "[06:16:50.594804] Its respective image seems to be: /content/data/test/x/vol_009.tif\n",
            "[06:16:50.605576] Creating all points . . .\n"
          ]
        },
        {
          "output_type": "stream",
          "name": "stderr",
          "text": []
        },
        {
          "output_type": "stream",
          "name": "stdout",
          "text": [
            "[06:16:50.636318] Check points created to see if some of them are very close that create a large label\n"
          ]
        },
        {
          "output_type": "stream",
          "name": "stderr",
          "text": []
        },
        {
          "output_type": "stream",
          "name": "stdout",
          "text": [
            "[06:16:50.657053] Saving (1, 64, 64, 64, 1) data as .tif in folder: /content/data/test/y_detection_masks\n"
          ]
        },
        {
          "output_type": "stream",
          "name": "stderr",
          "text": []
        },
        {
          "output_type": "stream",
          "name": "stdout",
          "text": [
            "[06:16:50.673136] Attempting to create mask from CSV file: /content/data/test/y/mask_010.csv\n",
            "[06:16:50.674455] WARNING: The image seems to have different name than its CSV file. Using the CSV file that's in the same spot (within the CSV files list) where the image is in its own list of images. Check if it is correct!\n",
            "[06:16:50.674535] Its respective image seems to be: /content/data/test/x/vol_010.tif\n",
            "[06:16:50.686142] Creating all points . . .\n"
          ]
        },
        {
          "output_type": "stream",
          "name": "stderr",
          "text": []
        },
        {
          "output_type": "stream",
          "name": "stdout",
          "text": [
            "[06:16:50.722303] Check points created to see if some of them are very close that create a large label\n"
          ]
        },
        {
          "output_type": "stream",
          "name": "stderr",
          "text": []
        },
        {
          "output_type": "stream",
          "name": "stdout",
          "text": [
            "[06:16:50.749282] Saving (1, 64, 64, 64, 1) data as .tif in folder: /content/data/test/y_detection_masks\n"
          ]
        },
        {
          "output_type": "stream",
          "name": "stderr",
          "text": []
        },
        {
          "output_type": "stream",
          "name": "stdout",
          "text": [
            "[06:16:50.764158] Attempting to create mask from CSV file: /content/data/test/y/mask_011.csv\n",
            "[06:16:50.764229] WARNING: The image seems to have different name than its CSV file. Using the CSV file that's in the same spot (within the CSV files list) where the image is in its own list of images. Check if it is correct!\n",
            "[06:16:50.764263] Its respective image seems to be: /content/data/test/x/vol_011.tif\n",
            "[06:16:50.771236] Creating all points . . .\n"
          ]
        },
        {
          "output_type": "stream",
          "name": "stderr",
          "text": []
        },
        {
          "output_type": "stream",
          "name": "stdout",
          "text": [
            "[06:16:50.812799] Check points created to see if some of them are very close that create a large label\n"
          ]
        },
        {
          "output_type": "stream",
          "name": "stderr",
          "text": []
        },
        {
          "output_type": "stream",
          "name": "stdout",
          "text": [
            "[06:16:50.832483] Saving (1, 64, 64, 64, 1) data as .tif in folder: /content/data/test/y_detection_masks\n"
          ]
        },
        {
          "output_type": "stream",
          "name": "stderr",
          "text": []
        },
        {
          "output_type": "stream",
          "name": "stdout",
          "text": [
            "[06:16:50.847250] Attempting to create mask from CSV file: /content/data/test/y/mask_012.csv\n",
            "[06:16:50.847322] WARNING: The image seems to have different name than its CSV file. Using the CSV file that's in the same spot (within the CSV files list) where the image is in its own list of images. Check if it is correct!\n",
            "[06:16:50.847370] Its respective image seems to be: /content/data/test/x/vol_012.tif\n",
            "[06:16:50.859005] Creating all points . . .\n"
          ]
        },
        {
          "output_type": "stream",
          "name": "stderr",
          "text": []
        },
        {
          "output_type": "stream",
          "name": "stdout",
          "text": [
            "[06:16:50.903166] Check points created to see if some of them are very close that create a large label\n"
          ]
        },
        {
          "output_type": "stream",
          "name": "stderr",
          "text": []
        },
        {
          "output_type": "stream",
          "name": "stdout",
          "text": [
            "[06:16:50.935952] Saving (1, 64, 64, 64, 1) data as .tif in folder: /content/data/test/y_detection_masks\n"
          ]
        },
        {
          "output_type": "stream",
          "name": "stderr",
          "text": []
        },
        {
          "output_type": "stream",
          "name": "stdout",
          "text": [
            "[06:16:50.959902] Attempting to create mask from CSV file: /content/data/test/y/mask_013.csv\n",
            "[06:16:50.963066] WARNING: The image seems to have different name than its CSV file. Using the CSV file that's in the same spot (within the CSV files list) where the image is in its own list of images. Check if it is correct!\n",
            "[06:16:50.963132] Its respective image seems to be: /content/data/test/x/vol_013.tif\n",
            "[06:16:50.974969] Creating all points . . .\n"
          ]
        },
        {
          "output_type": "stream",
          "name": "stderr",
          "text": []
        },
        {
          "output_type": "stream",
          "name": "stdout",
          "text": [
            "[06:16:51.014031] Check points created to see if some of them are very close that create a large label\n"
          ]
        },
        {
          "output_type": "stream",
          "name": "stderr",
          "text": []
        },
        {
          "output_type": "stream",
          "name": "stdout",
          "text": [
            "[06:16:51.041892] Saving (1, 64, 64, 64, 1) data as .tif in folder: /content/data/test/y_detection_masks\n"
          ]
        },
        {
          "output_type": "stream",
          "name": "stderr",
          "text": []
        },
        {
          "output_type": "stream",
          "name": "stdout",
          "text": [
            "[06:16:51.063814] Attempting to create mask from CSV file: /content/data/test/y/mask_014.csv\n",
            "[06:16:51.063889] WARNING: The image seems to have different name than its CSV file. Using the CSV file that's in the same spot (within the CSV files list) where the image is in its own list of images. Check if it is correct!\n",
            "[06:16:51.063948] Its respective image seems to be: /content/data/test/x/vol_014.tif\n",
            "[06:16:51.076662] Creating all points . . .\n"
          ]
        },
        {
          "output_type": "stream",
          "name": "stderr",
          "text": []
        },
        {
          "output_type": "stream",
          "name": "stdout",
          "text": [
            "[06:16:51.092083] Check points created to see if some of them are very close that create a large label\n"
          ]
        },
        {
          "output_type": "stream",
          "name": "stderr",
          "text": []
        },
        {
          "output_type": "stream",
          "name": "stdout",
          "text": [
            "[06:16:51.114410] Saving (1, 64, 64, 64, 1) data as .tif in folder: /content/data/test/y_detection_masks\n"
          ]
        },
        {
          "output_type": "stream",
          "name": "stderr",
          "text": []
        },
        {
          "output_type": "stream",
          "name": "stdout",
          "text": [
            "[06:16:51.130902] Attempting to create mask from CSV file: /content/data/test/y/mask_015.csv\n",
            "[06:16:51.132253] WARNING: The image seems to have different name than its CSV file. Using the CSV file that's in the same spot (within the CSV files list) where the image is in its own list of images. Check if it is correct!\n",
            "[06:16:51.132618] Its respective image seems to be: /content/data/test/x/vol_015.tif\n",
            "[06:16:51.145629] Creating all points . . .\n"
          ]
        },
        {
          "output_type": "stream",
          "name": "stderr",
          "text": []
        },
        {
          "output_type": "stream",
          "name": "stdout",
          "text": [
            "[06:16:51.168660] Check points created to see if some of them are very close that create a large label\n"
          ]
        },
        {
          "output_type": "stream",
          "name": "stderr",
          "text": []
        },
        {
          "output_type": "stream",
          "name": "stdout",
          "text": [
            "[06:16:51.194166] Saving (1, 64, 64, 64, 1) data as .tif in folder: /content/data/test/y_detection_masks\n"
          ]
        },
        {
          "output_type": "stream",
          "name": "stderr",
          "text": []
        },
        {
          "output_type": "stream",
          "name": "stdout",
          "text": [
            "[06:16:51.211702] Attempting to create mask from CSV file: /content/data/test/y/mask_016.csv\n",
            "[06:16:51.211776] WARNING: The image seems to have different name than its CSV file. Using the CSV file that's in the same spot (within the CSV files list) where the image is in its own list of images. Check if it is correct!\n",
            "[06:16:51.211813] Its respective image seems to be: /content/data/test/x/vol_016.tif\n",
            "[06:16:51.225382] Creating all points . . .\n"
          ]
        },
        {
          "output_type": "stream",
          "name": "stderr",
          "text": []
        },
        {
          "output_type": "stream",
          "name": "stdout",
          "text": [
            "[06:16:51.259839] Check points created to see if some of them are very close that create a large label\n"
          ]
        },
        {
          "output_type": "stream",
          "name": "stderr",
          "text": []
        },
        {
          "output_type": "stream",
          "name": "stdout",
          "text": [
            "[06:16:51.286466] Saving (1, 64, 64, 64, 1) data as .tif in folder: /content/data/test/y_detection_masks\n"
          ]
        },
        {
          "output_type": "stream",
          "name": "stderr",
          "text": []
        },
        {
          "output_type": "stream",
          "name": "stdout",
          "text": [
            "[06:16:51.303092] Attempting to create mask from CSV file: /content/data/test/y/mask_017.csv\n",
            "[06:16:51.304323] WARNING: The image seems to have different name than its CSV file. Using the CSV file that's in the same spot (within the CSV files list) where the image is in its own list of images. Check if it is correct!\n",
            "[06:16:51.304637] Its respective image seems to be: /content/data/test/x/vol_017.tif\n",
            "[06:16:51.317666] Creating all points . . .\n"
          ]
        },
        {
          "output_type": "stream",
          "name": "stderr",
          "text": []
        },
        {
          "output_type": "stream",
          "name": "stdout",
          "text": [
            "[06:16:51.354219] Check points created to see if some of them are very close that create a large label\n"
          ]
        },
        {
          "output_type": "stream",
          "name": "stderr",
          "text": []
        },
        {
          "output_type": "stream",
          "name": "stdout",
          "text": [
            "[06:16:51.383879] Saving (1, 64, 64, 64, 1) data as .tif in folder: /content/data/test/y_detection_masks\n"
          ]
        },
        {
          "output_type": "stream",
          "name": "stderr",
          "text": []
        },
        {
          "output_type": "stream",
          "name": "stdout",
          "text": [
            "[06:16:51.406026] Attempting to create mask from CSV file: /content/data/test/y/mask_018.csv\n",
            "[06:16:51.410037] WARNING: The image seems to have different name than its CSV file. Using the CSV file that's in the same spot (within the CSV files list) where the image is in its own list of images. Check if it is correct!\n",
            "[06:16:51.410118] Its respective image seems to be: /content/data/test/x/vol_018.tif\n",
            "[06:16:51.427596] Creating all points . . .\n"
          ]
        },
        {
          "output_type": "stream",
          "name": "stderr",
          "text": []
        },
        {
          "output_type": "stream",
          "name": "stdout",
          "text": [
            "[06:16:51.470770] Check points created to see if some of them are very close that create a large label\n"
          ]
        },
        {
          "output_type": "stream",
          "name": "stderr",
          "text": []
        },
        {
          "output_type": "stream",
          "name": "stdout",
          "text": [
            "[06:16:51.499605] Saving (1, 64, 64, 64, 1) data as .tif in folder: /content/data/test/y_detection_masks\n"
          ]
        },
        {
          "output_type": "stream",
          "name": "stderr",
          "text": []
        },
        {
          "output_type": "stream",
          "name": "stdout",
          "text": [
            "[06:16:51.521497] Attempting to create mask from CSV file: /content/data/test/y/mask_019.csv\n",
            "[06:16:51.524436] WARNING: The image seems to have different name than its CSV file. Using the CSV file that's in the same spot (within the CSV files list) where the image is in its own list of images. Check if it is correct!\n",
            "[06:16:51.524480] Its respective image seems to be: /content/data/test/x/vol_019.tif\n",
            "[06:16:51.537964] Creating all points . . .\n"
          ]
        },
        {
          "output_type": "stream",
          "name": "stderr",
          "text": []
        },
        {
          "output_type": "stream",
          "name": "stdout",
          "text": [
            "[06:16:51.578371] Check points created to see if some of them are very close that create a large label\n"
          ]
        },
        {
          "output_type": "stream",
          "name": "stderr",
          "text": []
        },
        {
          "output_type": "stream",
          "name": "stdout",
          "text": [
            "[06:16:51.610613] Saving (1, 64, 64, 64, 1) data as .tif in folder: /content/data/test/y_detection_masks\n"
          ]
        },
        {
          "output_type": "stream",
          "name": "stderr",
          "text": []
        },
        {
          "output_type": "stream",
          "name": "stdout",
          "text": [
            "[06:16:51.632494] Attempting to create mask from CSV file: /content/data/test/y/mask_020.csv\n",
            "[06:16:51.633518] WARNING: The image seems to have different name than its CSV file. Using the CSV file that's in the same spot (within the CSV files list) where the image is in its own list of images. Check if it is correct!\n",
            "[06:16:51.633568] Its respective image seems to be: /content/data/test/x/vol_020.tif\n",
            "[06:16:51.646421] Creating all points . . .\n"
          ]
        },
        {
          "output_type": "stream",
          "name": "stderr",
          "text": []
        },
        {
          "output_type": "stream",
          "name": "stdout",
          "text": [
            "[06:16:51.687401] Check points created to see if some of them are very close that create a large label\n"
          ]
        },
        {
          "output_type": "stream",
          "name": "stderr",
          "text": []
        },
        {
          "output_type": "stream",
          "name": "stdout",
          "text": [
            "[06:16:51.716401] Saving (1, 64, 64, 64, 1) data as .tif in folder: /content/data/test/y_detection_masks\n"
          ]
        },
        {
          "output_type": "stream",
          "name": "stderr",
          "text": []
        },
        {
          "output_type": "stream",
          "name": "stdout",
          "text": [
            "[06:16:51.737636] Attempting to create mask from CSV file: /content/data/test/y/mask_021.csv\n",
            "[06:16:51.739615] WARNING: The image seems to have different name than its CSV file. Using the CSV file that's in the same spot (within the CSV files list) where the image is in its own list of images. Check if it is correct!\n",
            "[06:16:51.740165] Its respective image seems to be: /content/data/test/x/vol_021.tif\n",
            "[06:16:51.753803] Creating all points . . .\n"
          ]
        },
        {
          "output_type": "stream",
          "name": "stderr",
          "text": []
        },
        {
          "output_type": "stream",
          "name": "stdout",
          "text": [
            "[06:16:51.770768] Check points created to see if some of them are very close that create a large label\n"
          ]
        },
        {
          "output_type": "stream",
          "name": "stderr",
          "text": []
        },
        {
          "output_type": "stream",
          "name": "stdout",
          "text": [
            "[06:16:51.798803] Saving (1, 64, 64, 64, 1) data as .tif in folder: /content/data/test/y_detection_masks\n"
          ]
        },
        {
          "output_type": "stream",
          "name": "stderr",
          "text": []
        },
        {
          "output_type": "stream",
          "name": "stdout",
          "text": [
            "[06:16:51.819069] Attempting to create mask from CSV file: /content/data/test/y/mask_022.csv\n",
            "[06:16:51.821163] WARNING: The image seems to have different name than its CSV file. Using the CSV file that's in the same spot (within the CSV files list) where the image is in its own list of images. Check if it is correct!\n",
            "[06:16:51.821231] Its respective image seems to be: /content/data/test/x/vol_022.tif\n",
            "[06:16:51.841415] Creating all points . . .\n"
          ]
        },
        {
          "output_type": "stream",
          "name": "stderr",
          "text": []
        },
        {
          "output_type": "stream",
          "name": "stdout",
          "text": [
            "[06:16:51.883877] Check points created to see if some of them are very close that create a large label\n"
          ]
        },
        {
          "output_type": "stream",
          "name": "stderr",
          "text": []
        },
        {
          "output_type": "stream",
          "name": "stdout",
          "text": [
            "[06:16:51.915688] Saving (1, 64, 64, 64, 1) data as .tif in folder: /content/data/test/y_detection_masks\n"
          ]
        },
        {
          "output_type": "stream",
          "name": "stderr",
          "text": [
            "                                     "
          ]
        },
        {
          "output_type": "stream",
          "name": "stdout",
          "text": [
            "[06:16:51.938702] Attempting to create mask from CSV file: /content/data/test/y/mask_023.csv\n",
            "[06:16:51.938787] WARNING: The image seems to have different name than its CSV file. Using the CSV file that's in the same spot (within the CSV files list) where the image is in its own list of images. Check if it is correct!\n",
            "[06:16:51.938830] Its respective image seems to be: /content/data/test/x/vol_023.tif\n"
          ]
        },
        {
          "output_type": "stream",
          "name": "stderr",
          "text": [
            "\r"
          ]
        },
        {
          "output_type": "stream",
          "name": "stdout",
          "text": [
            "[06:16:51.953519] Creating all points . . .\n"
          ]
        },
        {
          "output_type": "stream",
          "name": "stderr",
          "text": []
        },
        {
          "output_type": "stream",
          "name": "stdout",
          "text": [
            "[06:16:51.979292] Check points created to see if some of them are very close that create a large label\n"
          ]
        },
        {
          "output_type": "stream",
          "name": "stderr",
          "text": []
        },
        {
          "output_type": "stream",
          "name": "stdout",
          "text": [
            "[06:16:52.006328] Saving (1, 64, 64, 64, 1) data as .tif in folder: /content/data/test/y_detection_masks\n"
          ]
        },
        {
          "output_type": "stream",
          "name": "stderr",
          "text": [
            "                                     "
          ]
        },
        {
          "output_type": "stream",
          "name": "stdout",
          "text": [
            "[06:16:52.026154] Attempting to create mask from CSV file: /content/data/test/y/mask_024.csv\n",
            "[06:16:52.027116] WARNING: The image seems to have different name than its CSV file. Using the CSV file that's in the same spot (within the CSV files list) where the image is in its own list of images. Check if it is correct!\n",
            "[06:16:52.027168] Its respective image seems to be: /content/data/test/x/vol_024.tif\n"
          ]
        },
        {
          "output_type": "stream",
          "name": "stderr",
          "text": [
            "\r"
          ]
        },
        {
          "output_type": "stream",
          "name": "stdout",
          "text": [
            "[06:16:52.046446] Creating all points . . .\n"
          ]
        },
        {
          "output_type": "stream",
          "name": "stderr",
          "text": []
        },
        {
          "output_type": "stream",
          "name": "stdout",
          "text": [
            "[06:16:52.069223] Check points created to see if some of them are very close that create a large label\n"
          ]
        },
        {
          "output_type": "stream",
          "name": "stderr",
          "text": []
        },
        {
          "output_type": "stream",
          "name": "stdout",
          "text": [
            "[06:16:52.101912] Saving (1, 64, 64, 64, 1) data as .tif in folder: /content/data/test/y_detection_masks\n"
          ]
        },
        {
          "output_type": "stream",
          "name": "stderr",
          "text": []
        },
        {
          "output_type": "stream",
          "name": "stdout",
          "text": [
            "[06:16:52.123055] Attempting to create mask from CSV file: /content/data/test/y/mask_025.csv\n",
            "[06:16:52.124547] WARNING: The image seems to have different name than its CSV file. Using the CSV file that's in the same spot (within the CSV files list) where the image is in its own list of images. Check if it is correct!\n",
            "[06:16:52.125093] Its respective image seems to be: /content/data/test/x/vol_025.tif\n",
            "[06:16:52.138914] Creating all points . . .\n"
          ]
        },
        {
          "output_type": "stream",
          "name": "stderr",
          "text": []
        },
        {
          "output_type": "stream",
          "name": "stdout",
          "text": [
            "[06:16:52.185408] Check points created to see if some of them are very close that create a large label\n"
          ]
        },
        {
          "output_type": "stream",
          "name": "stderr",
          "text": []
        },
        {
          "output_type": "stream",
          "name": "stdout",
          "text": [
            "[06:16:52.216999] Saving (1, 64, 64, 64, 1) data as .tif in folder: /content/data/test/y_detection_masks\n"
          ]
        },
        {
          "output_type": "stream",
          "name": "stderr",
          "text": [
            "                                     "
          ]
        },
        {
          "output_type": "stream",
          "name": "stdout",
          "text": [
            "[06:16:52.240836] Attempting to create mask from CSV file: /content/data/test/y/mask_026.csv\n",
            "[06:16:52.242887] WARNING: The image seems to have different name than its CSV file. Using the CSV file that's in the same spot (within the CSV files list) where the image is in its own list of images. Check if it is correct!\n",
            "[06:16:52.243207] Its respective image seems to be: /content/data/test/x/vol_026.tif\n"
          ]
        },
        {
          "output_type": "stream",
          "name": "stderr",
          "text": [
            "\r"
          ]
        },
        {
          "output_type": "stream",
          "name": "stdout",
          "text": [
            "[06:16:52.264564] Creating all points . . .\n"
          ]
        },
        {
          "output_type": "stream",
          "name": "stderr",
          "text": []
        },
        {
          "output_type": "stream",
          "name": "stdout",
          "text": [
            "[06:16:52.280967] Check points created to see if some of them are very close that create a large label\n"
          ]
        },
        {
          "output_type": "stream",
          "name": "stderr",
          "text": []
        },
        {
          "output_type": "stream",
          "name": "stdout",
          "text": [
            "[06:16:52.313697] Saving (1, 64, 64, 64, 1) data as .tif in folder: /content/data/test/y_detection_masks\n"
          ]
        },
        {
          "output_type": "stream",
          "name": "stderr",
          "text": []
        },
        {
          "output_type": "stream",
          "name": "stdout",
          "text": [
            "[06:16:52.334150] DATA.TRAIN.GT_PATH changed from /content/data/train/y to /content/data/train/y_detection_masks\n",
            "[06:16:52.334814] DATA.TEST.GT_PATH changed from /content/data/test/y to /content/data/test/y_detection_masks\n",
            "[06:16:52.335480] ##########################\n",
            "[06:16:52.335536] #   LOAD TRAINING DATA   #\n",
            "[06:16:52.335568] ##########################\n",
            "[06:16:52.335690] ### LOAD ###\n",
            "[06:16:52.335723] 0) Loading train images . . .\n",
            "[06:16:52.335757] Loading data from /content/data/train/x\n"
          ]
        },
        {
          "output_type": "stream",
          "name": "stderr",
          "text": [
            "100%|\u2588\u2588\u2588\u2588\u2588\u2588\u2588\u2588\u2588\u2588| 27/27 [00:00<00:00, 490.77it/s]\n"
          ]
        },
        {
          "output_type": "stream",
          "name": "stdout",
          "text": [
            "[06:16:52.419337] *** Loaded data shape is (27, 64, 64, 64, 1)\n",
            "[06:16:52.420971] 1) Loading train GT . . .\n",
            "[06:16:52.421019] Loading data from /content/data/train/y_detection_masks\n"
          ]
        },
        {
          "output_type": "stream",
          "name": "stderr",
          "text": [
            "100%|\u2588\u2588\u2588\u2588\u2588\u2588\u2588\u2588\u2588\u2588| 27/27 [00:00<00:00, 97.85it/s]\n"
          ]
        },
        {
          "output_type": "stream",
          "name": "stdout",
          "text": [
            "[06:16:52.711996] *** Loaded data shape is (27, 64, 64, 64, 1)\n",
            "[06:16:52.713207] Data that do not have 3.814697265625e-06% of foreground is discarded\n"
          ]
        },
        {
          "output_type": "stream",
          "name": "stderr",
          "text": []
        },
        {
          "output_type": "stream",
          "name": "stdout",
          "text": [
            "[06:16:52.943915] 0 samples discarded!\n",
            "[06:16:52.946048] *** Remaining data shape is (27, 64, 64, 64, 1)\n",
            "[06:16:52.946882] Creating validation data\n",
            "[06:16:52.959433] Not all samples seem to have the same shape. Number of samples: 24\n",
            "[06:16:52.959547] *** Loaded train data shape is: (24, 64, 64, 64, 1)\n",
            "[06:16:52.959913] *** Loaded train GT shape is: (24, 64, 64, 64, 1)\n",
            "[06:16:52.960007] *** Loaded validation data shape is: (3, 64, 64, 64, 1)\n",
            "[06:16:52.960043] *** Loaded validation GT shape is: (3, 64, 64, 64, 1)\n",
            "[06:16:52.960076] ### END LOAD ###\n",
            "[06:16:52.960154] ###############\n",
            "[06:16:52.960188] # Build model #\n",
            "[06:16:52.960219] ###############\n",
            "[06:16:55.331138] ##############################\n",
            "[06:16:55.332378] #  PREPARE TRAIN GENERATORS  #\n",
            "[06:16:55.333089] ##############################\n",
            "[06:16:55.334163] Initializing train data generator . . .\n",
            "[06:16:55.338541] Checking which channel of the mask needs normalization . . .\n",
            "[06:16:55.358784] Normalization config used for X: {'type': 'div', 'mask_norm': 'as_mask', 'application_mode': 'image', 'enable': True, 'orig_dtype': dtype('uint8'), 'div': 1}\n",
            "[06:16:55.359637] Normalization config used for Y: as_mask\n",
            "[06:16:55.361690] Initializing val data generator . . .\n",
            "[06:16:55.363369] Checking which channel of the mask needs normalization . . .\n",
            "[06:16:55.368462] Normalization config used for X: {'type': 'div', 'mask_norm': 'as_mask', 'application_mode': 'image', 'enable': True, 'orig_dtype': dtype('uint8'), 'div': 1}\n",
            "[06:16:55.369430] Normalization config used for Y: as_mask\n",
            "[06:16:55.370523] Creating generator samples . . .\n",
            "[06:16:55.371562] 0) Creating samples of data augmentation . . .\n"
          ]
        },
        {
          "output_type": "stream",
          "name": "stderr",
          "text": [
            "\r  0%|          | 0/10 [00:00<?, ?it/s]/usr/local/lib/python3.10/dist-packages/imgaug/augmenters/base.py:49: SuspiciousSingleImageShapeWarning: You provided a numpy array of shape (64, 64, 64) as a single-image augmentation input, which was interpreted as (H, W, C). The last dimension however has a size of >=32, which indicates that you provided a multi-image array with shape (N, H, W) instead. If that is the case, you should use e.g. augmenter(imageS=<your input>) or augment_imageS(<your input>). Otherwise your multi-image input will be interpreted as a single image during augmentation.\n",
            "  ia.warn(\n",
            "\n",
            "  0%|          | 0/1 [00:00<?, ?it/s]\u001b[A\n",
            "                                     \u001b[A\n",
            "  0%|          | 0/1 [00:00<?, ?it/s]\u001b[A\n",
            "                                     \u001b[A\n",
            "  0%|          | 0/1 [00:00<?, ?it/s]\u001b[A\n",
            "                                     \u001b[A\n",
            "  0%|          | 0/1 [00:00<?, ?it/s]\u001b[A\n",
            " 10%|\u2588         | 1/10 [00:00<00:01,  6.26it/s]\n",
            "  0%|          | 0/1 [00:00<?, ?it/s]\u001b[A\n",
            "                                     \u001b[A\n",
            "  0%|          | 0/1 [00:00<?, ?it/s]\u001b[A\n",
            "                                     \u001b[A\n",
            "  0%|          | 0/1 [00:00<?, ?it/s]\u001b[A\n",
            "                                     \u001b[A\n",
            "  0%|          | 0/1 [00:00<?, ?it/s]\u001b[A\n",
            " 20%|\u2588\u2588        | 2/10 [00:00<00:01,  6.32it/s]\n",
            "  0%|          | 0/1 [00:00<?, ?it/s]\u001b[A\n",
            "                                     \u001b[A\n",
            "  0%|          | 0/1 [00:00<?, ?it/s]\u001b[A\n",
            "                                     \u001b[A\n",
            "  0%|          | 0/1 [00:00<?, ?it/s]\u001b[A\n",
            "                                     \u001b[A\n",
            "  0%|          | 0/1 [00:00<?, ?it/s]\u001b[A\n",
            " 30%|\u2588\u2588\u2588       | 3/10 [00:00<00:01,  6.12it/s]\n",
            "  0%|          | 0/1 [00:00<?, ?it/s]\u001b[A\n",
            "                                     \u001b[A\n",
            "  0%|          | 0/1 [00:00<?, ?it/s]\u001b[A\n",
            "                                     \u001b[A\n",
            "  0%|          | 0/1 [00:00<?, ?it/s]\u001b[A\n",
            "                                     \u001b[A\n",
            "  0%|          | 0/1 [00:00<?, ?it/s]\u001b[A\n",
            " 40%|\u2588\u2588\u2588\u2588      | 4/10 [00:00<00:00,  6.23it/s]\n",
            "  0%|          | 0/1 [00:00<?, ?it/s]\u001b[A\n",
            "                                     \u001b[A\n",
            "  0%|          | 0/1 [00:00<?, ?it/s]\u001b[A\n",
            "                                     \u001b[A\n",
            "  0%|          | 0/1 [00:00<?, ?it/s]\u001b[A\n",
            "                                     \u001b[A\n",
            "  0%|          | 0/1 [00:00<?, ?it/s]\u001b[A\n",
            " 50%|\u2588\u2588\u2588\u2588\u2588     | 5/10 [00:00<00:00,  5.29it/s]\n",
            "  0%|          | 0/1 [00:00<?, ?it/s]\u001b[A\n",
            "                                     \u001b[A\n",
            "  0%|          | 0/1 [00:00<?, ?it/s]\u001b[A\n",
            "                                     \u001b[A\n",
            "  0%|          | 0/1 [00:00<?, ?it/s]\u001b[A\n",
            "                                     \u001b[A\n",
            "  0%|          | 0/1 [00:00<?, ?it/s]\u001b[A\n",
            " 60%|\u2588\u2588\u2588\u2588\u2588\u2588    | 6/10 [00:01<00:00,  5.07it/s]\n",
            "  0%|          | 0/1 [00:00<?, ?it/s]\u001b[A\n",
            "                                     \u001b[A\n",
            "  0%|          | 0/1 [00:00<?, ?it/s]\u001b[A\n",
            "                                     \u001b[A\n",
            "  0%|          | 0/1 [00:00<?, ?it/s]\u001b[A\n",
            "                                     \u001b[A\n",
            "  0%|          | 0/1 [00:00<?, ?it/s]\u001b[A\n",
            " 70%|\u2588\u2588\u2588\u2588\u2588\u2588\u2588   | 7/10 [00:01<00:00,  4.93it/s]\n",
            "  0%|          | 0/1 [00:00<?, ?it/s]\u001b[A\n",
            "                                     \u001b[A\n",
            "  0%|          | 0/1 [00:00<?, ?it/s]\u001b[A\n",
            "                                     \u001b[A\n",
            "  0%|          | 0/1 [00:00<?, ?it/s]\u001b[A\n",
            "                                     \u001b[A\n",
            "  0%|          | 0/1 [00:00<?, ?it/s]\u001b[A\n",
            " 80%|\u2588\u2588\u2588\u2588\u2588\u2588\u2588\u2588  | 8/10 [00:01<00:00,  4.86it/s]\n",
            "  0%|          | 0/1 [00:00<?, ?it/s]\u001b[A\n",
            "                                     \u001b[A\n",
            "  0%|          | 0/1 [00:00<?, ?it/s]\u001b[A\n",
            "                                     \u001b[A\n",
            "  0%|          | 0/1 [00:00<?, ?it/s]\u001b[A\n",
            "                                     \u001b[A\n",
            "  0%|          | 0/1 [00:00<?, ?it/s]\u001b[A\n",
            " 90%|\u2588\u2588\u2588\u2588\u2588\u2588\u2588\u2588\u2588 | 9/10 [00:01<00:00,  4.91it/s]\n",
            "  0%|          | 0/1 [00:00<?, ?it/s]\u001b[A\n",
            "                                     \u001b[A\n",
            "  0%|          | 0/1 [00:00<?, ?it/s]\u001b[A\n",
            "                                     \u001b[A\n",
            "  0%|          | 0/1 [00:00<?, ?it/s]\u001b[A\n",
            "                                     \u001b[A\n",
            "  0%|          | 0/1 [00:00<?, ?it/s]\u001b[A\n",
            "100%|\u2588\u2588\u2588\u2588\u2588\u2588\u2588\u2588\u2588\u2588| 10/10 [00:01<00:00,  5.36it/s]\n",
            "/usr/local/lib/python3.10/dist-packages/torch/utils/data/dataloader.py:557: UserWarning: This DataLoader will create 5 worker processes in total. Our suggested max number of worker in current system is 2, which is smaller than what this DataLoader is going to create. Please be aware that excessive worker creation might get DataLoader running slow or even freeze, lower the worker number to avoid potential slowness/freeze if necessary.\n",
            "  warnings.warn(_create_warning_msg(\n",
            "/usr/local/lib/python3.10/dist-packages/biapy/utils/misc.py:290: FutureWarning: `torch.cuda.amp.GradScaler(args...)` is deprecated. Please use `torch.amp.GradScaler('cuda', args...)` instead.\n",
            "  self._scaler = torch.cuda.amp.GradScaler()\n"
          ]
        },
        {
          "output_type": "stream",
          "name": "stdout",
          "text": [
            "[06:16:57.249868] Number of workers: 5\n",
            "[06:16:57.249988] Accumulate grad iterations: 1\n",
            "[06:16:57.250021] Effective batch size: 8\n",
            "[06:16:57.250071] Sampler_train = <torch.utils.data.distributed.DistributedSampler object at 0x78393fde29e0>\n",
            "[06:16:57.256432] #######################\n",
            "[06:16:57.256495] # Prepare logging tool #\n",
            "[06:16:57.256524] #######################\n",
            "[06:16:57.262216] AdamW (\n",
            "Parameter Group 0\n",
            "    amsgrad: False\n",
            "    betas: (0.9, 0.999)\n",
            "    capturable: False\n",
            "    differentiable: False\n",
            "    eps: 1e-08\n",
            "    foreach: None\n",
            "    fused: None\n",
            "    lr: 0.0\n",
            "    maximize: False\n",
            "    weight_decay: 0.0\n",
            "\n",
            "Parameter Group 1\n",
            "    amsgrad: False\n",
            "    betas: (0.9, 0.999)\n",
            "    capturable: False\n",
            "    differentiable: False\n",
            "    eps: 1e-08\n",
            "    foreach: None\n",
            "    fused: None\n",
            "    lr: 0.0\n",
            "    maximize: False\n",
            "    weight_decay: 0.02\n",
            ")\n",
            "[06:16:57.262502] #####################\n",
            "[06:16:57.262538] #  TRAIN THE MODEL  #\n",
            "[06:16:57.262567] #####################\n",
            "[06:16:57.262600] Start training in epoch 1 - Total: 150\n",
            "[06:16:57.262646] ~~~ Epoch 1/150 ~~~\n",
            "\n"
          ]
        },
        {
          "output_type": "stream",
          "name": "stderr",
          "text": [
            "/usr/local/lib/python3.10/dist-packages/biapy/engine/train_engine.py:58: FutureWarning: `torch.cuda.amp.autocast(args...)` is deprecated. Please use `torch.amp.autocast('cuda', args...)` instead.\n",
            "  with torch.cuda.amp.autocast(enabled=False):\n"
          ]
        },
        {
          "output_type": "stream",
          "name": "stdout",
          "text": [
            "[06:19:18.191714] Epoch: [1]  [0/3]  eta: 0:07:02  loss: 0.9945 (0.9945)  IoU: 0.0171 (0.0171)  lr: 0.001000  iter-time: 140.9130\n",
            "[06:19:19.893389] Epoch: [1]  [2/3]  eta: 0:00:47  loss: 0.8692 (0.8033)  IoU: 0.0221 (0.0284)  lr: 0.001000  iter-time: 47.5375\n",
            "[06:19:19.980020] Epoch: [1] Total time: 0:02:22 (47.5720 s / it)\n",
            "[06:19:19.980204] [Train] averaged stats: loss: 0.8692 (0.8033)  IoU: 0.0221 (0.0284)  lr: 0.001000\n"
          ]
        },
        {
          "output_type": "stream",
          "name": "stderr",
          "text": [
            "/usr/local/lib/python3.10/dist-packages/biapy/engine/train_engine.py:134: FutureWarning: `torch.cuda.amp.autocast(args...)` is deprecated. Please use `torch.amp.autocast('cuda', args...)` instead.\n",
            "  with torch.cuda.amp.autocast(enabled=False):\n"
          ]
        },
        {
          "output_type": "stream",
          "name": "stdout",
          "text": [
            "[06:19:34.170731] Epoch: [1]  [0/1]  eta: 0:00:14  loss: 0.6354 (0.6354)  IoU: 0.0110 (0.0110)  iter-time: 14.1854\n",
            "[06:19:34.274266] Epoch: [1] Total time: 0:00:14 (14.2894 s / it)\n",
            "[06:19:34.274389] [Val] averaged stats: loss: 0.6354 (0.6354)  IoU: 0.0110 (0.0110)\n",
            "[06:19:34.279286] Val loss improved from inf to 0.635416567325592, saving model to /content/output/my_3d_detection/checkpoints/my_3d_detection_1-checkpoint-best.pth\n",
            "[06:19:34.323714] [Val] best loss: 0.6354 best  IoU: 0.0110 \n",
            "[06:19:34.325775] [Time] 2.6m 2.6m/6.6h\n",
            "\n",
            "[06:19:34.325853] ~~~ Epoch 2/150 ~~~\n",
            "\n",
            "[06:19:35.416985] Epoch: [2]  [0/3]  eta: 0:00:03  loss: 0.4312 (0.4312)  IoU: 0.0527 (0.0527)  lr: 0.001000  iter-time: 1.0876\n",
            "[06:19:37.096895] Epoch: [2]  [2/3]  eta: 0:00:00  loss: 0.5107 (0.4857)  IoU: 0.0752 (0.0769)  lr: 0.001000  iter-time: 0.9214\n",
            "[06:19:37.181728] Epoch: [2] Total time: 0:00:02 (0.9513 s / it)\n",
            "[06:19:37.182747] [Train] averaged stats: loss: 0.5107 (0.4857)  IoU: 0.0752 (0.0769)  lr: 0.001000\n",
            "[06:19:37.425064] Epoch: [2]  [0/1]  eta: 0:00:00  loss: 0.4000 (0.4000)  IoU: 0.0326 (0.0326)  iter-time: 0.2392\n",
            "[06:19:37.503427] Epoch: [2] Total time: 0:00:00 (0.3180 s / it)\n",
            "[06:19:37.504259] [Val] averaged stats: loss: 0.4000 (0.4000)  IoU: 0.0326 (0.0326)\n",
            "[06:19:37.506400] Val loss improved from 0.635416567325592 to 0.39995020627975464, saving model to /content/output/my_3d_detection/checkpoints/my_3d_detection_1-checkpoint-best.pth\n",
            "[06:19:37.550267] [Val] best loss: 0.4000 best  IoU: 0.0326 \n",
            "[06:19:37.552632] [Time] 3.2s 2.7m/10.7m\n",
            "\n",
            "[06:19:37.553435] ~~~ Epoch 3/150 ~~~\n",
            "\n",
            "[06:19:38.649706] Epoch: [3]  [0/3]  eta: 0:00:03  loss: 0.3180 (0.3180)  IoU: 0.0793 (0.0793)  lr: 0.001000  iter-time: 1.0938\n",
            "[06:19:40.334370] Epoch: [3]  [2/3]  eta: 0:00:00  loss: 0.3527 (0.4082)  IoU: 0.0793 (0.0851)  lr: 0.000999  iter-time: 0.9255\n",
            "[06:19:40.462289] Epoch: [3] Total time: 0:00:02 (0.9693 s / it)\n",
            "[06:19:40.463336] [Train] averaged stats: loss: 0.3527 (0.4082)  IoU: 0.0793 (0.0851)  lr: 0.000999\n",
            "[06:19:40.796849] Epoch: [3]  [0/1]  eta: 0:00:00  loss: 0.1937 (0.1937)  IoU: 0.0014 (0.0014)  iter-time: 0.3313\n",
            "[06:19:40.951198] Epoch: [3] Total time: 0:00:00 (0.4862 s / it)\n",
            "[06:19:40.951321] [Val] averaged stats: loss: 0.1937 (0.1937)  IoU: 0.0014 (0.0014)\n",
            "[06:19:40.951924] Val loss improved from 0.39995020627975464 to 0.19367150962352753, saving model to /content/output/my_3d_detection/checkpoints/my_3d_detection_1-checkpoint-best.pth\n",
            "[06:19:41.027781] [Val] best loss: 0.1937 best  IoU: 0.0014 \n",
            "[06:19:41.031737] [Time] 3.5s 2.7m/11.3m\n",
            "\n",
            "[06:19:41.032365] ~~~ Epoch 4/150 ~~~\n",
            "\n",
            "[06:19:42.216971] Epoch: [4]  [0/3]  eta: 0:00:03  loss: 0.2844 (0.2844)  IoU: 0.1150 (0.1150)  lr: 0.000999  iter-time: 1.1810\n",
            "[06:19:43.894888] Epoch: [4]  [2/3]  eta: 0:00:00  loss: 0.3318 (0.3986)  IoU: 0.1181 (0.1196)  lr: 0.000999  iter-time: 0.9519\n",
            "[06:19:44.031564] Epoch: [4] Total time: 0:00:02 (0.9991 s / it)\n",
            "[06:19:44.032727] [Train] averaged stats: loss: 0.3318 (0.3986)  IoU: 0.1181 (0.1196)  lr: 0.000999\n",
            "[06:19:44.364192] Epoch: [4]  [0/1]  eta: 0:00:00  loss: 0.1642 (0.1642)  IoU: 0.0000 (0.0000)  iter-time: 0.3280\n",
            "[06:19:44.458728] Epoch: [4] Total time: 0:00:00 (0.4230 s / it)\n",
            "[06:19:44.459622] [Val] averaged stats: loss: 0.1642 (0.1642)  IoU: 0.0000 (0.0000)\n",
            "[06:19:44.461492] Val loss improved from 0.19367150962352753 to 0.16420143842697144, saving model to /content/output/my_3d_detection/checkpoints/my_3d_detection_1-checkpoint-best.pth\n",
            "[06:19:44.508293] [Val] best loss: 0.1642 best  IoU: 0.0000 \n",
            "[06:19:44.510691] [Time] 3.5s 2.8m/11.3m\n",
            "\n",
            "[06:19:44.511497] ~~~ Epoch 5/150 ~~~\n",
            "\n",
            "[06:19:45.588981] Epoch: [5]  [0/3]  eta: 0:00:03  loss: 0.2943 (0.2943)  IoU: 0.0838 (0.0838)  lr: 0.000998  iter-time: 1.0745\n",
            "[06:19:47.255719] Epoch: [5]  [2/3]  eta: 0:00:00  loss: 0.3328 (0.3558)  IoU: 0.0998 (0.0975)  lr: 0.000998  iter-time: 0.9133\n",
            "[06:19:47.342226] Epoch: [5] Total time: 0:00:02 (0.9431 s / it)\n",
            "[06:19:47.343354] [Train] averaged stats: loss: 0.3328 (0.3558)  IoU: 0.0998 (0.0975)  lr: 0.000998\n",
            "[06:19:47.588307] Epoch: [5]  [0/1]  eta: 0:00:00  loss: 0.1796 (0.1796)  IoU: 0.0000 (0.0000)  iter-time: 0.2419\n",
            "[06:19:47.673367] Epoch: [5] Total time: 0:00:00 (0.3275 s / it)\n",
            "[06:19:47.674316] [Val] averaged stats: loss: 0.1796 (0.1796)  IoU: 0.0000 (0.0000)\n",
            "[06:19:47.676242] [Val] best loss: 0.1642 best  IoU: 0.0000 \n",
            "[06:19:47.678372] Creating training plots . . .\n",
            "EarlyStopping counter: 1 out of 20\n",
            "[06:19:48.071764] [Time] 3.6s 2.8m/11.5m\n",
            "\n",
            "[06:19:48.071831] ~~~ Epoch 6/150 ~~~\n",
            "\n",
            "[06:19:49.130486] Epoch: [6]  [0/3]  eta: 0:00:03  loss: 0.2677 (0.2677)  IoU: 0.1039 (0.1039)  lr: 0.000997  iter-time: 1.0560\n",
            "[06:19:50.797138] Epoch: [6]  [2/3]  eta: 0:00:00  loss: 0.3203 (0.3278)  IoU: 0.1161 (0.1200)  lr: 0.000996  iter-time: 0.9070\n",
            "[06:19:50.877497] Epoch: [6] Total time: 0:00:02 (0.9348 s / it)\n",
            "[06:19:50.878690] [Train] averaged stats: loss: 0.3203 (0.3278)  IoU: 0.1161 (0.1200)  lr: 0.000996\n",
            "[06:19:51.120883] Epoch: [6]  [0/1]  eta: 0:00:00  loss: 0.2629 (0.2629)  IoU: 0.0000 (0.0000)  iter-time: 0.2391\n",
            "[06:19:51.204019] Epoch: [6] Total time: 0:00:00 (0.3229 s / it)\n",
            "[06:19:51.204148] [Val] averaged stats: loss: 0.2629 (0.2629)  IoU: 0.0000 (0.0000)\n",
            "[06:19:51.206665] [Val] best loss: 0.1642 best  IoU: 0.0000 \n",
            "EarlyStopping counter: 2 out of 20\n",
            "[06:19:51.209005] [Time] 3.1s 2.9m/10.5m\n",
            "\n",
            "[06:19:51.209062] ~~~ Epoch 7/150 ~~~\n",
            "\n",
            "[06:19:52.289761] Epoch: [7]  [0/3]  eta: 0:00:03  loss: 0.2465 (0.2465)  IoU: 0.1057 (0.1057)  lr: 0.000996  iter-time: 1.0783\n",
            "[06:19:53.970255] Epoch: [7]  [2/3]  eta: 0:00:00  loss: 0.2955 (0.3075)  IoU: 0.1067 (0.1149)  lr: 0.000995  iter-time: 0.9191\n",
            "[06:19:54.050364] Epoch: [7] Total time: 0:00:02 (0.9468 s / it)\n",
            "[06:19:54.051518] [Train] averaged stats: loss: 0.2955 (0.3075)  IoU: 0.1067 (0.1149)  lr: 0.000995\n",
            "[06:19:54.290228] Epoch: [7]  [0/1]  eta: 0:00:00  loss: 0.2681 (0.2681)  IoU: 0.0000 (0.0000)  iter-time: 0.2355\n",
            "[06:19:54.412377] Epoch: [7] Total time: 0:00:00 (0.3581 s / it)\n",
            "[06:19:54.412518] [Val] averaged stats: loss: 0.2681 (0.2681)  IoU: 0.0000 (0.0000)\n",
            "[06:19:54.413181] [Val] best loss: 0.1642 best  IoU: 0.0000 \n",
            "EarlyStopping counter: 3 out of 20\n",
            "[06:19:54.415413] [Time] 3.2s 3.0m/10.6m\n",
            "\n",
            "[06:19:54.415462] ~~~ Epoch 8/150 ~~~\n",
            "\n",
            "[06:19:55.661256] Epoch: [8]  [0/3]  eta: 0:00:03  loss: 0.2329 (0.2329)  IoU: 0.1196 (0.1196)  lr: 0.000995  iter-time: 1.2415\n",
            "[06:19:57.336789] Epoch: [8]  [2/3]  eta: 0:00:00  loss: 0.2803 (0.3013)  IoU: 0.1407 (0.1456)  lr: 0.000994  iter-time: 0.9703\n",
            "[06:19:57.471813] Epoch: [8] Total time: 0:00:03 (1.0184 s / it)\n",
            "[06:19:57.472024] [Train] averaged stats: loss: 0.2803 (0.3013)  IoU: 0.1407 (0.1456)  lr: 0.000994\n",
            "[06:19:57.795399] Epoch: [8]  [0/1]  eta: 0:00:00  loss: 0.3150 (0.3150)  IoU: 0.0000 (0.0000)  iter-time: 0.3209\n",
            "[06:19:57.920428] Epoch: [8] Total time: 0:00:00 (0.4468 s / it)\n",
            "[06:19:57.921160] [Val] averaged stats: loss: 0.3150 (0.3150)  IoU: 0.0000 (0.0000)\n",
            "[06:19:57.923486] [Val] best loss: 0.1642 best  IoU: 0.0000 \n",
            "EarlyStopping counter: 4 out of 20\n",
            "[06:19:57.925715] [Time] 3.5s 3.0m/11.4m\n",
            "\n",
            "[06:19:57.925760] ~~~ Epoch 9/150 ~~~\n",
            "\n",
            "[06:19:58.987452] Epoch: [9]  [0/3]  eta: 0:00:03  loss: 0.2330 (0.2330)  IoU: 0.1114 (0.1114)  lr: 0.000993  iter-time: 1.0590\n",
            "[06:20:00.670687] Epoch: [9]  [2/3]  eta: 0:00:00  loss: 0.2725 (0.2858)  IoU: 0.1360 (0.1288)  lr: 0.000992  iter-time: 0.9135\n",
            "[06:20:00.766974] Epoch: [9] Total time: 0:00:02 (0.9467 s / it)\n",
            "[06:20:00.768091] [Train] averaged stats: loss: 0.2725 (0.2858)  IoU: 0.1360 (0.1288)  lr: 0.000992\n",
            "[06:20:01.015814] Epoch: [9]  [0/1]  eta: 0:00:00  loss: 0.2820 (0.2820)  IoU: 0.0000 (0.0000)  iter-time: 0.2445\n",
            "[06:20:01.093861] Epoch: [9] Total time: 0:00:00 (0.3231 s / it)\n",
            "[06:20:01.094013] [Val] averaged stats: loss: 0.2820 (0.2820)  IoU: 0.0000 (0.0000)\n",
            "[06:20:01.096461] [Val] best loss: 0.1642 best  IoU: 0.0000 \n",
            "EarlyStopping counter: 5 out of 20\n",
            "[06:20:01.098747] [Time] 3.2s 3.1m/10.6m\n",
            "\n",
            "[06:20:01.098807] ~~~ Epoch 10/150 ~~~\n",
            "\n",
            "[06:20:02.159594] Epoch: [10]  [0/3]  eta: 0:00:03  loss: 0.2174 (0.2174)  IoU: 0.1404 (0.1404)  lr: 0.000991  iter-time: 1.0582\n",
            "[06:20:03.847537] Epoch: [10]  [2/3]  eta: 0:00:00  loss: 0.2654 (0.2746)  IoU: 0.1520 (0.1542)  lr: 0.000990  iter-time: 0.9149\n",
            "[06:20:03.929457] Epoch: [10] Total time: 0:00:02 (0.9432 s / it)\n",
            "[06:20:03.930553] [Train] averaged stats: loss: 0.2654 (0.2746)  IoU: 0.1520 (0.1542)  lr: 0.000990\n",
            "[06:20:04.179355] Epoch: [10]  [0/1]  eta: 0:00:00  loss: 0.2903 (0.2903)  IoU: 0.0000 (0.0000)  iter-time: 0.2458\n",
            "[06:20:04.266796] Epoch: [10] Total time: 0:00:00 (0.3337 s / it)\n",
            "[06:20:04.267792] [Val] averaged stats: loss: 0.2903 (0.2903)  IoU: 0.0000 (0.0000)\n",
            "[06:20:04.269148] [Val] best loss: 0.1642 best  IoU: 0.0000 \n",
            "[06:20:04.271523] Creating training plots . . .\n",
            "EarlyStopping counter: 6 out of 20\n",
            "[06:20:04.586815] [Time] 3.5s 3.1m/11.3m\n",
            "\n",
            "[06:20:04.588345] ~~~ Epoch 11/150 ~~~\n",
            "\n",
            "[06:20:05.698888] Epoch: [11]  [0/3]  eta: 0:00:03  loss: 0.2097 (0.2097)  IoU: 0.1359 (0.1359)  lr: 0.000989  iter-time: 1.1078\n",
            "[06:20:07.402185] Epoch: [11]  [2/3]  eta: 0:00:00  loss: 0.2534 (0.2637)  IoU: 0.1386 (0.1429)  lr: 0.000988  iter-time: 0.9366\n",
            "[06:20:07.484197] Epoch: [11] Total time: 0:00:02 (0.9649 s / it)\n",
            "[06:20:07.485205] [Train] averaged stats: loss: 0.2534 (0.2637)  IoU: 0.1386 (0.1429)  lr: 0.000988\n",
            "[06:20:07.724246] Epoch: [11]  [0/1]  eta: 0:00:00  loss: 0.2674 (0.2674)  IoU: 0.0000 (0.0000)  iter-time: 0.2360\n",
            "[06:20:07.803243] Epoch: [11] Total time: 0:00:00 (0.3155 s / it)\n",
            "[06:20:07.803377] [Val] averaged stats: loss: 0.2674 (0.2674)  IoU: 0.0000 (0.0000)\n",
            "[06:20:07.805805] [Val] best loss: 0.1642 best  IoU: 0.0000 \n",
            "EarlyStopping counter: 7 out of 20\n",
            "[06:20:07.808110] [Time] 3.2s 3.2m/10.7m\n",
            "\n",
            "[06:20:07.808172] ~~~ Epoch 12/150 ~~~\n",
            "\n",
            "[06:20:09.026529] Epoch: [12]  [0/3]  eta: 0:00:03  loss: 0.1992 (0.1992)  IoU: 0.1496 (0.1496)  lr: 0.000987  iter-time: 1.2159\n",
            "[06:20:10.741745] Epoch: [12]  [2/3]  eta: 0:00:00  loss: 0.2439 (0.2565)  IoU: 0.1673 (0.1709)  lr: 0.000985  iter-time: 0.9760\n",
            "[06:20:10.881831] Epoch: [12] Total time: 0:00:03 (1.0242 s / it)\n",
            "[06:20:10.882105] [Train] averaged stats: loss: 0.2439 (0.2565)  IoU: 0.1673 (0.1709)  lr: 0.000985\n",
            "[06:20:11.189358] Epoch: [12]  [0/1]  eta: 0:00:00  loss: 0.2379 (0.2379)  IoU: 0.0000 (0.0000)  iter-time: 0.3049\n",
            "[06:20:11.324857] Epoch: [12] Total time: 0:00:00 (0.4411 s / it)\n",
            "[06:20:11.325982] [Val] averaged stats: loss: 0.2379 (0.2379)  IoU: 0.0000 (0.0000)\n",
            "[06:20:11.327774] [Val] best loss: 0.1642 best  IoU: 0.0000 \n",
            "EarlyStopping counter: 8 out of 20\n",
            "[06:20:11.329922] [Time] 3.5s 3.2m/11.4m\n",
            "\n",
            "[06:20:11.330006] ~~~ Epoch 13/150 ~~~\n",
            "\n",
            "[06:20:12.437394] Epoch: [13]  [0/3]  eta: 0:00:03  loss: 0.1964 (0.1964)  IoU: 0.1387 (0.1387)  lr: 0.000984  iter-time: 1.1034\n",
            "[06:20:14.156222] Epoch: [13]  [2/3]  eta: 0:00:00  loss: 0.2357 (0.2464)  IoU: 0.1623 (0.1562)  lr: 0.000983  iter-time: 0.9403\n",
            "[06:20:14.241973] Epoch: [13] Total time: 0:00:02 (0.9698 s / it)\n",
            "[06:20:14.242966] [Train] averaged stats: loss: 0.2357 (0.2464)  IoU: 0.1623 (0.1562)  lr: 0.000983\n",
            "[06:20:14.497417] Epoch: [13]  [0/1]  eta: 0:00:00  loss: 0.1582 (0.1582)  IoU: 0.0120 (0.0120)  iter-time: 0.2511\n",
            "[06:20:14.580697] Epoch: [13] Total time: 0:00:00 (0.3351 s / it)\n",
            "[06:20:14.580853] [Val] averaged stats: loss: 0.1582 (0.1582)  IoU: 0.0120 (0.0120)\n",
            "[06:20:14.583347] Val loss improved from 0.16420143842697144 to 0.15824824571609497, saving model to /content/output/my_3d_detection/checkpoints/my_3d_detection_1-checkpoint-best.pth\n",
            "[06:20:14.630791] [Val] best loss: 0.1582 best  IoU: 0.0120 \n",
            "[06:20:14.631786] [Time] 3.3s 3.3m/10.9m\n",
            "\n",
            "[06:20:14.631874] ~~~ Epoch 14/150 ~~~\n",
            "\n",
            "[06:20:15.742969] Epoch: [14]  [0/3]  eta: 0:00:03  loss: 0.1858 (0.1858)  IoU: 0.1706 (0.1706)  lr: 0.000982  iter-time: 1.1085\n",
            "[06:20:17.469549] Epoch: [14]  [2/3]  eta: 0:00:00  loss: 0.2283 (0.2377)  IoU: 0.1740 (0.1831)  lr: 0.000980  iter-time: 0.9447\n",
            "[06:20:17.563730] Epoch: [14] Total time: 0:00:02 (0.9769 s / it)\n",
            "[06:20:17.564731] [Train] averaged stats: loss: 0.2283 (0.2377)  IoU: 0.1740 (0.1831)  lr: 0.000980\n",
            "[06:20:17.811971] Epoch: [14]  [0/1]  eta: 0:00:00  loss: 0.1402 (0.1402)  IoU: 0.0438 (0.0438)  iter-time: 0.2441\n",
            "[06:20:17.895580] Epoch: [14] Total time: 0:00:00 (0.3282 s / it)\n",
            "[06:20:17.895705] [Val] averaged stats: loss: 0.1402 (0.1402)  IoU: 0.0438 (0.0438)\n",
            "[06:20:17.898290] Val loss improved from 0.15824824571609497 to 0.140171080827713, saving model to /content/output/my_3d_detection/checkpoints/my_3d_detection_1-checkpoint-best.pth\n",
            "[06:20:17.943358] [Val] best loss: 0.1402 best  IoU: 0.0438 \n",
            "[06:20:17.944622] [Time] 3.3s 3.3m/10.9m\n",
            "\n",
            "[06:20:17.944698] ~~~ Epoch 15/150 ~~~\n",
            "\n",
            "[06:20:19.070750] Epoch: [15]  [0/3]  eta: 0:00:03  loss: 0.1825 (0.1825)  IoU: 0.1559 (0.1559)  lr: 0.000979  iter-time: 1.1236\n",
            "[06:20:20.795762] Epoch: [15]  [2/3]  eta: 0:00:00  loss: 0.2208 (0.2297)  IoU: 0.1785 (0.1736)  lr: 0.000977  iter-time: 0.9486\n",
            "[06:20:20.878422] Epoch: [15] Total time: 0:00:02 (0.9776 s / it)\n",
            "[06:20:20.879399] [Train] averaged stats: loss: 0.2208 (0.2297)  IoU: 0.1785 (0.1736)  lr: 0.000977\n",
            "[06:20:21.121840] Epoch: [15]  [0/1]  eta: 0:00:00  loss: 0.1272 (0.1272)  IoU: 0.0755 (0.0755)  iter-time: 0.2395\n",
            "[06:20:21.203200] Epoch: [15] Total time: 0:00:00 (0.3214 s / it)\n",
            "[06:20:21.203433] [Val] averaged stats: loss: 0.1272 (0.1272)  IoU: 0.0755 (0.0755)\n",
            "[06:20:21.203890] Val loss improved from 0.140171080827713 to 0.12717655301094055, saving model to /content/output/my_3d_detection/checkpoints/my_3d_detection_1-checkpoint-best.pth\n",
            "[06:20:21.251568] [Val] best loss: 0.1272 best  IoU: 0.0755 \n",
            "[06:20:21.253984] Creating training plots . . .\n",
            "[06:20:22.118792] [Time] 4.2s 3.4m/12.9m\n",
            "\n",
            "[06:20:22.120143] ~~~ Epoch 16/150 ~~~\n",
            "\n",
            "[06:20:23.427153] Epoch: [16]  [0/3]  eta: 0:00:03  loss: 0.1747 (0.1747)  IoU: 0.1795 (0.1795)  lr: 0.000976  iter-time: 1.3036\n",
            "[06:20:25.150251] Epoch: [16]  [2/3]  eta: 0:00:01  loss: 0.2165 (0.2238)  IoU: 0.1795 (0.1850)  lr: 0.000973  iter-time: 1.0080\n",
            "[06:20:25.295332] Epoch: [16] Total time: 0:00:03 (1.0577 s / it)\n",
            "[06:20:25.296486] [Train] averaged stats: loss: 0.2165 (0.2238)  IoU: 0.1795 (0.1850)  lr: 0.000973\n",
            "[06:20:25.625061] Epoch: [16]  [0/1]  eta: 0:00:00  loss: 0.1043 (0.1043)  IoU: 0.1537 (0.1537)  iter-time: 0.3250\n",
            "[06:20:25.711062] Epoch: [16] Total time: 0:00:00 (0.4115 s / it)\n",
            "[06:20:25.711191] [Val] averaged stats: loss: 0.1043 (0.1043)  IoU: 0.1537 (0.1537)\n",
            "[06:20:25.713652] Val loss improved from 0.12717655301094055 to 0.10432696342468262, saving model to /content/output/my_3d_detection/checkpoints/my_3d_detection_1-checkpoint-best.pth\n",
            "[06:20:25.758567] [Val] best loss: 0.1043 best  IoU: 0.1537 \n",
            "[06:20:25.761044] [Time] 3.6s 3.5m/11.7m\n",
            "\n",
            "[06:20:25.761759] ~~~ Epoch 17/150 ~~~\n",
            "\n",
            "[06:20:26.884455] Epoch: [17]  [0/3]  eta: 0:00:03  loss: 0.1723 (0.1723)  IoU: 0.1632 (0.1632)  lr: 0.000972  iter-time: 1.1198\n",
            "[06:20:28.589584] Epoch: [17]  [2/3]  eta: 0:00:00  loss: 0.2142 (0.2190)  IoU: 0.2030 (0.1904)  lr: 0.000970  iter-time: 0.9405\n",
            "[06:20:28.671986] Epoch: [17] Total time: 0:00:02 (0.9696 s / it)\n",
            "[06:20:28.673313] [Train] averaged stats: loss: 0.2142 (0.2190)  IoU: 0.2030 (0.1904)  lr: 0.000970\n",
            "[06:20:28.912365] Epoch: [17]  [0/1]  eta: 0:00:00  loss: 0.0749 (0.0749)  IoU: 0.1938 (0.1938)  iter-time: 0.2362\n",
            "[06:20:29.013206] Epoch: [17] Total time: 0:00:00 (0.3376 s / it)\n",
            "[06:20:29.013332] [Val] averaged stats: loss: 0.0749 (0.0749)  IoU: 0.1938 (0.1938)\n",
            "[06:20:29.015867] Val loss improved from 0.10432696342468262 to 0.07492710649967194, saving model to /content/output/my_3d_detection/checkpoints/my_3d_detection_1-checkpoint-best.pth\n",
            "[06:20:29.060147] [Val] best loss: 0.0749 best  IoU: 0.1938 \n",
            "[06:20:29.062665] [Time] 3.3s 3.5m/10.9m\n",
            "\n",
            "[06:20:29.063489] ~~~ Epoch 18/150 ~~~\n",
            "\n",
            "[06:20:30.183013] Epoch: [18]  [0/3]  eta: 0:00:03  loss: 0.1656 (0.1656)  IoU: 0.1883 (0.1883)  lr: 0.000969  iter-time: 1.1172\n",
            "[06:20:31.897539] Epoch: [18]  [2/3]  eta: 0:00:00  loss: 0.2053 (0.2115)  IoU: 0.1883 (0.1887)  lr: 0.000966  iter-time: 0.9427\n",
            "[06:20:31.979579] Epoch: [18] Total time: 0:00:02 (0.9717 s / it)\n",
            "[06:20:31.980640] [Train] averaged stats: loss: 0.2053 (0.2115)  IoU: 0.1883 (0.1887)  lr: 0.000966\n",
            "[06:20:32.241497] Epoch: [18]  [0/1]  eta: 0:00:00  loss: 0.0702 (0.0702)  IoU: 0.1998 (0.1998)  iter-time: 0.2578\n",
            "[06:20:32.326305] Epoch: [18] Total time: 0:00:00 (0.3432 s / it)\n",
            "[06:20:32.326413] [Val] averaged stats: loss: 0.0702 (0.0702)  IoU: 0.1998 (0.1998)\n",
            "[06:20:32.326907] Val loss improved from 0.07492710649967194 to 0.07023672759532928, saving model to /content/output/my_3d_detection/checkpoints/my_3d_detection_1-checkpoint-best.pth\n",
            "[06:20:32.370649] [Val] best loss: 0.0702 best  IoU: 0.1998 \n",
            "[06:20:32.371809] [Time] 3.3s 3.6m/10.9m\n",
            "\n",
            "[06:20:32.371907] ~~~ Epoch 19/150 ~~~\n",
            "\n",
            "[06:20:33.487782] Epoch: [19]  [0/3]  eta: 0:00:03  loss: 0.1591 (0.1591)  IoU: 0.1923 (0.1923)  lr: 0.000965  iter-time: 1.1130\n",
            "[06:20:35.190589] Epoch: [19]  [2/3]  eta: 0:00:00  loss: 0.2000 (0.2077)  IoU: 0.1923 (0.2038)  lr: 0.000962  iter-time: 0.9381\n",
            "[06:20:35.273607] Epoch: [19] Total time: 0:00:02 (0.9668 s / it)\n",
            "[06:20:35.273789] [Train] averaged stats: loss: 0.2000 (0.2077)  IoU: 0.1923 (0.2038)  lr: 0.000962\n",
            "[06:20:35.516181] Epoch: [19]  [0/1]  eta: 0:00:00  loss: 0.0635 (0.0635)  IoU: 0.1849 (0.1849)  iter-time: 0.2401\n",
            "[06:20:35.616186] Epoch: [19] Total time: 0:00:00 (0.3406 s / it)\n",
            "[06:20:35.616305] [Val] averaged stats: loss: 0.0635 (0.0635)  IoU: 0.1849 (0.1849)\n",
            "[06:20:35.616895] Val loss improved from 0.07023672759532928 to 0.06352968513965607, saving model to /content/output/my_3d_detection/checkpoints/my_3d_detection_1-checkpoint-best.pth\n",
            "[06:20:35.689796] [Val] best loss: 0.0635 best  IoU: 0.1849 \n",
            "[06:20:35.692782] [Time] 3.3s 3.6m/10.9m\n",
            "\n",
            "[06:20:35.693700] ~~~ Epoch 20/150 ~~~\n",
            "\n",
            "[06:20:36.985744] Epoch: [20]  [0/3]  eta: 0:00:03  loss: 0.1624 (0.1624)  IoU: 0.1662 (0.1662)  lr: 0.000961  iter-time: 1.2885\n",
            "[06:20:38.686305] Epoch: [20]  [2/3]  eta: 0:00:00  loss: 0.2024 (0.2045)  IoU: 0.2059 (0.2005)  lr: 0.000958  iter-time: 0.9959\n",
            "[06:20:38.827178] Epoch: [20] Total time: 0:00:03 (1.0438 s / it)\n",
            "[06:20:38.828388] [Train] averaged stats: loss: 0.2024 (0.2045)  IoU: 0.2059 (0.2005)  lr: 0.000958\n",
            "[06:20:39.167440] Epoch: [20]  [0/1]  eta: 0:00:00  loss: 0.0601 (0.0601)  IoU: 0.1786 (0.1786)  iter-time: 0.3348\n",
            "[06:20:39.257359] Epoch: [20] Total time: 0:00:00 (0.4252 s / it)\n",
            "[06:20:39.258394] [Val] averaged stats: loss: 0.0601 (0.0601)  IoU: 0.1786 (0.1786)\n",
            "[06:20:39.260361] Val loss improved from 0.06352968513965607 to 0.060076773166656494, saving model to /content/output/my_3d_detection/checkpoints/my_3d_detection_1-checkpoint-best.pth\n",
            "[06:20:39.303771] [Val] best loss: 0.0601 best  IoU: 0.1786 \n",
            "[06:20:39.306160] Creating training plots . . .\n",
            "[06:20:39.655578] [Time] 4.0s 3.7m/12.4m\n",
            "\n",
            "[06:20:39.655714] ~~~ Epoch 21/150 ~~~\n",
            "\n",
            "[06:20:40.746289] Epoch: [21]  [0/3]  eta: 0:00:03  loss: 0.1542 (0.1542)  IoU: 0.2122 (0.2122)  lr: 0.000957  iter-time: 1.0853\n",
            "[06:20:42.444772] Epoch: [21]  [2/3]  eta: 0:00:00  loss: 0.1952 (0.1985)  IoU: 0.2073 (0.2001)  lr: 0.000954  iter-time: 0.9275\n",
            "[06:20:42.538005] Epoch: [21] Total time: 0:00:02 (0.9595 s / it)\n",
            "[06:20:42.539232] [Train] averaged stats: loss: 0.1952 (0.1985)  IoU: 0.2073 (0.2001)  lr: 0.000954\n",
            "[06:20:42.787428] Epoch: [21]  [0/1]  eta: 0:00:00  loss: 0.0595 (0.0595)  IoU: 0.1786 (0.1786)  iter-time: 0.2452\n",
            "[06:20:42.870112] Epoch: [21] Total time: 0:00:00 (0.3283 s / it)\n",
            "[06:20:42.870233] [Val] averaged stats: loss: 0.0595 (0.0595)  IoU: 0.1786 (0.1786)\n",
            "[06:20:42.872294] Val loss improved from 0.060076773166656494 to 0.059467725455760956, saving model to /content/output/my_3d_detection/checkpoints/my_3d_detection_1-checkpoint-best.pth\n",
            "[06:20:42.918279] [Val] best loss: 0.0595 best  IoU: 0.1786 \n",
            "[06:20:42.920753] [Time] 3.3s 3.8m/10.8m\n",
            "\n",
            "[06:20:42.920831] ~~~ Epoch 22/150 ~~~\n",
            "\n",
            "[06:20:44.021909] Epoch: [22]  [0/3]  eta: 0:00:03  loss: 0.1515 (0.1515)  IoU: 0.2048 (0.2048)  lr: 0.000952  iter-time: 1.0984\n",
            "[06:20:45.722645] Epoch: [22]  [2/3]  eta: 0:00:00  loss: 0.1891 (0.1963)  IoU: 0.2048 (0.2176)  lr: 0.000949  iter-time: 0.9326\n",
            "[06:20:45.805574] Epoch: [22] Total time: 0:00:02 (0.9613 s / it)\n",
            "[06:20:45.806799] [Train] averaged stats: loss: 0.1891 (0.1963)  IoU: 0.2048 (0.2176)  lr: 0.000949\n",
            "[06:20:46.045733] Epoch: [22]  [0/1]  eta: 0:00:00  loss: 0.0566 (0.0566)  IoU: 0.1613 (0.1613)  iter-time: 0.2358\n",
            "[06:20:46.130106] Epoch: [22] Total time: 0:00:00 (0.3207 s / it)\n",
            "[06:20:46.130380] [Val] averaged stats: loss: 0.0566 (0.0566)  IoU: 0.1613 (0.1613)\n",
            "[06:20:46.133042] Val loss improved from 0.059467725455760956 to 0.056618522852659225, saving model to /content/output/my_3d_detection/checkpoints/my_3d_detection_1-checkpoint-best.pth\n",
            "[06:20:46.178640] [Val] best loss: 0.0566 best  IoU: 0.1613 \n",
            "[06:20:46.180484] [Time] 3.3s 3.8m/10.8m\n",
            "\n",
            "[06:20:46.183084] ~~~ Epoch 23/150 ~~~\n",
            "\n",
            "[06:20:47.297302] Epoch: [23]  [0/3]  eta: 0:00:03  loss: 0.1494 (0.1494)  IoU: 0.1805 (0.1805)  lr: 0.000948  iter-time: 1.1115\n",
            "[06:20:48.999185] Epoch: [23]  [2/3]  eta: 0:00:00  loss: 0.1875 (0.1906)  IoU: 0.2189 (0.2094)  lr: 0.000945  iter-time: 0.9373\n",
            "[06:20:49.083559] Epoch: [23] Total time: 0:00:02 (0.9664 s / it)\n",
            "[06:20:49.084572] [Train] averaged stats: loss: 0.1875 (0.1906)  IoU: 0.2189 (0.2094)  lr: 0.000945\n",
            "[06:20:49.391431] Epoch: [23]  [0/1]  eta: 0:00:00  loss: 0.0566 (0.0566)  IoU: 0.1701 (0.1701)  iter-time: 0.3031\n",
            "[06:20:49.527881] Epoch: [23] Total time: 0:00:00 (0.4401 s / it)\n",
            "[06:20:49.528074] [Val] averaged stats: loss: 0.0566 (0.0566)  IoU: 0.1701 (0.1701)\n",
            "[06:20:49.530247] Val loss improved from 0.056618522852659225 to 0.056595973670482635, saving model to /content/output/my_3d_detection/checkpoints/my_3d_detection_1-checkpoint-best.pth\n",
            "[06:20:49.606047] [Val] best loss: 0.0566 best  IoU: 0.1701 \n",
            "[06:20:49.610534] [Time] 3.4s 3.9m/11.2m\n",
            "\n",
            "[06:20:49.611449] ~~~ Epoch 24/150 ~~~\n",
            "\n",
            "[06:20:50.902233] Epoch: [24]  [0/3]  eta: 0:00:03  loss: 0.1419 (0.1419)  IoU: 0.2226 (0.2226)  lr: 0.000943  iter-time: 1.2875\n",
            "[06:20:52.602057] Epoch: [24]  [2/3]  eta: 0:00:00  loss: 0.1783 (0.1832)  IoU: 0.2226 (0.2192)  lr: 0.000940  iter-time: 0.9947\n",
            "[06:20:52.767366] Epoch: [24] Total time: 0:00:03 (1.0514 s / it)\n",
            "[06:20:52.767551] [Train] averaged stats: loss: 0.1783 (0.1832)  IoU: 0.2226 (0.2192)  lr: 0.000940\n",
            "[06:20:53.209208] Epoch: [24]  [0/1]  eta: 0:00:00  loss: 0.0559 (0.0559)  IoU: 0.1614 (0.1614)  iter-time: 0.4391\n",
            "[06:20:53.364366] Epoch: [24] Total time: 0:00:00 (0.5951 s / it)\n",
            "[06:20:53.364486] [Val] averaged stats: loss: 0.0559 (0.0559)  IoU: 0.1614 (0.1614)\n",
            "[06:20:53.366694] Val loss improved from 0.056595973670482635 to 0.05588574334979057, saving model to /content/output/my_3d_detection/checkpoints/my_3d_detection_1-checkpoint-best.pth\n",
            "[06:20:53.472529] [Val] best loss: 0.0559 best  IoU: 0.1614 \n",
            "[06:20:53.476853] [Time] 3.9s 3.9m/12.1m\n",
            "\n",
            "[06:20:53.477817] ~~~ Epoch 25/150 ~~~\n",
            "\n",
            "[06:20:54.744323] Epoch: [25]  [0/3]  eta: 0:00:03  loss: 0.1400 (0.1400)  IoU: 0.2104 (0.2104)  lr: 0.000938  iter-time: 1.2630\n",
            "[06:20:56.439443] Epoch: [25]  [2/3]  eta: 0:00:00  loss: 0.1753 (0.1824)  IoU: 0.2189 (0.2248)  lr: 0.000935  iter-time: 0.9850\n",
            "[06:20:56.593840] Epoch: [25] Total time: 0:00:03 (1.0380 s / it)\n",
            "[06:20:56.594123] [Train] averaged stats: loss: 0.1753 (0.1824)  IoU: 0.2189 (0.2248)  lr: 0.000935\n",
            "[06:20:56.920523] Epoch: [25]  [0/1]  eta: 0:00:00  loss: 0.0552 (0.0552)  IoU: 0.1553 (0.1553)  iter-time: 0.3214\n",
            "[06:20:57.005750] Epoch: [25] Total time: 0:00:00 (0.4071 s / it)\n",
            "[06:20:57.006716] [Val] averaged stats: loss: 0.0552 (0.0552)  IoU: 0.1553 (0.1553)\n",
            "[06:20:57.009165] Val loss improved from 0.05588574334979057 to 0.05516257882118225, saving model to /content/output/my_3d_detection/checkpoints/my_3d_detection_1-checkpoint-best.pth\n",
            "[06:20:57.059854] [Val] best loss: 0.0552 best  IoU: 0.1553 \n",
            "[06:20:57.062164] Creating training plots . . .\n",
            "[06:20:57.383304] [Time] 3.9s 4.0m/12.2m\n",
            "\n",
            "[06:20:57.383438] ~~~ Epoch 26/150 ~~~\n",
            "\n",
            "[06:20:58.500611] Epoch: [26]  [0/3]  eta: 0:00:03  loss: 0.1362 (0.1362)  IoU: 0.2062 (0.2062)  lr: 0.000933  iter-time: 1.1130\n",
            "[06:21:00.187903] Epoch: [26]  [2/3]  eta: 0:00:00  loss: 0.1725 (0.1770)  IoU: 0.2248 (0.2225)  lr: 0.000929  iter-time: 0.9330\n",
            "[06:21:00.276787] Epoch: [26] Total time: 0:00:02 (0.9636 s / it)\n",
            "[06:21:00.276999] [Train] averaged stats: loss: 0.1725 (0.1770)  IoU: 0.2248 (0.2225)  lr: 0.000929\n",
            "[06:21:00.531960] Epoch: [26]  [0/1]  eta: 0:00:00  loss: 0.0542 (0.0542)  IoU: 0.1644 (0.1644)  iter-time: 0.2522\n",
            "[06:21:00.614922] Epoch: [26] Total time: 0:00:00 (0.3362 s / it)\n",
            "[06:21:00.615084] [Val] averaged stats: loss: 0.0542 (0.0542)  IoU: 0.1644 (0.1644)\n",
            "[06:21:00.617488] Val loss improved from 0.05516257882118225 to 0.05416044592857361, saving model to /content/output/my_3d_detection/checkpoints/my_3d_detection_1-checkpoint-best.pth\n",
            "[06:21:00.667485] [Val] best loss: 0.0542 best  IoU: 0.1644 \n",
            "[06:21:00.669883] [Time] 3.3s 4.1m/10.9m\n",
            "\n",
            "[06:21:00.669994] ~~~ Epoch 27/150 ~~~\n",
            "\n",
            "[06:21:01.737658] Epoch: [27]  [0/3]  eta: 0:00:03  loss: 0.1328 (0.1328)  IoU: 0.2309 (0.2309)  lr: 0.000928  iter-time: 1.0653\n",
            "[06:21:03.423165] Epoch: [27]  [2/3]  eta: 0:00:00  loss: 0.1681 (0.1730)  IoU: 0.2309 (0.2324)  lr: 0.000924  iter-time: 0.9165\n",
            "[06:21:03.508211] Epoch: [27] Total time: 0:00:02 (0.9458 s / it)\n",
            "[06:21:03.509227] [Train] averaged stats: loss: 0.1681 (0.1730)  IoU: 0.2309 (0.2324)  lr: 0.000924\n",
            "[06:21:03.793282] Epoch: [27]  [0/1]  eta: 0:00:00  loss: 0.0530 (0.0530)  IoU: 0.1661 (0.1661)  iter-time: 0.2808\n",
            "[06:21:03.919164] Epoch: [27] Total time: 0:00:00 (0.4074 s / it)\n",
            "[06:21:03.919318] [Val] averaged stats: loss: 0.0530 (0.0530)  IoU: 0.1661 (0.1661)\n",
            "[06:21:03.921432] Val loss improved from 0.05416044592857361 to 0.052974216639995575, saving model to /content/output/my_3d_detection/checkpoints/my_3d_detection_1-checkpoint-best.pth\n",
            "[06:21:03.988124] [Val] best loss: 0.0530 best  IoU: 0.1661 \n",
            "[06:21:03.990631] [Time] 3.3s 4.1m/11.0m\n",
            "\n",
            "[06:21:03.990717] ~~~ Epoch 28/150 ~~~\n",
            "\n",
            "[06:21:05.236180] Epoch: [28]  [0/3]  eta: 0:00:03  loss: 0.1298 (0.1298)  IoU: 0.2212 (0.2212)  lr: 0.000922  iter-time: 1.2425\n",
            "[06:21:06.923975] Epoch: [28]  [2/3]  eta: 0:00:00  loss: 0.1653 (0.1710)  IoU: 0.2321 (0.2331)  lr: 0.000918  iter-time: 0.9757\n",
            "[06:21:07.064475] Epoch: [28] Total time: 0:00:03 (1.0242 s / it)\n",
            "[06:21:07.064675] [Train] averaged stats: loss: 0.1653 (0.1710)  IoU: 0.2321 (0.2331)  lr: 0.000918\n",
            "[06:21:07.395013] Epoch: [28]  [0/1]  eta: 0:00:00  loss: 0.0529 (0.0529)  IoU: 0.1656 (0.1656)  iter-time: 0.3280\n",
            "[06:21:07.483078] Epoch: [28] Total time: 0:00:00 (0.4166 s / it)\n",
            "[06:21:07.483210] [Val] averaged stats: loss: 0.0529 (0.0529)  IoU: 0.1656 (0.1656)\n",
            "[06:21:07.485833] Val loss improved from 0.052974216639995575 to 0.05294425040483475, saving model to /content/output/my_3d_detection/checkpoints/my_3d_detection_1-checkpoint-best.pth\n",
            "[06:21:07.529876] [Val] best loss: 0.0529 best  IoU: 0.1656 \n",
            "[06:21:07.532326] [Time] 3.5s 4.2m/11.4m\n",
            "\n",
            "[06:21:07.532412] ~~~ Epoch 29/150 ~~~\n",
            "\n",
            "[06:21:08.653638] Epoch: [29]  [0/3]  eta: 0:00:03  loss: 0.1286 (0.1286)  IoU: 0.2237 (0.2237)  lr: 0.000916  iter-time: 1.1177\n",
            "[06:21:10.353251] Epoch: [29]  [2/3]  eta: 0:00:00  loss: 0.1627 (0.1670)  IoU: 0.2380 (0.2363)  lr: 0.000913  iter-time: 0.9386\n",
            "[06:21:10.441588] Epoch: [29] Total time: 0:00:02 (0.9694 s / it)\n",
            "[06:21:10.442630] [Train] averaged stats: loss: 0.1627 (0.1670)  IoU: 0.2380 (0.2363)  lr: 0.000913\n",
            "[06:21:10.689874] Epoch: [29]  [0/1]  eta: 0:00:00  loss: 0.0524 (0.0524)  IoU: 0.1689 (0.1689)  iter-time: 0.2441\n",
            "[06:21:10.775228] Epoch: [29] Total time: 0:00:00 (0.3301 s / it)\n",
            "[06:21:10.776079] [Val] averaged stats: loss: 0.0524 (0.0524)  IoU: 0.1689 (0.1689)\n",
            "[06:21:10.778007] Val loss improved from 0.05294425040483475 to 0.0523991696536541, saving model to /content/output/my_3d_detection/checkpoints/my_3d_detection_1-checkpoint-best.pth\n",
            "[06:21:10.822108] [Val] best loss: 0.0524 best  IoU: 0.1689 \n",
            "[06:21:10.824401] [Time] 3.3s 4.2m/10.9m\n",
            "\n",
            "[06:21:10.824481] ~~~ Epoch 30/150 ~~~\n",
            "\n",
            "[06:21:11.946474] Epoch: [30]  [0/3]  eta: 0:00:03  loss: 0.1253 (0.1253)  IoU: 0.2351 (0.2351)  lr: 0.000911  iter-time: 1.1183\n",
            "[06:21:13.650127] Epoch: [30]  [2/3]  eta: 0:00:00  loss: 0.1645 (0.1687)  IoU: 0.2351 (0.2347)  lr: 0.000907  iter-time: 0.9401\n",
            "[06:21:13.734622] Epoch: [30] Total time: 0:00:02 (0.9693 s / it)\n",
            "[06:21:13.735669] [Train] averaged stats: loss: 0.1645 (0.1687)  IoU: 0.2351 (0.2347)  lr: 0.000907\n",
            "[06:21:13.989669] Epoch: [30]  [0/1]  eta: 0:00:00  loss: 0.0537 (0.0537)  IoU: 0.1749 (0.1749)  iter-time: 0.2510\n",
            "[06:21:14.073725] Epoch: [30] Total time: 0:00:00 (0.3355 s / it)\n",
            "[06:21:14.073847] [Val] averaged stats: loss: 0.0537 (0.0537)  IoU: 0.1749 (0.1749)\n",
            "[06:21:14.074496] [Val] best loss: 0.0524 best  IoU: 0.1689 \n",
            "[06:21:14.079058] Creating training plots . . .\n",
            "EarlyStopping counter: 1 out of 20\n",
            "[06:21:14.395016] [Time] 3.6s 4.3m/11.5m\n",
            "\n",
            "[06:21:14.395108] ~~~ Epoch 31/150 ~~~\n",
            "\n",
            "[06:21:15.512883] Epoch: [31]  [0/3]  eta: 0:00:03  loss: 0.1292 (0.1292)  IoU: 0.2237 (0.2237)  lr: 0.000905  iter-time: 1.1150\n",
            "[06:21:17.218746] Epoch: [31]  [2/3]  eta: 0:00:00  loss: 0.1960 (0.1762)  IoU: 0.2408 (0.2398)  lr: 0.000900  iter-time: 0.9398\n",
            "[06:21:17.299767] Epoch: [31] Total time: 0:00:02 (0.9678 s / it)\n",
            "[06:21:17.300789] [Train] averaged stats: loss: 0.1960 (0.1762)  IoU: 0.2408 (0.2398)  lr: 0.000900\n",
            "[06:21:17.600959] Epoch: [31]  [0/1]  eta: 0:00:00  loss: 0.0580 (0.0580)  IoU: 0.1496 (0.1496)  iter-time: 0.2971\n",
            "[06:21:17.723031] Epoch: [31] Total time: 0:00:00 (0.4198 s / it)\n",
            "[06:21:17.723155] [Val] averaged stats: loss: 0.0580 (0.0580)  IoU: 0.1496 (0.1496)\n",
            "[06:21:17.723694] [Val] best loss: 0.0524 best  IoU: 0.1689 \n",
            "EarlyStopping counter: 2 out of 20\n",
            "[06:21:17.725406] [Time] 3.3s 4.3m/11.0m\n",
            "\n",
            "[06:21:17.725453] ~~~ Epoch 32/150 ~~~\n",
            "\n",
            "[06:21:18.994880] Epoch: [32]  [0/3]  eta: 0:00:03  loss: 0.1353 (0.1353)  IoU: 0.2096 (0.2096)  lr: 0.000898  iter-time: 1.2620\n",
            "[06:21:20.690778] Epoch: [32]  [2/3]  eta: 0:00:00  loss: 0.1754 (0.1975)  IoU: 0.1918 (0.1963)  lr: 0.000894  iter-time: 0.9848\n",
            "[06:21:20.829092] Epoch: [32] Total time: 0:00:03 (1.0326 s / it)\n",
            "[06:21:20.831645] [Train] averaged stats: loss: 0.1754 (0.1975)  IoU: 0.1918 (0.1963)  lr: 0.000894\n",
            "[06:21:21.157140] Epoch: [32]  [0/1]  eta: 0:00:00  loss: 0.0614 (0.0614)  IoU: 0.1552 (0.1552)  iter-time: 0.3220\n",
            "[06:21:21.242724] Epoch: [32] Total time: 0:00:00 (0.4081 s / it)\n",
            "[06:21:21.242847] [Val] averaged stats: loss: 0.0614 (0.0614)  IoU: 0.1552 (0.1552)\n",
            "[06:21:21.245327] [Val] best loss: 0.0524 best  IoU: 0.1689 \n",
            "EarlyStopping counter: 3 out of 20\n",
            "[06:21:21.247632] [Time] 3.5s 4.4m/11.4m\n",
            "\n",
            "[06:21:21.247687] ~~~ Epoch 33/150 ~~~\n",
            "\n",
            "[06:21:22.359553] Epoch: [33]  [0/3]  eta: 0:00:03  loss: 0.1662 (0.1662)  IoU: 0.2300 (0.2300)  lr: 0.000892  iter-time: 1.1080\n",
            "[06:21:24.065289] Epoch: [33]  [2/3]  eta: 0:00:00  loss: 0.1703 (0.1913)  IoU: 0.2384 (0.2383)  lr: 0.000887  iter-time: 0.9374\n",
            "[06:21:24.162902] Epoch: [33] Total time: 0:00:02 (0.9709 s / it)\n",
            "[06:21:24.164016] [Train] averaged stats: loss: 0.1703 (0.1913)  IoU: 0.2384 (0.2383)  lr: 0.000887\n",
            "[06:21:24.410649] Epoch: [33]  [0/1]  eta: 0:00:00  loss: 0.0705 (0.0705)  IoU: 0.1513 (0.1513)  iter-time: 0.2436\n",
            "[06:21:24.494559] Epoch: [33] Total time: 0:00:00 (0.3280 s / it)\n",
            "[06:21:24.494665] [Val] averaged stats: loss: 0.0705 (0.0705)  IoU: 0.1513 (0.1513)\n",
            "[06:21:24.497045] [Val] best loss: 0.0524 best  IoU: 0.1689 \n",
            "EarlyStopping counter: 4 out of 20\n",
            "[06:21:24.499282] [Time] 3.3s 4.5m/10.8m\n",
            "\n",
            "[06:21:24.499335] ~~~ Epoch 34/150 ~~~\n",
            "\n",
            "[06:21:25.577529] Epoch: [34]  [0/3]  eta: 0:00:03  loss: 0.1543 (0.1543)  IoU: 0.1856 (0.1856)  lr: 0.000885  iter-time: 1.0756\n",
            "[06:21:27.281224] Epoch: [34]  [2/3]  eta: 0:00:00  loss: 0.1749 (0.1886)  IoU: 0.2013 (0.2111)  lr: 0.000881  iter-time: 0.9259\n",
            "[06:21:27.363773] Epoch: [34] Total time: 0:00:02 (0.9545 s / it)\n",
            "[06:21:27.365169] [Train] averaged stats: loss: 0.1749 (0.1886)  IoU: 0.2013 (0.2111)  lr: 0.000881\n",
            "[06:21:27.624907] Epoch: [34]  [0/1]  eta: 0:00:00  loss: 0.0554 (0.0554)  IoU: 0.2124 (0.2124)  iter-time: 0.2567\n",
            "[06:21:27.710966] Epoch: [34] Total time: 0:00:00 (0.3432 s / it)\n",
            "[06:21:27.711099] [Val] averaged stats: loss: 0.0554 (0.0554)  IoU: 0.2124 (0.2124)\n",
            "[06:21:27.713620] [Val] best loss: 0.0524 best  IoU: 0.1689 \n",
            "EarlyStopping counter: 5 out of 20\n",
            "[06:21:27.715761] [Time] 3.2s 4.5m/10.8m\n",
            "\n",
            "[06:21:27.716744] ~~~ Epoch 35/150 ~~~\n",
            "\n",
            "[06:21:28.833881] Epoch: [35]  [0/3]  eta: 0:00:03  loss: 0.1301 (0.1301)  IoU: 0.2544 (0.2544)  lr: 0.000878  iter-time: 1.1147\n",
            "[06:21:30.535965] Epoch: [35]  [2/3]  eta: 0:00:00  loss: 0.1659 (0.1770)  IoU: 0.2544 (0.2476)  lr: 0.000874  iter-time: 0.9384\n",
            "[06:21:30.619539] Epoch: [35] Total time: 0:00:02 (0.9673 s / it)\n",
            "[06:21:30.620604] [Train] averaged stats: loss: 0.1659 (0.1770)  IoU: 0.2544 (0.2476)  lr: 0.000874\n",
            "[06:21:30.873695] Epoch: [35]  [0/1]  eta: 0:00:00  loss: 0.0550 (0.0550)  IoU: 0.1696 (0.1696)  iter-time: 0.2499\n",
            "[06:21:30.957379] Epoch: [35] Total time: 0:00:00 (0.3341 s / it)\n",
            "[06:21:30.958379] [Val] averaged stats: loss: 0.0550 (0.0550)  IoU: 0.1696 (0.1696)\n",
            "[06:21:30.960164] [Val] best loss: 0.0524 best  IoU: 0.1689 \n",
            "[06:21:30.962299] Creating training plots . . .\n",
            "EarlyStopping counter: 6 out of 20\n",
            "[06:21:31.394263] [Time] 3.7s 4.6m/11.7m\n",
            "\n",
            "[06:21:31.394338] ~~~ Epoch 36/150 ~~~\n",
            "\n",
            "[06:21:32.616323] Epoch: [36]  [0/3]  eta: 0:00:03  loss: 0.1341 (0.1341)  IoU: 0.1928 (0.1928)  lr: 0.000872  iter-time: 1.2142\n",
            "[06:21:34.320870] Epoch: [36]  [2/3]  eta: 0:00:00  loss: 0.1659 (0.1704)  IoU: 0.2394 (0.2302)  lr: 0.000867  iter-time: 0.9724\n",
            "[06:21:34.473056] Epoch: [36] Total time: 0:00:03 (1.0242 s / it)\n",
            "[06:21:34.473724] [Train] averaged stats: loss: 0.1659 (0.1704)  IoU: 0.2394 (0.2302)  lr: 0.000867\n",
            "[06:21:34.808372] Epoch: [36]  [0/1]  eta: 0:00:00  loss: 0.0547 (0.0547)  IoU: 0.1834 (0.1834)  iter-time: 0.3280\n",
            "[06:21:34.896994] Epoch: [36] Total time: 0:00:00 (0.4171 s / it)\n",
            "[06:21:34.897814] [Val] averaged stats: loss: 0.0547 (0.0547)  IoU: 0.1834 (0.1834)\n",
            "[06:21:34.899682] [Val] best loss: 0.0524 best  IoU: 0.1689 \n",
            "EarlyStopping counter: 7 out of 20\n",
            "[06:21:34.901864] [Time] 3.5s 4.6m/11.3m\n",
            "\n",
            "[06:21:34.902783] ~~~ Epoch 37/150 ~~~\n",
            "\n",
            "[06:21:35.966181] Epoch: [37]  [0/3]  eta: 0:00:03  loss: 0.1231 (0.1231)  IoU: 0.2345 (0.2345)  lr: 0.000864  iter-time: 1.0604\n",
            "[06:21:37.668194] Epoch: [37]  [2/3]  eta: 0:00:00  loss: 0.1552 (0.1604)  IoU: 0.2367 (0.2363)  lr: 0.000860  iter-time: 0.9204\n",
            "[06:21:37.749474] Epoch: [37] Total time: 0:00:02 (0.9484 s / it)\n",
            "[06:21:37.750623] [Train] averaged stats: loss: 0.1552 (0.1604)  IoU: 0.2367 (0.2363)  lr: 0.000860\n",
            "[06:21:37.996499] Epoch: [37]  [0/1]  eta: 0:00:00  loss: 0.0556 (0.0556)  IoU: 0.1804 (0.1804)  iter-time: 0.2428\n",
            "[06:21:38.079739] Epoch: [37] Total time: 0:00:00 (0.3266 s / it)\n",
            "[06:21:38.079870] [Val] averaged stats: loss: 0.0556 (0.0556)  IoU: 0.1804 (0.1804)\n",
            "[06:21:38.082411] [Val] best loss: 0.0524 best  IoU: 0.1689 \n",
            "EarlyStopping counter: 8 out of 20\n",
            "[06:21:38.084619] [Time] 3.2s 4.7m/10.7m\n",
            "\n",
            "[06:21:38.084672] ~~~ Epoch 38/150 ~~~\n",
            "\n",
            "[06:21:39.201427] Epoch: [38]  [0/3]  eta: 0:00:03  loss: 0.1199 (0.1199)  IoU: 0.2561 (0.2561)  lr: 0.000857  iter-time: 1.1142\n",
            "[06:21:40.906119] Epoch: [38]  [2/3]  eta: 0:00:00  loss: 0.1496 (0.1556)  IoU: 0.2561 (0.2635)  lr: 0.000852  iter-time: 0.9387\n",
            "[06:21:40.987214] Epoch: [38] Total time: 0:00:02 (0.9672 s / it)\n",
            "[06:21:40.988194] [Train] averaged stats: loss: 0.1496 (0.1556)  IoU: 0.2561 (0.2635)  lr: 0.000852\n",
            "[06:21:41.235571] Epoch: [38]  [0/1]  eta: 0:00:00  loss: 0.0565 (0.0565)  IoU: 0.1552 (0.1552)  iter-time: 0.2444\n",
            "[06:21:41.321290] Epoch: [38] Total time: 0:00:00 (0.3307 s / it)\n",
            "[06:21:41.322144] [Val] averaged stats: loss: 0.0565 (0.0565)  IoU: 0.1552 (0.1552)\n",
            "[06:21:41.324133] [Val] best loss: 0.0524 best  IoU: 0.1689 \n",
            "EarlyStopping counter: 9 out of 20\n",
            "[06:21:41.326384] [Time] 3.2s 4.7m/10.8m\n",
            "\n",
            "[06:21:41.327347] ~~~ Epoch 39/150 ~~~\n",
            "\n",
            "[06:21:42.439136] Epoch: [39]  [0/3]  eta: 0:00:03  loss: 0.1185 (0.1185)  IoU: 0.2275 (0.2275)  lr: 0.000850  iter-time: 1.1091\n",
            "[06:21:44.143700] Epoch: [39]  [2/3]  eta: 0:00:00  loss: 0.1453 (0.1521)  IoU: 0.2524 (0.2466)  lr: 0.000845  iter-time: 0.9374\n",
            "[06:21:44.234537] Epoch: [39] Total time: 0:00:02 (0.9687 s / it)\n",
            "[06:21:44.235609] [Train] averaged stats: loss: 0.1453 (0.1521)  IoU: 0.2524 (0.2466)  lr: 0.000845\n",
            "[06:21:44.491137] Epoch: [39]  [0/1]  eta: 0:00:00  loss: 0.0549 (0.0549)  IoU: 0.1819 (0.1819)  iter-time: 0.2524\n",
            "[06:21:44.576872] Epoch: [39] Total time: 0:00:00 (0.3386 s / it)\n",
            "[06:21:44.577031] [Val] averaged stats: loss: 0.0549 (0.0549)  IoU: 0.1819 (0.1819)\n",
            "[06:21:44.579489] [Val] best loss: 0.0524 best  IoU: 0.1689 \n",
            "EarlyStopping counter: 10 out of 20\n",
            "[06:21:44.582217] [Time] 3.3s 4.8m/10.9m\n",
            "\n",
            "[06:21:44.582615] ~~~ Epoch 40/150 ~~~\n",
            "\n",
            "[06:21:45.758955] Epoch: [40]  [0/3]  eta: 0:00:03  loss: 0.1135 (0.1135)  IoU: 0.2637 (0.2637)  lr: 0.000842  iter-time: 1.1739\n",
            "[06:21:47.458974] Epoch: [40]  [2/3]  eta: 0:00:00  loss: 0.1365 (0.1451)  IoU: 0.2651 (0.2721)  lr: 0.000837  iter-time: 0.9569\n",
            "[06:21:47.595500] Epoch: [40] Total time: 0:00:03 (1.0040 s / it)\n",
            "[06:21:47.595698] [Train] averaged stats: loss: 0.1365 (0.1451)  IoU: 0.2651 (0.2721)  lr: 0.000837\n",
            "[06:21:47.934278] Epoch: [40]  [0/1]  eta: 0:00:00  loss: 0.0559 (0.0559)  IoU: 0.1681 (0.1681)  iter-time: 0.3361\n",
            "[06:21:48.032406] Epoch: [40] Total time: 0:00:00 (0.4350 s / it)\n",
            "[06:21:48.032534] [Val] averaged stats: loss: 0.0559 (0.0559)  IoU: 0.1681 (0.1681)\n",
            "[06:21:48.035025] [Val] best loss: 0.0524 best  IoU: 0.1689 \n",
            "[06:21:48.037083] Creating training plots . . .\n",
            "EarlyStopping counter: 11 out of 20\n",
            "[06:21:48.366769] [Time] 3.8s 4.9m/11.9m\n",
            "\n",
            "[06:21:48.366833] ~~~ Epoch 41/150 ~~~\n",
            "\n",
            "[06:21:49.435834] Epoch: [41]  [0/3]  eta: 0:00:03  loss: 0.1106 (0.1106)  IoU: 0.2428 (0.2428)  lr: 0.000835  iter-time: 1.0651\n",
            "[06:21:51.139686] Epoch: [41]  [2/3]  eta: 0:00:00  loss: 0.1354 (0.1414)  IoU: 0.2668 (0.2646)  lr: 0.000829  iter-time: 0.9225\n",
            "[06:21:51.221849] Epoch: [41] Total time: 0:00:02 (0.9509 s / it)\n",
            "[06:21:51.222849] [Train] averaged stats: loss: 0.1354 (0.1414)  IoU: 0.2668 (0.2646)  lr: 0.000829\n",
            "[06:21:51.475835] Epoch: [41]  [0/1]  eta: 0:00:00  loss: 0.0538 (0.0538)  IoU: 0.1857 (0.1857)  iter-time: 0.2500\n",
            "[06:21:51.561205] Epoch: [41] Total time: 0:00:00 (0.3358 s / it)\n",
            "[06:21:51.562066] [Val] averaged stats: loss: 0.0538 (0.0538)  IoU: 0.1857 (0.1857)\n",
            "[06:21:51.564036] [Val] best loss: 0.0524 best  IoU: 0.1689 \n",
            "EarlyStopping counter: 12 out of 20\n",
            "[06:21:51.566252] [Time] 3.2s 4.9m/10.8m\n",
            "\n",
            "[06:21:51.566306] ~~~ Epoch 42/150 ~~~\n",
            "\n",
            "[06:21:52.674485] Epoch: [42]  [0/3]  eta: 0:00:03  loss: 0.1082 (0.1082)  IoU: 0.2785 (0.2785)  lr: 0.000827  iter-time: 1.1059\n",
            "[06:21:54.368289] Epoch: [42]  [2/3]  eta: 0:00:00  loss: 0.1264 (0.1358)  IoU: 0.2785 (0.2783)  lr: 0.000821  iter-time: 0.9322\n",
            "[06:21:54.458031] Epoch: [42] Total time: 0:00:02 (0.9636 s / it)\n",
            "[06:21:54.459102] [Train] averaged stats: loss: 0.1264 (0.1358)  IoU: 0.2785 (0.2783)  lr: 0.000821\n",
            "[06:21:54.715016] Epoch: [42]  [0/1]  eta: 0:00:00  loss: 0.0531 (0.0531)  IoU: 0.1766 (0.1766)  iter-time: 0.2529\n",
            "[06:21:54.803032] Epoch: [42] Total time: 0:00:00 (0.3414 s / it)\n",
            "[06:21:54.803371] [Val] averaged stats: loss: 0.0531 (0.0531)  IoU: 0.1766 (0.1766)\n",
            "[06:21:54.805779] [Val] best loss: 0.0524 best  IoU: 0.1689 \n",
            "EarlyStopping counter: 13 out of 20\n",
            "[06:21:54.807969] [Time] 3.2s 5.0m/10.8m\n",
            "\n",
            "[06:21:54.808948] ~~~ Epoch 43/150 ~~~\n",
            "\n",
            "[06:21:55.901406] Epoch: [43]  [0/3]  eta: 0:00:03  loss: 0.1059 (0.1059)  IoU: 0.2538 (0.2538)  lr: 0.000819  iter-time: 1.0901\n",
            "[06:21:57.595143] Epoch: [43]  [2/3]  eta: 0:00:00  loss: 0.1221 (0.1316)  IoU: 0.3000 (0.2847)  lr: 0.000813  iter-time: 0.9275\n",
            "[06:21:57.683459] Epoch: [43] Total time: 0:00:02 (0.9579 s / it)\n",
            "[06:21:57.684565] [Train] averaged stats: loss: 0.1221 (0.1316)  IoU: 0.3000 (0.2847)  lr: 0.000813\n",
            "[06:21:57.930465] Epoch: [43]  [0/1]  eta: 0:00:00  loss: 0.0534 (0.0534)  IoU: 0.1818 (0.1818)  iter-time: 0.2428\n",
            "[06:21:58.043857] Epoch: [43] Total time: 0:00:00 (0.3567 s / it)\n",
            "[06:21:58.044561] [Val] averaged stats: loss: 0.0534 (0.0534)  IoU: 0.1818 (0.1818)\n",
            "[06:21:58.047789] [Val] best loss: 0.0524 best  IoU: 0.1689 \n",
            "EarlyStopping counter: 14 out of 20\n",
            "[06:21:58.050288] [Time] 3.2s 5.0m/10.8m\n",
            "\n",
            "[06:21:58.050360] ~~~ Epoch 44/150 ~~~\n",
            "\n",
            "[06:21:59.338456] Epoch: [44]  [0/3]  eta: 0:00:03  loss: 0.1000 (0.1000)  IoU: 0.2807 (0.2807)  lr: 0.000811  iter-time: 1.2813\n",
            "[06:22:01.035658] Epoch: [44]  [2/3]  eta: 0:00:00  loss: 0.1214 (0.1278)  IoU: 0.2874 (0.2864)  lr: 0.000805  iter-time: 0.9915\n",
            "[06:22:01.193868] Epoch: [44] Total time: 0:00:03 (1.0468 s / it)\n",
            "[06:22:01.194963] [Train] averaged stats: loss: 0.1214 (0.1278)  IoU: 0.2874 (0.2864)  lr: 0.000805\n",
            "[06:22:01.550652] Epoch: [44]  [0/1]  eta: 0:00:00  loss: 0.0529 (0.0529)  IoU: 0.1880 (0.1880)  iter-time: 0.3533\n",
            "[06:22:01.672208] Epoch: [44] Total time: 0:00:00 (0.4755 s / it)\n",
            "[06:22:01.673071] [Val] averaged stats: loss: 0.0529 (0.0529)  IoU: 0.1880 (0.1880)\n",
            "[06:22:01.674917] [Val] best loss: 0.0524 best  IoU: 0.1689 \n",
            "EarlyStopping counter: 15 out of 20\n",
            "[06:22:01.677061] [Time] 3.6s 5.1m/11.5m\n",
            "\n",
            "[06:22:01.677122] ~~~ Epoch 45/150 ~~~\n",
            "\n",
            "[06:22:02.774217] Epoch: [45]  [0/3]  eta: 0:00:03  loss: 0.0931 (0.0931)  IoU: 0.2992 (0.2992)  lr: 0.000802  iter-time: 1.0947\n",
            "[06:22:04.470574] Epoch: [45]  [2/3]  eta: 0:00:00  loss: 0.1027 (0.1167)  IoU: 0.3133 (0.3118)  lr: 0.000797  iter-time: 0.9298\n",
            "[06:22:04.564891] Epoch: [45] Total time: 0:00:02 (0.9623 s / it)\n",
            "[06:22:04.565990] [Train] averaged stats: loss: 0.1027 (0.1167)  IoU: 0.3133 (0.3118)  lr: 0.000797\n",
            "[06:22:04.824352] Epoch: [45]  [0/1]  eta: 0:00:00  loss: 0.0535 (0.0535)  IoU: 0.1903 (0.1903)  iter-time: 0.2553\n",
            "[06:22:04.908625] Epoch: [45] Total time: 0:00:00 (0.3401 s / it)\n",
            "[06:22:04.909641] [Val] averaged stats: loss: 0.0535 (0.0535)  IoU: 0.1903 (0.1903)\n",
            "[06:22:04.911531] [Val] best loss: 0.0524 best  IoU: 0.1689 \n",
            "[06:22:04.913702] Creating training plots . . .\n",
            "EarlyStopping counter: 16 out of 20\n",
            "[06:22:05.226824] [Time] 3.5s 5.1m/11.4m\n",
            "\n",
            "[06:22:05.226887] ~~~ Epoch 46/150 ~~~\n",
            "\n",
            "[06:22:06.333788] Epoch: [46]  [0/3]  eta: 0:00:03  loss: 0.0905 (0.0905)  IoU: 0.2976 (0.2976)  lr: 0.000794  iter-time: 1.1041\n",
            "[06:22:08.017453] Epoch: [46]  [2/3]  eta: 0:00:00  loss: 0.1053 (0.1137)  IoU: 0.3207 (0.3177)  lr: 0.000788  iter-time: 0.9288\n",
            "[06:22:08.099340] Epoch: [46] Total time: 0:00:02 (0.9571 s / it)\n",
            "[06:22:08.100347] [Train] averaged stats: loss: 0.1053 (0.1137)  IoU: 0.3207 (0.3177)  lr: 0.000788\n",
            "[06:22:08.349128] Epoch: [46]  [0/1]  eta: 0:00:00  loss: 0.0559 (0.0559)  IoU: 0.1952 (0.1952)  iter-time: 0.2459\n",
            "[06:22:08.432064] Epoch: [46] Total time: 0:00:00 (0.3293 s / it)\n",
            "[06:22:08.433048] [Val] averaged stats: loss: 0.0559 (0.0559)  IoU: 0.1952 (0.1952)\n",
            "[06:22:08.434766] [Val] best loss: 0.0524 best  IoU: 0.1689 \n",
            "EarlyStopping counter: 17 out of 20\n",
            "[06:22:08.437160] [Time] 3.2s 5.2m/10.8m\n",
            "\n",
            "[06:22:08.437224] ~~~ Epoch 47/150 ~~~\n",
            "\n",
            "[06:22:09.569472] Epoch: [47]  [0/3]  eta: 0:00:03  loss: 0.0837 (0.0837)  IoU: 0.3152 (0.3152)  lr: 0.000785  iter-time: 1.1282\n",
            "[06:22:11.268268] Epoch: [47]  [2/3]  eta: 0:00:00  loss: 0.1038 (0.1075)  IoU: 0.3292 (0.3250)  lr: 0.000780  iter-time: 0.9419\n",
            "[06:22:11.353862] Epoch: [47] Total time: 0:00:02 (0.9714 s / it)\n",
            "[06:22:11.354955] [Train] averaged stats: loss: 0.1038 (0.1075)  IoU: 0.3292 (0.3250)  lr: 0.000780\n",
            "[06:22:11.608798] Epoch: [47]  [0/1]  eta: 0:00:00  loss: 0.0556 (0.0556)  IoU: 0.1964 (0.1964)  iter-time: 0.2508\n",
            "[06:22:11.732869] Epoch: [47] Total time: 0:00:00 (0.3755 s / it)\n",
            "[06:22:11.733035] [Val] averaged stats: loss: 0.0556 (0.0556)  IoU: 0.1964 (0.1964)\n",
            "[06:22:11.733647] [Val] best loss: 0.0524 best  IoU: 0.1689 \n",
            "EarlyStopping counter: 18 out of 20\n",
            "[06:22:11.738736] [Time] 3.3s 5.2m/11.0m\n",
            "\n",
            "[06:22:11.739147] ~~~ Epoch 48/150 ~~~\n",
            "\n",
            "[06:22:13.001733] Epoch: [48]  [0/3]  eta: 0:00:03  loss: 0.0786 (0.0786)  IoU: 0.3236 (0.3236)  lr: 0.000777  iter-time: 1.2580\n",
            "[06:22:14.704200] Epoch: [48]  [2/3]  eta: 0:00:00  loss: 0.0879 (0.0975)  IoU: 0.3576 (0.3471)  lr: 0.000771  iter-time: 0.9857\n",
            "[06:22:14.839243] Epoch: [48] Total time: 0:00:03 (1.0324 s / it)\n",
            "[06:22:14.839439] [Train] averaged stats: loss: 0.0879 (0.0975)  IoU: 0.3576 (0.3471)  lr: 0.000771\n",
            "[06:22:15.199790] Epoch: [48]  [0/1]  eta: 0:00:00  loss: 0.0561 (0.0561)  IoU: 0.2003 (0.2003)  iter-time: 0.3556\n",
            "[06:22:15.287278] Epoch: [48] Total time: 0:00:00 (0.4435 s / it)\n",
            "[06:22:15.288284] [Val] averaged stats: loss: 0.0561 (0.0561)  IoU: 0.2003 (0.2003)\n",
            "[06:22:15.289002] [Val] best loss: 0.0524 best  IoU: 0.1689 \n",
            "EarlyStopping counter: 19 out of 20\n",
            "[06:22:15.292974] [Time] 3.6s 5.3m/11.4m\n",
            "\n",
            "[06:22:15.293047] ~~~ Epoch 49/150 ~~~\n",
            "\n",
            "[06:22:16.400976] Epoch: [49]  [0/3]  eta: 0:00:03  loss: 0.0790 (0.0790)  IoU: 0.3451 (0.3451)  lr: 0.000768  iter-time: 1.1054\n",
            "[06:22:18.102873] Epoch: [49]  [2/3]  eta: 0:00:00  loss: 0.0948 (0.0982)  IoU: 0.3479 (0.3516)  lr: 0.000762  iter-time: 0.9348\n",
            "[06:22:18.186739] Epoch: [49] Total time: 0:00:02 (0.9642 s / it)\n",
            "[06:22:18.187821] [Train] averaged stats: loss: 0.0948 (0.0982)  IoU: 0.3479 (0.3516)  lr: 0.000762\n",
            "[06:22:18.454024] Epoch: [49]  [0/1]  eta: 0:00:00  loss: 0.0572 (0.0572)  IoU: 0.2020 (0.2020)  iter-time: 0.2633\n",
            "[06:22:18.535295] Epoch: [49] Total time: 0:00:00 (0.3451 s / it)\n",
            "[06:22:18.535719] [Val] averaged stats: loss: 0.0572 (0.0572)  IoU: 0.2020 (0.2020)\n",
            "[06:22:18.538402] [Val] best loss: 0.0524 best  IoU: 0.1689 \n",
            "EarlyStopping counter: 20 out of 20\n",
            "[06:22:18.540610] Early stopping\n",
            "[06:22:18.540681] Training time: 0:05:21\n",
            "[06:22:18.540724] Train loss: 0.09817488739887874\n",
            "[06:22:18.540773] Train IoU: 0.3515549798806508\n",
            "[06:22:18.540821] Validation loss: 0.0523991696536541\n",
            "[06:22:18.540887] Validation IoU: 0.16887322068214417\n",
            "[06:22:18.540949] Finished Training\n",
            "[06:22:18.911057] Releasing memory . . .\n",
            "[06:22:18.911381] ######################\n",
            "[06:22:18.913276] #   LOAD TEST DATA   #\n",
            "[06:22:18.913342] ######################\n",
            "[06:22:18.913402] 2) Loading test images . . .\n",
            "[06:22:18.913492] Loading data from /content/data/test/x\n"
          ]
        },
        {
          "output_type": "stream",
          "name": "stderr",
          "text": [
            "100%|\u2588\u2588\u2588\u2588\u2588\u2588\u2588\u2588\u2588\u2588| 27/27 [00:00<00:00, 898.71it/s]\n"
          ]
        },
        {
          "output_type": "stream",
          "name": "stdout",
          "text": [
            "[06:22:18.960568] *** Loaded data shape is (27, 64, 64, 64, 1)\n",
            "[06:22:18.960695] 3) Loading test masks . . .\n",
            "[06:22:18.963237] Loading data from /content/data/test/y_detection_masks\n"
          ]
        },
        {
          "output_type": "stream",
          "name": "stderr",
          "text": [
            "100%|\u2588\u2588\u2588\u2588\u2588\u2588\u2588\u2588\u2588\u2588| 27/27 [00:00<00:00, 198.89it/s]"
          ]
        },
        {
          "output_type": "stream",
          "name": "stdout",
          "text": [
            "[06:22:19.111754] *** Loaded data shape is (27, 64, 64, 64, 1)\n"
          ]
        },
        {
          "output_type": "stream",
          "name": "stderr",
          "text": [
            "\n",
            "/usr/local/lib/python3.10/dist-packages/biapy/utils/misc.py:230: FutureWarning: You are using `torch.load` with `weights_only=False` (the current default value), which uses the default pickle module implicitly. It is possible to construct malicious pickle data which will execute arbitrary code during unpickling (See https://github.com/pytorch/pytorch/blob/main/SECURITY.md#untrusted-models for more details). In a future release, the default value for `weights_only` will be flipped to `True`. This limits the functions that could be executed during unpickling. Arbitrary objects will no longer be allowed to be loaded via this mode unless they are explicitly allowlisted by the user via `torch.serialization.add_safe_globals`. We recommend you start setting `weights_only=True` for any use case where you don't have full control of the loaded file. Please open an issue on GitHub for any issues related to this experimental feature.\n",
            "  checkpoint = torch.load(resume, map_location=device)\n"
          ]
        },
        {
          "output_type": "stream",
          "name": "stdout",
          "text": [
            "[06:22:19.114072] ############################\n",
            "[06:22:19.114156] #  PREPARE TEST GENERATOR  #\n",
            "[06:22:19.114197] ############################\n",
            "[06:22:19.122574] Loading checkpoint from file /content/output/my_3d_detection/checkpoints/my_3d_detection_1-checkpoint-best.pth\n",
            "[06:22:19.202468] Model weights loaded!\n",
            "[06:22:19.204206] ###############\n",
            "[06:22:19.204286] #  INFERENCE  #\n",
            "[06:22:19.204331] ###############\n",
            "[06:22:19.204380] Making predictions on test data . . .\n"
          ]
        },
        {
          "output_type": "stream",
          "name": "stderr",
          "text": [
            "\r  0%|          | 0/27 [00:00<?, ?it/s]"
          ]
        },
        {
          "output_type": "stream",
          "name": "stdout",
          "text": [
            "[06:22:19.217219] Processing image: vol_000.tif\n"
          ]
        },
        {
          "output_type": "stream",
          "name": "stderr",
          "text": [
            "\n",
            "  0%|          | 0/1 [00:00<?, ?it/s]\u001b[A/usr/local/lib/python3.10/dist-packages/biapy/engine/base_workflow.py:2038: FutureWarning: `torch.cuda.amp.autocast(args...)` is deprecated. Please use `torch.amp.autocast('cuda', args...)` instead.\n",
            "  with torch.cuda.amp.autocast():\n",
            "\n",
            "100%|\u2588\u2588\u2588\u2588\u2588\u2588\u2588\u2588\u2588\u2588| 1/1 [00:00<00:00,  1.12it/s]\u001b[A\n",
            "                                             \u001b[A"
          ]
        },
        {
          "output_type": "stream",
          "name": "stdout",
          "text": [
            "[06:22:20.131314] Saving (1, 64, 64, 64, 1) data as .tif in folder: /content/output/my_3d_detection/results/my_3d_detection_1/per_image\n"
          ]
        },
        {
          "output_type": "stream",
          "name": "stderr",
          "text": [
            "\n",
            "  0%|          | 0/1 [00:00<?, ?it/s]\u001b[A\n",
            "                                     \u001b[A"
          ]
        },
        {
          "output_type": "stream",
          "name": "stdout",
          "text": [
            "[06:22:20.187474] Capturing the local maxima \n",
            "[06:22:20.188987] Class 1\n",
            "[06:22:20.206087] Removing close points . . .\n",
            "[06:22:20.206162] Initial number of points: 100\n",
            "[06:22:20.208866] Final number of points: 62\n",
            "[06:22:20.209618] Creating the images with detected points . . .\n",
            "[06:22:20.235731] Saving (1, 64, 64, 64, 1) data as .tif in folder: /content/output/my_3d_detection/results/my_3d_detection_1/point_associations\n"
          ]
        },
        {
          "output_type": "stream",
          "name": "stderr",
          "text": [
            "\n",
            "  0%|          | 0/1 [00:00<?, ?it/s]\u001b[A\n",
            "                                     \u001b[A"
          ]
        },
        {
          "output_type": "stream",
          "name": "stdout",
          "text": [
            "[06:22:20.291337] Saving (1, 64, 64, 64, 1) data as .tif in folder: /content/output/my_3d_detection/results/my_3d_detection_1/per_image_local_max_check\n"
          ]
        },
        {
          "output_type": "stream",
          "name": "stderr",
          "text": [
            "\n",
            "  0%|          | 0/1 [00:00<?, ?it/s]\u001b[A\n",
            "                                     \u001b[A"
          ]
        },
        {
          "output_type": "stream",
          "name": "stdout",
          "text": [
            "[06:22:20.321332] WARNING: The CSV file seems to have different name than image. Using the CSV file with the same position as the CSV in the directory. Check if it is correct!\n",
            "[06:22:20.322444] Its respective CSV file seems to be: /content/data/test/y/mask_000.csv\n",
            "[06:22:20.322970] Reading GT data from: /content/data/test/y/mask_000.csv\n",
            "[06:22:20.326387] Detection (class 1)\n",
            "[06:22:20.329634] Points in ground truth: 61, Points in prediction: 62\n",
            "[06:22:20.330509] True positives: 54, False positives: 8, False negatives: 7\n",
            "[06:22:20.331219] Detection metrics: {'Precision': 0.8709677419354839, 'Recall': 0.8852459016393442, 'F1': 0.8780487804878049, 'TP': 54, 'FP': 8, 'FN': 7}\n",
            "[06:22:20.336030] All classes 1\n",
            "[06:22:20.336123] Detection metrics: ['Precision', 0.8709677419354839, 'Recall', 0.8852459016393442, 'F1', 0.8780487804878049]\n",
            "[06:22:20.336178] Creating the image with a summary of detected points and false positives with colors . . .\n",
            "[06:22:20.403543] Saving (1, 64, 64, 64, 1) data as .tif in folder: /content/output/my_3d_detection/results/my_3d_detection_1/point_associations\n"
          ]
        },
        {
          "output_type": "stream",
          "name": "stderr",
          "text": [
            "\n",
            "  0%|          | 0/1 [00:00<?, ?it/s]\u001b[A\n",
            "                                     \u001b[A"
          ]
        },
        {
          "output_type": "stream",
          "name": "stdout",
          "text": [
            "[06:22:20.503265] Saving (1, 64, 64, 64, 3) data as .tif in folder: /content/output/my_3d_detection/results/my_3d_detection_1/point_associations\n"
          ]
        },
        {
          "output_type": "stream",
          "name": "stderr",
          "text": [
            "\n",
            "  0%|          | 0/1 [00:00<?, ?it/s]\u001b[A\n",
            "  4%|\u258e         | 1/27 [00:01<00:34,  1.32s/it]"
          ]
        },
        {
          "output_type": "stream",
          "name": "stdout",
          "text": [
            "[06:22:20.539013] Processing image: vol_001.tif\n"
          ]
        },
        {
          "output_type": "stream",
          "name": "stderr",
          "text": [
            "\n",
            "  0%|          | 0/1 [00:00<?, ?it/s]\u001b[A/usr/local/lib/python3.10/dist-packages/biapy/engine/base_workflow.py:2038: FutureWarning: `torch.cuda.amp.autocast(args...)` is deprecated. Please use `torch.amp.autocast('cuda', args...)` instead.\n",
            "  with torch.cuda.amp.autocast():\n",
            "\n",
            "                                     \u001b[A"
          ]
        },
        {
          "output_type": "stream",
          "name": "stdout",
          "text": [
            "[06:22:20.570218] Saving (1, 64, 64, 64, 1) data as .tif in folder: /content/output/my_3d_detection/results/my_3d_detection_1/per_image\n"
          ]
        },
        {
          "output_type": "stream",
          "name": "stderr",
          "text": [
            "\n",
            "  0%|          | 0/1 [00:00<?, ?it/s]\u001b[A\n",
            "                                     \u001b[A"
          ]
        },
        {
          "output_type": "stream",
          "name": "stdout",
          "text": [
            "[06:22:20.633554] Capturing the local maxima \n",
            "[06:22:20.633686] Class 1\n",
            "[06:22:20.667849] Removing close points . . .\n",
            "[06:22:20.667956] Initial number of points: 826\n",
            "[06:22:20.677777] Final number of points: 539\n",
            "[06:22:20.678062] Creating the images with detected points . . .\n",
            "[06:22:20.706110] Saving (1, 64, 64, 64, 1) data as .tif in folder: /content/output/my_3d_detection/results/my_3d_detection_1/point_associations\n"
          ]
        },
        {
          "output_type": "stream",
          "name": "stderr",
          "text": [
            "\n",
            "  0%|          | 0/1 [00:00<?, ?it/s]\u001b[A\n",
            "                                     \u001b[A"
          ]
        },
        {
          "output_type": "stream",
          "name": "stdout",
          "text": [
            "[06:22:20.764016] Saving (1, 64, 64, 64, 1) data as .tif in folder: /content/output/my_3d_detection/results/my_3d_detection_1/per_image_local_max_check\n"
          ]
        },
        {
          "output_type": "stream",
          "name": "stderr",
          "text": [
            "\n",
            "  0%|          | 0/1 [00:00<?, ?it/s]\u001b[A\n",
            "                                     \u001b[A"
          ]
        },
        {
          "output_type": "stream",
          "name": "stdout",
          "text": [
            "[06:22:20.796897] WARNING: The CSV file seems to have different name than image. Using the CSV file with the same position as the CSV in the directory. Check if it is correct!\n",
            "[06:22:20.798280] Its respective CSV file seems to be: /content/data/test/y/mask_001.csv\n",
            "[06:22:20.799209] Reading GT data from: /content/data/test/y/mask_001.csv\n",
            "[06:22:20.802722] Detection (class 1)\n",
            "[06:22:20.837874] Points in ground truth: 649, Points in prediction: 539\n",
            "[06:22:20.839362] True positives: 531, False positives: 8, False negatives: 118\n",
            "[06:22:20.840219] Detection metrics: {'Precision': 0.9851576994434137, 'Recall': 0.8181818181818182, 'F1': 0.893939393939394, 'TP': 531, 'FP': 8, 'FN': 118}\n",
            "[06:22:20.846157] All classes 1\n",
            "[06:22:20.846246] Detection metrics: ['Precision', 0.9851576994434137, 'Recall', 0.8181818181818182, 'F1', 0.893939393939394]\n",
            "[06:22:20.847460] Creating the image with a summary of detected points and false positives with colors . . .\n",
            "[06:22:21.259830] Saving (1, 64, 64, 64, 1) data as .tif in folder: /content/output/my_3d_detection/results/my_3d_detection_1/point_associations\n"
          ]
        },
        {
          "output_type": "stream",
          "name": "stderr",
          "text": [
            "\n",
            "  0%|          | 0/1 [00:00<?, ?it/s]\u001b[A\n",
            "                                     \u001b[A"
          ]
        },
        {
          "output_type": "stream",
          "name": "stdout",
          "text": [
            "[06:22:21.367275] Saving (1, 64, 64, 64, 3) data as .tif in folder: /content/output/my_3d_detection/results/my_3d_detection_1/point_associations\n"
          ]
        },
        {
          "output_type": "stream",
          "name": "stderr",
          "text": [
            "\n",
            "  0%|          | 0/1 [00:00<?, ?it/s]\u001b[A\n",
            "  7%|\u258b         | 2/27 [00:02<00:26,  1.05s/it]"
          ]
        },
        {
          "output_type": "stream",
          "name": "stdout",
          "text": [
            "[06:22:21.400488] Processing image: vol_002.tif\n"
          ]
        },
        {
          "output_type": "stream",
          "name": "stderr",
          "text": [
            "\n",
            "  0%|          | 0/1 [00:00<?, ?it/s]\u001b[A/usr/local/lib/python3.10/dist-packages/biapy/engine/base_workflow.py:2038: FutureWarning: `torch.cuda.amp.autocast(args...)` is deprecated. Please use `torch.amp.autocast('cuda', args...)` instead.\n",
            "  with torch.cuda.amp.autocast():\n",
            "\n",
            "                                     \u001b[A"
          ]
        },
        {
          "output_type": "stream",
          "name": "stdout",
          "text": [
            "[06:22:21.431265] Saving (1, 64, 64, 64, 1) data as .tif in folder: /content/output/my_3d_detection/results/my_3d_detection_1/per_image\n"
          ]
        },
        {
          "output_type": "stream",
          "name": "stderr",
          "text": [
            "\n",
            "  0%|          | 0/1 [00:00<?, ?it/s]\u001b[A\n",
            "                                     \u001b[A"
          ]
        },
        {
          "output_type": "stream",
          "name": "stdout",
          "text": [
            "[06:22:21.486355] Capturing the local maxima \n",
            "[06:22:21.487579] Class 1\n",
            "[06:22:21.503309] Removing close points . . .\n",
            "[06:22:21.503387] Initial number of points: 102\n",
            "[06:22:21.506109] Final number of points: 47\n",
            "[06:22:21.506242] Creating the images with detected points . . .\n",
            "[06:22:21.532173] Saving (1, 64, 64, 64, 1) data as .tif in folder: /content/output/my_3d_detection/results/my_3d_detection_1/point_associations\n"
          ]
        },
        {
          "output_type": "stream",
          "name": "stderr",
          "text": [
            "\n",
            "  0%|          | 0/1 [00:00<?, ?it/s]\u001b[A\n",
            "                                     \u001b[A"
          ]
        },
        {
          "output_type": "stream",
          "name": "stdout",
          "text": [
            "[06:22:21.587339] Saving (1, 64, 64, 64, 1) data as .tif in folder: /content/output/my_3d_detection/results/my_3d_detection_1/per_image_local_max_check\n"
          ]
        },
        {
          "output_type": "stream",
          "name": "stderr",
          "text": [
            "\n",
            "  0%|          | 0/1 [00:00<?, ?it/s]\u001b[A\n",
            "                                     \u001b[A"
          ]
        },
        {
          "output_type": "stream",
          "name": "stdout",
          "text": [
            "[06:22:21.610631] WARNING: The CSV file seems to have different name than image. Using the CSV file with the same position as the CSV in the directory. Check if it is correct!\n",
            "[06:22:21.611611] Its respective CSV file seems to be: /content/data/test/y/mask_002.csv\n",
            "[06:22:21.611663] Reading GT data from: /content/data/test/y/mask_002.csv\n",
            "[06:22:21.613827] Detection (class 1)\n",
            "[06:22:21.615797] Points in ground truth: 19, Points in prediction: 47\n",
            "[06:22:21.615886] True positives: 19, False positives: 28, False negatives: 0\n",
            "[06:22:21.615994] Detection metrics: {'Precision': 0.40425531914893614, 'Recall': 1.0, 'F1': 0.5757575757575757, 'TP': 19, 'FP': 28, 'FN': 0}\n",
            "[06:22:21.622355] All classes 1\n",
            "[06:22:21.622457] Detection metrics: ['Precision', 0.40425531914893614, 'Recall', 1.0, 'F1', 0.5757575757575757]\n",
            "[06:22:21.622517] Creating the image with a summary of detected points and false positives with colors . . .\n",
            "[06:22:21.665385] Saving (1, 64, 64, 64, 1) data as .tif in folder: /content/output/my_3d_detection/results/my_3d_detection_1/point_associations\n"
          ]
        },
        {
          "output_type": "stream",
          "name": "stderr",
          "text": [
            "\n",
            "  0%|          | 0/1 [00:00<?, ?it/s]\u001b[A\n",
            "                                     \u001b[A"
          ]
        },
        {
          "output_type": "stream",
          "name": "stdout",
          "text": [
            "[06:22:21.764057] Saving (1, 64, 64, 64, 3) data as .tif in folder: /content/output/my_3d_detection/results/my_3d_detection_1/point_associations\n"
          ]
        },
        {
          "output_type": "stream",
          "name": "stderr",
          "text": [
            "\n",
            "  0%|          | 0/1 [00:00<?, ?it/s]\u001b[A\n",
            " 11%|\u2588         | 3/27 [00:02<00:18,  1.33it/s]"
          ]
        },
        {
          "output_type": "stream",
          "name": "stdout",
          "text": [
            "[06:22:21.803427] Processing image: vol_003.tif\n"
          ]
        },
        {
          "output_type": "stream",
          "name": "stderr",
          "text": [
            "\n",
            "  0%|          | 0/1 [00:00<?, ?it/s]\u001b[A/usr/local/lib/python3.10/dist-packages/biapy/engine/base_workflow.py:2038: FutureWarning: `torch.cuda.amp.autocast(args...)` is deprecated. Please use `torch.amp.autocast('cuda', args...)` instead.\n",
            "  with torch.cuda.amp.autocast():\n",
            "\n",
            "                                     \u001b[A"
          ]
        },
        {
          "output_type": "stream",
          "name": "stdout",
          "text": [
            "[06:22:21.835368] Saving (1, 64, 64, 64, 1) data as .tif in folder: /content/output/my_3d_detection/results/my_3d_detection_1/per_image\n"
          ]
        },
        {
          "output_type": "stream",
          "name": "stderr",
          "text": [
            "\n",
            "  0%|          | 0/1 [00:00<?, ?it/s]\u001b[A\n",
            "                                     \u001b[A"
          ]
        },
        {
          "output_type": "stream",
          "name": "stdout",
          "text": [
            "[06:22:21.891235] Capturing the local maxima \n",
            "[06:22:21.892526] Class 1\n",
            "[06:22:21.923770] Removing close points . . .\n",
            "[06:22:21.923870] Initial number of points: 885\n",
            "[06:22:21.933587] Final number of points: 503\n",
            "[06:22:21.933906] Creating the images with detected points . . .\n",
            "[06:22:21.974244] Saving (1, 64, 64, 64, 1) data as .tif in folder: /content/output/my_3d_detection/results/my_3d_detection_1/point_associations\n"
          ]
        },
        {
          "output_type": "stream",
          "name": "stderr",
          "text": [
            "\n",
            "  0%|          | 0/1 [00:00<?, ?it/s]\u001b[A\n",
            "                                     \u001b[A"
          ]
        },
        {
          "output_type": "stream",
          "name": "stdout",
          "text": [
            "[06:22:22.046902] Saving (1, 64, 64, 64, 1) data as .tif in folder: /content/output/my_3d_detection/results/my_3d_detection_1/per_image_local_max_check\n"
          ]
        },
        {
          "output_type": "stream",
          "name": "stderr",
          "text": [
            "\n",
            "  0%|          | 0/1 [00:00<?, ?it/s]\u001b[A\n",
            "                                     \u001b[A"
          ]
        },
        {
          "output_type": "stream",
          "name": "stdout",
          "text": [
            "[06:22:22.085118] WARNING: The CSV file seems to have different name than image. Using the CSV file with the same position as the CSV in the directory. Check if it is correct!\n",
            "[06:22:22.086858] Its respective CSV file seems to be: /content/data/test/y/mask_003.csv\n",
            "[06:22:22.087949] Reading GT data from: /content/data/test/y/mask_003.csv\n",
            "[06:22:22.091498] Detection (class 1)\n",
            "[06:22:22.134550] Points in ground truth: 501, Points in prediction: 503\n",
            "[06:22:22.135480] True positives: 430, False positives: 73, False negatives: 71\n",
            "[06:22:22.135603] Detection metrics: {'Precision': 0.8548707753479126, 'Recall': 0.8582834331337326, 'F1': 0.8565737051792829, 'TP': 430, 'FP': 73, 'FN': 71}\n",
            "[06:22:22.143014] All classes 1\n",
            "[06:22:22.143110] Detection metrics: ['Precision', 0.8548707753479126, 'Recall', 0.8582834331337326, 'F1', 0.8565737051792829]\n",
            "[06:22:22.144297] Creating the image with a summary of detected points and false positives with colors . . .\n",
            "[06:22:22.449333] Saving (1, 64, 64, 64, 1) data as .tif in folder: /content/output/my_3d_detection/results/my_3d_detection_1/point_associations\n"
          ]
        },
        {
          "output_type": "stream",
          "name": "stderr",
          "text": [
            "\n",
            "  0%|          | 0/1 [00:00<?, ?it/s]\u001b[A\n",
            "                                     \u001b[A"
          ]
        },
        {
          "output_type": "stream",
          "name": "stdout",
          "text": [
            "[06:22:22.546850] Saving (1, 64, 64, 64, 3) data as .tif in folder: /content/output/my_3d_detection/results/my_3d_detection_1/point_associations\n"
          ]
        },
        {
          "output_type": "stream",
          "name": "stderr",
          "text": [
            "\n",
            "  0%|          | 0/1 [00:00<?, ?it/s]\u001b[A\n",
            " 15%|\u2588\u258d        | 4/27 [00:03<00:17,  1.30it/s]"
          ]
        },
        {
          "output_type": "stream",
          "name": "stdout",
          "text": [
            "[06:22:22.592040] Processing image: vol_004.tif\n"
          ]
        },
        {
          "output_type": "stream",
          "name": "stderr",
          "text": [
            "\n",
            "  0%|          | 0/1 [00:00<?, ?it/s]\u001b[A/usr/local/lib/python3.10/dist-packages/biapy/engine/base_workflow.py:2038: FutureWarning: `torch.cuda.amp.autocast(args...)` is deprecated. Please use `torch.amp.autocast('cuda', args...)` instead.\n",
            "  with torch.cuda.amp.autocast():\n",
            "\n",
            "                                     \u001b[A"
          ]
        },
        {
          "output_type": "stream",
          "name": "stdout",
          "text": [
            "[06:22:22.629274] Saving (1, 64, 64, 64, 1) data as .tif in folder: /content/output/my_3d_detection/results/my_3d_detection_1/per_image\n"
          ]
        },
        {
          "output_type": "stream",
          "name": "stderr",
          "text": [
            "\n",
            "  0%|          | 0/1 [00:00<?, ?it/s]\u001b[A\n",
            "                                     \u001b[A"
          ]
        },
        {
          "output_type": "stream",
          "name": "stdout",
          "text": [
            "[06:22:22.687504] Capturing the local maxima \n",
            "[06:22:22.688731] Class 1\n",
            "[06:22:22.710181] Removing close points . . .\n",
            "[06:22:22.710260] Initial number of points: 450\n",
            "[06:22:22.716185] Final number of points: 264\n",
            "[06:22:22.716444] Creating the images with detected points . . .\n",
            "[06:22:22.743396] Saving (1, 64, 64, 64, 1) data as .tif in folder: /content/output/my_3d_detection/results/my_3d_detection_1/point_associations\n"
          ]
        },
        {
          "output_type": "stream",
          "name": "stderr",
          "text": [
            "\n",
            "  0%|          | 0/1 [00:00<?, ?it/s]\u001b[A\n",
            "                                     \u001b[A"
          ]
        },
        {
          "output_type": "stream",
          "name": "stdout",
          "text": [
            "[06:22:22.801427] Saving (1, 64, 64, 64, 1) data as .tif in folder: /content/output/my_3d_detection/results/my_3d_detection_1/per_image_local_max_check\n"
          ]
        },
        {
          "output_type": "stream",
          "name": "stderr",
          "text": [
            "\n",
            "  0%|          | 0/1 [00:00<?, ?it/s]\u001b[A\n",
            "                                     \u001b[A"
          ]
        },
        {
          "output_type": "stream",
          "name": "stdout",
          "text": [
            "[06:22:22.831409] WARNING: The CSV file seems to have different name than image. Using the CSV file with the same position as the CSV in the directory. Check if it is correct!\n",
            "[06:22:22.832603] Its respective CSV file seems to be: /content/data/test/y/mask_004.csv\n",
            "[06:22:22.833374] Reading GT data from: /content/data/test/y/mask_004.csv\n",
            "[06:22:22.836746] Detection (class 1)\n",
            "[06:22:22.846876] Points in ground truth: 259, Points in prediction: 264\n",
            "[06:22:22.846972] True positives: 225, False positives: 39, False negatives: 34\n",
            "[06:22:22.847065] Detection metrics: {'Precision': 0.8522727272727273, 'Recall': 0.8687258687258688, 'F1': 0.8604206500956023, 'TP': 225, 'FP': 39, 'FN': 34}\n",
            "[06:22:22.851896] All classes 1\n",
            "[06:22:22.852027] Detection metrics: ['Precision', 0.8522727272727273, 'Recall', 0.8687258687258688, 'F1', 0.8604206500956023]\n",
            "[06:22:22.853396] Creating the image with a summary of detected points and false positives with colors . . .\n",
            "[06:22:23.033295] Saving (1, 64, 64, 64, 1) data as .tif in folder: /content/output/my_3d_detection/results/my_3d_detection_1/point_associations\n"
          ]
        },
        {
          "output_type": "stream",
          "name": "stderr",
          "text": [
            "\n",
            "  0%|          | 0/1 [00:00<?, ?it/s]\u001b[A\n",
            "                                     \u001b[A"
          ]
        },
        {
          "output_type": "stream",
          "name": "stdout",
          "text": [
            "[06:22:23.162815] Saving (1, 64, 64, 64, 3) data as .tif in folder: /content/output/my_3d_detection/results/my_3d_detection_1/point_associations\n"
          ]
        },
        {
          "output_type": "stream",
          "name": "stderr",
          "text": [
            "\n",
            "  0%|          | 0/1 [00:00<?, ?it/s]\u001b[A\n",
            " 19%|\u2588\u258a        | 5/27 [00:03<00:15,  1.40it/s]"
          ]
        },
        {
          "output_type": "stream",
          "name": "stdout",
          "text": [
            "[06:22:23.208117] Processing image: vol_005.tif\n"
          ]
        },
        {
          "output_type": "stream",
          "name": "stderr",
          "text": [
            "\n",
            "  0%|          | 0/1 [00:00<?, ?it/s]\u001b[A/usr/local/lib/python3.10/dist-packages/biapy/engine/base_workflow.py:2038: FutureWarning: `torch.cuda.amp.autocast(args...)` is deprecated. Please use `torch.amp.autocast('cuda', args...)` instead.\n",
            "  with torch.cuda.amp.autocast():\n",
            "\n",
            "                                     \u001b[A"
          ]
        },
        {
          "output_type": "stream",
          "name": "stdout",
          "text": [
            "[06:22:23.248500] Saving (1, 64, 64, 64, 1) data as .tif in folder: /content/output/my_3d_detection/results/my_3d_detection_1/per_image\n"
          ]
        },
        {
          "output_type": "stream",
          "name": "stderr",
          "text": [
            "\n",
            "  0%|          | 0/1 [00:00<?, ?it/s]\u001b[A\n",
            "                                     \u001b[A"
          ]
        },
        {
          "output_type": "stream",
          "name": "stdout",
          "text": [
            "[06:22:23.305617] Capturing the local maxima \n",
            "[06:22:23.306821] Class 1\n",
            "[06:22:23.326026] Removing close points . . .\n",
            "[06:22:23.326104] Initial number of points: 267\n",
            "[06:22:23.330070] Final number of points: 179\n",
            "[06:22:23.330225] Creating the images with detected points . . .\n",
            "[06:22:23.356521] Saving (1, 64, 64, 64, 1) data as .tif in folder: /content/output/my_3d_detection/results/my_3d_detection_1/point_associations\n"
          ]
        },
        {
          "output_type": "stream",
          "name": "stderr",
          "text": [
            "\n",
            "  0%|          | 0/1 [00:00<?, ?it/s]\u001b[A\n",
            "                                     \u001b[A"
          ]
        },
        {
          "output_type": "stream",
          "name": "stdout",
          "text": [
            "[06:22:23.416983] Saving (1, 64, 64, 64, 1) data as .tif in folder: /content/output/my_3d_detection/results/my_3d_detection_1/per_image_local_max_check\n"
          ]
        },
        {
          "output_type": "stream",
          "name": "stderr",
          "text": [
            "\n",
            "  0%|          | 0/1 [00:00<?, ?it/s]\u001b[A\n",
            "                                     \u001b[A"
          ]
        },
        {
          "output_type": "stream",
          "name": "stdout",
          "text": [
            "[06:22:23.449511] WARNING: The CSV file seems to have different name than image. Using the CSV file with the same position as the CSV in the directory. Check if it is correct!\n",
            "[06:22:23.450951] Its respective CSV file seems to be: /content/data/test/y/mask_005.csv\n",
            "[06:22:23.452336] Reading GT data from: /content/data/test/y/mask_005.csv\n",
            "[06:22:23.455998] Detection (class 1)\n",
            "[06:22:23.462749] Points in ground truth: 174, Points in prediction: 179\n",
            "[06:22:23.462825] True positives: 161, False positives: 18, False negatives: 13\n",
            "[06:22:23.462905] Detection metrics: {'Precision': 0.8994413407821229, 'Recall': 0.9252873563218391, 'F1': 0.9121813031161473, 'TP': 161, 'FP': 18, 'FN': 13}\n",
            "[06:22:23.467801] All classes 1\n",
            "[06:22:23.467893] Detection metrics: ['Precision', 0.8994413407821229, 'Recall', 0.9252873563218391, 'F1', 0.9121813031161473]\n",
            "[06:22:23.469150] Creating the image with a summary of detected points and false positives with colors . . .\n",
            "[06:22:23.568119] Saving (1, 64, 64, 64, 1) data as .tif in folder: /content/output/my_3d_detection/results/my_3d_detection_1/point_associations\n"
          ]
        },
        {
          "output_type": "stream",
          "name": "stderr",
          "text": [
            "\n",
            "  0%|          | 0/1 [00:00<?, ?it/s]\u001b[A\n",
            "                                     \u001b[A"
          ]
        },
        {
          "output_type": "stream",
          "name": "stdout",
          "text": [
            "[06:22:23.674031] Saving (1, 64, 64, 64, 3) data as .tif in folder: /content/output/my_3d_detection/results/my_3d_detection_1/point_associations\n"
          ]
        },
        {
          "output_type": "stream",
          "name": "stderr",
          "text": [
            "\n",
            "  0%|          | 0/1 [00:00<?, ?it/s]\u001b[A\n",
            " 22%|\u2588\u2588\u258f       | 6/27 [00:04<00:13,  1.56it/s]"
          ]
        },
        {
          "output_type": "stream",
          "name": "stdout",
          "text": [
            "[06:22:23.714165] Processing image: vol_006.tif\n"
          ]
        },
        {
          "output_type": "stream",
          "name": "stderr",
          "text": [
            "\n",
            "  0%|          | 0/1 [00:00<?, ?it/s]\u001b[A/usr/local/lib/python3.10/dist-packages/biapy/engine/base_workflow.py:2038: FutureWarning: `torch.cuda.amp.autocast(args...)` is deprecated. Please use `torch.amp.autocast('cuda', args...)` instead.\n",
            "  with torch.cuda.amp.autocast():\n",
            "\n",
            "                                     \u001b[A"
          ]
        },
        {
          "output_type": "stream",
          "name": "stdout",
          "text": [
            "[06:22:23.751733] Saving (1, 64, 64, 64, 1) data as .tif in folder: /content/output/my_3d_detection/results/my_3d_detection_1/per_image\n"
          ]
        },
        {
          "output_type": "stream",
          "name": "stderr",
          "text": [
            "\n",
            "  0%|          | 0/1 [00:00<?, ?it/s]\u001b[A\n",
            "                                     \u001b[A"
          ]
        },
        {
          "output_type": "stream",
          "name": "stdout",
          "text": [
            "[06:22:23.806648] Capturing the local maxima \n",
            "[06:22:23.807861] Class 1\n",
            "[06:22:23.826112] Removing close points . . .\n",
            "[06:22:23.826953] Initial number of points: 51\n",
            "[06:22:23.828451] Final number of points: 36\n",
            "[06:22:23.829332] Creating the images with detected points . . .\n",
            "[06:22:23.855706] Saving (1, 64, 64, 64, 1) data as .tif in folder: /content/output/my_3d_detection/results/my_3d_detection_1/point_associations\n"
          ]
        },
        {
          "output_type": "stream",
          "name": "stderr",
          "text": [
            "\n",
            "  0%|          | 0/1 [00:00<?, ?it/s]\u001b[A\n",
            "                                     \u001b[A"
          ]
        },
        {
          "output_type": "stream",
          "name": "stdout",
          "text": [
            "[06:22:23.911627] Saving (1, 64, 64, 64, 1) data as .tif in folder: /content/output/my_3d_detection/results/my_3d_detection_1/per_image_local_max_check\n"
          ]
        },
        {
          "output_type": "stream",
          "name": "stderr",
          "text": [
            "\n",
            "  0%|          | 0/1 [00:00<?, ?it/s]\u001b[A\n",
            "                                     \u001b[A"
          ]
        },
        {
          "output_type": "stream",
          "name": "stdout",
          "text": [
            "[06:22:23.935378] WARNING: The CSV file seems to have different name than image. Using the CSV file with the same position as the CSV in the directory. Check if it is correct!\n",
            "[06:22:23.935462] Its respective CSV file seems to be: /content/data/test/y/mask_006.csv\n",
            "[06:22:23.935499] Reading GT data from: /content/data/test/y/mask_006.csv\n",
            "[06:22:23.942295] Detection (class 1)\n",
            "[06:22:23.947503] Points in ground truth: 22, Points in prediction: 36\n",
            "[06:22:23.947600] True positives: 22, False positives: 14, False negatives: 0\n",
            "[06:22:23.947682] Detection metrics: {'Precision': 0.6111111111111112, 'Recall': 1.0, 'F1': 0.7586206896551725, 'TP': 22, 'FP': 14, 'FN': 0}\n",
            "[06:22:23.953261] All classes 1\n",
            "[06:22:23.953364] Detection metrics: ['Precision', 0.6111111111111112, 'Recall', 1.0, 'F1', 0.7586206896551725]\n",
            "[06:22:23.954404] Creating the image with a summary of detected points and false positives with colors . . .\n",
            "[06:22:24.005424] Saving (1, 64, 64, 64, 1) data as .tif in folder: /content/output/my_3d_detection/results/my_3d_detection_1/point_associations\n"
          ]
        },
        {
          "output_type": "stream",
          "name": "stderr",
          "text": [
            "\n",
            "  0%|          | 0/1 [00:00<?, ?it/s]\u001b[A\n",
            "                                     \u001b[A"
          ]
        },
        {
          "output_type": "stream",
          "name": "stdout",
          "text": [
            "[06:22:24.142123] Saving (1, 64, 64, 64, 3) data as .tif in folder: /content/output/my_3d_detection/results/my_3d_detection_1/point_associations\n"
          ]
        },
        {
          "output_type": "stream",
          "name": "stderr",
          "text": [
            "\n",
            "  0%|          | 0/1 [00:00<?, ?it/s]\u001b[A\n",
            " 26%|\u2588\u2588\u258c       | 7/27 [00:04<00:11,  1.71it/s]"
          ]
        },
        {
          "output_type": "stream",
          "name": "stdout",
          "text": [
            "[06:22:24.180986] Processing image: vol_007.tif\n"
          ]
        },
        {
          "output_type": "stream",
          "name": "stderr",
          "text": [
            "\n",
            "  0%|          | 0/1 [00:00<?, ?it/s]\u001b[A/usr/local/lib/python3.10/dist-packages/biapy/engine/base_workflow.py:2038: FutureWarning: `torch.cuda.amp.autocast(args...)` is deprecated. Please use `torch.amp.autocast('cuda', args...)` instead.\n",
            "  with torch.cuda.amp.autocast():\n",
            "\n",
            "                                     \u001b[A"
          ]
        },
        {
          "output_type": "stream",
          "name": "stdout",
          "text": [
            "[06:22:24.226028] Saving (1, 64, 64, 64, 1) data as .tif in folder: /content/output/my_3d_detection/results/my_3d_detection_1/per_image\n"
          ]
        },
        {
          "output_type": "stream",
          "name": "stderr",
          "text": [
            "\n",
            "  0%|          | 0/1 [00:00<?, ?it/s]\u001b[A\n",
            "                                     \u001b[A"
          ]
        },
        {
          "output_type": "stream",
          "name": "stdout",
          "text": [
            "[06:22:24.309958] Capturing the local maxima \n",
            "[06:22:24.311270] Class 1\n",
            "[06:22:24.341140] Removing close points . . .\n",
            "[06:22:24.341229] Initial number of points: 183\n",
            "[06:22:24.346669] Final number of points: 122\n",
            "[06:22:24.348175] Creating the images with detected points . . .\n",
            "[06:22:24.391705] Saving (1, 64, 64, 64, 1) data as .tif in folder: /content/output/my_3d_detection/results/my_3d_detection_1/point_associations\n"
          ]
        },
        {
          "output_type": "stream",
          "name": "stderr",
          "text": [
            "\n",
            "  0%|          | 0/1 [00:00<?, ?it/s]\u001b[A\n",
            "                                     \u001b[A"
          ]
        },
        {
          "output_type": "stream",
          "name": "stdout",
          "text": [
            "[06:22:24.464803] Saving (1, 64, 64, 64, 1) data as .tif in folder: /content/output/my_3d_detection/results/my_3d_detection_1/per_image_local_max_check\n"
          ]
        },
        {
          "output_type": "stream",
          "name": "stderr",
          "text": [
            "\n",
            "  0%|          | 0/1 [00:00<?, ?it/s]\u001b[A\n",
            "                                     \u001b[A"
          ]
        },
        {
          "output_type": "stream",
          "name": "stdout",
          "text": [
            "[06:22:24.494556] WARNING: The CSV file seems to have different name than image. Using the CSV file with the same position as the CSV in the directory. Check if it is correct!\n",
            "[06:22:24.495373] Its respective CSV file seems to be: /content/data/test/y/mask_007.csv\n",
            "[06:22:24.495422] Reading GT data from: /content/data/test/y/mask_007.csv\n",
            "[06:22:24.500100] Detection (class 1)\n",
            "[06:22:24.507647] Points in ground truth: 121, Points in prediction: 122\n",
            "[06:22:24.509083] True positives: 111, False positives: 11, False negatives: 10\n",
            "[06:22:24.509909] Detection metrics: {'Precision': 0.9098360655737705, 'Recall': 0.9173553719008265, 'F1': 0.9135802469135802, 'TP': 111, 'FP': 11, 'FN': 10}\n",
            "[06:22:24.516644] All classes 1\n",
            "[06:22:24.517590] Detection metrics: ['Precision', 0.9098360655737705, 'Recall', 0.9173553719008265, 'F1', 0.9135802469135802]\n",
            "[06:22:24.518524] Creating the image with a summary of detected points and false positives with colors . . .\n",
            "[06:22:24.614637] Saving (1, 64, 64, 64, 1) data as .tif in folder: /content/output/my_3d_detection/results/my_3d_detection_1/point_associations\n"
          ]
        },
        {
          "output_type": "stream",
          "name": "stderr",
          "text": [
            "\n",
            "  0%|          | 0/1 [00:00<?, ?it/s]\u001b[A\n",
            "                                     \u001b[A"
          ]
        },
        {
          "output_type": "stream",
          "name": "stdout",
          "text": [
            "[06:22:24.719212] Saving (1, 64, 64, 64, 3) data as .tif in folder: /content/output/my_3d_detection/results/my_3d_detection_1/point_associations\n"
          ]
        },
        {
          "output_type": "stream",
          "name": "stderr",
          "text": [
            "\n",
            "  0%|          | 0/1 [00:00<?, ?it/s]\u001b[A\n",
            " 30%|\u2588\u2588\u2589       | 8/27 [00:05<00:11,  1.72it/s]"
          ]
        },
        {
          "output_type": "stream",
          "name": "stdout",
          "text": [
            "[06:22:24.756576] Processing image: vol_008.tif\n"
          ]
        },
        {
          "output_type": "stream",
          "name": "stderr",
          "text": [
            "\n",
            "  0%|          | 0/1 [00:00<?, ?it/s]\u001b[A/usr/local/lib/python3.10/dist-packages/biapy/engine/base_workflow.py:2038: FutureWarning: `torch.cuda.amp.autocast(args...)` is deprecated. Please use `torch.amp.autocast('cuda', args...)` instead.\n",
            "  with torch.cuda.amp.autocast():\n",
            "\n",
            "                                     \u001b[A"
          ]
        },
        {
          "output_type": "stream",
          "name": "stdout",
          "text": [
            "[06:22:24.797485] Saving (1, 64, 64, 64, 1) data as .tif in folder: /content/output/my_3d_detection/results/my_3d_detection_1/per_image\n"
          ]
        },
        {
          "output_type": "stream",
          "name": "stderr",
          "text": [
            "\n",
            "  0%|          | 0/1 [00:00<?, ?it/s]\u001b[A\n",
            "                                     \u001b[A"
          ]
        },
        {
          "output_type": "stream",
          "name": "stdout",
          "text": [
            "[06:22:24.862943] Capturing the local maxima \n",
            "[06:22:24.864318] Class 1\n",
            "[06:22:24.891405] Removing close points . . .\n",
            "[06:22:24.891490] Initial number of points: 657\n",
            "[06:22:24.899566] Final number of points: 377\n",
            "[06:22:24.899811] Creating the images with detected points . . .\n",
            "[06:22:24.931272] Saving (1, 64, 64, 64, 1) data as .tif in folder: /content/output/my_3d_detection/results/my_3d_detection_1/point_associations\n"
          ]
        },
        {
          "output_type": "stream",
          "name": "stderr",
          "text": [
            "\n",
            "  0%|          | 0/1 [00:00<?, ?it/s]\u001b[A\n",
            "                                     \u001b[A"
          ]
        },
        {
          "output_type": "stream",
          "name": "stdout",
          "text": [
            "[06:22:24.997970] Saving (1, 64, 64, 64, 1) data as .tif in folder: /content/output/my_3d_detection/results/my_3d_detection_1/per_image_local_max_check\n"
          ]
        },
        {
          "output_type": "stream",
          "name": "stderr",
          "text": [
            "\n",
            "  0%|          | 0/1 [00:00<?, ?it/s]\u001b[A\n",
            "                                     \u001b[A"
          ]
        },
        {
          "output_type": "stream",
          "name": "stdout",
          "text": [
            "[06:22:25.037092] WARNING: The CSV file seems to have different name than image. Using the CSV file with the same position as the CSV in the directory. Check if it is correct!\n",
            "[06:22:25.039266] Its respective CSV file seems to be: /content/data/test/y/mask_008.csv\n",
            "[06:22:25.040101] Reading GT data from: /content/data/test/y/mask_008.csv\n",
            "[06:22:25.045621] Detection (class 1)\n",
            "[06:22:25.079410] Points in ground truth: 369, Points in prediction: 377\n",
            "[06:22:25.080407] True positives: 325, False positives: 52, False negatives: 44\n",
            "[06:22:25.080525] Detection metrics: {'Precision': 0.8620689655172413, 'Recall': 0.8807588075880759, 'F1': 0.871313672922252, 'TP': 325, 'FP': 52, 'FN': 44}\n",
            "[06:22:25.087058] All classes 1\n",
            "[06:22:25.087857] Detection metrics: ['Precision', 0.8620689655172413, 'Recall', 0.8807588075880759, 'F1', 0.871313672922252]\n",
            "[06:22:25.087952] Creating the image with a summary of detected points and false positives with colors . . .\n",
            "[06:22:25.379499] Saving (1, 64, 64, 64, 1) data as .tif in folder: /content/output/my_3d_detection/results/my_3d_detection_1/point_associations\n"
          ]
        },
        {
          "output_type": "stream",
          "name": "stderr",
          "text": [
            "\n",
            "  0%|          | 0/1 [00:00<?, ?it/s]\u001b[A\n",
            "                                     \u001b[A"
          ]
        },
        {
          "output_type": "stream",
          "name": "stdout",
          "text": [
            "[06:22:25.528144] Saving (1, 64, 64, 64, 3) data as .tif in folder: /content/output/my_3d_detection/results/my_3d_detection_1/point_associations\n"
          ]
        },
        {
          "output_type": "stream",
          "name": "stderr",
          "text": [
            "\n",
            "  0%|          | 0/1 [00:00<?, ?it/s]\u001b[A\n",
            " 33%|\u2588\u2588\u2588\u258e      | 9/27 [00:06<00:11,  1.53it/s]"
          ]
        },
        {
          "output_type": "stream",
          "name": "stdout",
          "text": [
            "[06:22:25.564377] Processing image: vol_009.tif\n"
          ]
        },
        {
          "output_type": "stream",
          "name": "stderr",
          "text": [
            "\n",
            "  0%|          | 0/1 [00:00<?, ?it/s]\u001b[A/usr/local/lib/python3.10/dist-packages/biapy/engine/base_workflow.py:2038: FutureWarning: `torch.cuda.amp.autocast(args...)` is deprecated. Please use `torch.amp.autocast('cuda', args...)` instead.\n",
            "  with torch.cuda.amp.autocast():\n",
            "\n",
            "                                     \u001b[A"
          ]
        },
        {
          "output_type": "stream",
          "name": "stdout",
          "text": [
            "[06:22:25.600903] Saving (1, 64, 64, 64, 1) data as .tif in folder: /content/output/my_3d_detection/results/my_3d_detection_1/per_image\n"
          ]
        },
        {
          "output_type": "stream",
          "name": "stderr",
          "text": [
            "\n",
            "  0%|          | 0/1 [00:00<?, ?it/s]\u001b[A\n",
            "                                     \u001b[A"
          ]
        },
        {
          "output_type": "stream",
          "name": "stdout",
          "text": [
            "[06:22:25.665774] Capturing the local maxima \n",
            "[06:22:25.666819] Class 1\n",
            "[06:22:25.707550] Removing close points . . .\n",
            "[06:22:25.708729] Initial number of points: 812\n",
            "[06:22:25.725310] Final number of points: 429\n",
            "[06:22:25.726452] Creating the images with detected points . . .\n",
            "[06:22:25.778395] Saving (1, 64, 64, 64, 1) data as .tif in folder: /content/output/my_3d_detection/results/my_3d_detection_1/point_associations\n"
          ]
        },
        {
          "output_type": "stream",
          "name": "stderr",
          "text": [
            "\n",
            "  0%|          | 0/1 [00:00<?, ?it/s]\u001b[A\n",
            "                                     \u001b[A"
          ]
        },
        {
          "output_type": "stream",
          "name": "stdout",
          "text": [
            "[06:22:25.847113] Saving (1, 64, 64, 64, 1) data as .tif in folder: /content/output/my_3d_detection/results/my_3d_detection_1/per_image_local_max_check\n"
          ]
        },
        {
          "output_type": "stream",
          "name": "stderr",
          "text": [
            "\n",
            "  0%|          | 0/1 [00:00<?, ?it/s]\u001b[A\n",
            "                                     \u001b[A"
          ]
        },
        {
          "output_type": "stream",
          "name": "stdout",
          "text": [
            "[06:22:25.889099] WARNING: The CSV file seems to have different name than image. Using the CSV file with the same position as the CSV in the directory. Check if it is correct!\n",
            "[06:22:25.890446] Its respective CSV file seems to be: /content/data/test/y/mask_009.csv\n",
            "[06:22:25.891204] Reading GT data from: /content/data/test/y/mask_009.csv\n",
            "[06:22:25.894759] Detection (class 1)\n",
            "[06:22:25.920158] Points in ground truth: 372, Points in prediction: 429\n",
            "[06:22:25.921078] True positives: 325, False positives: 104, False negatives: 47\n",
            "[06:22:25.921786] Detection metrics: {'Precision': 0.7575757575757576, 'Recall': 0.8736559139784946, 'F1': 0.8114856429463171, 'TP': 325, 'FP': 104, 'FN': 47}\n",
            "[06:22:25.928694] All classes 1\n",
            "[06:22:25.929739] Detection metrics: ['Precision', 0.7575757575757576, 'Recall', 0.8736559139784946, 'F1', 0.8114856429463171]\n",
            "[06:22:25.930679] Creating the image with a summary of detected points and false positives with colors . . .\n",
            "[06:22:26.214135] Saving (1, 64, 64, 64, 1) data as .tif in folder: /content/output/my_3d_detection/results/my_3d_detection_1/point_associations\n"
          ]
        },
        {
          "output_type": "stream",
          "name": "stderr",
          "text": [
            "\n",
            "  0%|          | 0/1 [00:00<?, ?it/s]\u001b[A\n",
            "                                     \u001b[A"
          ]
        },
        {
          "output_type": "stream",
          "name": "stdout",
          "text": [
            "[06:22:26.374269] Saving (1, 64, 64, 64, 3) data as .tif in folder: /content/output/my_3d_detection/results/my_3d_detection_1/point_associations\n"
          ]
        },
        {
          "output_type": "stream",
          "name": "stderr",
          "text": [
            "\n",
            "  0%|          | 0/1 [00:00<?, ?it/s]\u001b[A\n",
            " 37%|\u2588\u2588\u2588\u258b      | 10/27 [00:07<00:12,  1.40it/s]"
          ]
        },
        {
          "output_type": "stream",
          "name": "stdout",
          "text": [
            "[06:22:26.418068] Processing image: vol_010.tif\n"
          ]
        },
        {
          "output_type": "stream",
          "name": "stderr",
          "text": [
            "\n",
            "  0%|          | 0/1 [00:00<?, ?it/s]\u001b[A/usr/local/lib/python3.10/dist-packages/biapy/engine/base_workflow.py:2038: FutureWarning: `torch.cuda.amp.autocast(args...)` is deprecated. Please use `torch.amp.autocast('cuda', args...)` instead.\n",
            "  with torch.cuda.amp.autocast():\n",
            "\n",
            "                                     \u001b[A"
          ]
        },
        {
          "output_type": "stream",
          "name": "stdout",
          "text": [
            "[06:22:26.456093] Saving (1, 64, 64, 64, 1) data as .tif in folder: /content/output/my_3d_detection/results/my_3d_detection_1/per_image\n"
          ]
        },
        {
          "output_type": "stream",
          "name": "stderr",
          "text": [
            "\n",
            "  0%|          | 0/1 [00:00<?, ?it/s]\u001b[A\n",
            "                                     \u001b[A"
          ]
        },
        {
          "output_type": "stream",
          "name": "stdout",
          "text": [
            "[06:22:26.529971] Capturing the local maxima \n",
            "[06:22:26.531238] Class 1\n",
            "[06:22:26.586522] Removing close points . . .\n",
            "[06:22:26.587642] Initial number of points: 949\n",
            "[06:22:26.606463] Final number of points: 485\n",
            "[06:22:26.607746] Creating the images with detected points . . .\n",
            "[06:22:26.671578] Saving (1, 64, 64, 64, 1) data as .tif in folder: /content/output/my_3d_detection/results/my_3d_detection_1/point_associations\n"
          ]
        },
        {
          "output_type": "stream",
          "name": "stderr",
          "text": [
            "\n",
            "  0%|          | 0/1 [00:00<?, ?it/s]\u001b[A\n",
            "                                     \u001b[A"
          ]
        },
        {
          "output_type": "stream",
          "name": "stdout",
          "text": [
            "[06:22:26.735615] Saving (1, 64, 64, 64, 1) data as .tif in folder: /content/output/my_3d_detection/results/my_3d_detection_1/per_image_local_max_check\n"
          ]
        },
        {
          "output_type": "stream",
          "name": "stderr",
          "text": [
            "\n",
            "  0%|          | 0/1 [00:00<?, ?it/s]\u001b[A\n",
            "                                     \u001b[A"
          ]
        },
        {
          "output_type": "stream",
          "name": "stdout",
          "text": [
            "[06:22:26.771542] WARNING: The CSV file seems to have different name than image. Using the CSV file with the same position as the CSV in the directory. Check if it is correct!\n",
            "[06:22:26.772770] Its respective CSV file seems to be: /content/data/test/y/mask_010.csv\n",
            "[06:22:26.773583] Reading GT data from: /content/data/test/y/mask_010.csv\n",
            "[06:22:26.776706] Detection (class 1)\n",
            "[06:22:26.816743] Points in ground truth: 502, Points in prediction: 485\n",
            "[06:22:26.817798] True positives: 419, False positives: 66, False negatives: 83\n",
            "[06:22:26.818562] Detection metrics: {'Precision': 0.8639175257731959, 'Recall': 0.8346613545816733, 'F1': 0.8490374873353597, 'TP': 419, 'FP': 66, 'FN': 83}\n",
            "[06:22:26.826866] All classes 1\n",
            "[06:22:26.827646] Detection metrics: ['Precision', 0.8639175257731959, 'Recall', 0.8346613545816733, 'F1', 0.8490374873353597]\n",
            "[06:22:26.828315] Creating the image with a summary of detected points and false positives with colors . . .\n",
            "[06:22:27.205577] Saving (1, 64, 64, 64, 1) data as .tif in folder: /content/output/my_3d_detection/results/my_3d_detection_1/point_associations\n"
          ]
        },
        {
          "output_type": "stream",
          "name": "stderr",
          "text": [
            "\n",
            "  0%|          | 0/1 [00:00<?, ?it/s]\u001b[A\n",
            "                                     \u001b[A"
          ]
        },
        {
          "output_type": "stream",
          "name": "stdout",
          "text": [
            "[06:22:27.370822] Saving (1, 64, 64, 64, 3) data as .tif in folder: /content/output/my_3d_detection/results/my_3d_detection_1/point_associations\n"
          ]
        },
        {
          "output_type": "stream",
          "name": "stderr",
          "text": [
            "\n",
            "  0%|          | 0/1 [00:00<?, ?it/s]\u001b[A\n",
            " 41%|\u2588\u2588\u2588\u2588      | 11/27 [00:08<00:12,  1.25it/s]"
          ]
        },
        {
          "output_type": "stream",
          "name": "stdout",
          "text": [
            "[06:22:27.419531] Processing image: vol_011.tif\n"
          ]
        },
        {
          "output_type": "stream",
          "name": "stderr",
          "text": [
            "\n",
            "  0%|          | 0/1 [00:00<?, ?it/s]\u001b[A/usr/local/lib/python3.10/dist-packages/biapy/engine/base_workflow.py:2038: FutureWarning: `torch.cuda.amp.autocast(args...)` is deprecated. Please use `torch.amp.autocast('cuda', args...)` instead.\n",
            "  with torch.cuda.amp.autocast():\n",
            "\n",
            "                                     \u001b[A"
          ]
        },
        {
          "output_type": "stream",
          "name": "stdout",
          "text": [
            "[06:22:27.468236] Saving (1, 64, 64, 64, 1) data as .tif in folder: /content/output/my_3d_detection/results/my_3d_detection_1/per_image\n"
          ]
        },
        {
          "output_type": "stream",
          "name": "stderr",
          "text": [
            "\n",
            "  0%|          | 0/1 [00:00<?, ?it/s]\u001b[A\n",
            "                                     \u001b[A"
          ]
        },
        {
          "output_type": "stream",
          "name": "stdout",
          "text": [
            "[06:22:27.555285] Capturing the local maxima \n",
            "[06:22:27.556511] Class 1\n",
            "[06:22:27.598962] Removing close points . . .\n",
            "[06:22:27.600110] Initial number of points: 759\n",
            "[06:22:27.616616] Final number of points: 431\n",
            "[06:22:27.617794] Creating the images with detected points . . .\n",
            "[06:22:27.675629] Saving (1, 64, 64, 64, 1) data as .tif in folder: /content/output/my_3d_detection/results/my_3d_detection_1/point_associations\n"
          ]
        },
        {
          "output_type": "stream",
          "name": "stderr",
          "text": [
            "\n",
            "  0%|          | 0/1 [00:00<?, ?it/s]\u001b[A\n",
            "                                     \u001b[A"
          ]
        },
        {
          "output_type": "stream",
          "name": "stdout",
          "text": [
            "[06:22:27.743588] Saving (1, 64, 64, 64, 1) data as .tif in folder: /content/output/my_3d_detection/results/my_3d_detection_1/per_image_local_max_check\n"
          ]
        },
        {
          "output_type": "stream",
          "name": "stderr",
          "text": [
            "\n",
            "  0%|          | 0/1 [00:00<?, ?it/s]\u001b[A\n",
            "                                     \u001b[A"
          ]
        },
        {
          "output_type": "stream",
          "name": "stdout",
          "text": [
            "[06:22:27.785130] WARNING: The CSV file seems to have different name than image. Using the CSV file with the same position as the CSV in the directory. Check if it is correct!\n",
            "[06:22:27.786450] Its respective CSV file seems to be: /content/data/test/y/mask_011.csv\n",
            "[06:22:27.787196] Reading GT data from: /content/data/test/y/mask_011.csv\n",
            "[06:22:27.790788] Detection (class 1)\n",
            "[06:22:27.836644] Points in ground truth: 421, Points in prediction: 431\n",
            "[06:22:27.837857] True positives: 370, False positives: 61, False negatives: 51\n",
            "[06:22:27.838698] Detection metrics: {'Precision': 0.8584686774941995, 'Recall': 0.8788598574821853, 'F1': 0.8685446009389672, 'TP': 370, 'FP': 61, 'FN': 51}\n",
            "[06:22:27.850267] All classes 1\n",
            "[06:22:27.851190] Detection metrics: ['Precision', 0.8584686774941995, 'Recall', 0.8788598574821853, 'F1', 0.8685446009389672]\n",
            "[06:22:27.852159] Creating the image with a summary of detected points and false positives with colors . . .\n",
            "[06:22:28.206405] Saving (1, 64, 64, 64, 1) data as .tif in folder: /content/output/my_3d_detection/results/my_3d_detection_1/point_associations\n"
          ]
        },
        {
          "output_type": "stream",
          "name": "stderr",
          "text": [
            "\n",
            "  0%|          | 0/1 [00:00<?, ?it/s]\u001b[A\n",
            "                                     \u001b[A"
          ]
        },
        {
          "output_type": "stream",
          "name": "stdout",
          "text": [
            "[06:22:28.354016] Saving (1, 64, 64, 64, 3) data as .tif in folder: /content/output/my_3d_detection/results/my_3d_detection_1/point_associations\n"
          ]
        },
        {
          "output_type": "stream",
          "name": "stderr",
          "text": [
            "\n",
            "  0%|          | 0/1 [00:00<?, ?it/s]\u001b[A\n",
            " 44%|\u2588\u2588\u2588\u2588\u258d     | 12/27 [00:09<00:12,  1.17it/s]"
          ]
        },
        {
          "output_type": "stream",
          "name": "stdout",
          "text": [
            "[06:22:28.408449] Processing image: vol_012.tif\n"
          ]
        },
        {
          "output_type": "stream",
          "name": "stderr",
          "text": [
            "\n",
            "  0%|          | 0/1 [00:00<?, ?it/s]\u001b[A/usr/local/lib/python3.10/dist-packages/biapy/engine/base_workflow.py:2038: FutureWarning: `torch.cuda.amp.autocast(args...)` is deprecated. Please use `torch.amp.autocast('cuda', args...)` instead.\n",
            "  with torch.cuda.amp.autocast():\n",
            "\n",
            "                                     \u001b[A"
          ]
        },
        {
          "output_type": "stream",
          "name": "stdout",
          "text": [
            "[06:22:28.446934] Saving (1, 64, 64, 64, 1) data as .tif in folder: /content/output/my_3d_detection/results/my_3d_detection_1/per_image\n"
          ]
        },
        {
          "output_type": "stream",
          "name": "stderr",
          "text": [
            "\n",
            "  0%|          | 0/1 [00:00<?, ?it/s]\u001b[A\n",
            "                                     \u001b[A"
          ]
        },
        {
          "output_type": "stream",
          "name": "stdout",
          "text": [
            "[06:22:28.512788] Capturing the local maxima \n",
            "[06:22:28.514169] Class 1\n",
            "[06:22:28.571332] Removing close points . . .\n",
            "[06:22:28.572627] Initial number of points: 870\n",
            "[06:22:28.597522] Final number of points: 506\n",
            "[06:22:28.601661] Creating the images with detected points . . .\n",
            "[06:22:28.658450] Saving (1, 64, 64, 64, 1) data as .tif in folder: /content/output/my_3d_detection/results/my_3d_detection_1/point_associations\n"
          ]
        },
        {
          "output_type": "stream",
          "name": "stderr",
          "text": [
            "\n",
            "  0%|          | 0/1 [00:00<?, ?it/s]\u001b[A\n",
            "                                     \u001b[A"
          ]
        },
        {
          "output_type": "stream",
          "name": "stdout",
          "text": [
            "[06:22:28.729922] Saving (1, 64, 64, 64, 1) data as .tif in folder: /content/output/my_3d_detection/results/my_3d_detection_1/per_image_local_max_check\n"
          ]
        },
        {
          "output_type": "stream",
          "name": "stderr",
          "text": [
            "\n",
            "  0%|          | 0/1 [00:00<?, ?it/s]\u001b[A\n",
            "                                     \u001b[A"
          ]
        },
        {
          "output_type": "stream",
          "name": "stdout",
          "text": [
            "[06:22:28.768067] WARNING: The CSV file seems to have different name than image. Using the CSV file with the same position as the CSV in the directory. Check if it is correct!\n",
            "[06:22:28.769326] Its respective CSV file seems to be: /content/data/test/y/mask_012.csv\n",
            "[06:22:28.770176] Reading GT data from: /content/data/test/y/mask_012.csv\n",
            "[06:22:28.774441] Detection (class 1)\n",
            "[06:22:28.820221] Points in ground truth: 565, Points in prediction: 506\n",
            "[06:22:28.821209] True positives: 475, False positives: 31, False negatives: 90\n",
            "[06:22:28.822018] Detection metrics: {'Precision': 0.9387351778656127, 'Recall': 0.8407079646017699, 'F1': 0.8870214752567693, 'TP': 475, 'FP': 31, 'FN': 90}\n",
            "[06:22:28.830527] All classes 1\n",
            "[06:22:28.831416] Detection metrics: ['Precision', 0.9387351778656127, 'Recall', 0.8407079646017699, 'F1', 0.8870214752567693]\n",
            "[06:22:28.832191] Creating the image with a summary of detected points and false positives with colors . . .\n",
            "[06:22:29.303332] Saving (1, 64, 64, 64, 1) data as .tif in folder: /content/output/my_3d_detection/results/my_3d_detection_1/point_associations\n"
          ]
        },
        {
          "output_type": "stream",
          "name": "stderr",
          "text": [
            "\n",
            "  0%|          | 0/1 [00:00<?, ?it/s]\u001b[A\n",
            "                                     \u001b[A"
          ]
        },
        {
          "output_type": "stream",
          "name": "stdout",
          "text": [
            "[06:22:29.467527] Saving (1, 64, 64, 64, 3) data as .tif in folder: /content/output/my_3d_detection/results/my_3d_detection_1/point_associations\n"
          ]
        },
        {
          "output_type": "stream",
          "name": "stderr",
          "text": [
            "\n",
            "  0%|          | 0/1 [00:00<?, ?it/s]\u001b[A\n",
            " 48%|\u2588\u2588\u2588\u2588\u258a     | 13/27 [00:10<00:13,  1.07it/s]"
          ]
        },
        {
          "output_type": "stream",
          "name": "stdout",
          "text": [
            "[06:22:29.505332] Processing image: vol_013.tif\n"
          ]
        },
        {
          "output_type": "stream",
          "name": "stderr",
          "text": [
            "\n",
            "  0%|          | 0/1 [00:00<?, ?it/s]\u001b[A/usr/local/lib/python3.10/dist-packages/biapy/engine/base_workflow.py:2038: FutureWarning: `torch.cuda.amp.autocast(args...)` is deprecated. Please use `torch.amp.autocast('cuda', args...)` instead.\n",
            "  with torch.cuda.amp.autocast():\n",
            "\n",
            "                                     \u001b[A"
          ]
        },
        {
          "output_type": "stream",
          "name": "stdout",
          "text": [
            "[06:22:29.544605] Saving (1, 64, 64, 64, 1) data as .tif in folder: /content/output/my_3d_detection/results/my_3d_detection_1/per_image\n"
          ]
        },
        {
          "output_type": "stream",
          "name": "stderr",
          "text": [
            "\n",
            "  0%|          | 0/1 [00:00<?, ?it/s]\u001b[A\n",
            "                                     \u001b[A"
          ]
        },
        {
          "output_type": "stream",
          "name": "stdout",
          "text": [
            "[06:22:29.620493] Capturing the local maxima \n",
            "[06:22:29.621823] Class 1\n",
            "[06:22:29.677289] Removing close points . . .\n",
            "[06:22:29.678694] Initial number of points: 562\n",
            "[06:22:29.692193] Final number of points: 372\n",
            "[06:22:29.693462] Creating the images with detected points . . .\n",
            "[06:22:29.742877] Saving (1, 64, 64, 64, 1) data as .tif in folder: /content/output/my_3d_detection/results/my_3d_detection_1/point_associations\n"
          ]
        },
        {
          "output_type": "stream",
          "name": "stderr",
          "text": [
            "\n",
            "  0%|          | 0/1 [00:00<?, ?it/s]\u001b[A\n",
            "                                     \u001b[A"
          ]
        },
        {
          "output_type": "stream",
          "name": "stdout",
          "text": [
            "[06:22:29.815184] Saving (1, 64, 64, 64, 1) data as .tif in folder: /content/output/my_3d_detection/results/my_3d_detection_1/per_image_local_max_check\n"
          ]
        },
        {
          "output_type": "stream",
          "name": "stderr",
          "text": [
            "\n",
            "  0%|          | 0/1 [00:00<?, ?it/s]\u001b[A\n",
            "                                     \u001b[A"
          ]
        },
        {
          "output_type": "stream",
          "name": "stdout",
          "text": [
            "[06:22:29.855601] WARNING: The CSV file seems to have different name than image. Using the CSV file with the same position as the CSV in the directory. Check if it is correct!\n",
            "[06:22:29.855735] Its respective CSV file seems to be: /content/data/test/y/mask_013.csv\n",
            "[06:22:29.855796] Reading GT data from: /content/data/test/y/mask_013.csv\n",
            "[06:22:29.861270] Detection (class 1)\n",
            "[06:22:29.892244] Points in ground truth: 388, Points in prediction: 372\n",
            "[06:22:29.893840] True positives: 338, False positives: 34, False negatives: 50\n",
            "[06:22:29.893970] Detection metrics: {'Precision': 0.9086021505376344, 'Recall': 0.8711340206185567, 'F1': 0.8894736842105262, 'TP': 338, 'FP': 34, 'FN': 50}\n",
            "[06:22:29.901606] All classes 1\n",
            "[06:22:29.901717] Detection metrics: ['Precision', 0.9086021505376344, 'Recall', 0.8711340206185567, 'F1', 0.8894736842105262]\n",
            "[06:22:29.901784] Creating the image with a summary of detected points and false positives with colors . . .\n",
            "[06:22:30.316182] Saving (1, 64, 64, 64, 1) data as .tif in folder: /content/output/my_3d_detection/results/my_3d_detection_1/point_associations\n"
          ]
        },
        {
          "output_type": "stream",
          "name": "stderr",
          "text": [
            "\n",
            "  0%|          | 0/1 [00:00<?, ?it/s]\u001b[A\n",
            "                                     \u001b[A"
          ]
        },
        {
          "output_type": "stream",
          "name": "stdout",
          "text": [
            "[06:22:30.446098] Saving (1, 64, 64, 64, 3) data as .tif in folder: /content/output/my_3d_detection/results/my_3d_detection_1/point_associations\n"
          ]
        },
        {
          "output_type": "stream",
          "name": "stderr",
          "text": [
            "\n",
            "  0%|          | 0/1 [00:00<?, ?it/s]\u001b[A\n",
            " 52%|\u2588\u2588\u2588\u2588\u2588\u258f    | 14/27 [00:11<00:12,  1.06it/s]"
          ]
        },
        {
          "output_type": "stream",
          "name": "stdout",
          "text": [
            "[06:22:30.483037] Processing image: vol_014.tif\n"
          ]
        },
        {
          "output_type": "stream",
          "name": "stderr",
          "text": [
            "\n",
            "  0%|          | 0/1 [00:00<?, ?it/s]\u001b[A/usr/local/lib/python3.10/dist-packages/biapy/engine/base_workflow.py:2038: FutureWarning: `torch.cuda.amp.autocast(args...)` is deprecated. Please use `torch.amp.autocast('cuda', args...)` instead.\n",
            "  with torch.cuda.amp.autocast():\n",
            "\n",
            "                                     \u001b[A"
          ]
        },
        {
          "output_type": "stream",
          "name": "stdout",
          "text": [
            "[06:22:30.520633] Saving (1, 64, 64, 64, 1) data as .tif in folder: /content/output/my_3d_detection/results/my_3d_detection_1/per_image\n"
          ]
        },
        {
          "output_type": "stream",
          "name": "stderr",
          "text": [
            "\n",
            "  0%|          | 0/1 [00:00<?, ?it/s]\u001b[A\n",
            "                                     \u001b[A"
          ]
        },
        {
          "output_type": "stream",
          "name": "stdout",
          "text": [
            "[06:22:30.580390] Capturing the local maxima \n",
            "[06:22:30.580496] Class 1\n",
            "[06:22:30.599340] Removing close points . . .\n",
            "[06:22:30.599418] Initial number of points: 128\n",
            "[06:22:30.602294] Final number of points: 81\n",
            "[06:22:30.602430] Creating the images with detected points . . .\n",
            "[06:22:30.629705] Saving (1, 64, 64, 64, 1) data as .tif in folder: /content/output/my_3d_detection/results/my_3d_detection_1/point_associations\n"
          ]
        },
        {
          "output_type": "stream",
          "name": "stderr",
          "text": [
            "\n",
            "  0%|          | 0/1 [00:00<?, ?it/s]\u001b[A\n",
            "                                     \u001b[A"
          ]
        },
        {
          "output_type": "stream",
          "name": "stdout",
          "text": [
            "[06:22:30.699723] Saving (1, 64, 64, 64, 1) data as .tif in folder: /content/output/my_3d_detection/results/my_3d_detection_1/per_image_local_max_check\n"
          ]
        },
        {
          "output_type": "stream",
          "name": "stderr",
          "text": [
            "\n",
            "  0%|          | 0/1 [00:00<?, ?it/s]\u001b[A\n",
            "                                     \u001b[A"
          ]
        },
        {
          "output_type": "stream",
          "name": "stdout",
          "text": [
            "[06:22:30.728050] WARNING: The CSV file seems to have different name than image. Using the CSV file with the same position as the CSV in the directory. Check if it is correct!\n",
            "[06:22:30.728151] Its respective CSV file seems to be: /content/data/test/y/mask_014.csv\n",
            "[06:22:30.728196] Reading GT data from: /content/data/test/y/mask_014.csv\n",
            "[06:22:30.733828] Detection (class 1)\n",
            "[06:22:30.738534] Points in ground truth: 71, Points in prediction: 81\n",
            "[06:22:30.739532] True positives: 63, False positives: 18, False negatives: 8\n",
            "[06:22:30.740428] Detection metrics: {'Precision': 0.7777777777777778, 'Recall': 0.8873239436619719, 'F1': 0.8289473684210527, 'TP': 63, 'FP': 18, 'FN': 8}\n",
            "[06:22:30.744830] All classes 1\n",
            "[06:22:30.745874] Detection metrics: ['Precision', 0.7777777777777778, 'Recall', 0.8873239436619719, 'F1', 0.8289473684210527]\n",
            "[06:22:30.746856] Creating the image with a summary of detected points and false positives with colors . . .\n",
            "[06:22:30.821038] Saving (1, 64, 64, 64, 1) data as .tif in folder: /content/output/my_3d_detection/results/my_3d_detection_1/point_associations\n"
          ]
        },
        {
          "output_type": "stream",
          "name": "stderr",
          "text": [
            "\n",
            "  0%|          | 0/1 [00:00<?, ?it/s]\u001b[A\n",
            "                                     \u001b[A"
          ]
        },
        {
          "output_type": "stream",
          "name": "stdout",
          "text": [
            "[06:22:30.924157] Saving (1, 64, 64, 64, 3) data as .tif in folder: /content/output/my_3d_detection/results/my_3d_detection_1/point_associations\n"
          ]
        },
        {
          "output_type": "stream",
          "name": "stderr",
          "text": [
            "\n",
            "  0%|          | 0/1 [00:00<?, ?it/s]\u001b[A\n",
            " 56%|\u2588\u2588\u2588\u2588\u2588\u258c    | 15/27 [00:11<00:09,  1.24it/s]"
          ]
        },
        {
          "output_type": "stream",
          "name": "stdout",
          "text": [
            "[06:22:30.963115] Processing image: vol_015.tif\n"
          ]
        },
        {
          "output_type": "stream",
          "name": "stderr",
          "text": [
            "\n",
            "  0%|          | 0/1 [00:00<?, ?it/s]\u001b[A/usr/local/lib/python3.10/dist-packages/biapy/engine/base_workflow.py:2038: FutureWarning: `torch.cuda.amp.autocast(args...)` is deprecated. Please use `torch.amp.autocast('cuda', args...)` instead.\n",
            "  with torch.cuda.amp.autocast():\n",
            "\n",
            "                                     \u001b[A"
          ]
        },
        {
          "output_type": "stream",
          "name": "stdout",
          "text": [
            "[06:22:31.007758] Saving (1, 64, 64, 64, 1) data as .tif in folder: /content/output/my_3d_detection/results/my_3d_detection_1/per_image\n"
          ]
        },
        {
          "output_type": "stream",
          "name": "stderr",
          "text": [
            "\n",
            "  0%|          | 0/1 [00:00<?, ?it/s]\u001b[A\n",
            "                                     \u001b[A"
          ]
        },
        {
          "output_type": "stream",
          "name": "stdout",
          "text": [
            "[06:22:31.077460] Capturing the local maxima \n",
            "[06:22:31.079561] Class 1\n",
            "[06:22:31.106341] Removing close points . . .\n",
            "[06:22:31.107915] Initial number of points: 311\n",
            "[06:22:31.114540] Final number of points: 176\n",
            "[06:22:31.116758] Creating the images with detected points . . .\n",
            "[06:22:31.163019] Saving (1, 64, 64, 64, 1) data as .tif in folder: /content/output/my_3d_detection/results/my_3d_detection_1/point_associations\n"
          ]
        },
        {
          "output_type": "stream",
          "name": "stderr",
          "text": [
            "\n",
            "  0%|          | 0/1 [00:00<?, ?it/s]\u001b[A\n",
            "                                     \u001b[A"
          ]
        },
        {
          "output_type": "stream",
          "name": "stdout",
          "text": [
            "[06:22:31.240445] Saving (1, 64, 64, 64, 1) data as .tif in folder: /content/output/my_3d_detection/results/my_3d_detection_1/per_image_local_max_check\n"
          ]
        },
        {
          "output_type": "stream",
          "name": "stderr",
          "text": [
            "\n",
            "  0%|          | 0/1 [00:00<?, ?it/s]\u001b[A\n",
            "                                     \u001b[A"
          ]
        },
        {
          "output_type": "stream",
          "name": "stdout",
          "text": [
            "[06:22:31.275688] WARNING: The CSV file seems to have different name than image. Using the CSV file with the same position as the CSV in the directory. Check if it is correct!\n",
            "[06:22:31.276738] Its respective CSV file seems to be: /content/data/test/y/mask_015.csv\n",
            "[06:22:31.276808] Reading GT data from: /content/data/test/y/mask_015.csv\n",
            "[06:22:31.282576] Detection (class 1)\n",
            "[06:22:31.293413] Points in ground truth: 163, Points in prediction: 176\n",
            "[06:22:31.293510] True positives: 147, False positives: 29, False negatives: 16\n",
            "[06:22:31.293599] Detection metrics: {'Precision': 0.8352272727272727, 'Recall': 0.901840490797546, 'F1': 0.8672566371681416, 'TP': 147, 'FP': 29, 'FN': 16}\n",
            "[06:22:31.301656] All classes 1\n",
            "[06:22:31.301770] Detection metrics: ['Precision', 0.8352272727272727, 'Recall', 0.901840490797546, 'F1', 0.8672566371681416]\n",
            "[06:22:31.301840] Creating the image with a summary of detected points and false positives with colors . . .\n",
            "[06:22:31.407776] Saving (1, 64, 64, 64, 1) data as .tif in folder: /content/output/my_3d_detection/results/my_3d_detection_1/point_associations\n"
          ]
        },
        {
          "output_type": "stream",
          "name": "stderr",
          "text": [
            "\n",
            "  0%|          | 0/1 [00:00<?, ?it/s]\u001b[A\n",
            "                                     \u001b[A"
          ]
        },
        {
          "output_type": "stream",
          "name": "stdout",
          "text": [
            "[06:22:31.511409] Saving (1, 64, 64, 64, 3) data as .tif in folder: /content/output/my_3d_detection/results/my_3d_detection_1/point_associations\n"
          ]
        },
        {
          "output_type": "stream",
          "name": "stderr",
          "text": [
            "\n",
            "  0%|          | 0/1 [00:00<?, ?it/s]\u001b[A\n",
            " 59%|\u2588\u2588\u2588\u2588\u2588\u2589    | 16/27 [00:12<00:08,  1.35it/s]"
          ]
        },
        {
          "output_type": "stream",
          "name": "stdout",
          "text": [
            "[06:22:31.547873] Processing image: vol_016.tif\n"
          ]
        },
        {
          "output_type": "stream",
          "name": "stderr",
          "text": [
            "\n",
            "  0%|          | 0/1 [00:00<?, ?it/s]\u001b[A/usr/local/lib/python3.10/dist-packages/biapy/engine/base_workflow.py:2038: FutureWarning: `torch.cuda.amp.autocast(args...)` is deprecated. Please use `torch.amp.autocast('cuda', args...)` instead.\n",
            "  with torch.cuda.amp.autocast():\n",
            "\n",
            "                                     \u001b[A"
          ]
        },
        {
          "output_type": "stream",
          "name": "stdout",
          "text": [
            "[06:22:31.587865] Saving (1, 64, 64, 64, 1) data as .tif in folder: /content/output/my_3d_detection/results/my_3d_detection_1/per_image\n"
          ]
        },
        {
          "output_type": "stream",
          "name": "stderr",
          "text": [
            "\n",
            "  0%|          | 0/1 [00:00<?, ?it/s]\u001b[A\n",
            "                                     \u001b[A"
          ]
        },
        {
          "output_type": "stream",
          "name": "stdout",
          "text": [
            "[06:22:31.649565] Capturing the local maxima \n",
            "[06:22:31.650813] Class 1\n",
            "[06:22:31.686136] Removing close points . . .\n",
            "[06:22:31.686247] Initial number of points: 688\n",
            "[06:22:31.694758] Final number of points: 377\n",
            "[06:22:31.695089] Creating the images with detected points . . .\n",
            "[06:22:31.739182] Saving (1, 64, 64, 64, 1) data as .tif in folder: /content/output/my_3d_detection/results/my_3d_detection_1/point_associations\n"
          ]
        },
        {
          "output_type": "stream",
          "name": "stderr",
          "text": [
            "\n",
            "  0%|          | 0/1 [00:00<?, ?it/s]\u001b[A\n",
            "                                     \u001b[A"
          ]
        },
        {
          "output_type": "stream",
          "name": "stdout",
          "text": [
            "[06:22:31.799873] Saving (1, 64, 64, 64, 1) data as .tif in folder: /content/output/my_3d_detection/results/my_3d_detection_1/per_image_local_max_check\n"
          ]
        },
        {
          "output_type": "stream",
          "name": "stderr",
          "text": [
            "\n",
            "  0%|          | 0/1 [00:00<?, ?it/s]\u001b[A\n",
            "                                     \u001b[A"
          ]
        },
        {
          "output_type": "stream",
          "name": "stdout",
          "text": [
            "[06:22:31.830607] WARNING: The CSV file seems to have different name than image. Using the CSV file with the same position as the CSV in the directory. Check if it is correct!\n",
            "[06:22:31.831957] Its respective CSV file seems to be: /content/data/test/y/mask_016.csv\n",
            "[06:22:31.832918] Reading GT data from: /content/data/test/y/mask_016.csv\n",
            "[06:22:31.836147] Detection (class 1)\n",
            "[06:22:31.857039] Points in ground truth: 337, Points in prediction: 377\n",
            "[06:22:31.858267] True positives: 285, False positives: 92, False negatives: 52\n",
            "[06:22:31.859068] Detection metrics: {'Precision': 0.7559681697612732, 'Recall': 0.8456973293768546, 'F1': 0.7983193277310925, 'TP': 285, 'FP': 92, 'FN': 52}\n",
            "[06:22:31.864501] All classes 1\n",
            "[06:22:31.864595] Detection metrics: ['Precision', 0.7559681697612732, 'Recall', 0.8456973293768546, 'F1', 0.7983193277310925]\n",
            "[06:22:31.864658] Creating the image with a summary of detected points and false positives with colors . . .\n",
            "[06:22:32.074095] Saving (1, 64, 64, 64, 1) data as .tif in folder: /content/output/my_3d_detection/results/my_3d_detection_1/point_associations\n"
          ]
        },
        {
          "output_type": "stream",
          "name": "stderr",
          "text": [
            "\n",
            "  0%|          | 0/1 [00:00<?, ?it/s]\u001b[A\n",
            "                                     \u001b[A"
          ]
        },
        {
          "output_type": "stream",
          "name": "stdout",
          "text": [
            "[06:22:32.209894] Saving (1, 64, 64, 64, 3) data as .tif in folder: /content/output/my_3d_detection/results/my_3d_detection_1/point_associations\n"
          ]
        },
        {
          "output_type": "stream",
          "name": "stderr",
          "text": [
            "\n",
            "  0%|          | 0/1 [00:00<?, ?it/s]\u001b[A\n",
            " 63%|\u2588\u2588\u2588\u2588\u2588\u2588\u258e   | 17/27 [00:13<00:07,  1.38it/s]"
          ]
        },
        {
          "output_type": "stream",
          "name": "stdout",
          "text": [
            "[06:22:32.247251] Processing image: vol_017.tif\n"
          ]
        },
        {
          "output_type": "stream",
          "name": "stderr",
          "text": [
            "\n",
            "  0%|          | 0/1 [00:00<?, ?it/s]\u001b[A/usr/local/lib/python3.10/dist-packages/biapy/engine/base_workflow.py:2038: FutureWarning: `torch.cuda.amp.autocast(args...)` is deprecated. Please use `torch.amp.autocast('cuda', args...)` instead.\n",
            "  with torch.cuda.amp.autocast():\n",
            "\n",
            "                                     \u001b[A"
          ]
        },
        {
          "output_type": "stream",
          "name": "stdout",
          "text": [
            "[06:22:32.284996] Saving (1, 64, 64, 64, 1) data as .tif in folder: /content/output/my_3d_detection/results/my_3d_detection_1/per_image\n"
          ]
        },
        {
          "output_type": "stream",
          "name": "stderr",
          "text": [
            "\n",
            "  0%|          | 0/1 [00:00<?, ?it/s]\u001b[A\n",
            "                                     \u001b[A"
          ]
        },
        {
          "output_type": "stream",
          "name": "stdout",
          "text": [
            "[06:22:32.345039] Capturing the local maxima \n",
            "[06:22:32.346393] Class 1\n",
            "[06:22:32.385211] Removing close points . . .\n",
            "[06:22:32.385320] Initial number of points: 885\n",
            "[06:22:32.395957] Final number of points: 408\n",
            "[06:22:32.396337] Creating the images with detected points . . .\n",
            "[06:22:32.430056] Saving (1, 64, 64, 64, 1) data as .tif in folder: /content/output/my_3d_detection/results/my_3d_detection_1/point_associations\n"
          ]
        },
        {
          "output_type": "stream",
          "name": "stderr",
          "text": [
            "\n",
            "  0%|          | 0/1 [00:00<?, ?it/s]\u001b[A\n",
            "                                     \u001b[A"
          ]
        },
        {
          "output_type": "stream",
          "name": "stdout",
          "text": [
            "[06:22:32.493768] Saving (1, 64, 64, 64, 1) data as .tif in folder: /content/output/my_3d_detection/results/my_3d_detection_1/per_image_local_max_check\n"
          ]
        },
        {
          "output_type": "stream",
          "name": "stderr",
          "text": [
            "\n",
            "  0%|          | 0/1 [00:00<?, ?it/s]\u001b[A\n",
            "                                     \u001b[A"
          ]
        },
        {
          "output_type": "stream",
          "name": "stdout",
          "text": [
            "[06:22:32.525062] WARNING: The CSV file seems to have different name than image. Using the CSV file with the same position as the CSV in the directory. Check if it is correct!\n",
            "[06:22:32.526111] Its respective CSV file seems to be: /content/data/test/y/mask_017.csv\n",
            "[06:22:32.526748] Reading GT data from: /content/data/test/y/mask_017.csv\n",
            "[06:22:32.529432] Detection (class 1)\n",
            "[06:22:32.551887] Points in ground truth: 286, Points in prediction: 408\n",
            "[06:22:32.553033] True positives: 250, False positives: 158, False negatives: 36\n",
            "[06:22:32.553905] Detection metrics: {'Precision': 0.6127450980392157, 'Recall': 0.8741258741258742, 'F1': 0.7204610951008646, 'TP': 250, 'FP': 158, 'FN': 36}\n",
            "[06:22:32.558734] All classes 1\n",
            "[06:22:32.558822] Detection metrics: ['Precision', 0.6127450980392157, 'Recall', 0.8741258741258742, 'F1', 0.7204610951008646]\n",
            "[06:22:32.558884] Creating the image with a summary of detected points and false positives with colors . . .\n",
            "[06:22:32.735980] Saving (1, 64, 64, 64, 1) data as .tif in folder: /content/output/my_3d_detection/results/my_3d_detection_1/point_associations\n"
          ]
        },
        {
          "output_type": "stream",
          "name": "stderr",
          "text": [
            "\n",
            "  0%|          | 0/1 [00:00<?, ?it/s]\u001b[A\n",
            "                                     \u001b[A"
          ]
        },
        {
          "output_type": "stream",
          "name": "stdout",
          "text": [
            "[06:22:32.852862] Saving (1, 64, 64, 64, 3) data as .tif in folder: /content/output/my_3d_detection/results/my_3d_detection_1/point_associations\n"
          ]
        },
        {
          "output_type": "stream",
          "name": "stderr",
          "text": [
            "\n",
            "  0%|          | 0/1 [00:00<?, ?it/s]\u001b[A\n",
            " 67%|\u2588\u2588\u2588\u2588\u2588\u2588\u258b   | 18/27 [00:13<00:06,  1.43it/s]"
          ]
        },
        {
          "output_type": "stream",
          "name": "stdout",
          "text": [
            "[06:22:32.887546] Processing image: vol_018.tif\n"
          ]
        },
        {
          "output_type": "stream",
          "name": "stderr",
          "text": [
            "\n",
            "  0%|          | 0/1 [00:00<?, ?it/s]\u001b[A/usr/local/lib/python3.10/dist-packages/biapy/engine/base_workflow.py:2038: FutureWarning: `torch.cuda.amp.autocast(args...)` is deprecated. Please use `torch.amp.autocast('cuda', args...)` instead.\n",
            "  with torch.cuda.amp.autocast():\n",
            "\n",
            "                                     \u001b[A"
          ]
        },
        {
          "output_type": "stream",
          "name": "stdout",
          "text": [
            "[06:22:32.924023] Saving (1, 64, 64, 64, 1) data as .tif in folder: /content/output/my_3d_detection/results/my_3d_detection_1/per_image\n"
          ]
        },
        {
          "output_type": "stream",
          "name": "stderr",
          "text": [
            "\n",
            "  0%|          | 0/1 [00:00<?, ?it/s]\u001b[A\n",
            "                                     \u001b[A"
          ]
        },
        {
          "output_type": "stream",
          "name": "stdout",
          "text": [
            "[06:22:32.996244] Capturing the local maxima \n",
            "[06:22:32.997782] Class 1\n",
            "[06:22:33.037098] Removing close points . . .\n",
            "[06:22:33.038336] Initial number of points: 519\n",
            "[06:22:33.050876] Final number of points: 302\n",
            "[06:22:33.052338] Creating the images with detected points . . .\n",
            "[06:22:33.103983] Saving (1, 64, 64, 64, 1) data as .tif in folder: /content/output/my_3d_detection/results/my_3d_detection_1/point_associations\n"
          ]
        },
        {
          "output_type": "stream",
          "name": "stderr",
          "text": [
            "\n",
            "  0%|          | 0/1 [00:00<?, ?it/s]\u001b[A\n",
            "                                     \u001b[A"
          ]
        },
        {
          "output_type": "stream",
          "name": "stdout",
          "text": [
            "[06:22:33.176847] Saving (1, 64, 64, 64, 1) data as .tif in folder: /content/output/my_3d_detection/results/my_3d_detection_1/per_image_local_max_check\n"
          ]
        },
        {
          "output_type": "stream",
          "name": "stderr",
          "text": [
            "\n",
            "  0%|          | 0/1 [00:00<?, ?it/s]\u001b[A\n",
            "                                     \u001b[A"
          ]
        },
        {
          "output_type": "stream",
          "name": "stdout",
          "text": [
            "[06:22:33.218851] WARNING: The CSV file seems to have different name than image. Using the CSV file with the same position as the CSV in the directory. Check if it is correct!\n",
            "[06:22:33.219006] Its respective CSV file seems to be: /content/data/test/y/mask_018.csv\n",
            "[06:22:33.219068] Reading GT data from: /content/data/test/y/mask_018.csv\n",
            "[06:22:33.225092] Detection (class 1)\n",
            "[06:22:33.244823] Points in ground truth: 307, Points in prediction: 302\n",
            "[06:22:33.246009] True positives: 268, False positives: 34, False negatives: 39\n",
            "[06:22:33.246106] Detection metrics: {'Precision': 0.8874172185430463, 'Recall': 0.8729641693811075, 'F1': 0.8801313628899836, 'TP': 268, 'FP': 34, 'FN': 39}\n",
            "[06:22:33.252609] All classes 1\n",
            "[06:22:33.252721] Detection metrics: ['Precision', 0.8874172185430463, 'Recall', 0.8729641693811075, 'F1', 0.8801313628899836]\n",
            "[06:22:33.252783] Creating the image with a summary of detected points and false positives with colors . . .\n",
            "[06:22:33.462236] Saving (1, 64, 64, 64, 1) data as .tif in folder: /content/output/my_3d_detection/results/my_3d_detection_1/point_associations\n"
          ]
        },
        {
          "output_type": "stream",
          "name": "stderr",
          "text": [
            "\n",
            "  0%|          | 0/1 [00:00<?, ?it/s]\u001b[A\n",
            "                                     \u001b[A"
          ]
        },
        {
          "output_type": "stream",
          "name": "stdout",
          "text": [
            "[06:22:33.567980] Saving (1, 64, 64, 64, 3) data as .tif in folder: /content/output/my_3d_detection/results/my_3d_detection_1/point_associations\n"
          ]
        },
        {
          "output_type": "stream",
          "name": "stderr",
          "text": [
            "\n",
            "  0%|          | 0/1 [00:00<?, ?it/s]\u001b[A\n",
            " 70%|\u2588\u2588\u2588\u2588\u2588\u2588\u2588   | 19/27 [00:14<00:05,  1.42it/s]"
          ]
        },
        {
          "output_type": "stream",
          "name": "stdout",
          "text": [
            "[06:22:33.602548] Processing image: vol_019.tif\n"
          ]
        },
        {
          "output_type": "stream",
          "name": "stderr",
          "text": [
            "\n",
            "  0%|          | 0/1 [00:00<?, ?it/s]\u001b[A/usr/local/lib/python3.10/dist-packages/biapy/engine/base_workflow.py:2038: FutureWarning: `torch.cuda.amp.autocast(args...)` is deprecated. Please use `torch.amp.autocast('cuda', args...)` instead.\n",
            "  with torch.cuda.amp.autocast():\n",
            "\n",
            "                                     \u001b[A"
          ]
        },
        {
          "output_type": "stream",
          "name": "stdout",
          "text": [
            "[06:22:33.641550] Saving (1, 64, 64, 64, 1) data as .tif in folder: /content/output/my_3d_detection/results/my_3d_detection_1/per_image\n"
          ]
        },
        {
          "output_type": "stream",
          "name": "stderr",
          "text": [
            "\n",
            "  0%|          | 0/1 [00:00<?, ?it/s]\u001b[A\n",
            "                                     \u001b[A"
          ]
        },
        {
          "output_type": "stream",
          "name": "stdout",
          "text": [
            "[06:22:33.709691] Capturing the local maxima \n",
            "[06:22:33.710942] Class 1\n",
            "[06:22:33.736451] Removing close points . . .\n",
            "[06:22:33.736534] Initial number of points: 467\n",
            "[06:22:33.742537] Final number of points: 303\n",
            "[06:22:33.742755] Creating the images with detected points . . .\n",
            "[06:22:33.770057] Saving (1, 64, 64, 64, 1) data as .tif in folder: /content/output/my_3d_detection/results/my_3d_detection_1/point_associations\n"
          ]
        },
        {
          "output_type": "stream",
          "name": "stderr",
          "text": [
            "\n",
            "  0%|          | 0/1 [00:00<?, ?it/s]\u001b[A\n",
            "                                     \u001b[A"
          ]
        },
        {
          "output_type": "stream",
          "name": "stdout",
          "text": [
            "[06:22:33.841139] Saving (1, 64, 64, 64, 1) data as .tif in folder: /content/output/my_3d_detection/results/my_3d_detection_1/per_image_local_max_check\n"
          ]
        },
        {
          "output_type": "stream",
          "name": "stderr",
          "text": [
            "\n",
            "  0%|          | 0/1 [00:00<?, ?it/s]\u001b[A\n",
            "                                     \u001b[A"
          ]
        },
        {
          "output_type": "stream",
          "name": "stdout",
          "text": [
            "[06:22:33.873355] WARNING: The CSV file seems to have different name than image. Using the CSV file with the same position as the CSV in the directory. Check if it is correct!\n",
            "[06:22:33.874500] Its respective CSV file seems to be: /content/data/test/y/mask_019.csv\n",
            "[06:22:33.875370] Reading GT data from: /content/data/test/y/mask_019.csv\n",
            "[06:22:33.878719] Detection (class 1)\n",
            "[06:22:33.893665] Points in ground truth: 326, Points in prediction: 303\n",
            "[06:22:33.894459] True positives: 283, False positives: 20, False negatives: 43\n",
            "[06:22:33.895250] Detection metrics: {'Precision': 0.933993399339934, 'Recall': 0.8680981595092024, 'F1': 0.8998410174880763, 'TP': 283, 'FP': 20, 'FN': 43}\n",
            "[06:22:33.901523] All classes 1\n",
            "[06:22:33.902394] Detection metrics: ['Precision', 0.933993399339934, 'Recall', 0.8680981595092024, 'F1', 0.8998410174880763]\n",
            "[06:22:33.903105] Creating the image with a summary of detected points and false positives with colors . . .\n",
            "[06:22:34.129868] Saving (1, 64, 64, 64, 1) data as .tif in folder: /content/output/my_3d_detection/results/my_3d_detection_1/point_associations\n"
          ]
        },
        {
          "output_type": "stream",
          "name": "stderr",
          "text": [
            "\n",
            "  0%|          | 0/1 [00:00<?, ?it/s]\u001b[A\n",
            "                                     \u001b[A"
          ]
        },
        {
          "output_type": "stream",
          "name": "stdout",
          "text": [
            "[06:22:34.240893] Saving (1, 64, 64, 64, 3) data as .tif in folder: /content/output/my_3d_detection/results/my_3d_detection_1/point_associations\n"
          ]
        },
        {
          "output_type": "stream",
          "name": "stderr",
          "text": [
            "\n",
            "  0%|          | 0/1 [00:00<?, ?it/s]\u001b[A\n",
            " 74%|\u2588\u2588\u2588\u2588\u2588\u2588\u2588\u258d  | 20/27 [00:15<00:04,  1.44it/s]"
          ]
        },
        {
          "output_type": "stream",
          "name": "stdout",
          "text": [
            "[06:22:34.278967] Processing image: vol_020.tif\n"
          ]
        },
        {
          "output_type": "stream",
          "name": "stderr",
          "text": [
            "\n",
            "  0%|          | 0/1 [00:00<?, ?it/s]\u001b[A/usr/local/lib/python3.10/dist-packages/biapy/engine/base_workflow.py:2038: FutureWarning: `torch.cuda.amp.autocast(args...)` is deprecated. Please use `torch.amp.autocast('cuda', args...)` instead.\n",
            "  with torch.cuda.amp.autocast():\n",
            "\n",
            "                                     \u001b[A"
          ]
        },
        {
          "output_type": "stream",
          "name": "stdout",
          "text": [
            "[06:22:34.313542] Saving (1, 64, 64, 64, 1) data as .tif in folder: /content/output/my_3d_detection/results/my_3d_detection_1/per_image\n"
          ]
        },
        {
          "output_type": "stream",
          "name": "stderr",
          "text": [
            "\n",
            "  0%|          | 0/1 [00:00<?, ?it/s]\u001b[A\n",
            "                                     \u001b[A"
          ]
        },
        {
          "output_type": "stream",
          "name": "stdout",
          "text": [
            "[06:22:34.377996] Capturing the local maxima \n",
            "[06:22:34.379149] Class 1\n",
            "[06:22:34.409841] Removing close points . . .\n",
            "[06:22:34.409937] Initial number of points: 599\n",
            "[06:22:34.417136] Final number of points: 321\n",
            "[06:22:34.417393] Creating the images with detected points . . .\n",
            "[06:22:34.448472] Saving (1, 64, 64, 64, 1) data as .tif in folder: /content/output/my_3d_detection/results/my_3d_detection_1/point_associations\n"
          ]
        },
        {
          "output_type": "stream",
          "name": "stderr",
          "text": [
            "\n",
            "  0%|          | 0/1 [00:00<?, ?it/s]\u001b[A\n",
            "                                     \u001b[A"
          ]
        },
        {
          "output_type": "stream",
          "name": "stdout",
          "text": [
            "[06:22:34.508652] Saving (1, 64, 64, 64, 1) data as .tif in folder: /content/output/my_3d_detection/results/my_3d_detection_1/per_image_local_max_check\n"
          ]
        },
        {
          "output_type": "stream",
          "name": "stderr",
          "text": [
            "\n",
            "  0%|          | 0/1 [00:00<?, ?it/s]\u001b[A\n",
            "                                     \u001b[A"
          ]
        },
        {
          "output_type": "stream",
          "name": "stdout",
          "text": [
            "[06:22:34.545069] WARNING: The CSV file seems to have different name than image. Using the CSV file with the same position as the CSV in the directory. Check if it is correct!\n",
            "[06:22:34.546375] Its respective CSV file seems to be: /content/data/test/y/mask_020.csv\n",
            "[06:22:34.547717] Reading GT data from: /content/data/test/y/mask_020.csv\n",
            "[06:22:34.550947] Detection (class 1)\n",
            "[06:22:34.565362] Points in ground truth: 315, Points in prediction: 321\n",
            "[06:22:34.565453] True positives: 276, False positives: 45, False negatives: 39\n",
            "[06:22:34.565541] Detection metrics: {'Precision': 0.8598130841121495, 'Recall': 0.8761904761904762, 'F1': 0.8679245283018867, 'TP': 276, 'FP': 45, 'FN': 39}\n",
            "[06:22:34.571331] All classes 1\n",
            "[06:22:34.571426] Detection metrics: ['Precision', 0.8598130841121495, 'Recall', 0.8761904761904762, 'F1', 0.8679245283018867]\n",
            "[06:22:34.571486] Creating the image with a summary of detected points and false positives with colors . . .\n",
            "[06:22:34.776208] Saving (1, 64, 64, 64, 1) data as .tif in folder: /content/output/my_3d_detection/results/my_3d_detection_1/point_associations\n"
          ]
        },
        {
          "output_type": "stream",
          "name": "stderr",
          "text": [
            "\n",
            "  0%|          | 0/1 [00:00<?, ?it/s]\u001b[A\n",
            "                                     \u001b[A"
          ]
        },
        {
          "output_type": "stream",
          "name": "stdout",
          "text": [
            "[06:22:34.895395] Saving (1, 64, 64, 64, 3) data as .tif in folder: /content/output/my_3d_detection/results/my_3d_detection_1/point_associations\n"
          ]
        },
        {
          "output_type": "stream",
          "name": "stderr",
          "text": [
            "\n",
            "  0%|          | 0/1 [00:00<?, ?it/s]\u001b[A\n",
            " 78%|\u2588\u2588\u2588\u2588\u2588\u2588\u2588\u258a  | 21/27 [00:15<00:04,  1.46it/s]"
          ]
        },
        {
          "output_type": "stream",
          "name": "stdout",
          "text": [
            "[06:22:34.936543] Processing image: vol_021.tif\n"
          ]
        },
        {
          "output_type": "stream",
          "name": "stderr",
          "text": [
            "\n",
            "  0%|          | 0/1 [00:00<?, ?it/s]\u001b[A/usr/local/lib/python3.10/dist-packages/biapy/engine/base_workflow.py:2038: FutureWarning: `torch.cuda.amp.autocast(args...)` is deprecated. Please use `torch.amp.autocast('cuda', args...)` instead.\n",
            "  with torch.cuda.amp.autocast():\n",
            "\n",
            "                                     \u001b[A"
          ]
        },
        {
          "output_type": "stream",
          "name": "stdout",
          "text": [
            "[06:22:34.985007] Saving (1, 64, 64, 64, 1) data as .tif in folder: /content/output/my_3d_detection/results/my_3d_detection_1/per_image\n"
          ]
        },
        {
          "output_type": "stream",
          "name": "stderr",
          "text": [
            "\n",
            "  0%|          | 0/1 [00:00<?, ?it/s]\u001b[A\n",
            "                                     \u001b[A"
          ]
        },
        {
          "output_type": "stream",
          "name": "stdout",
          "text": [
            "[06:22:35.058103] Capturing the local maxima \n",
            "[06:22:35.059372] Class 1\n",
            "[06:22:35.089731] Removing close points . . .\n",
            "[06:22:35.092951] Initial number of points: 95\n",
            "[06:22:35.095603] Final number of points: 48\n",
            "[06:22:35.099002] Creating the images with detected points . . .\n",
            "[06:22:35.157449] Saving (1, 64, 64, 64, 1) data as .tif in folder: /content/output/my_3d_detection/results/my_3d_detection_1/point_associations\n"
          ]
        },
        {
          "output_type": "stream",
          "name": "stderr",
          "text": [
            "\n",
            "  0%|          | 0/1 [00:00<?, ?it/s]\u001b[A\n",
            "                                     \u001b[A"
          ]
        },
        {
          "output_type": "stream",
          "name": "stdout",
          "text": [
            "[06:22:35.230625] Saving (1, 64, 64, 64, 1) data as .tif in folder: /content/output/my_3d_detection/results/my_3d_detection_1/per_image_local_max_check\n"
          ]
        },
        {
          "output_type": "stream",
          "name": "stderr",
          "text": [
            "\n",
            "  0%|          | 0/1 [00:00<?, ?it/s]\u001b[A\n",
            "                                     \u001b[A"
          ]
        },
        {
          "output_type": "stream",
          "name": "stdout",
          "text": [
            "[06:22:35.267347] WARNING: The CSV file seems to have different name than image. Using the CSV file with the same position as the CSV in the directory. Check if it is correct!\n",
            "[06:22:35.267439] Its respective CSV file seems to be: /content/data/test/y/mask_021.csv\n",
            "[06:22:35.268104] Reading GT data from: /content/data/test/y/mask_021.csv\n",
            "[06:22:35.271281] Detection (class 1)\n",
            "[06:22:35.281148] Points in ground truth: 36, Points in prediction: 48\n",
            "[06:22:35.281235] True positives: 34, False positives: 14, False negatives: 2\n",
            "[06:22:35.281324] Detection metrics: {'Precision': 0.7083333333333334, 'Recall': 0.9444444444444444, 'F1': 0.8095238095238096, 'TP': 34, 'FP': 14, 'FN': 2}\n",
            "[06:22:35.287230] All classes 1\n",
            "[06:22:35.287848] Detection metrics: ['Precision', 0.7083333333333334, 'Recall', 0.9444444444444444, 'F1', 0.8095238095238096]\n",
            "[06:22:35.287917] Creating the image with a summary of detected points and false positives with colors . . .\n",
            "[06:22:35.355299] Saving (1, 64, 64, 64, 1) data as .tif in folder: /content/output/my_3d_detection/results/my_3d_detection_1/point_associations\n"
          ]
        },
        {
          "output_type": "stream",
          "name": "stderr",
          "text": [
            "\n",
            "  0%|          | 0/1 [00:00<?, ?it/s]\u001b[A\n",
            "                                     \u001b[A"
          ]
        },
        {
          "output_type": "stream",
          "name": "stdout",
          "text": [
            "[06:22:35.469251] Saving (1, 64, 64, 64, 3) data as .tif in folder: /content/output/my_3d_detection/results/my_3d_detection_1/point_associations\n"
          ]
        },
        {
          "output_type": "stream",
          "name": "stderr",
          "text": [
            "\n",
            "  0%|          | 0/1 [00:00<?, ?it/s]\u001b[A\n",
            " 81%|\u2588\u2588\u2588\u2588\u2588\u2588\u2588\u2588\u258f | 22/27 [00:16<00:03,  1.54it/s]"
          ]
        },
        {
          "output_type": "stream",
          "name": "stdout",
          "text": [
            "[06:22:35.506552] Processing image: vol_022.tif\n"
          ]
        },
        {
          "output_type": "stream",
          "name": "stderr",
          "text": [
            "\n",
            "  0%|          | 0/1 [00:00<?, ?it/s]\u001b[A/usr/local/lib/python3.10/dist-packages/biapy/engine/base_workflow.py:2038: FutureWarning: `torch.cuda.amp.autocast(args...)` is deprecated. Please use `torch.amp.autocast('cuda', args...)` instead.\n",
            "  with torch.cuda.amp.autocast():\n",
            "\n",
            "                                     \u001b[A"
          ]
        },
        {
          "output_type": "stream",
          "name": "stdout",
          "text": [
            "[06:22:35.544192] Saving (1, 64, 64, 64, 1) data as .tif in folder: /content/output/my_3d_detection/results/my_3d_detection_1/per_image\n"
          ]
        },
        {
          "output_type": "stream",
          "name": "stderr",
          "text": [
            "\n",
            "  0%|          | 0/1 [00:00<?, ?it/s]\u001b[A\n",
            "                                     \u001b[A"
          ]
        },
        {
          "output_type": "stream",
          "name": "stdout",
          "text": [
            "[06:22:35.608511] Capturing the local maxima \n",
            "[06:22:35.609614] Class 1\n",
            "[06:22:35.645413] Removing close points . . .\n",
            "[06:22:35.645509] Initial number of points: 715\n",
            "[06:22:35.653541] Final number of points: 398\n",
            "[06:22:35.654848] Creating the images with detected points . . .\n",
            "[06:22:35.695144] Saving (1, 64, 64, 64, 1) data as .tif in folder: /content/output/my_3d_detection/results/my_3d_detection_1/point_associations\n"
          ]
        },
        {
          "output_type": "stream",
          "name": "stderr",
          "text": [
            "\n",
            "  0%|          | 0/1 [00:00<?, ?it/s]\u001b[A\n",
            "                                     \u001b[A"
          ]
        },
        {
          "output_type": "stream",
          "name": "stdout",
          "text": [
            "[06:22:35.757281] Saving (1, 64, 64, 64, 1) data as .tif in folder: /content/output/my_3d_detection/results/my_3d_detection_1/per_image_local_max_check\n"
          ]
        },
        {
          "output_type": "stream",
          "name": "stderr",
          "text": [
            "\n",
            "  0%|          | 0/1 [00:00<?, ?it/s]\u001b[A\n",
            "                                     \u001b[A"
          ]
        },
        {
          "output_type": "stream",
          "name": "stdout",
          "text": [
            "[06:22:35.789159] WARNING: The CSV file seems to have different name than image. Using the CSV file with the same position as the CSV in the directory. Check if it is correct!\n",
            "[06:22:35.790031] Its respective CSV file seems to be: /content/data/test/y/mask_022.csv\n",
            "[06:22:35.790755] Reading GT data from: /content/data/test/y/mask_022.csv\n",
            "[06:22:35.793203] Detection (class 1)\n",
            "[06:22:35.816736] Points in ground truth: 374, Points in prediction: 398\n",
            "[06:22:35.818250] True positives: 310, False positives: 88, False negatives: 64\n",
            "[06:22:35.818985] Detection metrics: {'Precision': 0.7788944723618091, 'Recall': 0.8288770053475936, 'F1': 0.8031088082901553, 'TP': 310, 'FP': 88, 'FN': 64}\n",
            "[06:22:35.824655] All classes 1\n",
            "[06:22:35.825505] Detection metrics: ['Precision', 0.7788944723618091, 'Recall', 0.8288770053475936, 'F1', 0.8031088082901553]\n",
            "[06:22:35.826260] Creating the image with a summary of detected points and false positives with colors . . .\n",
            "[06:22:36.072089] Saving (1, 64, 64, 64, 1) data as .tif in folder: /content/output/my_3d_detection/results/my_3d_detection_1/point_associations\n"
          ]
        },
        {
          "output_type": "stream",
          "name": "stderr",
          "text": [
            "\n",
            "  0%|          | 0/1 [00:00<?, ?it/s]\u001b[A\n",
            "                                     \u001b[A"
          ]
        },
        {
          "output_type": "stream",
          "name": "stdout",
          "text": [
            "[06:22:36.206146] Saving (1, 64, 64, 64, 3) data as .tif in folder: /content/output/my_3d_detection/results/my_3d_detection_1/point_associations\n"
          ]
        },
        {
          "output_type": "stream",
          "name": "stderr",
          "text": [
            "\n",
            "  0%|          | 0/1 [00:00<?, ?it/s]\u001b[A\n",
            " 85%|\u2588\u2588\u2588\u2588\u2588\u2588\u2588\u2588\u258c | 23/27 [00:17<00:02,  1.48it/s]"
          ]
        },
        {
          "output_type": "stream",
          "name": "stdout",
          "text": [
            "[06:22:36.244893] Processing image: vol_023.tif\n"
          ]
        },
        {
          "output_type": "stream",
          "name": "stderr",
          "text": [
            "\n",
            "  0%|          | 0/1 [00:00<?, ?it/s]\u001b[A/usr/local/lib/python3.10/dist-packages/biapy/engine/base_workflow.py:2038: FutureWarning: `torch.cuda.amp.autocast(args...)` is deprecated. Please use `torch.amp.autocast('cuda', args...)` instead.\n",
            "  with torch.cuda.amp.autocast():\n",
            "\n",
            "                                     \u001b[A"
          ]
        },
        {
          "output_type": "stream",
          "name": "stdout",
          "text": [
            "[06:22:36.288317] Saving (1, 64, 64, 64, 1) data as .tif in folder: /content/output/my_3d_detection/results/my_3d_detection_1/per_image\n"
          ]
        },
        {
          "output_type": "stream",
          "name": "stderr",
          "text": [
            "\n",
            "  0%|          | 0/1 [00:00<?, ?it/s]\u001b[A\n",
            "                                     \u001b[A"
          ]
        },
        {
          "output_type": "stream",
          "name": "stdout",
          "text": [
            "[06:22:36.348921] Capturing the local maxima \n",
            "[06:22:36.350195] Class 1\n",
            "[06:22:36.376900] Removing close points . . .\n",
            "[06:22:36.377013] Initial number of points: 292\n",
            "[06:22:36.382986] Final number of points: 158\n",
            "[06:22:36.384077] Creating the images with detected points . . .\n",
            "[06:22:36.416371] Saving (1, 64, 64, 64, 1) data as .tif in folder: /content/output/my_3d_detection/results/my_3d_detection_1/point_associations\n"
          ]
        },
        {
          "output_type": "stream",
          "name": "stderr",
          "text": [
            "\n",
            "  0%|          | 0/1 [00:00<?, ?it/s]\u001b[A\n",
            "                                     \u001b[A"
          ]
        },
        {
          "output_type": "stream",
          "name": "stdout",
          "text": [
            "[06:22:36.480194] Saving (1, 64, 64, 64, 1) data as .tif in folder: /content/output/my_3d_detection/results/my_3d_detection_1/per_image_local_max_check\n"
          ]
        },
        {
          "output_type": "stream",
          "name": "stderr",
          "text": [
            "\n",
            "  0%|          | 0/1 [00:00<?, ?it/s]\u001b[A\n",
            "                                     \u001b[A"
          ]
        },
        {
          "output_type": "stream",
          "name": "stdout",
          "text": [
            "[06:22:36.512557] WARNING: The CSV file seems to have different name than image. Using the CSV file with the same position as the CSV in the directory. Check if it is correct!\n",
            "[06:22:36.515264] Its respective CSV file seems to be: /content/data/test/y/mask_023.csv\n",
            "[06:22:36.516199] Reading GT data from: /content/data/test/y/mask_023.csv\n",
            "[06:22:36.520679] Detection (class 1)\n",
            "[06:22:36.526751] Points in ground truth: 112, Points in prediction: 158\n",
            "[06:22:36.527675] True positives: 110, False positives: 48, False negatives: 2\n",
            "[06:22:36.528638] Detection metrics: {'Precision': 0.6962025316455697, 'Recall': 0.9821428571428571, 'F1': 0.8148148148148149, 'TP': 110, 'FP': 48, 'FN': 2}\n",
            "[06:22:36.533170] All classes 1\n",
            "[06:22:36.534249] Detection metrics: ['Precision', 0.6962025316455697, 'Recall', 0.9821428571428571, 'F1', 0.8148148148148149]\n",
            "[06:22:36.534347] Creating the image with a summary of detected points and false positives with colors . . .\n",
            "[06:22:36.617111] Saving (1, 64, 64, 64, 1) data as .tif in folder: /content/output/my_3d_detection/results/my_3d_detection_1/point_associations\n"
          ]
        },
        {
          "output_type": "stream",
          "name": "stderr",
          "text": [
            "\n",
            "  0%|          | 0/1 [00:00<?, ?it/s]\u001b[A\n",
            "                                     \u001b[A"
          ]
        },
        {
          "output_type": "stream",
          "name": "stdout",
          "text": [
            "[06:22:36.733712] Saving (1, 64, 64, 64, 3) data as .tif in folder: /content/output/my_3d_detection/results/my_3d_detection_1/point_associations\n"
          ]
        },
        {
          "output_type": "stream",
          "name": "stderr",
          "text": [
            "\n",
            "  0%|          | 0/1 [00:00<?, ?it/s]\u001b[A\n",
            " 89%|\u2588\u2588\u2588\u2588\u2588\u2588\u2588\u2588\u2589 | 24/27 [00:17<00:01,  1.59it/s]"
          ]
        },
        {
          "output_type": "stream",
          "name": "stdout",
          "text": [
            "[06:22:36.768862] Processing image: vol_024.tif\n"
          ]
        },
        {
          "output_type": "stream",
          "name": "stderr",
          "text": [
            "\n",
            "  0%|          | 0/1 [00:00<?, ?it/s]\u001b[A/usr/local/lib/python3.10/dist-packages/biapy/engine/base_workflow.py:2038: FutureWarning: `torch.cuda.amp.autocast(args...)` is deprecated. Please use `torch.amp.autocast('cuda', args...)` instead.\n",
            "  with torch.cuda.amp.autocast():\n",
            "\n",
            "                                     \u001b[A"
          ]
        },
        {
          "output_type": "stream",
          "name": "stdout",
          "text": [
            "[06:22:36.810098] Saving (1, 64, 64, 64, 1) data as .tif in folder: /content/output/my_3d_detection/results/my_3d_detection_1/per_image\n"
          ]
        },
        {
          "output_type": "stream",
          "name": "stderr",
          "text": [
            "\n",
            "  0%|          | 0/1 [00:00<?, ?it/s]\u001b[A\n",
            "                                     \u001b[A"
          ]
        },
        {
          "output_type": "stream",
          "name": "stdout",
          "text": [
            "[06:22:36.873432] Capturing the local maxima \n",
            "[06:22:36.875693] Class 1\n",
            "[06:22:36.906334] Removing close points . . .\n",
            "[06:22:36.907432] Initial number of points: 313\n",
            "[06:22:36.914646] Final number of points: 143\n",
            "[06:22:36.915064] Creating the images with detected points . . .\n",
            "[06:22:36.951958] Saving (1, 64, 64, 64, 1) data as .tif in folder: /content/output/my_3d_detection/results/my_3d_detection_1/point_associations\n"
          ]
        },
        {
          "output_type": "stream",
          "name": "stderr",
          "text": [
            "\n",
            "  0%|          | 0/1 [00:00<?, ?it/s]\u001b[A\n",
            "                                     \u001b[A"
          ]
        },
        {
          "output_type": "stream",
          "name": "stdout",
          "text": [
            "[06:22:37.025784] Saving (1, 64, 64, 64, 1) data as .tif in folder: /content/output/my_3d_detection/results/my_3d_detection_1/per_image_local_max_check\n"
          ]
        },
        {
          "output_type": "stream",
          "name": "stderr",
          "text": [
            "\n",
            "  0%|          | 0/1 [00:00<?, ?it/s]\u001b[A\n",
            "                                     \u001b[A"
          ]
        },
        {
          "output_type": "stream",
          "name": "stdout",
          "text": [
            "[06:22:37.057983] WARNING: The CSV file seems to have different name than image. Using the CSV file with the same position as the CSV in the directory. Check if it is correct!\n",
            "[06:22:37.059366] Its respective CSV file seems to be: /content/data/test/y/mask_024.csv\n",
            "[06:22:37.060955] Reading GT data from: /content/data/test/y/mask_024.csv\n",
            "[06:22:37.064591] Detection (class 1)\n",
            "[06:22:37.070507] Points in ground truth: 82, Points in prediction: 143\n",
            "[06:22:37.071644] True positives: 74, False positives: 69, False negatives: 8\n",
            "[06:22:37.072685] Detection metrics: {'Precision': 0.5174825174825175, 'Recall': 0.9024390243902439, 'F1': 0.6577777777777779, 'TP': 74, 'FP': 69, 'FN': 8}\n",
            "[06:22:37.078610] All classes 1\n",
            "[06:22:37.080214] Detection metrics: ['Precision', 0.5174825174825175, 'Recall', 0.9024390243902439, 'F1', 0.6577777777777779]\n",
            "[06:22:37.081174] Creating the image with a summary of detected points and false positives with colors . . .\n",
            "[06:22:37.173361] Saving (1, 64, 64, 64, 1) data as .tif in folder: /content/output/my_3d_detection/results/my_3d_detection_1/point_associations\n"
          ]
        },
        {
          "output_type": "stream",
          "name": "stderr",
          "text": [
            "\n",
            "  0%|          | 0/1 [00:00<?, ?it/s]\u001b[A\n",
            "                                     \u001b[A"
          ]
        },
        {
          "output_type": "stream",
          "name": "stdout",
          "text": [
            "[06:22:37.319791] Saving (1, 64, 64, 64, 3) data as .tif in folder: /content/output/my_3d_detection/results/my_3d_detection_1/point_associations\n"
          ]
        },
        {
          "output_type": "stream",
          "name": "stderr",
          "text": [
            "\n",
            "  0%|          | 0/1 [00:00<?, ?it/s]\u001b[A\n",
            " 93%|\u2588\u2588\u2588\u2588\u2588\u2588\u2588\u2588\u2588\u258e| 25/27 [00:18<00:01,  1.62it/s]"
          ]
        },
        {
          "output_type": "stream",
          "name": "stdout",
          "text": [
            "[06:22:37.361511] Processing image: vol_025.tif\n"
          ]
        },
        {
          "output_type": "stream",
          "name": "stderr",
          "text": [
            "\n",
            "  0%|          | 0/1 [00:00<?, ?it/s]\u001b[A/usr/local/lib/python3.10/dist-packages/biapy/engine/base_workflow.py:2038: FutureWarning: `torch.cuda.amp.autocast(args...)` is deprecated. Please use `torch.amp.autocast('cuda', args...)` instead.\n",
            "  with torch.cuda.amp.autocast():\n",
            "\n",
            "                                     \u001b[A"
          ]
        },
        {
          "output_type": "stream",
          "name": "stdout",
          "text": [
            "[06:22:37.408336] Saving (1, 64, 64, 64, 1) data as .tif in folder: /content/output/my_3d_detection/results/my_3d_detection_1/per_image\n"
          ]
        },
        {
          "output_type": "stream",
          "name": "stderr",
          "text": [
            "\n",
            "  0%|          | 0/1 [00:00<?, ?it/s]\u001b[A\n",
            "                                     \u001b[A"
          ]
        },
        {
          "output_type": "stream",
          "name": "stdout",
          "text": [
            "[06:22:37.485946] Capturing the local maxima \n",
            "[06:22:37.487174] Class 1\n",
            "[06:22:37.525443] Removing close points . . .\n",
            "[06:22:37.526742] Initial number of points: 651\n",
            "[06:22:37.542245] Final number of points: 372\n",
            "[06:22:37.542719] Creating the images with detected points . . .\n",
            "[06:22:37.575823] Saving (1, 64, 64, 64, 1) data as .tif in folder: /content/output/my_3d_detection/results/my_3d_detection_1/point_associations\n"
          ]
        },
        {
          "output_type": "stream",
          "name": "stderr",
          "text": [
            "\n",
            "  0%|          | 0/1 [00:00<?, ?it/s]\u001b[A\n",
            "                                     \u001b[A"
          ]
        },
        {
          "output_type": "stream",
          "name": "stdout",
          "text": [
            "[06:22:37.642686] Saving (1, 64, 64, 64, 1) data as .tif in folder: /content/output/my_3d_detection/results/my_3d_detection_1/per_image_local_max_check\n"
          ]
        },
        {
          "output_type": "stream",
          "name": "stderr",
          "text": [
            "\n",
            "  0%|          | 0/1 [00:00<?, ?it/s]\u001b[A\n",
            "                                     \u001b[A"
          ]
        },
        {
          "output_type": "stream",
          "name": "stdout",
          "text": [
            "[06:22:37.676265] WARNING: The CSV file seems to have different name than image. Using the CSV file with the same position as the CSV in the directory. Check if it is correct!\n",
            "[06:22:37.676347] Its respective CSV file seems to be: /content/data/test/y/mask_025.csv\n",
            "[06:22:37.676382] Reading GT data from: /content/data/test/y/mask_025.csv\n",
            "[06:22:37.682329] Detection (class 1)\n",
            "[06:22:37.703066] Points in ground truth: 330, Points in prediction: 372\n",
            "[06:22:37.704135] True positives: 295, False positives: 77, False negatives: 35\n",
            "[06:22:37.704889] Detection metrics: {'Precision': 0.793010752688172, 'Recall': 0.8939393939393939, 'F1': 0.8404558404558404, 'TP': 295, 'FP': 77, 'FN': 35}\n",
            "[06:22:37.711291] All classes 1\n",
            "[06:22:37.712124] Detection metrics: ['Precision', 0.793010752688172, 'Recall', 0.8939393939393939, 'F1', 0.8404558404558404]\n",
            "[06:22:37.712819] Creating the image with a summary of detected points and false positives with colors . . .\n",
            "[06:22:37.910756] Saving (1, 64, 64, 64, 1) data as .tif in folder: /content/output/my_3d_detection/results/my_3d_detection_1/point_associations\n"
          ]
        },
        {
          "output_type": "stream",
          "name": "stderr",
          "text": [
            "\n",
            "  0%|          | 0/1 [00:00<?, ?it/s]\u001b[A\n",
            "                                     \u001b[A"
          ]
        },
        {
          "output_type": "stream",
          "name": "stdout",
          "text": [
            "[06:22:38.064668] Saving (1, 64, 64, 64, 3) data as .tif in folder: /content/output/my_3d_detection/results/my_3d_detection_1/point_associations\n"
          ]
        },
        {
          "output_type": "stream",
          "name": "stderr",
          "text": [
            "\n",
            "  0%|          | 0/1 [00:00<?, ?it/s]\u001b[A\n",
            " 96%|\u2588\u2588\u2588\u2588\u2588\u2588\u2588\u2588\u2588\u258b| 26/27 [00:18<00:00,  1.53it/s]"
          ]
        },
        {
          "output_type": "stream",
          "name": "stdout",
          "text": [
            "[06:22:38.100532] Processing image: vol_026.tif\n"
          ]
        },
        {
          "output_type": "stream",
          "name": "stderr",
          "text": [
            "\n",
            "  0%|          | 0/1 [00:00<?, ?it/s]\u001b[A/usr/local/lib/python3.10/dist-packages/biapy/engine/base_workflow.py:2038: FutureWarning: `torch.cuda.amp.autocast(args...)` is deprecated. Please use `torch.amp.autocast('cuda', args...)` instead.\n",
            "  with torch.cuda.amp.autocast():\n",
            "\n",
            "                                     \u001b[A"
          ]
        },
        {
          "output_type": "stream",
          "name": "stdout",
          "text": [
            "[06:22:38.137322] Saving (1, 64, 64, 64, 1) data as .tif in folder: /content/output/my_3d_detection/results/my_3d_detection_1/per_image\n"
          ]
        },
        {
          "output_type": "stream",
          "name": "stderr",
          "text": [
            "\n",
            "  0%|          | 0/1 [00:00<?, ?it/s]\u001b[A\n",
            "                                     \u001b[A"
          ]
        },
        {
          "output_type": "stream",
          "name": "stdout",
          "text": [
            "[06:22:38.197243] Capturing the local maxima \n",
            "[06:22:38.198452] Class 1\n",
            "[06:22:38.218285] Removing close points . . .\n",
            "[06:22:38.218894] Initial number of points: 120\n",
            "[06:22:38.221169] Final number of points: 60\n",
            "[06:22:38.221318] Creating the images with detected points . . .\n",
            "[06:22:38.271667] Saving (1, 64, 64, 64, 1) data as .tif in folder: /content/output/my_3d_detection/results/my_3d_detection_1/point_associations\n"
          ]
        },
        {
          "output_type": "stream",
          "name": "stderr",
          "text": [
            "\n",
            "  0%|          | 0/1 [00:00<?, ?it/s]\u001b[A\n",
            "                                     \u001b[A"
          ]
        },
        {
          "output_type": "stream",
          "name": "stdout",
          "text": [
            "[06:22:38.334768] Saving (1, 64, 64, 64, 1) data as .tif in folder: /content/output/my_3d_detection/results/my_3d_detection_1/per_image_local_max_check\n"
          ]
        },
        {
          "output_type": "stream",
          "name": "stderr",
          "text": [
            "\n",
            "  0%|          | 0/1 [00:00<?, ?it/s]\u001b[A\n",
            "                                     \u001b[A"
          ]
        },
        {
          "output_type": "stream",
          "name": "stdout",
          "text": [
            "[06:22:38.358715] WARNING: The CSV file seems to have different name than image. Using the CSV file with the same position as the CSV in the directory. Check if it is correct!\n",
            "[06:22:38.359916] Its respective CSV file seems to be: /content/data/test/y/mask_026.csv\n",
            "[06:22:38.360755] Reading GT data from: /content/data/test/y/mask_026.csv\n",
            "[06:22:38.363656] Detection (class 1)\n",
            "[06:22:38.365896] Points in ground truth: 30, Points in prediction: 60\n",
            "[06:22:38.367587] True positives: 29, False positives: 31, False negatives: 1\n",
            "[06:22:38.368453] Detection metrics: {'Precision': 0.48333333333333334, 'Recall': 0.9666666666666667, 'F1': 0.6444444444444445, 'TP': 29, 'FP': 31, 'FN': 1}\n",
            "[06:22:38.372185] All classes 1\n",
            "[06:22:38.373152] Detection metrics: ['Precision', 0.48333333333333334, 'Recall', 0.9666666666666667, 'F1', 0.6444444444444445]\n",
            "[06:22:38.374023] Creating the image with a summary of detected points and false positives with colors . . .\n",
            "[06:22:38.427395] Saving (1, 64, 64, 64, 1) data as .tif in folder: /content/output/my_3d_detection/results/my_3d_detection_1/point_associations\n"
          ]
        },
        {
          "output_type": "stream",
          "name": "stderr",
          "text": [
            "\n",
            "  0%|          | 0/1 [00:00<?, ?it/s]\u001b[A\n",
            "                                     \u001b[A"
          ]
        },
        {
          "output_type": "stream",
          "name": "stdout",
          "text": [
            "[06:22:38.541002] Saving (1, 64, 64, 64, 3) data as .tif in folder: /content/output/my_3d_detection/results/my_3d_detection_1/point_associations\n"
          ]
        },
        {
          "output_type": "stream",
          "name": "stderr",
          "text": [
            "\n",
            "  0%|          | 0/1 [00:00<?, ?it/s]\u001b[A\n",
            "100%|\u2588\u2588\u2588\u2588\u2588\u2588\u2588\u2588\u2588\u2588| 27/27 [00:19<00:00,  1.39it/s]"
          ]
        },
        {
          "output_type": "stream",
          "name": "stdout",
          "text": [
            "[06:22:38.572660] Releasing memory . . .\n",
            "[06:22:38.572737] #############\n",
            "[06:22:38.572773] #  RESULTS  #\n",
            "[06:22:38.572806] #############\n",
            "[06:22:38.572851] Epoch number: 49\n",
            "[06:22:38.572884] Train time (s): 0:05:21\n",
            "[06:22:38.573018] Train loss: 0.0975427155693372\n",
            "[06:22:38.573123] Train Foreground IoU: 0.3515549798806508\n",
            "[06:22:38.573162] Validation loss: 0.0523991696536541\n",
            "[06:22:38.573199] Validation Foreground IoU: 0.16887322068214417\n",
            "[06:22:38.573272] Test Foreground IoU (per patch): 0.14807002825869453\n",
            "[06:22:38.573311] Test Foreground IoU (merge patches): 0.14807002825869453\n",
            "[06:22:38.573345] Test Precision (merge patches): 0.7858325924638713\n",
            "[06:22:38.573378] Test Recall (merge patches): 0.8925039816195708\n",
            "[06:22:38.573411] Test F1 (merge patches): 0.8244076200430628\n",
            "[06:22:38.573449] Test TP (merge patches): 230.7037037037037\n",
            "[06:22:38.573481] Test FP (merge patches): 47.03703703703704\n",
            "[06:22:38.573513] Test FN (merge patches): 35.666666666666664\n",
            "[06:22:38.573542]  \n",
            "[06:22:38.573604] FINISHED JOB my_3d_detection_1 !!\n"
          ]
        },
        {
          "output_type": "stream",
          "name": "stderr",
          "text": [
            "\n"
          ]
        },
        {
          "output_type": "display_data",
          "data": {
            "text/plain": [
              "<Figure size 640x480 with 0 Axes>"
            ]
          },
          "metadata": {}
        }
      ],
      "source": [
        "#@markdown ##Play to train the model\n",
        "import os\n",
        "import errno\n",
        "\n",
        "os.chdir('/content/')\n",
        "\n",
        "job_name = model_name\n",
        "yaml_file = \"/content/\"+str(job_name)+\".yaml\"\n",
        "\n",
        "# remove previous configuration file if it exists with the same name\n",
        "if os.path.exists( yaml_file ):\n",
        "    os.remove( yaml_file )\n",
        "\n",
        "# remove template file it is exists\n",
        "template_file = '3d_detection.yaml'\n",
        "if os.path.exists( template_file ):\n",
        "    os.remove( template_file )\n",
        "\n",
        "# Download template file\n",
        "!wget https://raw.githubusercontent.com/BiaPyX/BiaPy/master/templates/detection/3d_detection.yaml &> /dev/null\n",
        "\n",
        "# Check folders before modifying the .yaml file\n",
        "if not os.path.exists(train_data_path):\n",
        "    raise FileNotFoundError(errno.ENOENT, os.strerror(errno.ENOENT), train_data_path)\n",
        "ids = sorted(next(os.walk(train_data_path))[2])\n",
        "if len(ids) == 0:\n",
        "    raise ValueError(\"No csv files in dir {}\".format(train_data_path))\n",
        "if not os.path.exists(train_csv_path):\n",
        "    raise FileNotFoundError(errno.ENOENT, os.strerror(errno.ENOENT), train_csv_path)\n",
        "ids = sorted(next(os.walk(train_csv_path))[2])\n",
        "if len(ids) == 0:\n",
        "    raise ValueError(\"No images found in dir {}\".format(train_csv_path))\n",
        "\n",
        "# Check folders before modifying the .yaml file\n",
        "if not os.path.exists(test_data_path):\n",
        "    raise FileNotFoundError(errno.ENOENT, os.strerror(errno.ENOENT), test_data_path)\n",
        "ids = sorted(next(os.walk(test_data_path))[2])\n",
        "if len(ids) == 0:\n",
        "    raise ValueError(\"No images found in dir {}\".format(test_data_path))\n",
        "if test_ground_truth:\n",
        "    if not os.path.exists(test_csv_path):\n",
        "        raise FileNotFoundError(errno.ENOENT, os.strerror(errno.ENOENT), test_csv_path)\n",
        "    ids = sorted(next(os.walk(test_csv_path))[2])\n",
        "    if len(ids) == 0:\n",
        "        raise ValueError(\"No csv files in dir {}\".format(test_csv_path))\n",
        "\n",
        "\n",
        "# open template configuration file\n",
        "import yaml\n",
        "with open( template_file, 'r') as stream:\n",
        "    try:\n",
        "        biapy_config = yaml.safe_load(stream)\n",
        "    except yaml.YAMLError as exc:\n",
        "        print(exc)\n",
        "\n",
        "biapy_config['SYSTEM']['NUM_CPUS'] = -1\n",
        "biapy_config['PROBLEM']['DETECTION'] = {}\n",
        "biapy_config['PROBLEM']['DETECTION']['CENTRAL_POINT_DILATION'] = [central_point_dilation]\n",
        "\n",
        "# update paths to data\n",
        "biapy_config['DATA']['TRAIN']['PATH'] = train_data_path\n",
        "biapy_config['DATA']['TRAIN']['GT_PATH'] = train_csv_path\n",
        "biapy_config['DATA']['TEST']['PATH'] = test_data_path\n",
        "biapy_config['DATA']['TEST']['GT_PATH'] = test_csv_path\n",
        "\n",
        "# update data patch size\n",
        "biapy_config['DATA']['PATCH_SIZE'] = '('+str(patch_size_z)+', '+ str(patch_size_xy)+', '+ str(patch_size_xy)+ ', ' + str(input_channels)+')'\n",
        "# adjust test padding accordingly\n",
        "padding_xy = patch_size_xy // 8\n",
        "padding_z = patch_size_z // 8\n",
        "biapy_config['DATA']['TEST']['PADDING'] = '('+str(padding_z)+', '+ str(padding_xy)+', '+ str(padding_xy)+')'\n",
        "biapy_config['DATA']['TEST']['RESOLUTION'] = '('+str(resolution_z)+', '+ str(resolution_xy)+', ' + str(resolution_xy)+')'\n",
        "\n",
        "# update training parameters\n",
        "biapy_config['DATA']['VAL']['FROM_TRAIN'] = True\n",
        "biapy_config['DATA']['VAL']['SPLIT_TRAIN'] = percentage_validation/100.0\n",
        "biapy_config['TRAIN']['EPOCHS'] = number_of_epochs\n",
        "if number_of_epochs < 10:\n",
        "    biapy_config['LOG'] = {}\n",
        "    biapy_config['LOG']['CHART_CREATION_FREQ'] = 1\n",
        "biapy_config['TRAIN']['PATIENCE'] = patience\n",
        "biapy_config['TRAIN']['BATCH_SIZE'] = batch_size\n",
        "biapy_config['TRAIN']['OPTIMIZER'] = optimizer\n",
        "biapy_config['TRAIN']['LR'] = initial_learning_rate\n",
        "\n",
        "# change source to build model - biapy, torchvision or bmz\n",
        "if changed_source:\n",
        "    if source.value == \"BiaPy\":\n",
        "        biapy_config['MODEL']['SOURCE'] = \"biapy\"\n",
        "    elif source.value == 'Torchvision':\n",
        "        biapy_config['MODEL']['SOURCE'] = \"torchvision\"\n",
        "        biapy_config['MODEL']['TORCHVISION_MODEL_NAME'] = t_vision.value\n",
        "    elif source.value == 'BioImage Model Zoo':\n",
        "        biapy_config['MODEL']['SOURCE'] = \"bmz\"\n",
        "        biapy_config['MODEL']['BMZ'] = {}\n",
        "        biapy_config['MODEL']['BMZ']['SOURCE_MODEL_ID'] = str(bmz.value).strip()\n",
        "else:\n",
        "    biapy_config['MODEL']['SOURCE'] = \"biapy\"\n",
        "\n",
        "\n",
        "# Transcribe model architecture\n",
        "# Available models: \"U-Net\", \"Residual U-Net\", \"Attention U-Net\",\n",
        "# 'MultiResUNet', 'SEUNet', 'ResUNet++', \"UNETR-Mini\",\"UNETR-Small\"\n",
        "# \"UNETR-Base\"architecture = 'unet'\n",
        "if model_architecture == \"U-Net\":\n",
        "    architecture = 'unet'\n",
        "elif model_architecture == \"Residual U-Net\":\n",
        "    architecture = 'resunet'\n",
        "elif model_architecture == \"Attention U-Net\":\n",
        "    architecture = 'attention_unet'\n",
        "elif model_architecture == \"MultiResUNet\":\n",
        "    architecture = 'multiresunet'\n",
        "elif model_architecture == \"SEUNet\":\n",
        "    architecture = 'seunet'\n",
        "elif model_architecture == \"ResUNet++\":\n",
        "    architecture = 'resunet++'\n",
        "elif model_architecture == \"UNETR-Mini\":\n",
        "    architecture = 'unetr'\n",
        "    biapy_config['MODEL']['VIT_TOKEN_SIZE'] = 16\n",
        "    biapy_config['MODEL']['VIT_EMBED_DIM'] = 64\n",
        "    biapy_config['MODEL']['VIT_NUM_LAYERS'] = 4\n",
        "    biapy_config['MODEL']['VIT_MLP_RATIO'] = 4. # to get 256\n",
        "    biapy_config['MODEL']['VIT_NUM_HEADS'] = 4\n",
        "    biapy_config['MODEL']['UNETR_VIT_HIDD_MULT'] = 1\n",
        "elif model_architecture == \"UNETR-Small\":\n",
        "    architecture = 'unetr'\n",
        "    biapy_config['MODEL']['VIT_TOKEN_SIZE'] = 16\n",
        "    biapy_config['MODEL']['VIT_EMBED_DIM'] = 128\n",
        "    biapy_config['MODEL']['VIT_NUM_LAYERS'] = 8\n",
        "    biapy_config['MODEL']['VIT_MLP_RATIO'] = 4. # to get 512\n",
        "    biapy_config['MODEL']['VIT_NUM_HEADS'] = 8\n",
        "    biapy_config['MODEL']['UNETR_VIT_HIDD_MULT'] = 2\n",
        "elif model_architecture == \"UNETR-Base\":\n",
        "    architecture = 'unetr'\n",
        "    biapy_config['MODEL']['VIT_TOKEN_SIZE'] = 16\n",
        "    biapy_config['MODEL']['VIT_EMBED_DIM'] = 384\n",
        "    biapy_config['MODEL']['VIT_NUM_LAYERS'] = 12\n",
        "    biapy_config['MODEL']['VIT_MLP_RATIO'] = 4.\n",
        "    biapy_config['MODEL']['VIT_NUM_HEADS'] = 12\n",
        "    biapy_config['MODEL']['UNETR_VIT_HIDD_MULT'] = 3\n",
        "    biapy_config['MODEL']['UNETR_VIT_NUM_FILTERS'] = 32\n",
        "    biapy_config['TEST']['FULL_IMG'] = False\n",
        "else: # U-NeXt V1\n",
        "    architecture = 'unext_v1'\n",
        "    biapy_config['MODEL']['FEATURE_MAPS'] = \"[16, 32, 64, 128]\"\n",
        "    biapy_config['MODEL']['CONVNEXT_LAYERS'] = \"[1, 1, 1, 1]\"\n",
        "    biapy_config['MODEL']['CONVNEXT_STEM_K_SIZE'] = 1\n",
        "\n",
        "\n",
        "biapy_config['MODEL']['ARCHITECTURE'] = architecture\n",
        "\n",
        "if anisotropic_data == True:\n",
        "    biapy_config['MODEL']['Z_DOWN'] = [1 for i in range(len(biapy_config['MODEL']['FEATURE_MAPS'])-1)]\n",
        "else:\n",
        "    biapy_config['MODEL']['Z_DOWN'] = [2 for i in range(len(biapy_config['MODEL']['FEATURE_MAPS'])-1)]\n",
        "\n",
        "\n",
        "# Class rebalance\n",
        "biapy_config['LOSS'] = {}\n",
        "biapy_config['LOSS']['CLASS_REBALANCE'] = True\n",
        "\n",
        "# learning rate scheduler\n",
        "if learning_rate_scheduler == 'One cycle':\n",
        "    biapy_config['TRAIN']['LR_SCHEDULER'] = {}\n",
        "    biapy_config['TRAIN']['LR_SCHEDULER']['NAME'] = 'onecycle'\n",
        "elif learning_rate_scheduler == 'Warm-up cosine decay':\n",
        "    biapy_config['TRAIN']['LR_SCHEDULER'] = {}\n",
        "    biapy_config['TRAIN']['LR_SCHEDULER']['NAME'] = 'warmupcosine'\n",
        "    biapy_config['TRAIN']['LR_SCHEDULER']['MIN_LR'] = 0.0\n",
        "    biapy_config['TRAIN']['LR_SCHEDULER']['WARMUP_COSINE_DECAY_EPOCHS'] = 0\n",
        "elif learning_rate_scheduler == 'Reduce on plateau':\n",
        "    biapy_config['TRAIN']['LR_SCHEDULER'] = {}\n",
        "    biapy_config['TRAIN']['LR_SCHEDULER']['NAME'] = 'reduceonplateau'\n",
        "    biapy_config['TRAIN']['LR_SCHEDULER']['REDUCEONPLATEAU_FACTOR'] = 0.5\n",
        "    biapy_config['TRAIN']['LR_SCHEDULER']['REDUCEONPLATEAU_PATIENCE'] = 5\n",
        "    biapy_config['TRAIN']['LR_SCHEDULER']['MIN_LR'] = 0.00001\n",
        "\n",
        "# update test parameters\n",
        "biapy_config['TEST']['FULL_IMG']=False\n",
        "biapy_config['TEST']['AUGMENTATION'] = test_time_augmentation\n",
        "biapy_config['DATA']['TEST']['LOAD_GT'] = test_ground_truth\n",
        "biapy_config['TEST']['ENABLE'] = True\n",
        "biapy_config['TEST']['REDUCE_MEMORY'] = True\n",
        "\n",
        "# Detection parameters\n",
        "biapy_config['TEST']['DET_MIN_TH_TO_BE_PEAK'] = min_value_to_be_peak\n",
        "biapy_config['TEST']['DET_TOLERANCE'] = tolerance\n",
        "biapy_config['TEST']['DET_EXCLUDE_BORDER'] = False\n",
        "biapy_config['TEST']['POST_PROCESSING']['REMOVE_CLOSE_POINTS'] = remove_close_points\n",
        "biapy_config['TEST']['POST_PROCESSING']['REMOVE_CLOSE_POINTS_RADIUS'] = remove_close_points_radius\n",
        "\n",
        "# model weights\n",
        "if checkpoint_path != '':\n",
        "    biapy_config['PATHS'] = {}\n",
        "    biapy_config['PATHS']['CHECKPOINT_FILE'] = checkpoint_path\n",
        "    biapy_config['MODEL'] = {}\n",
        "    biapy_config['MODEL']['LOAD_CHECKPOINT'] = True\n",
        "\n",
        "# save file\n",
        "with open( yaml_file, 'w') as outfile:\n",
        "    yaml.dump(biapy_config, outfile, default_flow_style=False)\n",
        "\n",
        "print( \"Training configuration finished.\")\n",
        "\n",
        "# Run the code\n",
        "biapy = BiaPy(f'/content/{job_name}.yaml', result_dir=output_path, name=job_name, run_id=1, gpu=0)\n",
        "biapy.run_job()\n"
      ]
    },
    {
      "cell_type": "markdown",
      "metadata": {
        "id": "k4i0N2vOWUes"
      },
      "source": [
        "## **Inspection of the Loss Function and the Intersection over Union (IoU)**\n",
        "---\n",
        "\n",
        "Before proceeding with interpretations, it's pivotal to gauge the training evolution by juxtaposing the training loss against the validation loss. The validation loss casts light on the model's efficacy over a reserved subset of data unseen during training. A deeper understanding can be garnered from [this review](https://www.ncbi.nlm.nih.gov/pmc/articles/PMC6381354/) by Nichols *et al.*\n",
        "\n",
        "- **Training Loss**: This captures the discrepancy between the model's predictions and the actual ground-truth after each epoch.\n",
        "\n",
        "- **Validation Loss**: This signifies the error between the model's estimates on validation images and their actual counterparts.\n",
        "\n",
        "As training unfurls, these metrics are expected to wane, eventually plateauing at an optimal, minimal value. Contrasting the trajectories of these losses can yield vital information about the model's adaptability.\n",
        "\n",
        "- **Decreasing Training and Validation Losses**: This trend is indicative of potential model improvements with further training. Elevating the `number_of_epochs` is advised in such scenarios. Notably, even if the loss curves seem to stabilize towards the tail end, it might be a mere visual effect due to y-axis scaling. The model is considered convergent once the curves genuinely flatten, marking the end of required training.\n",
        "\n",
        "- **Divergent Losses**: An upward tick in validation loss while training loss gravitates towards zero hints at overfitting. It suggests that the model is intricately memorizing training patterns at the cost of broader applicability. A more substantial training dataset can alleviate this.\n",
        "\n",
        "The **Jaccard Index, also known as the Intersection over Union (IoU)**, offers a means to evaluate the overlap between the target mask and prediction. **A score inching towards 1 denotes optimal performance.** It's a handy metric to gauge the precision of your model in predicting cellular structures."
      ]
    },
    {
      "cell_type": "code",
      "execution_count": null,
      "metadata": {
        "cellView": "form",
        "colab": {
          "base_uri": "https://localhost:8080/",
          "height": 571
        },
        "id": "ur21krhZVwX2",
        "outputId": "9285dce0-50e7-4029-e615-949e8a38cefe"
      },
      "outputs": [
        {
          "output_type": "display_data",
          "data": {
            "text/plain": [
              "<Figure size 2000x1000 with 2 Axes>"
            ],
            "image/png": "[encoded data removed]"
          },
          "metadata": {}
        }
      ],
      "source": [
        "#@markdown ##Play the cell to show a plot of training error vs. epoch number and IoU vs epoch number\n",
        "import matplotlib.pyplot as plt\n",
        "\n",
        "loss_plot = imread( output_path + '/'+job_name+'/results/'+job_name+'_1/charts/'+job_name+'_1_loss.png' )\n",
        "\n",
        "iou_plot = imread( output_path + '/'+job_name+'/results/'+job_name+'_1/charts/'+job_name+'_1_IoU.png' )\n",
        "\n",
        "fig = plt.figure( figsize = (20,10))\n",
        "ax1 = plt.subplot( 1, 2, 1 )\n",
        "_ = plt.imshow( loss_plot )\n",
        "_ = plt.axis('off')\n",
        "ax1.set_title( 'Training error vs epoch number', fontdict = {'fontsize':22})\n",
        "\n",
        "ax2 = plt.subplot( 1, 2, 2 )\n",
        "_ = plt.imshow( iou_plot )\n",
        "_ = plt.axis('off')\n",
        "_= ax2.set_title( 'Intersection over Union (IoU) vs epoch number', fontdict = {'fontsize':22})"
      ]
    },
    {
      "cell_type": "markdown",
      "metadata": {
        "id": "30kYCWjYI9W1"
      },
      "source": [
        "## **Visualize detection results (from the test set)**\n",
        "---"
      ]
    },
    {
      "cell_type": "code",
      "execution_count": null,
      "metadata": {
        "colab": {
          "base_uri": "https://localhost:8080/",
          "height": 1000,
          "referenced_widgets": [
            "3a77163cf9c44e02ba7985ebe4b67da5",
            "9d2874c84f194e819725916dc97bb798",
            "037c5f9ca0184fb3847e322a90ba375b",
            "bfd726fb095346d098d443851b92c538",
            "32a1f4a163ce4fb7ab0c1e846c60d8dd",
            "b1538e0c004848eea86147c40b5929d9",
            "bccd8ed23f164ac09534c37142717ee7",
            "abf3fc981ddd48bcb80fbb6742cca65f",
            "0be9bc22de2e4c52a481232f5ce10e0f",
            "c3e3f89aaf9c4fc59fa5b6a391c17626",
            "a9e0523eb34241a0848b733e0bd33fa3",
            "07c913ddc9a643ef95c373e60ccb0ce9",
            "79162c3b78b344618c9faa7b50a4535d",
            "62020c5372224506963a9d2fba545349",
            "5f773d90cfac4e55af5eae59f45ec903",
            "76c57cb3014e47d898c93f1a21ed265f",
            "87f1f50790e64ba0b4d56ef92941d4ad",
            "7242ab6a7f5b41c1bacf39d1978fce2a",
            "21dbf73b088c4dce92f182b0574dd3a5",
            "3422d6fec5f64cbda3196cda951d4d48",
            "cc2d1e42c9f6453489a67d5f5c4c9cc5"
          ]
        },
        "id": "cEIcTV3Tj6OJ",
        "outputId": "addd9d77-7b6e-4306-c9ef-631d123ed3cf",
        "cellView": "form"
      },
      "outputs": [
        {
          "output_type": "display_data",
          "data": {
            "text/plain": [
              "interactive(children=(IntSlider(value=32, description='z', max=64, min=1), Output()), _dom_classes=('widget-in\u2026"
            ],
            "application/vnd.jupyter.widget-view+json": {
              "version_major": 2,
              "version_minor": 0,
              "model_id": "3a77163cf9c44e02ba7985ebe4b67da5"
            }
          },
          "metadata": {
            "application/vnd.jupyter.widget-view+json": {
              "colab": {
                "custom_widget_manager": {
                  "url": "https://ssl.gstatic.com/colaboratory-static/widgets/colab-cdn-widget-manager/2b70e893a8ba7c0f/manager.min.js"
                }
              }
            }
          }
        },
        {
          "output_type": "display_data",
          "data": {
            "text/plain": [
              "interactive(children=(IntSlider(value=32, description='z', max=64, min=1), Output()), _dom_classes=('widget-in\u2026"
            ],
            "application/vnd.jupyter.widget-view+json": {
              "version_major": 2,
              "version_minor": 0,
              "model_id": "abf3fc981ddd48bcb80fbb6742cca65f"
            }
          },
          "metadata": {
            "application/vnd.jupyter.widget-view+json": {
              "colab": {
                "custom_widget_manager": {
                  "url": "https://ssl.gstatic.com/colaboratory-static/widgets/colab-cdn-widget-manager/2b70e893a8ba7c0f/manager.min.js"
                }
              }
            }
          }
        },
        {
          "output_type": "display_data",
          "data": {
            "text/plain": [
              "interactive(children=(IntSlider(value=32, description='z', max=64, min=1), Output()), _dom_classes=('widget-in\u2026"
            ],
            "application/vnd.jupyter.widget-view+json": {
              "version_major": 2,
              "version_minor": 0,
              "model_id": "21dbf73b088c4dce92f182b0574dd3a5"
            }
          },
          "metadata": {
            "application/vnd.jupyter.widget-view+json": {
              "colab": {
                "custom_widget_manager": {
                  "url": "https://ssl.gstatic.com/colaboratory-static/widgets/colab-cdn-widget-manager/2b70e893a8ba7c0f/manager.min.js"
                }
              }
            }
          }
        }
      ],
      "source": [
        "#@markdown ###Play to visualize some results from the test set\n",
        "#@markdown The current model will be applied to some test images and results will be shown as browsable 2D stacks displaying:\n",
        "#@markdown 1. The original **Source** (input) image.\n",
        "#@markdown 2. Its corresponding **Ground truth** labels (if `test_ground_truth` was checked).\n",
        "#@markdown 3. The model **Prediction** detections image.\n",
        "#@markdown 4. The **Associations** between predicted and ground truth detections (if `test_ground_truth` was checked).\n",
        "\n",
        "#@markdown Associations between predictions and ground truth are illustrated as follows:\n",
        "#@markdown - **Green**: True positives.\n",
        "#@markdown - **Red**: False negatives.\n",
        "#@markdown - **Blue**: False positives.\n",
        "\n",
        "%matplotlib inline\n",
        "import matplotlib\n",
        "import numpy as np\n",
        "from numpy.random import randint, seed\n",
        "from matplotlib import pyplot as plt\n",
        "from ipywidgets import interact, fixed\n",
        "import ipywidgets as widgets\n",
        "from google.colab import output\n",
        "\n",
        "output.enable_custom_widget_manager()\n",
        "\n",
        "final_results = os.path.join(output_path, job_name, 'results', job_name+\"_1\")\n",
        "detection_results = os.path.join(final_results, \"per_image_local_max_check\")\n",
        "assoc_results = os.path.join(final_results, \"point_associations\")\n",
        "if test_ground_truth:\n",
        "    test_data_gt_path = \"/content/data/test/y_detection_masks\"\n",
        "\n",
        "# Show a few examples to check that they have been stored correctly\n",
        "ids_pred = sorted(next(os.walk(detection_results))[2])\n",
        "ids_pred = [x for x in ids_pred if not x.endswith('.csv') ]\n",
        "ids_assoc = sorted(next(os.walk(assoc_results))[2])\n",
        "ids_assoc = [x for x in ids_assoc if not x.endswith('.csv') ]\n",
        "ids_assoc = [x for x in ids_assoc if \"_gt_ids\" not in x ]\n",
        "ids_assoc = [x for x in ids_assoc if \"_pred_ids\" not in x ]\n",
        "ids_input = sorted(next(os.walk(test_data_path))[2])\n",
        "if test_ground_truth:\n",
        "    ids_gt = sorted(next(os.walk(test_data_gt_path))[2])\n",
        "\n",
        "samples_to_show = min(len(ids_input), 3)\n",
        "chosen_images = np.random.choice(len(ids_input), samples_to_show, replace=False)\n",
        "seed(1)\n",
        "\n",
        "test_samples = []\n",
        "test_sample_preds = []\n",
        "if test_ground_truth:\n",
        "    test_sample_gt = []\n",
        "    test_sample_assoc = []\n",
        "\n",
        "# read 3D images again\n",
        "for i in range(len(chosen_images)):\n",
        "    aux = imread(os.path.join(test_data_path, ids_input[chosen_images[i]]))\n",
        "    test_samples.append(np.squeeze(aux))\n",
        "\n",
        "    aux = imread(os.path.join(detection_results, ids_pred[chosen_images[i]])).astype(np.uint16)\n",
        "    test_sample_preds.append(np.squeeze(aux))\n",
        "\n",
        "    if test_ground_truth:\n",
        "        aux = imread(os.path.join(test_data_gt_path, ids_gt[chosen_images[i]])).astype(np.uint16)\n",
        "        test_sample_gt.append(np.squeeze(aux))\n",
        "\n",
        "        aux = imread(os.path.join(assoc_results, ids_assoc[chosen_images[i]]))\n",
        "        test_sample_assoc.append(np.squeeze(aux))\n",
        "\n",
        "# function to show results in 3D within a widget\n",
        "def scroll_in_z(z, j):\n",
        "    plt.figure(figsize=(18,4))\n",
        "    # Source\n",
        "    plt.subplot(1,4,1)\n",
        "    plt.axis('off')\n",
        "    plt.imshow(test_samples[j][z-1], cmap='gray')\n",
        "    plt.title('Source (z = ' + str(z) + ')', fontsize=15)\n",
        "\n",
        "    # Prediction\n",
        "    plt.subplot(1,4,3)\n",
        "    plt.axis('off')\n",
        "    plt.imshow(test_sample_preds[j][z-1], interpolation='nearest')\n",
        "    plt.title('Prediction (z = ' + str(z) + ')', fontsize=15)\n",
        "\n",
        "    if test_ground_truth:\n",
        "        # Target (Ground-truth)\n",
        "        plt.subplot(1,4,2)\n",
        "        plt.axis('off')\n",
        "        plt.imshow(test_sample_gt[j][z-1], interpolation='nearest')\n",
        "        plt.title('Ground truth (z = ' + str(z) + ')', fontsize=15)\n",
        "\n",
        "        # Overlay\n",
        "        plt.subplot(1,4,4)\n",
        "        plt.axis('off')\n",
        "        plt.imshow(test_sample_assoc[j][z-1], interpolation='nearest')\n",
        "        plt.title('Associations (z = ' + str(z) + ')', fontsize=15)\n",
        "\n",
        "    plt.show()\n",
        "\n",
        "for j in range(samples_to_show):\n",
        "    interact(scroll_in_z, z=widgets.IntSlider(min=1, max=test_samples[j].shape[0], step=1, value=test_samples[j].shape[0]//2), j=fixed(j));"
      ]
    },
    {
      "cell_type": "code",
      "execution_count": null,
      "metadata": {
        "cellView": "form",
        "id": "mlQnAH6uAawl",
        "colab": {
          "base_uri": "https://localhost:8080/"
        },
        "outputId": "0977e401-23f4-4773-9238-560ef71e9c1b"
      },
      "outputs": [
        {
          "output_type": "stream",
          "name": "stdout",
          "text": [
            "[06:30:37.660266] Output paths:\n",
            "[06:30:37.662520]     Detection files are in /content/output/my_3d_detection/results/my_3d_detection_1/per_image_local_max_check\n"
          ]
        }
      ],
      "source": [
        "#@markdown ###Play to display the path to the output files (one 3D TIFF label image for each input image).\n",
        "\n",
        "final_results = os.path.join(output_path, job_name, 'results', job_name+\"_1\")\n",
        "\n",
        "detection_results = os.path.join(final_results, \"per_image_local_max_check\")\n",
        "\n",
        "print(\"Output paths:\")\n",
        "print(\"    Detection files are in {}\".format(detection_results))"
      ]
    },
    {
      "cell_type": "code",
      "execution_count": null,
      "metadata": {
        "cellView": "form",
        "id": "VwabL1znb1h7",
        "colab": {
          "base_uri": "https://localhost:8080/"
        },
        "outputId": "a2f3838a-32e0-4cb9-f071-c6b79477be5b"
      },
      "outputs": [
        {
          "output_type": "stream",
          "name": "stdout",
          "text": [
            "[06:30:38.667145] Output paths:\n",
            "[06:30:38.667672]     Detection files are in /content/output/my_3d_detection/results/my_3d_detection_1/per_image_local_max_check\n"
          ]
        }
      ],
      "source": [
        "#@markdown ###Play to display the path to the association files (one 3D TIFF label image for each input image).\n",
        "\n",
        "final_results = os.path.join(output_path, job_name, 'results', job_name+\"_1\")\n",
        "\n",
        "detection_assoc_results = os.path.join(final_results, \"point_associations\")\n",
        "\n",
        "print(\"Output paths:\")\n",
        "print(\"    Detection files are in {}\".format(detection_results))"
      ]
    },
    {
      "cell_type": "markdown",
      "metadata": {
        "id": "zdCIYo4ohcAw"
      },
      "source": [
        "## **Download detection results**\n",
        "---"
      ]
    },
    {
      "cell_type": "code",
      "execution_count": null,
      "metadata": {
        "cellView": "form",
        "colab": {
          "base_uri": "https://localhost:8080/",
          "height": 17
        },
        "id": "gnRa9DOUP0FM",
        "outputId": "e3a120af-1594-4e53-bb31-e6295a109094"
      },
      "outputs": [
        {
          "data": {
            "application/javascript": "\n    async function download(id, filename, size) {\n      if (!google.colab.kernel.accessAllowed) {\n        return;\n      }\n      const div = document.createElement('div');\n      const label = document.createElement('label');\n      label.textContent = `Downloading \"${filename}\": `;\n      div.appendChild(label);\n      const progress = document.createElement('progress');\n      progress.max = size;\n      div.appendChild(progress);\n      document.body.appendChild(div);\n\n      const buffers = [];\n      let downloaded = 0;\n\n      const channel = await google.colab.kernel.comms.open(id);\n      // Send a message to notify the kernel that we're ready.\n      channel.send({})\n\n      for await (const message of channel.messages) {\n        // Send a message to notify the kernel that we're ready.\n        channel.send({})\n        if (message.buffers) {\n          for (const buffer of message.buffers) {\n            buffers.push(buffer);\n            downloaded += buffer.byteLength;\n            progress.value = downloaded;\n          }\n        }\n      }\n      const blob = new Blob(buffers, {type: 'application/binary'});\n      const a = document.createElement('a');\n      a.href = window.URL.createObjectURL(blob);\n      a.download = filename;\n      div.appendChild(a);\n      a.click();\n      div.remove();\n    }\n  ",
            "text/plain": [
              "<IPython.core.display.Javascript object>"
            ]
          },
          "metadata": {},
          "output_type": "display_data"
        },
        {
          "data": {
            "application/javascript": "download(\"download_9972b2b8-0cd4-4077-a54b-6a5e68907fea\", \"detection.zip\", 175589)",
            "text/plain": [
              "<IPython.core.display.Javascript object>"
            ]
          },
          "metadata": {},
          "output_type": "display_data"
        }
      ],
      "source": [
        "#@markdown ###Play to download a zip file with all detection results in test.\n",
        "\n",
        "from google.colab import files\n",
        "\n",
        "!zip -q -j /content/detection.zip $detection_results/*.tif\n",
        "\n",
        "files.download(\"/content/detection.zip\")\n"
      ]
    },
    {
      "cell_type": "code",
      "execution_count": null,
      "metadata": {
        "cellView": "form",
        "colab": {
          "base_uri": "https://localhost:8080/",
          "height": 17
        },
        "id": "cOkH_YgqX0l2",
        "outputId": "0bac80c9-4426-4092-937d-10ea253f774d"
      },
      "outputs": [
        {
          "data": {
            "application/javascript": "\n    async function download(id, filename, size) {\n      if (!google.colab.kernel.accessAllowed) {\n        return;\n      }\n      const div = document.createElement('div');\n      const label = document.createElement('label');\n      label.textContent = `Downloading \"${filename}\": `;\n      div.appendChild(label);\n      const progress = document.createElement('progress');\n      progress.max = size;\n      div.appendChild(progress);\n      document.body.appendChild(div);\n\n      const buffers = [];\n      let downloaded = 0;\n\n      const channel = await google.colab.kernel.comms.open(id);\n      // Send a message to notify the kernel that we're ready.\n      channel.send({})\n\n      for await (const message of channel.messages) {\n        // Send a message to notify the kernel that we're ready.\n        channel.send({})\n        if (message.buffers) {\n          for (const buffer of message.buffers) {\n            buffers.push(buffer);\n            downloaded += buffer.byteLength;\n            progress.value = downloaded;\n          }\n        }\n      }\n      const blob = new Blob(buffers, {type: 'application/binary'});\n      const a = document.createElement('a');\n      a.href = window.URL.createObjectURL(blob);\n      a.download = filename;\n      div.appendChild(a);\n      a.click();\n      div.remove();\n    }\n  ",
            "text/plain": [
              "<IPython.core.display.Javascript object>"
            ]
          },
          "metadata": {},
          "output_type": "display_data"
        },
        {
          "data": {
            "application/javascript": "download(\"download_a15ab68c-c8f5-4acc-8e1a-2a512912ddbf\", \"detection_associations.zip\", 791332)",
            "text/plain": [
              "<IPython.core.display.Javascript object>"
            ]
          },
          "metadata": {},
          "output_type": "display_data"
        }
      ],
      "source": [
        "#@markdown ### Click to Download a ZIP File with All Detection Association Results from Testing\n",
        "#@markdown For each test sample, several files are expected:\n",
        "#@markdown - '*_fn.csv': Contains the false positives (FPs)\n",
        "#@markdown - '*_gt_assoc.csv': Houses the associations between ground truth (GT) and prediction, encompassing both true positives (TP) and false negatives (FN)\n",
        "#@markdown - '*_gt_ids.tif': Represents labels for ground truth points\n",
        "#@markdown - '*_pred_ids.tif': Contains labels for predicted points\n",
        "#@markdown - '*.tif': Showcases associations between GT and predictions with colored indicators:\n",
        "#@markdown   - **Green**: True positives (TP)\n",
        "#@markdown   - **Red**: False negatives (FN)\n",
        "#@markdown   - **Blue**: False positives (FP)\n",
        "\n",
        "from google.colab import files\n",
        "\n",
        "\n",
        "!zip -q -j /content/detection_associations.zip $detection_assoc_results/*.tif\n",
        "\n",
        "files.download(\"/content/detection_associations.zip\")\n"
      ]
    },
    {
      "cell_type": "markdown",
      "metadata": {
        "id": "Kwt72WYddVgl"
      },
      "source": [
        "## **Download train model (weights and configuration file)**\n",
        "---\n",
        "If you want to **reuse the train model in the future**, you can download both the model weights and its configuration file (.YAML) by running the following cells."
      ]
    },
    {
      "cell_type": "code",
      "execution_count": null,
      "metadata": {
        "cellView": "form",
        "colab": {
          "base_uri": "https://localhost:8080/",
          "height": 17
        },
        "id": "XoFclBfEduZC",
        "outputId": "6886ef7c-453d-4f0e-bfa2-e0deb21663ef"
      },
      "outputs": [
        {
          "data": {
            "application/javascript": "\n    async function download(id, filename, size) {\n      if (!google.colab.kernel.accessAllowed) {\n        return;\n      }\n      const div = document.createElement('div');\n      const label = document.createElement('label');\n      label.textContent = `Downloading \"${filename}\": `;\n      div.appendChild(label);\n      const progress = document.createElement('progress');\n      progress.max = size;\n      div.appendChild(progress);\n      document.body.appendChild(div);\n\n      const buffers = [];\n      let downloaded = 0;\n\n      const channel = await google.colab.kernel.comms.open(id);\n      // Send a message to notify the kernel that we're ready.\n      channel.send({})\n\n      for await (const message of channel.messages) {\n        // Send a message to notify the kernel that we're ready.\n        channel.send({})\n        if (message.buffers) {\n          for (const buffer of message.buffers) {\n            buffers.push(buffer);\n            downloaded += buffer.byteLength;\n            progress.value = downloaded;\n          }\n        }\n      }\n      const blob = new Blob(buffers, {type: 'application/binary'});\n      const a = document.createElement('a');\n      a.href = window.URL.createObjectURL(blob);\n      a.download = filename;\n      div.appendChild(a);\n      a.click();\n      div.remove();\n    }\n  ",
            "text/plain": [
              "<IPython.core.display.Javascript object>"
            ]
          },
          "metadata": {},
          "output_type": "display_data"
        },
        {
          "data": {
            "application/javascript": "download(\"download_087df531-2b63-4abb-a826-4d6d702616bb\", \"model_weights_my_3d_instance_segmentation_1.h5\", 8366600)",
            "text/plain": [
              "<IPython.core.display.Javascript object>"
            ]
          },
          "metadata": {},
          "output_type": "display_data"
        }
      ],
      "source": [
        "from google.colab import files\n",
        "\n",
        "#@markdown ###Play to download the model weights\n",
        "\n",
        "checkpoints_path = os.path.join(output_path, job_name, 'checkpoints')\n",
        "\n",
        "weights_filename = str( job_name ) + '_1-checkpoint-best.pth'\n",
        "\n",
        "files.download( os.path.join( checkpoints_path, weights_filename))"
      ]
    },
    {
      "cell_type": "code",
      "execution_count": null,
      "metadata": {
        "cellView": "form",
        "colab": {
          "base_uri": "https://localhost:8080/",
          "height": 17
        },
        "id": "raDdSsz1dujE",
        "outputId": "deac9145-d0f1-4426-ddad-13f34126f4f0"
      },
      "outputs": [
        {
          "data": {
            "application/javascript": "\n    async function download(id, filename, size) {\n      if (!google.colab.kernel.accessAllowed) {\n        return;\n      }\n      const div = document.createElement('div');\n      const label = document.createElement('label');\n      label.textContent = `Downloading \"${filename}\": `;\n      div.appendChild(label);\n      const progress = document.createElement('progress');\n      progress.max = size;\n      div.appendChild(progress);\n      document.body.appendChild(div);\n\n      const buffers = [];\n      let downloaded = 0;\n\n      const channel = await google.colab.kernel.comms.open(id);\n      // Send a message to notify the kernel that we're ready.\n      channel.send({})\n\n      for await (const message of channel.messages) {\n        // Send a message to notify the kernel that we're ready.\n        channel.send({})\n        if (message.buffers) {\n          for (const buffer of message.buffers) {\n            buffers.push(buffer);\n            downloaded += buffer.byteLength;\n            progress.value = downloaded;\n          }\n        }\n      }\n      const blob = new Blob(buffers, {type: 'application/binary'});\n      const a = document.createElement('a');\n      a.href = window.URL.createObjectURL(blob);\n      a.download = filename;\n      div.appendChild(a);\n      a.click();\n      div.remove();\n    }\n  ",
            "text/plain": [
              "<IPython.core.display.Javascript object>"
            ]
          },
          "metadata": {},
          "output_type": "display_data"
        },
        {
          "data": {
            "application/javascript": "download(\"download_32a5000b-a7f2-4315-9748-8d2c8ae8fb41\", \"my_3d_instance_segmentation.yaml\", 1049)",
            "text/plain": [
              "<IPython.core.display.Javascript object>"
            ]
          },
          "metadata": {},
          "output_type": "display_data"
        }
      ],
      "source": [
        "#@markdown ###Play to download the model configuration file (.YAML)\n",
        "\n",
        "config_path = os.path.join(output_path, job_name, 'config_files')\n",
        "\n",
        "files.download( os.path.join( config_path, yaml_file))"
      ]
    },
    {
      "cell_type": "markdown",
      "metadata": {
        "id": "aruFYtbIqxoi"
      },
      "source": [
        "## **Export your model to BioImage Model Zoo format**\n",
        "---\n",
        "If you want to export the model into the [BioImage Model Zoo](https://bioimage.io/#/) format, fill the metadata and run the following cell. After the cell is run a `trained_model_name.bmz.zip` file will be downloaded."
      ]
    },
    {
      "cell_type": "code",
      "execution_count": null,
      "metadata": {
        "cellView": "form",
        "id": "LWHr_sQK_-qs"
      },
      "outputs": [],
      "source": [
        "\n",
        "#@markdown ##Construct model's metadata to export it to the BioImage Model Zoo format. Choose just one option:\n",
        "\n",
        "#@markdown **Option 1: Reuse previous BioImage Model Zoo model configuration**\n",
        "\n",
        "#@markdown With this option, if you were using a model from BioImage Model Zoo you can select this option to reuse its configuration instead of provide all fields manually. If that's not the case and you try to use this option an error will be thrown.\n",
        "reuse_previous_BMZ_model_config = False #@param {type:\"boolean\"}\n",
        "\n",
        "#@markdown ---\n",
        "\n",
        "#@markdown **Option 2: Manual export fields**\n",
        "\n",
        "#@markdown With this option you need to introduce manually the metadata of the model.\n",
        "\n",
        "# ------------- User input ------------\n",
        "# information about the model\n",
        "trained_model_name    = \"\" #@param {type:\"string\"}\n",
        "trained_model_authors =  \"[First Author, Second Author, Third Author]\" #@param {type:\"string\"}\n",
        "trained_model_authors_github_user =  \"[First Author Github User, Second Author Github User, Third Author Github User]\" #@param {type:\"string\"}\n",
        "trained_model_description = \"\" #@param {type:\"string\"}\n",
        "trained_model_license = 'CC-BY-4.0'#@param {type:\"string\"}\n",
        "trained_model_references = [\"Ronneberger et al. arXiv in 2015\", \"Franco-Barranco, Daniel, et al. ISBI in 2023\"] #@param {type:\"string\"}\n",
        "trained_model_references_DOI = [\"10.1007/978-3-319-24574-4_28\",\"10.1109/ISBI53787.2023.10230593\"] #@param {type:\"string\"}\n",
        "trained_model_tags = \"[\\\"tag-1\\\", \\\"tag-2\\\"]\" #@param {type:\"string\"}\n",
        "trained_model_documentation = \"/content/README.md\" #@param {type:\"string\"}\n"
      ]
    },
    {
      "cell_type": "code",
      "execution_count": null,
      "metadata": {
        "cellView": "form",
        "id": "KH8UuC_CgpH2"
      },
      "outputs": [],
      "source": [
        "# @markdown ###Play to download a zip file with your [BioImage Model Zoo](https://bioimage.io/#/) exported model\n",
        "\n",
        "from google.colab import files\n",
        "\n",
        "final_results = os.path.join(output_path, job_name, 'results', job_name+\"_1\")\n",
        "bmz_results = os.path.join(final_results, \"bmz_model\")\n",
        "\n",
        "if not reuse_previous_BMZ_model_config:\n",
        "\n",
        "    # create the author spec input\n",
        "    auth_names = trained_model_authors[1:-1].split(\",\")\n",
        "    auth_githubusers = trained_model_authors_github_user[1:-1].split(\",\")\n",
        "    assert len(auth_names) == len(auth_githubusers)\n",
        "    authors = [{\"name\": auth_name, \"github_user\": auth_guser} for auth_name, auth_guser in zip(auth_names, auth_githubusers)]\n",
        "\n",
        "    # create the citation input spec\n",
        "    assert len(trained_model_references_DOI) == len(trained_model_references)\n",
        "    citations = [{'text': text, 'doi': doi} for text, doi in zip(trained_model_references, trained_model_references_DOI)]\n",
        "\n",
        "    tags = [t for t in trained_model_tags.split(\",\")]\n",
        "\n",
        "    with open(trained_model_documentation, \"w\") as f:\n",
        "        f.write(\"### **Description**\\n\")\n",
        "        f.write(f\"{trained_model_description}\\n\\n\")\n",
        "        f.write(\"This model was created using the [BiaPy library](https://biapyx.github.io/).\\n\")\n",
        "\n",
        "    bmz_cfg = {}\n",
        "    # Description of the model\n",
        "    bmz_cfg['description'] = trained_model_description\n",
        "    # Authors of the model. Need to be a list of dicts, e.g. authors=[{\"name\": \"Daniel\", \"github_user\": \"danifranco\"}]\n",
        "    bmz_cfg['authors'] = authors\n",
        "    # License of the model. E.g. \"CC-BY-4.0\"\n",
        "    bmz_cfg['license'] = trained_model_license\n",
        "    # List of dictionaries of citations associated, e.g. [{\"text\": \"Gizmo et al.\", \"doi\": \"doi:10.1002/xyzacab123\"}]\n",
        "    bmz_cfg['tags'] = tags\n",
        "    # Tags to make models more findable on the website, e.g. tags=[\"electron-microscopy\", \"mitochondria\"]\n",
        "    bmz_cfg['cite'] = citations\n",
        "    # Path to a file with a documentation of the model in markdown, e.g. \"my-model/doc.md\"\n",
        "    bmz_cfg['doc'] = trained_model_documentation\n",
        "    # Name of the model\n",
        "    bmz_cfg[\"model_name\"] = trained_model_name\n",
        "    biapy.export_model_to_bmz(bmz_results, bmz_cfg)\n",
        "else:\n",
        "    try:\n",
        "        biapy.export_model_to_bmz(bmz_results, reuse_original_bmz_config=True)\n",
        "    except:\n",
        "        print(\"Seems that the was a problem reusing BMZ model specs. Please uncheck 'reuse_previous_BMZ_model_config' and do it manually\")\n",
        "\n",
        "download = True\n",
        "if not reuse_previous_BMZ_model_config:\n",
        "    bmz_zip_path = f\"/{bmz_results}/{trained_model_name}.zip\"\n",
        "else:\n",
        "    ids = sorted(next(os.walk(bmz_results))[2])\n",
        "    ids = [x for x in ids if x.endswith(\".zip\")]\n",
        "    if len(ids) > 1:\n",
        "        print(f\"There are more than one ZIP files in {bmz_results} folder. Please check which one you want you want to download and do it manually.\")\n",
        "        download = False\n",
        "    elif len(ids) == 0:\n",
        "        print(f\"BMZ zip file could not be found.\")\n",
        "        download = False\n",
        "    else: # only one zip\n",
        "        ids = ids[0]\n",
        "    bmz_zip_path = f\"/{bmz_results}/{ids}\"\n",
        "\n",
        "if download and os.path.exists(bmz_zip_path):\n",
        "    files.download(bmz_zip_path)\n"
      ]
    },
    {
      "cell_type": "markdown",
      "metadata": {
        "id": "ObM24OqXIIEL"
      },
      "source": [
        "## **Advanced options**\n",
        "---\n",
        "Here you will be able to modify some parameters of the post-processing step to improve your detection results."
      ]
    },
    {
      "cell_type": "markdown",
      "metadata": {
        "id": "eYWec6IqNzIH"
      },
      "source": [
        "### **Adjust detection threshold values**\n",
        "---\n",
        "* **`min_value_to_be_peak`:** Minimun probability value to consider a point as a peak. The lowest this value is, the more points will be detected. Decrease it if you get to few detections, and increase it if you get too many false positives. **Default: 0.3.**\n",
        "\n",
        "* **`tolerance`:** Maximum distance of a predicted point from a ground truth point to be considered as a true positive. **Default value: 10**\n",
        "\n",
        "* **`remove_close_points`:** Merge close detections into single ones. **Default value: True**\n",
        "\n",
        "* **`remove_close_points_radius`:** Distance between two detections to be considered the same (if `remove_close_points` is set to True). **Default value: 3**"
      ]
    },
    {
      "cell_type": "code",
      "execution_count": null,
      "metadata": {
        "cellView": "form",
        "id": "OyTutXhTIwTO"
      },
      "outputs": [],
      "source": [
        "#@markdown ### Detection parameters:\n",
        "min_value_to_be_peak = 0.3 #@param {type:\"number\"}\n",
        "tolerance = 10 #@param {type:\"number\"}\n",
        "remove_close_points = True #@param {type:\"boolean\"}\n",
        "remove_close_points_radius= 3 #@param {type:\"number\"}\n"
      ]
    },
    {
      "cell_type": "markdown",
      "metadata": {
        "id": "B4msBG9zOE64"
      },
      "source": [
        "### **Run inference**\n",
        "---"
      ]
    },
    {
      "cell_type": "code",
      "execution_count": null,
      "metadata": {
        "cellView": "form",
        "colab": {
          "base_uri": "https://localhost:8080/"
        },
        "id": "XCUY_JxANO9_",
        "outputId": "940cda98-bfda-42ce-8a6f-81c81f4bb160"
      },
      "outputs": [
        {
          "output_type": "stream",
          "name": "stdout",
          "text": [
            "[06:36:51.866660] Inference configuration finished.\n",
            "[06:36:51.879535] Date: 2024-09-04 06:36:51\n",
            "[06:36:51.879642] Arguments: Namespace(config='/content/my_3d_detection_inference.yaml', result_dir='/content/output', name='my_3d_detection', run_id=1, gpu=0, world_size=1, local_rank=-1, dist_on_itp=False, dist_url='env://', dist_backend='nccl')\n",
            "[06:36:51.879709] Job: my_3d_detection_1\n",
            "[06:36:51.879757] Python       : 3.10.12 (main, Jul 29 2024, 16:56:48) [GCC 11.4.0]\n",
            "[06:36:51.879798] PyTorch:  2.4.0+cu121\n",
            "[06:36:51.881021] Not using distributed mode\n",
            "[06:36:51.887625] Configuration details:\n",
            "[06:36:51.887688] AUGMENTOR:\n",
            "  AFFINE_MODE: reflect\n",
            "  AUG_NUM_SAMPLES: 10\n",
            "  AUG_SAMPLES: True\n",
            "  BRIGHTNESS: False\n",
            "  BRIGHTNESS_FACTOR: (-0.1, 0.1)\n",
            "  BRIGHTNESS_MODE: 3D\n",
            "  CBLUR_DOWN_RANGE: (2, 8)\n",
            "  CBLUR_INSIDE: True\n",
            "  CBLUR_SIZE: (0.2, 0.4)\n",
            "  CHANNEL_SHUFFLE: False\n",
            "  CMIX_SIZE: (0.2, 0.4)\n",
            "  CNOISE_NB_ITERATIONS: (1, 3)\n",
            "  CNOISE_SCALE: (0.05, 0.1)\n",
            "  CNOISE_SIZE: (0.2, 0.4)\n",
            "  CONTRAST: False\n",
            "  CONTRAST_FACTOR: (-0.1, 0.1)\n",
            "  CONTRAST_MODE: 3D\n",
            "  COUT_APPLY_TO_MASK: False\n",
            "  COUT_CVAL: 0.0\n",
            "  COUT_NB_ITERATIONS: (1, 3)\n",
            "  COUT_SIZE: (0.05, 0.3)\n",
            "  CUTBLUR: False\n",
            "  CUTMIX: False\n",
            "  CUTNOISE: False\n",
            "  CUTOUT: False\n",
            "  DA_PROB: 0.5\n",
            "  DRAW_GRID: True\n",
            "  DROPOUT: False\n",
            "  DROP_RANGE: (0, 0.2)\n",
            "  ELASTIC: False\n",
            "  ENABLE: True\n",
            "  E_ALPHA: (12, 16)\n",
            "  E_MODE: constant\n",
            "  E_SIGMA: 4\n",
            "  GAMMA_CONTRAST: False\n",
            "  GAUSSIAN_NOISE: False\n",
            "  GAUSSIAN_NOISE_MEAN: 0.0\n",
            "  GAUSSIAN_NOISE_USE_INPUT_IMG_MEAN_AND_VAR: False\n",
            "  GAUSSIAN_NOISE_VAR: 0.05\n",
            "  GC_GAMMA: (1.25, 1.75)\n",
            "  GRAYSCALE: False\n",
            "  GRIDMASK: False\n",
            "  GRID_D_RANGE: (0.4, 1)\n",
            "  GRID_INVERT: False\n",
            "  GRID_RATIO: 0.6\n",
            "  GRID_ROTATE: 1.0\n",
            "  G_BLUR: False\n",
            "  G_SIGMA: (1.0, 2.0)\n",
            "  HFLIP: True\n",
            "  MB_KERNEL: (3, 7)\n",
            "  MEDIAN_BLUR: False\n",
            "  MISALIGNMENT: False\n",
            "  MISSING_SECTIONS: False\n",
            "  MISSP_ITERATIONS: (10, 30)\n",
            "  MOTB_K_RANGE: (8, 12)\n",
            "  MOTION_BLUR: False\n",
            "  MS_DISPLACEMENT: 16\n",
            "  MS_ROTATE_RATIO: 0.5\n",
            "  PEPPER: False\n",
            "  PEPPER_AMOUNT: 0.05\n",
            "  POISSON_NOISE: False\n",
            "  RANDOM_ROT: False\n",
            "  RANDOM_ROT_RANGE: (-180, 180)\n",
            "  ROT90: False\n",
            "  SALT: False\n",
            "  SALT_AMOUNT: 0.05\n",
            "  SALT_AND_PEPPER: False\n",
            "  SALT_AND_PEPPER_AMOUNT: 0.05\n",
            "  SALT_AND_PEPPER_PROP: 0.5\n",
            "  SHEAR: False\n",
            "  SHEAR_RANGE: (-20, 20)\n",
            "  SHIFT: False\n",
            "  SHIFT_RANGE: (0.1, 0.2)\n",
            "  SHUFFLE_TRAIN_DATA_EACH_EPOCH: True\n",
            "  SHUFFLE_VAL_DATA_EACH_EPOCH: False\n",
            "  VFLIP: True\n",
            "  ZFLIP: True\n",
            "  ZOOM: False\n",
            "  ZOOM_IN_Z: False\n",
            "  ZOOM_RANGE: (0.8, 1.2)\n",
            "DATA:\n",
            "  CHECK_GENERATORS: False\n",
            "  EXTRACT_RANDOM_PATCH: False\n",
            "  FORCE_RGB: False\n",
            "  NORMALIZATION:\n",
            "    APPLICATION_MODE: image\n",
            "    CUSTOM_MEAN: -1.0\n",
            "    CUSTOM_STD: -1.0\n",
            "    PERC_CLIP: False\n",
            "    PERC_LOWER: -1.0\n",
            "    PERC_UPPER: -1.0\n",
            "    TYPE: div\n",
            "  PATCH_SIZE: (64, 64, 64, 1)\n",
            "  PREPROCESS:\n",
            "    CANNY:\n",
            "      ENABLE: False\n",
            "      HIGH_THRESHOLD: None\n",
            "      LOW_THRESHOLD: None\n",
            "    CLAHE:\n",
            "      CLIP_LIMIT: 0.01\n",
            "      ENABLE: False\n",
            "      KERNEL_SIZE: None\n",
            "    GAUSSIAN_BLUR:\n",
            "      CHANNEL_AXIS: None\n",
            "      ENABLE: False\n",
            "      MODE: nearest\n",
            "      SIGMA: 1\n",
            "    MATCH_HISTOGRAM:\n",
            "      ENABLE: False\n",
            "      REFERENCE_PATH: user_data/test/x\n",
            "    MEDIAN_BLUR:\n",
            "      ENABLE: False\n",
            "    RESIZE:\n",
            "      ANTI_ALIASING: False\n",
            "      CLIP: True\n",
            "      CVAL: 0.0\n",
            "      ENABLE: False\n",
            "      MODE: reflect\n",
            "      ORDER: 1\n",
            "      OUTPUT_SHAPE: (512, 512)\n",
            "      PRESERVE_RANGE: True\n",
            "    TEST: False\n",
            "    TRAIN: False\n",
            "    VAL: False\n",
            "    ZOOM:\n",
            "      ENABLE: False\n",
            "      ZOOM_FACTOR: [1, 1, 1, 1, 1]\n",
            "  PROBABILITY_MAP: False\n",
            "  REFLECT_TO_COMPLETE_SHAPE: False\n",
            "  TEST:\n",
            "    ARGMAX_TO_OUTPUT: True\n",
            "    BINARY_MASKS: /content/data/test/x/../bin_mask\n",
            "    CHECK_DATA: True\n",
            "    DETECTION_MASK_DIR: /content/data/test/y_detection_masks\n",
            "    GT_PATH: /content/data/test/y\n",
            "    INSTANCE_CHANNELS_DIR: /content/data/test/x_BC_thick\n",
            "    INSTANCE_CHANNELS_MASK_DIR: /content/data/test/y_BC_thick\n",
            "    IN_MEMORY: True\n",
            "    LOAD_GT: True\n",
            "    MEDIAN_PADDING: False\n",
            "    OVERLAP: (0, 0, 0)\n",
            "    PADDING: (8, 8, 8)\n",
            "    PATH: /content/data/test/x\n",
            "    RESOLUTION: (0.48, 0.51, 0.51)\n",
            "    SSL_SOURCE_DIR: /content/data/test/x_ssl_source\n",
            "    USE_VAL_AS_TEST: False\n",
            "  TRAIN:\n",
            "    CHECK_DATA: True\n",
            "    DETECTION_MASK_DIR: /content/data/train/y_detection_masks\n",
            "    GT_PATH: /content/data/train/y\n",
            "    INPUT_IMG_AXES_ORDER: TZCYX\n",
            "    INPUT_MASK_AXES_ORDER: TZCYX\n",
            "    INPUT_ZARR_MULTIPLE_DATA: False\n",
            "    INPUT_ZARR_MULTIPLE_DATA_GT_PATH: \n",
            "    INPUT_ZARR_MULTIPLE_DATA_RAW_PATH: \n",
            "    INSTANCE_CHANNELS_DIR: /content/data/train/x_BC_thick\n",
            "    INSTANCE_CHANNELS_MASK_DIR: /content/data/train/y_BC_thick\n",
            "    IN_MEMORY: True\n",
            "    MINIMUM_FOREGROUND_PER: 3.814697265625e-06\n",
            "    OVERLAP: (0, 0, 0)\n",
            "    PADDING: (0, 0, 0)\n",
            "    PATH: /content/data/train/x\n",
            "    REPLICATE: 0\n",
            "    RESOLUTION: (1, 1, 1)\n",
            "    SSL_SOURCE_DIR: /content/data/train/x_ssl_source\n",
            "  VAL:\n",
            "    CROSS_VAL: False\n",
            "    CROSS_VAL_FOLD: 1\n",
            "    CROSS_VAL_NFOLD: 5\n",
            "    DETECTION_MASK_DIR: user_data/val/y_detection_masks\n",
            "    DIST_EVAL: True\n",
            "    FROM_TRAIN: True\n",
            "    GT_PATH: user_data/val/y\n",
            "    INPUT_IMG_AXES_ORDER: TZCYX\n",
            "    INPUT_MASK_AXES_ORDER: TZCYX\n",
            "    INPUT_ZARR_MULTIPLE_DATA: False\n",
            "    INPUT_ZARR_MULTIPLE_DATA_GT_PATH: \n",
            "    INPUT_ZARR_MULTIPLE_DATA_RAW_PATH: \n",
            "    INSTANCE_CHANNELS_DIR: user_data/val/x_BC_thick\n",
            "    INSTANCE_CHANNELS_MASK_DIR: user_data/val/y_BC_thick\n",
            "    IN_MEMORY: True\n",
            "    OVERLAP: (0, 0, 0)\n",
            "    PADDING: (0, 0, 0)\n",
            "    PATH: user_data/val/x\n",
            "    RANDOM: True\n",
            "    RESOLUTION: (1, 1, 1)\n",
            "    SPLIT_TRAIN: 0.1\n",
            "    SSL_SOURCE_DIR: user_data/val/x_ssl_source\n",
            "  W_BACKGROUND: 0.06\n",
            "  W_FOREGROUND: 0.94\n",
            "LOG:\n",
            "  CHART_CREATION_FREQ: 5\n",
            "  LOG_DIR: /content/output/my_3d_detection/train_logs\n",
            "  LOG_FILE_PREFIX: my_3d_detection_1\n",
            "  TENSORBOARD_LOG_DIR: /content/output/my_3d_detection/results/my_3d_detection_1/tensorboard\n",
            "LOSS:\n",
            "  CLASS_REBALANCE: True\n",
            "  TYPE: CE\n",
            "  WEIGHTS: [0.66, 0.34]\n",
            "MODEL:\n",
            "  ACTIVATION: ELU\n",
            "  ARCHITECTURE: resunet\n",
            "  BMZ:\n",
            "    SOURCE_MODEL_ID: \n",
            "  CONVNEXT_LAYERS: [2, 2, 2, 2, 2]\n",
            "  CONVNEXT_LAYER_SCALE: 1e-06\n",
            "  CONVNEXT_SD_PROB: 0.1\n",
            "  CONVNEXT_STEM_K_SIZE: 2\n",
            "  DROPOUT_VALUES: [0.0, 0.0, 0.0, 0.0]\n",
            "  FEATURE_MAPS: [18, 36, 48, 64]\n",
            "  ISOTROPY: [True, True, True, True]\n",
            "  KERNEL_SIZE: 3\n",
            "  LARGER_IO: False\n",
            "  LAST_ACTIVATION: sigmoid\n",
            "  LOAD_CHECKPOINT: True\n",
            "  LOAD_CHECKPOINT_EPOCH: best_on_val\n",
            "  LOAD_CHECKPOINT_ONLY_WEIGHTS: True\n",
            "  MAE_DEC_HIDDEN_SIZE: 512\n",
            "  MAE_DEC_MLP_DIMS: 2048\n",
            "  MAE_DEC_NUM_HEADS: 16\n",
            "  MAE_DEC_NUM_LAYERS: 8\n",
            "  MAE_MASK_RATIO: 0.5\n",
            "  MAE_MASK_TYPE: grid\n",
            "  NORMALIZATION: bn\n",
            "  N_CLASSES: 2\n",
            "  SAVE_CKPT_FREQ: -1\n",
            "  SOURCE: biapy\n",
            "  TORCHVISION_MODEL_NAME: \n",
            "  UNETR_DEC_ACTIVATION: relu\n",
            "  UNETR_DEC_KERNEL_SIZE: 3\n",
            "  UNETR_VIT_HIDD_MULT: 3\n",
            "  UNETR_VIT_NUM_FILTERS: 16\n",
            "  UNET_SR_UPSAMPLE_POSITION: pre\n",
            "  UPSAMPLE_LAYER: convtranspose\n",
            "  VIT_EMBED_DIM: 768\n",
            "  VIT_MLP_RATIO: 4.0\n",
            "  VIT_MODEL: custom\n",
            "  VIT_NORM_EPS: 1e-06\n",
            "  VIT_NUM_HEADS: 12\n",
            "  VIT_NUM_LAYERS: 12\n",
            "  VIT_TOKEN_SIZE: 16\n",
            "  Z_DOWN: [2, 2, 2]\n",
            "PATHS:\n",
            "  CHARTS: /content/output/my_3d_detection/results/my_3d_detection_1/charts\n",
            "  CHECKPOINT: /content/output/my_3d_detection/checkpoints\n",
            "  CHECKPOINT_FILE: \n",
            "  DA_SAMPLES: /content/output/my_3d_detection/results/my_3d_detection_1/aug\n",
            "  GEN_CHECKS: /content/output/my_3d_detection/results/my_3d_detection_1/gen_check\n",
            "  GEN_MASK_CHECKS: /content/output/my_3d_detection/results/my_3d_detection_1/gen_mask_check\n",
            "  LWR_X_FILE: /content/output/my_3d_detection/checkpoints/lower_bound_X_perc.npy\n",
            "  LWR_Y_FILE: /content/output/my_3d_detection/checkpoints/lower_bound_Y_perc.npy\n",
            "  MAE_OUT_DIR: /content/output/my_3d_detection/results/my_3d_detection_1/MAE_checks\n",
            "  MEAN_INFO_FILE: /content/output/my_3d_detection/checkpoints/normalization_mean_value.npy\n",
            "  PROB_MAP_DIR: /content/output/my_3d_detection/prob_map\n",
            "  PROB_MAP_FILENAME: prob_map.npy\n",
            "  PROFILER: /content/output/my_3d_detection/results/my_3d_detection_1/profiler\n",
            "  RESULT_DIR:\n",
            "    AS_3D_STACK: /content/output/my_3d_detection/results/my_3d_detection_1/as_3d_stack\n",
            "    AS_3D_STACK_BIN: /content/output/my_3d_detection/results/my_3d_detection_1/as_3d_stack_binarized\n",
            "    AS_3D_STACK_POST_PROCESSING: /content/output/my_3d_detection/results/my_3d_detection_1/as_3d_stack_post_processing\n",
            "    DET_ASSOC_POINTS: /content/output/my_3d_detection/results/my_3d_detection_1/point_associations\n",
            "    DET_LOCAL_MAX_COORDS_CHECK: /content/output/my_3d_detection/results/my_3d_detection_1/per_image_local_max_check\n",
            "    FULL_IMAGE: /content/output/my_3d_detection/results/my_3d_detection_1/full_image\n",
            "    FULL_IMAGE_BIN: /content/output/my_3d_detection/results/my_3d_detection_1/full_image_binarized\n",
            "    FULL_IMAGE_INSTANCES: /content/output/my_3d_detection/results/my_3d_detection_1/full_image_instances\n",
            "    FULL_IMAGE_POST_PROCESSING: /content/output/my_3d_detection/results/my_3d_detection_1/full_image_post_processing\n",
            "    INST_ASSOC_POINTS: /content/output/my_3d_detection/results/my_3d_detection_1/instance_associations\n",
            "    PATH: /content/output/my_3d_detection/results/my_3d_detection_1\n",
            "    PER_IMAGE: /content/output/my_3d_detection/results/my_3d_detection_1/per_image\n",
            "    PER_IMAGE_BIN: /content/output/my_3d_detection/results/my_3d_detection_1/per_image_binarized\n",
            "    PER_IMAGE_INSTANCES: /content/output/my_3d_detection/results/my_3d_detection_1/per_image_instances\n",
            "    PER_IMAGE_POST_PROCESSING: /content/output/my_3d_detection/results/my_3d_detection_1/per_image_post_processing\n",
            "  STD_INFO_FILE: /content/output/my_3d_detection/checkpoints/normalization_std_value.npy\n",
            "  TEST_FULL_GT_H5: /content/data/test/y/h5\n",
            "  TEST_INSTANCE_CHANNELS_CHECK: /content/output/my_3d_detection/results/my_3d_detection_1/test_BC_instance_channels\n",
            "  TRAIN_INSTANCE_CHANNELS_CHECK: /content/output/my_3d_detection/results/my_3d_detection_1/train_BC_instance_channels\n",
            "  UPR_X_FILE: /content/output/my_3d_detection/checkpoints/upper_bound_X_perc.npy\n",
            "  UPR_Y_FILE: /content/output/my_3d_detection/checkpoints/upper_bound_Y_perc.npy\n",
            "  VAL_INSTANCE_CHANNELS_CHECK: /content/output/my_3d_detection/results/my_3d_detection_1/val_BC_instance_channels\n",
            "  WATERSHED_DIR: /content/output/my_3d_detection/results/my_3d_detection_1/watershed\n",
            "PROBLEM:\n",
            "  DENOISING:\n",
            "    N2V_MANIPULATOR: uniform_withCP\n",
            "    N2V_NEIGHBORHOOD_RADIUS: 5\n",
            "    N2V_PERC_PIX: 0.198\n",
            "    N2V_STRUCTMASK: False\n",
            "  DETECTION:\n",
            "    CENTRAL_POINT_DILATION: [0, 0, 0]\n",
            "    CHECK_POINTS_CREATED: True\n",
            "    DATA_CHECK_MW: False\n",
            "  IMAGE_TO_IMAGE:\n",
            "    MULTIPLE_RAW_ONE_TARGET_LOADER: False\n",
            "  INSTANCE_SEG:\n",
            "    DATA_CHANNELS: BC\n",
            "    DATA_CHANNEL_WEIGHTS: (1, 1)\n",
            "    DATA_CHECK_MW: False\n",
            "    DATA_CONTOUR_MODE: thick\n",
            "    DATA_MW_TH_BINARY_MASK: 0.5\n",
            "    DATA_MW_TH_CONTOUR: 0.1\n",
            "    DATA_MW_TH_DISTANCE: 1.0\n",
            "    DATA_MW_TH_FOREGROUND: 0.3\n",
            "    DATA_MW_TH_POINTS: 0.5\n",
            "    DATA_MW_TH_TYPE: auto\n",
            "    DATA_REMOVE_BEFORE_MW: False\n",
            "    DATA_REMOVE_SMALL_OBJ_BEFORE: 10\n",
            "    DISTANCE_CHANNEL_MASK: True\n",
            "    ERODE_AND_DILATE_FOREGROUND: False\n",
            "    FORE_DILATION_RADIUS: 5\n",
            "    FORE_EROSION_RADIUS: 5\n",
            "    SEED_MORPH_RADIUS: []\n",
            "    SEED_MORPH_SEQUENCE: []\n",
            "    WATERSHED_BY_2D_SLICES: False\n",
            "  NDIM: 3D\n",
            "  SELF_SUPERVISED:\n",
            "    NOISE: 0.2\n",
            "    PRETEXT_TASK: crappify\n",
            "    RESIZING_FACTOR: 4\n",
            "  SEMANTIC_SEG:\n",
            "    IGNORE_CLASS_ID: 0\n",
            "  SUPER_RESOLUTION:\n",
            "    UPSCALING: (1, 1, 1)\n",
            "  TYPE: DETECTION\n",
            "SYSTEM:\n",
            "  DEVICE: cpu\n",
            "  NUM_CPUS: 2\n",
            "  NUM_GPUS: 0\n",
            "  NUM_WORKERS: 5\n",
            "  PIN_MEM: True\n",
            "  SEED: 0\n",
            "TEST:\n",
            "  ANALIZE_2D_IMGS_AS_3D_STACK: False\n",
            "  AUGMENTATION: False\n",
            "  AUGMENTATION_MODE: mean\n",
            "  BY_CHUNKS:\n",
            "    ENABLE: False\n",
            "    FLUSH_EACH: 100\n",
            "    FORMAT: H5\n",
            "    INPUT_IMG_AXES_ORDER: TZCYX\n",
            "    INPUT_MASK_AXES_ORDER: TZCYX\n",
            "    INPUT_ZARR_MULTIPLE_DATA: False\n",
            "    INPUT_ZARR_MULTIPLE_DATA_GT_PATH: \n",
            "    INPUT_ZARR_MULTIPLE_DATA_RAW_PATH: \n",
            "    SAVE_OUT_TIF: False\n",
            "    WORKFLOW_PROCESS:\n",
            "      ENABLE: True\n",
            "      TYPE: chunk_by_chunk\n",
            "  DET_BLOB_LOG_MAX_SIGMA: 10\n",
            "  DET_BLOB_LOG_MIN_SIGMA: 5\n",
            "  DET_BLOB_LOG_NUM_SIGMA: 2\n",
            "  DET_EXCLUDE_BORDER: False\n",
            "  DET_IGNORE_POINTS_OUTSIDE_BOX: []\n",
            "  DET_MIN_TH_TO_BE_PEAK: [0.3]\n",
            "  DET_PEAK_LOCAL_MAX_MIN_DISTANCE: 1\n",
            "  DET_POINT_CREATION_FUNCTION: peak_local_max\n",
            "  DET_TOLERANCE: [10]\n",
            "  ENABLE: True\n",
            "  FULL_IMG: False\n",
            "  MATCHING_STATS: True\n",
            "  MATCHING_STATS_THS: [0.3, 0.5, 0.75]\n",
            "  MATCHING_STATS_THS_COLORED_IMG: [0.3]\n",
            "  METRICS: ['iou']\n",
            "  POST_PROCESSING:\n",
            "    APPLY_MASK: False\n",
            "    CLEAR_BORDER: False\n",
            "    DET_WATERSHED: False\n",
            "    DET_WATERSHED_DONUTS_CLASSES: [-1]\n",
            "    DET_WATERSHED_DONUTS_NUCLEUS_DIAMETER: 30\n",
            "    DET_WATERSHED_DONUTS_PATCH: [13, 120, 120]\n",
            "    DET_WATERSHED_FIRST_DILATION: [[-1, -1]]\n",
            "    MEASURE_PROPERTIES:\n",
            "      ENABLE: False\n",
            "      REMOVE_BY_PROPERTIES:\n",
            "        ENABLE: False\n",
            "        PROPS: []\n",
            "        SIGN: []\n",
            "        VALUES: []\n",
            "    MEDIAN_FILTER: False\n",
            "    MEDIAN_FILTER_AXIS: []\n",
            "    MEDIAN_FILTER_SIZE: []\n",
            "    REMOVE_CLOSE_POINTS: True\n",
            "    REMOVE_CLOSE_POINTS_RADIUS: [3]\n",
            "    REPARE_LARGE_BLOBS_SIZE: -1\n",
            "    VORONOI_ON_MASK: False\n",
            "    VORONOI_TH: 0.0\n",
            "  REDUCE_MEMORY: True\n",
            "  REUSE_PREDICTIONS: False\n",
            "  VERBOSE: True\n",
            "TRAIN:\n",
            "  ACCUM_ITER: 1\n",
            "  BATCH_SIZE: 8\n",
            "  CHECKPOINT_MONITOR: val_loss\n",
            "  ENABLE: False\n",
            "  EPOCHS: 150\n",
            "  LR: 0.001\n",
            "  LR_SCHEDULER:\n",
            "    MIN_LR: 0.0\n",
            "    NAME: warmupcosine\n",
            "    REDUCEONPLATEAU_FACTOR: 0.5\n",
            "    REDUCEONPLATEAU_PATIENCE: -1\n",
            "    WARMUP_COSINE_DECAY_EPOCHS: 0\n",
            "  METRICS: ['iou']\n",
            "  OPTIMIZER: ADAMW\n",
            "  OPT_BETAS: (0.9, 0.999)\n",
            "  PATIENCE: 20\n",
            "  VERBOSE: False\n",
            "  W_DECAY: 0.02\n",
            "[06:36:51.888619] *~~~~~~~~~~~~~~~~~~~~~~~~~~~~~~~~~~~~~~~~~~~~~~~~~~*\n",
            "[06:36:51.888665] Initializing Detection_Workflow\n",
            "[06:36:51.888705] *~~~~~~~~~~~~~~~~~~~~~~~~~~~~~~~~~~~~~~~~~~~~~~~~~~*\n",
            "\n",
            "[06:36:51.893357] ############################\n",
            "[06:36:51.893423] #  PREPARE DETECTION DATA  #\n",
            "[06:36:51.893466] ############################\n",
            "[06:36:51.895488] DATA.TEST.GT_PATH changed from /content/data/test/y to /content/data/test/y_detection_masks\n",
            "[06:36:51.896567] ######################\n",
            "[06:36:51.896641] #   LOAD TEST DATA   #\n",
            "[06:36:51.896686] ######################\n",
            "[06:36:51.896736] 2) Loading test images . . .\n",
            "[06:36:51.896800] Loading data from /content/data/test/x\n"
          ]
        },
        {
          "output_type": "stream",
          "name": "stderr",
          "text": [
            "100%|\u2588\u2588\u2588\u2588\u2588\u2588\u2588\u2588\u2588\u2588| 27/27 [00:00<00:00, 1280.18it/s]\n"
          ]
        },
        {
          "output_type": "stream",
          "name": "stdout",
          "text": [
            "[06:36:51.931155] *** Loaded data shape is (27, 64, 64, 64, 1)\n",
            "[06:36:51.931269] 3) Loading test masks . . .\n",
            "[06:36:51.932867] Loading data from /content/data/test/y_detection_masks\n"
          ]
        },
        {
          "output_type": "stream",
          "name": "stderr",
          "text": [
            "100%|\u2588\u2588\u2588\u2588\u2588\u2588\u2588\u2588\u2588\u2588| 27/27 [00:00<00:00, 188.70it/s]\n"
          ]
        },
        {
          "output_type": "stream",
          "name": "stdout",
          "text": [
            "[06:36:52.084809] *** Loaded data shape is (27, 64, 64, 64, 1)\n",
            "[06:36:52.085075] ###############\n",
            "[06:36:52.085124] # Build model #\n",
            "[06:36:52.085157] ###############\n"
          ]
        },
        {
          "output_type": "stream",
          "name": "stderr",
          "text": [
            "/usr/local/lib/python3.10/dist-packages/biapy/utils/misc.py:230: FutureWarning: You are using `torch.load` with `weights_only=False` (the current default value), which uses the default pickle module implicitly. It is possible to construct malicious pickle data which will execute arbitrary code during unpickling (See https://github.com/pytorch/pytorch/blob/main/SECURITY.md#untrusted-models for more details). In a future release, the default value for `weights_only` will be flipped to `True`. This limits the functions that could be executed during unpickling. Arbitrary objects will no longer be allowed to be loaded via this mode unless they are explicitly allowlisted by the user via `torch.serialization.add_safe_globals`. We recommend you start setting `weights_only=True` for any use case where you don't have full control of the loaded file. Please open an issue on GitHub for any issues related to this experimental feature.\n",
            "  checkpoint = torch.load(resume, map_location=device)\n"
          ]
        },
        {
          "output_type": "stream",
          "name": "stdout",
          "text": [
            "[06:36:52.144789] Loading checkpoint from file /content/output/my_3d_detection/checkpoints/my_3d_detection_1-checkpoint-best.pth\n",
            "[06:36:52.238436] Model weights loaded!\n",
            "[06:36:52.239860] ############################\n",
            "[06:36:52.239947] #  PREPARE TEST GENERATOR  #\n",
            "[06:36:52.239988] ############################\n",
            "[06:36:52.246226] ###############\n",
            "[06:36:52.246308] #  INFERENCE  #\n",
            "[06:36:52.246364] ###############\n",
            "[06:36:52.246413] Making predictions on test data . . .\n"
          ]
        },
        {
          "output_type": "stream",
          "name": "stderr",
          "text": [
            "\r  0%|          | 0/27 [00:00<?, ?it/s]"
          ]
        },
        {
          "output_type": "stream",
          "name": "stdout",
          "text": [
            "[06:36:52.256712] Processing image: vol_000.tif\n"
          ]
        },
        {
          "output_type": "stream",
          "name": "stderr",
          "text": [
            "\n",
            "  0%|          | 0/1 [00:00<?, ?it/s]\u001b[A/usr/local/lib/python3.10/dist-packages/biapy/engine/base_workflow.py:2038: FutureWarning: `torch.cuda.amp.autocast(args...)` is deprecated. Please use `torch.amp.autocast('cuda', args...)` instead.\n",
            "  with torch.cuda.amp.autocast():\n",
            "\n",
            "                                     \u001b[A"
          ]
        },
        {
          "output_type": "stream",
          "name": "stdout",
          "text": [
            "[06:36:52.295271] Saving (1, 64, 64, 64, 1) data as .tif in folder: /content/output/my_3d_detection/results/my_3d_detection_1/per_image\n"
          ]
        },
        {
          "output_type": "stream",
          "name": "stderr",
          "text": [
            "\n",
            "  0%|          | 0/1 [00:00<?, ?it/s]\u001b[A\n",
            "                                     \u001b[A"
          ]
        },
        {
          "output_type": "stream",
          "name": "stdout",
          "text": [
            "[06:36:52.344401] Capturing the local maxima \n",
            "[06:36:52.346350] Class 1\n",
            "[06:36:52.362609] Removing close points . . .\n",
            "[06:36:52.362686] Initial number of points: 87\n",
            "[06:36:52.365148] Final number of points: 54\n",
            "[06:36:52.365284] Creating the images with detected points . . .\n",
            "[06:36:52.390799] Saving (1, 64, 64, 64, 1) data as .tif in folder: /content/output/my_3d_detection/results/my_3d_detection_1/point_associations\n"
          ]
        },
        {
          "output_type": "stream",
          "name": "stderr",
          "text": [
            "\n",
            "  0%|          | 0/1 [00:00<?, ?it/s]\u001b[A\n",
            "                                     \u001b[A"
          ]
        },
        {
          "output_type": "stream",
          "name": "stdout",
          "text": [
            "[06:36:52.436214] Saving (1, 64, 64, 64, 1) data as .tif in folder: /content/output/my_3d_detection/results/my_3d_detection_1/per_image_local_max_check\n"
          ]
        },
        {
          "output_type": "stream",
          "name": "stderr",
          "text": [
            "\n",
            "  0%|          | 0/1 [00:00<?, ?it/s]\u001b[A\n",
            "                                     \u001b[A"
          ]
        },
        {
          "output_type": "stream",
          "name": "stdout",
          "text": [
            "[06:36:52.460460] WARNING: The CSV file seems to have different name than image. Using the CSV file with the same position as the CSV in the directory. Check if it is correct!\n",
            "[06:36:52.461360] Its respective CSV file seems to be: /content/data/test/y/mask_000.csv\n",
            "[06:36:52.461430] Reading GT data from: /content/data/test/y/mask_000.csv\n",
            "[06:36:52.465007] Detection (class 1)\n",
            "[06:36:52.467797] Points in ground truth: 61, Points in prediction: 54\n",
            "[06:36:52.467876] True positives: 53, False positives: 1, False negatives: 8\n",
            "[06:36:52.467974] Detection metrics: {'Precision': 0.9814814814814815, 'Recall': 0.8688524590163934, 'F1': 0.9217391304347826, 'TP': 53, 'FP': 1, 'FN': 8}\n",
            "[06:36:52.472261] All classes 1\n",
            "[06:36:52.472386] Detection metrics: ['Precision', 0.9814814814814815, 'Recall', 0.8688524590163934, 'F1', 0.9217391304347826]\n",
            "[06:36:52.472450] Creating the image with a summary of detected points and false positives with colors . . .\n",
            "[06:36:52.529992] Saving (1, 64, 64, 64, 1) data as .tif in folder: /content/output/my_3d_detection/results/my_3d_detection_1/point_associations\n"
          ]
        },
        {
          "output_type": "stream",
          "name": "stderr",
          "text": [
            "\n",
            "  0%|          | 0/1 [00:00<?, ?it/s]\u001b[A\n",
            "                                     \u001b[A"
          ]
        },
        {
          "output_type": "stream",
          "name": "stdout",
          "text": [
            "[06:36:52.619150] Saving (1, 64, 64, 64, 3) data as .tif in folder: /content/output/my_3d_detection/results/my_3d_detection_1/point_associations\n"
          ]
        },
        {
          "output_type": "stream",
          "name": "stderr",
          "text": [
            "\n",
            "  0%|          | 0/1 [00:00<?, ?it/s]\u001b[A\n",
            "  4%|\u258e         | 1/27 [00:00<00:10,  2.55it/s]"
          ]
        },
        {
          "output_type": "stream",
          "name": "stdout",
          "text": [
            "[06:36:52.651067] Processing image: vol_001.tif\n"
          ]
        },
        {
          "output_type": "stream",
          "name": "stderr",
          "text": [
            "\n",
            "  0%|          | 0/1 [00:00<?, ?it/s]\u001b[A/usr/local/lib/python3.10/dist-packages/biapy/engine/base_workflow.py:2038: FutureWarning: `torch.cuda.amp.autocast(args...)` is deprecated. Please use `torch.amp.autocast('cuda', args...)` instead.\n",
            "  with torch.cuda.amp.autocast():\n",
            "\n",
            "                                     \u001b[A"
          ]
        },
        {
          "output_type": "stream",
          "name": "stdout",
          "text": [
            "[06:36:52.689338] Saving (1, 64, 64, 64, 1) data as .tif in folder: /content/output/my_3d_detection/results/my_3d_detection_1/per_image\n"
          ]
        },
        {
          "output_type": "stream",
          "name": "stderr",
          "text": [
            "\n",
            "  0%|          | 0/1 [00:00<?, ?it/s]\u001b[A\n",
            "                                     \u001b[A"
          ]
        },
        {
          "output_type": "stream",
          "name": "stdout",
          "text": [
            "[06:36:52.748444] Capturing the local maxima \n",
            "[06:36:52.749355] Class 1\n",
            "[06:36:52.783050] Removing close points . . .\n",
            "[06:36:52.783163] Initial number of points: 799\n",
            "[06:36:52.792402] Final number of points: 535\n",
            "[06:36:52.792713] Creating the images with detected points . . .\n",
            "[06:36:52.819059] Saving (1, 64, 64, 64, 1) data as .tif in folder: /content/output/my_3d_detection/results/my_3d_detection_1/point_associations\n"
          ]
        },
        {
          "output_type": "stream",
          "name": "stderr",
          "text": [
            "\n",
            "  0%|          | 0/1 [00:00<?, ?it/s]\u001b[A\n",
            "                                     \u001b[A"
          ]
        },
        {
          "output_type": "stream",
          "name": "stdout",
          "text": [
            "[06:36:52.869197] Saving (1, 64, 64, 64, 1) data as .tif in folder: /content/output/my_3d_detection/results/my_3d_detection_1/per_image_local_max_check\n"
          ]
        },
        {
          "output_type": "stream",
          "name": "stderr",
          "text": [
            "\n",
            "  0%|          | 0/1 [00:00<?, ?it/s]\u001b[A\n",
            "                                     \u001b[A"
          ]
        },
        {
          "output_type": "stream",
          "name": "stdout",
          "text": [
            "[06:36:52.901372] WARNING: The CSV file seems to have different name than image. Using the CSV file with the same position as the CSV in the directory. Check if it is correct!\n",
            "[06:36:52.901480] Its respective CSV file seems to be: /content/data/test/y/mask_001.csv\n",
            "[06:36:52.901533] Reading GT data from: /content/data/test/y/mask_001.csv\n",
            "[06:36:52.905700] Detection (class 1)\n",
            "[06:36:52.936358] Points in ground truth: 649, Points in prediction: 535\n",
            "[06:36:52.936779] True positives: 535, False positives: 0, False negatives: 114\n",
            "[06:36:52.936897] Detection metrics: {'Precision': 1.0, 'Recall': 0.8243451463790447, 'F1': 0.9037162162162162, 'TP': 535, 'FP': 0, 'FN': 114}\n",
            "[06:36:52.944569] All classes 1\n",
            "[06:36:52.944679] Detection metrics: ['Precision', 1.0, 'Recall', 0.8243451463790447, 'F1', 0.9037162162162162]\n",
            "[06:36:52.944733] Creating the image with a summary of detected points and false positives with colors . . .\n",
            "[06:36:53.355740] Saving (1, 64, 64, 64, 1) data as .tif in folder: /content/output/my_3d_detection/results/my_3d_detection_1/point_associations\n"
          ]
        },
        {
          "output_type": "stream",
          "name": "stderr",
          "text": [
            "\n",
            "  0%|          | 0/1 [00:00<?, ?it/s]\u001b[A\n",
            "                                     \u001b[A"
          ]
        },
        {
          "output_type": "stream",
          "name": "stdout",
          "text": [
            "[06:36:53.453403] Saving (1, 64, 64, 64, 3) data as .tif in folder: /content/output/my_3d_detection/results/my_3d_detection_1/point_associations\n"
          ]
        },
        {
          "output_type": "stream",
          "name": "stderr",
          "text": [
            "\n",
            "  0%|          | 0/1 [00:00<?, ?it/s]\u001b[A\n",
            "  7%|\u258b         | 2/27 [00:01<00:16,  1.53it/s]"
          ]
        },
        {
          "output_type": "stream",
          "name": "stdout",
          "text": [
            "[06:36:53.488391] Processing image: vol_002.tif\n"
          ]
        },
        {
          "output_type": "stream",
          "name": "stderr",
          "text": [
            "\n",
            "  0%|          | 0/1 [00:00<?, ?it/s]\u001b[A/usr/local/lib/python3.10/dist-packages/biapy/engine/base_workflow.py:2038: FutureWarning: `torch.cuda.amp.autocast(args...)` is deprecated. Please use `torch.amp.autocast('cuda', args...)` instead.\n",
            "  with torch.cuda.amp.autocast():\n",
            "\n",
            "                                     \u001b[A"
          ]
        },
        {
          "output_type": "stream",
          "name": "stdout",
          "text": [
            "[06:36:53.523579] Saving (1, 64, 64, 64, 1) data as .tif in folder: /content/output/my_3d_detection/results/my_3d_detection_1/per_image\n"
          ]
        },
        {
          "output_type": "stream",
          "name": "stderr",
          "text": [
            "\n",
            "  0%|          | 0/1 [00:00<?, ?it/s]\u001b[A\n",
            "                                     \u001b[A"
          ]
        },
        {
          "output_type": "stream",
          "name": "stdout",
          "text": [
            "[06:36:53.570383] Capturing the local maxima \n",
            "[06:36:53.571241] Class 1\n",
            "[06:36:53.588369] Removing close points . . .\n",
            "[06:36:53.589032] Initial number of points: 78\n",
            "[06:36:53.590608] Final number of points: 37\n",
            "[06:36:53.590732] Creating the images with detected points . . .\n",
            "[06:36:53.616956] Saving (1, 64, 64, 64, 1) data as .tif in folder: /content/output/my_3d_detection/results/my_3d_detection_1/point_associations\n"
          ]
        },
        {
          "output_type": "stream",
          "name": "stderr",
          "text": [
            "\n",
            "  0%|          | 0/1 [00:00<?, ?it/s]\u001b[A\n",
            "                                     \u001b[A"
          ]
        },
        {
          "output_type": "stream",
          "name": "stdout",
          "text": [
            "[06:36:53.663877] Saving (1, 64, 64, 64, 1) data as .tif in folder: /content/output/my_3d_detection/results/my_3d_detection_1/per_image_local_max_check\n"
          ]
        },
        {
          "output_type": "stream",
          "name": "stderr",
          "text": [
            "\n",
            "  0%|          | 0/1 [00:00<?, ?it/s]\u001b[A\n",
            "                                     \u001b[A"
          ]
        },
        {
          "output_type": "stream",
          "name": "stdout",
          "text": [
            "[06:36:53.688087] WARNING: The CSV file seems to have different name than image. Using the CSV file with the same position as the CSV in the directory. Check if it is correct!\n",
            "[06:36:53.688186] Its respective CSV file seems to be: /content/data/test/y/mask_002.csv\n",
            "[06:36:53.688246] Reading GT data from: /content/data/test/y/mask_002.csv\n",
            "[06:36:53.691739] Detection (class 1)\n",
            "[06:36:53.695786] Points in ground truth: 19, Points in prediction: 37\n",
            "[06:36:53.695863] True positives: 19, False positives: 18, False negatives: 0\n",
            "[06:36:53.695957] Detection metrics: {'Precision': 0.5135135135135135, 'Recall': 1.0, 'F1': 0.6785714285714285, 'TP': 19, 'FP': 18, 'FN': 0}\n",
            "[06:36:53.700292] All classes 1\n",
            "[06:36:53.700408] Detection metrics: ['Precision', 0.5135135135135135, 'Recall', 1.0, 'F1', 0.6785714285714285]\n",
            "[06:36:53.700473] Creating the image with a summary of detected points and false positives with colors . . .\n",
            "[06:36:53.748754] Saving (1, 64, 64, 64, 1) data as .tif in folder: /content/output/my_3d_detection/results/my_3d_detection_1/point_associations\n"
          ]
        },
        {
          "output_type": "stream",
          "name": "stderr",
          "text": [
            "\n",
            "  0%|          | 0/1 [00:00<?, ?it/s]\u001b[A\n",
            "                                     \u001b[A"
          ]
        },
        {
          "output_type": "stream",
          "name": "stdout",
          "text": [
            "[06:36:53.841377] Saving (1, 64, 64, 64, 3) data as .tif in folder: /content/output/my_3d_detection/results/my_3d_detection_1/point_associations\n"
          ]
        },
        {
          "output_type": "stream",
          "name": "stderr",
          "text": [
            "\n",
            "  0%|          | 0/1 [00:00<?, ?it/s]\u001b[A\n",
            " 11%|\u2588         | 3/27 [00:01<00:12,  1.88it/s]"
          ]
        },
        {
          "output_type": "stream",
          "name": "stdout",
          "text": [
            "[06:36:53.875437] Processing image: vol_003.tif\n"
          ]
        },
        {
          "output_type": "stream",
          "name": "stderr",
          "text": [
            "\n",
            "  0%|          | 0/1 [00:00<?, ?it/s]\u001b[A/usr/local/lib/python3.10/dist-packages/biapy/engine/base_workflow.py:2038: FutureWarning: `torch.cuda.amp.autocast(args...)` is deprecated. Please use `torch.amp.autocast('cuda', args...)` instead.\n",
            "  with torch.cuda.amp.autocast():\n",
            "\n",
            "                                     \u001b[A"
          ]
        },
        {
          "output_type": "stream",
          "name": "stdout",
          "text": [
            "[06:36:53.915740] Saving (1, 64, 64, 64, 1) data as .tif in folder: /content/output/my_3d_detection/results/my_3d_detection_1/per_image\n"
          ]
        },
        {
          "output_type": "stream",
          "name": "stderr",
          "text": [
            "\n",
            "  0%|          | 0/1 [00:00<?, ?it/s]\u001b[A\n",
            "                                     \u001b[A"
          ]
        },
        {
          "output_type": "stream",
          "name": "stdout",
          "text": [
            "[06:36:53.970787] Capturing the local maxima \n",
            "[06:36:53.972011] Class 1\n",
            "[06:36:54.016622] Removing close points . . .\n",
            "[06:36:54.017608] Initial number of points: 834\n",
            "[06:36:54.035671] Final number of points: 496\n",
            "[06:36:54.037328] Creating the images with detected points . . .\n",
            "[06:36:54.091085] Saving (1, 64, 64, 64, 1) data as .tif in folder: /content/output/my_3d_detection/results/my_3d_detection_1/point_associations\n"
          ]
        },
        {
          "output_type": "stream",
          "name": "stderr",
          "text": [
            "\n",
            "  0%|          | 0/1 [00:00<?, ?it/s]\u001b[A\n",
            "                                     \u001b[A"
          ]
        },
        {
          "output_type": "stream",
          "name": "stdout",
          "text": [
            "[06:36:54.158191] Saving (1, 64, 64, 64, 1) data as .tif in folder: /content/output/my_3d_detection/results/my_3d_detection_1/per_image_local_max_check\n"
          ]
        },
        {
          "output_type": "stream",
          "name": "stderr",
          "text": [
            "\n",
            "  0%|          | 0/1 [00:00<?, ?it/s]\u001b[A\n",
            "                                     \u001b[A"
          ]
        },
        {
          "output_type": "stream",
          "name": "stdout",
          "text": [
            "[06:36:54.199520] WARNING: The CSV file seems to have different name than image. Using the CSV file with the same position as the CSV in the directory. Check if it is correct!\n",
            "[06:36:54.200839] Its respective CSV file seems to be: /content/data/test/y/mask_003.csv\n",
            "[06:36:54.201826] Reading GT data from: /content/data/test/y/mask_003.csv\n",
            "[06:36:54.205603] Detection (class 1)\n",
            "[06:36:54.261601] Points in ground truth: 501, Points in prediction: 496\n",
            "[06:36:54.261744] True positives: 496, False positives: 0, False negatives: 5\n",
            "[06:36:54.262499] Detection metrics: {'Precision': 1.0, 'Recall': 0.9900199600798403, 'F1': 0.9949849548645937, 'TP': 496, 'FP': 0, 'FN': 5}\n",
            "[06:36:54.275768] All classes 1\n",
            "[06:36:54.278284] Detection metrics: ['Precision', 1.0, 'Recall', 0.9900199600798403, 'F1', 0.9949849548645937]\n",
            "[06:36:54.281395] Creating the image with a summary of detected points and false positives with colors . . .\n",
            "[06:36:54.627003] Saving (1, 64, 64, 64, 1) data as .tif in folder: /content/output/my_3d_detection/results/my_3d_detection_1/point_associations\n"
          ]
        },
        {
          "output_type": "stream",
          "name": "stderr",
          "text": [
            "\n",
            "  0%|          | 0/1 [00:00<?, ?it/s]\u001b[A\n",
            "                                     \u001b[A"
          ]
        },
        {
          "output_type": "stream",
          "name": "stdout",
          "text": [
            "[06:36:54.767133] Saving (1, 64, 64, 64, 3) data as .tif in folder: /content/output/my_3d_detection/results/my_3d_detection_1/point_associations\n"
          ]
        },
        {
          "output_type": "stream",
          "name": "stderr",
          "text": [
            "\n",
            "  0%|          | 0/1 [00:00<?, ?it/s]\u001b[A\n",
            " 15%|\u2588\u258d        | 4/27 [00:02<00:15,  1.45it/s]"
          ]
        },
        {
          "output_type": "stream",
          "name": "stdout",
          "text": [
            "[06:36:54.807232] Processing image: vol_004.tif\n"
          ]
        },
        {
          "output_type": "stream",
          "name": "stderr",
          "text": [
            "\n",
            "  0%|          | 0/1 [00:00<?, ?it/s]\u001b[A/usr/local/lib/python3.10/dist-packages/biapy/engine/base_workflow.py:2038: FutureWarning: `torch.cuda.amp.autocast(args...)` is deprecated. Please use `torch.amp.autocast('cuda', args...)` instead.\n",
            "  with torch.cuda.amp.autocast():\n",
            "\n",
            "                                     \u001b[A"
          ]
        },
        {
          "output_type": "stream",
          "name": "stdout",
          "text": [
            "[06:36:54.850406] Saving (1, 64, 64, 64, 1) data as .tif in folder: /content/output/my_3d_detection/results/my_3d_detection_1/per_image\n"
          ]
        },
        {
          "output_type": "stream",
          "name": "stderr",
          "text": [
            "\n",
            "  0%|          | 0/1 [00:00<?, ?it/s]\u001b[A\n",
            "                                     \u001b[A"
          ]
        },
        {
          "output_type": "stream",
          "name": "stdout",
          "text": [
            "[06:36:54.935894] Capturing the local maxima \n",
            "[06:36:54.937060] Class 1\n",
            "[06:36:54.963359] Removing close points . . .\n",
            "[06:36:54.964519] Initial number of points: 403\n",
            "[06:36:54.977319] Final number of points: 244\n",
            "[06:36:54.980047] Creating the images with detected points . . .\n",
            "[06:36:55.035268] Saving (1, 64, 64, 64, 1) data as .tif in folder: /content/output/my_3d_detection/results/my_3d_detection_1/point_associations\n"
          ]
        },
        {
          "output_type": "stream",
          "name": "stderr",
          "text": [
            "\n",
            "  0%|          | 0/1 [00:00<?, ?it/s]\u001b[A\n",
            "                                     \u001b[A"
          ]
        },
        {
          "output_type": "stream",
          "name": "stdout",
          "text": [
            "[06:36:55.116108] Saving (1, 64, 64, 64, 1) data as .tif in folder: /content/output/my_3d_detection/results/my_3d_detection_1/per_image_local_max_check\n"
          ]
        },
        {
          "output_type": "stream",
          "name": "stderr",
          "text": [
            "\n",
            "  0%|          | 0/1 [00:00<?, ?it/s]\u001b[A\n",
            "                                     \u001b[A"
          ]
        },
        {
          "output_type": "stream",
          "name": "stdout",
          "text": [
            "[06:36:55.157771] WARNING: The CSV file seems to have different name than image. Using the CSV file with the same position as the CSV in the directory. Check if it is correct!\n",
            "[06:36:55.161273] Its respective CSV file seems to be: /content/data/test/y/mask_004.csv\n",
            "[06:36:55.162075] Reading GT data from: /content/data/test/y/mask_004.csv\n",
            "[06:36:55.164919] Detection (class 1)\n",
            "[06:36:55.177320] Points in ground truth: 259, Points in prediction: 244\n",
            "[06:36:55.181600] True positives: 244, False positives: 0, False negatives: 15\n",
            "[06:36:55.182465] Detection metrics: {'Precision': 1.0, 'Recall': 0.9420849420849421, 'F1': 0.970178926441352, 'TP': 244, 'FP': 0, 'FN': 15}\n",
            "[06:36:55.187986] All classes 1\n",
            "[06:36:55.188857] Detection metrics: ['Precision', 1.0, 'Recall', 0.9420849420849421, 'F1', 0.970178926441352]\n",
            "[06:36:55.189680] Creating the image with a summary of detected points and false positives with colors . . .\n",
            "[06:36:55.372986] Saving (1, 64, 64, 64, 1) data as .tif in folder: /content/output/my_3d_detection/results/my_3d_detection_1/point_associations\n"
          ]
        },
        {
          "output_type": "stream",
          "name": "stderr",
          "text": [
            "\n",
            "  0%|          | 0/1 [00:00<?, ?it/s]\u001b[A\n",
            "                                     \u001b[A"
          ]
        },
        {
          "output_type": "stream",
          "name": "stdout",
          "text": [
            "[06:36:55.527675] Saving (1, 64, 64, 64, 3) data as .tif in folder: /content/output/my_3d_detection/results/my_3d_detection_1/point_associations\n"
          ]
        },
        {
          "output_type": "stream",
          "name": "stderr",
          "text": [
            "\n",
            "  0%|          | 0/1 [00:00<?, ?it/s]\u001b[A\n",
            " 19%|\u2588\u258a        | 5/27 [00:03<00:15,  1.39it/s]"
          ]
        },
        {
          "output_type": "stream",
          "name": "stdout",
          "text": [
            "[06:36:55.573123] Processing image: vol_005.tif\n"
          ]
        },
        {
          "output_type": "stream",
          "name": "stderr",
          "text": [
            "\n",
            "  0%|          | 0/1 [00:00<?, ?it/s]\u001b[A/usr/local/lib/python3.10/dist-packages/biapy/engine/base_workflow.py:2038: FutureWarning: `torch.cuda.amp.autocast(args...)` is deprecated. Please use `torch.amp.autocast('cuda', args...)` instead.\n",
            "  with torch.cuda.amp.autocast():\n",
            "\n",
            "                                     \u001b[A"
          ]
        },
        {
          "output_type": "stream",
          "name": "stdout",
          "text": [
            "[06:36:55.617540] Saving (1, 64, 64, 64, 1) data as .tif in folder: /content/output/my_3d_detection/results/my_3d_detection_1/per_image\n"
          ]
        },
        {
          "output_type": "stream",
          "name": "stderr",
          "text": [
            "\n",
            "  0%|          | 0/1 [00:00<?, ?it/s]\u001b[A\n",
            "                                     \u001b[A"
          ]
        },
        {
          "output_type": "stream",
          "name": "stdout",
          "text": [
            "[06:36:55.682572] Capturing the local maxima \n",
            "[06:36:55.683497] Class 1\n",
            "[06:36:55.708056] Removing close points . . .\n",
            "[06:36:55.708917] Initial number of points: 250\n",
            "[06:36:55.713344] Final number of points: 170\n",
            "[06:36:55.714314] Creating the images with detected points . . .\n",
            "[06:36:55.757315] Saving (1, 64, 64, 64, 1) data as .tif in folder: /content/output/my_3d_detection/results/my_3d_detection_1/point_associations\n"
          ]
        },
        {
          "output_type": "stream",
          "name": "stderr",
          "text": [
            "\n",
            "  0%|          | 0/1 [00:00<?, ?it/s]\u001b[A\n",
            "                                     \u001b[A"
          ]
        },
        {
          "output_type": "stream",
          "name": "stdout",
          "text": [
            "[06:36:55.822600] Saving (1, 64, 64, 64, 1) data as .tif in folder: /content/output/my_3d_detection/results/my_3d_detection_1/per_image_local_max_check\n"
          ]
        },
        {
          "output_type": "stream",
          "name": "stderr",
          "text": [
            "\n",
            "  0%|          | 0/1 [00:00<?, ?it/s]\u001b[A\n",
            "                                     \u001b[A"
          ]
        },
        {
          "output_type": "stream",
          "name": "stdout",
          "text": [
            "[06:36:55.857991] WARNING: The CSV file seems to have different name than image. Using the CSV file with the same position as the CSV in the directory. Check if it is correct!\n",
            "[06:36:55.859067] Its respective CSV file seems to be: /content/data/test/y/mask_005.csv\n",
            "[06:36:55.859788] Reading GT data from: /content/data/test/y/mask_005.csv\n",
            "[06:36:55.865804] Detection (class 1)\n",
            "[06:36:55.876478] Points in ground truth: 174, Points in prediction: 170\n",
            "[06:36:55.877437] True positives: 170, False positives: 0, False negatives: 4\n",
            "[06:36:55.878263] Detection metrics: {'Precision': 1.0, 'Recall': 0.9770114942528736, 'F1': 0.9883720930232558, 'TP': 170, 'FP': 0, 'FN': 4}\n",
            "[06:36:55.883214] All classes 1\n",
            "[06:36:55.885372] Detection metrics: ['Precision', 1.0, 'Recall', 0.9770114942528736, 'F1', 0.9883720930232558]\n",
            "[06:36:55.886201] Creating the image with a summary of detected points and false positives with colors . . .\n",
            "[06:36:56.055492] Saving (1, 64, 64, 64, 1) data as .tif in folder: /content/output/my_3d_detection/results/my_3d_detection_1/point_associations\n"
          ]
        },
        {
          "output_type": "stream",
          "name": "stderr",
          "text": [
            "\n",
            "  0%|          | 0/1 [00:00<?, ?it/s]\u001b[A\n",
            "                                     \u001b[A"
          ]
        },
        {
          "output_type": "stream",
          "name": "stdout",
          "text": [
            "[06:36:56.236139] Saving (1, 64, 64, 64, 3) data as .tif in folder: /content/output/my_3d_detection/results/my_3d_detection_1/point_associations\n"
          ]
        },
        {
          "output_type": "stream",
          "name": "stderr",
          "text": [
            "\n",
            "  0%|          | 0/1 [00:00<?, ?it/s]\u001b[A\n",
            " 22%|\u2588\u2588\u258f       | 6/27 [00:04<00:15,  1.40it/s]"
          ]
        },
        {
          "output_type": "stream",
          "name": "stdout",
          "text": [
            "[06:36:56.286330] Processing image: vol_006.tif\n"
          ]
        },
        {
          "output_type": "stream",
          "name": "stderr",
          "text": [
            "\n",
            "  0%|          | 0/1 [00:00<?, ?it/s]\u001b[A/usr/local/lib/python3.10/dist-packages/biapy/engine/base_workflow.py:2038: FutureWarning: `torch.cuda.amp.autocast(args...)` is deprecated. Please use `torch.amp.autocast('cuda', args...)` instead.\n",
            "  with torch.cuda.amp.autocast():\n",
            "\n",
            "                                     \u001b[A"
          ]
        },
        {
          "output_type": "stream",
          "name": "stdout",
          "text": [
            "[06:36:56.333903] Saving (1, 64, 64, 64, 1) data as .tif in folder: /content/output/my_3d_detection/results/my_3d_detection_1/per_image\n"
          ]
        },
        {
          "output_type": "stream",
          "name": "stderr",
          "text": [
            "\n",
            "  0%|          | 0/1 [00:00<?, ?it/s]\u001b[A\n",
            "                                     \u001b[A"
          ]
        },
        {
          "output_type": "stream",
          "name": "stdout",
          "text": [
            "[06:36:56.408524] Capturing the local maxima \n",
            "[06:36:56.410441] Class 1\n",
            "[06:36:56.429619] Removing close points . . .\n",
            "[06:36:56.431332] Initial number of points: 39\n",
            "[06:36:56.434079] Final number of points: 27\n",
            "[06:36:56.434925] Creating the images with detected points . . .\n",
            "[06:36:56.496575] Saving (1, 64, 64, 64, 1) data as .tif in folder: /content/output/my_3d_detection/results/my_3d_detection_1/point_associations\n"
          ]
        },
        {
          "output_type": "stream",
          "name": "stderr",
          "text": [
            "\n",
            "  0%|          | 0/1 [00:00<?, ?it/s]\u001b[A\n",
            "                                     \u001b[A"
          ]
        },
        {
          "output_type": "stream",
          "name": "stdout",
          "text": [
            "[06:36:56.562979] Saving (1, 64, 64, 64, 1) data as .tif in folder: /content/output/my_3d_detection/results/my_3d_detection_1/per_image_local_max_check\n"
          ]
        },
        {
          "output_type": "stream",
          "name": "stderr",
          "text": [
            "\n",
            "  0%|          | 0/1 [00:00<?, ?it/s]\u001b[A\n",
            "                                     \u001b[A"
          ]
        },
        {
          "output_type": "stream",
          "name": "stdout",
          "text": [
            "[06:36:56.586521] WARNING: The CSV file seems to have different name than image. Using the CSV file with the same position as the CSV in the directory. Check if it is correct!\n",
            "[06:36:56.587747] Its respective CSV file seems to be: /content/data/test/y/mask_006.csv\n",
            "[06:36:56.588454] Reading GT data from: /content/data/test/y/mask_006.csv\n",
            "[06:36:56.590631] Detection (class 1)\n",
            "[06:36:56.594254] Points in ground truth: 22, Points in prediction: 27\n",
            "[06:36:56.595296] True positives: 21, False positives: 6, False negatives: 1\n",
            "[06:36:56.596288] Detection metrics: {'Precision': 0.7777777777777778, 'Recall': 0.9545454545454546, 'F1': 0.8571428571428572, 'TP': 21, 'FP': 6, 'FN': 1}\n",
            "[06:36:56.599746] All classes 1\n",
            "[06:36:56.600700] Detection metrics: ['Precision', 0.7777777777777778, 'Recall', 0.9545454545454546, 'F1', 0.8571428571428572]\n",
            "[06:36:56.601591] Creating the image with a summary of detected points and false positives with colors . . .\n",
            "[06:36:56.660763] Saving (1, 64, 64, 64, 1) data as .tif in folder: /content/output/my_3d_detection/results/my_3d_detection_1/point_associations\n"
          ]
        },
        {
          "output_type": "stream",
          "name": "stderr",
          "text": [
            "\n",
            "  0%|          | 0/1 [00:00<?, ?it/s]\u001b[A\n",
            "                                     \u001b[A"
          ]
        },
        {
          "output_type": "stream",
          "name": "stdout",
          "text": [
            "[06:36:56.812581] Saving (1, 64, 64, 64, 3) data as .tif in folder: /content/output/my_3d_detection/results/my_3d_detection_1/point_associations\n"
          ]
        },
        {
          "output_type": "stream",
          "name": "stderr",
          "text": [
            "\n",
            "  0%|          | 0/1 [00:00<?, ?it/s]\u001b[A\n",
            " 26%|\u2588\u2588\u258c       | 7/27 [00:04<00:13,  1.50it/s]"
          ]
        },
        {
          "output_type": "stream",
          "name": "stdout",
          "text": [
            "[06:36:56.852433] Processing image: vol_007.tif\n"
          ]
        },
        {
          "output_type": "stream",
          "name": "stderr",
          "text": [
            "\n",
            "  0%|          | 0/1 [00:00<?, ?it/s]\u001b[A/usr/local/lib/python3.10/dist-packages/biapy/engine/base_workflow.py:2038: FutureWarning: `torch.cuda.amp.autocast(args...)` is deprecated. Please use `torch.amp.autocast('cuda', args...)` instead.\n",
            "  with torch.cuda.amp.autocast():\n",
            "\n",
            "                                     \u001b[A"
          ]
        },
        {
          "output_type": "stream",
          "name": "stdout",
          "text": [
            "[06:36:56.888577] Saving (1, 64, 64, 64, 1) data as .tif in folder: /content/output/my_3d_detection/results/my_3d_detection_1/per_image\n"
          ]
        },
        {
          "output_type": "stream",
          "name": "stderr",
          "text": [
            "\n",
            "  0%|          | 0/1 [00:00<?, ?it/s]\u001b[A\n",
            "                                     \u001b[A"
          ]
        },
        {
          "output_type": "stream",
          "name": "stdout",
          "text": [
            "[06:36:56.968126] Capturing the local maxima \n",
            "[06:36:56.969972] Class 1\n",
            "[06:36:56.993620] Removing close points . . .\n",
            "[06:36:56.994698] Initial number of points: 166\n",
            "[06:36:56.999291] Final number of points: 115\n",
            "[06:36:57.001126] Creating the images with detected points . . .\n",
            "[06:36:57.063275] Saving (1, 64, 64, 64, 1) data as .tif in folder: /content/output/my_3d_detection/results/my_3d_detection_1/point_associations\n"
          ]
        },
        {
          "output_type": "stream",
          "name": "stderr",
          "text": [
            "\n",
            "  0%|          | 0/1 [00:00<?, ?it/s]\u001b[A\n",
            "                                     \u001b[A"
          ]
        },
        {
          "output_type": "stream",
          "name": "stdout",
          "text": [
            "[06:36:57.135738] Saving (1, 64, 64, 64, 1) data as .tif in folder: /content/output/my_3d_detection/results/my_3d_detection_1/per_image_local_max_check\n"
          ]
        },
        {
          "output_type": "stream",
          "name": "stderr",
          "text": [
            "\n",
            "  0%|          | 0/1 [00:00<?, ?it/s]\u001b[A\n",
            "                                     \u001b[A"
          ]
        },
        {
          "output_type": "stream",
          "name": "stdout",
          "text": [
            "[06:36:57.164698] WARNING: The CSV file seems to have different name than image. Using the CSV file with the same position as the CSV in the directory. Check if it is correct!\n",
            "[06:36:57.164827] Its respective CSV file seems to be: /content/data/test/y/mask_007.csv\n",
            "[06:36:57.166899] Reading GT data from: /content/data/test/y/mask_007.csv\n",
            "[06:36:57.171360] Detection (class 1)\n",
            "[06:36:57.178742] Points in ground truth: 121, Points in prediction: 115\n",
            "[06:36:57.178840] True positives: 115, False positives: 0, False negatives: 6\n",
            "[06:36:57.178936] Detection metrics: {'Precision': 1.0, 'Recall': 0.9504132231404959, 'F1': 0.9745762711864406, 'TP': 115, 'FP': 0, 'FN': 6}\n",
            "[06:36:57.186143] All classes 1\n",
            "[06:36:57.186259] Detection metrics: ['Precision', 1.0, 'Recall', 0.9504132231404959, 'F1', 0.9745762711864406]\n",
            "[06:36:57.186331] Creating the image with a summary of detected points and false positives with colors . . .\n",
            "[06:36:57.326628] Saving (1, 64, 64, 64, 1) data as .tif in folder: /content/output/my_3d_detection/results/my_3d_detection_1/point_associations\n"
          ]
        },
        {
          "output_type": "stream",
          "name": "stderr",
          "text": [
            "\n",
            "  0%|          | 0/1 [00:00<?, ?it/s]\u001b[A\n",
            "                                     \u001b[A"
          ]
        },
        {
          "output_type": "stream",
          "name": "stdout",
          "text": [
            "[06:36:57.487231] Saving (1, 64, 64, 64, 3) data as .tif in folder: /content/output/my_3d_detection/results/my_3d_detection_1/point_associations\n"
          ]
        },
        {
          "output_type": "stream",
          "name": "stderr",
          "text": [
            "\n",
            "  0%|          | 0/1 [00:00<?, ?it/s]\u001b[A\n",
            " 30%|\u2588\u2588\u2589       | 8/27 [00:05<00:12,  1.49it/s]"
          ]
        },
        {
          "output_type": "stream",
          "name": "stdout",
          "text": [
            "[06:36:57.529076] Processing image: vol_008.tif\n"
          ]
        },
        {
          "output_type": "stream",
          "name": "stderr",
          "text": [
            "\n",
            "  0%|          | 0/1 [00:00<?, ?it/s]\u001b[A/usr/local/lib/python3.10/dist-packages/biapy/engine/base_workflow.py:2038: FutureWarning: `torch.cuda.amp.autocast(args...)` is deprecated. Please use `torch.amp.autocast('cuda', args...)` instead.\n",
            "  with torch.cuda.amp.autocast():\n",
            "\n",
            "                                     \u001b[A"
          ]
        },
        {
          "output_type": "stream",
          "name": "stdout",
          "text": [
            "[06:36:57.565724] Saving (1, 64, 64, 64, 1) data as .tif in folder: /content/output/my_3d_detection/results/my_3d_detection_1/per_image\n"
          ]
        },
        {
          "output_type": "stream",
          "name": "stderr",
          "text": [
            "\n",
            "  0%|          | 0/1 [00:00<?, ?it/s]\u001b[A\n",
            "                                     \u001b[A"
          ]
        },
        {
          "output_type": "stream",
          "name": "stdout",
          "text": [
            "[06:36:57.637164] Capturing the local maxima \n",
            "[06:36:57.640337] Class 1\n",
            "[06:36:57.677192] Removing close points . . .\n",
            "[06:36:57.677884] Initial number of points: 602\n",
            "[06:36:57.692167] Final number of points: 356\n",
            "[06:36:57.693673] Creating the images with detected points . . .\n",
            "[06:36:57.744391] Saving (1, 64, 64, 64, 1) data as .tif in folder: /content/output/my_3d_detection/results/my_3d_detection_1/point_associations\n"
          ]
        },
        {
          "output_type": "stream",
          "name": "stderr",
          "text": [
            "\n",
            "  0%|          | 0/1 [00:00<?, ?it/s]\u001b[A\n",
            "                                     \u001b[A"
          ]
        },
        {
          "output_type": "stream",
          "name": "stdout",
          "text": [
            "[06:36:57.814772] Saving (1, 64, 64, 64, 1) data as .tif in folder: /content/output/my_3d_detection/results/my_3d_detection_1/per_image_local_max_check\n"
          ]
        },
        {
          "output_type": "stream",
          "name": "stderr",
          "text": [
            "\n",
            "  0%|          | 0/1 [00:00<?, ?it/s]\u001b[A\n",
            "                                     \u001b[A"
          ]
        },
        {
          "output_type": "stream",
          "name": "stdout",
          "text": [
            "[06:36:57.849891] WARNING: The CSV file seems to have different name than image. Using the CSV file with the same position as the CSV in the directory. Check if it is correct!\n",
            "[06:36:57.851072] Its respective CSV file seems to be: /content/data/test/y/mask_008.csv\n",
            "[06:36:57.851899] Reading GT data from: /content/data/test/y/mask_008.csv\n",
            "[06:36:57.855276] Detection (class 1)\n",
            "[06:36:57.876298] Points in ground truth: 369, Points in prediction: 356\n",
            "[06:36:57.877251] True positives: 356, False positives: 0, False negatives: 13\n",
            "[06:36:57.878091] Detection metrics: {'Precision': 1.0, 'Recall': 0.964769647696477, 'F1': 0.9820689655172414, 'TP': 356, 'FP': 0, 'FN': 13}\n",
            "[06:36:57.885009] All classes 1\n",
            "[06:36:57.885918] Detection metrics: ['Precision', 1.0, 'Recall', 0.964769647696477, 'F1', 0.9820689655172414]\n",
            "[06:36:57.886721] Creating the image with a summary of detected points and false positives with colors . . .\n",
            "[06:36:58.203517] Saving (1, 64, 64, 64, 1) data as .tif in folder: /content/output/my_3d_detection/results/my_3d_detection_1/point_associations\n"
          ]
        },
        {
          "output_type": "stream",
          "name": "stderr",
          "text": [
            "\n",
            "  0%|          | 0/1 [00:00<?, ?it/s]\u001b[A\n",
            "                                     \u001b[A"
          ]
        },
        {
          "output_type": "stream",
          "name": "stdout",
          "text": [
            "[06:36:58.379685] Saving (1, 64, 64, 64, 3) data as .tif in folder: /content/output/my_3d_detection/results/my_3d_detection_1/point_associations\n"
          ]
        },
        {
          "output_type": "stream",
          "name": "stderr",
          "text": [
            "\n",
            "  0%|          | 0/1 [00:00<?, ?it/s]\u001b[A\n",
            " 33%|\u2588\u2588\u2588\u258e      | 9/27 [00:06<00:13,  1.35it/s]"
          ]
        },
        {
          "output_type": "stream",
          "name": "stdout",
          "text": [
            "[06:36:58.423733] Processing image: vol_009.tif\n"
          ]
        },
        {
          "output_type": "stream",
          "name": "stderr",
          "text": [
            "\n",
            "  0%|          | 0/1 [00:00<?, ?it/s]\u001b[A/usr/local/lib/python3.10/dist-packages/biapy/engine/base_workflow.py:2038: FutureWarning: `torch.cuda.amp.autocast(args...)` is deprecated. Please use `torch.amp.autocast('cuda', args...)` instead.\n",
            "  with torch.cuda.amp.autocast():\n",
            "\n",
            "                                     \u001b[A"
          ]
        },
        {
          "output_type": "stream",
          "name": "stdout",
          "text": [
            "[06:36:58.474913] Saving (1, 64, 64, 64, 1) data as .tif in folder: /content/output/my_3d_detection/results/my_3d_detection_1/per_image\n"
          ]
        },
        {
          "output_type": "stream",
          "name": "stderr",
          "text": [
            "\n",
            "  0%|          | 0/1 [00:00<?, ?it/s]\u001b[A\n",
            "                                     \u001b[A"
          ]
        },
        {
          "output_type": "stream",
          "name": "stdout",
          "text": [
            "[06:36:58.560812] Capturing the local maxima \n",
            "[06:36:58.560951] Class 1\n",
            "[06:36:58.602647] Removing close points . . .\n",
            "[06:36:58.602743] Initial number of points: 738\n",
            "[06:36:58.611580] Final number of points: 409\n",
            "[06:36:58.612814] Creating the images with detected points . . .\n",
            "[06:36:58.644431] Saving (1, 64, 64, 64, 1) data as .tif in folder: /content/output/my_3d_detection/results/my_3d_detection_1/point_associations\n"
          ]
        },
        {
          "output_type": "stream",
          "name": "stderr",
          "text": [
            "\n",
            "  0%|          | 0/1 [00:00<?, ?it/s]\u001b[A\n",
            "                                     \u001b[A"
          ]
        },
        {
          "output_type": "stream",
          "name": "stdout",
          "text": [
            "[06:36:58.695712] Saving (1, 64, 64, 64, 1) data as .tif in folder: /content/output/my_3d_detection/results/my_3d_detection_1/per_image_local_max_check\n"
          ]
        },
        {
          "output_type": "stream",
          "name": "stderr",
          "text": [
            "\n",
            "  0%|          | 0/1 [00:00<?, ?it/s]\u001b[A\n",
            "                                     \u001b[A"
          ]
        },
        {
          "output_type": "stream",
          "name": "stdout",
          "text": [
            "[06:36:58.726627] WARNING: The CSV file seems to have different name than image. Using the CSV file with the same position as the CSV in the directory. Check if it is correct!\n",
            "[06:36:58.727522] Its respective CSV file seems to be: /content/data/test/y/mask_009.csv\n",
            "[06:36:58.728325] Reading GT data from: /content/data/test/y/mask_009.csv\n",
            "[06:36:58.731078] Detection (class 1)\n",
            "[06:36:58.747195] Points in ground truth: 372, Points in prediction: 409\n",
            "[06:36:58.747275] True positives: 372, False positives: 37, False negatives: 0\n",
            "[06:36:58.747376] Detection metrics: {'Precision': 0.9095354523227384, 'Recall': 1.0, 'F1': 0.9526248399487836, 'TP': 372, 'FP': 37, 'FN': 0}\n",
            "[06:36:58.753153] All classes 1\n",
            "[06:36:58.753951] Detection metrics: ['Precision', 0.9095354523227384, 'Recall', 1.0, 'F1', 0.9526248399487836]\n",
            "[06:36:58.754670] Creating the image with a summary of detected points and false positives with colors . . .\n",
            "[06:36:58.963656] Saving (1, 64, 64, 64, 1) data as .tif in folder: /content/output/my_3d_detection/results/my_3d_detection_1/point_associations\n"
          ]
        },
        {
          "output_type": "stream",
          "name": "stderr",
          "text": [
            "\n",
            "  0%|          | 0/1 [00:00<?, ?it/s]\u001b[A\n",
            "                                     \u001b[A"
          ]
        },
        {
          "output_type": "stream",
          "name": "stdout",
          "text": [
            "[06:36:59.104951] Saving (1, 64, 64, 64, 3) data as .tif in folder: /content/output/my_3d_detection/results/my_3d_detection_1/point_associations\n"
          ]
        },
        {
          "output_type": "stream",
          "name": "stderr",
          "text": [
            "\n",
            "  0%|          | 0/1 [00:00<?, ?it/s]\u001b[A\n",
            " 37%|\u2588\u2588\u2588\u258b      | 10/27 [00:06<00:12,  1.36it/s]"
          ]
        },
        {
          "output_type": "stream",
          "name": "stdout",
          "text": [
            "[06:36:59.148007] Processing image: vol_010.tif\n"
          ]
        },
        {
          "output_type": "stream",
          "name": "stderr",
          "text": [
            "\n",
            "  0%|          | 0/1 [00:00<?, ?it/s]\u001b[A/usr/local/lib/python3.10/dist-packages/biapy/engine/base_workflow.py:2038: FutureWarning: `torch.cuda.amp.autocast(args...)` is deprecated. Please use `torch.amp.autocast('cuda', args...)` instead.\n",
            "  with torch.cuda.amp.autocast():\n",
            "\n",
            "                                     \u001b[A"
          ]
        },
        {
          "output_type": "stream",
          "name": "stdout",
          "text": [
            "[06:36:59.203138] Saving (1, 64, 64, 64, 1) data as .tif in folder: /content/output/my_3d_detection/results/my_3d_detection_1/per_image\n"
          ]
        },
        {
          "output_type": "stream",
          "name": "stderr",
          "text": [
            "\n",
            "  0%|          | 0/1 [00:00<?, ?it/s]\u001b[A\n",
            "                                     \u001b[A"
          ]
        },
        {
          "output_type": "stream",
          "name": "stdout",
          "text": [
            "[06:36:59.265264] Capturing the local maxima \n",
            "[06:36:59.266134] Class 1\n",
            "[06:36:59.298826] Removing close points . . .\n",
            "[06:36:59.298910] Initial number of points: 878\n",
            "[06:36:59.311625] Final number of points: 465\n",
            "[06:36:59.311983] Creating the images with detected points . . .\n",
            "[06:36:59.351211] Saving (1, 64, 64, 64, 1) data as .tif in folder: /content/output/my_3d_detection/results/my_3d_detection_1/point_associations\n"
          ]
        },
        {
          "output_type": "stream",
          "name": "stderr",
          "text": [
            "\n",
            "  0%|          | 0/1 [00:00<?, ?it/s]\u001b[A\n",
            "                                     \u001b[A"
          ]
        },
        {
          "output_type": "stream",
          "name": "stdout",
          "text": [
            "[06:36:59.402086] Saving (1, 64, 64, 64, 1) data as .tif in folder: /content/output/my_3d_detection/results/my_3d_detection_1/per_image_local_max_check\n"
          ]
        },
        {
          "output_type": "stream",
          "name": "stderr",
          "text": [
            "\n",
            "  0%|          | 0/1 [00:00<?, ?it/s]\u001b[A\n",
            "                                     \u001b[A"
          ]
        },
        {
          "output_type": "stream",
          "name": "stdout",
          "text": [
            "[06:36:59.435568] WARNING: The CSV file seems to have different name than image. Using the CSV file with the same position as the CSV in the directory. Check if it is correct!\n",
            "[06:36:59.436621] Its respective CSV file seems to be: /content/data/test/y/mask_010.csv\n",
            "[06:36:59.437339] Reading GT data from: /content/data/test/y/mask_010.csv\n",
            "[06:36:59.440310] Detection (class 1)\n",
            "[06:36:59.465805] Points in ground truth: 502, Points in prediction: 465\n",
            "[06:36:59.465899] True positives: 465, False positives: 0, False negatives: 37\n",
            "[06:36:59.468944] Detection metrics: {'Precision': 1.0, 'Recall': 0.9262948207171314, 'F1': 0.9617373319544984, 'TP': 465, 'FP': 0, 'FN': 37}\n",
            "[06:36:59.474947] All classes 1\n",
            "[06:36:59.475544] Detection metrics: ['Precision', 1.0, 'Recall', 0.9262948207171314, 'F1', 0.9617373319544984]\n",
            "[06:36:59.476100] Creating the image with a summary of detected points and false positives with colors . . .\n",
            "[06:36:59.788146] Saving (1, 64, 64, 64, 1) data as .tif in folder: /content/output/my_3d_detection/results/my_3d_detection_1/point_associations\n"
          ]
        },
        {
          "output_type": "stream",
          "name": "stderr",
          "text": [
            "\n",
            "  0%|          | 0/1 [00:00<?, ?it/s]\u001b[A\n",
            "                                     \u001b[A"
          ]
        },
        {
          "output_type": "stream",
          "name": "stdout",
          "text": [
            "[06:36:59.930920] Saving (1, 64, 64, 64, 3) data as .tif in folder: /content/output/my_3d_detection/results/my_3d_detection_1/point_associations\n"
          ]
        },
        {
          "output_type": "stream",
          "name": "stderr",
          "text": [
            "\n",
            "  0%|          | 0/1 [00:00<?, ?it/s]\u001b[A\n",
            " 41%|\u2588\u2588\u2588\u2588      | 11/27 [00:07<00:12,  1.31it/s]"
          ]
        },
        {
          "output_type": "stream",
          "name": "stdout",
          "text": [
            "[06:36:59.974102] Processing image: vol_011.tif\n"
          ]
        },
        {
          "output_type": "stream",
          "name": "stderr",
          "text": [
            "\n",
            "  0%|          | 0/1 [00:00<?, ?it/s]\u001b[A/usr/local/lib/python3.10/dist-packages/biapy/engine/base_workflow.py:2038: FutureWarning: `torch.cuda.amp.autocast(args...)` is deprecated. Please use `torch.amp.autocast('cuda', args...)` instead.\n",
            "  with torch.cuda.amp.autocast():\n",
            "\n",
            "                                     \u001b[A"
          ]
        },
        {
          "output_type": "stream",
          "name": "stdout",
          "text": [
            "[06:37:00.053560] Saving (1, 64, 64, 64, 1) data as .tif in folder: /content/output/my_3d_detection/results/my_3d_detection_1/per_image\n"
          ]
        },
        {
          "output_type": "stream",
          "name": "stderr",
          "text": [
            "\n",
            "  0%|          | 0/1 [00:00<?, ?it/s]\u001b[A\n",
            "                                     \u001b[A"
          ]
        },
        {
          "output_type": "stream",
          "name": "stdout",
          "text": [
            "[06:37:00.162453] Capturing the local maxima \n",
            "[06:37:00.163921] Class 1\n",
            "[06:37:00.216076] Removing close points . . .\n",
            "[06:37:00.217477] Initial number of points: 711\n",
            "[06:37:00.233652] Final number of points: 421\n",
            "[06:37:00.234954] Creating the images with detected points . . .\n",
            "[06:37:00.291754] Saving (1, 64, 64, 64, 1) data as .tif in folder: /content/output/my_3d_detection/results/my_3d_detection_1/point_associations\n"
          ]
        },
        {
          "output_type": "stream",
          "name": "stderr",
          "text": [
            "\n",
            "  0%|          | 0/1 [00:00<?, ?it/s]\u001b[A\n",
            "                                     \u001b[A"
          ]
        },
        {
          "output_type": "stream",
          "name": "stdout",
          "text": [
            "[06:37:00.352808] Saving (1, 64, 64, 64, 1) data as .tif in folder: /content/output/my_3d_detection/results/my_3d_detection_1/per_image_local_max_check\n"
          ]
        },
        {
          "output_type": "stream",
          "name": "stderr",
          "text": [
            "\n",
            "  0%|          | 0/1 [00:00<?, ?it/s]\u001b[A\n",
            "                                     \u001b[A"
          ]
        },
        {
          "output_type": "stream",
          "name": "stdout",
          "text": [
            "[06:37:00.393102] WARNING: The CSV file seems to have different name than image. Using the CSV file with the same position as the CSV in the directory. Check if it is correct!\n",
            "[06:37:00.394295] Its respective CSV file seems to be: /content/data/test/y/mask_011.csv\n",
            "[06:37:00.395051] Reading GT data from: /content/data/test/y/mask_011.csv\n",
            "[06:37:00.398403] Detection (class 1)\n",
            "[06:37:00.433146] Points in ground truth: 421, Points in prediction: 421\n",
            "[06:37:00.434388] True positives: 421, False positives: 0, False negatives: 0\n",
            "[06:37:00.435175] Detection metrics: {'Precision': 1.0, 'Recall': 1.0, 'F1': 1.0, 'TP': 421, 'FP': 0, 'FN': 0}\n",
            "[06:37:00.442029] All classes 1\n",
            "[06:37:00.442977] Detection metrics: ['Precision', 1.0, 'Recall', 1.0, 'F1', 1.0]\n",
            "[06:37:00.443721] Creating the image with a summary of detected points and false positives with colors . . .\n",
            "[06:37:00.697874] Saving (1, 64, 64, 64, 1) data as .tif in folder: /content/output/my_3d_detection/results/my_3d_detection_1/point_associations\n"
          ]
        },
        {
          "output_type": "stream",
          "name": "stderr",
          "text": [
            "\n",
            "  0%|          | 0/1 [00:00<?, ?it/s]\u001b[A\n",
            "                                     \u001b[A"
          ]
        },
        {
          "output_type": "stream",
          "name": "stdout",
          "text": [
            "[06:37:00.842576] Saving (1, 64, 64, 64, 3) data as .tif in folder: /content/output/my_3d_detection/results/my_3d_detection_1/point_associations\n"
          ]
        },
        {
          "output_type": "stream",
          "name": "stderr",
          "text": [
            "\n",
            "  0%|          | 0/1 [00:00<?, ?it/s]\u001b[A\n",
            " 44%|\u2588\u2588\u2588\u2588\u258d     | 12/27 [00:08<00:12,  1.24it/s]"
          ]
        },
        {
          "output_type": "stream",
          "name": "stdout",
          "text": [
            "[06:37:00.883148] Processing image: vol_012.tif\n"
          ]
        },
        {
          "output_type": "stream",
          "name": "stderr",
          "text": [
            "\n",
            "  0%|          | 0/1 [00:00<?, ?it/s]\u001b[A/usr/local/lib/python3.10/dist-packages/biapy/engine/base_workflow.py:2038: FutureWarning: `torch.cuda.amp.autocast(args...)` is deprecated. Please use `torch.amp.autocast('cuda', args...)` instead.\n",
            "  with torch.cuda.amp.autocast():\n",
            "\n",
            "                                     \u001b[A"
          ]
        },
        {
          "output_type": "stream",
          "name": "stdout",
          "text": [
            "[06:37:00.919320] Saving (1, 64, 64, 64, 1) data as .tif in folder: /content/output/my_3d_detection/results/my_3d_detection_1/per_image\n"
          ]
        },
        {
          "output_type": "stream",
          "name": "stderr",
          "text": [
            "\n",
            "  0%|          | 0/1 [00:00<?, ?it/s]\u001b[A\n",
            "                                     \u001b[A"
          ]
        },
        {
          "output_type": "stream",
          "name": "stdout",
          "text": [
            "[06:37:00.991348] Capturing the local maxima \n",
            "[06:37:00.992267] Class 1\n",
            "[06:37:01.038787] Removing close points . . .\n",
            "[06:37:01.039979] Initial number of points: 833\n",
            "[06:37:01.063601] Final number of points: 500\n",
            "[06:37:01.067714] Creating the images with detected points . . .\n",
            "[06:37:01.118994] Saving (1, 64, 64, 64, 1) data as .tif in folder: /content/output/my_3d_detection/results/my_3d_detection_1/point_associations\n"
          ]
        },
        {
          "output_type": "stream",
          "name": "stderr",
          "text": [
            "\n",
            "  0%|          | 0/1 [00:00<?, ?it/s]\u001b[A\n",
            "                                     \u001b[A"
          ]
        },
        {
          "output_type": "stream",
          "name": "stdout",
          "text": [
            "[06:37:01.191298] Saving (1, 64, 64, 64, 1) data as .tif in folder: /content/output/my_3d_detection/results/my_3d_detection_1/per_image_local_max_check\n"
          ]
        },
        {
          "output_type": "stream",
          "name": "stderr",
          "text": [
            "\n",
            "  0%|          | 0/1 [00:00<?, ?it/s]\u001b[A\n",
            "                                     \u001b[A"
          ]
        },
        {
          "output_type": "stream",
          "name": "stdout",
          "text": [
            "[06:37:01.228212] WARNING: The CSV file seems to have different name than image. Using the CSV file with the same position as the CSV in the directory. Check if it is correct!\n",
            "[06:37:01.229410] Its respective CSV file seems to be: /content/data/test/y/mask_012.csv\n",
            "[06:37:01.230374] Reading GT data from: /content/data/test/y/mask_012.csv\n",
            "[06:37:01.233912] Detection (class 1)\n",
            "[06:37:01.268833] Points in ground truth: 565, Points in prediction: 500\n",
            "[06:37:01.268949] True positives: 500, False positives: 0, False negatives: 65\n",
            "[06:37:01.269065] Detection metrics: {'Precision': 1.0, 'Recall': 0.8849557522123894, 'F1': 0.9389671361502347, 'TP': 500, 'FP': 0, 'FN': 65}\n",
            "[06:37:01.288580] All classes 1\n",
            "[06:37:01.288708] Detection metrics: ['Precision', 1.0, 'Recall', 0.8849557522123894, 'F1', 0.9389671361502347]\n",
            "[06:37:01.288772] Creating the image with a summary of detected points and false positives with colors . . .\n",
            "[06:37:01.687239] Saving (1, 64, 64, 64, 1) data as .tif in folder: /content/output/my_3d_detection/results/my_3d_detection_1/point_associations\n"
          ]
        },
        {
          "output_type": "stream",
          "name": "stderr",
          "text": [
            "\n",
            "  0%|          | 0/1 [00:00<?, ?it/s]\u001b[A\n",
            "                                     \u001b[A"
          ]
        },
        {
          "output_type": "stream",
          "name": "stdout",
          "text": [
            "[06:37:01.830917] Saving (1, 64, 64, 64, 3) data as .tif in folder: /content/output/my_3d_detection/results/my_3d_detection_1/point_associations\n"
          ]
        },
        {
          "output_type": "stream",
          "name": "stderr",
          "text": [
            "\n",
            "  0%|          | 0/1 [00:00<?, ?it/s]\u001b[A\n",
            " 48%|\u2588\u2588\u2588\u2588\u258a     | 13/27 [00:09<00:12,  1.16it/s]"
          ]
        },
        {
          "output_type": "stream",
          "name": "stdout",
          "text": [
            "[06:37:01.871882] Processing image: vol_013.tif\n"
          ]
        },
        {
          "output_type": "stream",
          "name": "stderr",
          "text": [
            "\n",
            "  0%|          | 0/1 [00:00<?, ?it/s]\u001b[A/usr/local/lib/python3.10/dist-packages/biapy/engine/base_workflow.py:2038: FutureWarning: `torch.cuda.amp.autocast(args...)` is deprecated. Please use `torch.amp.autocast('cuda', args...)` instead.\n",
            "  with torch.cuda.amp.autocast():\n",
            "\n",
            "                                     \u001b[A"
          ]
        },
        {
          "output_type": "stream",
          "name": "stdout",
          "text": [
            "[06:37:01.943878] Saving (1, 64, 64, 64, 1) data as .tif in folder: /content/output/my_3d_detection/results/my_3d_detection_1/per_image\n"
          ]
        },
        {
          "output_type": "stream",
          "name": "stderr",
          "text": [
            "\n",
            "  0%|          | 0/1 [00:00<?, ?it/s]\u001b[A\n",
            "                                     \u001b[A"
          ]
        },
        {
          "output_type": "stream",
          "name": "stdout",
          "text": [
            "[06:37:02.051744] Capturing the local maxima \n",
            "[06:37:02.051860] Class 1\n",
            "[06:37:02.116752] Removing close points . . .\n",
            "[06:37:02.118283] Initial number of points: 528\n",
            "[06:37:02.129585] Final number of points: 361\n",
            "[06:37:02.130864] Creating the images with detected points . . .\n",
            "[06:37:02.191498] Saving (1, 64, 64, 64, 1) data as .tif in folder: /content/output/my_3d_detection/results/my_3d_detection_1/point_associations\n"
          ]
        },
        {
          "output_type": "stream",
          "name": "stderr",
          "text": [
            "\n",
            "  0%|          | 0/1 [00:00<?, ?it/s]\u001b[A\n",
            "                                     \u001b[A"
          ]
        },
        {
          "output_type": "stream",
          "name": "stdout",
          "text": [
            "[06:37:02.263913] Saving (1, 64, 64, 64, 1) data as .tif in folder: /content/output/my_3d_detection/results/my_3d_detection_1/per_image_local_max_check\n"
          ]
        },
        {
          "output_type": "stream",
          "name": "stderr",
          "text": [
            "\n",
            "  0%|          | 0/1 [00:00<?, ?it/s]\u001b[A\n",
            "                                     \u001b[A"
          ]
        },
        {
          "output_type": "stream",
          "name": "stdout",
          "text": [
            "[06:37:02.297864] WARNING: The CSV file seems to have different name than image. Using the CSV file with the same position as the CSV in the directory. Check if it is correct!\n",
            "[06:37:02.299224] Its respective CSV file seems to be: /content/data/test/y/mask_013.csv\n",
            "[06:37:02.300400] Reading GT data from: /content/data/test/y/mask_013.csv\n",
            "[06:37:02.303715] Detection (class 1)\n",
            "[06:37:02.328276] Points in ground truth: 388, Points in prediction: 361\n",
            "[06:37:02.329581] True positives: 361, False positives: 0, False negatives: 27\n",
            "[06:37:02.330465] Detection metrics: {'Precision': 1.0, 'Recall': 0.9304123711340206, 'F1': 0.9639519359145527, 'TP': 361, 'FP': 0, 'FN': 27}\n",
            "[06:37:02.338214] All classes 1\n",
            "[06:37:02.339540] Detection metrics: ['Precision', 1.0, 'Recall', 0.9304123711340206, 'F1', 0.9639519359145527]\n",
            "[06:37:02.340598] Creating the image with a summary of detected points and false positives with colors . . .\n",
            "[06:37:02.627145] Saving (1, 64, 64, 64, 1) data as .tif in folder: /content/output/my_3d_detection/results/my_3d_detection_1/point_associations\n"
          ]
        },
        {
          "output_type": "stream",
          "name": "stderr",
          "text": [
            "\n",
            "  0%|          | 0/1 [00:00<?, ?it/s]\u001b[A\n",
            "                                     \u001b[A"
          ]
        },
        {
          "output_type": "stream",
          "name": "stdout",
          "text": [
            "[06:37:02.806030] Saving (1, 64, 64, 64, 3) data as .tif in folder: /content/output/my_3d_detection/results/my_3d_detection_1/point_associations\n"
          ]
        },
        {
          "output_type": "stream",
          "name": "stderr",
          "text": [
            "\n",
            "  0%|          | 0/1 [00:00<?, ?it/s]\u001b[A\n",
            " 52%|\u2588\u2588\u2588\u2588\u2588\u258f    | 14/27 [00:10<00:11,  1.11it/s]"
          ]
        },
        {
          "output_type": "stream",
          "name": "stdout",
          "text": [
            "[06:37:02.849376] Processing image: vol_014.tif\n"
          ]
        },
        {
          "output_type": "stream",
          "name": "stderr",
          "text": [
            "\n",
            "  0%|          | 0/1 [00:00<?, ?it/s]\u001b[A/usr/local/lib/python3.10/dist-packages/biapy/engine/base_workflow.py:2038: FutureWarning: `torch.cuda.amp.autocast(args...)` is deprecated. Please use `torch.amp.autocast('cuda', args...)` instead.\n",
            "  with torch.cuda.amp.autocast():\n",
            "\n",
            "                                     \u001b[A"
          ]
        },
        {
          "output_type": "stream",
          "name": "stdout",
          "text": [
            "[06:37:02.900736] Saving (1, 64, 64, 64, 1) data as .tif in folder: /content/output/my_3d_detection/results/my_3d_detection_1/per_image\n"
          ]
        },
        {
          "output_type": "stream",
          "name": "stderr",
          "text": [
            "\n",
            "  0%|          | 0/1 [00:00<?, ?it/s]\u001b[A\n",
            "                                     \u001b[A"
          ]
        },
        {
          "output_type": "stream",
          "name": "stdout",
          "text": [
            "[06:37:02.988602] Capturing the local maxima \n",
            "[06:37:02.989781] Class 1\n",
            "[06:37:03.019263] Removing close points . . .\n",
            "[06:37:03.020541] Initial number of points: 102\n",
            "[06:37:03.024005] Final number of points: 66\n",
            "[06:37:03.025149] Creating the images with detected points . . .\n",
            "[06:37:03.078357] Saving (1, 64, 64, 64, 1) data as .tif in folder: /content/output/my_3d_detection/results/my_3d_detection_1/point_associations\n"
          ]
        },
        {
          "output_type": "stream",
          "name": "stderr",
          "text": [
            "\n",
            "  0%|          | 0/1 [00:00<?, ?it/s]\u001b[A\n",
            "                                     \u001b[A"
          ]
        },
        {
          "output_type": "stream",
          "name": "stdout",
          "text": [
            "[06:37:03.168683] Saving (1, 64, 64, 64, 1) data as .tif in folder: /content/output/my_3d_detection/results/my_3d_detection_1/per_image_local_max_check\n"
          ]
        },
        {
          "output_type": "stream",
          "name": "stderr",
          "text": [
            "\n",
            "  0%|          | 0/1 [00:00<?, ?it/s]\u001b[A\n",
            "                                     \u001b[A"
          ]
        },
        {
          "output_type": "stream",
          "name": "stdout",
          "text": [
            "[06:37:03.200873] WARNING: The CSV file seems to have different name than image. Using the CSV file with the same position as the CSV in the directory. Check if it is correct!\n",
            "[06:37:03.202083] Its respective CSV file seems to be: /content/data/test/y/mask_014.csv\n",
            "[06:37:03.202941] Reading GT data from: /content/data/test/y/mask_014.csv\n",
            "[06:37:03.206152] Detection (class 1)\n",
            "[06:37:03.209987] Points in ground truth: 71, Points in prediction: 66\n",
            "[06:37:03.210828] True positives: 65, False positives: 1, False negatives: 6\n",
            "[06:37:03.211698] Detection metrics: {'Precision': 0.9848484848484849, 'Recall': 0.9154929577464789, 'F1': 0.948905109489051, 'TP': 65, 'FP': 1, 'FN': 6}\n",
            "[06:37:03.215423] All classes 1\n",
            "[06:37:03.216247] Detection metrics: ['Precision', 0.9848484848484849, 'Recall', 0.9154929577464789, 'F1', 0.948905109489051]\n",
            "[06:37:03.217128] Creating the image with a summary of detected points and false positives with colors . . .\n",
            "[06:37:03.304832] Saving (1, 64, 64, 64, 1) data as .tif in folder: /content/output/my_3d_detection/results/my_3d_detection_1/point_associations\n"
          ]
        },
        {
          "output_type": "stream",
          "name": "stderr",
          "text": [
            "\n",
            "  0%|          | 0/1 [00:00<?, ?it/s]\u001b[A\n",
            "                                     \u001b[A"
          ]
        },
        {
          "output_type": "stream",
          "name": "stdout",
          "text": [
            "[06:37:03.469604] Saving (1, 64, 64, 64, 3) data as .tif in folder: /content/output/my_3d_detection/results/my_3d_detection_1/point_associations\n"
          ]
        },
        {
          "output_type": "stream",
          "name": "stderr",
          "text": [
            "\n",
            "  0%|          | 0/1 [00:00<?, ?it/s]\u001b[A\n",
            " 56%|\u2588\u2588\u2588\u2588\u2588\u258c    | 15/27 [00:11<00:09,  1.21it/s]"
          ]
        },
        {
          "output_type": "stream",
          "name": "stdout",
          "text": [
            "[06:37:03.512413] Processing image: vol_015.tif\n"
          ]
        },
        {
          "output_type": "stream",
          "name": "stderr",
          "text": [
            "\n",
            "  0%|          | 0/1 [00:00<?, ?it/s]\u001b[A/usr/local/lib/python3.10/dist-packages/biapy/engine/base_workflow.py:2038: FutureWarning: `torch.cuda.amp.autocast(args...)` is deprecated. Please use `torch.amp.autocast('cuda', args...)` instead.\n",
            "  with torch.cuda.amp.autocast():\n",
            "\n",
            "                                     \u001b[A"
          ]
        },
        {
          "output_type": "stream",
          "name": "stdout",
          "text": [
            "[06:37:03.581346] Saving (1, 64, 64, 64, 1) data as .tif in folder: /content/output/my_3d_detection/results/my_3d_detection_1/per_image\n"
          ]
        },
        {
          "output_type": "stream",
          "name": "stderr",
          "text": [
            "\n",
            "  0%|          | 0/1 [00:00<?, ?it/s]\u001b[A\n",
            "                                     \u001b[A"
          ]
        },
        {
          "output_type": "stream",
          "name": "stdout",
          "text": [
            "[06:37:03.656228] Capturing the local maxima \n",
            "[06:37:03.662507] Class 1\n",
            "[06:37:03.702012] Removing close points . . .\n",
            "[06:37:03.703485] Initial number of points: 261\n",
            "[06:37:03.709442] Final number of points: 159\n",
            "[06:37:03.709635] Creating the images with detected points . . .\n",
            "[06:37:03.763662] Saving (1, 64, 64, 64, 1) data as .tif in folder: /content/output/my_3d_detection/results/my_3d_detection_1/point_associations\n"
          ]
        },
        {
          "output_type": "stream",
          "name": "stderr",
          "text": [
            "\n",
            "  0%|          | 0/1 [00:00<?, ?it/s]\u001b[A\n",
            "                                     \u001b[A"
          ]
        },
        {
          "output_type": "stream",
          "name": "stdout",
          "text": [
            "[06:37:03.834721] Saving (1, 64, 64, 64, 1) data as .tif in folder: /content/output/my_3d_detection/results/my_3d_detection_1/per_image_local_max_check\n"
          ]
        },
        {
          "output_type": "stream",
          "name": "stderr",
          "text": [
            "\n",
            "  0%|          | 0/1 [00:00<?, ?it/s]\u001b[A\n",
            "                                     \u001b[A"
          ]
        },
        {
          "output_type": "stream",
          "name": "stdout",
          "text": [
            "[06:37:03.865160] WARNING: The CSV file seems to have different name than image. Using the CSV file with the same position as the CSV in the directory. Check if it is correct!\n",
            "[06:37:03.865284] Its respective CSV file seems to be: /content/data/test/y/mask_015.csv\n",
            "[06:37:03.865337] Reading GT data from: /content/data/test/y/mask_015.csv\n",
            "[06:37:03.870008] Detection (class 1)\n",
            "[06:37:03.878459] Points in ground truth: 163, Points in prediction: 159\n",
            "[06:37:03.878577] True positives: 159, False positives: 0, False negatives: 4\n",
            "[06:37:03.878676] Detection metrics: {'Precision': 1.0, 'Recall': 0.9754601226993865, 'F1': 0.9875776397515528, 'TP': 159, 'FP': 0, 'FN': 4}\n",
            "[06:37:03.885227] All classes 1\n",
            "[06:37:03.885350] Detection metrics: ['Precision', 1.0, 'Recall', 0.9754601226993865, 'F1', 0.9875776397515528]\n",
            "[06:37:03.885425] Creating the image with a summary of detected points and false positives with colors . . .\n",
            "[06:37:04.041644] Saving (1, 64, 64, 64, 1) data as .tif in folder: /content/output/my_3d_detection/results/my_3d_detection_1/point_associations\n"
          ]
        },
        {
          "output_type": "stream",
          "name": "stderr",
          "text": [
            "\n",
            "  0%|          | 0/1 [00:00<?, ?it/s]\u001b[A\n",
            "                                     \u001b[A"
          ]
        },
        {
          "output_type": "stream",
          "name": "stdout",
          "text": [
            "[06:37:04.168632] Saving (1, 64, 64, 64, 3) data as .tif in folder: /content/output/my_3d_detection/results/my_3d_detection_1/point_associations\n"
          ]
        },
        {
          "output_type": "stream",
          "name": "stderr",
          "text": [
            "\n",
            "  0%|          | 0/1 [00:00<?, ?it/s]\u001b[A\n",
            " 59%|\u2588\u2588\u2588\u2588\u2588\u2589    | 16/27 [00:11<00:08,  1.27it/s]"
          ]
        },
        {
          "output_type": "stream",
          "name": "stdout",
          "text": [
            "[06:37:04.207982] Processing image: vol_016.tif\n"
          ]
        },
        {
          "output_type": "stream",
          "name": "stderr",
          "text": [
            "\n",
            "  0%|          | 0/1 [00:00<?, ?it/s]\u001b[A/usr/local/lib/python3.10/dist-packages/biapy/engine/base_workflow.py:2038: FutureWarning: `torch.cuda.amp.autocast(args...)` is deprecated. Please use `torch.amp.autocast('cuda', args...)` instead.\n",
            "  with torch.cuda.amp.autocast():\n",
            "\n",
            "                                     \u001b[A"
          ]
        },
        {
          "output_type": "stream",
          "name": "stdout",
          "text": [
            "[06:37:04.247550] Saving (1, 64, 64, 64, 1) data as .tif in folder: /content/output/my_3d_detection/results/my_3d_detection_1/per_image\n"
          ]
        },
        {
          "output_type": "stream",
          "name": "stderr",
          "text": [
            "\n",
            "  0%|          | 0/1 [00:00<?, ?it/s]\u001b[A\n",
            "                                     \u001b[A"
          ]
        },
        {
          "output_type": "stream",
          "name": "stdout",
          "text": [
            "[06:37:04.334041] Capturing the local maxima \n",
            "[06:37:04.334138] Class 1\n",
            "[06:37:04.364331] Removing close points . . .\n",
            "[06:37:04.364415] Initial number of points: 627\n",
            "[06:37:04.373959] Final number of points: 357\n",
            "[06:37:04.374366] Creating the images with detected points . . .\n",
            "[06:37:04.403130] Saving (1, 64, 64, 64, 1) data as .tif in folder: /content/output/my_3d_detection/results/my_3d_detection_1/point_associations\n"
          ]
        },
        {
          "output_type": "stream",
          "name": "stderr",
          "text": [
            "\n",
            "  0%|          | 0/1 [00:00<?, ?it/s]\u001b[A\n",
            "                                     \u001b[A"
          ]
        },
        {
          "output_type": "stream",
          "name": "stdout",
          "text": [
            "[06:37:04.461499] Saving (1, 64, 64, 64, 1) data as .tif in folder: /content/output/my_3d_detection/results/my_3d_detection_1/per_image_local_max_check\n"
          ]
        },
        {
          "output_type": "stream",
          "name": "stderr",
          "text": [
            "\n",
            "  0%|          | 0/1 [00:00<?, ?it/s]\u001b[A\n",
            "                                     \u001b[A"
          ]
        },
        {
          "output_type": "stream",
          "name": "stdout",
          "text": [
            "[06:37:04.499890] WARNING: The CSV file seems to have different name than image. Using the CSV file with the same position as the CSV in the directory. Check if it is correct!\n",
            "[06:37:04.500019] Its respective CSV file seems to be: /content/data/test/y/mask_016.csv\n",
            "[06:37:04.500066] Reading GT data from: /content/data/test/y/mask_016.csv\n",
            "[06:37:04.504089] Detection (class 1)\n",
            "[06:37:04.517876] Points in ground truth: 337, Points in prediction: 357\n",
            "[06:37:04.518561] True positives: 337, False positives: 20, False negatives: 0\n",
            "[06:37:04.518661] Detection metrics: {'Precision': 0.9439775910364145, 'Recall': 1.0, 'F1': 0.9711815561959654, 'TP': 337, 'FP': 20, 'FN': 0}\n",
            "[06:37:04.523841] All classes 1\n",
            "[06:37:04.523953] Detection metrics: ['Precision', 0.9439775910364145, 'Recall', 1.0, 'F1', 0.9711815561959654]\n",
            "[06:37:04.524014] Creating the image with a summary of detected points and false positives with colors . . .\n",
            "[06:37:04.707605] Saving (1, 64, 64, 64, 1) data as .tif in folder: /content/output/my_3d_detection/results/my_3d_detection_1/point_associations\n"
          ]
        },
        {
          "output_type": "stream",
          "name": "stderr",
          "text": [
            "\n",
            "  0%|          | 0/1 [00:00<?, ?it/s]\u001b[A\n",
            "                                     \u001b[A"
          ]
        },
        {
          "output_type": "stream",
          "name": "stdout",
          "text": [
            "[06:37:04.804396] Saving (1, 64, 64, 64, 3) data as .tif in folder: /content/output/my_3d_detection/results/my_3d_detection_1/point_associations\n"
          ]
        },
        {
          "output_type": "stream",
          "name": "stderr",
          "text": [
            "\n",
            "  0%|          | 0/1 [00:00<?, ?it/s]\u001b[A\n",
            " 63%|\u2588\u2588\u2588\u2588\u2588\u2588\u258e   | 17/27 [00:12<00:07,  1.35it/s]"
          ]
        },
        {
          "output_type": "stream",
          "name": "stdout",
          "text": [
            "[06:37:04.843101] Processing image: vol_017.tif\n"
          ]
        },
        {
          "output_type": "stream",
          "name": "stderr",
          "text": [
            "\n",
            "  0%|          | 0/1 [00:00<?, ?it/s]\u001b[A/usr/local/lib/python3.10/dist-packages/biapy/engine/base_workflow.py:2038: FutureWarning: `torch.cuda.amp.autocast(args...)` is deprecated. Please use `torch.amp.autocast('cuda', args...)` instead.\n",
            "  with torch.cuda.amp.autocast():\n",
            "\n",
            "                                     \u001b[A"
          ]
        },
        {
          "output_type": "stream",
          "name": "stdout",
          "text": [
            "[06:37:04.879838] Saving (1, 64, 64, 64, 1) data as .tif in folder: /content/output/my_3d_detection/results/my_3d_detection_1/per_image\n"
          ]
        },
        {
          "output_type": "stream",
          "name": "stderr",
          "text": [
            "\n",
            "  0%|          | 0/1 [00:00<?, ?it/s]\u001b[A\n",
            "                                     \u001b[A"
          ]
        },
        {
          "output_type": "stream",
          "name": "stdout",
          "text": [
            "[06:37:04.936694] Capturing the local maxima \n",
            "[06:37:04.937817] Class 1\n",
            "[06:37:04.972555] Removing close points . . .\n",
            "[06:37:04.972986] Initial number of points: 734\n",
            "[06:37:04.984589] Final number of points: 382\n",
            "[06:37:04.984968] Creating the images with detected points . . .\n",
            "[06:37:05.031603] Saving (1, 64, 64, 64, 1) data as .tif in folder: /content/output/my_3d_detection/results/my_3d_detection_1/point_associations\n"
          ]
        },
        {
          "output_type": "stream",
          "name": "stderr",
          "text": [
            "\n",
            "  0%|          | 0/1 [00:00<?, ?it/s]\u001b[A\n",
            "                                     \u001b[A"
          ]
        },
        {
          "output_type": "stream",
          "name": "stdout",
          "text": [
            "[06:37:05.098125] Saving (1, 64, 64, 64, 1) data as .tif in folder: /content/output/my_3d_detection/results/my_3d_detection_1/per_image_local_max_check\n"
          ]
        },
        {
          "output_type": "stream",
          "name": "stderr",
          "text": [
            "\n",
            "  0%|          | 0/1 [00:00<?, ?it/s]\u001b[A\n",
            "                                     \u001b[A"
          ]
        },
        {
          "output_type": "stream",
          "name": "stdout",
          "text": [
            "[06:37:05.135317] WARNING: The CSV file seems to have different name than image. Using the CSV file with the same position as the CSV in the directory. Check if it is correct!\n",
            "[06:37:05.141112] Its respective CSV file seems to be: /content/data/test/y/mask_017.csv\n",
            "[06:37:05.142276] Reading GT data from: /content/data/test/y/mask_017.csv\n",
            "[06:37:05.147377] Detection (class 1)\n",
            "[06:37:05.170088] Points in ground truth: 286, Points in prediction: 382\n",
            "[06:37:05.170196] True positives: 286, False positives: 96, False negatives: 0\n",
            "[06:37:05.170291] Detection metrics: {'Precision': 0.7486910994764397, 'Recall': 1.0, 'F1': 0.8562874251497006, 'TP': 286, 'FP': 96, 'FN': 0}\n",
            "[06:37:05.177852] All classes 1\n",
            "[06:37:05.177971] Detection metrics: ['Precision', 0.7486910994764397, 'Recall', 1.0, 'F1', 0.8562874251497006]\n",
            "[06:37:05.178034] Creating the image with a summary of detected points and false positives with colors . . .\n",
            "[06:37:05.347364] Saving (1, 64, 64, 64, 1) data as .tif in folder: /content/output/my_3d_detection/results/my_3d_detection_1/point_associations\n"
          ]
        },
        {
          "output_type": "stream",
          "name": "stderr",
          "text": [
            "\n",
            "  0%|          | 0/1 [00:00<?, ?it/s]\u001b[A\n",
            "                                     \u001b[A"
          ]
        },
        {
          "output_type": "stream",
          "name": "stdout",
          "text": [
            "[06:37:05.449149] Saving (1, 64, 64, 64, 3) data as .tif in folder: /content/output/my_3d_detection/results/my_3d_detection_1/point_associations\n"
          ]
        },
        {
          "output_type": "stream",
          "name": "stderr",
          "text": [
            "\n",
            "  0%|          | 0/1 [00:00<?, ?it/s]\u001b[A\n",
            " 67%|\u2588\u2588\u2588\u2588\u2588\u2588\u258b   | 18/27 [00:13<00:06,  1.40it/s]"
          ]
        },
        {
          "output_type": "stream",
          "name": "stdout",
          "text": [
            "[06:37:05.488889] Processing image: vol_018.tif\n"
          ]
        },
        {
          "output_type": "stream",
          "name": "stderr",
          "text": [
            "\n",
            "  0%|          | 0/1 [00:00<?, ?it/s]\u001b[A/usr/local/lib/python3.10/dist-packages/biapy/engine/base_workflow.py:2038: FutureWarning: `torch.cuda.amp.autocast(args...)` is deprecated. Please use `torch.amp.autocast('cuda', args...)` instead.\n",
            "  with torch.cuda.amp.autocast():\n",
            "\n",
            "                                     \u001b[A"
          ]
        },
        {
          "output_type": "stream",
          "name": "stdout",
          "text": [
            "[06:37:05.534777] Saving (1, 64, 64, 64, 1) data as .tif in folder: /content/output/my_3d_detection/results/my_3d_detection_1/per_image\n"
          ]
        },
        {
          "output_type": "stream",
          "name": "stderr",
          "text": [
            "\n",
            "  0%|          | 0/1 [00:00<?, ?it/s]\u001b[A\n",
            "                                     \u001b[A"
          ]
        },
        {
          "output_type": "stream",
          "name": "stdout",
          "text": [
            "[06:37:05.595873] Capturing the local maxima \n",
            "[06:37:05.597906] Class 1\n",
            "[06:37:05.626246] Removing close points . . .\n",
            "[06:37:05.626330] Initial number of points: 478\n",
            "[06:37:05.633352] Final number of points: 290\n",
            "[06:37:05.633575] Creating the images with detected points . . .\n",
            "[06:37:05.668737] Saving (1, 64, 64, 64, 1) data as .tif in folder: /content/output/my_3d_detection/results/my_3d_detection_1/point_associations\n"
          ]
        },
        {
          "output_type": "stream",
          "name": "stderr",
          "text": [
            "\n",
            "  0%|          | 0/1 [00:00<?, ?it/s]\u001b[A\n",
            "                                     \u001b[A"
          ]
        },
        {
          "output_type": "stream",
          "name": "stdout",
          "text": [
            "[06:37:05.719882] Saving (1, 64, 64, 64, 1) data as .tif in folder: /content/output/my_3d_detection/results/my_3d_detection_1/per_image_local_max_check\n"
          ]
        },
        {
          "output_type": "stream",
          "name": "stderr",
          "text": [
            "\n",
            "  0%|          | 0/1 [00:00<?, ?it/s]\u001b[A\n",
            "                                     \u001b[A"
          ]
        },
        {
          "output_type": "stream",
          "name": "stdout",
          "text": [
            "[06:37:05.753557] WARNING: The CSV file seems to have different name than image. Using the CSV file with the same position as the CSV in the directory. Check if it is correct!\n",
            "[06:37:05.754469] Its respective CSV file seems to be: /content/data/test/y/mask_018.csv\n",
            "[06:37:05.754535] Reading GT data from: /content/data/test/y/mask_018.csv\n",
            "[06:37:05.758109] Detection (class 1)\n",
            "[06:37:05.768895] Points in ground truth: 307, Points in prediction: 290\n",
            "[06:37:05.769529] True positives: 290, False positives: 0, False negatives: 17\n",
            "[06:37:05.769630] Detection metrics: {'Precision': 1.0, 'Recall': 0.9446254071661238, 'F1': 0.9715242881072027, 'TP': 290, 'FP': 0, 'FN': 17}\n",
            "[06:37:05.774271] All classes 1\n",
            "[06:37:05.774378] Detection metrics: ['Precision', 1.0, 'Recall', 0.9446254071661238, 'F1', 0.9715242881072027]\n",
            "[06:37:05.774442] Creating the image with a summary of detected points and false positives with colors . . .\n",
            "[06:37:05.956648] Saving (1, 64, 64, 64, 1) data as .tif in folder: /content/output/my_3d_detection/results/my_3d_detection_1/point_associations\n"
          ]
        },
        {
          "output_type": "stream",
          "name": "stderr",
          "text": [
            "\n",
            "  0%|          | 0/1 [00:00<?, ?it/s]\u001b[A\n",
            "                                     \u001b[A"
          ]
        },
        {
          "output_type": "stream",
          "name": "stdout",
          "text": [
            "[06:37:06.087646] Saving (1, 64, 64, 64, 3) data as .tif in folder: /content/output/my_3d_detection/results/my_3d_detection_1/point_associations\n"
          ]
        },
        {
          "output_type": "stream",
          "name": "stderr",
          "text": [
            "\n",
            "  0%|          | 0/1 [00:00<?, ?it/s]\u001b[A\n",
            " 70%|\u2588\u2588\u2588\u2588\u2588\u2588\u2588   | 19/27 [00:13<00:05,  1.44it/s]"
          ]
        },
        {
          "output_type": "stream",
          "name": "stdout",
          "text": [
            "[06:37:06.134364] Processing image: vol_019.tif\n"
          ]
        },
        {
          "output_type": "stream",
          "name": "stderr",
          "text": [
            "\n",
            "  0%|          | 0/1 [00:00<?, ?it/s]\u001b[A/usr/local/lib/python3.10/dist-packages/biapy/engine/base_workflow.py:2038: FutureWarning: `torch.cuda.amp.autocast(args...)` is deprecated. Please use `torch.amp.autocast('cuda', args...)` instead.\n",
            "  with torch.cuda.amp.autocast():\n",
            "\n",
            "                                     \u001b[A"
          ]
        },
        {
          "output_type": "stream",
          "name": "stdout",
          "text": [
            "[06:37:06.183849] Saving (1, 64, 64, 64, 1) data as .tif in folder: /content/output/my_3d_detection/results/my_3d_detection_1/per_image\n"
          ]
        },
        {
          "output_type": "stream",
          "name": "stderr",
          "text": [
            "\n",
            "  0%|          | 0/1 [00:00<?, ?it/s]\u001b[A\n",
            "                                     \u001b[A"
          ]
        },
        {
          "output_type": "stream",
          "name": "stdout",
          "text": [
            "[06:37:06.266064] Capturing the local maxima \n",
            "[06:37:06.266168] Class 1\n",
            "[06:37:06.301369] Removing close points . . .\n",
            "[06:37:06.301481] Initial number of points: 431\n",
            "[06:37:06.307637] Final number of points: 292\n",
            "[06:37:06.307842] Creating the images with detected points . . .\n",
            "[06:37:06.335397] Saving (1, 64, 64, 64, 1) data as .tif in folder: /content/output/my_3d_detection/results/my_3d_detection_1/point_associations\n"
          ]
        },
        {
          "output_type": "stream",
          "name": "stderr",
          "text": [
            "\n",
            "  0%|          | 0/1 [00:00<?, ?it/s]\u001b[A\n",
            "                                     \u001b[A"
          ]
        },
        {
          "output_type": "stream",
          "name": "stdout",
          "text": [
            "[06:37:06.390545] Saving (1, 64, 64, 64, 1) data as .tif in folder: /content/output/my_3d_detection/results/my_3d_detection_1/per_image_local_max_check\n"
          ]
        },
        {
          "output_type": "stream",
          "name": "stderr",
          "text": [
            "\n",
            "  0%|          | 0/1 [00:00<?, ?it/s]\u001b[A\n",
            "                                     \u001b[A"
          ]
        },
        {
          "output_type": "stream",
          "name": "stdout",
          "text": [
            "[06:37:06.424624] WARNING: The CSV file seems to have different name than image. Using the CSV file with the same position as the CSV in the directory. Check if it is correct!\n",
            "[06:37:06.424722] Its respective CSV file seems to be: /content/data/test/y/mask_019.csv\n",
            "[06:37:06.426411] Reading GT data from: /content/data/test/y/mask_019.csv\n",
            "[06:37:06.429233] Detection (class 1)\n",
            "[06:37:06.439384] Points in ground truth: 326, Points in prediction: 292\n",
            "[06:37:06.439461] True positives: 292, False positives: 0, False negatives: 34\n",
            "[06:37:06.439548] Detection metrics: {'Precision': 1.0, 'Recall': 0.8957055214723927, 'F1': 0.9449838187702265, 'TP': 292, 'FP': 0, 'FN': 34}\n",
            "[06:37:06.446707] All classes 1\n",
            "[06:37:06.447194] Detection metrics: ['Precision', 1.0, 'Recall', 0.8957055214723927, 'F1', 0.9449838187702265]\n",
            "[06:37:06.447267] Creating the image with a summary of detected points and false positives with colors . . .\n",
            "[06:37:06.694209] Saving (1, 64, 64, 64, 1) data as .tif in folder: /content/output/my_3d_detection/results/my_3d_detection_1/point_associations\n"
          ]
        },
        {
          "output_type": "stream",
          "name": "stderr",
          "text": [
            "\n",
            "  0%|          | 0/1 [00:00<?, ?it/s]\u001b[A\n",
            "                                     \u001b[A"
          ]
        },
        {
          "output_type": "stream",
          "name": "stdout",
          "text": [
            "[06:37:06.797244] Saving (1, 64, 64, 64, 3) data as .tif in folder: /content/output/my_3d_detection/results/my_3d_detection_1/point_associations\n"
          ]
        },
        {
          "output_type": "stream",
          "name": "stderr",
          "text": [
            "\n",
            "  0%|          | 0/1 [00:00<?, ?it/s]\u001b[A\n",
            " 74%|\u2588\u2588\u2588\u2588\u2588\u2588\u2588\u258d  | 20/27 [00:14<00:04,  1.44it/s]"
          ]
        },
        {
          "output_type": "stream",
          "name": "stdout",
          "text": [
            "[06:37:06.831550] Processing image: vol_020.tif\n"
          ]
        },
        {
          "output_type": "stream",
          "name": "stderr",
          "text": [
            "\n",
            "  0%|          | 0/1 [00:00<?, ?it/s]\u001b[A/usr/local/lib/python3.10/dist-packages/biapy/engine/base_workflow.py:2038: FutureWarning: `torch.cuda.amp.autocast(args...)` is deprecated. Please use `torch.amp.autocast('cuda', args...)` instead.\n",
            "  with torch.cuda.amp.autocast():\n",
            "\n",
            "                                     \u001b[A"
          ]
        },
        {
          "output_type": "stream",
          "name": "stdout",
          "text": [
            "[06:37:06.874466] Saving (1, 64, 64, 64, 1) data as .tif in folder: /content/output/my_3d_detection/results/my_3d_detection_1/per_image\n"
          ]
        },
        {
          "output_type": "stream",
          "name": "stderr",
          "text": [
            "\n",
            "  0%|          | 0/1 [00:00<?, ?it/s]\u001b[A\n",
            "                                     \u001b[A"
          ]
        },
        {
          "output_type": "stream",
          "name": "stdout",
          "text": [
            "[06:37:06.934720] Capturing the local maxima \n",
            "[06:37:06.934820] Class 1\n",
            "[06:37:06.964843] Removing close points . . .\n",
            "[06:37:06.964958] Initial number of points: 549\n",
            "[06:37:06.974149] Final number of points: 303\n",
            "[06:37:06.975194] Creating the images with detected points . . .\n",
            "[06:37:07.014192] Saving (1, 64, 64, 64, 1) data as .tif in folder: /content/output/my_3d_detection/results/my_3d_detection_1/point_associations\n"
          ]
        },
        {
          "output_type": "stream",
          "name": "stderr",
          "text": [
            "\n",
            "  0%|          | 0/1 [00:00<?, ?it/s]\u001b[A\n",
            "                                     \u001b[A"
          ]
        },
        {
          "output_type": "stream",
          "name": "stdout",
          "text": [
            "[06:37:07.084860] Saving (1, 64, 64, 64, 1) data as .tif in folder: /content/output/my_3d_detection/results/my_3d_detection_1/per_image_local_max_check\n"
          ]
        },
        {
          "output_type": "stream",
          "name": "stderr",
          "text": [
            "\n",
            "  0%|          | 0/1 [00:00<?, ?it/s]\u001b[A\n",
            "                                     \u001b[A"
          ]
        },
        {
          "output_type": "stream",
          "name": "stdout",
          "text": [
            "[06:37:07.128531] WARNING: The CSV file seems to have different name than image. Using the CSV file with the same position as the CSV in the directory. Check if it is correct!\n",
            "[06:37:07.128646] Its respective CSV file seems to be: /content/data/test/y/mask_020.csv\n",
            "[06:37:07.128688] Reading GT data from: /content/data/test/y/mask_020.csv\n",
            "[06:37:07.133620] Detection (class 1)\n",
            "[06:37:07.153009] Points in ground truth: 315, Points in prediction: 303\n",
            "[06:37:07.153141] True positives: 303, False positives: 0, False negatives: 12\n",
            "[06:37:07.153250] Detection metrics: {'Precision': 1.0, 'Recall': 0.9619047619047619, 'F1': 0.9805825242718447, 'TP': 303, 'FP': 0, 'FN': 12}\n",
            "[06:37:07.159971] All classes 1\n",
            "[06:37:07.160996] Detection metrics: ['Precision', 1.0, 'Recall', 0.9619047619047619, 'F1', 0.9805825242718447]\n",
            "[06:37:07.161082] Creating the image with a summary of detected points and false positives with colors . . .\n",
            "[06:37:07.349607] Saving (1, 64, 64, 64, 1) data as .tif in folder: /content/output/my_3d_detection/results/my_3d_detection_1/point_associations\n"
          ]
        },
        {
          "output_type": "stream",
          "name": "stderr",
          "text": [
            "\n",
            "  0%|          | 0/1 [00:00<?, ?it/s]\u001b[A\n",
            "                                     \u001b[A"
          ]
        },
        {
          "output_type": "stream",
          "name": "stdout",
          "text": [
            "[06:37:07.451877] Saving (1, 64, 64, 64, 3) data as .tif in folder: /content/output/my_3d_detection/results/my_3d_detection_1/point_associations\n"
          ]
        },
        {
          "output_type": "stream",
          "name": "stderr",
          "text": [
            "\n",
            "  0%|          | 0/1 [00:00<?, ?it/s]\u001b[A\n",
            " 78%|\u2588\u2588\u2588\u2588\u2588\u2588\u2588\u258a  | 21/27 [00:15<00:04,  1.46it/s]"
          ]
        },
        {
          "output_type": "stream",
          "name": "stdout",
          "text": [
            "[06:37:07.487473] Processing image: vol_021.tif\n"
          ]
        },
        {
          "output_type": "stream",
          "name": "stderr",
          "text": [
            "\n",
            "  0%|          | 0/1 [00:00<?, ?it/s]\u001b[A/usr/local/lib/python3.10/dist-packages/biapy/engine/base_workflow.py:2038: FutureWarning: `torch.cuda.amp.autocast(args...)` is deprecated. Please use `torch.amp.autocast('cuda', args...)` instead.\n",
            "  with torch.cuda.amp.autocast():\n",
            "\n",
            "                                     \u001b[A"
          ]
        },
        {
          "output_type": "stream",
          "name": "stdout",
          "text": [
            "[06:37:07.524102] Saving (1, 64, 64, 64, 1) data as .tif in folder: /content/output/my_3d_detection/results/my_3d_detection_1/per_image\n"
          ]
        },
        {
          "output_type": "stream",
          "name": "stderr",
          "text": [
            "\n",
            "  0%|          | 0/1 [00:00<?, ?it/s]\u001b[A\n",
            "                                     \u001b[A"
          ]
        },
        {
          "output_type": "stream",
          "name": "stdout",
          "text": [
            "[06:37:07.592436] Capturing the local maxima \n",
            "[06:37:07.593801] Class 1\n",
            "[06:37:07.624478] Removing close points . . .\n",
            "[06:37:07.625489] Initial number of points: 75\n",
            "[06:37:07.627616] Final number of points: 40\n",
            "[06:37:07.628441] Creating the images with detected points . . .\n",
            "[06:37:07.672976] Saving (1, 64, 64, 64, 1) data as .tif in folder: /content/output/my_3d_detection/results/my_3d_detection_1/point_associations\n"
          ]
        },
        {
          "output_type": "stream",
          "name": "stderr",
          "text": [
            "\n",
            "  0%|          | 0/1 [00:00<?, ?it/s]\u001b[A\n",
            "                                     \u001b[A"
          ]
        },
        {
          "output_type": "stream",
          "name": "stdout",
          "text": [
            "[06:37:07.725324] Saving (1, 64, 64, 64, 1) data as .tif in folder: /content/output/my_3d_detection/results/my_3d_detection_1/per_image_local_max_check\n"
          ]
        },
        {
          "output_type": "stream",
          "name": "stderr",
          "text": [
            "\n",
            "  0%|          | 0/1 [00:00<?, ?it/s]\u001b[A\n",
            "                                     \u001b[A"
          ]
        },
        {
          "output_type": "stream",
          "name": "stdout",
          "text": [
            "[06:37:07.753492] WARNING: The CSV file seems to have different name than image. Using the CSV file with the same position as the CSV in the directory. Check if it is correct!\n",
            "[06:37:07.754723] Its respective CSV file seems to be: /content/data/test/y/mask_021.csv\n",
            "[06:37:07.755582] Reading GT data from: /content/data/test/y/mask_021.csv\n",
            "[06:37:07.757917] Detection (class 1)\n",
            "[06:37:07.762266] Points in ground truth: 36, Points in prediction: 40\n",
            "[06:37:07.763271] True positives: 36, False positives: 4, False negatives: 0\n",
            "[06:37:07.764267] Detection metrics: {'Precision': 0.9, 'Recall': 1.0, 'F1': 0.9473684210526316, 'TP': 36, 'FP': 4, 'FN': 0}\n",
            "[06:37:07.767895] All classes 1\n",
            "[06:37:07.768020] Detection metrics: ['Precision', 0.9, 'Recall', 1.0, 'F1', 0.9473684210526316]\n",
            "[06:37:07.769392] Creating the image with a summary of detected points and false positives with colors . . .\n",
            "[06:37:07.811238] Saving (1, 64, 64, 64, 1) data as .tif in folder: /content/output/my_3d_detection/results/my_3d_detection_1/point_associations\n"
          ]
        },
        {
          "output_type": "stream",
          "name": "stderr",
          "text": [
            "\n",
            "  0%|          | 0/1 [00:00<?, ?it/s]\u001b[A\n",
            "                                     \u001b[A"
          ]
        },
        {
          "output_type": "stream",
          "name": "stdout",
          "text": [
            "[06:37:07.905466] Saving (1, 64, 64, 64, 3) data as .tif in folder: /content/output/my_3d_detection/results/my_3d_detection_1/point_associations\n"
          ]
        },
        {
          "output_type": "stream",
          "name": "stderr",
          "text": [
            "\n",
            "  0%|          | 0/1 [00:00<?, ?it/s]\u001b[A\n",
            " 81%|\u2588\u2588\u2588\u2588\u2588\u2588\u2588\u2588\u258f | 22/27 [00:15<00:03,  1.63it/s]"
          ]
        },
        {
          "output_type": "stream",
          "name": "stdout",
          "text": [
            "[06:37:07.937313] Processing image: vol_022.tif\n"
          ]
        },
        {
          "output_type": "stream",
          "name": "stderr",
          "text": [
            "\n",
            "  0%|          | 0/1 [00:00<?, ?it/s]\u001b[A/usr/local/lib/python3.10/dist-packages/biapy/engine/base_workflow.py:2038: FutureWarning: `torch.cuda.amp.autocast(args...)` is deprecated. Please use `torch.amp.autocast('cuda', args...)` instead.\n",
            "  with torch.cuda.amp.autocast():\n",
            "\n",
            "                                     \u001b[A"
          ]
        },
        {
          "output_type": "stream",
          "name": "stdout",
          "text": [
            "[06:37:07.972590] Saving (1, 64, 64, 64, 1) data as .tif in folder: /content/output/my_3d_detection/results/my_3d_detection_1/per_image\n"
          ]
        },
        {
          "output_type": "stream",
          "name": "stderr",
          "text": [
            "\n",
            "  0%|          | 0/1 [00:00<?, ?it/s]\u001b[A\n",
            "                                     \u001b[A"
          ]
        },
        {
          "output_type": "stream",
          "name": "stdout",
          "text": [
            "[06:37:08.060432] Capturing the local maxima \n",
            "[06:37:08.060546] Class 1\n",
            "[06:37:08.097793] Removing close points . . .\n",
            "[06:37:08.097892] Initial number of points: 643\n",
            "[06:37:08.110581] Final number of points: 371\n",
            "[06:37:08.110985] Creating the images with detected points . . .\n",
            "[06:37:08.153632] Saving (1, 64, 64, 64, 1) data as .tif in folder: /content/output/my_3d_detection/results/my_3d_detection_1/point_associations\n"
          ]
        },
        {
          "output_type": "stream",
          "name": "stderr",
          "text": [
            "\n",
            "  0%|          | 0/1 [00:00<?, ?it/s]\u001b[A\n",
            "                                     \u001b[A"
          ]
        },
        {
          "output_type": "stream",
          "name": "stdout",
          "text": [
            "[06:37:08.222358] Saving (1, 64, 64, 64, 1) data as .tif in folder: /content/output/my_3d_detection/results/my_3d_detection_1/per_image_local_max_check\n"
          ]
        },
        {
          "output_type": "stream",
          "name": "stderr",
          "text": [
            "\n",
            "  0%|          | 0/1 [00:00<?, ?it/s]\u001b[A\n",
            "                                     \u001b[A"
          ]
        },
        {
          "output_type": "stream",
          "name": "stdout",
          "text": [
            "[06:37:08.263731] WARNING: The CSV file seems to have different name than image. Using the CSV file with the same position as the CSV in the directory. Check if it is correct!\n",
            "[06:37:08.265179] Its respective CSV file seems to be: /content/data/test/y/mask_022.csv\n",
            "[06:37:08.270423] Reading GT data from: /content/data/test/y/mask_022.csv\n",
            "[06:37:08.273665] Detection (class 1)\n",
            "[06:37:08.295426] Points in ground truth: 374, Points in prediction: 371\n",
            "[06:37:08.295508] True positives: 371, False positives: 0, False negatives: 3\n",
            "[06:37:08.297246] Detection metrics: {'Precision': 1.0, 'Recall': 0.9919786096256684, 'F1': 0.9959731543624161, 'TP': 371, 'FP': 0, 'FN': 3}\n",
            "[06:37:08.302795] All classes 1\n",
            "[06:37:08.302913] Detection metrics: ['Precision', 1.0, 'Recall', 0.9919786096256684, 'F1', 0.9959731543624161]\n",
            "[06:37:08.303006] Creating the image with a summary of detected points and false positives with colors . . .\n",
            "[06:37:08.506904] Saving (1, 64, 64, 64, 1) data as .tif in folder: /content/output/my_3d_detection/results/my_3d_detection_1/point_associations\n"
          ]
        },
        {
          "output_type": "stream",
          "name": "stderr",
          "text": [
            "\n",
            "  0%|          | 0/1 [00:00<?, ?it/s]\u001b[A\n",
            "                                     \u001b[A"
          ]
        },
        {
          "output_type": "stream",
          "name": "stdout",
          "text": [
            "[06:37:08.632317] Saving (1, 64, 64, 64, 3) data as .tif in folder: /content/output/my_3d_detection/results/my_3d_detection_1/point_associations\n"
          ]
        },
        {
          "output_type": "stream",
          "name": "stderr",
          "text": [
            "\n",
            "  0%|          | 0/1 [00:00<?, ?it/s]\u001b[A\n",
            " 85%|\u2588\u2588\u2588\u2588\u2588\u2588\u2588\u2588\u258c | 23/27 [00:16<00:02,  1.53it/s]"
          ]
        },
        {
          "output_type": "stream",
          "name": "stdout",
          "text": [
            "[06:37:08.678438] Processing image: vol_023.tif\n"
          ]
        },
        {
          "output_type": "stream",
          "name": "stderr",
          "text": [
            "\n",
            "  0%|          | 0/1 [00:00<?, ?it/s]\u001b[A/usr/local/lib/python3.10/dist-packages/biapy/engine/base_workflow.py:2038: FutureWarning: `torch.cuda.amp.autocast(args...)` is deprecated. Please use `torch.amp.autocast('cuda', args...)` instead.\n",
            "  with torch.cuda.amp.autocast():\n",
            "\n",
            "                                     \u001b[A"
          ]
        },
        {
          "output_type": "stream",
          "name": "stdout",
          "text": [
            "[06:37:08.743900] Saving (1, 64, 64, 64, 1) data as .tif in folder: /content/output/my_3d_detection/results/my_3d_detection_1/per_image\n"
          ]
        },
        {
          "output_type": "stream",
          "name": "stderr",
          "text": [
            "\n",
            "  0%|          | 0/1 [00:00<?, ?it/s]\u001b[A\n",
            "                                     \u001b[A"
          ]
        },
        {
          "output_type": "stream",
          "name": "stdout",
          "text": [
            "[06:37:08.848807] Capturing the local maxima \n",
            "[06:37:08.849975] Class 1\n",
            "[06:37:08.878575] Removing close points . . .\n",
            "[06:37:08.879504] Initial number of points: 239\n",
            "[06:37:08.886465] Final number of points: 137\n",
            "[06:37:08.892274] Creating the images with detected points . . .\n",
            "[06:37:08.936471] Saving (1, 64, 64, 64, 1) data as .tif in folder: /content/output/my_3d_detection/results/my_3d_detection_1/point_associations\n"
          ]
        },
        {
          "output_type": "stream",
          "name": "stderr",
          "text": [
            "\n",
            "  0%|          | 0/1 [00:00<?, ?it/s]\u001b[A\n",
            "                                     \u001b[A"
          ]
        },
        {
          "output_type": "stream",
          "name": "stdout",
          "text": [
            "[06:37:09.022395] Saving (1, 64, 64, 64, 1) data as .tif in folder: /content/output/my_3d_detection/results/my_3d_detection_1/per_image_local_max_check\n"
          ]
        },
        {
          "output_type": "stream",
          "name": "stderr",
          "text": [
            "\n",
            "  0%|          | 0/1 [00:00<?, ?it/s]\u001b[A\n",
            "                                     \u001b[A"
          ]
        },
        {
          "output_type": "stream",
          "name": "stdout",
          "text": [
            "[06:37:09.054084] WARNING: The CSV file seems to have different name than image. Using the CSV file with the same position as the CSV in the directory. Check if it is correct!\n",
            "[06:37:09.054171] Its respective CSV file seems to be: /content/data/test/y/mask_023.csv\n",
            "[06:37:09.054207] Reading GT data from: /content/data/test/y/mask_023.csv\n",
            "[06:37:09.056271] Detection (class 1)\n",
            "[06:37:09.073657] Points in ground truth: 112, Points in prediction: 137\n",
            "[06:37:09.074642] True positives: 112, False positives: 25, False negatives: 0\n",
            "[06:37:09.075688] Detection metrics: {'Precision': 0.8175182481751825, 'Recall': 1.0, 'F1': 0.8995983935742973, 'TP': 112, 'FP': 25, 'FN': 0}\n",
            "[06:37:09.085716] All classes 1\n",
            "[06:37:09.087753] Detection metrics: ['Precision', 0.8175182481751825, 'Recall', 1.0, 'F1', 0.8995983935742973]\n",
            "[06:37:09.088741] Creating the image with a summary of detected points and false positives with colors . . .\n",
            "[06:37:09.212701] Saving (1, 64, 64, 64, 1) data as .tif in folder: /content/output/my_3d_detection/results/my_3d_detection_1/point_associations\n"
          ]
        },
        {
          "output_type": "stream",
          "name": "stderr",
          "text": [
            "\n",
            "  0%|          | 0/1 [00:00<?, ?it/s]\u001b[A\n",
            "                                     \u001b[A"
          ]
        },
        {
          "output_type": "stream",
          "name": "stdout",
          "text": [
            "[06:37:09.364614] Saving (1, 64, 64, 64, 3) data as .tif in folder: /content/output/my_3d_detection/results/my_3d_detection_1/point_associations\n"
          ]
        },
        {
          "output_type": "stream",
          "name": "stderr",
          "text": [
            "\n",
            "  0%|          | 0/1 [00:00<?, ?it/s]\u001b[A\n",
            " 89%|\u2588\u2588\u2588\u2588\u2588\u2588\u2588\u2588\u2589 | 24/27 [00:17<00:02,  1.49it/s]"
          ]
        },
        {
          "output_type": "stream",
          "name": "stdout",
          "text": [
            "[06:37:09.401548] Processing image: vol_024.tif\n"
          ]
        },
        {
          "output_type": "stream",
          "name": "stderr",
          "text": [
            "\n",
            "  0%|          | 0/1 [00:00<?, ?it/s]\u001b[A/usr/local/lib/python3.10/dist-packages/biapy/engine/base_workflow.py:2038: FutureWarning: `torch.cuda.amp.autocast(args...)` is deprecated. Please use `torch.amp.autocast('cuda', args...)` instead.\n",
            "  with torch.cuda.amp.autocast():\n",
            "\n",
            "                                     \u001b[A"
          ]
        },
        {
          "output_type": "stream",
          "name": "stdout",
          "text": [
            "[06:37:09.460607] Saving (1, 64, 64, 64, 1) data as .tif in folder: /content/output/my_3d_detection/results/my_3d_detection_1/per_image\n"
          ]
        },
        {
          "output_type": "stream",
          "name": "stderr",
          "text": [
            "\n",
            "  0%|          | 0/1 [00:00<?, ?it/s]\u001b[A\n",
            "                                     \u001b[A"
          ]
        },
        {
          "output_type": "stream",
          "name": "stdout",
          "text": [
            "[06:37:09.558486] Capturing the local maxima \n",
            "[06:37:09.559638] Class 1\n",
            "[06:37:09.602833] Removing close points . . .\n",
            "[06:37:09.604092] Initial number of points: 266\n",
            "[06:37:09.610578] Final number of points: 130\n",
            "[06:37:09.611658] Creating the images with detected points . . .\n",
            "[06:37:09.659987] Saving (1, 64, 64, 64, 1) data as .tif in folder: /content/output/my_3d_detection/results/my_3d_detection_1/point_associations\n"
          ]
        },
        {
          "output_type": "stream",
          "name": "stderr",
          "text": [
            "\n",
            "  0%|          | 0/1 [00:00<?, ?it/s]\u001b[A\n",
            "                                     \u001b[A"
          ]
        },
        {
          "output_type": "stream",
          "name": "stdout",
          "text": [
            "[06:37:09.733525] Saving (1, 64, 64, 64, 1) data as .tif in folder: /content/output/my_3d_detection/results/my_3d_detection_1/per_image_local_max_check\n"
          ]
        },
        {
          "output_type": "stream",
          "name": "stderr",
          "text": [
            "\n",
            "  0%|          | 0/1 [00:00<?, ?it/s]\u001b[A\n",
            "                                     \u001b[A"
          ]
        },
        {
          "output_type": "stream",
          "name": "stdout",
          "text": [
            "[06:37:09.762465] WARNING: The CSV file seems to have different name than image. Using the CSV file with the same position as the CSV in the directory. Check if it is correct!\n",
            "[06:37:09.763684] Its respective CSV file seems to be: /content/data/test/y/mask_024.csv\n",
            "[06:37:09.764515] Reading GT data from: /content/data/test/y/mask_024.csv\n",
            "[06:37:09.767598] Detection (class 1)\n",
            "[06:37:09.772376] Points in ground truth: 82, Points in prediction: 130\n",
            "[06:37:09.774333] True positives: 82, False positives: 48, False negatives: 0\n",
            "[06:37:09.775107] Detection metrics: {'Precision': 0.6307692307692307, 'Recall': 1.0, 'F1': 0.7735849056603773, 'TP': 82, 'FP': 48, 'FN': 0}\n",
            "[06:37:09.779094] All classes 1\n",
            "[06:37:09.780127] Detection metrics: ['Precision', 0.6307692307692307, 'Recall', 1.0, 'F1', 0.7735849056603773]\n",
            "[06:37:09.781069] Creating the image with a summary of detected points and false positives with colors . . .\n",
            "[06:37:09.873859] Saving (1, 64, 64, 64, 1) data as .tif in folder: /content/output/my_3d_detection/results/my_3d_detection_1/point_associations\n"
          ]
        },
        {
          "output_type": "stream",
          "name": "stderr",
          "text": [
            "\n",
            "  0%|          | 0/1 [00:00<?, ?it/s]\u001b[A\n",
            "                                     \u001b[A"
          ]
        },
        {
          "output_type": "stream",
          "name": "stdout",
          "text": [
            "[06:37:10.016550] Saving (1, 64, 64, 64, 3) data as .tif in folder: /content/output/my_3d_detection/results/my_3d_detection_1/point_associations\n"
          ]
        },
        {
          "output_type": "stream",
          "name": "stderr",
          "text": [
            "\n",
            "  0%|          | 0/1 [00:00<?, ?it/s]\u001b[A\n",
            " 93%|\u2588\u2588\u2588\u2588\u2588\u2588\u2588\u2588\u2588\u258e| 25/27 [00:17<00:01,  1.50it/s]"
          ]
        },
        {
          "output_type": "stream",
          "name": "stdout",
          "text": [
            "[06:37:10.055602] Processing image: vol_025.tif\n"
          ]
        },
        {
          "output_type": "stream",
          "name": "stderr",
          "text": [
            "\n",
            "  0%|          | 0/1 [00:00<?, ?it/s]\u001b[A/usr/local/lib/python3.10/dist-packages/biapy/engine/base_workflow.py:2038: FutureWarning: `torch.cuda.amp.autocast(args...)` is deprecated. Please use `torch.amp.autocast('cuda', args...)` instead.\n",
            "  with torch.cuda.amp.autocast():\n",
            "\n",
            "                                     \u001b[A"
          ]
        },
        {
          "output_type": "stream",
          "name": "stdout",
          "text": [
            "[06:37:10.124438] Saving (1, 64, 64, 64, 1) data as .tif in folder: /content/output/my_3d_detection/results/my_3d_detection_1/per_image\n"
          ]
        },
        {
          "output_type": "stream",
          "name": "stderr",
          "text": [
            "\n",
            "  0%|          | 0/1 [00:00<?, ?it/s]\u001b[A\n",
            "                                     \u001b[A"
          ]
        },
        {
          "output_type": "stream",
          "name": "stdout",
          "text": [
            "[06:37:10.246763] Capturing the local maxima \n",
            "[06:37:10.250672] Class 1\n",
            "[06:37:10.318607] Removing close points . . .\n",
            "[06:37:10.321016] Initial number of points: 590\n",
            "[06:37:10.338597] Final number of points: 353\n",
            "[06:37:10.339914] Creating the images with detected points . . .\n",
            "[06:37:10.400087] Saving (1, 64, 64, 64, 1) data as .tif in folder: /content/output/my_3d_detection/results/my_3d_detection_1/point_associations\n"
          ]
        },
        {
          "output_type": "stream",
          "name": "stderr",
          "text": [
            "\n",
            "  0%|          | 0/1 [00:00<?, ?it/s]\u001b[A\n",
            "                                     \u001b[A"
          ]
        },
        {
          "output_type": "stream",
          "name": "stdout",
          "text": [
            "[06:37:10.484971] Saving (1, 64, 64, 64, 1) data as .tif in folder: /content/output/my_3d_detection/results/my_3d_detection_1/per_image_local_max_check\n"
          ]
        },
        {
          "output_type": "stream",
          "name": "stderr",
          "text": [
            "\n",
            "  0%|          | 0/1 [00:00<?, ?it/s]\u001b[A\n",
            "                                     \u001b[A"
          ]
        },
        {
          "output_type": "stream",
          "name": "stdout",
          "text": [
            "[06:37:10.526225] WARNING: The CSV file seems to have different name than image. Using the CSV file with the same position as the CSV in the directory. Check if it is correct!\n",
            "[06:37:10.528035] Its respective CSV file seems to be: /content/data/test/y/mask_025.csv\n",
            "[06:37:10.529641] Reading GT data from: /content/data/test/y/mask_025.csv\n",
            "[06:37:10.534765] Detection (class 1)\n",
            "[06:37:10.570103] Points in ground truth: 330, Points in prediction: 353\n",
            "[06:37:10.571431] True positives: 330, False positives: 23, False negatives: 0\n",
            "[06:37:10.572252] Detection metrics: {'Precision': 0.9348441926345609, 'Recall': 1.0, 'F1': 0.9663250366032211, 'TP': 330, 'FP': 23, 'FN': 0}\n",
            "[06:37:10.579406] All classes 1\n",
            "[06:37:10.580332] Detection metrics: ['Precision', 0.9348441926345609, 'Recall', 1.0, 'F1', 0.9663250366032211]\n",
            "[06:37:10.581467] Creating the image with a summary of detected points and false positives with colors . . .\n",
            "[06:37:10.831517] Saving (1, 64, 64, 64, 1) data as .tif in folder: /content/output/my_3d_detection/results/my_3d_detection_1/point_associations\n"
          ]
        },
        {
          "output_type": "stream",
          "name": "stderr",
          "text": [
            "\n",
            "  0%|          | 0/1 [00:00<?, ?it/s]\u001b[A\n",
            "                                     \u001b[A"
          ]
        },
        {
          "output_type": "stream",
          "name": "stdout",
          "text": [
            "[06:37:10.986712] Saving (1, 64, 64, 64, 3) data as .tif in folder: /content/output/my_3d_detection/results/my_3d_detection_1/point_associations\n"
          ]
        },
        {
          "output_type": "stream",
          "name": "stderr",
          "text": [
            "\n",
            "  0%|          | 0/1 [00:00<?, ?it/s]\u001b[A\n",
            " 96%|\u2588\u2588\u2588\u2588\u2588\u2588\u2588\u2588\u2588\u258b| 26/27 [00:18<00:00,  1.32it/s]"
          ]
        },
        {
          "output_type": "stream",
          "name": "stdout",
          "text": [
            "[06:37:11.027449] Processing image: vol_026.tif\n"
          ]
        },
        {
          "output_type": "stream",
          "name": "stderr",
          "text": [
            "\n",
            "  0%|          | 0/1 [00:00<?, ?it/s]\u001b[A/usr/local/lib/python3.10/dist-packages/biapy/engine/base_workflow.py:2038: FutureWarning: `torch.cuda.amp.autocast(args...)` is deprecated. Please use `torch.amp.autocast('cuda', args...)` instead.\n",
            "  with torch.cuda.amp.autocast():\n",
            "\n",
            "                                     \u001b[A"
          ]
        },
        {
          "output_type": "stream",
          "name": "stdout",
          "text": [
            "[06:37:11.066349] Saving (1, 64, 64, 64, 1) data as .tif in folder: /content/output/my_3d_detection/results/my_3d_detection_1/per_image\n"
          ]
        },
        {
          "output_type": "stream",
          "name": "stderr",
          "text": [
            "\n",
            "  0%|          | 0/1 [00:00<?, ?it/s]\u001b[A\n",
            "                                     \u001b[A"
          ]
        },
        {
          "output_type": "stream",
          "name": "stdout",
          "text": [
            "[06:37:11.131968] Capturing the local maxima \n",
            "[06:37:11.132880] Class 1\n",
            "[06:37:11.163649] Removing close points . . .\n",
            "[06:37:11.164390] Initial number of points: 97\n",
            "[06:37:11.167072] Final number of points: 54\n",
            "[06:37:11.168031] Creating the images with detected points . . .\n",
            "[06:37:11.217452] Saving (1, 64, 64, 64, 1) data as .tif in folder: /content/output/my_3d_detection/results/my_3d_detection_1/point_associations\n"
          ]
        },
        {
          "output_type": "stream",
          "name": "stderr",
          "text": [
            "\n",
            "  0%|          | 0/1 [00:00<?, ?it/s]\u001b[A\n",
            "                                     \u001b[A"
          ]
        },
        {
          "output_type": "stream",
          "name": "stdout",
          "text": [
            "[06:37:11.299606] Saving (1, 64, 64, 64, 1) data as .tif in folder: /content/output/my_3d_detection/results/my_3d_detection_1/per_image_local_max_check\n"
          ]
        },
        {
          "output_type": "stream",
          "name": "stderr",
          "text": [
            "\n",
            "  0%|          | 0/1 [00:00<?, ?it/s]\u001b[A\n",
            "                                     \u001b[A"
          ]
        },
        {
          "output_type": "stream",
          "name": "stdout",
          "text": [
            "[06:37:11.331679] WARNING: The CSV file seems to have different name than image. Using the CSV file with the same position as the CSV in the directory. Check if it is correct!\n",
            "[06:37:11.334262] Its respective CSV file seems to be: /content/data/test/y/mask_026.csv\n",
            "[06:37:11.334349] Reading GT data from: /content/data/test/y/mask_026.csv\n",
            "[06:37:11.336746] Detection (class 1)\n",
            "[06:37:11.342953] Points in ground truth: 30, Points in prediction: 54\n",
            "[06:37:11.344322] True positives: 30, False positives: 24, False negatives: 0\n",
            "[06:37:11.345321] Detection metrics: {'Precision': 0.5555555555555556, 'Recall': 1.0, 'F1': 0.7142857142857143, 'TP': 30, 'FP': 24, 'FN': 0}\n",
            "[06:37:11.349625] All classes 1\n",
            "[06:37:11.350866] Detection metrics: ['Precision', 0.5555555555555556, 'Recall', 1.0, 'F1', 0.7142857142857143]\n",
            "[06:37:11.351857] Creating the image with a summary of detected points and false positives with colors . . .\n",
            "[06:37:11.416458] Saving (1, 64, 64, 64, 1) data as .tif in folder: /content/output/my_3d_detection/results/my_3d_detection_1/point_associations\n"
          ]
        },
        {
          "output_type": "stream",
          "name": "stderr",
          "text": [
            "\n",
            "  0%|          | 0/1 [00:00<?, ?it/s]\u001b[A\n",
            "                                     \u001b[A"
          ]
        },
        {
          "output_type": "stream",
          "name": "stdout",
          "text": [
            "[06:37:11.566714] Saving (1, 64, 64, 64, 3) data as .tif in folder: /content/output/my_3d_detection/results/my_3d_detection_1/point_associations\n"
          ]
        },
        {
          "output_type": "stream",
          "name": "stderr",
          "text": [
            "\n",
            "  0%|          | 0/1 [00:00<?, ?it/s]\u001b[A\n",
            "100%|\u2588\u2588\u2588\u2588\u2588\u2588\u2588\u2588\u2588\u2588| 27/27 [00:19<00:00,  1.40it/s]"
          ]
        },
        {
          "output_type": "stream",
          "name": "stdout",
          "text": [
            "[06:37:11.604863] Releasing memory . . .\n",
            "[06:37:11.604978] #############\n",
            "[06:37:11.605018] #  RESULTS  #\n",
            "[06:37:11.605047] #############\n",
            "[06:37:11.605124] Test Foreground IoU (per patch): 0.14807002825869453\n",
            "[06:37:11.605162] Test Foreground IoU (merge patches): 0.14807002825869453\n",
            "[06:37:11.605194] Test Precision (merge patches): 0.9147597269478289\n",
            "[06:37:11.605226] Test Recall (merge patches): 0.9592175056249584\n",
            "[06:37:11.605257] Test F1 (merge patches): 0.9276596323940905\n",
            "[06:37:11.605290] Test TP (merge patches): 252.62962962962962\n",
            "[06:37:11.605321] Test FP (merge patches): 11.222222222222221\n",
            "[06:37:11.605354] Test FN (merge patches): 13.74074074074074\n",
            "[06:37:11.605386]  \n",
            "[06:37:11.605451] FINISHED JOB my_3d_detection_1 !!\n"
          ]
        },
        {
          "output_type": "stream",
          "name": "stderr",
          "text": [
            "\n"
          ]
        }
      ],
      "source": [
        "#@markdown ### Play to run inference on test with the new parameters\n",
        "biapy_config_inference = biapy_config\n",
        "\n",
        "# set the training to false to peform inference\n",
        "biapy_config_inference['TRAIN']['ENABLE'] = False\n",
        "\n",
        "# Detection parameters\n",
        "biapy_config['PROBLEM']['DETECTION']['CENTRAL_POINT_DILATION'] = [central_point_dilation]\n",
        "biapy_config_inference['TEST']['DET_MIN_TH_TO_BE_PEAK'] = min_value_to_be_peak\n",
        "biapy_config_inference['TEST']['DET_TOLERANCE'] = [tolerance]\n",
        "biapy_config_inference['TEST']['POST_PROCESSING']['REMOVE_CLOSE_POINTS'] = remove_close_points\n",
        "biapy_config_inference['TEST']['POST_PROCESSING']['REMOVE_CLOSE_POINTS_RADIUS'] = remove_close_points_radius\n",
        "biapy_config_inference['MODEL']['LOAD_CHECKPOINT'] = True\n",
        "\n",
        "# save file\n",
        "inference_file = \"/content/\"+str(job_name)+\"_inference.yaml\"\n",
        "\n",
        "with open( inference_file, 'w') as outfile:\n",
        "    yaml.dump(biapy_config_inference, outfile, default_flow_style=False)\n",
        "\n",
        "print( \"Inference configuration finished.\")\n",
        "\n",
        "# Run the code\n",
        "biapy = BiaPy(inference_file, result_dir=output_path, name=job_name, run_id=1, gpu=0)\n",
        "biapy.run_job()\n"
      ]
    },
    {
      "cell_type": "code",
      "execution_count": null,
      "metadata": {
        "cellView": "form",
        "colab": {
          "base_uri": "https://localhost:8080/",
          "height": 1000,
          "referenced_widgets": [
            "418a0bea13fb4c02ac97db47b1b75e8d",
            "f6fa69a7b4f345e6a60977d1d0c8e316",
            "e2962022f4ca4dc5a5f69e68cdc6a71e",
            "c27b8f12fe084913b2d8d509ac102004",
            "4bd259a1591845f587a13e1471b0016f",
            "0f0a6d2602c0485781acac71e2ffcfe5",
            "24b4b5c0045f4426acd89c0c534906c6",
            "cf485f92581748a39b1326e05ad8fbfa",
            "437d0202f2f74c44b89a929c9b121a05",
            "fa8500eb9f23446ca8eaa6d84f730096",
            "2507bb0fb04548d989aca760f855286a",
            "ff9e33cec0bb4b58bd374ece64749abd",
            "fc2529cbef134a459a9f2ea5e85324e2",
            "56b7b9901ed745b8aea00a868c061bef",
            "b2174deac0bf4867923a37a35a710734",
            "897b0acd5b3943cab6862fbab4b9d28e",
            "4001eb4169094c4e8e071e43dc086d7b",
            "7db46ed3bc264e3ebf12d588a8654713",
            "844916dde0864491997df0634403296f",
            "bbf7af8ef3eb4b47850d2145a42bec08",
            "17fef096201847f6b27aedd9c77e2e70"
          ]
        },
        "id": "pRJRFyLsNhB_",
        "outputId": "3da40ff3-537e-4ce8-c4f2-619ea1cb8a47"
      },
      "outputs": [
        {
          "output_type": "display_data",
          "data": {
            "text/plain": [
              "interactive(children=(IntSlider(value=32, description='z', max=64, min=1), Output()), _dom_classes=('widget-in\u2026"
            ],
            "application/vnd.jupyter.widget-view+json": {
              "version_major": 2,
              "version_minor": 0,
              "model_id": "418a0bea13fb4c02ac97db47b1b75e8d"
            }
          },
          "metadata": {
            "application/vnd.jupyter.widget-view+json": {
              "colab": {
                "custom_widget_manager": {
                  "url": "https://ssl.gstatic.com/colaboratory-static/widgets/colab-cdn-widget-manager/2b70e893a8ba7c0f/manager.min.js"
                }
              }
            }
          }
        },
        {
          "output_type": "display_data",
          "data": {
            "text/plain": [
              "interactive(children=(IntSlider(value=32, description='z', max=64, min=1), Output()), _dom_classes=('widget-in\u2026"
            ],
            "application/vnd.jupyter.widget-view+json": {
              "version_major": 2,
              "version_minor": 0,
              "model_id": "ff9e33cec0bb4b58bd374ece64749abd"
            }
          },
          "metadata": {
            "application/vnd.jupyter.widget-view+json": {
              "colab": {
                "custom_widget_manager": {
                  "url": "https://ssl.gstatic.com/colaboratory-static/widgets/colab-cdn-widget-manager/2b70e893a8ba7c0f/manager.min.js"
                }
              }
            }
          }
        },
        {
          "output_type": "display_data",
          "data": {
            "text/plain": [
              "interactive(children=(IntSlider(value=32, description='z', max=64, min=1), Output()), _dom_classes=('widget-in\u2026"
            ],
            "application/vnd.jupyter.widget-view+json": {
              "version_major": 2,
              "version_minor": 0,
              "model_id": "844916dde0864491997df0634403296f"
            }
          },
          "metadata": {
            "application/vnd.jupyter.widget-view+json": {
              "colab": {
                "custom_widget_manager": {
                  "url": "https://ssl.gstatic.com/colaboratory-static/widgets/colab-cdn-widget-manager/2b70e893a8ba7c0f/manager.min.js"
                }
              }
            }
          }
        }
      ],
      "source": [
        "#@markdown ###Play to visualize some results from the test set\n",
        "#@markdown The current model will be applied to some test images and results will be shown displaying:\n",
        "#@markdown 1. The original **Test input image**.\n",
        "#@markdown 2. The model **Prediction** labels.\n",
        "#@markdown 3. Its corresponding **Ground truth** labels (if `test_ground_truth` was checked),\n",
        "#@markdown 4. The **Associations** between predicted and ground truth detections (if `test_ground_truth` was checked).\n",
        "\n",
        "#@markdown Associations between predictions and ground truth are illustrated as follows:\n",
        "#@markdown - **Green**: True positives.\n",
        "#@markdown - **Red**: False negatives.\n",
        "#@markdown - **Blue**: False positives.\n",
        "\n",
        "%matplotlib inline\n",
        "import matplotlib\n",
        "import numpy as np\n",
        "from numpy.random import randint, seed\n",
        "from matplotlib import pyplot as plt\n",
        "from ipywidgets import interact, fixed\n",
        "import ipywidgets as widgets\n",
        "from google.colab import output\n",
        "output.enable_custom_widget_manager()\n",
        "\n",
        "final_results = os.path.join(output_path, job_name, 'results', job_name+\"_1\")\n",
        "detection_results = os.path.join(final_results, \"per_image_local_max_check\")\n",
        "assoc_results = os.path.join(final_results, \"point_associations\")\n",
        "test_data_gt_path = \"/content/data/train/y_detection_masks\"\n",
        "\n",
        "# Show a few examples to check that they have been stored correctly\n",
        "ids_pred = sorted(next(os.walk(detection_results))[2])\n",
        "ids_pred = [x for x in ids_pred if not x.endswith('.csv') ]\n",
        "ids_assoc = sorted(next(os.walk(assoc_results))[2])\n",
        "ids_assoc = [x for x in ids_assoc if not x.endswith('.csv') ]\n",
        "ids_assoc = [x for x in ids_assoc if \"_gt_ids\" not in x ]\n",
        "ids_assoc = [x for x in ids_assoc if \"_pred_ids\" not in x ]\n",
        "ids_input = sorted(next(os.walk(test_data_path))[2])\n",
        "ids_gt = sorted(next(os.walk(test_data_gt_path))[2])\n",
        "\n",
        "samples_to_show = min(len(ids_input), 3)\n",
        "chosen_images = np.random.choice(len(ids_input), samples_to_show, replace=False)\n",
        "seed(1)\n",
        "\n",
        "test_samples = []\n",
        "test_sample_preds = []\n",
        "test_sample_gt = []\n",
        "test_sample_assoc = []\n",
        "\n",
        "# read 3D images again\n",
        "for i in range(len(chosen_images)):\n",
        "    aux = imread(os.path.join(test_data_path, ids_input[chosen_images[i]]))\n",
        "    test_samples.append(np.squeeze(aux))\n",
        "\n",
        "    aux = imread(os.path.join(detection_results, ids_pred[chosen_images[i]])).astype(np.uint16)\n",
        "    test_sample_preds.append(np.squeeze(aux))\n",
        "\n",
        "    aux = imread(os.path.join(test_data_gt_path, ids_gt[chosen_images[i]])).astype(np.uint16)\n",
        "    test_sample_gt.append(np.squeeze(aux))\n",
        "\n",
        "    aux = imread(os.path.join(assoc_results, ids_assoc[chosen_images[i]]))\n",
        "    test_sample_assoc.append(np.squeeze(aux))\n",
        "\n",
        "# function to show results in 3D within a widget\n",
        "def scroll_in_z(z, j):\n",
        "\n",
        "    plt.figure(figsize=(18,4))\n",
        "    # Source\n",
        "    plt.subplot(1,4,1)\n",
        "    plt.axis('off')\n",
        "    plt.imshow(test_samples[j][z-1], cmap='gray')\n",
        "    plt.title('Source (z = ' + str(z) + ')', fontsize=15)\n",
        "\n",
        "    # Target (Ground-truth)\n",
        "    plt.subplot(1,4,2)\n",
        "    plt.axis('off')\n",
        "    plt.imshow(test_sample_gt[j][z-1], interpolation='nearest')\n",
        "    plt.title('Ground truth (z = ' + str(z) + ')', fontsize=15)\n",
        "\n",
        "    # Prediction\n",
        "    plt.subplot(1,4,3)\n",
        "    plt.axis('off')\n",
        "    plt.imshow(test_sample_preds[j][z-1], interpolation='nearest')\n",
        "    plt.title('Prediction (z = ' + str(z) + ')', fontsize=15)\n",
        "\n",
        "    # Overlay\n",
        "    plt.subplot(1,4,4)\n",
        "    plt.axis('off')\n",
        "    plt.imshow(test_sample_assoc[j][z-1], interpolation='nearest')\n",
        "    plt.title('Associations (z = ' + str(z) + ')', fontsize=15)\n",
        "\n",
        "    plt.show()\n",
        "\n",
        "for j in range(samples_to_show):\n",
        "    interact(scroll_in_z, z=widgets.IntSlider(min=1, max=test_sample_gt[j].shape[0], step=1, value=test_sample_gt[j].shape[0]//2), j=fixed(j));"
      ]
    },
    {
      "cell_type": "markdown",
      "source": [
        "## **How to use the trained model with new data**\n",
        "---\n",
        "To directly infer new data to the trained model, you can use [this notebook](https://github.com/BiaPyX/BiaPy/blob/master/notebooks/BiaPy_Inference.ipynb). It will be necessary to upload the downloaded YAML configuration file and model weights to that notebook."
      ],
      "metadata": {
        "id": "PFVjWbF8GZ2z"
      }
    },
    {
      "cell_type": "markdown",
      "metadata": {
        "id": "wAzTcs0wuR3d"
      },
      "source": [
        "## **Acknowledgments**\n",
        "---\n",
        "\n",
        "We extend our gratitude to the [ZeroCostDL4Mic notebooks](https://github.com/HenriquesLab/ZeroCostDL4Mic/wiki) which have been a beacon of inspiration for our work. Specific elements, such as descriptions of metrics and parameters, as well as the 3D visualization widget code, have been incorporated from their [U-Net 3D notebook](https://colab.research.google.com/github/HenriquesLab/ZeroCostDL4Mic/blob/master/Colab_notebooks/U-Net_3D_ZeroCostDL4Mic.ipynb). Their contributions to the field have immensely enriched our endeavor.\n"
      ]
    }
  ],
  "metadata": {
    "colab": {
      "provenance": [],
      "toc_visible": true,
      "gpuType": "T4"
    },
    "kernelspec": {
      "display_name": "Python 3",
      "name": "python3"
    },
    "accelerator": "GPU"
  },
  "nbformat": 4,
  "nbformat_minor": 0
}