{
  "nbformat": 4,
  "nbformat_minor": 0,
  "metadata": {
    "accelerator": "GPU",
    "colab": {
      "name": "Oztel_workflow.ipynb",
      "provenance": [
        {
          "file_id": "1l4uWjHdROJBE5ow-NErThZeN1NBIyAom",
          "timestamp": 1611069824502
        },
        {
          "file_id": "1h6JMjJK1reIWQcVNnnT1wIwH3CdLwNVF",
          "timestamp": 1609775100946
        }
      ],
      "collapsed_sections": []
    },
    "kernelspec": {
      "display_name": "Python 3",
      "name": "python3"
    }
  },
  "cells": [
    {
      "cell_type": "markdown",
      "metadata": {
        "id": "gs_VI1qRM8eF"
      },
      "source": [
        "# Mitochondria segmentation in EM with 2D U-Net"
      ]
    },
    {
      "cell_type": "code",
      "metadata": {
        "id": "YX1C7iJ0Aer2"
      },
      "source": [
        "%matplotlib inline\n",
        "from matplotlib import pyplot as plt\n",
        "import os\n",
        "import sys\n",
        "from skimage.io import imread                                                   \n",
        "from PIL import Image\n",
        "import numpy as np\n",
        "from tqdm import tqdm\n"
      ],
      "execution_count": null,
      "outputs": []
    },
    {
      "cell_type": "code",
      "metadata": {
        "id": "Xx-2dYFLsKOZ"
      },
      "source": [
        "!wget https://github.com/danifranco/EM_Image_Segmentation/archive/refs/tags/v1.0.tar.gz\n",
        "!tar -xzvf v1.0.tar.gz"
      ],
      "execution_count": null,
      "outputs": []
    },
    {
      "cell_type": "markdown",
      "metadata": {
        "id": "JIc13XmNJfoE"
      },
      "source": [
        "Install dependencies:"
      ]
    },
    {
      "cell_type": "code",
      "metadata": {
        "id": "tOYn0Ib3JeqV"
      },
      "source": [
        "!pip install git+https://github.com/aleju/imgaug.git"
      ],
      "execution_count": null,
      "outputs": []
    },
    {
      "cell_type": "markdown",
      "metadata": {
        "id": "hKeHrFiO_zld"
      },
      "source": [
        "Download the EPFL Hippocampus dataset (Lucchi dataset)"
      ]
    },
    {
      "cell_type": "code",
      "metadata": {
        "id": "_p4BwPWd_sqB"
      },
      "source": [
        "if not os.path.exists('training.tif'):\n",
        "    !wget https://documents.epfl.ch/groups/c/cv/cvlab-unit/www/data/%20ElectronMicroscopy_Hippocampus/training.tif\n",
        "if not os.path.exists('training_groundtruth.tif'):\n",
        "    !wget https://documents.epfl.ch/groups/c/cv/cvlab-unit/www/data/%20ElectronMicroscopy_Hippocampus/training_groundtruth.tif\n",
        "if not os.path.exists('testing.tif'):\n",
        "    !wget https://documents.epfl.ch/groups/c/cv/cvlab-unit/www/data/%20ElectronMicroscopy_Hippocampus/testing.tif\n",
        "if not os.path.exists('testing_groundtruth.tif'):\n",
        "    !wget https://documents.epfl.ch/groups/c/cv/cvlab-unit/www/data/%20ElectronMicroscopy_Hippocampus/testing_groundtruth.tif"
      ],
      "execution_count": null,
      "outputs": []
    },
    {
      "cell_type": "markdown",
      "metadata": {
        "id": "oMuXNSs_CFG_"
      },
      "source": [
        "## Prepare dataset in correct folders readable by the template "
      ]
    },
    {
      "cell_type": "code",
      "metadata": {
        "id": "VIc_2y0cCWuf"
      },
      "source": [
        "!mkdir -p dataset/train/x dataset/train/y dataset/test/x dataset/test/y\n",
        "train_save_data = 'dataset/train/x'\n",
        "train_save_mask = 'dataset/train/y'\n",
        "test_save_data = 'dataset/test/x'\n",
        "test_save_mask = 'dataset/test/y'"
      ],
      "execution_count": null,
      "outputs": []
    },
    {
      "cell_type": "markdown",
      "metadata": {
        "id": "-oYlW6PZCRqF"
      },
      "source": [
        "**Train data**:"
      ]
    },
    {
      "cell_type": "code",
      "metadata": {
        "id": "qlgAUMPfPOGX"
      },
      "source": [
        "X_train = imread('training.tif')\n",
        "Y_train = imread('training_groundtruth.tif')"
      ],
      "execution_count": null,
      "outputs": []
    },
    {
      "cell_type": "code",
      "metadata": {
        "id": "39joiWvzlpYQ"
      },
      "source": [
        "d = len(str(X_train.shape[0]))\n",
        "for i in tqdm(range(X_train.shape[0])):\n",
        "    # Data\n",
        "    im = Image.fromarray((X_train[i]).astype(np.uint8))\n",
        "    im = im.convert('L')\n",
        "    f = os.path.join(train_save_data , \"x_\" + str(i).zfill(d) + '.tif')\n",
        "    im.save(f)\n",
        "\n",
        "    # Mask\n",
        "    im = Image.fromarray((Y_train[i]).astype(np.uint8))\n",
        "    im = im.convert('L')\n",
        "    f = os.path.join(train_save_mask , \"y_\" + str(i).zfill(d) + '.tif')\n",
        "    im.save(f)"
      ],
      "execution_count": null,
      "outputs": []
    },
    {
      "cell_type": "code",
      "metadata": {
        "id": "QZrM4j0NG4ft"
      },
      "source": [
        "del X_train, Y_train"
      ],
      "execution_count": null,
      "outputs": []
    },
    {
      "cell_type": "markdown",
      "metadata": {
        "id": "A2_x6UuADpUN"
      },
      "source": [
        "**Test data**:"
      ]
    },
    {
      "cell_type": "code",
      "metadata": {
        "id": "dR-MrOo1EAKP"
      },
      "source": [
        "X_test = imread('testing.tif')\n",
        "Y_test = imread('testing_groundtruth.tif')"
      ],
      "execution_count": null,
      "outputs": []
    },
    {
      "cell_type": "code",
      "metadata": {
        "id": "ysIpyAiAEAKe"
      },
      "source": [
        "d = len(str(X_test.shape[0]))\n",
        "for i in tqdm(range(X_test.shape[0])):\n",
        "    # Data\n",
        "    im = Image.fromarray((X_test[i]).astype(np.uint8))\n",
        "    im = im.convert('L')\n",
        "    f = os.path.join(test_save_data , \"x_\" + str(i).zfill(d) + '.tif')\n",
        "    im.save(f)\n",
        "\n",
        "    # Mask\n",
        "    im = Image.fromarray((Y_test[i]).astype(np.uint8))\n",
        "    im = im.convert('L')\n",
        "    f = os.path.join(test_save_mask , \"y_\" + str(i).zfill(d) + '.tif')\n",
        "    im.save(f)"
      ],
      "execution_count": null,
      "outputs": []
    },
    {
      "cell_type": "code",
      "metadata": {
        "id": "Qx4GkP3VG8b9"
      },
      "source": [
        "del X_test, Y_test"
      ],
      "execution_count": null,
      "outputs": []
    },
    {
      "cell_type": "markdown",
      "metadata": {
        "id": "X7XptmE8HCBd"
      },
      "source": [
        "Check data samples:"
      ]
    },
    {
      "cell_type": "code",
      "metadata": {
        "id": "QOSS1I4aHAX1"
      },
      "source": [
        "train_x_sample = imread(os.path.join(train_save_data, 'x_000.tif')) \n",
        "train_y_sample = imread(os.path.join(train_save_mask, 'y_000.tif')) \n",
        "test_x_sample = imread(os.path.join(test_save_data, 'x_000.tif')) \n",
        "test_y_sample = imread(os.path.join(test_save_mask, 'y_000.tif')) \n",
        "\n",
        "plt.figure(figsize=(20,20))\n",
        "plt.subplot(1, 4, 1)    \n",
        "plt.imshow(train_x_sample, cmap='gray')\n",
        "plt.subplot(1, 4, 2)    \n",
        "plt.imshow(train_y_sample, cmap='gray')\n",
        "plt.subplot(1, 4, 3)    \n",
        "plt.imshow(test_x_sample, cmap='gray')\n",
        "plt.subplot(1, 4, 4)    \n",
        "plt.imshow(test_y_sample, cmap='gray')\n",
        "plt.show()\n",
        "\n",
        "del train_x_sample, train_y_sample, test_x_sample, test_y_sample"
      ],
      "execution_count": null,
      "outputs": []
    },
    {
      "cell_type": "markdown",
      "metadata": {
        "id": "ygfuBD8WETTO"
      },
      "source": [
        "# Run the template!"
      ]
    },
    {
      "cell_type": "code",
      "metadata": {
        "colab": {
          "background_save": true
        },
        "id": "nrTrzb45I2Hw"
      },
      "source": [
        "# 1st arg: absolute path to the repo code  -> '/content/EM_Image_Segmentation-1.0'\n",
        "# 2nd arg: absolute path to the dataset -> '/content/dataset'\n",
        "# 3rd arg: absolute path where the output data will be generated -> '/content/out_dir'\n",
        "# 4th arg (--id) : a string to identify the job -> 'test_job' \n",
        "# 5th arg (--rid) : number that should be increased when one need to run the same job multiple times -> 0\n",
        "# 6th arg (--gpu): number of the GPU to run the job in (according to 'nvidia-smi' command) -> 0\n",
        "\n",
        "# Select one of them. V0 corresponds to the hyperarameters setting presented by Oztel et. al and V1 is our best setting. \n",
        "#template='oztel_template_V0.py'\n",
        "template='oztel_template_V1.py'\n",
        "\n",
        "!python -u 'EM_Image_Segmentation-1.0/sota_implementations/oztel_2017/'$template '/content/EM_Image_Segmentation-1.0' '/content/dataset' '/content/out_dir' --id 'test_job' --rid 0 --gpu 0"
      ],
      "execution_count": null,
      "outputs": []
    }
  ]
}